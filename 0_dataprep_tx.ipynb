{
 "cells": [
  {
   "attachments": {},
   "cell_type": "markdown",
   "metadata": {},
   "source": [
    "# TX Motor Vehicle Registrations"
   ]
  },
  {
   "attachments": {},
   "cell_type": "markdown",
   "metadata": {},
   "source": [
    "## Environment"
   ]
  },
  {
   "cell_type": "code",
   "execution_count": 1,
   "metadata": {},
   "outputs": [],
   "source": [
    "# packages\n",
    "import pandas as pd"
   ]
  },
  {
   "attachments": {},
   "cell_type": "markdown",
   "metadata": {},
   "source": [
    "## Data Load"
   ]
  },
  {
   "cell_type": "code",
   "execution_count": 2,
   "metadata": {},
   "outputs": [
    {
     "name": "stdout",
     "output_type": "stream",
     "text": [
      "(29053057, 18)\n",
      "df obs:  29,053,057\n"
     ]
    }
   ],
   "source": [
    "# texas mvr data\n",
    "\n",
    "df = pd.read_parquet('data/tx_mvr/tx_mvr_out.parquet')\n",
    "\n",
    "print(df.shape)\n",
    "print('df obs: ',f\"{df.shape[0]:,d}\")"
   ]
  },
  {
   "cell_type": "code",
   "execution_count": null,
   "metadata": {},
   "outputs": [],
   "source": [
    "pd.to_datetime(df['SALE_DATE'],format='%Y-%m-%d')"
   ]
  },
  {
   "cell_type": "code",
   "execution_count": null,
   "metadata": {},
   "outputs": [],
   "source": [
    "# convert mvr_sale_date to datetime\n",
    "tx['mvr_sale_date'] = pd.to_datetime(tx['mvr_sale_date'].str.replace(\"'\", \"\"), format='%Y-%m-%d')"
   ]
  },
  {
   "cell_type": "code",
   "execution_count": null,
   "metadata": {},
   "outputs": [],
   "source": [
    "# set dates dtype\n",
    "df['SALE_DATE'] = pd.to_datetime(df['SALE_DATE'],format='%Y-%m-%d')\n",
    "df['TTL_SIGNED_DATE'] = pd.to_datetime(df['TTL_SIGNED_DATE'],format='%Y%m%d')\n"
   ]
  },
  {
   "cell_type": "code",
   "execution_count": 6,
   "metadata": {},
   "outputs": [
    {
     "name": "stdout",
     "output_type": "stream",
     "text": [
      "<class 'pandas.core.frame.DataFrame'>\n",
      "RangeIndex: 29053057 entries, 0 to 29053056\n",
      "Data columns (total 18 columns):\n",
      " #   Column            Dtype   \n",
      "---  ------            -----   \n",
      " 0   VIN               object  \n",
      " 1   SALE_DATE         object  \n",
      " 2   SALES_PRICE       float32 \n",
      " 3   ODOMETER_BRAND    category\n",
      " 4   ODOMETER_READING  object  \n",
      " 5   DOCNO             object  \n",
      " 6   VEHYEAR           int16   \n",
      " 7   MAKE              category\n",
      " 8   MODEL             category\n",
      " 9   BODY_TYPE         category\n",
      " 10  OWNERSHIP_CD      category\n",
      " 11  TTL_SIGNED_DATE   int64   \n",
      " 12  OWNER_ZIP         category\n",
      " 13  OWNER_ZIP+4       category\n",
      " 14  RENEW_ZIP         category\n",
      " 15  RENEW_ZIP+4       category\n",
      " 16  RECONDITION_CD    category\n",
      " 17  SALVSTATECNTRY    category\n",
      "dtypes: category(11), float32(1), int16(1), int64(1), object(4)\n",
      "memory usage: 1.8+ GB\n"
     ]
    }
   ],
   "source": [
    "df.info(show_counts=False)"
   ]
  },
  {
   "attachments": {},
   "cell_type": "markdown",
   "metadata": {},
   "source": [
    "## Basic Data Info"
   ]
  },
  {
   "cell_type": "code",
   "execution_count": 7,
   "metadata": {},
   "outputs": [
    {
     "data": {
      "text/plain": [
       "VIN                 22726693\n",
       "SALE_DATE               1487\n",
       "SALES_PRICE          2604223\n",
       "ODOMETER_BRAND             3\n",
       "ODOMETER_READING      280750\n",
       "DOCNO               29053057\n",
       "VEHYEAR                  138\n",
       "MAKE                   23254\n",
       "MODEL                  21061\n",
       "BODY_TYPE                445\n",
       "OWNERSHIP_CD              28\n",
       "TTL_SIGNED_DATE         9013\n",
       "OWNER_ZIP              24157\n",
       "OWNER_ZIP+4            10031\n",
       "RENEW_ZIP               8003\n",
       "RENEW_ZIP+4             9611\n",
       "RECONDITION_CD             4\n",
       "SALVSTATECNTRY           163\n",
       "dtype: int64"
      ]
     },
     "execution_count": 7,
     "metadata": {},
     "output_type": "execute_result"
    }
   ],
   "source": [
    "df.nunique()"
   ]
  },
  {
   "cell_type": "code",
   "execution_count": 20,
   "metadata": {},
   "outputs": [
    {
     "data": {
      "text/html": [
       "<div>\n",
       "<style scoped>\n",
       "    .dataframe tbody tr th:only-of-type {\n",
       "        vertical-align: middle;\n",
       "    }\n",
       "\n",
       "    .dataframe tbody tr th {\n",
       "        vertical-align: top;\n",
       "    }\n",
       "\n",
       "    .dataframe thead th {\n",
       "        text-align: right;\n",
       "    }\n",
       "</style>\n",
       "<table border=\"1\" class=\"dataframe\">\n",
       "  <thead>\n",
       "    <tr style=\"text-align: right;\">\n",
       "      <th></th>\n",
       "      <th>3571007</th>\n",
       "      <th>622989</th>\n",
       "      <th>3161969</th>\n",
       "      <th>6870996</th>\n",
       "      <th>4216081</th>\n",
       "    </tr>\n",
       "  </thead>\n",
       "  <tbody>\n",
       "    <tr>\n",
       "      <th>VIN</th>\n",
       "      <td>1FAFP4048WF189346</td>\n",
       "      <td>1FTRX18L6XKA85447</td>\n",
       "      <td>WBA3B1G59FNT63405</td>\n",
       "      <td>1FTEW1CP8JKE65148</td>\n",
       "      <td>1GT49REY1NF312911</td>\n",
       "    </tr>\n",
       "    <tr>\n",
       "      <th>SALE_DATE</th>\n",
       "      <td>'2022-09-01'</td>\n",
       "      <td>'2018-02-22'</td>\n",
       "      <td>'2018-01-31'</td>\n",
       "      <td>'2018-11-26'</td>\n",
       "      <td>'2022-08-10'</td>\n",
       "    </tr>\n",
       "    <tr>\n",
       "      <th>SALES_PRICE</th>\n",
       "      <td>2200.0</td>\n",
       "      <td>1320.0</td>\n",
       "      <td>21000.0</td>\n",
       "      <td>38941.77</td>\n",
       "      <td>90859.95</td>\n",
       "    </tr>\n",
       "    <tr>\n",
       "      <th>ODOMETER_BRAND</th>\n",
       "      <td>NaN</td>\n",
       "      <td>NaN</td>\n",
       "      <td>A</td>\n",
       "      <td>A</td>\n",
       "      <td>A</td>\n",
       "    </tr>\n",
       "    <tr>\n",
       "      <th>ODOMETER_READING</th>\n",
       "      <td>EXEMPT</td>\n",
       "      <td>EXEMPT</td>\n",
       "      <td>21658</td>\n",
       "      <td>188</td>\n",
       "      <td>8</td>\n",
       "    </tr>\n",
       "    <tr>\n",
       "      <th>DOCNO</th>\n",
       "      <td>13325044803155511</td>\n",
       "      <td>14610143151152546</td>\n",
       "      <td>10130643129250101</td>\n",
       "      <td>1535443428250149</td>\n",
       "      <td>19930244781081750</td>\n",
       "    </tr>\n",
       "    <tr>\n",
       "      <th>VEHYEAR</th>\n",
       "      <td>1998</td>\n",
       "      <td>1999</td>\n",
       "      <td>2015</td>\n",
       "      <td>2018</td>\n",
       "      <td>2022</td>\n",
       "    </tr>\n",
       "    <tr>\n",
       "      <th>MAKE</th>\n",
       "      <td>FORD</td>\n",
       "      <td>FORD</td>\n",
       "      <td>BMW</td>\n",
       "      <td>FORD</td>\n",
       "      <td>GMC</td>\n",
       "    </tr>\n",
       "    <tr>\n",
       "      <th>MODEL</th>\n",
       "      <td>MUS</td>\n",
       "      <td>NaN</td>\n",
       "      <td>320</td>\n",
       "      <td>F15</td>\n",
       "      <td>SIE</td>\n",
       "    </tr>\n",
       "    <tr>\n",
       "      <th>BODY_TYPE</th>\n",
       "      <td>CP</td>\n",
       "      <td>PK</td>\n",
       "      <td>4D</td>\n",
       "      <td>PK</td>\n",
       "      <td>PK</td>\n",
       "    </tr>\n",
       "    <tr>\n",
       "      <th>OWNERSHIP_CD</th>\n",
       "      <td>1.0</td>\n",
       "      <td>12.0</td>\n",
       "      <td>1.0</td>\n",
       "      <td>6.0</td>\n",
       "      <td>6.0</td>\n",
       "    </tr>\n",
       "    <tr>\n",
       "      <th>TTL_SIGNED_DATE</th>\n",
       "      <td>20220805</td>\n",
       "      <td>20180222</td>\n",
       "      <td>20171227</td>\n",
       "      <td>20181105</td>\n",
       "      <td>20220630</td>\n",
       "    </tr>\n",
       "    <tr>\n",
       "      <th>OWNER_ZIP</th>\n",
       "      <td>78028</td>\n",
       "      <td>77327</td>\n",
       "      <td>77346</td>\n",
       "      <td>78228</td>\n",
       "      <td>75032</td>\n",
       "    </tr>\n",
       "    <tr>\n",
       "      <th>OWNER_ZIP+4</th>\n",
       "      <td>NaN</td>\n",
       "      <td>NaN</td>\n",
       "      <td>NaN</td>\n",
       "      <td>NaN</td>\n",
       "      <td>NaN</td>\n",
       "    </tr>\n",
       "    <tr>\n",
       "      <th>RENEW_ZIP</th>\n",
       "      <td>NaN</td>\n",
       "      <td>NaN</td>\n",
       "      <td>NaN</td>\n",
       "      <td>NaN</td>\n",
       "      <td>NaN</td>\n",
       "    </tr>\n",
       "    <tr>\n",
       "      <th>RENEW_ZIP+4</th>\n",
       "      <td>NaN</td>\n",
       "      <td>NaN</td>\n",
       "      <td>NaN</td>\n",
       "      <td>NaN</td>\n",
       "      <td>NaN</td>\n",
       "    </tr>\n",
       "    <tr>\n",
       "      <th>RECONDITION_CD</th>\n",
       "      <td>NaN</td>\n",
       "      <td>NaN</td>\n",
       "      <td>NaN</td>\n",
       "      <td>NaN</td>\n",
       "      <td>NaN</td>\n",
       "    </tr>\n",
       "    <tr>\n",
       "      <th>SALVSTATECNTRY</th>\n",
       "      <td>NaN</td>\n",
       "      <td>NaN</td>\n",
       "      <td>NaN</td>\n",
       "      <td>NaN</td>\n",
       "      <td>NaN</td>\n",
       "    </tr>\n",
       "  </tbody>\n",
       "</table>\n",
       "</div>"
      ],
      "text/plain": [
       "                            3571007            622989             3161969  \\\n",
       "VIN               1FAFP4048WF189346  1FTRX18L6XKA85447  WBA3B1G59FNT63405   \n",
       "SALE_DATE              '2022-09-01'       '2018-02-22'       '2018-01-31'   \n",
       "SALES_PRICE                  2200.0             1320.0            21000.0   \n",
       "ODOMETER_BRAND                  NaN                NaN                  A   \n",
       "ODOMETER_READING             EXEMPT             EXEMPT              21658   \n",
       "DOCNO             13325044803155511  14610143151152546  10130643129250101   \n",
       "VEHYEAR                        1998               1999               2015   \n",
       "MAKE                           FORD               FORD               BMW    \n",
       "MODEL                           MUS                NaN                320   \n",
       "BODY_TYPE                        CP                 PK                 4D   \n",
       "OWNERSHIP_CD                    1.0               12.0                1.0   \n",
       "TTL_SIGNED_DATE            20220805           20180222           20171227   \n",
       "OWNER_ZIP                     78028              77327              77346   \n",
       "OWNER_ZIP+4                     NaN                NaN                NaN   \n",
       "RENEW_ZIP                       NaN                NaN                NaN   \n",
       "RENEW_ZIP+4                     NaN                NaN                NaN   \n",
       "RECONDITION_CD                  NaN                NaN                NaN   \n",
       "SALVSTATECNTRY                  NaN                NaN                NaN   \n",
       "\n",
       "                            6870996            4216081  \n",
       "VIN               1FTEW1CP8JKE65148  1GT49REY1NF312911  \n",
       "SALE_DATE              '2018-11-26'       '2022-08-10'  \n",
       "SALES_PRICE                38941.77           90859.95  \n",
       "ODOMETER_BRAND                    A                  A  \n",
       "ODOMETER_READING                188                  8  \n",
       "DOCNO              1535443428250149  19930244781081750  \n",
       "VEHYEAR                        2018               2022  \n",
       "MAKE                           FORD               GMC   \n",
       "MODEL                           F15                SIE  \n",
       "BODY_TYPE                        PK                 PK  \n",
       "OWNERSHIP_CD                    6.0                6.0  \n",
       "TTL_SIGNED_DATE            20181105           20220630  \n",
       "OWNER_ZIP                     78228              75032  \n",
       "OWNER_ZIP+4                     NaN                NaN  \n",
       "RENEW_ZIP                       NaN                NaN  \n",
       "RENEW_ZIP+4                     NaN                NaN  \n",
       "RECONDITION_CD                  NaN                NaN  \n",
       "SALVSTATECNTRY                  NaN                NaN  "
      ]
     },
     "execution_count": 20,
     "metadata": {},
     "output_type": "execute_result"
    }
   ],
   "source": [
    "# data sample\n",
    "df.sample(5).T"
   ]
  },
  {
   "cell_type": "code",
   "execution_count": 22,
   "metadata": {},
   "outputs": [
    {
     "data": {
      "text/html": [
       "<div>\n",
       "<style scoped>\n",
       "    .dataframe tbody tr th:only-of-type {\n",
       "        vertical-align: middle;\n",
       "    }\n",
       "\n",
       "    .dataframe tbody tr th {\n",
       "        vertical-align: top;\n",
       "    }\n",
       "\n",
       "    .dataframe thead th {\n",
       "        text-align: right;\n",
       "    }\n",
       "</style>\n",
       "<table border=\"1\" class=\"dataframe\">\n",
       "  <thead>\n",
       "    <tr style=\"text-align: right;\">\n",
       "      <th></th>\n",
       "      <th>SALES_PRICE</th>\n",
       "      <th>DOCNO</th>\n",
       "      <th>VEHYEAR</th>\n",
       "      <th>OWNERSHIP_CD</th>\n",
       "      <th>TTL_SIGNED_DATE</th>\n",
       "      <th>OWNER_ZIP+4</th>\n",
       "      <th>RENEW_ZIP</th>\n",
       "      <th>RENEW_ZIP+4</th>\n",
       "      <th>RECONDITION_CD</th>\n",
       "    </tr>\n",
       "  </thead>\n",
       "  <tbody>\n",
       "    <tr>\n",
       "      <th>count</th>\n",
       "      <td>2546250.0</td>\n",
       "      <td>3.319455e+06</td>\n",
       "      <td>3319455.0</td>\n",
       "      <td>3243168.0</td>\n",
       "      <td>3319455.0</td>\n",
       "      <td>189105.0</td>\n",
       "      <td>145369.0</td>\n",
       "      <td>14242.0</td>\n",
       "      <td>216207.0</td>\n",
       "    </tr>\n",
       "    <tr>\n",
       "      <th>mean</th>\n",
       "      <td>19196.1</td>\n",
       "      <td>1.142992e+16</td>\n",
       "      <td>2010.9</td>\n",
       "      <td>4.3</td>\n",
       "      <td>20179027.9</td>\n",
       "      <td>4169.8</td>\n",
       "      <td>75998.6</td>\n",
       "      <td>4067.1</td>\n",
       "      <td>2.5</td>\n",
       "    </tr>\n",
       "    <tr>\n",
       "      <th>std</th>\n",
       "      <td>62560.9</td>\n",
       "      <td>7.282293e+15</td>\n",
       "      <td>8.3</td>\n",
       "      <td>5.0</td>\n",
       "      <td>5007.3</td>\n",
       "      <td>2502.8</td>\n",
       "      <td>6479.5</td>\n",
       "      <td>2386.2</td>\n",
       "      <td>0.9</td>\n",
       "    </tr>\n",
       "    <tr>\n",
       "      <th>min</th>\n",
       "      <td>0.0</td>\n",
       "      <td>1.000431e+14</td>\n",
       "      <td>1882.0</td>\n",
       "      <td>1.0</td>\n",
       "      <td>19480317.0</td>\n",
       "      <td>-751.0</td>\n",
       "      <td>1702.0</td>\n",
       "      <td>-220.0</td>\n",
       "      <td>1.0</td>\n",
       "    </tr>\n",
       "    <tr>\n",
       "      <th>25%</th>\n",
       "      <td>3000.0</td>\n",
       "      <td>5.744943e+15</td>\n",
       "      <td>2006.0</td>\n",
       "      <td>1.0</td>\n",
       "      <td>20180129.0</td>\n",
       "      <td>2114.0</td>\n",
       "      <td>75261.0</td>\n",
       "      <td>2210.0</td>\n",
       "      <td>2.0</td>\n",
       "    </tr>\n",
       "    <tr>\n",
       "      <th>50%</th>\n",
       "      <td>15355.7</td>\n",
       "      <td>1.013124e+16</td>\n",
       "      <td>2014.0</td>\n",
       "      <td>3.0</td>\n",
       "      <td>20180313.0</td>\n",
       "      <td>4141.0</td>\n",
       "      <td>77042.0</td>\n",
       "      <td>3929.5</td>\n",
       "      <td>2.0</td>\n",
       "    </tr>\n",
       "    <tr>\n",
       "      <th>75%</th>\n",
       "      <td>28686.0</td>\n",
       "      <td>1.783084e+16</td>\n",
       "      <td>2017.0</td>\n",
       "      <td>6.0</td>\n",
       "      <td>20180427.0</td>\n",
       "      <td>5852.0</td>\n",
       "      <td>78216.0</td>\n",
       "      <td>5667.0</td>\n",
       "      <td>4.0</td>\n",
       "    </tr>\n",
       "    <tr>\n",
       "      <th>max</th>\n",
       "      <td>85022151.0</td>\n",
       "      <td>2.973504e+16</td>\n",
       "      <td>2020.0</td>\n",
       "      <td>28.0</td>\n",
       "      <td>20180630.0</td>\n",
       "      <td>9999.0</td>\n",
       "      <td>99705.0</td>\n",
       "      <td>9800.0</td>\n",
       "      <td>4.0</td>\n",
       "    </tr>\n",
       "  </tbody>\n",
       "</table>\n",
       "</div>"
      ],
      "text/plain": [
       "       SALES_PRICE         DOCNO    VEHYEAR  OWNERSHIP_CD  TTL_SIGNED_DATE  \\\n",
       "count    2546250.0  3.319455e+06  3319455.0     3243168.0        3319455.0   \n",
       "mean       19196.1  1.142992e+16     2010.9           4.3       20179027.9   \n",
       "std        62560.9  7.282293e+15        8.3           5.0           5007.3   \n",
       "min            0.0  1.000431e+14     1882.0           1.0       19480317.0   \n",
       "25%         3000.0  5.744943e+15     2006.0           1.0       20180129.0   \n",
       "50%        15355.7  1.013124e+16     2014.0           3.0       20180313.0   \n",
       "75%        28686.0  1.783084e+16     2017.0           6.0       20180427.0   \n",
       "max     85022151.0  2.973504e+16     2020.0          28.0       20180630.0   \n",
       "\n",
       "       OWNER_ZIP+4  RENEW_ZIP  RENEW_ZIP+4  RECONDITION_CD  \n",
       "count     189105.0   145369.0      14242.0        216207.0  \n",
       "mean        4169.8    75998.6       4067.1             2.5  \n",
       "std         2502.8     6479.5       2386.2             0.9  \n",
       "min         -751.0     1702.0       -220.0             1.0  \n",
       "25%         2114.0    75261.0       2210.0             2.0  \n",
       "50%         4141.0    77042.0       3929.5             2.0  \n",
       "75%         5852.0    78216.0       5667.0             4.0  \n",
       "max         9999.0    99705.0       9800.0             4.0  "
      ]
     },
     "execution_count": 22,
     "metadata": {},
     "output_type": "execute_result"
    }
   ],
   "source": [
    "# numeric\n",
    "df.describe().round(decimals = 1)"
   ]
  },
  {
   "cell_type": "code",
   "execution_count": 23,
   "metadata": {},
   "outputs": [
    {
     "data": {
      "text/html": [
       "<div>\n",
       "<style scoped>\n",
       "    .dataframe tbody tr th:only-of-type {\n",
       "        vertical-align: middle;\n",
       "    }\n",
       "\n",
       "    .dataframe tbody tr th {\n",
       "        vertical-align: top;\n",
       "    }\n",
       "\n",
       "    .dataframe thead th {\n",
       "        text-align: right;\n",
       "    }\n",
       "</style>\n",
       "<table border=\"1\" class=\"dataframe\">\n",
       "  <thead>\n",
       "    <tr style=\"text-align: right;\">\n",
       "      <th></th>\n",
       "      <th>VIN</th>\n",
       "      <th>SALE_DATE</th>\n",
       "      <th>ODOMETER_BRAND</th>\n",
       "      <th>ODOMETER_READING</th>\n",
       "      <th>MAKE</th>\n",
       "      <th>MODEL</th>\n",
       "      <th>BODY_TYPE</th>\n",
       "      <th>OWNER_ZIP</th>\n",
       "      <th>SALVSTATECNTRY</th>\n",
       "    </tr>\n",
       "  </thead>\n",
       "  <tbody>\n",
       "    <tr>\n",
       "      <th>count</th>\n",
       "      <td>3281777</td>\n",
       "      <td>3319455</td>\n",
       "      <td>1974988</td>\n",
       "      <td>3062742</td>\n",
       "      <td>3319455</td>\n",
       "      <td>2536368</td>\n",
       "      <td>3319453</td>\n",
       "      <td>3319455</td>\n",
       "      <td>59358</td>\n",
       "    </tr>\n",
       "    <tr>\n",
       "      <th>unique</th>\n",
       "      <td>3201901</td>\n",
       "      <td>155</td>\n",
       "      <td>3</td>\n",
       "      <td>182242</td>\n",
       "      <td>8744</td>\n",
       "      <td>11045</td>\n",
       "      <td>235</td>\n",
       "      <td>10680</td>\n",
       "      <td>83</td>\n",
       "    </tr>\n",
       "    <tr>\n",
       "      <th>top</th>\n",
       "      <td>1D7HA18N73J593074</td>\n",
       "      <td>'2018-04-04'</td>\n",
       "      <td>A</td>\n",
       "      <td>EXEMPT</td>\n",
       "      <td>FORD</td>\n",
       "      <td>F15</td>\n",
       "      <td>4D</td>\n",
       "      <td>74134</td>\n",
       "      <td>LA</td>\n",
       "    </tr>\n",
       "    <tr>\n",
       "      <th>freq</th>\n",
       "      <td>4</td>\n",
       "      <td>31384</td>\n",
       "      <td>1953462</td>\n",
       "      <td>1087754</td>\n",
       "      <td>496104</td>\n",
       "      <td>78111</td>\n",
       "      <td>926699</td>\n",
       "      <td>44637</td>\n",
       "      <td>11072</td>\n",
       "    </tr>\n",
       "  </tbody>\n",
       "</table>\n",
       "</div>"
      ],
      "text/plain": [
       "                      VIN     SALE_DATE ODOMETER_BRAND ODOMETER_READING  \\\n",
       "count             3281777       3319455        1974988          3062742   \n",
       "unique            3201901           155              3           182242   \n",
       "top     1D7HA18N73J593074  '2018-04-04'              A           EXEMPT   \n",
       "freq                    4         31384        1953462          1087754   \n",
       "\n",
       "           MAKE    MODEL BODY_TYPE OWNER_ZIP SALVSTATECNTRY  \n",
       "count   3319455  2536368   3319453   3319455          59358  \n",
       "unique     8744    11045       235     10680             83  \n",
       "top        FORD      F15        4D     74134             LA  \n",
       "freq     496104    78111    926699     44637          11072  "
      ]
     },
     "execution_count": 23,
     "metadata": {},
     "output_type": "execute_result"
    }
   ],
   "source": [
    "# non-numeric\n",
    "df.describe(include = ['object','category'])"
   ]
  },
  {
   "cell_type": "code",
   "execution_count": null,
   "metadata": {},
   "outputs": [],
   "source": [
    "# dates\n",
    "df.describe(include = ['datetime'], datetime_is_numeric=True)"
   ]
  },
  {
   "attachments": {},
   "cell_type": "markdown",
   "metadata": {},
   "source": [
    "## Filter Used Autos and Trucks"
   ]
  },
  {
   "cell_type": "code",
   "execution_count": 24,
   "metadata": {},
   "outputs": [
    {
     "name": "stdout",
     "output_type": "stream",
     "text": [
      "4D    926699\n",
      "LL    888061\n",
      "PK    665774\n",
      "VN    110805\n",
      "UT    110728\n",
      "       ...  \n",
      "SO         1\n",
      "MX         1\n",
      "W4         1\n",
      "6D         1\n",
      "U          1\n",
      "Name: BODY_TYPE, Length: 236, dtype: int64\n"
     ]
    }
   ],
   "source": [
    "# vehicle types\n",
    "print(df['BODY_TYPE'].value_counts(dropna=False))"
   ]
  },
  {
   "cell_type": "code",
   "execution_count": null,
   "metadata": {},
   "outputs": [],
   "source": [
    "# filter to auto/truck only\n",
    "print(f'all obs: {df.shape[0]:,d}')\n",
    "df.drop(df[~df['vehicle_type'].isin(['AUTO','TRUCK'])].index, inplace=True)\n",
    "print(f'auto/truck only obs: {df.shape[0]:,d}')"
   ]
  },
  {
   "cell_type": "code",
   "execution_count": null,
   "metadata": {},
   "outputs": [],
   "source": [
    "# new / used\n",
    "print(df['new_used'].value_counts(dropna=False))"
   ]
  },
  {
   "cell_type": "code",
   "execution_count": null,
   "metadata": {},
   "outputs": [],
   "source": [
    "# filter to used only\n",
    "print(f'all obs: {df.shape[0]:,d}')\n",
    "df.drop(df[df['new_used'] == 'N'].index, inplace=True)\n",
    "print(f'used only obs: {df.shape[0]:,d}')\n"
   ]
  },
  {
   "attachments": {},
   "cell_type": "markdown",
   "metadata": {},
   "source": [
    "## VINs"
   ]
  },
  {
   "attachments": {},
   "cell_type": "markdown",
   "metadata": {},
   "source": [
    "Duplicate VINs need to be worked on"
   ]
  },
  {
   "cell_type": "code",
   "execution_count": null,
   "metadata": {},
   "outputs": [],
   "source": [
    "print('obs: {0:,d}'.format(df.shape[0]))\n",
    "print('unique vins: {0:,d}'.format(df['vin'].unique().shape[0]))"
   ]
  },
  {
   "cell_type": "markdown",
   "metadata": {},
   "source": []
  },
  {
   "attachments": {},
   "cell_type": "markdown",
   "metadata": {},
   "source": [
    "## Prices"
   ]
  },
  {
   "attachments": {},
   "cell_type": "markdown",
   "metadata": {},
   "source": [
    "Have got some price issues\n",
    "- Lots of missing with 0 filler\n",
    "- Very high values"
   ]
  },
  {
   "cell_type": "code",
   "execution_count": null,
   "metadata": {},
   "outputs": [],
   "source": [
    "num = df.shape[0]\n",
    "print('total obs: ',f\"{num:,d}\")\n",
    "\n",
    "num = (df['price'] < 0.1).sum()\n",
    "print('0 prices: ',f\"{num:,d}\")\n",
    "\n",
    "num = (df['price'] > 10000).sum()\n",
    "print('prices > 10,000: ',f\"{num:,d}\")\n",
    "\n",
    "num = ((df['price'] > 0.1) & (df['price'] < 10000)).sum()\n",
    "print('prices between: ',f\"{num:,d}\")"
   ]
  },
  {
   "cell_type": "code",
   "execution_count": null,
   "metadata": {},
   "outputs": [],
   "source": [
    "# hist prices between $0.1 and $10,000\n",
    "df[((df['price'] > 0.1) & (df['price'] < 10000))]['price'].hist()"
   ]
  },
  {
   "attachments": {},
   "cell_type": "markdown",
   "metadata": {},
   "source": [
    "### High Prices"
   ]
  },
  {
   "cell_type": "code",
   "execution_count": null,
   "metadata": {},
   "outputs": [],
   "source": [
    "pd.set_option('display.max_rows', 100)"
   ]
  },
  {
   "cell_type": "code",
   "execution_count": null,
   "metadata": {},
   "outputs": [],
   "source": [
    "df.sort_values(by='price', ascending=False).head(50).reset_index()"
   ]
  },
  {
   "cell_type": "code",
   "execution_count": null,
   "metadata": {},
   "outputs": [],
   "source": [
    "# between $1m and $10m\n",
    "condition_low = df['price'] > 1000000\n",
    "condition_high = df['price'] < 10000000\n",
    "df[condition_low & condition_high]['price'].hist()"
   ]
  },
  {
   "attachments": {},
   "cell_type": "markdown",
   "metadata": {},
   "source": [
    "I suspect some counties are adding zeros for decimal\n",
    "\n",
    "- 1m = $10,000.00\n",
    "- 10m = $100,000.00"
   ]
  },
  {
   "attachments": {},
   "cell_type": "markdown",
   "metadata": {},
   "source": [
    "### Distributions by County"
   ]
  },
  {
   "cell_type": "code",
   "execution_count": null,
   "metadata": {},
   "outputs": [],
   "source": [
    "# mean prices by county\n",
    "\n",
    "nums = df.groupby('county')['price'].mean().sort_values(ascending=False)\n",
    "index = nums.index\n",
    "\n",
    "for i in range(len(nums)):\n",
    "    print(\"{}: ${:0,.2f}\".format(index[i],nums[i]))"
   ]
  },
  {
   "cell_type": "code",
   "execution_count": null,
   "metadata": {},
   "outputs": [],
   "source": [
    "# median prices by county\n",
    "\n",
    "nums = df.groupby('county')['price'].median().sort_values(ascending=False)\n",
    "index = nums.index\n",
    "\n",
    "for i in range(len(nums)):\n",
    "    print(\"{}: ${:0,.2f}\".format(index[i],nums[i]))"
   ]
  },
  {
   "cell_type": "code",
   "execution_count": null,
   "metadata": {},
   "outputs": [],
   "source": [
    "groups = df.groupby('county')\n",
    "\n",
    "for name, group in groups:\n",
    "    print(name)\n",
    "    print(group['price'].describe().round(decimals = 1))"
   ]
  },
  {
   "attachments": {},
   "cell_type": "markdown",
   "metadata": {},
   "source": [
    "## The Rest"
   ]
  },
  {
   "cell_type": "code",
   "execution_count": null,
   "metadata": {},
   "outputs": [],
   "source": [
    "# null counts\n",
    "pd.DataFrame({'count':df.isna().sum()\n",
    "             ,'percent':(df.isna().sum()/df.shape[0]).round(decimals=2)}\n",
    "    ).sort_values(by='count', ascending=False)"
   ]
  },
  {
   "cell_type": "code",
   "execution_count": null,
   "metadata": {},
   "outputs": [],
   "source": [
    "# 0 or filler counts"
   ]
  }
 ],
 "metadata": {
  "kernelspec": {
   "display_name": "base",
   "language": "python",
   "name": "python3"
  },
  "language_info": {
   "codemirror_mode": {
    "name": "ipython",
    "version": 3
   },
   "file_extension": ".py",
   "mimetype": "text/x-python",
   "name": "python",
   "nbconvert_exporter": "python",
   "pygments_lexer": "ipython3",
   "version": "3.9.13"
  },
  "orig_nbformat": 4,
  "vscode": {
   "interpreter": {
    "hash": "9ce51b511e31678062ea377e4f294f92e7c7692784d9643ac534d9eb5246e9c5"
   }
  }
 },
 "nbformat": 4,
 "nbformat_minor": 2
}
