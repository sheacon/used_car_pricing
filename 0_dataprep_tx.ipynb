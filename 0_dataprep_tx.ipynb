{
 "cells": [
  {
   "attachments": {},
   "cell_type": "markdown",
   "metadata": {},
   "source": [
    "# TX Motor Vehicle Registrations"
   ]
  },
  {
   "attachments": {},
   "cell_type": "markdown",
   "metadata": {},
   "source": [
    "## Environment"
   ]
  },
  {
   "cell_type": "code",
   "execution_count": 7,
   "metadata": {},
   "outputs": [],
   "source": [
    "# packages\n",
    "import pandas as pd"
   ]
  },
  {
   "attachments": {},
   "cell_type": "markdown",
   "metadata": {},
   "source": [
    "## Data Load"
   ]
  },
  {
   "cell_type": "code",
   "execution_count": 18,
   "metadata": {},
   "outputs": [
    {
     "name": "stdout",
     "output_type": "stream",
     "text": [
      "(3319455, 18)\n",
      "df obs:  3,319,455\n"
     ]
    }
   ],
   "source": [
    "# texas mvr data\n",
    "\n",
    "df = pd.read_csv('data/tx_mvr/PIR - 296985-1.zip', compression='zip', low_memory=False, on_bad_lines = 'skip')\n",
    "\n",
    "print(df.shape)\n",
    "print('df obs: ',f\"{df.shape[0]:,d}\")"
   ]
  },
  {
   "cell_type": "code",
   "execution_count": null,
   "metadata": {},
   "outputs": [],
   "source": [
    "# set dates dtype\n",
    "df['SALE_DATE'] = pd.to_datetime(df['SALE_DATE'],format='%Y-%m-%d')\n",
    "df['TTL_SIGNED_DATE'] = pd.to_datetime(df['TTL_SIGNED_DATE'],format='%Y%m%d')\n"
   ]
  },
  {
   "cell_type": "code",
   "execution_count": 16,
   "metadata": {},
   "outputs": [
    {
     "name": "stdout",
     "output_type": "stream",
     "text": [
      "<class 'pandas.core.frame.DataFrame'>\n",
      "RangeIndex: 3319455 entries, 0 to 3319454\n",
      "Data columns (total 18 columns):\n",
      " #   Column            Dtype         \n",
      "---  ------            -----         \n",
      " 0   VIN               object        \n",
      " 1   SALE_DATE         datetime64[ns]\n",
      " 2   SALES_PRICE       float64       \n",
      " 3   ODOMETER_BRAND    object        \n",
      " 4   ODOMETER_READING  object        \n",
      " 5   DOCNO             int64         \n",
      " 6   VEHYEAR           int64         \n",
      " 7   MAKE              object        \n",
      " 8   MODEL             object        \n",
      " 9   BODY_TYPE         object        \n",
      " 10  OWNERSHIP_CD      float64       \n",
      " 11  TTL_SIGNED_DATE   int64         \n",
      " 12  OWNER_ZIP         object        \n",
      " 13  OWNER_ZIP+4       float64       \n",
      " 14  RENEW_ZIP         float64       \n",
      " 15  RENEW_ZIP+4       float64       \n",
      " 16  RECONDITION_CD    float64       \n",
      " 17  SALVSTATECNTRY    object        \n",
      "dtypes: datetime64[ns](1), float64(6), int64(3), object(8)\n",
      "memory usage: 455.9+ MB\n"
     ]
    }
   ],
   "source": [
    "df.info(show_counts=False)"
   ]
  },
  {
   "attachments": {},
   "cell_type": "markdown",
   "metadata": {},
   "source": [
    "## Basic Data Info"
   ]
  },
  {
   "cell_type": "code",
   "execution_count": 10,
   "metadata": {},
   "outputs": [
    {
     "data": {
      "text/plain": [
       "VIN                 3201901\n",
       "SALE_DATE               155\n",
       "SALES_PRICE          478552\n",
       "ODOMETER_BRAND            3\n",
       "ODOMETER_READING     182242\n",
       "DOCNO               3319455\n",
       "VEHYEAR                 119\n",
       "MAKE                   8744\n",
       "MODEL                 11045\n",
       "BODY_TYPE               235\n",
       "OWNERSHIP_CD             25\n",
       "TTL_SIGNED_DATE        3579\n",
       "OWNER_ZIP             10680\n",
       "OWNER_ZIP+4            9874\n",
       "RENEW_ZIP              3221\n",
       "RENEW_ZIP+4            6099\n",
       "RECONDITION_CD            4\n",
       "SALVSTATECNTRY           83\n",
       "dtype: int64"
      ]
     },
     "execution_count": 10,
     "metadata": {},
     "output_type": "execute_result"
    }
   ],
   "source": [
    "df.nunique()"
   ]
  },
  {
   "cell_type": "code",
   "execution_count": 21,
   "metadata": {},
   "outputs": [
    {
     "data": {
      "text/html": [
       "<div>\n",
       "<style scoped>\n",
       "    .dataframe tbody tr th:only-of-type {\n",
       "        vertical-align: middle;\n",
       "    }\n",
       "\n",
       "    .dataframe tbody tr th {\n",
       "        vertical-align: top;\n",
       "    }\n",
       "\n",
       "    .dataframe thead th {\n",
       "        text-align: right;\n",
       "    }\n",
       "</style>\n",
       "<table border=\"1\" class=\"dataframe\">\n",
       "  <thead>\n",
       "    <tr style=\"text-align: right;\">\n",
       "      <th></th>\n",
       "      <th>1211736</th>\n",
       "      <th>1723784</th>\n",
       "      <th>1614003</th>\n",
       "      <th>1091959</th>\n",
       "      <th>290963</th>\n",
       "    </tr>\n",
       "  </thead>\n",
       "  <tbody>\n",
       "    <tr>\n",
       "      <th>VIN</th>\n",
       "      <td>1J8GS48K97C572658</td>\n",
       "      <td>2T3ZFREV5JW446916</td>\n",
       "      <td>2GKFLUE5XC6391607</td>\n",
       "      <td>1HD1CZ318BC441766</td>\n",
       "      <td>1FAFP56U16A136207</td>\n",
       "    </tr>\n",
       "    <tr>\n",
       "      <th>SALE_DATE</th>\n",
       "      <td>'2018-02-23'</td>\n",
       "      <td>'2018-03-13'</td>\n",
       "      <td>'2018-06-11'</td>\n",
       "      <td>'2018-03-22'</td>\n",
       "      <td>'2018-04-11'</td>\n",
       "    </tr>\n",
       "    <tr>\n",
       "      <th>SALES_PRICE</th>\n",
       "      <td>NaN</td>\n",
       "      <td>24840.52</td>\n",
       "      <td>NaN</td>\n",
       "      <td>3960.0</td>\n",
       "      <td>1000.0</td>\n",
       "    </tr>\n",
       "    <tr>\n",
       "      <th>ODOMETER_BRAND</th>\n",
       "      <td>NaN</td>\n",
       "      <td>A</td>\n",
       "      <td>N</td>\n",
       "      <td>A</td>\n",
       "      <td>NaN</td>\n",
       "    </tr>\n",
       "    <tr>\n",
       "      <th>ODOMETER_READING</th>\n",
       "      <td>EXEMPT</td>\n",
       "      <td>4</td>\n",
       "      <td>73879</td>\n",
       "      <td>1466</td>\n",
       "      <td>EXEMPT</td>\n",
       "    </tr>\n",
       "    <tr>\n",
       "      <th>DOCNO</th>\n",
       "      <td>10160643152090556</td>\n",
       "      <td>10131243170250078</td>\n",
       "      <td>10820743260141046</td>\n",
       "      <td>330143179155809</td>\n",
       "      <td>8420243199111823</td>\n",
       "    </tr>\n",
       "    <tr>\n",
       "      <th>VEHYEAR</th>\n",
       "      <td>2007</td>\n",
       "      <td>2018</td>\n",
       "      <td>2012</td>\n",
       "      <td>2011</td>\n",
       "      <td>2006</td>\n",
       "    </tr>\n",
       "    <tr>\n",
       "      <th>MAKE</th>\n",
       "      <td>JEEP</td>\n",
       "      <td>TOYT</td>\n",
       "      <td>GMC</td>\n",
       "      <td>HD</td>\n",
       "      <td>FORD</td>\n",
       "    </tr>\n",
       "    <tr>\n",
       "      <th>MODEL</th>\n",
       "      <td>GC</td>\n",
       "      <td>RAV</td>\n",
       "      <td>TER</td>\n",
       "      <td>NaN</td>\n",
       "      <td>TAU</td>\n",
       "    </tr>\n",
       "    <tr>\n",
       "      <th>BODY_TYPE</th>\n",
       "      <td>LL</td>\n",
       "      <td>LL</td>\n",
       "      <td>LL</td>\n",
       "      <td>MC</td>\n",
       "      <td>4D</td>\n",
       "    </tr>\n",
       "    <tr>\n",
       "      <th>OWNERSHIP_CD</th>\n",
       "      <td>1.0</td>\n",
       "      <td>6.0</td>\n",
       "      <td>1.0</td>\n",
       "      <td>1.0</td>\n",
       "      <td>1.0</td>\n",
       "    </tr>\n",
       "    <tr>\n",
       "      <th>TTL_SIGNED_DATE</th>\n",
       "      <td>20180111</td>\n",
       "      <td>20180219</td>\n",
       "      <td>20180610</td>\n",
       "      <td>20180322</td>\n",
       "      <td>20180410</td>\n",
       "    </tr>\n",
       "    <tr>\n",
       "      <th>OWNER_ZIP</th>\n",
       "      <td>77338</td>\n",
       "      <td>77067</td>\n",
       "      <td>78541</td>\n",
       "      <td>75904</td>\n",
       "      <td>77562</td>\n",
       "    </tr>\n",
       "    <tr>\n",
       "      <th>OWNER_ZIP+4</th>\n",
       "      <td>NaN</td>\n",
       "      <td>NaN</td>\n",
       "      <td>NaN</td>\n",
       "      <td>NaN</td>\n",
       "      <td>NaN</td>\n",
       "    </tr>\n",
       "    <tr>\n",
       "      <th>RENEW_ZIP</th>\n",
       "      <td>NaN</td>\n",
       "      <td>NaN</td>\n",
       "      <td>NaN</td>\n",
       "      <td>NaN</td>\n",
       "      <td>NaN</td>\n",
       "    </tr>\n",
       "    <tr>\n",
       "      <th>RENEW_ZIP+4</th>\n",
       "      <td>NaN</td>\n",
       "      <td>NaN</td>\n",
       "      <td>NaN</td>\n",
       "      <td>NaN</td>\n",
       "      <td>NaN</td>\n",
       "    </tr>\n",
       "    <tr>\n",
       "      <th>RECONDITION_CD</th>\n",
       "      <td>NaN</td>\n",
       "      <td>NaN</td>\n",
       "      <td>4.0</td>\n",
       "      <td>NaN</td>\n",
       "      <td>NaN</td>\n",
       "    </tr>\n",
       "    <tr>\n",
       "      <th>SALVSTATECNTRY</th>\n",
       "      <td>NaN</td>\n",
       "      <td>NaN</td>\n",
       "      <td>NC</td>\n",
       "      <td>NaN</td>\n",
       "      <td>NaN</td>\n",
       "    </tr>\n",
       "  </tbody>\n",
       "</table>\n",
       "</div>"
      ],
      "text/plain": [
       "                            1211736            1723784            1614003  \\\n",
       "VIN               1J8GS48K97C572658  2T3ZFREV5JW446916  2GKFLUE5XC6391607   \n",
       "SALE_DATE              '2018-02-23'       '2018-03-13'       '2018-06-11'   \n",
       "SALES_PRICE                     NaN           24840.52                NaN   \n",
       "ODOMETER_BRAND                  NaN                  A                  N   \n",
       "ODOMETER_READING             EXEMPT                  4              73879   \n",
       "DOCNO             10160643152090556  10131243170250078  10820743260141046   \n",
       "VEHYEAR                        2007               2018               2012   \n",
       "MAKE                           JEEP               TOYT               GMC    \n",
       "MODEL                           GC                 RAV                TER   \n",
       "BODY_TYPE                        LL                 LL                 LL   \n",
       "OWNERSHIP_CD                    1.0                6.0                1.0   \n",
       "TTL_SIGNED_DATE            20180111           20180219           20180610   \n",
       "OWNER_ZIP                     77338              77067              78541   \n",
       "OWNER_ZIP+4                     NaN                NaN                NaN   \n",
       "RENEW_ZIP                       NaN                NaN                NaN   \n",
       "RENEW_ZIP+4                     NaN                NaN                NaN   \n",
       "RECONDITION_CD                  NaN                NaN                4.0   \n",
       "SALVSTATECNTRY                  NaN                NaN                 NC   \n",
       "\n",
       "                            1091959            290963   \n",
       "VIN               1HD1CZ318BC441766  1FAFP56U16A136207  \n",
       "SALE_DATE              '2018-03-22'       '2018-04-11'  \n",
       "SALES_PRICE                  3960.0             1000.0  \n",
       "ODOMETER_BRAND                    A                NaN  \n",
       "ODOMETER_READING               1466             EXEMPT  \n",
       "DOCNO               330143179155809   8420243199111823  \n",
       "VEHYEAR                        2011               2006  \n",
       "MAKE                           HD                 FORD  \n",
       "MODEL                           NaN                TAU  \n",
       "BODY_TYPE                        MC                 4D  \n",
       "OWNERSHIP_CD                    1.0                1.0  \n",
       "TTL_SIGNED_DATE            20180322           20180410  \n",
       "OWNER_ZIP                     75904              77562  \n",
       "OWNER_ZIP+4                     NaN                NaN  \n",
       "RENEW_ZIP                       NaN                NaN  \n",
       "RENEW_ZIP+4                     NaN                NaN  \n",
       "RECONDITION_CD                  NaN                NaN  \n",
       "SALVSTATECNTRY                  NaN                NaN  "
      ]
     },
     "execution_count": 21,
     "metadata": {},
     "output_type": "execute_result"
    }
   ],
   "source": [
    "# data sample\n",
    "df.sample(5).T"
   ]
  },
  {
   "cell_type": "code",
   "execution_count": 22,
   "metadata": {},
   "outputs": [
    {
     "data": {
      "text/html": [
       "<div>\n",
       "<style scoped>\n",
       "    .dataframe tbody tr th:only-of-type {\n",
       "        vertical-align: middle;\n",
       "    }\n",
       "\n",
       "    .dataframe tbody tr th {\n",
       "        vertical-align: top;\n",
       "    }\n",
       "\n",
       "    .dataframe thead th {\n",
       "        text-align: right;\n",
       "    }\n",
       "</style>\n",
       "<table border=\"1\" class=\"dataframe\">\n",
       "  <thead>\n",
       "    <tr style=\"text-align: right;\">\n",
       "      <th></th>\n",
       "      <th>SALES_PRICE</th>\n",
       "      <th>DOCNO</th>\n",
       "      <th>VEHYEAR</th>\n",
       "      <th>OWNERSHIP_CD</th>\n",
       "      <th>TTL_SIGNED_DATE</th>\n",
       "      <th>OWNER_ZIP+4</th>\n",
       "      <th>RENEW_ZIP</th>\n",
       "      <th>RENEW_ZIP+4</th>\n",
       "      <th>RECONDITION_CD</th>\n",
       "    </tr>\n",
       "  </thead>\n",
       "  <tbody>\n",
       "    <tr>\n",
       "      <th>count</th>\n",
       "      <td>2546250.0</td>\n",
       "      <td>3.319455e+06</td>\n",
       "      <td>3319455.0</td>\n",
       "      <td>3243168.0</td>\n",
       "      <td>3319455.0</td>\n",
       "      <td>189105.0</td>\n",
       "      <td>145369.0</td>\n",
       "      <td>14242.0</td>\n",
       "      <td>216207.0</td>\n",
       "    </tr>\n",
       "    <tr>\n",
       "      <th>mean</th>\n",
       "      <td>19196.1</td>\n",
       "      <td>1.142992e+16</td>\n",
       "      <td>2010.9</td>\n",
       "      <td>4.3</td>\n",
       "      <td>20179027.9</td>\n",
       "      <td>4169.8</td>\n",
       "      <td>75998.6</td>\n",
       "      <td>4067.1</td>\n",
       "      <td>2.5</td>\n",
       "    </tr>\n",
       "    <tr>\n",
       "      <th>std</th>\n",
       "      <td>62560.9</td>\n",
       "      <td>7.282293e+15</td>\n",
       "      <td>8.3</td>\n",
       "      <td>5.0</td>\n",
       "      <td>5007.3</td>\n",
       "      <td>2502.8</td>\n",
       "      <td>6479.5</td>\n",
       "      <td>2386.2</td>\n",
       "      <td>0.9</td>\n",
       "    </tr>\n",
       "    <tr>\n",
       "      <th>min</th>\n",
       "      <td>0.0</td>\n",
       "      <td>1.000431e+14</td>\n",
       "      <td>1882.0</td>\n",
       "      <td>1.0</td>\n",
       "      <td>19480317.0</td>\n",
       "      <td>-751.0</td>\n",
       "      <td>1702.0</td>\n",
       "      <td>-220.0</td>\n",
       "      <td>1.0</td>\n",
       "    </tr>\n",
       "    <tr>\n",
       "      <th>25%</th>\n",
       "      <td>3000.0</td>\n",
       "      <td>5.744943e+15</td>\n",
       "      <td>2006.0</td>\n",
       "      <td>1.0</td>\n",
       "      <td>20180129.0</td>\n",
       "      <td>2114.0</td>\n",
       "      <td>75261.0</td>\n",
       "      <td>2210.0</td>\n",
       "      <td>2.0</td>\n",
       "    </tr>\n",
       "    <tr>\n",
       "      <th>50%</th>\n",
       "      <td>15355.7</td>\n",
       "      <td>1.013124e+16</td>\n",
       "      <td>2014.0</td>\n",
       "      <td>3.0</td>\n",
       "      <td>20180313.0</td>\n",
       "      <td>4141.0</td>\n",
       "      <td>77042.0</td>\n",
       "      <td>3929.5</td>\n",
       "      <td>2.0</td>\n",
       "    </tr>\n",
       "    <tr>\n",
       "      <th>75%</th>\n",
       "      <td>28686.0</td>\n",
       "      <td>1.783084e+16</td>\n",
       "      <td>2017.0</td>\n",
       "      <td>6.0</td>\n",
       "      <td>20180427.0</td>\n",
       "      <td>5852.0</td>\n",
       "      <td>78216.0</td>\n",
       "      <td>5667.0</td>\n",
       "      <td>4.0</td>\n",
       "    </tr>\n",
       "    <tr>\n",
       "      <th>max</th>\n",
       "      <td>85022151.0</td>\n",
       "      <td>2.973504e+16</td>\n",
       "      <td>2020.0</td>\n",
       "      <td>28.0</td>\n",
       "      <td>20180630.0</td>\n",
       "      <td>9999.0</td>\n",
       "      <td>99705.0</td>\n",
       "      <td>9800.0</td>\n",
       "      <td>4.0</td>\n",
       "    </tr>\n",
       "  </tbody>\n",
       "</table>\n",
       "</div>"
      ],
      "text/plain": [
       "       SALES_PRICE         DOCNO    VEHYEAR  OWNERSHIP_CD  TTL_SIGNED_DATE  \\\n",
       "count    2546250.0  3.319455e+06  3319455.0     3243168.0        3319455.0   \n",
       "mean       19196.1  1.142992e+16     2010.9           4.3       20179027.9   \n",
       "std        62560.9  7.282293e+15        8.3           5.0           5007.3   \n",
       "min            0.0  1.000431e+14     1882.0           1.0       19480317.0   \n",
       "25%         3000.0  5.744943e+15     2006.0           1.0       20180129.0   \n",
       "50%        15355.7  1.013124e+16     2014.0           3.0       20180313.0   \n",
       "75%        28686.0  1.783084e+16     2017.0           6.0       20180427.0   \n",
       "max     85022151.0  2.973504e+16     2020.0          28.0       20180630.0   \n",
       "\n",
       "       OWNER_ZIP+4  RENEW_ZIP  RENEW_ZIP+4  RECONDITION_CD  \n",
       "count     189105.0   145369.0      14242.0        216207.0  \n",
       "mean        4169.8    75998.6       4067.1             2.5  \n",
       "std         2502.8     6479.5       2386.2             0.9  \n",
       "min         -751.0     1702.0       -220.0             1.0  \n",
       "25%         2114.0    75261.0       2210.0             2.0  \n",
       "50%         4141.0    77042.0       3929.5             2.0  \n",
       "75%         5852.0    78216.0       5667.0             4.0  \n",
       "max         9999.0    99705.0       9800.0             4.0  "
      ]
     },
     "execution_count": 22,
     "metadata": {},
     "output_type": "execute_result"
    }
   ],
   "source": [
    "# numeric\n",
    "df.describe().round(decimals = 1)"
   ]
  },
  {
   "cell_type": "code",
   "execution_count": 23,
   "metadata": {},
   "outputs": [
    {
     "data": {
      "text/html": [
       "<div>\n",
       "<style scoped>\n",
       "    .dataframe tbody tr th:only-of-type {\n",
       "        vertical-align: middle;\n",
       "    }\n",
       "\n",
       "    .dataframe tbody tr th {\n",
       "        vertical-align: top;\n",
       "    }\n",
       "\n",
       "    .dataframe thead th {\n",
       "        text-align: right;\n",
       "    }\n",
       "</style>\n",
       "<table border=\"1\" class=\"dataframe\">\n",
       "  <thead>\n",
       "    <tr style=\"text-align: right;\">\n",
       "      <th></th>\n",
       "      <th>VIN</th>\n",
       "      <th>SALE_DATE</th>\n",
       "      <th>ODOMETER_BRAND</th>\n",
       "      <th>ODOMETER_READING</th>\n",
       "      <th>MAKE</th>\n",
       "      <th>MODEL</th>\n",
       "      <th>BODY_TYPE</th>\n",
       "      <th>OWNER_ZIP</th>\n",
       "      <th>SALVSTATECNTRY</th>\n",
       "    </tr>\n",
       "  </thead>\n",
       "  <tbody>\n",
       "    <tr>\n",
       "      <th>count</th>\n",
       "      <td>3281777</td>\n",
       "      <td>3319455</td>\n",
       "      <td>1974988</td>\n",
       "      <td>3062742</td>\n",
       "      <td>3319455</td>\n",
       "      <td>2536368</td>\n",
       "      <td>3319453</td>\n",
       "      <td>3319455</td>\n",
       "      <td>59358</td>\n",
       "    </tr>\n",
       "    <tr>\n",
       "      <th>unique</th>\n",
       "      <td>3201901</td>\n",
       "      <td>155</td>\n",
       "      <td>3</td>\n",
       "      <td>182242</td>\n",
       "      <td>8744</td>\n",
       "      <td>11045</td>\n",
       "      <td>235</td>\n",
       "      <td>10680</td>\n",
       "      <td>83</td>\n",
       "    </tr>\n",
       "    <tr>\n",
       "      <th>top</th>\n",
       "      <td>1D7HA18N73J593074</td>\n",
       "      <td>'2018-04-04'</td>\n",
       "      <td>A</td>\n",
       "      <td>EXEMPT</td>\n",
       "      <td>FORD</td>\n",
       "      <td>F15</td>\n",
       "      <td>4D</td>\n",
       "      <td>74134</td>\n",
       "      <td>LA</td>\n",
       "    </tr>\n",
       "    <tr>\n",
       "      <th>freq</th>\n",
       "      <td>4</td>\n",
       "      <td>31384</td>\n",
       "      <td>1953462</td>\n",
       "      <td>1087754</td>\n",
       "      <td>496104</td>\n",
       "      <td>78111</td>\n",
       "      <td>926699</td>\n",
       "      <td>44637</td>\n",
       "      <td>11072</td>\n",
       "    </tr>\n",
       "  </tbody>\n",
       "</table>\n",
       "</div>"
      ],
      "text/plain": [
       "                      VIN     SALE_DATE ODOMETER_BRAND ODOMETER_READING  \\\n",
       "count             3281777       3319455        1974988          3062742   \n",
       "unique            3201901           155              3           182242   \n",
       "top     1D7HA18N73J593074  '2018-04-04'              A           EXEMPT   \n",
       "freq                    4         31384        1953462          1087754   \n",
       "\n",
       "           MAKE    MODEL BODY_TYPE OWNER_ZIP SALVSTATECNTRY  \n",
       "count   3319455  2536368   3319453   3319455          59358  \n",
       "unique     8744    11045       235     10680             83  \n",
       "top        FORD      F15        4D     74134             LA  \n",
       "freq     496104    78111    926699     44637          11072  "
      ]
     },
     "execution_count": 23,
     "metadata": {},
     "output_type": "execute_result"
    }
   ],
   "source": [
    "# non-numeric\n",
    "df.describe(include = ['object','category'])"
   ]
  },
  {
   "cell_type": "code",
   "execution_count": null,
   "metadata": {},
   "outputs": [],
   "source": [
    "# dates\n",
    "df.describe(include = ['datetime'], datetime_is_numeric=True)"
   ]
  },
  {
   "attachments": {},
   "cell_type": "markdown",
   "metadata": {},
   "source": [
    "## Filter Used Autos and Trucks"
   ]
  },
  {
   "cell_type": "code",
   "execution_count": 24,
   "metadata": {},
   "outputs": [
    {
     "name": "stdout",
     "output_type": "stream",
     "text": [
      "4D    926699\n",
      "LL    888061\n",
      "PK    665774\n",
      "VN    110805\n",
      "UT    110728\n",
      "       ...  \n",
      "SO         1\n",
      "MX         1\n",
      "W4         1\n",
      "6D         1\n",
      "U          1\n",
      "Name: BODY_TYPE, Length: 236, dtype: int64\n"
     ]
    }
   ],
   "source": [
    "# vehicle types\n",
    "print(df['BODY_TYPE'].value_counts(dropna=False))"
   ]
  },
  {
   "cell_type": "code",
   "execution_count": null,
   "metadata": {},
   "outputs": [],
   "source": [
    "# filter to auto/truck only\n",
    "print(f'all obs: {df.shape[0]:,d}')\n",
    "df.drop(df[~df['vehicle_type'].isin(['AUTO','TRUCK'])].index, inplace=True)\n",
    "print(f'auto/truck only obs: {df.shape[0]:,d}')"
   ]
  },
  {
   "cell_type": "code",
   "execution_count": null,
   "metadata": {},
   "outputs": [],
   "source": [
    "# new / used\n",
    "print(df['new_used'].value_counts(dropna=False))"
   ]
  },
  {
   "cell_type": "code",
   "execution_count": null,
   "metadata": {},
   "outputs": [],
   "source": [
    "# filter to used only\n",
    "print(f'all obs: {df.shape[0]:,d}')\n",
    "df.drop(df[df['new_used'] == 'N'].index, inplace=True)\n",
    "print(f'used only obs: {df.shape[0]:,d}')\n"
   ]
  },
  {
   "attachments": {},
   "cell_type": "markdown",
   "metadata": {},
   "source": [
    "## VINs"
   ]
  },
  {
   "attachments": {},
   "cell_type": "markdown",
   "metadata": {},
   "source": [
    "Duplicate VINs need to be worked on"
   ]
  },
  {
   "cell_type": "code",
   "execution_count": null,
   "metadata": {},
   "outputs": [],
   "source": [
    "print('obs: {0:,d}'.format(df.shape[0]))\n",
    "print('unique vins: {0:,d}'.format(df['vin'].unique().shape[0]))"
   ]
  },
  {
   "attachments": {},
   "cell_type": "markdown",
   "metadata": {},
   "source": [
    "## Join with Other Datasets"
   ]
  },
  {
   "cell_type": "markdown",
   "metadata": {},
   "source": []
  },
  {
   "attachments": {},
   "cell_type": "markdown",
   "metadata": {},
   "source": [
    "### CarGurus Scrape"
   ]
  },
  {
   "cell_type": "code",
   "execution_count": null,
   "metadata": {},
   "outputs": [],
   "source": [
    "import pandas as pd\n",
    "iter_csv = pd.read_csv('data/cargurus.csv', iterator=True, chunksize=1000)\n",
    "df = pd.concat([chunk[chunk['field'] > constant] for chunk in iter_csv])"
   ]
  },
  {
   "cell_type": "code",
   "execution_count": null,
   "metadata": {},
   "outputs": [],
   "source": []
  },
  {
   "attachments": {},
   "cell_type": "markdown",
   "metadata": {},
   "source": [
    "### MarketCheck"
   ]
  },
  {
   "cell_type": "code",
   "execution_count": null,
   "metadata": {},
   "outputs": [],
   "source": [
    "# marketcheck listings data\n",
    "mc = pd.read_csv('data/marketcheck_kaggle.csv'\n",
    "                ,usecols=['vin','year','state','make','model','miles','price']\n",
    "                ,dtype={'vin':'string','year':'Int16','state':'category','make':'category','model':'string','miles':'Int32','price':'Int32'}\n",
    "                ,low_memory=False)"
   ]
  },
  {
   "cell_type": "code",
   "execution_count": null,
   "metadata": {},
   "outputs": [],
   "source": [
    "mc.info()"
   ]
  },
  {
   "cell_type": "code",
   "execution_count": null,
   "metadata": {},
   "outputs": [],
   "source": [
    "mc.nunique()"
   ]
  },
  {
   "cell_type": "code",
   "execution_count": null,
   "metadata": {},
   "outputs": [],
   "source": [
    "df2 = df.join(mc, on='vin', how='left', rsuffix='_mc')"
   ]
  },
  {
   "cell_type": "code",
   "execution_count": null,
   "metadata": {},
   "outputs": [],
   "source": [
    "df2[~df2['vin_mc'].isna()]"
   ]
  },
  {
   "attachments": {},
   "cell_type": "markdown",
   "metadata": {},
   "source": [
    "## Prices"
   ]
  },
  {
   "attachments": {},
   "cell_type": "markdown",
   "metadata": {},
   "source": [
    "Have got some price issues\n",
    "- Lots of missing with 0 filler\n",
    "- Very high values"
   ]
  },
  {
   "cell_type": "code",
   "execution_count": null,
   "metadata": {},
   "outputs": [],
   "source": [
    "num = df.shape[0]\n",
    "print('total obs: ',f\"{num:,d}\")\n",
    "\n",
    "num = (df['price'] < 0.1).sum()\n",
    "print('0 prices: ',f\"{num:,d}\")\n",
    "\n",
    "num = (df['price'] > 10000).sum()\n",
    "print('prices > 10,000: ',f\"{num:,d}\")\n",
    "\n",
    "num = ((df['price'] > 0.1) & (df['price'] < 10000)).sum()\n",
    "print('prices between: ',f\"{num:,d}\")"
   ]
  },
  {
   "cell_type": "code",
   "execution_count": null,
   "metadata": {},
   "outputs": [],
   "source": [
    "# hist prices between $0.1 and $10,000\n",
    "df[((df['price'] > 0.1) & (df['price'] < 10000))]['price'].hist()"
   ]
  },
  {
   "attachments": {},
   "cell_type": "markdown",
   "metadata": {},
   "source": [
    "### High Prices"
   ]
  },
  {
   "cell_type": "code",
   "execution_count": null,
   "metadata": {},
   "outputs": [],
   "source": [
    "pd.set_option('display.max_rows', 100)"
   ]
  },
  {
   "cell_type": "code",
   "execution_count": null,
   "metadata": {},
   "outputs": [],
   "source": [
    "df.sort_values(by='price', ascending=False).head(50).reset_index()"
   ]
  },
  {
   "cell_type": "code",
   "execution_count": null,
   "metadata": {},
   "outputs": [],
   "source": [
    "# between $1m and $10m\n",
    "condition_low = df['price'] > 1000000\n",
    "condition_high = df['price'] < 10000000\n",
    "df[condition_low & condition_high]['price'].hist()"
   ]
  },
  {
   "attachments": {},
   "cell_type": "markdown",
   "metadata": {},
   "source": [
    "I suspect some counties are adding zeros for decimal\n",
    "\n",
    "- 1m = $10,000.00\n",
    "- 10m = $100,000.00"
   ]
  },
  {
   "attachments": {},
   "cell_type": "markdown",
   "metadata": {},
   "source": [
    "### Distributions by County"
   ]
  },
  {
   "cell_type": "code",
   "execution_count": null,
   "metadata": {},
   "outputs": [],
   "source": [
    "# mean prices by county\n",
    "\n",
    "nums = df.groupby('county')['price'].mean().sort_values(ascending=False)\n",
    "index = nums.index\n",
    "\n",
    "for i in range(len(nums)):\n",
    "    print(\"{}: ${:0,.2f}\".format(index[i],nums[i]))"
   ]
  },
  {
   "cell_type": "code",
   "execution_count": null,
   "metadata": {},
   "outputs": [],
   "source": [
    "# median prices by county\n",
    "\n",
    "nums = df.groupby('county')['price'].median().sort_values(ascending=False)\n",
    "index = nums.index\n",
    "\n",
    "for i in range(len(nums)):\n",
    "    print(\"{}: ${:0,.2f}\".format(index[i],nums[i]))"
   ]
  },
  {
   "cell_type": "code",
   "execution_count": null,
   "metadata": {},
   "outputs": [],
   "source": [
    "groups = df.groupby('county')\n",
    "\n",
    "for name, group in groups:\n",
    "    print(name)\n",
    "    print(group['price'].describe().round(decimals = 1))"
   ]
  },
  {
   "attachments": {},
   "cell_type": "markdown",
   "metadata": {},
   "source": [
    "## The Rest"
   ]
  },
  {
   "cell_type": "code",
   "execution_count": null,
   "metadata": {},
   "outputs": [],
   "source": [
    "# null counts\n",
    "pd.DataFrame({'count':df.isna().sum()\n",
    "             ,'percent':(df.isna().sum()/df.shape[0]).round(decimals=2)}\n",
    "    ).sort_values(by='count', ascending=False)"
   ]
  },
  {
   "cell_type": "code",
   "execution_count": null,
   "metadata": {},
   "outputs": [],
   "source": [
    "# 0 or filler counts"
   ]
  }
 ],
 "metadata": {
  "kernelspec": {
   "display_name": "base",
   "language": "python",
   "name": "python3"
  },
  "language_info": {
   "codemirror_mode": {
    "name": "ipython",
    "version": 3
   },
   "file_extension": ".py",
   "mimetype": "text/x-python",
   "name": "python",
   "nbconvert_exporter": "python",
   "pygments_lexer": "ipython3",
   "version": "3.9.13"
  },
  "orig_nbformat": 4,
  "vscode": {
   "interpreter": {
    "hash": "9ce51b511e31678062ea377e4f294f92e7c7692784d9643ac534d9eb5246e9c5"
   }
  }
 },
 "nbformat": 4,
 "nbformat_minor": 2
}
