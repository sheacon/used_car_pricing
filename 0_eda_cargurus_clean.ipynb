{
 "cells": [
  {
   "attachments": {},
   "cell_type": "markdown",
   "metadata": {},
   "source": [
    "# CarGurus.com Scrape\n",
    "- Notes: scraped September 2020. Good data. Description, major options, etc\n",
    "- 3m obs, 66 vars\n",
    "- https://www.kaggle.com/datasets/ananaymital/us-used-cars-dataset\n",
    "- original filename used_cars_data.csv"
   ]
  },
  {
   "attachments": {},
   "cell_type": "markdown",
   "metadata": {},
   "source": [
    "### Other dataset-specific notebooks to review\n",
    "- https://www.kaggle.com/code/alvarolozanoalonso/mileage-tfm-15-09-2021\n",
    "- https://www.kaggle.com/code/fr3shk/vehicle-price-prediction-part-1\n",
    "- https://www.kaggle.com/code/fr3shk/vehicle-price-prediction-part-2"
   ]
  },
  {
   "attachments": {},
   "cell_type": "markdown",
   "metadata": {},
   "source": [
    "## Environment"
   ]
  },
  {
   "cell_type": "code",
   "execution_count": null,
   "metadata": {},
   "outputs": [],
   "source": [
    "# environment details\n",
    "\n",
    "from platform import python_version\n",
    "print('python',python_version())\n",
    "\n",
    "from importlib.metadata import version\n",
    "print('numpy',version('numpy'))\n",
    "print('pandas',version('pandas'))\n",
    "print('pandas_profiling',version('pandas_profiling'))"
   ]
  },
  {
   "cell_type": "code",
   "execution_count": null,
   "metadata": {
    "_cell_guid": "b1076dfc-b9ad-4769-8c92-a6c4dae69d19",
    "_uuid": "8f2839f25d086af736a60e9eeb907d3b93b6e0e5",
    "execution": {
     "iopub.execute_input": "2021-04-30T18:19:37.000633Z",
     "iopub.status.busy": "2021-04-30T18:19:36.999683Z",
     "iopub.status.idle": "2021-04-30T18:19:37.003584Z",
     "shell.execute_reply": "2021-04-30T18:19:37.002830Z"
    },
    "papermill": {
     "duration": 0.020068,
     "end_time": "2021-04-30T18:19:37.003724",
     "exception": false,
     "start_time": "2021-04-30T18:19:36.983656",
     "status": "completed"
    },
    "tags": []
   },
   "outputs": [],
   "source": [
    "import random\n",
    "import numpy as np\n",
    "import pandas as pd\n",
    "import seaborn as sns\n",
    "import matplotlib as mpl\n",
    "import matplotlib.pyplot as plt\n",
    "from uszipcode import SearchEngine # https://pypi.org/project/uszipcode/ / https://www.pythonpool.com/uszipcode-python/\n",
    "import missingno as msno # https://github.com/ResidentMario/missingno"
   ]
  },
  {
   "cell_type": "markdown",
   "metadata": {},
   "source": [
    "## Data"
   ]
  },
  {
   "attachments": {},
   "cell_type": "markdown",
   "metadata": {},
   "source": [
    "### Load and Inspect"
   ]
  },
  {
   "cell_type": "code",
   "execution_count": null,
   "metadata": {
    "_cell_guid": "79c7e3d0-c299-4dcb-8224-4455121ee9b0",
    "_uuid": "d629ff2d2480ee46fbb7e2d37f6b5fab8052498a",
    "execution": {
     "iopub.execute_input": "2021-04-30T18:19:37.041444Z",
     "iopub.status.busy": "2021-04-30T18:19:37.040720Z",
     "iopub.status.idle": "2021-04-30T18:19:43.415296Z",
     "shell.execute_reply": "2021-04-30T18:19:43.414755Z"
    },
    "papermill": {
     "duration": 6.40298,
     "end_time": "2021-04-30T18:19:43.415416",
     "exception": false,
     "start_time": "2021-04-30T18:19:37.012436",
     "status": "completed"
    },
    "tags": []
   },
   "outputs": [],
   "source": [
    "# load data\n",
    "filename = 'data/cargurus.csv'\n",
    "\n",
    "# total number of records in csv\n",
    "# 3,000,598\n",
    "num_records = sum(1 for line in open('data/cargurus.csv')) - 1\n",
    "\n",
    "# number of records to load\n",
    "sample_size = 100000\n",
    "\n",
    "# randomization\n",
    "skip = sorted(random.sample(range(1,num_records+1),num_records-sample_size))\n",
    "\n",
    "# data\n",
    "df = pd.read_csv(filename\n",
    "                    ,skiprows = skip\n",
    "                    ,low_memory = False\n",
    "                    ,nrows = num_records\n",
    "                    ,dtype={'dealer_zip': str\n",
    "                            })\n",
    "print(df.shape)\n",
    "df.info(verbose=False)"
   ]
  },
  {
   "attachments": {},
   "cell_type": "markdown",
   "metadata": {},
   "source": [
    "#### Variable Descriptions\n",
    "**0 vin:** Vehicle Identification Number is a unique encoded string for every vehicle. A vehicle identification number (VIN) (also called a chassis number or frame number) is a unique code, including a serial number, used by the automotive industry to identify individual motor vehicles, towed vehicles, motorcycles, scooters and mopeds, as defined in ISO 3779 (content and structure) and ISO 4030 (location and attachment).  \n",
    "**1. back_legroom:** Legroom in the rear seat measured in inches.  \n",
    "**2. bed:** Category of bed size (open cargo area) in pickup truck. Null usually means the vehicle isn't a pickup truck.  \n",
    "**3. bed_height:**  Height of bed in inches.  \n",
    "**4. bed_length:** Length of bed in inches.  \n",
    "**5. body_type:** Body Type of the vehicle. Like Convertible, Hatchback, Sedan, etc.  \n",
    "**6. cabin:** Category of cabin size (open cargo area) in pickup truck. Eg: Crew Cab, Extended Cab, etc.  \n",
    "**7. city:** City where the car is listed. Eg: Houston, San Antonio, etc.   \n",
    "**8. city_fuel_economy:** Fuel economy in city traffic in km per litre.  \n",
    "**9. combine_fuel_economy:** Combined fuel economy is a weighted average of City and Highway fuel economy in km per litre.  \n",
    "**10. daysonmarket:** Days since the vehicle was first listed on the website.  \n",
    "**11. dealer_zip:** Zipcode of the dealer.  \n",
    "**12. description:** Vehicle description on the vehicle's listing page.  \n",
    "**13. engine_cylinders:** The engine configuration. Eg: I4, V6, etc.   \n",
    "**14. engine_displacement:** Engine displacement is the measure of the cylinder volume swept by all of the pistons of a piston engine, excluding the combustion chambers.  \n",
    "**15. engine_type:** The engine configuration. Eg: I4, V6, etc.  \n",
    "**16. exterior_color:** Exterior color of the vehicle, usually a fancy one same as the brochure.  \n",
    "**17. fleet:** Whether the vehicle was previously part of a fleet.  \n",
    "**18. frame_damaged:** Whether the vehicle has a damaged frame.  \n",
    "**19. franchise_dealer:** Whether the dealer is a franchise dealer.  \n",
    "**20. franchise_make:** The company that owns the franchise.  \n",
    "**21. front_legroom:** The legroom in inches for the passenger seat.  \n",
    "**22. fuel_tank_volume:** Fuel tank's filling capacity in gallons.  \n",
    "**23. fuel_type:** Dominant type of fuel ingested by the vehicle.  \n",
    "**24. has_accidents:** Whether the vin has any accidents registered.  \n",
    "**25. height:** Height of the vehicle in inches.  \n",
    "**26. highway_fuel_economy:** Fuel economy in highway traffic in km per litre.  \n",
    "**27. horsepower:** Horsepower is the power produced by an engine.  \n",
    "**28. interior_color:** Interior color of the vehicle, usually a fancy one same as the brochure.  \n",
    "**29. isCab:** Whether the vehicle was previously taxi/cab.  \n",
    "**30. is_certified:** Whether the vehicle is certified. Certified cars are covered through warranty period.  \n",
    "**31. is_cpo:** Pre-owned cars certified by the dealer. Certified vehicles come with a manufacturer warranty for free repairs for a certain time period.  \n",
    "**32. is_new:** If True means the vehicle was launched less than 2 years ago.  \n",
    "**33. is_oemcpo:** Pre-owned cars certified by the manufacturer.  \n",
    "**34. latitude:** Latitude from the geolocation of the dealership.  \n",
    "**35. length:** Length of the vehicle in inches.  \n",
    "**36. listed_date:** The date the vehicle was listed on the website. Does not make daysonmarket obsolete. The prices is dayson_market days after the listed date.  \n",
    "**37. listing_color:** Dominant color group from the exterior color.  \n",
    "**38. listing_id:** Listing id from the website.  \n",
    "**39. longitude:** Longitude from the geolocation of the dealership.  \n",
    "**40. main_picture_url:** URL of the vehicle's picture.  \n",
    "**41. major_options:** Optional packages of the vehicle.  \n",
    "**42. make_name:** Vehicle's brand.  \n",
    "**43. maximum_seating:** Total number of seats.  \n",
    "**44. mileage:** Refers to the distance that the vehicle has travelled, measured in miles.  \n",
    "**45. model_name:** Model name of the vehicle.  \n",
    "**46. owner_count:** Number of owners the vehicle has had along its life.  \n",
    "**47. power:** Maximum power of the vehicle and the rpm to develop the power.  \n",
    "**48. price:** Sale price of the vehicle on the website.  \n",
    "**49. salvage:** In North America, a salvage title is a form of vehicle title branding, which notes that the vehicle has been damaged and/or deemed a total loss by an insurance company that paid a claim on it.  \n",
    "**50. savings_amount:** Non defined variable.  \n",
    "**51. seller_rating:** The Seller Rating is created by data received from buyers in an effort to measure the quality of the experience you provide your customers.  \n",
    "**52. sp_id:** Dealer id.  \n",
    "**53. sp_name:** Dealer name.  \n",
    "**54. theft_title:** Vehicle that was stolen and later recovered.  \n",
    "**55. torque:** Torque indicates the force to which the drive shaft is subjected. Also the revolutions needed to reach the maximum torque.  \n",
    "**56. transmission:** Type of transmission, such as Automatic, Manual, etc.  \n",
    "**57. transmission_display:** Number of gears and type of transmission.   \n",
    "**58. trimId:** Number of a particular version of a model with a particular set of configuration.  \n",
    "**59. trim_name:** Name of a particular version of a model with a particular set of configuration.  \n",
    "**60. vehicle_damage_category:** Category of a vehicle's damage, such as Category A meaning a ‘Scrap’ car.  \n",
    "**61. wheel_system:** Traction system of a vehicle, such as AWD or FWD.  \n",
    "**62. wheel_system_display:** Traction system of a vehicle, such as All Wheel Drive or Front Wheel Drive.  \n",
    "**63. wheelbase:** The distance between the front and rear axles of a vehicle.  \n",
    "**64. width:** The distance between both sides of a vehicle.  \n",
    "**65. year:** The year the car was built.  "
   ]
  },
  {
   "cell_type": "code",
   "execution_count": null,
   "metadata": {},
   "outputs": [],
   "source": [
    "# drop columns unimportant to model\n",
    "df.drop(columns=['listing_id'\n",
    "                ,'main_picture_url'\n",
    "                ,'savings_amount' # involves cargurus price projection\n",
    "                ,'sp_id' # dealer id\n",
    "                ,'sp_name' # dealer name\n",
    "                ] \n",
    "    ,inplace=True)"
   ]
  },
  {
   "cell_type": "code",
   "execution_count": null,
   "metadata": {},
   "outputs": [],
   "source": [
    "# drop duplicates by vin\n",
    "print(df.shape)\n",
    "df.drop_duplicates(subset = 'vin',inplace=True)\n",
    "print(df.shape)"
   ]
  },
  {
   "cell_type": "code",
   "execution_count": null,
   "metadata": {},
   "outputs": [],
   "source": [
    "# drop empty columns\n",
    "df.dropna(axis = 'columns', how = 'all', inplace = True)\n",
    "print(df.shape)"
   ]
  },
  {
   "cell_type": "code",
   "execution_count": null,
   "metadata": {},
   "outputs": [],
   "source": [
    "print(df.columns)"
   ]
  },
  {
   "cell_type": "code",
   "execution_count": null,
   "metadata": {},
   "outputs": [],
   "source": [
    "# set VIN as index\n",
    "df.set_index(\"vin\", inplace=True)"
   ]
  },
  {
   "cell_type": "code",
   "execution_count": null,
   "metadata": {},
   "outputs": [],
   "source": [
    "# drop unneeded obs\n",
    "print(df.shape)\n",
    "df = df[df['is_new'] == False]\n",
    "print(df.shape)"
   ]
  },
  {
   "cell_type": "code",
   "execution_count": null,
   "metadata": {},
   "outputs": [],
   "source": [
    "# rename fields\n",
    "df.rename(columns={'city_fuel_economy':'mpg_city'\n",
    "                    ,'highway_fuel_economy':'mpg_hwy'\n",
    "                    ,'exterior_color':'color_exterior'\n",
    "                    ,'interior_color':'color_interior'\n",
    "                    ,'year':'model_year'\n",
    "                    }, inplace=True)"
   ]
  },
  {
   "cell_type": "code",
   "execution_count": null,
   "metadata": {},
   "outputs": [],
   "source": [
    "# numeric\n",
    "df.describe().round(decimals = 1).T"
   ]
  },
  {
   "cell_type": "code",
   "execution_count": null,
   "metadata": {},
   "outputs": [],
   "source": [
    "df['back_legroom'].str.split?"
   ]
  },
  {
   "cell_type": "code",
   "execution_count": null,
   "metadata": {},
   "outputs": [],
   "source": [
    "# parse mixed fields\n",
    "df['back_legroom'].str.split()"
   ]
  },
  {
   "cell_type": "code",
   "execution_count": null,
   "metadata": {},
   "outputs": [],
   "source": [
    "df['back_legroom'].str.split"
   ]
  },
  {
   "cell_type": "code",
   "execution_count": null,
   "metadata": {},
   "outputs": [],
   "source": [
    "# non-numeric\n",
    "df.describe(include = ['object','category']).T"
   ]
  },
  {
   "cell_type": "code",
   "execution_count": null,
   "metadata": {},
   "outputs": [],
   "source": [
    "# five example obs\n",
    "pd.set_option('display.max_rows', 100)\n",
    "pd.set_option('display.max_colwidth', 500)\n",
    "\n",
    "df.sample(3).T"
   ]
  },
  {
   "attachments": {},
   "cell_type": "markdown",
   "metadata": {},
   "source": [
    "### Missing"
   ]
  },
  {
   "cell_type": "code",
   "execution_count": null,
   "metadata": {},
   "outputs": [],
   "source": [
    "# missing values\n",
    "nulls = pd.DataFrame(data = {'count':df.isna().sum()})\n",
    "nulls['pct'] = nulls['count'] / df.shape[0]\n",
    "nulls.sort_values(by = 'count', ascending = False)"
   ]
  },
  {
   "cell_type": "code",
   "execution_count": null,
   "metadata": {},
   "outputs": [],
   "source": [
    "# drop columns with > 80% missing values\n",
    "print(df.shape)\n",
    "df.dropna(axis = 'columns', thresh = df.shape[0] * 0.8, inplace = True)\n",
    "print(df.shape)"
   ]
  },
  {
   "cell_type": "code",
   "execution_count": null,
   "metadata": {},
   "outputs": [],
   "source": [
    "msno.heatmap(df)"
   ]
  },
  {
   "cell_type": "code",
   "execution_count": null,
   "metadata": {},
   "outputs": [],
   "source": [
    "# missingness correlations\n",
    "temp = df.iloc[:, [i for i, n in enumerate(np.var(df.isnull(), axis='rows')) if n > 0]]\n",
    "corr_mat = temp.isnull().corr()\n",
    "\n",
    "corr_mat2 = corr_mat.unstack().reset_index()\n",
    "corr_mat2.columns = ['var1','var2','corr']\n",
    "corr_mat2['var_min'] = corr_mat2[['var1','var2']].min(axis=1)\n",
    "corr_mat2['var_max'] = corr_mat2[['var1','var2']].max(axis=1)\n",
    "corr_mat2.drop(columns=['var1','var2'], inplace=True)\n",
    "corr_mat2.drop_duplicates(inplace=True)\n",
    "corr_mat2 = corr_mat2[corr_mat2['var_min'] != corr_mat2['var_max']]\n",
    "corr_mat2 = corr_mat2[corr_mat2['corr'] > 0.1]\n",
    "corr_mat2.sort_values(by='corr', ascending=False)"
   ]
  },
  {
   "attachments": {},
   "cell_type": "markdown",
   "metadata": {},
   "source": [
    "#### Mileage\n",
    "Mileage is an essential feature expected to have a large impact on the model. Better to drop than impute."
   ]
  },
  {
   "cell_type": "code",
   "execution_count": null,
   "metadata": {},
   "outputs": [],
   "source": [
    "print(df.shape)\n",
    "print(df['mileage'].isna().sum())\n",
    "df = df[df['mileage'].notna()]\n",
    "print(df.shape)"
   ]
  },
  {
   "attachments": {},
   "cell_type": "markdown",
   "metadata": {},
   "source": [
    "Mileage is mostly missing on new vehicles"
   ]
  },
  {
   "attachments": {},
   "cell_type": "markdown",
   "metadata": {},
   "source": [
    "### Transformations"
   ]
  },
  {
   "cell_type": "code",
   "execution_count": null,
   "metadata": {},
   "outputs": [],
   "source": [
    "# update dtypes"
   ]
  },
  {
   "attachments": {},
   "cell_type": "markdown",
   "metadata": {},
   "source": [
    "### States"
   ]
  },
  {
   "cell_type": "code",
   "execution_count": null,
   "metadata": {},
   "outputs": [],
   "source": [
    "%%time\n",
    "\n",
    "# add state\n",
    "df['state'] = np.nan\n",
    "\n",
    "for i in df.index:\n",
    "    search = SearchEngine()\n",
    "    zipcode = search.by_zipcode(df.loc[i,'dealer_zip'])\n",
    "    try:\n",
    "        df.loc[i,'state'] = zipcode.state\n",
    "    except:\n",
    "        pass\n",
    "    else:\n",
    "        df.loc[i,'state'] = zipcode.state\n",
    "\n",
    "print('state not found:',df['state'].isna().sum())"
   ]
  },
  {
   "cell_type": "code",
   "execution_count": null,
   "metadata": {},
   "outputs": [],
   "source": [
    "print((df['state'].value_counts()).round(decimals = 2).head(10))"
   ]
  },
  {
   "cell_type": "code",
   "execution_count": null,
   "metadata": {},
   "outputs": [],
   "source": [
    "print((df['state'].value_counts())[['TX','OH','VA']].round(decimals = 2))\n",
    "print((df['state'].value_counts()/df.shape[0])[['TX','OH','VA']].round(decimals = 2))\n",
    "print((df['state'].value_counts()/df.shape[0])[['TX','OH','VA']].sum().round(decimals = 2))\n",
    "print(f'{0.18*3000000:,}')"
   ]
  },
  {
   "cell_type": "code",
   "execution_count": null,
   "metadata": {},
   "outputs": [],
   "source": []
  }
 ],
 "metadata": {
  "kernelspec": {
   "display_name": "base",
   "language": "python",
   "name": "python3"
  },
  "language_info": {
   "codemirror_mode": {
    "name": "ipython",
    "version": 3
   },
   "file_extension": ".py",
   "mimetype": "text/x-python",
   "name": "python",
   "nbconvert_exporter": "python",
   "pygments_lexer": "ipython3",
   "version": "3.9.13"
  },
  "papermill": {
   "duration": 31.763229,
   "end_time": "2021-04-30T18:20:03.589675",
   "environment_variables": {},
   "exception": null,
   "input_path": "__notebook__.ipynb",
   "output_path": "__notebook__.ipynb",
   "parameters": {},
   "start_time": "2021-04-30T18:19:31.826446",
   "version": "2.1.0"
  },
  "vscode": {
   "interpreter": {
    "hash": "9ce51b511e31678062ea377e4f294f92e7c7692784d9643ac534d9eb5246e9c5"
   }
  }
 },
 "nbformat": 4,
 "nbformat_minor": 4
}
