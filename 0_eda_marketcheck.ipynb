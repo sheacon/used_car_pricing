{
 "cells": [
  {
   "attachments": {},
   "cell_type": "markdown",
   "metadata": {},
   "source": [
    "# Used cars listings for US & Canada\n",
    "- https://www.kaggle.com/datasets/rupeshraundal/marketcheck-automotive-data-us-canada\n",
    "- 2.5m obs, 21 vars. All changes. 65k dealer websites / marketcheck.com\n",
    "- us-dealers-used.csv"
   ]
  },
  {
   "cell_type": "code",
   "execution_count": 4,
   "metadata": {},
   "outputs": [],
   "source": [
    "# packages\n",
    "import numpy as np\n",
    "import pandas as pd"
   ]
  },
  {
   "cell_type": "code",
   "execution_count": 7,
   "metadata": {},
   "outputs": [],
   "source": [
    "# data\n",
    "df = pd.read_csv('data/us-dealers-used.csv',low_memory=False)"
   ]
  },
  {
   "attachments": {},
   "cell_type": "markdown",
   "metadata": {},
   "source": [
    "## EDA"
   ]
  },
  {
   "cell_type": "code",
   "execution_count": 8,
   "metadata": {},
   "outputs": [
    {
     "data": {
      "text/plain": [
       "id               object\n",
       "vin              object\n",
       "price           float64\n",
       "miles           float64\n",
       "stock_no         object\n",
       "year            float64\n",
       "make             object\n",
       "model            object\n",
       "trim             object\n",
       "body_type        object\n",
       "vehicle_type     object\n",
       "drivetrain       object\n",
       "transmission     object\n",
       "fuel_type        object\n",
       "engine_size     float64\n",
       "engine_block     object\n",
       "seller_name      object\n",
       "street           object\n",
       "city             object\n",
       "state            object\n",
       "zip              object\n",
       "dtype: object"
      ]
     },
     "execution_count": 8,
     "metadata": {},
     "output_type": "execute_result"
    }
   ],
   "source": [
    "df.dtypes"
   ]
  },
  {
   "attachments": {},
   "cell_type": "markdown",
   "metadata": {},
   "source": [
    "### Confirmed there are vins with multiple observations and changing prices"
   ]
  },
  {
   "cell_type": "code",
   "execution_count": 9,
   "metadata": {},
   "outputs": [
    {
     "data": {
      "text/plain": [
       "KNDPM3ACXL7644369    5\n",
       "KNAGN4A76B5122965    5\n",
       "1GNSKBKC8KR398196    5\n",
       "3C4NJDBB1JT162247    5\n",
       "4T1BF1FK8DU284879    5\n",
       "                    ..\n",
       "5TFAW5F15JX722668    5\n",
       "1C4RJFJT1JC289602    5\n",
       "3VW6T7AU4LM005115    5\n",
       "3GNCJLSB7JL401826    5\n",
       "SCBEC9ZA6EC090986    5\n",
       "Name: vin, Length: 67807, dtype: int64"
      ]
     },
     "execution_count": 9,
     "metadata": {},
     "output_type": "execute_result"
    }
   ],
   "source": [
    "df['vin'].value_counts()[df['vin'].value_counts() == 5]"
   ]
  },
  {
   "cell_type": "code",
   "execution_count": 10,
   "metadata": {},
   "outputs": [
    {
     "data": {
      "text/html": [
       "<div>\n",
       "<style scoped>\n",
       "    .dataframe tbody tr th:only-of-type {\n",
       "        vertical-align: middle;\n",
       "    }\n",
       "\n",
       "    .dataframe tbody tr th {\n",
       "        vertical-align: top;\n",
       "    }\n",
       "\n",
       "    .dataframe thead th {\n",
       "        text-align: right;\n",
       "    }\n",
       "</style>\n",
       "<table border=\"1\" class=\"dataframe\">\n",
       "  <thead>\n",
       "    <tr style=\"text-align: right;\">\n",
       "      <th></th>\n",
       "      <th>id</th>\n",
       "      <th>vin</th>\n",
       "      <th>price</th>\n",
       "      <th>miles</th>\n",
       "      <th>stock_no</th>\n",
       "      <th>year</th>\n",
       "      <th>make</th>\n",
       "      <th>model</th>\n",
       "      <th>trim</th>\n",
       "      <th>body_type</th>\n",
       "      <th>...</th>\n",
       "      <th>drivetrain</th>\n",
       "      <th>transmission</th>\n",
       "      <th>fuel_type</th>\n",
       "      <th>engine_size</th>\n",
       "      <th>engine_block</th>\n",
       "      <th>seller_name</th>\n",
       "      <th>street</th>\n",
       "      <th>city</th>\n",
       "      <th>state</th>\n",
       "      <th>zip</th>\n",
       "    </tr>\n",
       "  </thead>\n",
       "  <tbody>\n",
       "    <tr>\n",
       "      <th>1590347</th>\n",
       "      <td>4896a507-95b3</td>\n",
       "      <td>1GNSKBKC8KR398196</td>\n",
       "      <td>50995.0</td>\n",
       "      <td>37941.0</td>\n",
       "      <td>M24970</td>\n",
       "      <td>2019.0</td>\n",
       "      <td>Chevrolet</td>\n",
       "      <td>Tahoe</td>\n",
       "      <td>LT</td>\n",
       "      <td>SUV</td>\n",
       "      <td>...</td>\n",
       "      <td>4WD</td>\n",
       "      <td>Automatic</td>\n",
       "      <td>Unleaded</td>\n",
       "      <td>5.3</td>\n",
       "      <td>V</td>\n",
       "      <td>m j mcguire company</td>\n",
       "      <td>520 3Rd Avenue Southwest</td>\n",
       "      <td>Rugby</td>\n",
       "      <td>ND</td>\n",
       "      <td>58368</td>\n",
       "    </tr>\n",
       "    <tr>\n",
       "      <th>3358313</th>\n",
       "      <td>88440f82-9422</td>\n",
       "      <td>1GNSKBKC8KR398196</td>\n",
       "      <td>50995.0</td>\n",
       "      <td>37941.0</td>\n",
       "      <td>M24970</td>\n",
       "      <td>2019.0</td>\n",
       "      <td>Chevrolet</td>\n",
       "      <td>Tahoe</td>\n",
       "      <td>LT</td>\n",
       "      <td>SUV</td>\n",
       "      <td>...</td>\n",
       "      <td>4WD</td>\n",
       "      <td>Automatic</td>\n",
       "      <td>Unleaded</td>\n",
       "      <td>5.3</td>\n",
       "      <td>V</td>\n",
       "      <td>don bessette hyundai</td>\n",
       "      <td>1715 North Broadway</td>\n",
       "      <td>Minot</td>\n",
       "      <td>ND</td>\n",
       "      <td>58703</td>\n",
       "    </tr>\n",
       "    <tr>\n",
       "      <th>3365982</th>\n",
       "      <td>72d58a40-2474</td>\n",
       "      <td>1GNSKBKC8KR398196</td>\n",
       "      <td>50995.0</td>\n",
       "      <td>37941.0</td>\n",
       "      <td>M24970</td>\n",
       "      <td>2019.0</td>\n",
       "      <td>Chevrolet</td>\n",
       "      <td>Tahoe</td>\n",
       "      <td>LT</td>\n",
       "      <td>SUV</td>\n",
       "      <td>...</td>\n",
       "      <td>4WD</td>\n",
       "      <td>Automatic</td>\n",
       "      <td>Unleaded</td>\n",
       "      <td>5.3</td>\n",
       "      <td>V</td>\n",
       "      <td>don bessette hyundai</td>\n",
       "      <td>1715 North Broadway</td>\n",
       "      <td>Minot</td>\n",
       "      <td>ND</td>\n",
       "      <td>58703</td>\n",
       "    </tr>\n",
       "    <tr>\n",
       "      <th>3367732</th>\n",
       "      <td>7177c060-f589</td>\n",
       "      <td>1GNSKBKC8KR398196</td>\n",
       "      <td>50995.0</td>\n",
       "      <td>37941.0</td>\n",
       "      <td>M24970</td>\n",
       "      <td>2019.0</td>\n",
       "      <td>Chevrolet</td>\n",
       "      <td>Tahoe</td>\n",
       "      <td>LT</td>\n",
       "      <td>SUV</td>\n",
       "      <td>...</td>\n",
       "      <td>4WD</td>\n",
       "      <td>Automatic</td>\n",
       "      <td>Unleaded</td>\n",
       "      <td>5.3</td>\n",
       "      <td>V</td>\n",
       "      <td>bessette motors inc</td>\n",
       "      <td>395 1St Street North</td>\n",
       "      <td>Carrington</td>\n",
       "      <td>ND</td>\n",
       "      <td>58421</td>\n",
       "    </tr>\n",
       "    <tr>\n",
       "      <th>3369506</th>\n",
       "      <td>8dcc3f81-38d9</td>\n",
       "      <td>1GNSKBKC8KR398196</td>\n",
       "      <td>50995.0</td>\n",
       "      <td>37941.0</td>\n",
       "      <td>M24970</td>\n",
       "      <td>2019.0</td>\n",
       "      <td>Chevrolet</td>\n",
       "      <td>Tahoe</td>\n",
       "      <td>LT</td>\n",
       "      <td>SUV</td>\n",
       "      <td>...</td>\n",
       "      <td>4WD</td>\n",
       "      <td>Automatic</td>\n",
       "      <td>Unleaded</td>\n",
       "      <td>5.3</td>\n",
       "      <td>V</td>\n",
       "      <td>m.j. mcguire co</td>\n",
       "      <td>520 3Rd Ave Sw</td>\n",
       "      <td>Rugby</td>\n",
       "      <td>ND</td>\n",
       "      <td>58368</td>\n",
       "    </tr>\n",
       "  </tbody>\n",
       "</table>\n",
       "<p>5 rows × 21 columns</p>\n",
       "</div>"
      ],
      "text/plain": [
       "                    id                vin    price    miles stock_no    year  \\\n",
       "1590347  4896a507-95b3  1GNSKBKC8KR398196  50995.0  37941.0   M24970  2019.0   \n",
       "3358313  88440f82-9422  1GNSKBKC8KR398196  50995.0  37941.0   M24970  2019.0   \n",
       "3365982  72d58a40-2474  1GNSKBKC8KR398196  50995.0  37941.0   M24970  2019.0   \n",
       "3367732  7177c060-f589  1GNSKBKC8KR398196  50995.0  37941.0   M24970  2019.0   \n",
       "3369506  8dcc3f81-38d9  1GNSKBKC8KR398196  50995.0  37941.0   M24970  2019.0   \n",
       "\n",
       "              make  model trim body_type  ... drivetrain transmission  \\\n",
       "1590347  Chevrolet  Tahoe   LT       SUV  ...        4WD    Automatic   \n",
       "3358313  Chevrolet  Tahoe   LT       SUV  ...        4WD    Automatic   \n",
       "3365982  Chevrolet  Tahoe   LT       SUV  ...        4WD    Automatic   \n",
       "3367732  Chevrolet  Tahoe   LT       SUV  ...        4WD    Automatic   \n",
       "3369506  Chevrolet  Tahoe   LT       SUV  ...        4WD    Automatic   \n",
       "\n",
       "        fuel_type engine_size  engine_block           seller_name  \\\n",
       "1590347  Unleaded         5.3             V   m j mcguire company   \n",
       "3358313  Unleaded         5.3             V  don bessette hyundai   \n",
       "3365982  Unleaded         5.3             V  don bessette hyundai   \n",
       "3367732  Unleaded         5.3             V   bessette motors inc   \n",
       "3369506  Unleaded         5.3             V       m.j. mcguire co   \n",
       "\n",
       "                           street        city state    zip  \n",
       "1590347  520 3Rd Avenue Southwest       Rugby    ND  58368  \n",
       "3358313       1715 North Broadway       Minot    ND  58703  \n",
       "3365982       1715 North Broadway       Minot    ND  58703  \n",
       "3367732      395 1St Street North  Carrington    ND  58421  \n",
       "3369506            520 3Rd Ave Sw       Rugby    ND  58368  \n",
       "\n",
       "[5 rows x 21 columns]"
      ]
     },
     "execution_count": 10,
     "metadata": {},
     "output_type": "execute_result"
    }
   ],
   "source": [
    "df[df['vin'] == '1GNSKBKC8KR398196']"
   ]
  },
  {
   "attachments": {},
   "cell_type": "markdown",
   "metadata": {},
   "source": [
    "### Get an idea of how many have multiple useful observations\n",
    "- 5.7m obs\n",
    "- 1.9m unique vins"
   ]
  },
  {
   "cell_type": "code",
   "execution_count": 11,
   "metadata": {},
   "outputs": [
    {
     "name": "stdout",
     "output_type": "stream",
     "text": [
      "df shape (7104304, 21)\n",
      "unique vins (2387394,)\n"
     ]
    }
   ],
   "source": [
    "print('df shape',df.shape)\n",
    "print('unique vins',df['vin'].unique().shape)"
   ]
  },
  {
   "cell_type": "code",
   "execution_count": 12,
   "metadata": {},
   "outputs": [],
   "source": [
    "# vins with multiple obs\n",
    "multi_obs_index = df['vin'].duplicated()"
   ]
  },
  {
   "cell_type": "code",
   "execution_count": 13,
   "metadata": {},
   "outputs": [
    {
     "data": {
      "text/plain": [
       "(1083488,)"
      ]
     },
     "execution_count": 13,
     "metadata": {},
     "output_type": "execute_result"
    }
   ],
   "source": [
    "# vins with multiple obs\n",
    "multi_obs_vins = df[multi_obs_index]['vin'].unique()\n",
    "\n",
    "# number of vins with multiple obs\n",
    "multi_obs_vins.shape"
   ]
  },
  {
   "cell_type": "code",
   "execution_count": 14,
   "metadata": {},
   "outputs": [
    {
     "data": {
      "text/plain": [
       "vin\n",
       "1111111U5GW174556    1\n",
       "12345657891111111    1\n",
       "137FA57343E206288    1\n",
       "137FA84321E194130    1\n",
       "137FA84362E198019    1\n",
       "                    ..\n",
       "ZPBUA1ZLXKLA04410    1\n",
       "ZPBUA1ZLXKLA04973    1\n",
       "ZPBUA1ZLXMLA11845    1\n",
       "ZPBUA1ZLXMLA12560    1\n",
       "ZPBUA1ZLXMLA12705    1\n",
       "Name: price, Length: 1083488, dtype: int64"
      ]
     },
     "execution_count": 14,
     "metadata": {},
     "output_type": "execute_result"
    }
   ],
   "source": [
    "# unique prices by vin (i.e. nunique > 1 is price change)\n",
    "df[multi_obs_index].groupby('vin')['price'].nunique()"
   ]
  },
  {
   "cell_type": "code",
   "execution_count": 15,
   "metadata": {},
   "outputs": [],
   "source": [
    "# bool for vins with a price change\n",
    "price_change_mask = df[multi_obs_index].groupby('vin')['price'].nunique() > 1"
   ]
  },
  {
   "cell_type": "code",
   "execution_count": 16,
   "metadata": {},
   "outputs": [
    {
     "data": {
      "text/plain": [
       "(80551,)"
      ]
     },
     "execution_count": 16,
     "metadata": {},
     "output_type": "execute_result"
    }
   ],
   "source": [
    "# vins with price changes\n",
    "price_change_vins = multi_obs_vins[price_change_mask]\n",
    "price_change_vins.shape"
   ]
  },
  {
   "cell_type": "code",
   "execution_count": 17,
   "metadata": {},
   "outputs": [
    {
     "data": {
      "text/plain": [
       "array(['5YMKT6C54J0Y83619', 'WBA7U2C00LGJ59393', 'WP0AA2A99FS106664', ...,\n",
       "       '1FT7W2BT3LEE03123', '1FT7W2BT3LED02423', '1FT7W2BT9KEC71757'],\n",
       "      dtype=object)"
      ]
     },
     "execution_count": 17,
     "metadata": {},
     "output_type": "execute_result"
    }
   ],
   "source": [
    "price_change_vins"
   ]
  },
  {
   "cell_type": "code",
   "execution_count": 18,
   "metadata": {},
   "outputs": [],
   "source": [
    "price_change_vins_history = df[df['vin'].isin(price_change_vins)].sort_values(by = ['vin','id'])"
   ]
  },
  {
   "cell_type": "code",
   "execution_count": 19,
   "metadata": {},
   "outputs": [
    {
     "data": {
      "text/plain": [
       "4.154324589390573"
      ]
     },
     "execution_count": 19,
     "metadata": {},
     "output_type": "execute_result"
    }
   ],
   "source": [
    "# average number of price changers per vin with price changes\n",
    "(price_change_vins_history.shape[0] - price_change_vins.shape[0]) / price_change_vins.shape[0]"
   ]
  },
  {
   "cell_type": "code",
   "execution_count": 20,
   "metadata": {},
   "outputs": [
    {
     "data": {
      "text/html": [
       "<div>\n",
       "<style scoped>\n",
       "    .dataframe tbody tr th:only-of-type {\n",
       "        vertical-align: middle;\n",
       "    }\n",
       "\n",
       "    .dataframe tbody tr th {\n",
       "        vertical-align: top;\n",
       "    }\n",
       "\n",
       "    .dataframe thead th {\n",
       "        text-align: right;\n",
       "    }\n",
       "</style>\n",
       "<table border=\"1\" class=\"dataframe\">\n",
       "  <thead>\n",
       "    <tr style=\"text-align: right;\">\n",
       "      <th></th>\n",
       "      <th>id</th>\n",
       "      <th>vin</th>\n",
       "      <th>price</th>\n",
       "      <th>miles</th>\n",
       "      <th>stock_no</th>\n",
       "      <th>year</th>\n",
       "      <th>make</th>\n",
       "      <th>model</th>\n",
       "      <th>trim</th>\n",
       "      <th>body_type</th>\n",
       "      <th>...</th>\n",
       "      <th>drivetrain</th>\n",
       "      <th>transmission</th>\n",
       "      <th>fuel_type</th>\n",
       "      <th>engine_size</th>\n",
       "      <th>engine_block</th>\n",
       "      <th>seller_name</th>\n",
       "      <th>street</th>\n",
       "      <th>city</th>\n",
       "      <th>state</th>\n",
       "      <th>zip</th>\n",
       "    </tr>\n",
       "  </thead>\n",
       "  <tbody>\n",
       "    <tr>\n",
       "      <th>2865</th>\n",
       "      <td>07705da5-3ff9</td>\n",
       "      <td>5YMKT6C54J0Y83619</td>\n",
       "      <td>75996.0</td>\n",
       "      <td>23858.0</td>\n",
       "      <td>P2410</td>\n",
       "      <td>2018.0</td>\n",
       "      <td>BMW</td>\n",
       "      <td>X5 M</td>\n",
       "      <td>Base</td>\n",
       "      <td>SUV</td>\n",
       "      <td>...</td>\n",
       "      <td>4WD</td>\n",
       "      <td>Automatic</td>\n",
       "      <td>Premium Unleaded</td>\n",
       "      <td>4.4</td>\n",
       "      <td>V</td>\n",
       "      <td>honda of newnan</td>\n",
       "      <td>391 Newnan Crossing Bypass</td>\n",
       "      <td>Newnan</td>\n",
       "      <td>GA</td>\n",
       "      <td>30265</td>\n",
       "    </tr>\n",
       "    <tr>\n",
       "      <th>5362188</th>\n",
       "      <td>0a22b77c-e3ee</td>\n",
       "      <td>5YMKT6C54J0Y83619</td>\n",
       "      <td>75996.0</td>\n",
       "      <td>23858.0</td>\n",
       "      <td>P2410</td>\n",
       "      <td>2018.0</td>\n",
       "      <td>BMW</td>\n",
       "      <td>X5 M</td>\n",
       "      <td>Base</td>\n",
       "      <td>SUV</td>\n",
       "      <td>...</td>\n",
       "      <td>4WD</td>\n",
       "      <td>Automatic</td>\n",
       "      <td>Premium Unleaded</td>\n",
       "      <td>4.4</td>\n",
       "      <td>V</td>\n",
       "      <td>darrell waltrip buick gmc</td>\n",
       "      <td>1440 Murfreesboro Road</td>\n",
       "      <td>Franklin</td>\n",
       "      <td>TN</td>\n",
       "      <td>37067</td>\n",
       "    </tr>\n",
       "    <tr>\n",
       "      <th>34446</th>\n",
       "      <td>0df1e912-38cd</td>\n",
       "      <td>5YMKT6C54J0Y83619</td>\n",
       "      <td>75996.0</td>\n",
       "      <td>23858.0</td>\n",
       "      <td>P2410</td>\n",
       "      <td>2018.0</td>\n",
       "      <td>BMW</td>\n",
       "      <td>X5 M</td>\n",
       "      <td>Base</td>\n",
       "      <td>SUV</td>\n",
       "      <td>...</td>\n",
       "      <td>4WD</td>\n",
       "      <td>Automatic</td>\n",
       "      <td>Premium Unleaded</td>\n",
       "      <td>4.4</td>\n",
       "      <td>V</td>\n",
       "      <td>hendrick motors of charlotte</td>\n",
       "      <td>5201 E. Independence Blvd</td>\n",
       "      <td>Charlotte</td>\n",
       "      <td>NC</td>\n",
       "      <td>28212</td>\n",
       "    </tr>\n",
       "    <tr>\n",
       "      <th>1134</th>\n",
       "      <td>0e1e49b4-5778</td>\n",
       "      <td>5YMKT6C54J0Y83619</td>\n",
       "      <td>75996.0</td>\n",
       "      <td>23858.0</td>\n",
       "      <td>P2410</td>\n",
       "      <td>2018.0</td>\n",
       "      <td>BMW</td>\n",
       "      <td>X5 M</td>\n",
       "      <td>Base</td>\n",
       "      <td>SUV</td>\n",
       "      <td>...</td>\n",
       "      <td>4WD</td>\n",
       "      <td>Automatic</td>\n",
       "      <td>Premium Unleaded</td>\n",
       "      <td>4.4</td>\n",
       "      <td>V</td>\n",
       "      <td>east bay mini</td>\n",
       "      <td>4340 Rosewood Dr</td>\n",
       "      <td>Pleasanton</td>\n",
       "      <td>CA</td>\n",
       "      <td>94588</td>\n",
       "    </tr>\n",
       "    <tr>\n",
       "      <th>1803274</th>\n",
       "      <td>0f0e604a-6cdb</td>\n",
       "      <td>5YMKT6C54J0Y83619</td>\n",
       "      <td>75996.0</td>\n",
       "      <td>23858.0</td>\n",
       "      <td>P2410</td>\n",
       "      <td>2018.0</td>\n",
       "      <td>BMW</td>\n",
       "      <td>X5 M</td>\n",
       "      <td>Base</td>\n",
       "      <td>SUV</td>\n",
       "      <td>...</td>\n",
       "      <td>4WD</td>\n",
       "      <td>Automatic</td>\n",
       "      <td>Premium Unleaded</td>\n",
       "      <td>4.4</td>\n",
       "      <td>V</td>\n",
       "      <td>hendrick automotive group</td>\n",
       "      <td>6030 E Independence Blvd</td>\n",
       "      <td>Charlotte</td>\n",
       "      <td>NC</td>\n",
       "      <td>28212</td>\n",
       "    </tr>\n",
       "    <tr>\n",
       "      <th>...</th>\n",
       "      <td>...</td>\n",
       "      <td>...</td>\n",
       "      <td>...</td>\n",
       "      <td>...</td>\n",
       "      <td>...</td>\n",
       "      <td>...</td>\n",
       "      <td>...</td>\n",
       "      <td>...</td>\n",
       "      <td>...</td>\n",
       "      <td>...</td>\n",
       "      <td>...</td>\n",
       "      <td>...</td>\n",
       "      <td>...</td>\n",
       "      <td>...</td>\n",
       "      <td>...</td>\n",
       "      <td>...</td>\n",
       "      <td>...</td>\n",
       "      <td>...</td>\n",
       "      <td>...</td>\n",
       "      <td>...</td>\n",
       "      <td>...</td>\n",
       "    </tr>\n",
       "    <tr>\n",
       "      <th>31516</th>\n",
       "      <td>f83db5d5-a943</td>\n",
       "      <td>5YMKT6C54J0Y83619</td>\n",
       "      <td>75996.0</td>\n",
       "      <td>23858.0</td>\n",
       "      <td>P2410</td>\n",
       "      <td>2018.0</td>\n",
       "      <td>BMW</td>\n",
       "      <td>X5 M</td>\n",
       "      <td>Base</td>\n",
       "      <td>SUV</td>\n",
       "      <td>...</td>\n",
       "      <td>4WD</td>\n",
       "      <td>Automatic</td>\n",
       "      <td>Premium Unleaded</td>\n",
       "      <td>4.4</td>\n",
       "      <td>V</td>\n",
       "      <td>hendrick kia of concord</td>\n",
       "      <td>7550 Hendrick Auto Plaza Nw</td>\n",
       "      <td>Concord</td>\n",
       "      <td>NC</td>\n",
       "      <td>28027</td>\n",
       "    </tr>\n",
       "    <tr>\n",
       "      <th>1781270</th>\n",
       "      <td>f87ec3c0-4655</td>\n",
       "      <td>5YMKT6C54J0Y83619</td>\n",
       "      <td>75996.0</td>\n",
       "      <td>23858.0</td>\n",
       "      <td>P2410</td>\n",
       "      <td>2018.0</td>\n",
       "      <td>BMW</td>\n",
       "      <td>X5 M</td>\n",
       "      <td>Base</td>\n",
       "      <td>SUV</td>\n",
       "      <td>...</td>\n",
       "      <td>4WD</td>\n",
       "      <td>Automatic</td>\n",
       "      <td>Premium Unleaded</td>\n",
       "      <td>4.4</td>\n",
       "      <td>V</td>\n",
       "      <td>mall of georgia mazda</td>\n",
       "      <td>3546 Ga-20</td>\n",
       "      <td>Buford</td>\n",
       "      <td>GA</td>\n",
       "      <td>30519</td>\n",
       "    </tr>\n",
       "    <tr>\n",
       "      <th>1777394</th>\n",
       "      <td>fad31122-9530</td>\n",
       "      <td>5YMKT6C54J0Y83619</td>\n",
       "      <td>76387.0</td>\n",
       "      <td>23786.0</td>\n",
       "      <td>P2410</td>\n",
       "      <td>2018.0</td>\n",
       "      <td>BMW</td>\n",
       "      <td>X5 M</td>\n",
       "      <td>Base</td>\n",
       "      <td>SUV</td>\n",
       "      <td>...</td>\n",
       "      <td>4WD</td>\n",
       "      <td>Automatic</td>\n",
       "      <td>Premium Unleaded</td>\n",
       "      <td>4.4</td>\n",
       "      <td>V</td>\n",
       "      <td>rick hendrick jeep chrysler dodge ram fiat</td>\n",
       "      <td>8333 Rivers Ave</td>\n",
       "      <td>Charleston</td>\n",
       "      <td>SC</td>\n",
       "      <td>29406</td>\n",
       "    </tr>\n",
       "    <tr>\n",
       "      <th>3571277</th>\n",
       "      <td>faf5851d-7921</td>\n",
       "      <td>5YMKT6C54J0Y83619</td>\n",
       "      <td>75996.0</td>\n",
       "      <td>23858.0</td>\n",
       "      <td>P2410</td>\n",
       "      <td>2018.0</td>\n",
       "      <td>BMW</td>\n",
       "      <td>X5 M</td>\n",
       "      <td>Base</td>\n",
       "      <td>SUV</td>\n",
       "      <td>...</td>\n",
       "      <td>4WD</td>\n",
       "      <td>Automatic</td>\n",
       "      <td>Premium Unleaded</td>\n",
       "      <td>4.4</td>\n",
       "      <td>V</td>\n",
       "      <td>rick hendrick dodge chrysler jeep ram</td>\n",
       "      <td>1468 Savannah Hwy</td>\n",
       "      <td>Charleston</td>\n",
       "      <td>SC</td>\n",
       "      <td>29407</td>\n",
       "    </tr>\n",
       "    <tr>\n",
       "      <th>1800149</th>\n",
       "      <td>fb2ded32-3a3f</td>\n",
       "      <td>5YMKT6C54J0Y83619</td>\n",
       "      <td>75996.0</td>\n",
       "      <td>23858.0</td>\n",
       "      <td>P2410</td>\n",
       "      <td>2018.0</td>\n",
       "      <td>BMW</td>\n",
       "      <td>X5 M</td>\n",
       "      <td>Base</td>\n",
       "      <td>SUV</td>\n",
       "      <td>...</td>\n",
       "      <td>4WD</td>\n",
       "      <td>Automatic</td>\n",
       "      <td>Premium Unleaded</td>\n",
       "      <td>4.4</td>\n",
       "      <td>V</td>\n",
       "      <td>mercedes-benz of durham</td>\n",
       "      <td>110 Kentington Dr.</td>\n",
       "      <td>Durham</td>\n",
       "      <td>NC</td>\n",
       "      <td>27713</td>\n",
       "    </tr>\n",
       "  </tbody>\n",
       "</table>\n",
       "<p>70 rows × 21 columns</p>\n",
       "</div>"
      ],
      "text/plain": [
       "                    id                vin    price    miles stock_no    year  \\\n",
       "2865     07705da5-3ff9  5YMKT6C54J0Y83619  75996.0  23858.0    P2410  2018.0   \n",
       "5362188  0a22b77c-e3ee  5YMKT6C54J0Y83619  75996.0  23858.0    P2410  2018.0   \n",
       "34446    0df1e912-38cd  5YMKT6C54J0Y83619  75996.0  23858.0    P2410  2018.0   \n",
       "1134     0e1e49b4-5778  5YMKT6C54J0Y83619  75996.0  23858.0    P2410  2018.0   \n",
       "1803274  0f0e604a-6cdb  5YMKT6C54J0Y83619  75996.0  23858.0    P2410  2018.0   \n",
       "...                ...                ...      ...      ...      ...     ...   \n",
       "31516    f83db5d5-a943  5YMKT6C54J0Y83619  75996.0  23858.0    P2410  2018.0   \n",
       "1781270  f87ec3c0-4655  5YMKT6C54J0Y83619  75996.0  23858.0    P2410  2018.0   \n",
       "1777394  fad31122-9530  5YMKT6C54J0Y83619  76387.0  23786.0    P2410  2018.0   \n",
       "3571277  faf5851d-7921  5YMKT6C54J0Y83619  75996.0  23858.0    P2410  2018.0   \n",
       "1800149  fb2ded32-3a3f  5YMKT6C54J0Y83619  75996.0  23858.0    P2410  2018.0   \n",
       "\n",
       "        make model  trim body_type  ... drivetrain transmission  \\\n",
       "2865     BMW  X5 M  Base       SUV  ...        4WD    Automatic   \n",
       "5362188  BMW  X5 M  Base       SUV  ...        4WD    Automatic   \n",
       "34446    BMW  X5 M  Base       SUV  ...        4WD    Automatic   \n",
       "1134     BMW  X5 M  Base       SUV  ...        4WD    Automatic   \n",
       "1803274  BMW  X5 M  Base       SUV  ...        4WD    Automatic   \n",
       "...      ...   ...   ...       ...  ...        ...          ...   \n",
       "31516    BMW  X5 M  Base       SUV  ...        4WD    Automatic   \n",
       "1781270  BMW  X5 M  Base       SUV  ...        4WD    Automatic   \n",
       "1777394  BMW  X5 M  Base       SUV  ...        4WD    Automatic   \n",
       "3571277  BMW  X5 M  Base       SUV  ...        4WD    Automatic   \n",
       "1800149  BMW  X5 M  Base       SUV  ...        4WD    Automatic   \n",
       "\n",
       "                fuel_type engine_size  engine_block  \\\n",
       "2865     Premium Unleaded         4.4             V   \n",
       "5362188  Premium Unleaded         4.4             V   \n",
       "34446    Premium Unleaded         4.4             V   \n",
       "1134     Premium Unleaded         4.4             V   \n",
       "1803274  Premium Unleaded         4.4             V   \n",
       "...                   ...         ...           ...   \n",
       "31516    Premium Unleaded         4.4             V   \n",
       "1781270  Premium Unleaded         4.4             V   \n",
       "1777394  Premium Unleaded         4.4             V   \n",
       "3571277  Premium Unleaded         4.4             V   \n",
       "1800149  Premium Unleaded         4.4             V   \n",
       "\n",
       "                                        seller_name  \\\n",
       "2865                                honda of newnan   \n",
       "5362188                   darrell waltrip buick gmc   \n",
       "34446                  hendrick motors of charlotte   \n",
       "1134                                  east bay mini   \n",
       "1803274                   hendrick automotive group   \n",
       "...                                             ...   \n",
       "31516                       hendrick kia of concord   \n",
       "1781270                       mall of georgia mazda   \n",
       "1777394  rick hendrick jeep chrysler dodge ram fiat   \n",
       "3571277       rick hendrick dodge chrysler jeep ram   \n",
       "1800149                     mercedes-benz of durham   \n",
       "\n",
       "                              street        city state    zip  \n",
       "2865      391 Newnan Crossing Bypass      Newnan    GA  30265  \n",
       "5362188       1440 Murfreesboro Road    Franklin    TN  37067  \n",
       "34446      5201 E. Independence Blvd   Charlotte    NC  28212  \n",
       "1134                4340 Rosewood Dr  Pleasanton    CA  94588  \n",
       "1803274     6030 E Independence Blvd   Charlotte    NC  28212  \n",
       "...                              ...         ...   ...    ...  \n",
       "31516    7550 Hendrick Auto Plaza Nw     Concord    NC  28027  \n",
       "1781270                   3546 Ga-20      Buford    GA  30519  \n",
       "1777394              8333 Rivers Ave  Charleston    SC  29406  \n",
       "3571277            1468 Savannah Hwy  Charleston    SC  29407  \n",
       "1800149           110 Kentington Dr.      Durham    NC  27713  \n",
       "\n",
       "[70 rows x 21 columns]"
      ]
     },
     "execution_count": 20,
     "metadata": {},
     "output_type": "execute_result"
    }
   ],
   "source": [
    "price_change_vins_history[price_change_vins_history['vin'] == '5YMKT6C54J0Y83619']"
   ]
  },
  {
   "cell_type": "markdown",
   "metadata": {},
   "source": [
    "## Texas"
   ]
  },
  {
   "cell_type": "code",
   "execution_count": 21,
   "metadata": {},
   "outputs": [
    {
     "data": {
      "text/plain": [
       "542569"
      ]
     },
     "execution_count": 21,
     "metadata": {},
     "output_type": "execute_result"
    }
   ],
   "source": [
    "sum(df['state'] == 'TX')"
   ]
  },
  {
   "cell_type": "code",
   "execution_count": 22,
   "metadata": {},
   "outputs": [],
   "source": [
    "texas = df[df['state'] == 'TX']"
   ]
  },
  {
   "cell_type": "code",
   "execution_count": 23,
   "metadata": {},
   "outputs": [
    {
     "name": "stdout",
     "output_type": "stream",
     "text": [
      "df shape (542569, 21)\n",
      "unique vins (255667,)\n"
     ]
    }
   ],
   "source": [
    "print('df shape',texas.shape)\n",
    "print('unique vins',texas['vin'].unique().shape)"
   ]
  },
  {
   "cell_type": "code",
   "execution_count": null,
   "metadata": {},
   "outputs": [],
   "source": []
  }
 ],
 "metadata": {
  "kernelspec": {
   "display_name": "base",
   "language": "python",
   "name": "python3"
  },
  "language_info": {
   "codemirror_mode": {
    "name": "ipython",
    "version": 3
   },
   "file_extension": ".py",
   "mimetype": "text/x-python",
   "name": "python",
   "nbconvert_exporter": "python",
   "pygments_lexer": "ipython3",
   "version": "3.9.13"
  },
  "orig_nbformat": 4,
  "vscode": {
   "interpreter": {
    "hash": "9ce51b511e31678062ea377e4f294f92e7c7692784d9643ac534d9eb5246e9c5"
   }
  }
 },
 "nbformat": 4,
 "nbformat_minor": 2
}
