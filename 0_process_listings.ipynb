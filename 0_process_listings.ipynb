{
 "cells": [
  {
   "cell_type": "code",
   "execution_count": 10,
   "metadata": {},
   "outputs": [],
   "source": [
    "import pyspark\n",
    "from pyspark import SparkContext\n",
    "from pyspark.sql import SparkSession\n",
    "from pyspark.sql import Row\n",
    "from pyspark.sql.types import *"
   ]
  },
  {
   "cell_type": "code",
   "execution_count": 13,
   "metadata": {},
   "outputs": [],
   "source": [
    "sc = SparkContext()"
   ]
  },
  {
   "cell_type": "code",
   "execution_count": 14,
   "metadata": {},
   "outputs": [],
   "source": [
    "# construct spark session instance\n",
    "spark = SparkSession(sc).builder \\\n",
    "\t.master(\"local\") \\\n",
    "\t.appName(\"Process Listings\") \\\n",
    "\t.config(\"spark.debug.maxToStringFields\", \"100\") \\\n",
    "\t.getOrCreate()"
   ]
  },
  {
   "cell_type": "code",
   "execution_count": 15,
   "metadata": {},
   "outputs": [],
   "source": [
    "# file path\n",
    "#file = '/data/p_dsi/capstone_projects/shea/mc_listings_extract.csv.gz'\n",
    "file = 'hdfs:///user/conawws1/mc_listings_extract.csv.gz'"
   ]
  },
  {
   "cell_type": "code",
   "execution_count": 16,
   "metadata": {},
   "outputs": [],
   "source": [
    "# define schema\n",
    "schema = StructType([\n",
    "\tStructField('id',StringType(),True)\n",
    "\t,StructField('vin',StringType(),True)\n",
    "\t,StructField('heading',StringType(),True)\n",
    "\t,StructField('more_info',StringType(),True)\n",
    "\t,StructField('price',IntegerType(),True)\n",
    "\t,StructField('msrp',IntegerType(),True)\n",
    "\t,StructField('miles',IntegerType(),True)\n",
    "\t,StructField('stock_no',StringType(),True)\n",
    "\t,StructField('year',ShortType(),True)\n",
    "\t,StructField('make',StringType(),True)\n",
    "\t,StructField('model',StringType(),True)\n",
    "\t,StructField('trim',StringType(),True)\n",
    "\t,StructField('vehicle_type',StringType(),True)\n",
    "\t,StructField('body_type',StringType(),True)\n",
    "\t,StructField('body_subtype',StringType(),True)\n",
    "\t,StructField('drivetrain',StringType(),True)\n",
    "\t,StructField('fuel_type',StringType(),True)\n",
    "\t,StructField('engine',StringType(),True)\n",
    "\t,StructField('engine_block',StringType(),True)\n",
    "\t,StructField('engine_size',StringType(),True)\n",
    "\t,StructField('engine_measure',StringType(),True)\n",
    "\t,StructField('engine_aspiration',StringType(),True)\n",
    "\t,StructField('transmission',StringType(),True)\n",
    "\t,StructField('speeds',ByteType(),True)\n",
    "\t,StructField('doors',ByteType(),True)\n",
    "\t,StructField('cylinders',ByteType(),True)\n",
    "\t,StructField('city_mpg',ByteType(),True)\n",
    "\t,StructField('highway_mpg',ByteType(),True)\n",
    "\t,StructField('interior_color',StringType(),True)\n",
    "\t,StructField('exterior_color',StringType(),True)\n",
    "\t,StructField('base_exterior_color',StringType(),True)\n",
    "\t,StructField('base_interior_color',StringType(),True)\n",
    "\t,StructField('is_certified',ByteType(),True) # try BooleanType\n",
    "\t,StructField('is_transfer',ByteType(),True) # try BooleanType\n",
    "\t,StructField('taxonomy_vin',StringType(),True)\n",
    "\t,StructField('model_code',StringType(),True)\n",
    "\t,StructField('scraped_at',StringType(),True)\n",
    "\t,StructField('status_date',StringType(),True)\n",
    "\t,StructField('first_scraped_at',StringType(),True)\n",
    "\t,StructField('dealer_id',StringType(),True)\n",
    "\t,StructField('source',StringType(),True)\n",
    "\t,StructField('seller_name',StringType(),True)\n",
    "\t,StructField('street',StringType(),True)\n",
    "\t,StructField('city',StringType(),True)\n",
    "\t,StructField('state',StringType(),True)\n",
    "\t,StructField('zip',StringType(),True)\n",
    "\t,StructField('latitude',FloatType(),True)\n",
    "\t,StructField('longitude',FloatType(),True)\n",
    "\t,StructField('country',StringType(),True)\n",
    "\t,StructField('seller_phone',StringType(),True)\n",
    "\t,StructField('seller_email',StringType(),True)\n",
    "\t,StructField('seller_type',StringType(),True)\n",
    "\t,StructField('listing_type',StringType(),True)\n",
    "\t,StructField('inventory_type',StringType(),True)\n",
    "\t,StructField('dealer_type',StringType(),True)\n",
    "\t,StructField('car_seller_name',StringType(),True)\n",
    "\t,StructField('car_address',StringType(),True)\n",
    "\t,StructField('car_street',StringType(),True)\n",
    "\t,StructField('car_city',StringType(),True)\n",
    "\t,StructField('car_state',StringType(),True)\n",
    "\t,StructField('car_zip',StringType(),True)\n",
    "\t,StructField('car_latitude',FloatType(),True)\n",
    "\t,StructField('car_longitude',FloatType(),True)\n",
    "\t,StructField('seller_comments',StringType(),True)\n",
    "\t,StructField('options',StringType(),True)\n",
    "\t,StructField('features',StringType(),True)\n",
    "\t,StructField('photo_links',StringType(),True)\n",
    "\t,StructField('photo_url',StringType(),True)\n",
    "\t,StructField('dom',ShortType(),True)\n",
    "\t,StructField('dom_180',ShortType(),True)\n",
    "\t,StructField('dom_active',ShortType(),True)\n",
    "\t,StructField('currency_indicator',StringType(),True)\n",
    "\t,StructField('miles_indicator',StringType(),True)\n",
    "\t,StructField('carfax_1_owner',ByteType(),True) # try BooleanType\n",
    "\t,StructField('carfax_clean_title',ByteType(),True) # try BooleanType\n",
    "\t,StructField('loan_term',ShortType(),True)\n",
    "\t,StructField('loan_apr',FloatType(),True)\n",
    "\t,StructField('l_down_pay',FloatType(),True)\n",
    "\t,StructField('l_emi',FloatType(),True)\n",
    "\t,StructField('f_down_pay',FloatType(),True)\n",
    "\t,StructField('f_down_pay_per',FloatType(),True)\n",
    "\t,StructField('f_emi',FloatType(),True)\n",
    "\t,StructField('lease_term',ShortType(),True)\n",
    "\t,StructField('in_transit',ByteType(),True) # try BooleanType\n",
    "\t,StructField('in_transit_at',StringType(),True)\n",
    "\t,StructField('in_transit_days',IntegerType(),True)\n",
    "\t,StructField('high_value_features',StringType(),True)\n",
    "\t])"
   ]
  },
  {
   "cell_type": "code",
   "execution_count": 17,
   "metadata": {},
   "outputs": [],
   "source": [
    "# read csv\n",
    "df = spark.read.csv(file, schema = schema, sep = ',', quote = '\"')\n",
    "## PARSING PROBLEM, need to use quotations as field delimiter\n",
    "\t# example vins (1C6RR6YT5JS119710, 4T1B11HK2KU777711)"
   ]
  },
  {
   "cell_type": "code",
   "execution_count": 18,
   "metadata": {},
   "outputs": [
    {
     "name": "stdout",
     "output_type": "stream",
     "text": [
      "(2989, 87)\n"
     ]
    }
   ],
   "source": [
    "# size\n",
    "print((df.count(), len(df.columns)))"
   ]
  },
  {
   "cell_type": "code",
   "execution_count": 19,
   "metadata": {},
   "outputs": [
    {
     "data": {
      "text/plain": [
       "[Row(id=None, vin=None, heading=None, more_info=None, price=None, msrp=None, miles=None, stock_no=None, year=None, make=None, model=None, trim=None, vehicle_type=None, body_type=None, body_subtype=None, drivetrain=None, fuel_type=None, engine=None, engine_block=None, engine_size=None, engine_measure=None, engine_aspiration=None, transmission=None, speeds=None, doors=None, cylinders=None, city_mpg=None, highway_mpg=None, interior_color=None, exterior_color=None, base_exterior_color=None, base_interior_color=None, is_certified=None, is_transfer=None, taxonomy_vin=None, model_code=None, scraped_at=None, status_date=None, first_scraped_at=None, dealer_id=None, source=None, seller_name=None, street=None, city=None, state=None, zip=None, latitude=None, longitude=None, country=None, seller_phone=None, seller_email=None, seller_type=None, listing_type=None, inventory_type=None, dealer_type=None, car_seller_name=None, car_address=None, car_street=None, car_city=None, car_state=None, car_zip=None, car_latitude=None, car_longitude=None, seller_comments=None, options=None, features=None, photo_links=None, photo_url=None, dom=None, dom_180=None, dom_active=None, currency_indicator=None, miles_indicator=None, carfax_1_owner=None, carfax_clean_title=None, loan_term=None, loan_apr=None, l_down_pay=None, l_emi=None, f_down_pay=None, f_down_pay_per=None, f_emi=None, lease_term=None, in_transit=None, in_transit_at=None, in_transit_days=None, high_value_features=None),\n",
       " Row(id='3N1CN7AP3GL814923-f1f485e3-a6d3', vin='3N1CN7AP3GL814923', heading='2016 Nissan Versa 1.6 S', more_info='http://www.wellsautogroup.com/pre-owned-cars/detail/2016/580611', price=5998, msrp=17140, miles=137197, stock_no='GL814923', year=2016, make='Nissan', model='Versa Sedan', trim='S', vehicle_type='Car', body_type='Sedan', body_subtype=None, drivetrain='FWD', fuel_type='Unleaded', engine='1.6L I4', engine_block='I', engine_size='1.6', engine_measure=None, engine_aspiration=None, transmission='Manual', speeds=None, doors=4, cylinders=4, city_mpg=27, highway_mpg=36, interior_color=None, exterior_color='White', base_exterior_color='White', base_interior_color=None, is_certified=0, is_transfer=None, taxonomy_vin='3N1CN7APGL', model_code=None, scraped_at='1601411954', status_date='1601411954', first_scraped_at='1490205312', dealer_id='1080975', source='wellsautogroup.com', seller_name='Wells Auto Group', street='800 North Central Expressway', city='Mckinney', state='TX', zip='75070', latitude=33.204612731933594, longitude=-96.63726806640625, country='US', seller_phone='(214) 575-9800', seller_email=None, seller_type='dealer', listing_type='dealer', inventory_type='used', dealer_type='franchise', car_seller_name=None, car_address=None, car_street=None, car_city=None, car_state=None, car_zip=None, car_latitude=None, car_longitude=None, seller_comments='2016 Nissan Versa 1.6 SV ABS brakes, CD player, Electronic Stability Control, Low tire pressure warning, Traction control. Clean CARFAX. Awards: * 2016 KBB.com 5-Year Cost to Own Awards Most of our vehicles also pre-qualify for up to a 100,000 mile extended warranty and low finance rates with approved credit. Please complete the online credit application on our website at www.WellsAutoGroup.com for pre-approval. Come by our hassle-free Dealership, conveniently located at 800 N CENTRAL EXPY. MCKINNEY, TX . We take pride in our one of a kind car buying experience come see us today. Airport pickup avail. 214-575-9800 ! SE HABLA ESPAnOL.', options=None, features='Aero-Composite Halogen Headlamps|Black Grille w/Chrome Surround|Black Side Windows Trim and Black Front Windshield Trim|Body-Colored Front Bumper|Body-Colored Rear Bumper|Clearcoat Paint|Compact Spare Tire Mounted Inside Under Cargo|Fixed Rear Window w/Defroster|Fully Galvanized Steel Panels|Light Tinted Glass|Steel Spare Wheel|Tire - Spare: Temporary Spare Tire|Trunk Rear Cargo Access|1 12V DC Power Outlet|4-Way Passenger Seat -inc: Manual Recline and Fore/Aft Movement|Air Conditioning: A/C|Cargo Space Lights|Day-Night Rearview Mirror|Delayed Accessory Power|Digital/Analog Display|Driver And Passenger Door Bins|Driver Foot Rest|Fade-To-Off Interior Lighting|Front Cupholder|Full Board Headliner|Full Carpet Floor Covering|Full Floor Console w/Storage and 1 12V DC Power Outlet|Glove Box|Integrated Roof Antenna|Manual Air Conditioning|Manual Tilt Steering Column|Passenger Visor Vanity Mirror w/Driver And Passenger Auxiliary Mirror|Rear Cupholder|Remote Releases -Inc: Mechanical Cargo Access and Mechanical Fuel|Seat Trim: Cloth Seats|Seats w/Cloth Back Material|Telephone: Bluetooth Connection|Trip Computer|Urethane Gear Shifter Material|Window: Rear Defrost|Mirrors|Passenger Vanity Mirror|Power Mirror(s)|Seats|Bucket Seats|Rear Bench Seat|Audio|AM/FM Stereo|Auxiliary Audio Input|CD Player|MP3 Player|Convenience|Adjustable Steering Wheel|Intermittent Wipers|Remote Trunk Release|Steering Wheel Audio Controls|Trip Computer|Airbag Occupancy Sensor|Curtain 1st And 2nd Row Airbags|Dual Stage Driver And Passenger Front Airbags|Dual Stage Driver And Passenger Seat-Mounted Side Airbags|Low Tire Pressure Warning|Outboard Front Lap And Shoulder Safety Belts -inc: Rear Center 3 Point, Height Adjusters and Pretensioners|Rear Child Safety Locks|Side Impact Beams|Air Bag - Frontal|Driver Air Bag|Passenger Air Bag|Passenger Air Bag Sensor|Air Bag - Side|Front Head Air Bag|Front Side Air Bag|Rear Head Air Bag|Safety |Brake Assist|Child Safety Locks|Stability Control|Traction Control', photo_links='http://images.dealersync.com/cloud/userdocumentprod/2659/Photos/580611/wm_cf5d55b8525e443a8ac92b4331255817_580611.jpg?_=b77b544b6d916283e23f148920282ea88cdbc335|http://images.dealersync.com/cloud/userdocumentprod/2659/Photos/580611/20200918002251596_DSC04884.jpg?_=dc1ddf21e7f72f18abc44e6c8165382a7c0482a5|http://images.dealersync.com/cloud/userdocumentprod/2659/Photos/580611/20200918002252808_DSC04885.jpg?_=83894e19d44612194e5a2975fa32550b16de6abf|http://images.dealersync.com/cloud/userdocumentprod/2659/Photos/580611/20200918002304485_DSC04886.jpg?_=857e4d78f02adac86266734b5fe7bc605106e515|http://images.dealersync.com/cloud/userdocumentprod/2659/Photos/580611/20200918002248226_DSC04883.jpg?_=6e24c9ef08c8daff0d4b4f78c8f5230d6c7da180|http://images.dealersync.com/cloud/userdocumentprod/2659/Photos/580611/20200918002306534_DSC04887.jpg?_=664cfbd33b13550ae2fbbec9b36f437ba81b10d7|http://images.dealersync.com/cloud/userdocumentprod/2659/Photos/580611/20200918002306040_DSC04888.jpg?_=06337965dfb5977fc041ed70a34dd4e9c9ddc8d8|http://images.dealersync.com/cloud/userdocumentprod/2659/Photos/580611/20200918002308488_DSC04889.jpg?_=ebeaeb90bfecf2b9b05a5868f04fd3bcec82297c|http://images.dealersync.com/cloud/userdocumentprod/2659/Photos/580611/20200918002319645_DSC04890.jpg?_=437649ce19b22a33dc82b9086a18638dd93f362a|http://images.dealersync.com/cloud/userdocumentprod/2659/Photos/580611/20200918002329669_DSC04893.jpg?_=62eee31abb601a4b1dbf4f3ca1c0e7ee46d799d3|http://images.dealersync.com/cloud/userdocumentprod/2659/Photos/580611/20200918002335566_DSC04894.jpg?_=493562232918d883a5a1b6db3b8ba679e2220fae|http://images.dealersync.com/cloud/userdocumentprod/2659/Photos/580611/20200918002325355_DSC04891.jpg?_=71d7a4eccbe9e86c1c7e2b530537c38cc59088ba|http://images.dealersync.com/cloud/userdocumentprod/2659/Photos/580611/20200918002341782_DSC04895.jpg?_=5c2a0c2bba57547bc397bea441f06e1467ae4436|http://images.dealersync.com/cloud/userdocumentprod/2659/Photos/580611/20200918002346256_DSC04896.jpg?_=be73fc70427c7b0a8b5989ec25a5f154191ac9ad|http://images.dealersync.com/cloud/userdocumentprod/2659/Photos/580611/20200918002326021_DSC04892.jpg?_=a3491e10c311f952527dc83aca56ba53cf59f5b5|http://images.dealersync.com/cloud/userdocumentprod/2659/Photos/580611/20200918002349844_DSC04897.jpg?_=5156e30f32fc8db65b7faef72556724e076a8c17|http://images.dealersync.com/cloud/userdocumentprod/2659/Photos/580611/20200918002353513_DSC04898.jpg?_=beff51f9d86bfc0bd98ad57f6be3cad552b92fd4|http://images.dealersync.com/cloud/userdocumentprod/2659/Photos/580611/20200918002354839_DSC04899.jpg?_=f746f852d72db15781789aa1a8812297b4c251d2|http://images.dealersync.com/cloud/userdocumentprod/2659/Photos/580611/20200918002408227_DSC04900.jpg?_=0d73d606a56965e9c0f3fa6598755d6abefac0be|http://images.dealersync.com/cloud/userdocumentprod/2659/Photos/580611/20200918002409349_DSC04901.jpg?_=d7a24515f390fbd823bda1ff0e387a4ca41e1eda|http://images.dealersync.com/cloud/userdocumentprod/2659/Photos/580611/20200918002410295_DSC04902.jpg?_=1d6db2c60e764f9b0b0018c5121f4a681eedd97b|http://images.dealersync.com/cloud/userdocumentprod/2659/Photos/580611/20200918002411206_DSC04903.jpg?_=3a8a688f874f0a4004e174b4f4bb097429c799f7|http://images.dealersync.com/cloud/userdocumentprod/2659/Photos/580611/20200918002425018_DSC04904.jpg?_=03b33cad771b6056a412406488c137f1efe34d8c|http://images.dealersync.com/cloud/userdocumentprod/2659/Photos/580611/20200918002430956_DSC04905.jpg?_=7e7aa43280e3fb7c93b9ff054950ebc24a6cfc08|http://images.dealersync.com/cloud/userdocumentprod/2659/Photos/580611/20200918002429270_DSC04906.jpg?_=c1fea602fb78de9e962cc2e8bac85ddc82603238|http://images.dealersync.com/cloud/userdocumentprod/2659/Photos/580611/20200918002438695_DSC04907.jpg?_=ca9119fa0baa1af786aaf4d13336033e3784666a|http://images.dealersync.com/cloud/userdocumentprod/2659/Photos/580611/20200918002433247_DSC04908.jpg?_=5989a159fad5baae75dc69368325e27ab937d35b|http://images.dealersync.com/cloud/userdocumentprod/2659/Photos/580611/20200918002445445_DSC04910.jpg?_=e6778a94a8f77102eb84f54b16dcdf19e8264866|http://images.dealersync.com/cloud/userdocumentprod/2659/Photos/580611/20200918002454144_DSC04911.jpg?_=5c338d083c95ef59dee911f6b7a33d2616e69127|http://images.dealersync.com/cloud/userdocumentprod/2659/Photos/580611/20200918002450723_DSC04912.jpg?_=cd2f9addae16d425af592cc0087418ffdaba9c74|http://images.dealersync.com/cloud/userdocumentprod/2659/Photos/580611/20200918002458638_DSC04913.jpg?_=8d0912b23eb1aa90580ecf231a57a9d55204d076|http://images.dealersync.com/cloud/userdocumentprod/2659/Photos/580611/20200918002456768_DSC04914.jpg?_=71aeb4e201d4bc154145073f70112e31451e8865|http://images.dealersync.com/cloud/userdocumentprod/2659/Photos/580611/20200918002500271_DSC04915.jpg?_=876cc27624b89284be1fc3145f2b646adbb74272|http://images.dealersync.com/cloud/userdocumentprod/2659/Photos/580611/20200918002502943_DSC04916.jpg?_=a6deba3e456275103ac0e369802c803ecd4152df|http://images.dealersync.com/cloud/userdocumentprod/2659/Photos/580611/20200918002246846_DSC04881.jpg?_=e3e06c69323e1989251b4e9e163548d6b73d10b8', photo_url='http://images.dealersync.com/cloud/userdocumentprod/2659/Photos/580611/wm_cf5d55b8525e443a8ac92b4331255817_580611.jpg?_=b77b544b6d916283e23f148920282ea88cdbc335', dom=1288, dom_180=1273, dom_active=1273, currency_indicator=None, miles_indicator='MILES', carfax_1_owner=0, carfax_clean_title=1, loan_term=72, loan_apr=None, l_down_pay=None, l_emi=None, f_down_pay=None, f_down_pay_per=None, f_emi=79.0, lease_term=None, in_transit=0, in_transit_at=None, in_transit_days=None, high_value_features=None),\n",
       " Row(id=None, vin=None, heading=None, more_info=None, price=None, msrp=None, miles=None, stock_no=None, year=None, make=None, model=None, trim=None, vehicle_type=None, body_type=None, body_subtype=None, drivetrain=None, fuel_type=None, engine=None, engine_block=None, engine_size=None, engine_measure=None, engine_aspiration=None, transmission=None, speeds=None, doors=None, cylinders=None, city_mpg=None, highway_mpg=None, interior_color=None, exterior_color=None, base_exterior_color=None, base_interior_color=None, is_certified=None, is_transfer=None, taxonomy_vin=None, model_code=None, scraped_at=None, status_date=None, first_scraped_at=None, dealer_id=None, source=None, seller_name=None, street=None, city=None, state=None, zip=None, latitude=None, longitude=None, country=None, seller_phone=None, seller_email=None, seller_type=None, listing_type=None, inventory_type=None, dealer_type=None, car_seller_name=None, car_address=None, car_street=None, car_city=None, car_state=None, car_zip=None, car_latitude=None, car_longitude=None, seller_comments=None, options=None, features=None, photo_links=None, photo_url=None, dom=None, dom_180=None, dom_active=None, currency_indicator=None, miles_indicator=None, carfax_1_owner=None, carfax_clean_title=None, loan_term=None, loan_apr=None, l_down_pay=None, l_emi=None, f_down_pay=None, f_down_pay_per=None, f_emi=None, lease_term=None, in_transit=None, in_transit_at=None, in_transit_days=None, high_value_features=None),\n",
       " Row(id='1C3CCCAB3GN161112-37a3d816-706a-41b1-8574-a8c2e87aa61d', vin='1C3CCCAB3GN161112', heading='2016 Chrysler 200 Limited', more_info='https://www.bertogdenmissionmazda.com/vehicle-details/used-2016-chrysler-200-limited-harlingen-tx-id-32063365', price=15625, msrp=15625, miles=28548, stock_no='D19720A', year=2016, make='Chrysler', model='200', trim='Limited', vehicle_type='Car', body_type='Sedan', body_subtype=None, drivetrain='FWD', fuel_type='Unleaded', engine='2.4L I4', engine_block='I', engine_size='2.4', engine_measure=None, engine_aspiration=None, transmission='Automatic', speeds=None, doors=4, cylinders=4, city_mpg=23, highway_mpg=36, interior_color='Linen/Black', exterior_color='Granite Crystal Metallic Clearcoat', base_exterior_color='Gray', base_interior_color='Black', is_certified=0, is_transfer=0, taxonomy_vin='1C3CCCABGN', model_code=None, scraped_at='1566685090', status_date='1569461484', first_scraped_at='1449558000', dealer_id='1019683', source='www.bertogdenmissionmazda.com', seller_name='bert ogden mazda mission', street='2309 East Expressway 83', city='Mission', state='TX', zip='78572', latitude=26.195999145507812, longitude=-98.28019714355469, country='US', seller_phone='(956) 519-3333', seller_email=None, seller_type='dealer', listing_type='dealer', inventory_type='used', dealer_type='franchise', car_seller_name=None, car_address=None, car_street=None, car_city=None, car_state=None, car_zip=None, car_latitude=None, car_longitude=None, seller_comments=\"Recent Arrival! **CARFAX 1 OWNER**, **CLEAN CARFAX**, **KEYLESS ENTRY**, **LOCAL TRADE**, **LOW MILES**, **BACKUP CAMERA**, **NON SMOKER**, **HANDS FREE CALLING**, **BLUETOOTH EQUIPPED**, **POWER WINDOWS**, **POWER DOOR LOCKS**, **CRUISE CONTROL**, **TILT WHEEL**. Odometer is 16069 miles below market average! Why get your next Certified car from one of the Bert Ogden Family of Dealerships? - Of course price is important and we do a great job at finding what's more than fair and reasonable! But at the end of the day we take our Customers Happiness Very Seriously!\", options='\"Rear anti-roll bar|Brake assist|Electronic Stability Control|ParkView Rear Back-Up Camera|Delay-off headlights|Fully automatic headlights|Panic alarm|Security system|Speed control|Engine Oil Cooler|Bumpers: body-color|Power door mirrors|Accessory Switch Bank|Compass|Driver door bin|Driver vanity mirror|Illuminated entry|Outside temperature display|Overhead console|Passenger vanity mirror|Rear seat center armrest|Tachometer|Telescoping steering wheel|Tilt steering wheel|Trip computer|Front Bucket Seats|Front Center Armrest|Split folding rear seat|Passenger door bin|Wheels: 17\"\" x 7.5\"\" Tech Silver Aluminum|Speed-Sensitive Wipers|Variably intermittent wipers|**CARFAX 1 OWNER**|**CLEAN CARFAX**|**KEYLESS ENTRY**|**LOCAL TRADE**|**LOW MILES**|**BACKUP CAMERA**|**NON SMOKER**|**HANDS FREE CALLING**|**BLUETOOTH EQUIPPED**|**POWER WINDOWS**|**POWER DOOR LOCKS**|**CRUISE CONTROL**|**TILT WHEEL**|Flex Fuel Vehicle|6 Speakers|AM/FM radio|Integrated Voice Command w/Bluetooth|MP3 decoder|Radio: Uconnect 5.0|Air Conditioning|Rear window defroster|Power steering|Power windows|Remote keyless entry|Steering wheel mounted audio controls|Four wheel independent suspension|Speed-sensing steering|Traction control|4-Wheel Disc Brakes|ABS brakes|Anti-whiplash front head restraints|Dual front impact airbags|Dual front side impact airbags|Front anti-roll bar|Knee airbag|Low tire pressure warning|Occupant sensing airbag|Overhead airbag\"', features='\"Rear anti-roll bar|Brake assist|Electronic Stability Control|ParkView Rear Back-Up Camera|Delay-off headlights|Fully automatic headlights|Panic alarm|Security system|Speed control|Engine Oil Cooler|Bumpers: body-color|Power door mirrors|Accessory Switch Bank|Compass|Driver door bin|Driver vanity mirror|Illuminated entry|Outside temperature display|Overhead console|Passenger vanity mirror|Rear seat center armrest|Tachometer|Telescoping steering wheel|Tilt steering wheel|Trip computer|Front Bucket Seats|Front Center Armrest|Split folding rear seat|Passenger door bin|Wheels: 17\"\" x 7.5\"\" Tech Silver Aluminum|Speed-Sensitive Wipers|Variably intermittent wipers|**CARFAX 1 OWNER**|**CLEAN CARFAX**|**KEYLESS ENTRY**|**LOCAL TRADE**|**LOW MILES**|**BACKUP CAMERA**|**NON SMOKER**|**HANDS FREE CALLING**|**BLUETOOTH EQUIPPED**|**POWER WINDOWS**|**POWER DOOR LOCKS**|**CRUISE CONTROL**|**TILT WHEEL**|Flex Fuel Vehicle|6 Speakers|AM/FM radio|Integrated Voice Command w/Bluetooth|MP3 decoder|Radio: Uconnect 5.0|Air Conditioning|Rear window defroster|Power steering|Power windows|Remote keyless entry|Steering wheel mounted audio controls|Four wheel independent suspension|Speed-sensing steering|Traction control|4-Wheel Disc Brakes|ABS brakes|Anti-whiplash front head restraints|Dual front impact airbags|Dual front side impact airbags|Front anti-roll bar|Knee airbag|Low tire pressure warning|Occupant sensing airbag|Overhead airbag\"', photo_links='https://cdn-ds.com/stock/2016-Chrysler-200-Limited-Mission-TX/seo/VA8178CDJ-1C3CCCAB3GN161112/sz_107221/w_640/h_480/74231c1fa3ad801bd8e800a4ab605965.jpg|https://cdn-ds.com/stock/2016-Chrysler-200-Limited-Mission-TX/seo/VA8178CDJ-1C3CCCAB3GN161112/sz_110855/w_640/h_480/1513b1c799a4a6a51fcb1d50f417817c.jpg|https://cdn-ds.com/stock/2016-Chrysler-200-Limited-Mission-TX/seo/VA8178CDJ-1C3CCCAB3GN161112/sz_103404/w_640/h_480/1fd5eda5df59f6f995b3e71a39a92e73.jpg|https://cdn-ds.com/stock/2016-Chrysler-200-Limited-Mission-TX/seo/VA8178CDJ-1C3CCCAB3GN161112/sz_93164/w_640/h_480/943e5cc289269afb4e997ab4005e520c.jpg|https://cdn-ds.com/stock/2016-Chrysler-200-Limited-Mission-TX/seo/VA8178CDJ-1C3CCCAB3GN161112/sz_90749/w_640/h_480/1531689ccb02df4e1fc0527f745f996b.jpg|https://cdn-ds.com/stock/2016-Chrysler-200-Limited-Mission-TX/seo/VA8178CDJ-1C3CCCAB3GN161112/sz_93576/w_640/h_480/6c073108fe9746b9f1cade7fd2cffa07.jpg|https://cdn-ds.com/stock/2016-Chrysler-200-Limited-Mission-TX/seo/VA8178CDJ-1C3CCCAB3GN161112/sz_91461/w_640/h_480/8da36825fa54e05d41f51de0a861254e.jpg|https://cdn-ds.com/stock/2016-Chrysler-200-Limited-Mission-TX/seo/VA8178CDJ-1C3CCCAB3GN161112/sz_112314/w_640/h_480/d307d9d84fc14b4794558b19d57239cb.jpg|https://cdn-ds.com/stock/2016-Chrysler-200-Limited-Mission-TX/seo/VA8178CDJ-1C3CCCAB3GN161112/sz_111250/w_640/h_480/282185ae67871cbd855f5a6bbfb5ba99.jpg|https://cdn-ds.com/stock/2016-Chrysler-200-Limited-Mission-TX/seo/VA8178CDJ-1C3CCCAB3GN161112/sz_73799/w_640/h_480/942a093431c51779c21b6e91400eabcf.jpg|https://cdn-ds.com/stock/2016-Chrysler-200-Limited-Mission-TX/seo/VA8178CDJ-1C3CCCAB3GN161112/sz_99551/w_640/h_480/9f8a9a6974ca79a49ca87fc2d3985021.jpg|https://cdn-ds.com/stock/2016-Chrysler-200-Limited-Mission-TX/seo/VA8178CDJ-1C3CCCAB3GN161112/sz_120145/w_640/h_480/32899dc94a7157dd61ff3e55d2494611.jpg|https://cdn-ds.com/stock/2016-Chrysler-200-Limited-Mission-TX/seo/VA8178CDJ-1C3CCCAB3GN161112/sz_72697/w_640/h_480/df2d978bf78d4aba5a2e189addfbbf0b.jpg|https://cdn-ds.com/stock/2016-Chrysler-200-Limited-Mission-TX/seo/VA8178CDJ-1C3CCCAB3GN161112/sz_81492/w_640/h_480/1e3c2e22908c18aa87756cb9b2f5fdea.jpg|https://cdn-ds.com/stock/2016-Chrysler-200-Limited-Mission-TX/seo/VA8178CDJ-1C3CCCAB3GN161112/sz_64812/w_640/h_480/fffce8b42eecc4f88aacb5598a199f13.jpg|https://cdn-ds.com/stock/2016-Chrysler-200-Limited-Mission-TX/seo/VA8178CDJ-1C3CCCAB3GN161112/sz_81400/w_640/h_480/f979bd40b003e971882cb1e9afdc7180.jpg|https://cdn-ds.com/stock/2016-Chrysler-200-Limited-Mission-TX/seo/VA8178CDJ-1C3CCCAB3GN161112/sz_64381/w_640/h_480/0318daf67e68cc98f5da042b983670ee.jpg|https://cdn-ds.com/stock/2016-Chrysler-200-Limited-Mission-TX/seo/VA8178CDJ-1C3CCCAB3GN161112/sz_70943/w_640/h_480/ca2cacd301c1aacaa500008565778fe1.jpg|https://cdn-ds.com/stock/2016-Chrysler-200-Limited-Mission-TX/seo/VA8178CDJ-1C3CCCAB3GN161112/sz_51108/w_640/h_480/948553abcab47934e0fb654babed67a2.jpg|https://cdn-ds.com/stock/2016-Chrysler-200-Limited-Mission-TX/seo/VA8178CDJ-1C3CCCAB3GN161112/sz_88321/w_640/h_480/427b7ddba42a55bf9d9643111c02b3d7.jpg|https://cdn-ds.com/stock/2016-Chrysler-200-Limited-Mission-TX/seo/VA8178CDJ-1C3CCCAB3GN161112/sz_92889/w_640/h_480/7083125e3ad98ea5c066b605c177a955.jpg|https://cdn-ds.com/stock/2016-Chrysler-200-Limited-Mission-TX/seo/VA8178CDJ-1C3CCCAB3GN161112/sz_74696/w_640/h_480/90af4632b227d700d14d2bf4e9e3678b.jpg|https://cdn-ds.com/stock/2016-Chrysler-200-Limited-Mission-TX/seo/VA8178CDJ-1C3CCCAB3GN161112/sz_73332/w_640/h_480/2a33be0cbbd841f8b03c306aef8f950b.jpg|https://cdn-ds.com/stock/2016-Chrysler-200-Limited-Mission-TX/seo/VA8178CDJ-1C3CCCAB3GN161112/sz_78654/w_640/h_480/968dd8b3f8410d91555cffd60a31cd12.jpg|https://cdn-ds.com/stock/2016-Chrysler-200-Limited-Mission-TX/seo/VA8178CDJ-1C3CCCAB3GN161112/sz_70940/w_640/h_480/26f99804c1aef883a28d4c0f6c2d50c3.jpg|https://cdn-ds.com/stock/2016-Chrysler-200-Limited-Mission-TX/seo/VA8178CDJ-1C3CCCAB3GN161112/sz_72681/w_640/h_480/238a08e4a963ddb4cb8a25e1446d05af.jpg|https://cdn-ds.com/stock/2016-Chrysler-200-Limited-Mission-TX/seo/VA8178CDJ-1C3CCCAB3GN161112/sz_70333/w_640/h_480/baeca93d4ffec6e225bb5822c8ad3f33.jpg|https://cdn-ds.com/stock/2016-Chrysler-200-Limited-Mission-TX/seo/VA8178CDJ-1C3CCCAB3GN161112/sz_86950/w_640/h_480/d7c6907a2e88cc83d46e0546080ed275.jpg|https://cdn-ds.com/stock/2016-Chrysler-200-Limited-Mission-TX/seo/VA8178CDJ-1C3CCCAB3GN161112/sz_77325/w_640/h_480/21c9c62c8e3a0757ecd6023ef73c9d4c.jpg|https://cdn-ds.com/stock/2016-Chrysler-200-Limited-Mission-TX/seo/VA8178CDJ-1C3CCCAB3GN161112/sz_85216/w_640/h_480/99de2bcc0ac9a8fb96d4f9aff7a1c8d3.jpg|https://cdn-ds.com/stock/2016-Chrysler-200-Limited-Mission-TX/seo/VA8178CDJ-1C3CCCAB3GN161112/sz_107221/w_640/74231c1fa3ad801bd8e800a4ab605965.jpg|https://cdn-ds.com/stock/2016-Chrysler-200-Limited-Mission-TX/seo/VA8178CDJ-1C3CCCAB3GN161112/sz_110855/w_640/1513b1c799a4a6a51fcb1d50f417817c.jpg|https://cdn-ds.com/stock/2016-Chrysler-200-Limited-Mission-TX/seo/VA8178CDJ-1C3CCCAB3GN161112/sz_103404/w_640/1fd5eda5df59f6f995b3e71a39a92e73.jpg|https://cdn-ds.com/stock/2016-Chrysler-200-Limited-Mission-TX/seo/VA8178CDJ-1C3CCCAB3GN161112/sz_93164/w_640/943e5cc289269afb4e997ab4005e520c.jpg|https://cdn-ds.com/stock/2016-Chrysler-200-Limited-Mission-TX/seo/VA8178CDJ-1C3CCCAB3GN161112/sz_90749/w_640/1531689ccb02df4e1fc0527f745f996b.jpg|https://cdn-ds.com/stock/2016-Chrysler-200-Limited-Mission-TX/seo/VA8178CDJ-1C3CCCAB3GN161112/sz_93576/w_640/6c073108fe9746b9f1cade7fd2cffa07.jpg|https://cdn-ds.com/stock/2016-Chrysler-200-Limited-Mission-TX/seo/VA8178CDJ-1C3CCCAB3GN161112/sz_91461/w_640/8da36825fa54e05d41f51de0a861254e.jpg|https://cdn-ds.com/stock/2016-Chrysler-200-Limited-Mission-TX/seo/VA8178CDJ-1C3CCCAB3GN161112/sz_112314/w_640/d307d9d84fc14b4794558b19d57239cb.jpg|https://cdn-ds.com/stock/2016-Chrysler-200-Limited-Mission-TX/seo/VA8178CDJ-1C3CCCAB3GN161112/sz_111250/w_640/282185ae67871cbd855f5a6bbfb5ba99.jpg|https://cdn-ds.com/stock/2016-Chrysler-200-Limited-Mission-TX/seo/VA8178CDJ-1C3CCCAB3GN161112/sz_73799/w_640/942a093431c51779c21b6e91400eabcf.jpg|https://cdn-ds.com/stock/2016-Chrysler-200-Limited-Mission-TX/seo/VA8178CDJ-1C3CCCAB3GN161112/sz_99551/w_640/9f8a9a6974ca79a49ca87fc2d3985021.jpg|https://cdn-ds.com/stock/2016-Chrysler-200-Limited-Mission-TX/seo/VA8178CDJ-1C3CCCAB3GN161112/sz_120145/w_640/32899dc94a7157dd61ff3e55d2494611.jpg|https://cdn-ds.com/stock/2016-Chrysler-200-Limited-Mission-TX/seo/VA8178CDJ-1C3CCCAB3GN161112/sz_72697/w_640/df2d978bf78d4aba5a2e189addfbbf0b.jpg|https://cdn-ds.com/stock/2016-Chrysler-200-Limited-Mission-TX/seo/VA8178CDJ-1C3CCCAB3GN161112/sz_81492/w_640/1e3c2e22908c18aa87756cb9b2f5fdea.jpg|https://cdn-ds.com/stock/2016-Chrysler-200-Limited-Mission-TX/seo/VA8178CDJ-1C3CCCAB3GN161112/sz_64812/w_640/fffce8b42eecc4f88aacb5598a199f13.jpg|https://cdn-ds.com/stock/2016-Chrysler-200-Limited-Mission-TX/seo/VA8178CDJ-1C3CCCAB3GN161112/sz_81400/w_640/f979bd40b003e971882cb1e9afdc7180.jpg|https://cdn-ds.com/stock/2016-Chrysler-200-Limited-Mission-TX/seo/VA8178CDJ-1C3CCCAB3GN161112/sz_64381/w_640/0318daf67e68cc98f5da042b983670ee.jpg|https://cdn-ds.com/stock/2016-Chrysler-200-Limited-Mission-TX/seo/VA8178CDJ-1C3CCCAB3GN161112/sz_70943/w_640/ca2cacd301c1aacaa500008565778fe1.jpg|https://cdn-ds.com/stock/2016-Chrysler-200-Limited-Mission-TX/seo/VA8178CDJ-1C3CCCAB3GN161112/sz_51108/w_640/948553abcab47934e0fb654babed67a2.jpg|https://cdn-ds.com/stock/2016-Chrysler-200-Limited-Mission-TX/seo/VA8178CDJ-1C3CCCAB3GN161112/sz_88321/w_640/427b7ddba42a55bf9d9643111c02b3d7.jpg|https://cdn-ds.com/stock/2016-Chrysler-200-Limited-Mission-TX/seo/VA8178CDJ-1C3CCCAB3GN161112/sz_92889/w_640/7083125e3ad98ea5c066b605c177a955.jpg|https://cdn-ds.com/stock/2016-Chrysler-200-Limited-Mission-TX/seo/VA8178CDJ-1C3CCCAB3GN161112/sz_74696/w_640/90af4632b227d700d14d2bf4e9e3678b.jpg|https://cdn-ds.com/stock/2016-Chrysler-200-Limited-Mission-TX/seo/VA8178CDJ-1C3CCCAB3GN161112/sz_73332/w_640/2a33be0cbbd841f8b03c306aef8f950b.jpg|https://cdn-ds.com/stock/2016-Chrysler-200-Limited-Mission-TX/seo/VA8178CDJ-1C3CCCAB3GN161112/sz_78654/w_640/968dd8b3f8410d91555cffd60a31cd12.jpg|https://cdn-ds.com/stock/2016-Chrysler-200-Limited-Mission-TX/seo/VA8178CDJ-1C3CCCAB3GN161112/sz_70940/w_640/26f99804c1aef883a28d4c0f6c2d50c3.jpg|https://cdn-ds.com/stock/2016-Chrysler-200-Limited-Mission-TX/seo/VA8178CDJ-1C3CCCAB3GN161112/sz_72681/w_640/238a08e4a963ddb4cb8a25e1446d05af.jpg|https://cdn-ds.com/stock/2016-Chrysler-200-Limited-Mission-TX/seo/VA8178CDJ-1C3CCCAB3GN161112/sz_70333/w_640/baeca93d4ffec6e225bb5822c8ad3f33.jpg|https://cdn-ds.com/stock/2016-Chrysler-200-Limited-Mission-TX/seo/VA8178CDJ-1C3CCCAB3GN161112/sz_86950/w_640/d7c6907a2e88cc83d46e0546080ed275.jpg|https://cdn-ds.com/stock/2016-Chrysler-200-Limited-Mission-TX/seo/VA8178CDJ-1C3CCCAB3GN161112/sz_77325/w_640/21c9c62c8e3a0757ecd6023ef73c9d4c.jpg|https://cdn-ds.com/stock/2016-Chrysler-200-Limited-Mission-TX/seo/VA8178CDJ-1C3CCCAB3GN161112/sz_85216/w_640/99de2bcc0ac9a8fb96d4f9aff7a1c8d3.jpg', photo_url=None, dom=225, dom_180=35, dom_active=35, currency_indicator=None, miles_indicator=None, carfax_1_owner=1, carfax_clean_title=0, loan_term=None, loan_apr=None, l_down_pay=None, l_emi=None, f_down_pay=None, f_down_pay_per=None, f_emi=256.0, lease_term=None, in_transit=0, in_transit_at=None, in_transit_days=None, high_value_features='\"[{\"\"category\"\":\"\"Comfort & Convenience\"\"'),\n",
       " Row(id=None, vin=None, heading=None, more_info=None, price=None, msrp=None, miles=None, stock_no=None, year=None, make=None, model=None, trim=None, vehicle_type=None, body_type=None, body_subtype=None, drivetrain=None, fuel_type=None, engine=None, engine_block=None, engine_size=None, engine_measure=None, engine_aspiration=None, transmission=None, speeds=None, doors=None, cylinders=None, city_mpg=None, highway_mpg=None, interior_color=None, exterior_color=None, base_exterior_color=None, base_interior_color=None, is_certified=None, is_transfer=None, taxonomy_vin=None, model_code=None, scraped_at=None, status_date=None, first_scraped_at=None, dealer_id=None, source=None, seller_name=None, street=None, city=None, state=None, zip=None, latitude=None, longitude=None, country=None, seller_phone=None, seller_email=None, seller_type=None, listing_type=None, inventory_type=None, dealer_type=None, car_seller_name=None, car_address=None, car_street=None, car_city=None, car_state=None, car_zip=None, car_latitude=None, car_longitude=None, seller_comments=None, options=None, features=None, photo_links=None, photo_url=None, dom=None, dom_180=None, dom_active=None, currency_indicator=None, miles_indicator=None, carfax_1_owner=None, carfax_clean_title=None, loan_term=None, loan_apr=None, l_down_pay=None, l_emi=None, f_down_pay=None, f_down_pay_per=None, f_emi=None, lease_term=None, in_transit=None, in_transit_at=None, in_transit_days=None, high_value_features=None)]"
      ]
     },
     "execution_count": 19,
     "metadata": {},
     "output_type": "execute_result"
    }
   ],
   "source": [
    "# preview\n",
    "df.take(5)"
   ]
  },
  {
   "cell_type": "code",
   "execution_count": 20,
   "metadata": {},
   "outputs": [
    {
     "name": "stdout",
     "output_type": "stream",
     "text": [
      "root\n",
      " |-- id: string (nullable = true)\n",
      " |-- vin: string (nullable = true)\n",
      " |-- heading: string (nullable = true)\n",
      " |-- more_info: string (nullable = true)\n",
      " |-- price: integer (nullable = true)\n",
      " |-- msrp: integer (nullable = true)\n",
      " |-- miles: integer (nullable = true)\n",
      " |-- stock_no: string (nullable = true)\n",
      " |-- year: short (nullable = true)\n",
      " |-- make: string (nullable = true)\n",
      " |-- model: string (nullable = true)\n",
      " |-- trim: string (nullable = true)\n",
      " |-- vehicle_type: string (nullable = true)\n",
      " |-- body_type: string (nullable = true)\n",
      " |-- body_subtype: string (nullable = true)\n",
      " |-- drivetrain: string (nullable = true)\n",
      " |-- fuel_type: string (nullable = true)\n",
      " |-- engine: string (nullable = true)\n",
      " |-- engine_block: string (nullable = true)\n",
      " |-- engine_size: string (nullable = true)\n",
      " |-- engine_measure: string (nullable = true)\n",
      " |-- engine_aspiration: string (nullable = true)\n",
      " |-- transmission: string (nullable = true)\n",
      " |-- speeds: byte (nullable = true)\n",
      " |-- doors: byte (nullable = true)\n",
      " |-- cylinders: byte (nullable = true)\n",
      " |-- city_mpg: byte (nullable = true)\n",
      " |-- highway_mpg: byte (nullable = true)\n",
      " |-- interior_color: string (nullable = true)\n",
      " |-- exterior_color: string (nullable = true)\n",
      " |-- base_exterior_color: string (nullable = true)\n",
      " |-- base_interior_color: string (nullable = true)\n",
      " |-- is_certified: byte (nullable = true)\n",
      " |-- is_transfer: byte (nullable = true)\n",
      " |-- taxonomy_vin: string (nullable = true)\n",
      " |-- model_code: string (nullable = true)\n",
      " |-- scraped_at: string (nullable = true)\n",
      " |-- status_date: string (nullable = true)\n",
      " |-- first_scraped_at: string (nullable = true)\n",
      " |-- dealer_id: string (nullable = true)\n",
      " |-- source: string (nullable = true)\n",
      " |-- seller_name: string (nullable = true)\n",
      " |-- street: string (nullable = true)\n",
      " |-- city: string (nullable = true)\n",
      " |-- state: string (nullable = true)\n",
      " |-- zip: string (nullable = true)\n",
      " |-- latitude: float (nullable = true)\n",
      " |-- longitude: float (nullable = true)\n",
      " |-- country: string (nullable = true)\n",
      " |-- seller_phone: string (nullable = true)\n",
      " |-- seller_email: string (nullable = true)\n",
      " |-- seller_type: string (nullable = true)\n",
      " |-- listing_type: string (nullable = true)\n",
      " |-- inventory_type: string (nullable = true)\n",
      " |-- dealer_type: string (nullable = true)\n",
      " |-- car_seller_name: string (nullable = true)\n",
      " |-- car_address: string (nullable = true)\n",
      " |-- car_street: string (nullable = true)\n",
      " |-- car_city: string (nullable = true)\n",
      " |-- car_state: string (nullable = true)\n",
      " |-- car_zip: string (nullable = true)\n",
      " |-- car_latitude: float (nullable = true)\n",
      " |-- car_longitude: float (nullable = true)\n",
      " |-- seller_comments: string (nullable = true)\n",
      " |-- options: string (nullable = true)\n",
      " |-- features: string (nullable = true)\n",
      " |-- photo_links: string (nullable = true)\n",
      " |-- photo_url: string (nullable = true)\n",
      " |-- dom: short (nullable = true)\n",
      " |-- dom_180: short (nullable = true)\n",
      " |-- dom_active: short (nullable = true)\n",
      " |-- currency_indicator: string (nullable = true)\n",
      " |-- miles_indicator: string (nullable = true)\n",
      " |-- carfax_1_owner: byte (nullable = true)\n",
      " |-- carfax_clean_title: byte (nullable = true)\n",
      " |-- loan_term: short (nullable = true)\n",
      " |-- loan_apr: float (nullable = true)\n",
      " |-- l_down_pay: float (nullable = true)\n",
      " |-- l_emi: float (nullable = true)\n",
      " |-- f_down_pay: float (nullable = true)\n",
      " |-- f_down_pay_per: float (nullable = true)\n",
      " |-- f_emi: float (nullable = true)\n",
      " |-- lease_term: short (nullable = true)\n",
      " |-- in_transit: byte (nullable = true)\n",
      " |-- in_transit_at: string (nullable = true)\n",
      " |-- in_transit_days: integer (nullable = true)\n",
      " |-- high_value_features: string (nullable = true)\n",
      "\n"
     ]
    }
   ],
   "source": [
    "# confirm \n",
    "df.printSchema()"
   ]
  },
  {
   "cell_type": "code",
   "execution_count": 21,
   "metadata": {},
   "outputs": [],
   "source": [
    "from pyspark.sql.functions import col, size, split, isnull"
   ]
  },
  {
   "cell_type": "code",
   "execution_count": 22,
   "metadata": {},
   "outputs": [],
   "source": [
    "df2 = (df\n",
    "\t\t.drop('more_info') # drop listing url\n",
    "\t\t.withColumn('photo_links_count', size(split(col('photo_links'), r'\\|'))) # count photo links\n",
    "\t\t.drop('photo_links') # drop photo links\n",
    "\t\t.replace(-1,0,'photo_links_count') # fix count for NAs\n",
    "\t\t.withColumn('photo_main', ~isnull(col('photo_url')))\n",
    "\t\t)\n",
    "#\t\t.sample(fraction = 0.01, withReplacement = False)"
   ]
  },
  {
   "cell_type": "code",
   "execution_count": 23,
   "metadata": {},
   "outputs": [
    {
     "data": {
      "text/plain": [
       "[Row(vin='vin', photo_url='photo_url', photo_main=True),\n",
       " Row(vin='3N1CN7AP3GL814923', photo_url='http://images.dealersync.com/cloud/userdocumentprod/2659/Photos/580611/wm_cf5d55b8525e443a8ac92b4331255817_580611.jpg?_=b77b544b6d916283e23f148920282ea88cdbc335', photo_main=True),\n",
       " Row(vin='5N1AT2MT3GC842962', photo_url=' reliability', photo_main=True),\n",
       " Row(vin='1C3CCCAB3GN161112', photo_url=None, photo_main=False),\n",
       " Row(vin='4T1B11HK2KU777711', photo_url=' AM/FM', photo_main=True),\n",
       " Row(vin='5NPE24AF1HH479439', photo_url='https://media-cdn-a5-jazel-tango.jazel-qa.com/media/69490215?', photo_main=True),\n",
       " Row(vin='1C4RJFBG0FC653856', photo_url=' Fore/Aft Movement', photo_main=True),\n",
       " Row(vin='5NMZUDLB1HH047582', photo_url='https://vini.gm.com/realimages/5NMZUDLB1HH047582/375324a.jpg', photo_main=True),\n",
       " Row(vin='5UXWZ7C31H0V94154', photo_url='450RPM|Transmission: 8 speed automatic|Variable intake manifold|Variable valve control|Approach angle: 26 deg|Departure angle: 23 deg|Ground clearance (min): 203mm (8.0\"\")|Ramp breakover angle: 19 deg|Auto-dimming door mirrors|Bodyside moldings|Bumpers: body-color|Door mirrors: body-color|Power door mirrors|Power liftgate|Rear cargo: power liftgate|Roof rack: rails only|Spoiler|Tailpipe finisher: black|Trailer sway control|Turn signal indicator mirrors|Compression ratio: 10.00 to 1|Curb weight: 1', photo_main=True),\n",
       " Row(vin='1C6RR6YT5JS119710', photo_url=' Transmission: 8-Speed Automatic (8HP70)', photo_main=True)]"
      ]
     },
     "execution_count": 23,
     "metadata": {},
     "output_type": "execute_result"
    }
   ],
   "source": [
    "df2.select('vin','photo_url','photo_main').take(10)"
   ]
  },
  {
   "cell_type": "code",
   "execution_count": 24,
   "metadata": {},
   "outputs": [
    {
     "name": "stdout",
     "output_type": "stream",
     "text": [
      "+---+---+\n",
      "|vin|dom|\n",
      "+---+---+\n",
      "+---+---+\n",
      "\n"
     ]
    }
   ],
   "source": [
    "df2.where(\"vin == '1C6RR6YT5JS119710'\").select(['vin','dom']).show()"
   ]
  },
  {
   "cell_type": "code",
   "execution_count": 12,
   "metadata": {},
   "outputs": [],
   "source": [
    "sc.stop()"
   ]
  }
 ],
 "metadata": {
  "kernelspec": {
   "display_name": "py3-ds",
   "language": "python",
   "name": "py3-ds"
  },
  "language_info": {
   "codemirror_mode": {
    "name": "ipython",
    "version": 3
   },
   "file_extension": ".py",
   "mimetype": "text/x-python",
   "name": "python",
   "nbconvert_exporter": "python",
   "pygments_lexer": "ipython3",
   "version": "3.6.8"
  }
 },
 "nbformat": 4,
 "nbformat_minor": 4
}
