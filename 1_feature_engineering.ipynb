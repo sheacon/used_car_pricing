{
 "cells": [
  {
   "cell_type": "markdown",
   "metadata": {
    "id": "VpW_mbAyIDtT"
   },
   "source": [
    "# Used Car Pricing Algorithm"
   ]
  },
  {
   "attachments": {},
   "cell_type": "markdown",
   "metadata": {},
   "source": [
    "## Feature Engineering"
   ]
  },
  {
   "cell_type": "code",
   "execution_count": null,
   "metadata": {},
   "outputs": [],
   "source": [
    "# purchase month\n",
    "df[\"mvr_purchase_month\"] = df[\"mvr_purchase_date\"].dt.month.astype(\"category\")"
   ]
  },
  {
   "cell_type": "code",
   "execution_count": null,
   "metadata": {},
   "outputs": [],
   "source": [
    "# monthly mileage\n",
    "df[\"monthly_mileage\"] = round(df[\"mvr_mileage\"]/df[\"age_months\"],1)"
   ]
  },
  {
   "cell_type": "code",
   "execution_count": null,
   "metadata": {},
   "outputs": [],
   "source": [
    "# epa weights city/highway 55/45\n",
    "df[\"mpg\"] = df[\"city_mpg\"] * 0.55 + df[\"highway_mpg\"] * 0.45\n",
    "df.drop(columns=[\"city_mpg\", \"highway_mpg\"], inplace=True)"
   ]
  },
  {
   "cell_type": "code",
   "execution_count": null,
   "metadata": {},
   "outputs": [],
   "source": [
    "# consolidate fuel types\n",
    "mapping = {\"Lpg / Natural Gas\":\"Natural Gas\"\n",
    "           ,\"Unleaded / Premium Unleaded\":\"Premium Unleaded\"\n",
    "           ,\"E85; Unleaded \":\"E85 / Unleaded\"\n",
    "           ,\"E85 / Unleaded; Premium Unleaded\":\"Premium Unleaded\"\n",
    "           ,\"Compressed Natural Gas; Unleaded\":\"Natural Gas\"\n",
    "           ,\"Unleaded; Unleaded / E85\":\"E85 / Unleaded\"\n",
    "           ,\"E85 / Unleaded; Unleaded / E85 \":\"E85 / Unleaded\"\n",
    "           ,\"Unleaded / Electric\":\"Electric / Unleaded\"\n",
    "           ,\"Compressed Natural Gas / Unleaded\":\"Natural Gas\"\n",
    "           ,\"Premium Unleaded; Unleaded\":\"Premium Unleaded\"\n",
    "           ,\"E85 / Unleaded; Unleaded / Unleaded\":\"E85 / Unleaded\"\n",
    "           ,\"Compressed Natural Gas\":\"Natural Gas\"\n",
    "           ,\"Unleaded / Unleaded\":\"Unleaded\"\n",
    "           ,\"Premium Unleaded / Unleaded\":\"Premium Unleaded\"\n",
    "           ,\"E85 / Unleaded; Unleaded\":\"E85 / Unleaded\"\n",
    "           ,\"Unleaded / E85\":\"E85 / Unleaded\"\n",
    "          }\n",
    "\n",
    "df['fuel_type'] = df['fuel_type'].map(mapping).fillna(df['fuel_type'])"
   ]
  },
  {
   "cell_type": "code",
   "execution_count": null,
   "metadata": {},
   "outputs": [],
   "source": [
    "# zip first five\n",
    "df['zip'] = df['zip'].str[:5]"
   ]
  },
  {
   "cell_type": "markdown",
   "metadata": {},
   "source": [
    "### Local Features"
   ]
  },
  {
   "cell_type": "code",
   "execution_count": 99,
   "metadata": {},
   "outputs": [],
   "source": [
    "from uszipcode import SearchEngine\n",
    "search = SearchEngine(simple_or_comprehensive=SearchEngine.SimpleOrComprehensiveArgEnum.comprehensive) "
   ]
  },
  {
   "cell_type": "code",
   "execution_count": 100,
   "metadata": {},
   "outputs": [],
   "source": [
    "def get_population_density_and_income(zipcode):\n",
    "    result = search.by_zipcode(zipcode)\n",
    "    if result:\n",
    "        return pd.Series([result.population_density\n",
    "                          ,result.median_household_income\n",
    "                          ,result.median_home_value\n",
    "                         ])\n",
    "    else:\n",
    "        return pd.Series([None, None, None])"
   ]
  },
  {
   "cell_type": "code",
   "execution_count": 101,
   "metadata": {},
   "outputs": [],
   "source": [
    "# apply get_population_density_and_income to each value in zip_list\n",
    "zip_list = pd.DataFrame(df['zip'].unique(), columns=['zip'])\n",
    "zip_list[['population_density', 'median_income', 'median_home_value']] = zip_list['zip'].apply(get_population_density_and_income)\n",
    "df = df.merge(zip_list, on='zip', how='left')"
   ]
  },
  {
   "cell_type": "markdown",
   "metadata": {},
   "source": [
    "### Economic"
   ]
  },
  {
   "cell_type": "code",
   "execution_count": 102,
   "metadata": {},
   "outputs": [],
   "source": [
    "df[\"mvr_purchase_yearmonth\"] = df[\"mvr_purchase_date\"].dt.strftime('%Y-%m')"
   ]
  },
  {
   "cell_type": "code",
   "execution_count": 103,
   "metadata": {},
   "outputs": [],
   "source": [
    "# federal reserve economic data (fred)\n",
    "from fredapi import Fred\n",
    "fred = Fred(api_key_file='private/fred_api_key.txt')"
   ]
  },
  {
   "cell_type": "markdown",
   "metadata": {},
   "source": [
    "#### Used Car Price Index"
   ]
  },
  {
   "cell_type": "code",
   "execution_count": 104,
   "metadata": {},
   "outputs": [],
   "source": [
    "# BLS: Used cars and trucks in U.S. city average\n",
    "used_car_price_index = fred.get_series('CUUR0000SETA02')\n",
    "used_car_price_index.name = \"used_car_price_index\"\n",
    "used_car_price_index.index = used_car_price_index.index + pd.DateOffset(months=1) # shift index (have to use last month's index to predict next month's price)\n",
    "used_car_price_index.index = used_car_price_index.index.strftime('%Y-%m')\n",
    "df = df.join(used_car_price_index, on=\"mvr_purchase_yearmonth\", how=\"left\")"
   ]
  },
  {
   "cell_type": "markdown",
   "metadata": {},
   "source": [
    "#### New Car Price Index"
   ]
  },
  {
   "cell_type": "code",
   "execution_count": 105,
   "metadata": {},
   "outputs": [],
   "source": [
    "# BLS: New cars and trucks in U.S. city average\n",
    "new_car_price_index = fred.get_series('CUSR0000SETA01')\n",
    "new_car_price_index.name = \"new_car_price_index\"\n",
    "new_car_price_index.index = new_car_price_index.index + pd.DateOffset(months=1) # shift index (have to use last month's index to predict next month's price)\n",
    "new_car_price_index.index = new_car_price_index.index.strftime('%Y-%m')\n",
    "df = df.join(new_car_price_index, on=\"mvr_purchase_yearmonth\", how=\"left\")"
   ]
  },
  {
   "cell_type": "markdown",
   "metadata": {},
   "source": [
    "#### Gas Prices"
   ]
  },
  {
   "cell_type": "code",
   "execution_count": 106,
   "metadata": {},
   "outputs": [],
   "source": [
    "gas_price_index = fred.get_series('GASREGW')\n",
    "gas_price_index.name = \"gas_price_index\"\n",
    "gas_price_index = gas_price_index.groupby(pd.Grouper(freq='M')).mean().resample('M').mean()\n",
    "gas_price_index.index = gas_price_index.index + pd.DateOffset(months=1) # shift index \n",
    "gas_price_index.index = gas_price_index.index.strftime('%Y-%m')\n",
    "df = df.join(gas_price_index, on=\"mvr_purchase_yearmonth\", how=\"left\")"
   ]
  },
  {
   "cell_type": "markdown",
   "metadata": {},
   "source": [
    "#### Consumer Sentiment"
   ]
  },
  {
   "cell_type": "code",
   "execution_count": 107,
   "metadata": {},
   "outputs": [],
   "source": [
    "consumer_sentiment_index = fred.get_series('UMCSENT')\n",
    "consumer_sentiment_index.name = \"consumer_sentiment_index\"\n",
    "consumer_sentiment_index.index = consumer_sentiment_index.index + pd.DateOffset(months=1) # shift index (have to use last month's index to predict next month's price)\n",
    "consumer_sentiment_index.index = consumer_sentiment_index.index.strftime('%Y-%m')\n",
    "df = df.join(consumer_sentiment_index, on=\"mvr_purchase_yearmonth\", how=\"left\")"
   ]
  },
  {
   "cell_type": "markdown",
   "metadata": {},
   "source": [
    "### \"High Value Features\" Vehicle Options\n",
    "- Optional features will be useful in combination with make/model/trim\n",
    "- Standard+Optional features will be useful in combination with make/model/trim"
   ]
  },
  {
   "cell_type": "code",
   "execution_count": 108,
   "metadata": {},
   "outputs": [],
   "source": [
    "from tqdm import tqdm\n",
    "tqdm.pandas()"
   ]
  },
  {
   "cell_type": "code",
   "execution_count": 109,
   "metadata": {},
   "outputs": [],
   "source": [
    "def make_series(x):\n",
    "    return pd.Series(x, dtype = object)"
   ]
  },
  {
   "cell_type": "markdown",
   "metadata": {},
   "source": [
    "#### Optional"
   ]
  },
  {
   "cell_type": "code",
   "execution_count": 111,
   "metadata": {
    "scrolled": true
   },
   "outputs": [
    {
     "name": "stderr",
     "output_type": "stream",
     "text": [
      "100%|██████████| 6359934/6359934 [29:54<00:00, 3544.70it/s]  \n"
     ]
    },
    {
     "name": "stdout",
     "output_type": "stream",
     "text": [
      "(2371882, 77)\n"
     ]
    }
   ],
   "source": [
    "# produce dummy vars\n",
    "hvf_optional = df[\"hvf_optional\"]\n",
    "hvf_optional_df = pd.get_dummies(hvf_optional.progress_apply(make_series).stack()).groupby(level=0).sum()\n",
    "hvf_optional_df = hvf_optional_df.fillna(0)\n",
    "hvf_optional_df = hvf_optional_df.add_prefix('hvf_opt_')\n",
    "print(hvf_optional_df.shape)"
   ]
  },
  {
   "cell_type": "markdown",
   "metadata": {},
   "source": [
    "#### Optional and Standard"
   ]
  },
  {
   "cell_type": "code",
   "execution_count": 136,
   "metadata": {},
   "outputs": [],
   "source": [
    "# function to append two lists\n",
    "def combine_hvf(row):\n",
    "    if row[\"hvf_optional\"] is None:\n",
    "        row[\"hvf_optional\"] = []\n",
    "    if row[\"hvf_standard\"] is None:\n",
    "        row[\"hvf_standard\"] = []\n",
    "    else:\n",
    "        return list(set(list(row[\"hvf_optional\"]) + list(row[\"hvf_standard\"])))"
   ]
  },
  {
   "cell_type": "code",
   "execution_count": 138,
   "metadata": {},
   "outputs": [
    {
     "name": "stderr",
     "output_type": "stream",
     "text": [
      "100%|██████████| 6359934/6359934 [03:18<00:00, 32046.86it/s]\n"
     ]
    }
   ],
   "source": [
    "# combine unique features across two lists\n",
    "hvf_all = df.progress_apply(combine_hvf, axis=1)"
   ]
  },
  {
   "cell_type": "code",
   "execution_count": 145,
   "metadata": {},
   "outputs": [
    {
     "name": "stderr",
     "output_type": "stream",
     "text": [
      "100%|██████████| 6359934/6359934 [38:07<00:00, 2780.02it/s]  \n"
     ]
    },
    {
     "name": "stdout",
     "output_type": "stream",
     "text": [
      "(2371882, 77)\n"
     ]
    }
   ],
   "source": [
    "# create dummy vars\n",
    "hvf_all_df = pd.get_dummies(hvf_all.progress_apply(make_series).stack()).groupby(level=0).sum()\n",
    "hvf_all_df = hvf_all_df.fillna(0)\n",
    "hvf_all_df = hvf_all_df.add_prefix('hvf_all_')\n",
    "print(hvf_optional_df.shape)"
   ]
  },
  {
   "cell_type": "markdown",
   "metadata": {},
   "source": [
    "#### Flag Records with No Features Data"
   ]
  },
  {
   "cell_type": "code",
   "execution_count": 151,
   "metadata": {},
   "outputs": [],
   "source": [
    "df[\"hvf_opt_missing\"] = 0\n",
    "df.loc[df[\"hvf_optional\"].isna(),\"hvf_opt_missing\"] = 1"
   ]
  },
  {
   "cell_type": "code",
   "execution_count": 152,
   "metadata": {},
   "outputs": [],
   "source": [
    "df[\"hvf_std_missing\"] = 0\n",
    "df.loc[df[\"hvf_standard\"].isna(),\"hvf_std_missing\"] = 1"
   ]
  },
  {
   "cell_type": "markdown",
   "metadata": {},
   "source": [
    "## Data Split"
   ]
  },
  {
   "cell_type": "code",
   "execution_count": 2,
   "metadata": {},
   "outputs": [],
   "source": [
    "from sklearn.model_selection import train_test_split, StratifiedShuffleSplit\n",
    "\n",
    "# shuffle dataframe for good measure\n",
    "df = df.sample(frac=1, random_state=42)\n",
    "\n",
    "# create StratifiedShuffleSplit object by make_model_trim column\n",
    "sss = StratifiedShuffleSplit(n_splits=1, test_size=0.3, random_state=42)\n",
    "train_index, temp_index = next(sss.split(df, df['make_model_trim_encode']))\n",
    "\n",
    "# create StratifiedShuffleSplit object by make_model_trim column again\n",
    "df_temp = df.loc[temp_index]\n",
    "sss = StratifiedShuffleSplit(n_splits=1, test_size=0.33, random_state=42)\n",
    "val_index, test_index = next(sss.split(df_temp, df_temp['make_model_trim_encode']))\n",
    "\n",
    "# split dataframe into train, validate, and test sets\n",
    "train = df.loc[train_index]\n",
    "validate = df.loc[temp_index[val_index]]\n",
    "test = df.loc[temp_index[test_index]]\n"
   ]
  },
  {
   "cell_type": "code",
   "execution_count": 3,
   "metadata": {},
   "outputs": [
    {
     "name": "stdout",
     "output_type": "stream",
     "text": [
      "Train\n",
      "Rows: 4,451,953\n",
      "\n",
      "Validate\n",
      "Rows: 1,278,347\n",
      "\n",
      "Test\n",
      "Rows: 629,634\n"
     ]
    }
   ],
   "source": [
    "print(\"Train\")\n",
    "print_rows(train)\n",
    "print(\"\\nValidate\")\n",
    "print_rows(validate)\n",
    "print(\"\\nTest\")\n",
    "print_rows(test)"
   ]
  },
  {
   "cell_type": "markdown",
   "metadata": {},
   "source": [
    "## Target Encoding"
   ]
  },
  {
   "cell_type": "code",
   "execution_count": 5,
   "metadata": {},
   "outputs": [],
   "source": [
    "import category_encoders as ce"
   ]
  },
  {
   "cell_type": "code",
   "execution_count": 6,
   "metadata": {},
   "outputs": [],
   "source": [
    "# fit encoder for make/model/trim\n",
    "encoder = ce.TargetEncoder(cols=['make_model_trim_encode'])\n",
    "encoder.fit(train, train[\"mvr_price\"])\n",
    "\n",
    "# apply transformation\n",
    "train = encoder.transform(train)\n",
    "validate = encoder.transform(validate)\n",
    "test = encoder.transform(test)"
   ]
  },
  {
   "cell_type": "code",
   "execution_count": 7,
   "metadata": {},
   "outputs": [],
   "source": [
    "# fit encoder for make/model/trim\n",
    "encoder = ce.TargetEncoder(cols=['make_model_encode'])\n",
    "encoder.fit(train, train[\"mvr_price\"])\n",
    "\n",
    "# apply transformation\n",
    "train = encoder.transform(train)\n",
    "validate = encoder.transform(validate)\n",
    "test = encoder.transform(test)"
   ]
  },
  {
   "cell_type": "markdown",
   "metadata": {},
   "source": [
    "## HVF Dimsionality Reduction"
   ]
  },
  {
   "cell_type": "code",
   "execution_count": 8,
   "metadata": {},
   "outputs": [],
   "source": [
    "hvf_optional_df = hvf_optional_df.clip(upper=1)\n",
    "hvf_all_df = hvf_all_df.clip(upper=1)"
   ]
  },
  {
   "cell_type": "code",
   "execution_count": 9,
   "metadata": {},
   "outputs": [],
   "source": [
    "from sklearn.decomposition import PCA\n",
    "\n",
    "def reduce_hvf(df,pca=None,comp_prefix=\"\"):\n",
    "    \n",
    "    # compute pca if not provided\n",
    "    if not pca:\n",
    "        pca = PCA(n_components=9)\n",
    "        pca.fit(df)\n",
    "    \n",
    "    transformed_df = pca.transform(df)\n",
    "    transformed_df = pd.DataFrame(transformed_df, columns=['comp_0','comp_1', 'comp_2'\n",
    "                                                       ,'comp_3','comp_4', 'comp_5'\n",
    "                                                       ,'comp_6','comp_7', 'comp_8'\n",
    "                                                                  ])\n",
    "    transformed_df = transformed_df.add_prefix(comp_prefix)\n",
    "    \n",
    "    transformed_df.index = df.index\n",
    "    print_shape(transformed_df)\n",
    "    return transformed_df,pca"
   ]
  },
  {
   "cell_type": "code",
   "execution_count": 10,
   "metadata": {},
   "outputs": [],
   "source": [
    "train_index = train.index\n",
    "validate_index = validate.index\n",
    "test_index = test.index"
   ]
  },
  {
   "cell_type": "markdown",
   "metadata": {},
   "source": [
    "### Optional"
   ]
  },
  {
   "cell_type": "code",
   "execution_count": 11,
   "metadata": {},
   "outputs": [],
   "source": [
    "hvf_optional_train = hvf_optional_df.loc[hvf_optional_df.index.intersection(train_index),:]\n",
    "hvf_optional_validate = hvf_optional_df.loc[hvf_optional_df.index.intersection(validate_index),:]\n",
    "hvf_optional_test = hvf_optional_df.loc[hvf_optional_df.index.intersection(test_index),:]"
   ]
  },
  {
   "cell_type": "code",
   "execution_count": 12,
   "metadata": {},
   "outputs": [
    {
     "name": "stdout",
     "output_type": "stream",
     "text": [
      "Rows: 1,660,970 \n",
      "Columns: 9\n",
      "Rows: 476,238 \n",
      "Columns: 9\n",
      "Rows: 234,674 \n",
      "Columns: 9\n"
     ]
    }
   ],
   "source": [
    "hvf_optional_train,pca_train = reduce_hvf(hvf_optional_train,None,comp_prefix = \"hvf_opt_\")\n",
    "hvf_optional_validate,_ = reduce_hvf(hvf_optional_validate,pca_train,comp_prefix = \"hvf_opt_\")\n",
    "hvf_optional_test,_ = reduce_hvf(hvf_optional_test,pca_train,comp_prefix = \"hvf_opt_\")"
   ]
  },
  {
   "cell_type": "code",
   "execution_count": 13,
   "metadata": {},
   "outputs": [
    {
     "data": {
      "image/png": "[encoded data removed]",
      "text/plain": [
       "<Figure size 432x288 with 1 Axes>"
      ]
     },
     "metadata": {
      "needs_background": "light"
     },
     "output_type": "display_data"
    }
   ],
   "source": [
    "import matplotlib.pyplot as plt\n",
    "\n",
    "# plot the explained variance for each component\n",
    "plt.plot(np.cumsum(pca_train.explained_variance_ratio_))\n",
    "plt.xlabel('Number of Components')\n",
    "plt.ylabel('Cumulative Explained Variance')\n",
    "plt.title('Explained Variance for Each PCA Component')\n",
    "plt.show()\n"
   ]
  },
  {
   "cell_type": "markdown",
   "metadata": {},
   "source": [
    "### Optional and Standard"
   ]
  },
  {
   "cell_type": "code",
   "execution_count": 14,
   "metadata": {},
   "outputs": [],
   "source": [
    "hvf_all_train = hvf_all_df.loc[hvf_all_df.index.intersection(train_index),:]\n",
    "hvf_all_validate = hvf_all_df.loc[hvf_all_df.index.intersection(validate_index),:]\n",
    "hvf_all_test = hvf_all_df.loc[hvf_all_df.index.intersection(test_index),:]"
   ]
  },
  {
   "cell_type": "code",
   "execution_count": 15,
   "metadata": {},
   "outputs": [
    {
     "name": "stdout",
     "output_type": "stream",
     "text": [
      "Rows: 3,625,850 \n",
      "Columns: 9\n",
      "Rows: 1,040,234 \n",
      "Columns: 9\n",
      "Rows: 512,838 \n",
      "Columns: 9\n"
     ]
    }
   ],
   "source": [
    "hvf_all_train,pca_train = reduce_hvf(hvf_all_train,None,comp_prefix = \"hvf_all_\")\n",
    "hvf_all_validate,_ = reduce_hvf(hvf_all_validate,pca_train,comp_prefix = \"hvf_all_\")\n",
    "hvf_all_test,_ = reduce_hvf(hvf_all_test,pca_train,comp_prefix = \"hvf_all_\")"
   ]
  },
  {
   "cell_type": "markdown",
   "metadata": {},
   "source": [
    "### Merge with DF"
   ]
  },
  {
   "cell_type": "code",
   "execution_count": 16,
   "metadata": {
    "scrolled": true
   },
   "outputs": [],
   "source": [
    "train = train.merge(hvf_optional_train,how='left', left_index=True, right_index=True)\n",
    "validate = validate.merge(hvf_optional_validate,how='left', left_index=True, right_index=True)\n",
    "test = test.merge(hvf_optional_test,how='left', left_index=True, right_index=True)"
   ]
  },
  {
   "cell_type": "code",
   "execution_count": 17,
   "metadata": {},
   "outputs": [],
   "source": [
    "train = train.merge(hvf_all_train,how='left', left_index=True, right_index=True)\n",
    "validate = validate.merge(hvf_all_validate,how='left', left_index=True, right_index=True)\n",
    "test = test.merge(hvf_all_test,how='left', left_index=True, right_index=True)"
   ]
  },
  {
   "cell_type": "code",
   "execution_count": 22,
   "metadata": {},
   "outputs": [],
   "source": [
    "hvf_cols = ['hvf_opt_comp_0', 'hvf_opt_comp_1', 'hvf_opt_comp_2', 'hvf_opt_comp_3',\n",
    "       'hvf_opt_comp_4', 'hvf_opt_comp_5', 'hvf_opt_comp_6', 'hvf_opt_comp_7',\n",
    "       'hvf_opt_comp_8', 'hvf_all_comp_0', 'hvf_all_comp_1', 'hvf_all_comp_2',\n",
    "       'hvf_all_comp_3', 'hvf_all_comp_4', 'hvf_all_comp_5', 'hvf_all_comp_6',\n",
    "       'hvf_all_comp_7', 'hvf_all_comp_8']"
   ]
  },
  {
   "cell_type": "code",
   "execution_count": 27,
   "metadata": {},
   "outputs": [],
   "source": [
    "train[hvf_cols] = train[hvf_cols].fillna(0)\n",
    "validate[hvf_cols] = validate[hvf_cols].fillna(0)\n",
    "test[hvf_cols] = test[hvf_cols].fillna(0)"
   ]
  },
  {
   "cell_type": "code",
   "execution_count": 18,
   "metadata": {},
   "outputs": [
    {
     "name": "stdout",
     "output_type": "stream",
     "text": [
      "Rows: 4,451,953 \n",
      "Columns: 58\n",
      "Rows: 1,278,347 \n",
      "Columns: 58\n",
      "Rows: 629,634 \n",
      "Columns: 58\n"
     ]
    }
   ],
   "source": [
    "print_shape(train)\n",
    "print_shape(validate)\n",
    "print_shape(test)"
   ]
  }
 ],
 "metadata": {
  "colab": {
   "collapsed_sections": [
    "n7UQ4jzFIDtZ",
    "pf8KzdwtIDtc"
   ],
   "machine_shape": "hm",
   "provenance": []
  },
  "gpuClass": "standard",
  "kernelspec": {
   "display_name": "Python 3 (ipykernel)",
   "language": "python",
   "name": "python3"
  },
  "language_info": {
   "codemirror_mode": {
    "name": "ipython",
    "version": 3
   },
   "file_extension": ".py",
   "mimetype": "text/x-python",
   "name": "python",
   "nbconvert_exporter": "python",
   "pygments_lexer": "ipython3",
   "version": "3.9.12"
  }
 },
 "nbformat": 4,
 "nbformat_minor": 1
}
