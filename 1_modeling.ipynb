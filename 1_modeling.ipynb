{
 "cells": [
  {
   "cell_type": "markdown",
   "metadata": {
    "id": "VpW_mbAyIDtT"
   },
   "source": [
    "# Used Car Pricing Algorithm"
   ]
  },
  {
   "cell_type": "markdown",
   "metadata": {
    "id": "n7UQ4jzFIDtZ"
   },
   "source": [
    "## Environment"
   ]
  },
  {
   "cell_type": "code",
   "execution_count": 1,
   "metadata": {
    "executionInfo": {
     "elapsed": 767,
     "status": "ok",
     "timestamp": 1678124119673,
     "user": {
      "displayName": "Shea Conaway",
      "userId": "06745111064212010073"
     },
     "user_tz": 360
    },
    "id": "OHzjIIGb-xxW"
   },
   "outputs": [],
   "source": [
    "import numpy as np\n",
    "import pandas as pd"
   ]
  },
  {
   "cell_type": "code",
   "execution_count": 2,
   "metadata": {},
   "outputs": [],
   "source": [
    "# show 100 rows max\n",
    "pd.options.display.max_rows = 100"
   ]
  },
  {
   "cell_type": "markdown",
   "metadata": {},
   "source": [
    "## Load Data"
   ]
  },
  {
   "cell_type": "code",
   "execution_count": 3,
   "metadata": {},
   "outputs": [],
   "source": [
    "def print_shape(df):\n",
    "    print(f\"Rows: {df.shape[0]:,} \\nColumns: {df.shape[1]:,}\")"
   ]
  },
  {
   "cell_type": "code",
   "execution_count": 4,
   "metadata": {},
   "outputs": [],
   "source": [
    "def print_rows(df):\n",
    "    print(f\"Rows: {df.shape[0]:,}\")"
   ]
  },
  {
   "cell_type": "code",
   "execution_count": 5,
   "metadata": {
    "id": "GGVLEfTl-xxW"
   },
   "outputs": [
    {
     "name": "stdout",
     "output_type": "stream",
     "text": [
      "Rows: 13,074,852 \n",
      "Columns: 42\n"
     ]
    }
   ],
   "source": [
    "data_dir = \"/data/p_dsi/capstone_projects/shea/4_merged/\"\n",
    "filename = \"merged_structured.pkl\"\n",
    "\n",
    "df = pd.read_pickle(data_dir + filename)\n",
    "print_shape(df)"
   ]
  },
  {
   "cell_type": "code",
   "execution_count": 6,
   "metadata": {},
   "outputs": [
    {
     "name": "stdout",
     "output_type": "stream",
     "text": [
      "<class 'pandas.core.frame.DataFrame'>\n",
      "Int64Index: 13074852 entries, 0 to 13074851\n",
      "Data columns (total 42 columns):\n",
      " #   Column               Dtype         \n",
      "---  ------               -----         \n",
      " 0   vin                  object        \n",
      " 1   price                float64       \n",
      " 2   miles                float64       \n",
      " 3   year                 float64       \n",
      " 4   make                 object        \n",
      " 5   model                object        \n",
      " 6   trim                 object        \n",
      " 7   vehicle_type         object        \n",
      " 8   body_type            object        \n",
      " 9   body_subtype         object        \n",
      " 10  drivetrain           object        \n",
      " 11  fuel_type            object        \n",
      " 12  engine_block         object        \n",
      " 13  engine_size          object        \n",
      " 14  transmission         object        \n",
      " 15  doors                float64       \n",
      " 16  cylinders            float64       \n",
      " 17  city_mpg             float64       \n",
      " 18  highway_mpg          float64       \n",
      " 19  base_exterior_color  object        \n",
      " 20  base_interior_color  object        \n",
      " 21  is_certified         float64       \n",
      " 22  is_transfer          float64       \n",
      " 23  scraped_at           object        \n",
      " 24  status_date          object        \n",
      " 25  first_scraped_at     object        \n",
      " 26  city                 object        \n",
      " 27  zip                  object        \n",
      " 28  latitude             float32       \n",
      " 29  longitude            float32       \n",
      " 30  dealer_type          object        \n",
      " 31  currency_indicator   object        \n",
      " 32  miles_indicator      object        \n",
      " 33  photo_links_count    int32         \n",
      " 34  hvf_standard         object        \n",
      " 35  hvf_optional         object        \n",
      " 36  mvr_purchase_date    datetime64[ns]\n",
      " 37  mvr_price            float32       \n",
      " 38  mvr_make             object        \n",
      " 39  mvr_mileage          object        \n",
      " 40  mvr_model_year       int16         \n",
      " 41  mvr_state            object        \n",
      "dtypes: datetime64[ns](1), float32(3), float64(9), int16(1), int32(1), object(27)\n",
      "memory usage: 3.9+ GB\n"
     ]
    }
   ],
   "source": [
    "df.info()"
   ]
  },
  {
   "cell_type": "markdown",
   "metadata": {},
   "source": [
    "Title registration is the source of truth for purchase date and price. Listing for everything else..."
   ]
  },
  {
   "cell_type": "markdown",
   "metadata": {},
   "source": [
    "## Business Case Exclusions"
   ]
  },
  {
   "cell_type": "markdown",
   "metadata": {},
   "source": [
    "### Consumer Cars and Trucks Only\n",
    "Exclude commerical and recreational vehicles"
   ]
  },
  {
   "cell_type": "code",
   "execution_count": 7,
   "metadata": {
    "scrolled": false
   },
   "outputs": [
    {
     "name": "stdout",
     "output_type": "stream",
     "text": [
      "135385\n",
      "Rows: 12,939,467 \n",
      "Columns: 42\n"
     ]
    }
   ],
   "source": [
    "# consumer cars and trucks\n",
    "# df[\"body_type\"].value_counts()\n",
    "\n",
    "excluded_vehtypes = [\"Cargo Van\",\"Passenger Van\",\"Chassis Cab\",\"Car Van\"\n",
    "                     ,\"Combi\",\"Cutaway\",\"Van\",\"Commercial Wagon\",\"Chassis Cowl\"]\n",
    "\n",
    "print(df[\"body_type\"].isin(excluded_vehtypes).sum())\n",
    "df = df[~df[\"body_type\"].isin(excluded_vehtypes)]\n",
    "print_shape(df)"
   ]
  },
  {
   "cell_type": "code",
   "execution_count": null,
   "metadata": {},
   "outputs": [],
   "source": [
    "# body subtype"
   ]
  },
  {
   "cell_type": "markdown",
   "metadata": {},
   "source": [
    "### Not Vintage\n",
    "Vehicles older than 20 years can qualify for an antique plate"
   ]
  },
  {
   "cell_type": "code",
   "execution_count": 8,
   "metadata": {},
   "outputs": [],
   "source": [
    "# replace missing model year in listing with model year from mvr/registration\n",
    "df.loc[df[\"year\"].isna(),\"year\"] = df.loc[df[\"year\"].isna(),\"mvr_model_year\"]\n",
    "df[\"year\"] = df[\"year\"].astype(\"int\") # convert to int"
   ]
  },
  {
   "cell_type": "code",
   "execution_count": 9,
   "metadata": {},
   "outputs": [
    {
     "name": "stdout",
     "output_type": "stream",
     "text": [
      "160\n",
      "Rows: 12,939,307\n"
     ]
    }
   ],
   "source": [
    "# drop missing purchase date\n",
    "print(df[\"mvr_purchase_date\"].isna().sum())\n",
    "df = df[~(df[\"mvr_purchase_date\"].isna())]\n",
    "print_rows(df)"
   ]
  },
  {
   "cell_type": "code",
   "execution_count": 10,
   "metadata": {},
   "outputs": [
    {
     "name": "stdout",
     "output_type": "stream",
     "text": [
      "19466\n",
      "Rows: 12,919,841\n"
     ]
    }
   ],
   "source": [
    "# drop purchase date pre-2017\n",
    "print((df[\"mvr_purchase_date\"] < pd.to_datetime('20170101', format='%Y%m%d')).sum())\n",
    "df = df[~(df[\"mvr_purchase_date\"] < pd.to_datetime('20170101', format='%Y%m%d'))]\n",
    "print_rows(df)"
   ]
  },
  {
   "cell_type": "code",
   "execution_count": 11,
   "metadata": {},
   "outputs": [],
   "source": [
    "# difference between purchase date and 01-01-model_year\n",
    "df[\"timedelta\"] = df[\"mvr_purchase_date\"] - pd.to_datetime(df['year'].astype(str) + '0101', format='%Y%m%d')"
   ]
  },
  {
   "cell_type": "code",
   "execution_count": 12,
   "metadata": {},
   "outputs": [],
   "source": [
    "# compute age in months\n",
    "df[\"age_months\"] = np.round(df['timedelta'].astype('timedelta64[s]') / (30.44*24*60*60)).astype(int)\n",
    "df[\"age_months\"] = df[\"age_months\"] + 6 # model year release date factor"
   ]
  },
  {
   "cell_type": "code",
   "execution_count": 13,
   "metadata": {},
   "outputs": [
    {
     "name": "stdout",
     "output_type": "stream",
     "text": [
      "166858\n",
      "Rows: 12,752,983\n"
     ]
    }
   ],
   "source": [
    "# drop 20+ years old\n",
    "print((df[\"age_months\"] >= 240).sum())\n",
    "df = df[df[\"age_months\"] < 240]\n",
    "print_rows(df)"
   ]
  },
  {
   "cell_type": "code",
   "execution_count": 14,
   "metadata": {},
   "outputs": [
    {
     "name": "stdout",
     "output_type": "stream",
     "text": [
      "6025\n",
      "Rows: 12,746,958\n"
     ]
    }
   ],
   "source": [
    "# drop problematic negative age\n",
    "print((df[\"age_months\"] < 1).sum())\n",
    "df = df[~(df[\"age_months\"] < 1)]\n",
    "print_rows(df)"
   ]
  },
  {
   "cell_type": "markdown",
   "metadata": {},
   "source": [
    "### International"
   ]
  },
  {
   "cell_type": "code",
   "execution_count": 15,
   "metadata": {},
   "outputs": [
    {
     "name": "stdout",
     "output_type": "stream",
     "text": [
      "44\n",
      "373\n"
     ]
    }
   ],
   "source": [
    "# canadians/mexicans\n",
    "print((df[\"currency_indicator\"] == \"CAD\").sum())\n",
    "df = df[~(df[\"currency_indicator\"] == \"CAD\")]\n",
    "\n",
    "print((df[\"miles_indicator\"] == \"KILOMETERS\").sum())\n",
    "df = df[~(df[\"miles_indicator\"] == \"KILOMETERS\")]\n"
   ]
  },
  {
   "cell_type": "markdown",
   "metadata": {},
   "source": [
    "## Fatally Missing Values\n",
    "Not appropriate to impute these since they're too important"
   ]
  },
  {
   "cell_type": "markdown",
   "metadata": {},
   "source": [
    "### Price"
   ]
  },
  {
   "cell_type": "code",
   "execution_count": 16,
   "metadata": {},
   "outputs": [
    {
     "name": "stdout",
     "output_type": "stream",
     "text": [
      "939639\n",
      "Rows: 11,806,902\n"
     ]
    }
   ],
   "source": [
    "# price missing\n",
    "print(df[\"mvr_price\"].isna().sum())\n",
    "df = df[~df[\"mvr_price\"].isna()]\n",
    "print_rows(df)"
   ]
  },
  {
   "cell_type": "code",
   "execution_count": 17,
   "metadata": {},
   "outputs": [
    {
     "name": "stdout",
     "output_type": "stream",
     "text": [
      "2659751\n",
      "Rows: 9,147,151\n"
     ]
    }
   ],
   "source": [
    "# price ~ 0\n",
    "print((df[\"mvr_price\"] < 10).sum())\n",
    "df = df[~(df[\"mvr_price\"] < 10)]\n",
    "print_rows(df)"
   ]
  },
  {
   "cell_type": "markdown",
   "metadata": {},
   "source": [
    "### Mileage"
   ]
  },
  {
   "cell_type": "code",
   "execution_count": 18,
   "metadata": {},
   "outputs": [],
   "source": [
    "# replace missing listing miles with registration miles\n",
    "df.loc[df[\"miles\"].isna(),\"miles\"] = pd.to_numeric(df['mvr_mileage'], errors='coerce')[df[\"miles\"].isna()]"
   ]
  },
  {
   "cell_type": "code",
   "execution_count": 19,
   "metadata": {},
   "outputs": [],
   "source": [
    "# replace 0 listing miles with registration miles\n",
    "df.loc[(df[\"miles\"] == 0),\"miles\"] = pd.to_numeric(df['mvr_mileage'], errors='coerce')[df[\"miles\"] == 0]"
   ]
  },
  {
   "cell_type": "code",
   "execution_count": 20,
   "metadata": {},
   "outputs": [
    {
     "name": "stdout",
     "output_type": "stream",
     "text": [
      "32339\n",
      "5940\n",
      "Rows: 9,108,872\n"
     ]
    }
   ],
   "source": [
    "# drop if miles\n",
    "print(df[\"miles\"].isna().sum())\n",
    "print((df[\"miles\"] == 0).sum())\n",
    "df = df[~(df[\"miles\"].isna() | (df[\"miles\"] == 0))]\n",
    "print_rows(df)"
   ]
  },
  {
   "cell_type": "markdown",
   "metadata": {},
   "source": [
    "## Suspicious Data"
   ]
  },
  {
   "cell_type": "markdown",
   "metadata": {},
   "source": [
    "### Listing Date vs Purchase Date"
   ]
  },
  {
   "cell_type": "code",
   "execution_count": 21,
   "metadata": {
    "id": "u7FPDww0-xxX",
    "outputId": "6aa4b23b-a1b8-4bef-abe0-7021a466e8d9"
   },
   "outputs": [],
   "source": [
    "# difference between the last listing and the sale date recorded on the state registration\n",
    "#df[\"list_sale_diff\"] = (df['mvr_purchase_date'] - df['status_date']).astype('timedelta64[D]')\n",
    "#print_shape(df)\n",
    "# drop na's\n",
    "#df.dropna(subset=[\"list_sale_diff\"], inplace=True)\n",
    "#print_shape(df)\n",
    "# keep records with difference less than 90 days\n",
    "#df = df[abs(df[\"list_sale_diff\"]) < 90]\n",
    "#print_shape(df)\n",
    "#(abs(df[\"list_sale_diff\"]) > 90).sum()"
   ]
  },
  {
   "cell_type": "markdown",
   "metadata": {},
   "source": [
    "### Mileage"
   ]
  },
  {
   "cell_type": "code",
   "execution_count": 22,
   "metadata": {},
   "outputs": [],
   "source": [
    "# TODO: Check high mileage against mvr mileage"
   ]
  },
  {
   "cell_type": "code",
   "execution_count": 23,
   "metadata": {},
   "outputs": [
    {
     "name": "stdout",
     "output_type": "stream",
     "text": [
      "300789\n",
      "4\n"
     ]
    }
   ],
   "source": [
    "# calculate high and low prices\n",
    "top = df[\"miles\"].quantile(0.999)\n",
    "print(round(top))\n",
    "bottom = df[\"miles\"].quantile(0.001)\n",
    "print(round(bottom))"
   ]
  },
  {
   "cell_type": "code",
   "execution_count": 24,
   "metadata": {},
   "outputs": [
    {
     "name": "stdout",
     "output_type": "stream",
     "text": [
      "610699.980498122\n"
     ]
    }
   ],
   "source": [
    "toptop = df[\"miles\"].quantile(0.9999)\n",
    "print(toptop)"
   ]
  },
  {
   "cell_type": "markdown",
   "metadata": {},
   "source": [
    "### Other Strange Values"
   ]
  },
  {
   "cell_type": "code",
   "execution_count": 25,
   "metadata": {},
   "outputs": [],
   "source": [
    "df = df[df[\"drivetrain\"].isin([\"FWD\", \"RWD\", \"4WD\"])]"
   ]
  },
  {
   "cell_type": "code",
   "execution_count": 26,
   "metadata": {},
   "outputs": [],
   "source": [
    "mapping = {\"Lpg / Natural Gas\":\"Natural Gas\"\n",
    "           ,\"Unleaded / Premium Unleaded\":\"Premium Unleaded\"\n",
    "           ,\"E85; Unleaded \":\"E85 / Unleaded\"\n",
    "           ,\"E85 / Unleaded; Premium Unleaded\":\"Premium Unleaded\"\n",
    "           ,\"Compressed Natural Gas; Unleaded\":\"Natural Gas\"\n",
    "           ,\"Unleaded; Unleaded / E85\":\"E85 / Unleaded\"\n",
    "           ,\"E85 / Unleaded; Unleaded / E85 \":\"E85 / Unleaded\"\n",
    "           ,\"Unleaded / Electric\":\"Electric / Unleaded\"\n",
    "           ,\"Compressed Natural Gas / Unleaded\":\"Natural Gas\"\n",
    "           ,\"Premium Unleaded; Unleaded\":\"Premium Unleaded\"\n",
    "           ,\"E85 / Unleaded; Unleaded / Unleaded\":\"E85 / Unleaded\"\n",
    "           ,\"Compressed Natural Gas\":\"Natural Gas\"\n",
    "           ,\"Unleaded / Unleaded\":\"Unleaded\"\n",
    "           ,\"Premium Unleaded / Unleaded\":\"Premium Unleaded\"\n",
    "           ,\"E85 / Unleaded; Unleaded\":\"E85 / Unleaded\"\n",
    "           ,\"Unleaded / E85\":\"E85 / Unleaded\"\n",
    "          }\n",
    "\n",
    "df['fuel_type'] = df['fuel_type'].map(mapping).fillna(df['fuel_type'])"
   ]
  },
  {
   "cell_type": "code",
   "execution_count": 27,
   "metadata": {},
   "outputs": [],
   "source": [
    "df['zip'] = df['zip'].str[:5]"
   ]
  },
  {
   "cell_type": "markdown",
   "metadata": {},
   "source": [
    "## Make, Model, Trim\n",
    "Central to target encoding. Need at least 1000 observations of make/model/trim combo"
   ]
  },
  {
   "cell_type": "code",
   "execution_count": 28,
   "metadata": {},
   "outputs": [
    {
     "name": "stdout",
     "output_type": "stream",
     "text": [
      "3146\n",
      "Rows: 9,030,990\n"
     ]
    }
   ],
   "source": [
    "# make, model, or trim is null\n",
    "print((df[\"make\"].isna() | df[\"model\"].isna() | df[\"trim\"].isna()).sum())\n",
    "df = df[~(df[\"make\"].isna() | df[\"model\"].isna() | df[\"trim\"].isna())]\n",
    "print_rows(df)"
   ]
  },
  {
   "cell_type": "code",
   "execution_count": 29,
   "metadata": {},
   "outputs": [],
   "source": [
    "# new make/model/trim col\n",
    "df['make_model_trim'] = df['make'] + ' / ' + df['model'] + ' / ' + df['trim']"
   ]
  },
  {
   "cell_type": "code",
   "execution_count": 30,
   "metadata": {},
   "outputs": [
    {
     "name": "stdout",
     "output_type": "stream",
     "text": [
      "843256\n",
      "Rows: 8,187,734\n"
     ]
    }
   ],
   "source": [
    "# drop make/model/trim <100 obs\n",
    "print(sum(df[\"make_model_trim\"].value_counts()[df[\"make_model_trim\"].value_counts() < 1000]))\n",
    "df = df[~df['make_model_trim'].isin(list((df[\"make_model_trim\"].value_counts()[df[\"make_model_trim\"].value_counts() < 1000]).index))]\n",
    "print_rows(df)"
   ]
  },
  {
   "cell_type": "code",
   "execution_count": 108,
   "metadata": {},
   "outputs": [
    {
     "data": {
      "text/plain": [
       "1229"
      ]
     },
     "execution_count": 108,
     "metadata": {},
     "output_type": "execute_result"
    }
   ],
   "source": [
    "df[\"make_model_trim\"].nunique()"
   ]
  },
  {
   "cell_type": "markdown",
   "metadata": {},
   "source": [
    "## Target Variable"
   ]
  },
  {
   "cell_type": "markdown",
   "metadata": {},
   "source": [
    "We're not sellin' Ferraris and Lamborghinis here. We're sellin' everyday used cars."
   ]
  },
  {
   "cell_type": "code",
   "execution_count": 31,
   "metadata": {},
   "outputs": [
    {
     "data": {
      "text/plain": [
       "count    8.187734e+06\n",
       "mean     2.138965e+05\n",
       "std      3.472267e+08\n",
       "min      1.000000e+01\n",
       "25%      1.371900e+04\n",
       "50%      2.085000e+04\n",
       "75%      3.038600e+04\n",
       "max      7.911790e+11\n",
       "Name: mvr_price, dtype: float64"
      ]
     },
     "execution_count": 31,
     "metadata": {},
     "output_type": "execute_result"
    }
   ],
   "source": [
    "df[\"mvr_price\"].describe()"
   ]
  },
  {
   "cell_type": "code",
   "execution_count": 32,
   "metadata": {},
   "outputs": [
    {
     "name": "stdout",
     "output_type": "stream",
     "text": [
      "102755\n",
      "100\n"
     ]
    }
   ],
   "source": [
    "# calculate high and low prices\n",
    "top = df[\"mvr_price\"].quantile(0.999)\n",
    "print(round(top))\n",
    "bottom = df[\"mvr_price\"].quantile(0.001)\n",
    "print(round(bottom))"
   ]
  },
  {
   "cell_type": "code",
   "execution_count": 33,
   "metadata": {},
   "outputs": [
    {
     "name": "stdout",
     "output_type": "stream",
     "text": [
      "215000.0\n"
     ]
    }
   ],
   "source": [
    "toptop = df[\"mvr_price\"].quantile(0.9999)\n",
    "print(toptop)"
   ]
  },
  {
   "cell_type": "code",
   "execution_count": 34,
   "metadata": {},
   "outputs": [],
   "source": [
    "#df[(df[\"mvr_price\"] > toptop)].sort_values(by=[\"mvr_price\"])"
   ]
  },
  {
   "cell_type": "markdown",
   "metadata": {},
   "source": [
    "Based on manual inspection, records with `mvr_price` over $300,000 become highly error-prone. Extensive data validation is beyond the scope of this project, and these records will be dumped."
   ]
  },
  {
   "cell_type": "code",
   "execution_count": 35,
   "metadata": {},
   "outputs": [],
   "source": [
    "# remove obvious data errors only\n",
    "df = df[~(df[\"mvr_price\"] > 300000)]"
   ]
  },
  {
   "cell_type": "code",
   "execution_count": 36,
   "metadata": {
    "scrolled": true
   },
   "outputs": [
    {
     "data": {
      "text/plain": [
       "<AxesSubplot:>"
      ]
     },
     "execution_count": 36,
     "metadata": {},
     "output_type": "execute_result"
    },
    {
     "data": {
      "image/png": "[encoded data removed]",
      "text/plain": [
       "<Figure size 432x288 with 1 Axes>"
      ]
     },
     "metadata": {
      "needs_background": "light"
     },
     "output_type": "display_data"
    }
   ],
   "source": [
    "# plot distribution of mvr_price\n",
    "df[\"mvr_price\"].hist(bins=100)"
   ]
  },
  {
   "cell_type": "markdown",
   "metadata": {},
   "source": [
    "## Subset Columns"
   ]
  },
  {
   "cell_type": "code",
   "execution_count": 37,
   "metadata": {},
   "outputs": [],
   "source": [
    "df = df[['mvr_price','make_model_trim','miles', 'year','age_months', 'mvr_purchase_date',\n",
    "       'vehicle_type', 'body_type', 'drivetrain', 'fuel_type',\n",
    "       'engine_block', 'engine_size', 'transmission', 'doors', 'cylinders',\n",
    "       'city_mpg', 'highway_mpg', 'base_exterior_color', 'base_interior_color',\n",
    "       'is_certified', 'zip','mvr_state',\n",
    "       'hvf_standard', 'hvf_optional','make','model','trim']]\n",
    "\n",
    "# numeric\n",
    "df[\"engine_size\"] = df[\"engine_size\"].astype(\"float\")"
   ]
  },
  {
   "cell_type": "markdown",
   "metadata": {},
   "source": [
    "## Additional Feature Engineering"
   ]
  },
  {
   "cell_type": "code",
   "execution_count": 38,
   "metadata": {},
   "outputs": [],
   "source": [
    "# purchase month\n",
    "df[\"mvr_purchase_month\"] = df[\"mvr_purchase_date\"].dt.month.astype(\"category\")"
   ]
  },
  {
   "cell_type": "code",
   "execution_count": 39,
   "metadata": {},
   "outputs": [],
   "source": [
    "# monthly mileage\n",
    "df[\"monthly_mileage\"] = round(df[\"miles\"]/df[\"age_months\"],1)"
   ]
  },
  {
   "cell_type": "code",
   "execution_count": 40,
   "metadata": {},
   "outputs": [],
   "source": [
    "# epa weights city/highway 55/45\n",
    "df[\"mpg\"] = df[\"city_mpg\"] * 0.55 + df[\"highway_mpg\"] * 0.45\n",
    "df.drop(columns=[\"city_mpg\", \"highway_mpg\"], inplace=True)"
   ]
  },
  {
   "cell_type": "markdown",
   "metadata": {},
   "source": [
    "### Local Features"
   ]
  },
  {
   "cell_type": "code",
   "execution_count": 41,
   "metadata": {},
   "outputs": [],
   "source": [
    "from uszipcode import SearchEngine\n",
    "search = SearchEngine(simple_or_comprehensive=SearchEngine.SimpleOrComprehensiveArgEnum.comprehensive) "
   ]
  },
  {
   "cell_type": "code",
   "execution_count": 42,
   "metadata": {},
   "outputs": [],
   "source": [
    "def get_population_density_and_income(zipcode):\n",
    "    result = search.by_zipcode(zipcode)\n",
    "    if result:\n",
    "        return pd.Series([result.population_density\n",
    "                          ,result.median_household_income\n",
    "                          ,result.median_home_value\n",
    "                         ])\n",
    "    else:\n",
    "        return pd.Series([None, None, None])"
   ]
  },
  {
   "cell_type": "code",
   "execution_count": 43,
   "metadata": {},
   "outputs": [],
   "source": [
    "# apply get_population_density_and_income to each value in zip_list\n",
    "zip_list = pd.DataFrame(df['zip'].unique(), columns=['zip'])\n",
    "zip_list[['population_density', 'median_income', 'median_home_value']] = zip_list['zip'].apply(get_population_density_and_income)\n",
    "df = df.merge(zip_list, on='zip', how='left')"
   ]
  },
  {
   "cell_type": "markdown",
   "metadata": {},
   "source": [
    "### Economic"
   ]
  },
  {
   "cell_type": "code",
   "execution_count": 44,
   "metadata": {},
   "outputs": [],
   "source": [
    "df[\"mvr_purchase_yearmonth\"] = df[\"mvr_purchase_date\"].dt.strftime('%Y-%m')"
   ]
  },
  {
   "cell_type": "code",
   "execution_count": 45,
   "metadata": {},
   "outputs": [],
   "source": [
    "# federal reserve economic data (fred)\n",
    "from fredapi import Fred\n",
    "fred = Fred(api_key_file='private/fred_api_key.txt')"
   ]
  },
  {
   "cell_type": "markdown",
   "metadata": {},
   "source": [
    "#### Used Car Price Index"
   ]
  },
  {
   "cell_type": "code",
   "execution_count": 46,
   "metadata": {},
   "outputs": [],
   "source": [
    "# BLS: Used cars and trucks in U.S. city average\n",
    "used_car_price_index = fred.get_series('CUUR0000SETA02')\n",
    "used_car_price_index.name = \"used_car_price_index\"\n",
    "used_car_price_index.index = used_car_price_index.index + pd.DateOffset(months=1) # shift index (have to use last month's index to predict next month's price)\n",
    "used_car_price_index.index = used_car_price_index.index.strftime('%Y-%m')\n",
    "df = df.join(used_car_price_index, on=\"mvr_purchase_yearmonth\", how=\"left\")"
   ]
  },
  {
   "cell_type": "markdown",
   "metadata": {},
   "source": [
    "#### New Car Price Index"
   ]
  },
  {
   "cell_type": "code",
   "execution_count": 47,
   "metadata": {},
   "outputs": [],
   "source": [
    "# BLS: New cars and trucks in U.S. city average\n",
    "new_car_price_index = fred.get_series('CUSR0000SETA01')\n",
    "new_car_price_index.name = \"new_car_price_index\"\n",
    "new_car_price_index.index = new_car_price_index.index + pd.DateOffset(months=1) # shift index (have to use last month's index to predict next month's price)\n",
    "new_car_price_index.index = new_car_price_index.index.strftime('%Y-%m')\n",
    "df = df.join(new_car_price_index, on=\"mvr_purchase_yearmonth\", how=\"left\")"
   ]
  },
  {
   "cell_type": "markdown",
   "metadata": {},
   "source": [
    "#### Gas Prices"
   ]
  },
  {
   "cell_type": "code",
   "execution_count": 48,
   "metadata": {},
   "outputs": [],
   "source": [
    "gas_price_index = fred.get_series('GASREGW')\n",
    "gas_price_index.name = \"gas_price_index\"\n",
    "gas_price_index = gas_price_index.groupby(pd.Grouper(freq='M')).mean().resample('M').mean()\n",
    "gas_price_index.index = gas_price_index.index + pd.DateOffset(months=1) # shift index \n",
    "gas_price_index.index = gas_price_index.index.strftime('%Y-%m')\n",
    "df = df.join(gas_price_index, on=\"mvr_purchase_yearmonth\", how=\"left\")"
   ]
  },
  {
   "cell_type": "markdown",
   "metadata": {},
   "source": [
    "#### Consumer Sentiment"
   ]
  },
  {
   "cell_type": "code",
   "execution_count": 49,
   "metadata": {},
   "outputs": [],
   "source": [
    "consumer_sentiment_index = fred.get_series('UMCSENT')\n",
    "consumer_sentiment_index.name = \"consumer_sentiment_index\"\n",
    "consumer_sentiment_index.index = consumer_sentiment_index.index + pd.DateOffset(months=1) # shift index (have to use last month's index to predict next month's price)\n",
    "consumer_sentiment_index.index = consumer_sentiment_index.index.strftime('%Y-%m')\n",
    "df = df.join(consumer_sentiment_index, on=\"mvr_purchase_yearmonth\", how=\"left\")"
   ]
  },
  {
   "cell_type": "markdown",
   "metadata": {},
   "source": [
    "### \"High Value Features\" Vehicle Options"
   ]
  },
  {
   "cell_type": "code",
   "execution_count": 50,
   "metadata": {},
   "outputs": [],
   "source": [
    "def make_series(x):\n",
    "    return pd.Series(x, dtype = object)"
   ]
  },
  {
   "cell_type": "code",
   "execution_count": 51,
   "metadata": {},
   "outputs": [],
   "source": [
    "from tqdm import tqdm\n",
    "tqdm.pandas()"
   ]
  },
  {
   "cell_type": "code",
   "execution_count": 52,
   "metadata": {},
   "outputs": [],
   "source": [
    "hvf_optional = df[\"hvf_optional\"]"
   ]
  },
  {
   "cell_type": "code",
   "execution_count": 53,
   "metadata": {
    "scrolled": true
   },
   "outputs": [
    {
     "name": "stderr",
     "output_type": "stream",
     "text": [
      "100%|██████████| 8187531/8187531 [39:47<00:00, 3428.65it/s]  \n"
     ]
    },
    {
     "name": "stdout",
     "output_type": "stream",
     "text": [
      "(2945839, 77)\n"
     ]
    }
   ],
   "source": [
    "hvf_optional_df = pd.get_dummies(hvf_optional.progress_apply(make_series).stack()).groupby(level=0).sum()\n",
    "print(hvf_optional_df.shape)"
   ]
  },
  {
   "cell_type": "code",
   "execution_count": 54,
   "metadata": {},
   "outputs": [
    {
     "name": "stdout",
     "output_type": "stream",
     "text": [
      "Rows: 8,187,531 \n",
      "Columns: 113\n"
     ]
    }
   ],
   "source": [
    "merged_df = df.join(hvf_optional_df, how=\"left\")\n",
    "hvf_cols = list(hvf_optional_df.columns)\n",
    "merged_df[hvf_cols] = merged_df[hvf_cols].fillna(0)\n",
    "print_shape(merged_df)"
   ]
  },
  {
   "cell_type": "code",
   "execution_count": 55,
   "metadata": {},
   "outputs": [],
   "source": [
    "df = merged_df"
   ]
  },
  {
   "cell_type": "code",
   "execution_count": 56,
   "metadata": {},
   "outputs": [],
   "source": [
    "working_dir = \"/data/p_dsi/capstone_projects/shea/working/\"\n",
    "df.to_pickle(working_dir + \"df.pkl\")"
   ]
  },
  {
   "cell_type": "markdown",
   "metadata": {},
   "source": [
    "## Data Split"
   ]
  },
  {
   "cell_type": "code",
   "execution_count": null,
   "metadata": {},
   "outputs": [],
   "source": [
    "working_dir = \"/data/p_dsi/capstone_projects/shea/working/\"\n",
    "df = pd.read_pickle(working_dir + \"df.pkl\")"
   ]
  },
  {
   "cell_type": "code",
   "execution_count": 57,
   "metadata": {},
   "outputs": [
    {
     "name": "stdout",
     "output_type": "stream",
     "text": [
      "Train\n",
      "Rows: 5,731,271\n",
      "\n",
      "Validate\n",
      "Rows: 1,645,694\n",
      "\n",
      "Test\n",
      "Rows: 810,566\n"
     ]
    }
   ],
   "source": [
    "from sklearn.model_selection import train_test_split, StratifiedShuffleSplit\n",
    "\n",
    "# shuffle dataframe for good measure\n",
    "df = df.sample(frac=1).reset_index(drop=True)\n",
    "\n",
    "# create StratifiedShuffleSplit object by make_model_trim column\n",
    "sss = StratifiedShuffleSplit(n_splits=1, test_size=0.3, random_state=42)\n",
    "train_index, temp_index = next(sss.split(df, df['make_model_trim']))\n",
    "\n",
    "# create StratifiedShuffleSplit object by make_model_trim column again\n",
    "df_temp = df.loc[temp_index]\n",
    "sss = StratifiedShuffleSplit(n_splits=1, test_size=0.33, random_state=42)\n",
    "val_index, test_index = next(sss.split(df_temp, df_temp['make_model_trim']))\n",
    "\n",
    "# split dataframe into train, validate, and test sets\n",
    "train = df.loc[train_index]\n",
    "validate = df.loc[temp_index[val_index]]\n",
    "test = df.loc[temp_index[test_index]]\n",
    "\n",
    "print(\"Train\")\n",
    "print_rows(train)\n",
    "print(\"\\nValidate\")\n",
    "print_rows(validate)\n",
    "print(\"\\nTest\")\n",
    "print_rows(test)\n"
   ]
  },
  {
   "cell_type": "markdown",
   "metadata": {},
   "source": [
    "## Target Encoding"
   ]
  },
  {
   "cell_type": "code",
   "execution_count": 58,
   "metadata": {},
   "outputs": [],
   "source": [
    "train[\"make_model_trim_encoded\"] = train[\"make_model_trim\"]\n",
    "validate[\"make_model_trim_encoded\"] = validate[\"make_model_trim\"]\n",
    "test[\"make_model_trim_encoded\"] = test[\"make_model_trim\"]"
   ]
  },
  {
   "cell_type": "code",
   "execution_count": 59,
   "metadata": {},
   "outputs": [
    {
     "data": {
      "text/plain": [
       "TargetEncoder(cols=['make_model_trim_encoded'])"
      ]
     },
     "execution_count": 59,
     "metadata": {},
     "output_type": "execute_result"
    }
   ],
   "source": [
    "# fit encoder\n",
    "import category_encoders as ce\n",
    "\n",
    "encoder = ce.TargetEncoder(cols=['make_model_trim_encoded'])\n",
    "encoder.fit(train, train[\"mvr_price\"])"
   ]
  },
  {
   "cell_type": "code",
   "execution_count": 60,
   "metadata": {},
   "outputs": [],
   "source": [
    "# transform\n",
    "train = encoder.transform(train)\n",
    "validate = encoder.transform(train)\n",
    "test = encoder.transform(train)"
   ]
  },
  {
   "cell_type": "markdown",
   "metadata": {},
   "source": [
    "## HVF Dimsionality Reduction"
   ]
  },
  {
   "cell_type": "code",
   "execution_count": 61,
   "metadata": {},
   "outputs": [],
   "source": [
    "hvf_cols = ['3rd Row Seats',  '4-Wheel Steering',  'Adaptive Cruise Control', 'Android Auto',\n",
    " 'Anti Collision System', 'Apple CarPlay', 'Automatic Transmission', 'Autonomous Drive Functions',\n",
    " 'Aux Jack Input', 'Backup Camera', 'Biodiesel', 'Blind Spot System', 'Bluetooth', 'Brake Assist',\n",
    " 'CVT Transmission', 'Collision/Breakdown Telematics', 'Coming Home Device',\n",
    " 'Compressed Natural Gas', 'Concierge Services', 'Convertible Roof', 'Cruise Control', 'Diesel',\n",
    " 'Directional Headlights', 'Dual Rear Wheels', 'Dynamic Steering', 'Electric', 'Fog Lights',\n",
    " 'Gasoline', 'HDMI Connection', 'Hands Free Liftgate', 'Heads Up Display', 'Heated Door Mirrors',\n",
    " 'Heated Seats', 'Heated/Cooled Seats', 'Hybrid', 'Keyless Entry/Locking', 'Keyless Start/Remote Engine Start',\n",
    " 'LPG', 'Lane Keep Assist', 'Leather Seats', 'Leatherette Seats', 'Manual Transmission', 'Massage Seats',\n",
    " 'Memory Mirrors', 'Memory Seats', 'Memory Steering Wheel Position', 'Mirrorlink', 'Navigation',\n",
    " 'Panoramic Sun/Moonroof', 'Parking Assistance', 'Parking Distance Sensors', 'Parking Radar',\n",
    " 'Parking distance system', 'Phone Integration', 'Pickup Bed Cover', 'Pickup Bed Extender', 'Pickup Bed Liner',\n",
    " 'Power Closing Doors', 'Power Closing Liftgate', 'Premium Audio', 'Premium Cup Holders', 'Premium Wheels',\n",
    " 'Rear/Multi-Zone Air Conditioning', 'Satellite Radio', 'Steering Wheel Controls', 'Sun/Moonroof',\n",
    " 'Touch Screen', 'Touch Screen Audio', 'Trailer Assist', 'Trailer Tow Mirrors', 'Turbo Boost',\n",
    " 'USB Connection', 'Video Entertainment', 'Voice Recognision', 'Voice Recognition', 'WiFi Hotspot',\n",
    "            'Wireless Charging/Connection']"
   ]
  },
  {
   "cell_type": "code",
   "execution_count": 64,
   "metadata": {},
   "outputs": [],
   "source": [
    "from sklearn.decomposition import PCA\n",
    "\n",
    "def reduce_hvf(df,hvf_cols,pca=None):\n",
    "    subset_df = df[hvf_cols]\n",
    "    \n",
    "    # compute pca if not provided\n",
    "    if not pca:\n",
    "        pca = PCA(n_components=9)\n",
    "        pca.fit(subset_df)\n",
    "    \n",
    "    transformed_subset = pca.transform(subset_df)\n",
    "    transformed_subset = pd.DataFrame(transformed_subset, columns=['hvf_comp_1', 'hvf_comp_2', 'hvf_comp_3'\n",
    "                                                                ,'hvf_comp_4', 'hvf_comp_5', 'hvf_comp_6'\n",
    "                                                                ,'hvf_comp_7', 'hvf_comp_8', 'hvf_comp_9'\n",
    "                                                                #,'hvf_comp_10', 'hvf_comp_11', 'hvf_comp_12'\n",
    "                                                                #,'hvf_comp_13', 'hvf_comp_14', 'hvf_comp_15'\n",
    "                                                                #,'hvf_comp_16'\n",
    "                                                                  ])\n",
    "    transformed_subset.index = df.index\n",
    "    final_df = pd.concat([df.drop(columns=hvf_cols),transformed_subset], axis=1,ignore_index=False)\n",
    "    print_shape(final_df)\n",
    "    return final_df,pca"
   ]
  },
  {
   "cell_type": "code",
   "execution_count": 65,
   "metadata": {},
   "outputs": [
    {
     "name": "stdout",
     "output_type": "stream",
     "text": [
      "Rows: 5,731,271 \n",
      "Columns: 46\n"
     ]
    }
   ],
   "source": [
    "train,pca_train = reduce_hvf(train,hvf_cols)"
   ]
  },
  {
   "cell_type": "code",
   "execution_count": 71,
   "metadata": {},
   "outputs": [
    {
     "data": {
      "image/png": "[encoded data removed]",
      "text/plain": [
       "<Figure size 432x288 with 1 Axes>"
      ]
     },
     "metadata": {
      "needs_background": "light"
     },
     "output_type": "display_data"
    }
   ],
   "source": [
    "import matplotlib.pyplot as plt\n",
    "\n",
    "# plot the explained variance for each component\n",
    "plt.plot(np.cumsum(pca_train.explained_variance_ratio_))\n",
    "plt.xlabel('Number of Components')\n",
    "plt.ylabel('Cumulative Explained Variance')\n",
    "plt.title('Explained Variance for Each PCA Component')\n",
    "plt.show()\n",
    "\n",
    "#loadings = pd.DataFrame(pca.components_.T, index=test_hvf.columns)\n",
    "#for component in loadings.columns:\n",
    "#    print(f'Top 5 loadings for {component}:')\n",
    "#    print(loadings[component].abs().sort_values(ascending=False)[:5])\n",
    "#    print('\\n')\n"
   ]
  },
  {
   "cell_type": "code",
   "execution_count": 72,
   "metadata": {},
   "outputs": [
    {
     "name": "stdout",
     "output_type": "stream",
     "text": [
      "Rows: 5,731,271 \n",
      "Columns: 46\n"
     ]
    }
   ],
   "source": [
    "validate,_ = reduce_hvf(validate,hvf_cols,pca_train)"
   ]
  },
  {
   "cell_type": "code",
   "execution_count": 73,
   "metadata": {},
   "outputs": [
    {
     "name": "stdout",
     "output_type": "stream",
     "text": [
      "Rows: 5,731,271 \n",
      "Columns: 46\n"
     ]
    }
   ],
   "source": [
    "test,_ = reduce_hvf(test,hvf_cols,pca_train)"
   ]
  },
  {
   "cell_type": "markdown",
   "metadata": {},
   "source": [
    "## Missing"
   ]
  },
  {
   "cell_type": "code",
   "execution_count": 74,
   "metadata": {
    "executionInfo": {
     "elapsed": 7,
     "status": "ok",
     "timestamp": 1678124067313,
     "user": {
      "displayName": "Shea Conaway",
      "userId": "06745111064212010073"
     },
     "user_tz": 360
    },
    "id": "ixQpT0D8-xxI"
   },
   "outputs": [],
   "source": [
    "# calculate percent missing for each field in df\n",
    "def percent_missing(df):\n",
    "    mis_val = df.isnull().sum()\n",
    "    mis_val_percent = 100 * df.isnull().sum() / len(df)\n",
    "    mis_val_table = pd.concat([mis_val, mis_val_percent], axis=1)\n",
    "    # Rename the columns\n",
    "    mis_val_table = mis_val_table.rename(\n",
    "        columns={0: \"Missing Values\", 1: \"% of Total Values\"}\n",
    "    )\n",
    "    # Sort the table by percentage of missing descending\n",
    "    mis_val_table = (\n",
    "        mis_val_table[mis_val_table.iloc[:, 1] != 0]\n",
    "        .sort_values(\"% of Total Values\", ascending=False)\n",
    "        .round(1)\n",
    "    )\n",
    "    # Print some summary information\n",
    "    print(f\"{mis_val_table.shape[0]} of {df.shape[1]} columns have missing values\")\n",
    "    # Return the dataframe with missing information\n",
    "    return mis_val_table\n"
   ]
  },
  {
   "cell_type": "code",
   "execution_count": 75,
   "metadata": {
    "scrolled": true
   },
   "outputs": [
    {
     "name": "stdout",
     "output_type": "stream",
     "text": [
      "18 of 46 columns have missing values\n",
      "                     Missing Values  % of Total Values\n",
      "hvf_optional                3669724               64.0\n",
      "base_interior_color         1447499               25.3\n",
      "is_certified                1250946               21.8\n",
      "hvf_standard                1143451               20.0\n",
      "base_exterior_color          520748                9.1\n",
      "engine_block                 400142                7.0\n",
      "cylinders                    400142                7.0\n",
      "engine_size                  398316                6.9\n",
      "mpg                          313777                5.5\n",
      "median_income                 42049                0.7\n",
      "population_density            42049                0.7\n",
      "median_home_value             42049                0.7\n",
      "transmission                   3031                0.1\n",
      "vehicle_type                   1065                0.0\n",
      "fuel_type                       669                0.0\n",
      "doors                           668                0.0\n",
      "body_type                       570                0.0\n",
      "zip                             195                0.0\n",
      "18 of 46 columns have missing values\n",
      "                     Missing Values  % of Total Values\n",
      "hvf_optional                3669724               64.0\n",
      "base_interior_color         1447499               25.3\n",
      "is_certified                1250946               21.8\n",
      "hvf_standard                1143451               20.0\n",
      "base_exterior_color          520748                9.1\n",
      "engine_block                 400142                7.0\n",
      "cylinders                    400142                7.0\n",
      "engine_size                  398316                6.9\n",
      "mpg                          313777                5.5\n",
      "median_income                 42049                0.7\n",
      "population_density            42049                0.7\n",
      "median_home_value             42049                0.7\n",
      "transmission                   3031                0.1\n",
      "vehicle_type                   1065                0.0\n",
      "fuel_type                       669                0.0\n",
      "doors                           668                0.0\n",
      "body_type                       570                0.0\n",
      "zip                             195                0.0\n",
      "18 of 46 columns have missing values\n",
      "                     Missing Values  % of Total Values\n",
      "hvf_optional                3669724               64.0\n",
      "base_interior_color         1447499               25.3\n",
      "is_certified                1250946               21.8\n",
      "hvf_standard                1143451               20.0\n",
      "base_exterior_color          520748                9.1\n",
      "engine_block                 400142                7.0\n",
      "cylinders                    400142                7.0\n",
      "engine_size                  398316                6.9\n",
      "mpg                          313777                5.5\n",
      "median_income                 42049                0.7\n",
      "population_density            42049                0.7\n",
      "median_home_value             42049                0.7\n",
      "transmission                   3031                0.1\n",
      "vehicle_type                   1065                0.0\n",
      "fuel_type                       669                0.0\n",
      "doors                           668                0.0\n",
      "body_type                       570                0.0\n",
      "zip                             195                0.0\n"
     ]
    }
   ],
   "source": [
    "# check for missing\n",
    "print(percent_missing(train))\n",
    "print(percent_missing(validate))\n",
    "print(percent_missing(test))"
   ]
  },
  {
   "cell_type": "markdown",
   "metadata": {},
   "source": [
    "### Simple Handling"
   ]
  },
  {
   "cell_type": "code",
   "execution_count": 76,
   "metadata": {},
   "outputs": [],
   "source": [
    "# certified\n",
    "train[\"is_certified\"].fillna(0, inplace=True)\n",
    "validate[\"is_certified\"].fillna(0, inplace=True)\n",
    "test[\"is_certified\"].fillna(0, inplace=True)"
   ]
  },
  {
   "cell_type": "code",
   "execution_count": 77,
   "metadata": {},
   "outputs": [],
   "source": [
    "# location info missing\n",
    "train = train[~train[\"zip\"].isna()]\n",
    "validate = validate[~validate[\"zip\"].isna()]\n",
    "test = test[~test[\"zip\"].isna()]"
   ]
  },
  {
   "cell_type": "markdown",
   "metadata": {},
   "source": [
    "### Impute Mode for Categoricals"
   ]
  },
  {
   "cell_type": "code",
   "execution_count": 78,
   "metadata": {},
   "outputs": [],
   "source": [
    "# categoricals\n",
    "categoricals = [\"base_interior_color\",\"base_exterior_color\",\"engine_block\"\n",
    "                ,\"transmission\",\"vehicle_type\",\"fuel_type\",\"body_type\"\n",
    "                ,\"drivetrain\"]\n",
    "group = 'make_model_trim'\n",
    "for cat in categoricals:\n",
    "    train[cat] = train.groupby(group)[cat].transform(lambda x: x.fillna(x.mode().iloc[0] if len(x.mode()) > 0 else 'Unknown'))\n",
    "    validate[cat] = validate[group].map(train.groupby(group)[cat].apply(lambda x: x.mode()[0]))\n",
    "    test[cat] = test[group].map(train.groupby(group)[cat].apply(lambda x: x.mode()[0]))"
   ]
  },
  {
   "cell_type": "markdown",
   "metadata": {},
   "source": [
    "### Impute Median for Numerics"
   ]
  },
  {
   "cell_type": "code",
   "execution_count": 79,
   "metadata": {},
   "outputs": [],
   "source": [
    "# numerics\n",
    "numerics = [\"cylinders\",\"engine_size\",\"mpg\",\"doors\"]\n",
    "groups = [\"make_model_trim\",\"engine_size\",\"cylinders\",\"body_type\"]\n",
    "for group in groups:\n",
    "    for num in numerics:\n",
    "        train[num] = train.groupby(group)[num].transform(lambda x: x.fillna(x.median()))\n",
    "        validate[num] = validate[group].map(train.groupby(group)[num].median())\n",
    "        test[num] = test[group].map(train.groupby(group)[num].median())"
   ]
  },
  {
   "cell_type": "markdown",
   "metadata": {},
   "source": [
    "### Impute Median for Zip Features"
   ]
  },
  {
   "cell_type": "code",
   "execution_count": 80,
   "metadata": {},
   "outputs": [],
   "source": [
    "from sklearn.impute import SimpleImputer\n",
    "\n",
    "# fit a median imputer on train\n",
    "imputer = SimpleImputer(strategy='median')\n",
    "imputer.fit(train[['population_density', 'median_income', 'median_home_value']])\n",
    "\n",
    "# apply the median impute\n",
    "train[['population_density', 'median_income', 'median_home_value']] = imputer.transform(train[['population_density', 'median_income', 'median_home_value']])\n",
    "validate[['population_density', 'median_income', 'median_home_value']] = imputer.transform(validate[['population_density', 'median_income', 'median_home_value']])\n",
    "test[['population_density', 'median_income', 'median_home_value']] = imputer.transform(test[['population_density', 'median_income', 'median_home_value']])\n"
   ]
  },
  {
   "cell_type": "code",
   "execution_count": 81,
   "metadata": {
    "scrolled": true
   },
   "outputs": [
    {
     "name": "stdout",
     "output_type": "stream",
     "text": [
      "2 of 46 columns have missing values\n",
      "              Missing Values  % of Total Values\n",
      "hvf_optional         3669592               64.0\n",
      "hvf_standard         1143409               20.0\n",
      "2 of 46 columns have missing values\n",
      "              Missing Values  % of Total Values\n",
      "hvf_optional         3669592               64.0\n",
      "hvf_standard         1143409               20.0\n",
      "2 of 46 columns have missing values\n",
      "              Missing Values  % of Total Values\n",
      "hvf_optional         3669592               64.0\n",
      "hvf_standard         1143409               20.0\n"
     ]
    }
   ],
   "source": [
    "# check for missing\n",
    "print(percent_missing(train))\n",
    "print(percent_missing(validate))\n",
    "print(percent_missing(test))"
   ]
  },
  {
   "cell_type": "markdown",
   "metadata": {},
   "source": [
    "## EDA"
   ]
  },
  {
   "cell_type": "code",
   "execution_count": 82,
   "metadata": {},
   "outputs": [
    {
     "data": {
      "text/plain": [
       "Index(['mvr_price', 'make_model_trim', 'miles', 'year', 'age_months',\n",
       "       'mvr_purchase_date', 'vehicle_type', 'body_type', 'drivetrain',\n",
       "       'fuel_type', 'engine_block', 'engine_size', 'transmission', 'doors',\n",
       "       'cylinders', 'base_exterior_color', 'base_interior_color',\n",
       "       'is_certified', 'zip', 'mvr_state', 'hvf_standard', 'hvf_optional',\n",
       "       'make', 'model', 'trim', 'mvr_purchase_month', 'monthly_mileage', 'mpg',\n",
       "       'population_density', 'median_income', 'median_home_value',\n",
       "       'mvr_purchase_yearmonth', 'used_car_price_index', 'new_car_price_index',\n",
       "       'gas_price_index', 'consumer_sentiment_index',\n",
       "       'make_model_trim_encoded', 'hvf_comp_1', 'hvf_comp_2', 'hvf_comp_3',\n",
       "       'hvf_comp_4', 'hvf_comp_5', 'hvf_comp_6', 'hvf_comp_7', 'hvf_comp_8',\n",
       "       'hvf_comp_9'],\n",
       "      dtype='object')"
      ]
     },
     "execution_count": 82,
     "metadata": {},
     "output_type": "execute_result"
    }
   ],
   "source": [
    "train.columns"
   ]
  },
  {
   "cell_type": "code",
   "execution_count": 83,
   "metadata": {},
   "outputs": [
    {
     "data": {
      "text/plain": [
       "mvr_price                   1.000000\n",
       "make_model_trim_encoded     0.787045\n",
       "year                        0.615130\n",
       "engine_size                 0.419075\n",
       "cylinders                   0.386631\n",
       "hvf_comp_1                  0.283403\n",
       "used_car_price_index        0.173594\n",
       "new_car_price_index         0.164485\n",
       "gas_price_index             0.160161\n",
       "is_certified                0.144777\n",
       "hvf_comp_4                  0.114666\n",
       "median_income               0.089219\n",
       "median_home_value           0.084965\n",
       "hvf_comp_9                  0.074301\n",
       "monthly_mileage             0.058452\n",
       "hvf_comp_6                  0.030634\n",
       "hvf_comp_7                  0.026195\n",
       "doors                       0.010913\n",
       "hvf_comp_2                 -0.014507\n",
       "hvf_comp_8                 -0.018819\n",
       "hvf_comp_5                 -0.019920\n",
       "population_density         -0.024859\n",
       "hvf_comp_3                 -0.031557\n",
       "consumer_sentiment_index   -0.137772\n",
       "mpg                        -0.319904\n",
       "miles                      -0.483133\n",
       "age_months                 -0.562934\n",
       "Name: mvr_price, dtype: float64"
      ]
     },
     "execution_count": 83,
     "metadata": {},
     "output_type": "execute_result"
    }
   ],
   "source": [
    "# numerics correlations with target\n",
    "correlations = train.corr(method=\"pearson\", numeric_only=True)[\"mvr_price\"].sort_values(ascending=False)\n",
    "correlations"
   ]
  },
  {
   "cell_type": "code",
   "execution_count": 105,
   "metadata": {
    "scrolled": true
   },
   "outputs": [
    {
     "data": {
      "text/plain": [
       "engine_size       AxesSubplot(0.125,0.125;0.227941x0.755)\n",
       "miles          AxesSubplot(0.398529,0.125;0.227941x0.755)\n",
       "age_months     AxesSubplot(0.672059,0.125;0.227941x0.755)\n",
       "dtype: object"
      ]
     },
     "execution_count": 105,
     "metadata": {},
     "output_type": "execute_result"
    },
    {
     "data": {
      "image/png": "[encoded data removed]",
      "text/plain": [
       "<Figure size 432x288 with 3 Axes>"
      ]
     },
     "metadata": {
      "needs_background": "light"
     },
     "output_type": "display_data"
    }
   ],
   "source": [
    "# boxplots of numeric variables\n",
    "train[[\n",
    " 'engine_size',\n",
    " 'miles',\n",
    " 'age_months']].plot(kind='box', subplots=True, layout=(1,3), sharex=False, sharey=False)"
   ]
  },
  {
   "cell_type": "code",
   "execution_count": 107,
   "metadata": {},
   "outputs": [
    {
     "name": "stderr",
     "output_type": "stream",
     "text": [
      "/tmp/ipykernel_190117/4258576343.py:4: FutureWarning: The default value of numeric_only in DataFrame.corr is deprecated. In a future version, it will default to False. Select only valid columns or specify the value of numeric_only to silence this warning.\n",
      "  corr_matrix = train.corr()\n"
     ]
    },
    {
     "data": {
      "image/png": "[encoded data removed]",
      "text/plain": [
       "<Figure size 864x648 with 2 Axes>"
      ]
     },
     "metadata": {
      "needs_background": "light"
     },
     "output_type": "display_data"
    }
   ],
   "source": [
    "import seaborn as sns\n",
    "import matplotlib.pyplot as plt\n",
    "\n",
    "corr_matrix = train.corr()\n",
    "\n",
    "plt.figure(figsize=(12, 9))\n",
    "\n",
    "sns.heatmap(\n",
    "    corr_matrix,\n",
    "    annot=True,       # Display the correlation coefficients\n",
    "    fmt=\".2f\",        # Format the correlation coefficients to 2 decimal places\n",
    "    cmap=\"coolwarm\",  # Choose a color palette for the heatmap\n",
    "    vmin=-1,          # Set the minimum value for the color scale\n",
    "    vmax=1,           # Set the maximum value for the color scale\n",
    "    linewidths=.5,    # Add a small space between the cells for better readability\n",
    ")\n",
    "\n",
    "# Display the heatmap\n",
    "plt.show()\n"
   ]
  },
  {
   "cell_type": "markdown",
   "metadata": {},
   "source": [
    "## Pre-Modeling EDA"
   ]
  },
  {
   "cell_type": "code",
   "execution_count": 85,
   "metadata": {
    "id": "2SaKVWtQ-xxX",
    "outputId": "0d6662bd-cb04-4c97-c485-3a64e57a0bca"
   },
   "outputs": [
    {
     "name": "stdout",
     "output_type": "stream",
     "text": [
      "Rows: 5,731,076 \n",
      "Columns: 46\n"
     ]
    },
    {
     "data": {
      "text/html": [
       "<div>\n",
       "<style scoped>\n",
       "    .dataframe tbody tr th:only-of-type {\n",
       "        vertical-align: middle;\n",
       "    }\n",
       "\n",
       "    .dataframe tbody tr th {\n",
       "        vertical-align: top;\n",
       "    }\n",
       "\n",
       "    .dataframe thead th {\n",
       "        text-align: right;\n",
       "    }\n",
       "</style>\n",
       "<table border=\"1\" class=\"dataframe\">\n",
       "  <thead>\n",
       "    <tr style=\"text-align: right;\">\n",
       "      <th></th>\n",
       "      <th>7752074</th>\n",
       "      <th>6456647</th>\n",
       "      <th>2586345</th>\n",
       "      <th>2596605</th>\n",
       "      <th>7475406</th>\n",
       "    </tr>\n",
       "  </thead>\n",
       "  <tbody>\n",
       "    <tr>\n",
       "      <th>mvr_price</th>\n",
       "      <td>11595.0</td>\n",
       "      <td>7098.0</td>\n",
       "      <td>37453.0</td>\n",
       "      <td>29799.0</td>\n",
       "      <td>13295.0</td>\n",
       "    </tr>\n",
       "    <tr>\n",
       "      <th>make_model_trim</th>\n",
       "      <td>Chrysler / 200 / Limited</td>\n",
       "      <td>Chevrolet / Sonic / 2LT</td>\n",
       "      <td>GMC / Terrain / SLT</td>\n",
       "      <td>GMC / Sierra 1500 / SLE</td>\n",
       "      <td>BMW / 3 Series / 328i</td>\n",
       "    </tr>\n",
       "    <tr>\n",
       "      <th>miles</th>\n",
       "      <td>58587.0</td>\n",
       "      <td>70001.0</td>\n",
       "      <td>9108.0</td>\n",
       "      <td>55384.0</td>\n",
       "      <td>60555.0</td>\n",
       "    </tr>\n",
       "    <tr>\n",
       "      <th>year</th>\n",
       "      <td>2015</td>\n",
       "      <td>2012</td>\n",
       "      <td>2021</td>\n",
       "      <td>2015</td>\n",
       "      <td>2014</td>\n",
       "    </tr>\n",
       "    <tr>\n",
       "      <th>age_months</th>\n",
       "      <td>49</td>\n",
       "      <td>79</td>\n",
       "      <td>21</td>\n",
       "      <td>79</td>\n",
       "      <td>80</td>\n",
       "    </tr>\n",
       "    <tr>\n",
       "      <th>mvr_purchase_date</th>\n",
       "      <td>2018-07-20 00:00:00</td>\n",
       "      <td>2018-01-29 00:00:00</td>\n",
       "      <td>2022-04-11 00:00:00</td>\n",
       "      <td>2021-02-09 00:00:00</td>\n",
       "      <td>2020-03-09 00:00:00</td>\n",
       "    </tr>\n",
       "    <tr>\n",
       "      <th>vehicle_type</th>\n",
       "      <td>Car</td>\n",
       "      <td>Car</td>\n",
       "      <td>Truck</td>\n",
       "      <td>Truck</td>\n",
       "      <td>Car</td>\n",
       "    </tr>\n",
       "    <tr>\n",
       "      <th>body_type</th>\n",
       "      <td>Sedan</td>\n",
       "      <td>Hatchback</td>\n",
       "      <td>SUV</td>\n",
       "      <td>Pickup</td>\n",
       "      <td>Sedan</td>\n",
       "    </tr>\n",
       "    <tr>\n",
       "      <th>drivetrain</th>\n",
       "      <td>FWD</td>\n",
       "      <td>FWD</td>\n",
       "      <td>FWD</td>\n",
       "      <td>RWD</td>\n",
       "      <td>4WD</td>\n",
       "    </tr>\n",
       "    <tr>\n",
       "      <th>fuel_type</th>\n",
       "      <td>Unleaded</td>\n",
       "      <td>Unleaded</td>\n",
       "      <td>Unleaded</td>\n",
       "      <td>Unleaded</td>\n",
       "      <td>Premium Unleaded</td>\n",
       "    </tr>\n",
       "    <tr>\n",
       "      <th>engine_block</th>\n",
       "      <td>I</td>\n",
       "      <td>I</td>\n",
       "      <td>I</td>\n",
       "      <td>V</td>\n",
       "      <td>I</td>\n",
       "    </tr>\n",
       "    <tr>\n",
       "      <th>engine_size</th>\n",
       "      <td>2.4</td>\n",
       "      <td>1.4</td>\n",
       "      <td>1.5</td>\n",
       "      <td>5.3</td>\n",
       "      <td>2.0</td>\n",
       "    </tr>\n",
       "    <tr>\n",
       "      <th>transmission</th>\n",
       "      <td>Automatic</td>\n",
       "      <td>Automatic</td>\n",
       "      <td>Automatic</td>\n",
       "      <td>Automatic</td>\n",
       "      <td>Automatic</td>\n",
       "    </tr>\n",
       "    <tr>\n",
       "      <th>doors</th>\n",
       "      <td>4.0</td>\n",
       "      <td>5.0</td>\n",
       "      <td>5.0</td>\n",
       "      <td>4.0</td>\n",
       "      <td>4.0</td>\n",
       "    </tr>\n",
       "    <tr>\n",
       "      <th>cylinders</th>\n",
       "      <td>4.0</td>\n",
       "      <td>4.0</td>\n",
       "      <td>4.0</td>\n",
       "      <td>8.0</td>\n",
       "      <td>4.0</td>\n",
       "    </tr>\n",
       "    <tr>\n",
       "      <th>base_exterior_color</th>\n",
       "      <td>Black</td>\n",
       "      <td>Red</td>\n",
       "      <td>White</td>\n",
       "      <td>Brown</td>\n",
       "      <td>Black</td>\n",
       "    </tr>\n",
       "    <tr>\n",
       "      <th>base_interior_color</th>\n",
       "      <td>Black</td>\n",
       "      <td>Black</td>\n",
       "      <td>Black</td>\n",
       "      <td>Black</td>\n",
       "      <td>Black</td>\n",
       "    </tr>\n",
       "    <tr>\n",
       "      <th>is_certified</th>\n",
       "      <td>0.0</td>\n",
       "      <td>0.0</td>\n",
       "      <td>0.0</td>\n",
       "      <td>0.0</td>\n",
       "      <td>0.0</td>\n",
       "    </tr>\n",
       "    <tr>\n",
       "      <th>zip</th>\n",
       "      <td>76015</td>\n",
       "      <td>79714</td>\n",
       "      <td>75901</td>\n",
       "      <td>78232</td>\n",
       "      <td>44146</td>\n",
       "    </tr>\n",
       "    <tr>\n",
       "      <th>mvr_state</th>\n",
       "      <td>TX</td>\n",
       "      <td>TX</td>\n",
       "      <td>TX</td>\n",
       "      <td>TX</td>\n",
       "      <td>OH</td>\n",
       "    </tr>\n",
       "    <tr>\n",
       "      <th>hvf_standard</th>\n",
       "      <td>[Keyless Entry/Locking, Keyless Start/Remote E...</td>\n",
       "      <td>None</td>\n",
       "      <td>[Power Closing Doors, Power Closing Liftgate, ...</td>\n",
       "      <td>[Keyless Entry/Locking, Parking Assistance, Pa...</td>\n",
       "      <td>[Coming Home Device, Keyless Entry/Locking, Ke...</td>\n",
       "    </tr>\n",
       "    <tr>\n",
       "      <th>hvf_optional</th>\n",
       "      <td>[Parking Assistance, Parking distance system, ...</td>\n",
       "      <td>None</td>\n",
       "      <td>[Sun/Moonroof, Sun/Moonroof]</td>\n",
       "      <td>[Coming Home Device, Gasoline, Fog Lights]</td>\n",
       "      <td>None</td>\n",
       "    </tr>\n",
       "    <tr>\n",
       "      <th>make</th>\n",
       "      <td>Chrysler</td>\n",
       "      <td>Chevrolet</td>\n",
       "      <td>GMC</td>\n",
       "      <td>GMC</td>\n",
       "      <td>BMW</td>\n",
       "    </tr>\n",
       "    <tr>\n",
       "      <th>model</th>\n",
       "      <td>200</td>\n",
       "      <td>Sonic</td>\n",
       "      <td>Terrain</td>\n",
       "      <td>Sierra 1500</td>\n",
       "      <td>3 Series</td>\n",
       "    </tr>\n",
       "    <tr>\n",
       "      <th>trim</th>\n",
       "      <td>Limited</td>\n",
       "      <td>2LT</td>\n",
       "      <td>SLT</td>\n",
       "      <td>SLE</td>\n",
       "      <td>328i</td>\n",
       "    </tr>\n",
       "    <tr>\n",
       "      <th>mvr_purchase_month</th>\n",
       "      <td>7</td>\n",
       "      <td>1</td>\n",
       "      <td>4</td>\n",
       "      <td>2</td>\n",
       "      <td>3</td>\n",
       "    </tr>\n",
       "    <tr>\n",
       "      <th>monthly_mileage</th>\n",
       "      <td>1195.7</td>\n",
       "      <td>886.1</td>\n",
       "      <td>433.7</td>\n",
       "      <td>701.1</td>\n",
       "      <td>756.9</td>\n",
       "    </tr>\n",
       "    <tr>\n",
       "      <th>mpg</th>\n",
       "      <td>28.85</td>\n",
       "      <td>33.95</td>\n",
       "      <td>27.25</td>\n",
       "      <td>20.7</td>\n",
       "      <td>26.95</td>\n",
       "    </tr>\n",
       "    <tr>\n",
       "      <th>population_density</th>\n",
       "      <td>3888.0</td>\n",
       "      <td>19.0</td>\n",
       "      <td>180.0</td>\n",
       "      <td>2921.0</td>\n",
       "      <td>1487.0</td>\n",
       "    </tr>\n",
       "    <tr>\n",
       "      <th>median_income</th>\n",
       "      <td>47902.0</td>\n",
       "      <td>57825.0</td>\n",
       "      <td>41809.0</td>\n",
       "      <td>64741.0</td>\n",
       "      <td>41850.0</td>\n",
       "    </tr>\n",
       "    <tr>\n",
       "      <th>median_home_value</th>\n",
       "      <td>116000.0</td>\n",
       "      <td>88600.0</td>\n",
       "      <td>89100.0</td>\n",
       "      <td>188700.0</td>\n",
       "      <td>110300.0</td>\n",
       "    </tr>\n",
       "    <tr>\n",
       "      <th>mvr_purchase_yearmonth</th>\n",
       "      <td>2018-07</td>\n",
       "      <td>2018-01</td>\n",
       "      <td>2022-04</td>\n",
       "      <td>2021-02</td>\n",
       "      <td>2020-03</td>\n",
       "    </tr>\n",
       "    <tr>\n",
       "      <th>used_car_price_index</th>\n",
       "      <td>139.09</td>\n",
       "      <td>136.118</td>\n",
       "      <td>208.216</td>\n",
       "      <td>149.659</td>\n",
       "      <td>137.452</td>\n",
       "    </tr>\n",
       "    <tr>\n",
       "      <th>new_car_price_index</th>\n",
       "      <td>145.769</td>\n",
       "      <td>146.79</td>\n",
       "      <td>168.885</td>\n",
       "      <td>150.177</td>\n",
       "      <td>148.403</td>\n",
       "    </tr>\n",
       "    <tr>\n",
       "      <th>gas_price_index</th>\n",
       "      <td>2.89075</td>\n",
       "      <td>2.47675</td>\n",
       "      <td>4.22175</td>\n",
       "      <td>2.33425</td>\n",
       "      <td>2.442</td>\n",
       "    </tr>\n",
       "    <tr>\n",
       "      <th>consumer_sentiment_index</th>\n",
       "      <td>98.2</td>\n",
       "      <td>95.9</td>\n",
       "      <td>59.4</td>\n",
       "      <td>79.0</td>\n",
       "      <td>101.0</td>\n",
       "    </tr>\n",
       "    <tr>\n",
       "      <th>make_model_trim_encoded</th>\n",
       "      <td>12110.927734</td>\n",
       "      <td>6155.617676</td>\n",
       "      <td>25119.826172</td>\n",
       "      <td>24199.128906</td>\n",
       "      <td>14407.051758</td>\n",
       "    </tr>\n",
       "    <tr>\n",
       "      <th>hvf_comp_1</th>\n",
       "      <td>0.043242</td>\n",
       "      <td>-0.349536</td>\n",
       "      <td>0.651525</td>\n",
       "      <td>-0.218038</td>\n",
       "      <td>-0.349536</td>\n",
       "    </tr>\n",
       "    <tr>\n",
       "      <th>hvf_comp_2</th>\n",
       "      <td>0.217584</td>\n",
       "      <td>0.001716</td>\n",
       "      <td>-1.658763</td>\n",
       "      <td>0.068711</td>\n",
       "      <td>0.001716</td>\n",
       "    </tr>\n",
       "    <tr>\n",
       "      <th>hvf_comp_3</th>\n",
       "      <td>-0.17438</td>\n",
       "      <td>0.046915</td>\n",
       "      <td>0.176485</td>\n",
       "      <td>-0.039631</td>\n",
       "      <td>0.046915</td>\n",
       "    </tr>\n",
       "    <tr>\n",
       "      <th>hvf_comp_4</th>\n",
       "      <td>0.489491</td>\n",
       "      <td>-0.040313</td>\n",
       "      <td>-0.35042</td>\n",
       "      <td>0.155326</td>\n",
       "      <td>-0.040313</td>\n",
       "    </tr>\n",
       "    <tr>\n",
       "      <th>hvf_comp_5</th>\n",
       "      <td>0.145469</td>\n",
       "      <td>-0.041399</td>\n",
       "      <td>0.042921</td>\n",
       "      <td>0.084614</td>\n",
       "      <td>-0.041399</td>\n",
       "    </tr>\n",
       "    <tr>\n",
       "      <th>hvf_comp_6</th>\n",
       "      <td>0.227287</td>\n",
       "      <td>-0.019283</td>\n",
       "      <td>-0.257737</td>\n",
       "      <td>-0.049771</td>\n",
       "      <td>-0.019283</td>\n",
       "    </tr>\n",
       "    <tr>\n",
       "      <th>hvf_comp_7</th>\n",
       "      <td>1.275071</td>\n",
       "      <td>-0.028333</td>\n",
       "      <td>0.101975</td>\n",
       "      <td>0.084156</td>\n",
       "      <td>-0.028333</td>\n",
       "    </tr>\n",
       "    <tr>\n",
       "      <th>hvf_comp_8</th>\n",
       "      <td>-0.19562</td>\n",
       "      <td>-0.002225</td>\n",
       "      <td>-0.009752</td>\n",
       "      <td>0.122933</td>\n",
       "      <td>-0.002225</td>\n",
       "    </tr>\n",
       "    <tr>\n",
       "      <th>hvf_comp_9</th>\n",
       "      <td>-0.009509</td>\n",
       "      <td>-0.040014</td>\n",
       "      <td>-0.003443</td>\n",
       "      <td>0.039314</td>\n",
       "      <td>-0.040014</td>\n",
       "    </tr>\n",
       "  </tbody>\n",
       "</table>\n",
       "</div>"
      ],
      "text/plain": [
       "                                                                    7752074  \\\n",
       "mvr_price                                                           11595.0   \n",
       "make_model_trim                                    Chrysler / 200 / Limited   \n",
       "miles                                                               58587.0   \n",
       "year                                                                   2015   \n",
       "age_months                                                               49   \n",
       "mvr_purchase_date                                       2018-07-20 00:00:00   \n",
       "vehicle_type                                                            Car   \n",
       "body_type                                                             Sedan   \n",
       "drivetrain                                                              FWD   \n",
       "fuel_type                                                          Unleaded   \n",
       "engine_block                                                              I   \n",
       "engine_size                                                             2.4   \n",
       "transmission                                                      Automatic   \n",
       "doors                                                                   4.0   \n",
       "cylinders                                                               4.0   \n",
       "base_exterior_color                                                   Black   \n",
       "base_interior_color                                                   Black   \n",
       "is_certified                                                            0.0   \n",
       "zip                                                                   76015   \n",
       "mvr_state                                                                TX   \n",
       "hvf_standard              [Keyless Entry/Locking, Keyless Start/Remote E...   \n",
       "hvf_optional              [Parking Assistance, Parking distance system, ...   \n",
       "make                                                               Chrysler   \n",
       "model                                                                   200   \n",
       "trim                                                                Limited   \n",
       "mvr_purchase_month                                                        7   \n",
       "monthly_mileage                                                      1195.7   \n",
       "mpg                                                                   28.85   \n",
       "population_density                                                   3888.0   \n",
       "median_income                                                       47902.0   \n",
       "median_home_value                                                  116000.0   \n",
       "mvr_purchase_yearmonth                                              2018-07   \n",
       "used_car_price_index                                                 139.09   \n",
       "new_car_price_index                                                 145.769   \n",
       "gas_price_index                                                     2.89075   \n",
       "consumer_sentiment_index                                               98.2   \n",
       "make_model_trim_encoded                                        12110.927734   \n",
       "hvf_comp_1                                                         0.043242   \n",
       "hvf_comp_2                                                         0.217584   \n",
       "hvf_comp_3                                                         -0.17438   \n",
       "hvf_comp_4                                                         0.489491   \n",
       "hvf_comp_5                                                         0.145469   \n",
       "hvf_comp_6                                                         0.227287   \n",
       "hvf_comp_7                                                         1.275071   \n",
       "hvf_comp_8                                                         -0.19562   \n",
       "hvf_comp_9                                                        -0.009509   \n",
       "\n",
       "                                          6456647  \\\n",
       "mvr_price                                  7098.0   \n",
       "make_model_trim           Chevrolet / Sonic / 2LT   \n",
       "miles                                     70001.0   \n",
       "year                                         2012   \n",
       "age_months                                     79   \n",
       "mvr_purchase_date             2018-01-29 00:00:00   \n",
       "vehicle_type                                  Car   \n",
       "body_type                               Hatchback   \n",
       "drivetrain                                    FWD   \n",
       "fuel_type                                Unleaded   \n",
       "engine_block                                    I   \n",
       "engine_size                                   1.4   \n",
       "transmission                            Automatic   \n",
       "doors                                         5.0   \n",
       "cylinders                                     4.0   \n",
       "base_exterior_color                           Red   \n",
       "base_interior_color                         Black   \n",
       "is_certified                                  0.0   \n",
       "zip                                         79714   \n",
       "mvr_state                                      TX   \n",
       "hvf_standard                                 None   \n",
       "hvf_optional                                 None   \n",
       "make                                    Chevrolet   \n",
       "model                                       Sonic   \n",
       "trim                                          2LT   \n",
       "mvr_purchase_month                              1   \n",
       "monthly_mileage                             886.1   \n",
       "mpg                                         33.95   \n",
       "population_density                           19.0   \n",
       "median_income                             57825.0   \n",
       "median_home_value                         88600.0   \n",
       "mvr_purchase_yearmonth                    2018-01   \n",
       "used_car_price_index                      136.118   \n",
       "new_car_price_index                        146.79   \n",
       "gas_price_index                           2.47675   \n",
       "consumer_sentiment_index                     95.9   \n",
       "make_model_trim_encoded               6155.617676   \n",
       "hvf_comp_1                              -0.349536   \n",
       "hvf_comp_2                               0.001716   \n",
       "hvf_comp_3                               0.046915   \n",
       "hvf_comp_4                              -0.040313   \n",
       "hvf_comp_5                              -0.041399   \n",
       "hvf_comp_6                              -0.019283   \n",
       "hvf_comp_7                              -0.028333   \n",
       "hvf_comp_8                              -0.002225   \n",
       "hvf_comp_9                              -0.040014   \n",
       "\n",
       "                                                                    2586345  \\\n",
       "mvr_price                                                           37453.0   \n",
       "make_model_trim                                         GMC / Terrain / SLT   \n",
       "miles                                                                9108.0   \n",
       "year                                                                   2021   \n",
       "age_months                                                               21   \n",
       "mvr_purchase_date                                       2022-04-11 00:00:00   \n",
       "vehicle_type                                                          Truck   \n",
       "body_type                                                               SUV   \n",
       "drivetrain                                                              FWD   \n",
       "fuel_type                                                          Unleaded   \n",
       "engine_block                                                              I   \n",
       "engine_size                                                             1.5   \n",
       "transmission                                                      Automatic   \n",
       "doors                                                                   5.0   \n",
       "cylinders                                                               4.0   \n",
       "base_exterior_color                                                   White   \n",
       "base_interior_color                                                   Black   \n",
       "is_certified                                                            0.0   \n",
       "zip                                                                   75901   \n",
       "mvr_state                                                                TX   \n",
       "hvf_standard              [Power Closing Doors, Power Closing Liftgate, ...   \n",
       "hvf_optional                                   [Sun/Moonroof, Sun/Moonroof]   \n",
       "make                                                                    GMC   \n",
       "model                                                               Terrain   \n",
       "trim                                                                    SLT   \n",
       "mvr_purchase_month                                                        4   \n",
       "monthly_mileage                                                       433.7   \n",
       "mpg                                                                   27.25   \n",
       "population_density                                                    180.0   \n",
       "median_income                                                       41809.0   \n",
       "median_home_value                                                   89100.0   \n",
       "mvr_purchase_yearmonth                                              2022-04   \n",
       "used_car_price_index                                                208.216   \n",
       "new_car_price_index                                                 168.885   \n",
       "gas_price_index                                                     4.22175   \n",
       "consumer_sentiment_index                                               59.4   \n",
       "make_model_trim_encoded                                        25119.826172   \n",
       "hvf_comp_1                                                         0.651525   \n",
       "hvf_comp_2                                                        -1.658763   \n",
       "hvf_comp_3                                                         0.176485   \n",
       "hvf_comp_4                                                         -0.35042   \n",
       "hvf_comp_5                                                         0.042921   \n",
       "hvf_comp_6                                                        -0.257737   \n",
       "hvf_comp_7                                                         0.101975   \n",
       "hvf_comp_8                                                        -0.009752   \n",
       "hvf_comp_9                                                        -0.003443   \n",
       "\n",
       "                                                                    2596605  \\\n",
       "mvr_price                                                           29799.0   \n",
       "make_model_trim                                     GMC / Sierra 1500 / SLE   \n",
       "miles                                                               55384.0   \n",
       "year                                                                   2015   \n",
       "age_months                                                               79   \n",
       "mvr_purchase_date                                       2021-02-09 00:00:00   \n",
       "vehicle_type                                                          Truck   \n",
       "body_type                                                            Pickup   \n",
       "drivetrain                                                              RWD   \n",
       "fuel_type                                                          Unleaded   \n",
       "engine_block                                                              V   \n",
       "engine_size                                                             5.3   \n",
       "transmission                                                      Automatic   \n",
       "doors                                                                   4.0   \n",
       "cylinders                                                               8.0   \n",
       "base_exterior_color                                                   Brown   \n",
       "base_interior_color                                                   Black   \n",
       "is_certified                                                            0.0   \n",
       "zip                                                                   78232   \n",
       "mvr_state                                                                TX   \n",
       "hvf_standard              [Keyless Entry/Locking, Parking Assistance, Pa...   \n",
       "hvf_optional                     [Coming Home Device, Gasoline, Fog Lights]   \n",
       "make                                                                    GMC   \n",
       "model                                                           Sierra 1500   \n",
       "trim                                                                    SLE   \n",
       "mvr_purchase_month                                                        2   \n",
       "monthly_mileage                                                       701.1   \n",
       "mpg                                                                    20.7   \n",
       "population_density                                                   2921.0   \n",
       "median_income                                                       64741.0   \n",
       "median_home_value                                                  188700.0   \n",
       "mvr_purchase_yearmonth                                              2021-02   \n",
       "used_car_price_index                                                149.659   \n",
       "new_car_price_index                                                 150.177   \n",
       "gas_price_index                                                     2.33425   \n",
       "consumer_sentiment_index                                               79.0   \n",
       "make_model_trim_encoded                                        24199.128906   \n",
       "hvf_comp_1                                                        -0.218038   \n",
       "hvf_comp_2                                                         0.068711   \n",
       "hvf_comp_3                                                        -0.039631   \n",
       "hvf_comp_4                                                         0.155326   \n",
       "hvf_comp_5                                                         0.084614   \n",
       "hvf_comp_6                                                        -0.049771   \n",
       "hvf_comp_7                                                         0.084156   \n",
       "hvf_comp_8                                                         0.122933   \n",
       "hvf_comp_9                                                         0.039314   \n",
       "\n",
       "                                                                    7475406  \n",
       "mvr_price                                                           13295.0  \n",
       "make_model_trim                                       BMW / 3 Series / 328i  \n",
       "miles                                                               60555.0  \n",
       "year                                                                   2014  \n",
       "age_months                                                               80  \n",
       "mvr_purchase_date                                       2020-03-09 00:00:00  \n",
       "vehicle_type                                                            Car  \n",
       "body_type                                                             Sedan  \n",
       "drivetrain                                                              4WD  \n",
       "fuel_type                                                  Premium Unleaded  \n",
       "engine_block                                                              I  \n",
       "engine_size                                                             2.0  \n",
       "transmission                                                      Automatic  \n",
       "doors                                                                   4.0  \n",
       "cylinders                                                               4.0  \n",
       "base_exterior_color                                                   Black  \n",
       "base_interior_color                                                   Black  \n",
       "is_certified                                                            0.0  \n",
       "zip                                                                   44146  \n",
       "mvr_state                                                                OH  \n",
       "hvf_standard              [Coming Home Device, Keyless Entry/Locking, Ke...  \n",
       "hvf_optional                                                           None  \n",
       "make                                                                    BMW  \n",
       "model                                                              3 Series  \n",
       "trim                                                                   328i  \n",
       "mvr_purchase_month                                                        3  \n",
       "monthly_mileage                                                       756.9  \n",
       "mpg                                                                   26.95  \n",
       "population_density                                                   1487.0  \n",
       "median_income                                                       41850.0  \n",
       "median_home_value                                                  110300.0  \n",
       "mvr_purchase_yearmonth                                              2020-03  \n",
       "used_car_price_index                                                137.452  \n",
       "new_car_price_index                                                 148.403  \n",
       "gas_price_index                                                       2.442  \n",
       "consumer_sentiment_index                                              101.0  \n",
       "make_model_trim_encoded                                        14407.051758  \n",
       "hvf_comp_1                                                        -0.349536  \n",
       "hvf_comp_2                                                         0.001716  \n",
       "hvf_comp_3                                                         0.046915  \n",
       "hvf_comp_4                                                        -0.040313  \n",
       "hvf_comp_5                                                        -0.041399  \n",
       "hvf_comp_6                                                        -0.019283  \n",
       "hvf_comp_7                                                        -0.028333  \n",
       "hvf_comp_8                                                        -0.002225  \n",
       "hvf_comp_9                                                        -0.040014  "
      ]
     },
     "execution_count": 85,
     "metadata": {},
     "output_type": "execute_result"
    }
   ],
   "source": [
    "print_shape(train)\n",
    "train.sample(5).T\n"
   ]
  },
  {
   "cell_type": "markdown",
   "metadata": {
    "id": "K-4hMpjx-xxX"
   },
   "source": [
    "## Model"
   ]
  },
  {
   "cell_type": "code",
   "execution_count": 86,
   "metadata": {},
   "outputs": [],
   "source": [
    "from sklearn.metrics import mean_absolute_error\n",
    "from sklearn.metrics import mean_squared_error\n",
    "from sklearn.metrics import r2_score\n",
    "\n",
    "def assess_results(y_test, y_pred):\n",
    "    print(\"R2: \", round(r2_score(y_test, y_pred),3))\n",
    "    print(\"MAE: \", round(mean_absolute_error(y_test, y_pred),2))\n",
    "    print(\"MAPE: \", round(np.mean(np.abs((y_test - y_pred) / y_test)) * 100,1),\"%\")\n",
    "    print(\"RMSE: \", round(np.sqrt(mean_squared_error(y_test, y_pred)),2))\n",
    "    print(\"Percent Underpayed: \", round(len((y_test - y_pred)[(y_test - y_pred) >= 0]) / len(y_test) * 100,1),\"%\")\n",
    "    print(\"Mean of Underpayment: \", round(np.mean((y_test - y_pred)[(y_test - y_pred) > 0]),2))\n",
    "    print(\"Percent Overpayed: \", round(len((y_test - y_pred)[(y_test - y_pred) < 0]) / len(y_test) * 100,1),\"%\")\n",
    "    print(\"Mean of Overpayment: \", round(np.mean((y_test - y_pred)[(y_test - y_pred) < 0]),2))\n",
    "    print(\"Mean Error: \", round(np.mean(y_test - y_pred),2)) \n",
    "    "
   ]
  },
  {
   "cell_type": "markdown",
   "metadata": {},
   "source": [
    "### Column Inventory"
   ]
  },
  {
   "cell_type": "code",
   "execution_count": 87,
   "metadata": {},
   "outputs": [
    {
     "data": {
      "text/plain": [
       "['age_months',\n",
       " 'consumer_sentiment_index',\n",
       " 'cylinders',\n",
       " 'doors',\n",
       " 'engine_size',\n",
       " 'gas_price_index',\n",
       " 'hvf_comp_1',\n",
       " 'hvf_comp_2',\n",
       " 'hvf_comp_3',\n",
       " 'hvf_comp_4',\n",
       " 'hvf_comp_5',\n",
       " 'hvf_comp_6',\n",
       " 'hvf_comp_7',\n",
       " 'hvf_comp_8',\n",
       " 'hvf_comp_9',\n",
       " 'is_certified',\n",
       " 'make_model_trim_encoded',\n",
       " 'median_home_value',\n",
       " 'median_income',\n",
       " 'miles',\n",
       " 'monthly_mileage',\n",
       " 'mpg',\n",
       " 'new_car_price_index',\n",
       " 'population_density',\n",
       " 'used_car_price_index']"
      ]
     },
     "execution_count": 87,
     "metadata": {},
     "output_type": "execute_result"
    }
   ],
   "source": [
    "# numeric columns\n",
    "num_cols = list(correlations.index)\n",
    "num_cols.sort()\n",
    "num_cols.remove(\"year\")\n",
    "num_cols.remove(\"mvr_price\")\n",
    "num_cols"
   ]
  },
  {
   "cell_type": "code",
   "execution_count": 88,
   "metadata": {},
   "outputs": [
    {
     "data": {
      "text/plain": [
       "['base_exterior_color',\n",
       " 'base_interior_color',\n",
       " 'body_type',\n",
       " 'drivetrain',\n",
       " 'engine_block',\n",
       " 'fuel_type',\n",
       " 'make',\n",
       " 'make_model_trim',\n",
       " 'model',\n",
       " 'mvr_purchase_month',\n",
       " 'mvr_state',\n",
       " 'transmission',\n",
       " 'trim',\n",
       " 'vehicle_type']"
      ]
     },
     "execution_count": 88,
     "metadata": {},
     "output_type": "execute_result"
    }
   ],
   "source": [
    "cat_cols = list(train.columns)\n",
    "\n",
    "# remove num cols\n",
    "for num_col in num_cols:\n",
    "    cat_cols.remove(num_col)\n",
    "\n",
    "# remove selected other cols\n",
    "other_cols = [\"hvf_optional\",\"hvf_standard\",\"mvr_purchase_date\",\"mvr_purchase_yearmonth\",\"zip\",\"year\"]\n",
    "for other_col in other_cols:\n",
    "    cat_cols.remove(other_col)\n",
    "\n",
    "# remove target and cleanup\n",
    "cat_cols.remove(\"mvr_price\")\n",
    "cat_cols.sort()\n",
    "cat_cols"
   ]
  },
  {
   "cell_type": "code",
   "execution_count": 89,
   "metadata": {},
   "outputs": [],
   "source": [
    "target = \"mvr_price\""
   ]
  },
  {
   "cell_type": "markdown",
   "metadata": {},
   "source": [
    "### Feature Prep"
   ]
  },
  {
   "cell_type": "code",
   "execution_count": 90,
   "metadata": {},
   "outputs": [],
   "source": [
    "train_backup = train.copy()\n",
    "validate_backup = validate.copy()\n",
    "test_backup = test.copy()"
   ]
  },
  {
   "cell_type": "code",
   "execution_count": 91,
   "metadata": {},
   "outputs": [],
   "source": [
    "# scale numeric columns\n",
    "#from sklearn.preprocessing import StandardScaler\n",
    "#scaler = StandardScaler()\n",
    "\n",
    "# fit\n",
    "#scaler.fit(train[num_cols])\n"
   ]
  },
  {
   "cell_type": "code",
   "execution_count": 92,
   "metadata": {},
   "outputs": [],
   "source": [
    "# transform\n",
    "#train[num_cols] = scaler.transform(train[num_cols])\n",
    "#validate[num_cols] = scaler.transform(validate[num_cols])\n",
    "#test[num_cols] = scaler.transform(test[num_cols])"
   ]
  },
  {
   "cell_type": "code",
   "execution_count": 93,
   "metadata": {},
   "outputs": [
    {
     "data": {
      "text/html": [
       "<div>\n",
       "<style scoped>\n",
       "    .dataframe tbody tr th:only-of-type {\n",
       "        vertical-align: middle;\n",
       "    }\n",
       "\n",
       "    .dataframe tbody tr th {\n",
       "        vertical-align: top;\n",
       "    }\n",
       "\n",
       "    .dataframe thead th {\n",
       "        text-align: right;\n",
       "    }\n",
       "</style>\n",
       "<table border=\"1\" class=\"dataframe\">\n",
       "  <thead>\n",
       "    <tr style=\"text-align: right;\">\n",
       "      <th></th>\n",
       "      <th>6897727</th>\n",
       "      <th>4400721</th>\n",
       "      <th>3532649</th>\n",
       "      <th>7709838</th>\n",
       "      <th>2570501</th>\n",
       "    </tr>\n",
       "  </thead>\n",
       "  <tbody>\n",
       "    <tr>\n",
       "      <th>age_months</th>\n",
       "      <td>49.000000</td>\n",
       "      <td>16.000000</td>\n",
       "      <td>65.000000</td>\n",
       "      <td>15.000000</td>\n",
       "      <td>77.000000</td>\n",
       "    </tr>\n",
       "    <tr>\n",
       "      <th>consumer_sentiment_index</th>\n",
       "      <td>81.200000</td>\n",
       "      <td>59.900000</td>\n",
       "      <td>76.900000</td>\n",
       "      <td>58.600000</td>\n",
       "      <td>56.800000</td>\n",
       "    </tr>\n",
       "    <tr>\n",
       "      <th>cylinders</th>\n",
       "      <td>8.000000</td>\n",
       "      <td>4.000000</td>\n",
       "      <td>8.000000</td>\n",
       "      <td>6.000000</td>\n",
       "      <td>4.000000</td>\n",
       "    </tr>\n",
       "    <tr>\n",
       "      <th>doors</th>\n",
       "      <td>4.000000</td>\n",
       "      <td>5.000000</td>\n",
       "      <td>5.000000</td>\n",
       "      <td>4.000000</td>\n",
       "      <td>4.000000</td>\n",
       "    </tr>\n",
       "    <tr>\n",
       "      <th>engine_size</th>\n",
       "      <td>6.700000</td>\n",
       "      <td>2.000000</td>\n",
       "      <td>5.700000</td>\n",
       "      <td>3.500000</td>\n",
       "      <td>1.500000</td>\n",
       "    </tr>\n",
       "    <tr>\n",
       "      <th>gas_price_index</th>\n",
       "      <td>3.136000</td>\n",
       "      <td>3.815200</td>\n",
       "      <td>2.108200</td>\n",
       "      <td>3.700250</td>\n",
       "      <td>3.685000</td>\n",
       "    </tr>\n",
       "    <tr>\n",
       "      <th>hvf_comp_1</th>\n",
       "      <td>-0.300058</td>\n",
       "      <td>-0.211599</td>\n",
       "      <td>0.313175</td>\n",
       "      <td>1.348424</td>\n",
       "      <td>-0.302905</td>\n",
       "    </tr>\n",
       "    <tr>\n",
       "      <th>hvf_comp_2</th>\n",
       "      <td>0.028215</td>\n",
       "      <td>0.030820</td>\n",
       "      <td>-0.006042</td>\n",
       "      <td>0.941952</td>\n",
       "      <td>0.014306</td>\n",
       "    </tr>\n",
       "    <tr>\n",
       "      <th>hvf_comp_3</th>\n",
       "      <td>-0.012657</td>\n",
       "      <td>-0.031849</td>\n",
       "      <td>-0.187550</td>\n",
       "      <td>-1.581622</td>\n",
       "      <td>0.057039</td>\n",
       "    </tr>\n",
       "    <tr>\n",
       "      <th>hvf_comp_4</th>\n",
       "      <td>0.071097</td>\n",
       "      <td>0.044864</td>\n",
       "      <td>0.992454</td>\n",
       "      <td>0.499385</td>\n",
       "      <td>0.005843</td>\n",
       "    </tr>\n",
       "    <tr>\n",
       "      <th>hvf_comp_5</th>\n",
       "      <td>0.083721</td>\n",
       "      <td>-0.085910</td>\n",
       "      <td>-1.258296</td>\n",
       "      <td>1.722374</td>\n",
       "      <td>-0.064066</td>\n",
       "    </tr>\n",
       "    <tr>\n",
       "      <th>hvf_comp_6</th>\n",
       "      <td>-0.017794</td>\n",
       "      <td>0.075371</td>\n",
       "      <td>0.521185</td>\n",
       "      <td>-1.081151</td>\n",
       "      <td>-0.006949</td>\n",
       "    </tr>\n",
       "    <tr>\n",
       "      <th>hvf_comp_7</th>\n",
       "      <td>0.134901</td>\n",
       "      <td>0.020203</td>\n",
       "      <td>-0.797514</td>\n",
       "      <td>-0.380051</td>\n",
       "      <td>-0.011901</td>\n",
       "    </tr>\n",
       "    <tr>\n",
       "      <th>hvf_comp_8</th>\n",
       "      <td>-0.013154</td>\n",
       "      <td>0.432780</td>\n",
       "      <td>-0.901937</td>\n",
       "      <td>-0.207051</td>\n",
       "      <td>-0.011164</td>\n",
       "    </tr>\n",
       "    <tr>\n",
       "      <th>hvf_comp_9</th>\n",
       "      <td>-0.013103</td>\n",
       "      <td>-0.080645</td>\n",
       "      <td>0.606765</td>\n",
       "      <td>0.453757</td>\n",
       "      <td>-0.054955</td>\n",
       "    </tr>\n",
       "    <tr>\n",
       "      <th>is_certified</th>\n",
       "      <td>0.000000</td>\n",
       "      <td>0.000000</td>\n",
       "      <td>0.000000</td>\n",
       "      <td>0.000000</td>\n",
       "      <td>0.000000</td>\n",
       "    </tr>\n",
       "    <tr>\n",
       "      <th>make_model_trim_encoded</th>\n",
       "      <td>36975.757812</td>\n",
       "      <td>36810.792969</td>\n",
       "      <td>34510.246094</td>\n",
       "      <td>27172.771484</td>\n",
       "      <td>16983.046875</td>\n",
       "    </tr>\n",
       "    <tr>\n",
       "      <th>median_home_value</th>\n",
       "      <td>131100.000000</td>\n",
       "      <td>122000.000000</td>\n",
       "      <td>770800.000000</td>\n",
       "      <td>147500.000000</td>\n",
       "      <td>178500.000000</td>\n",
       "    </tr>\n",
       "    <tr>\n",
       "      <th>median_income</th>\n",
       "      <td>50997.000000</td>\n",
       "      <td>37200.000000</td>\n",
       "      <td>9954.000000</td>\n",
       "      <td>82936.000000</td>\n",
       "      <td>42939.000000</td>\n",
       "    </tr>\n",
       "    <tr>\n",
       "      <th>miles</th>\n",
       "      <td>81749.000000</td>\n",
       "      <td>2760.000000</td>\n",
       "      <td>64256.000000</td>\n",
       "      <td>1000.000000</td>\n",
       "      <td>23302.000000</td>\n",
       "    </tr>\n",
       "    <tr>\n",
       "      <th>monthly_mileage</th>\n",
       "      <td>1668.300000</td>\n",
       "      <td>172.500000</td>\n",
       "      <td>988.600000</td>\n",
       "      <td>66.700000</td>\n",
       "      <td>302.600000</td>\n",
       "    </tr>\n",
       "    <tr>\n",
       "      <th>mpg</th>\n",
       "      <td>16.700000</td>\n",
       "      <td>24.700000</td>\n",
       "      <td>17.600000</td>\n",
       "      <td>24.000000</td>\n",
       "      <td>31.050000</td>\n",
       "    </tr>\n",
       "    <tr>\n",
       "      <th>new_car_price_index</th>\n",
       "      <td>156.079000</td>\n",
       "      <td>175.981000</td>\n",
       "      <td>148.445000</td>\n",
       "      <td>174.994000</td>\n",
       "      <td>176.805000</td>\n",
       "    </tr>\n",
       "    <tr>\n",
       "      <th>population_density</th>\n",
       "      <td>101.000000</td>\n",
       "      <td>1753.000000</td>\n",
       "      <td>2562.000000</td>\n",
       "      <td>2903.000000</td>\n",
       "      <td>4083.000000</td>\n",
       "    </tr>\n",
       "    <tr>\n",
       "      <th>used_car_price_index</th>\n",
       "      <td>200.425000</td>\n",
       "      <td>199.176000</td>\n",
       "      <td>152.324000</td>\n",
       "      <td>203.867000</td>\n",
       "      <td>193.530000</td>\n",
       "    </tr>\n",
       "  </tbody>\n",
       "</table>\n",
       "</div>"
      ],
      "text/plain": [
       "                                6897727        4400721        3532649  \\\n",
       "age_months                    49.000000      16.000000      65.000000   \n",
       "consumer_sentiment_index      81.200000      59.900000      76.900000   \n",
       "cylinders                      8.000000       4.000000       8.000000   \n",
       "doors                          4.000000       5.000000       5.000000   \n",
       "engine_size                    6.700000       2.000000       5.700000   \n",
       "gas_price_index                3.136000       3.815200       2.108200   \n",
       "hvf_comp_1                    -0.300058      -0.211599       0.313175   \n",
       "hvf_comp_2                     0.028215       0.030820      -0.006042   \n",
       "hvf_comp_3                    -0.012657      -0.031849      -0.187550   \n",
       "hvf_comp_4                     0.071097       0.044864       0.992454   \n",
       "hvf_comp_5                     0.083721      -0.085910      -1.258296   \n",
       "hvf_comp_6                    -0.017794       0.075371       0.521185   \n",
       "hvf_comp_7                     0.134901       0.020203      -0.797514   \n",
       "hvf_comp_8                    -0.013154       0.432780      -0.901937   \n",
       "hvf_comp_9                    -0.013103      -0.080645       0.606765   \n",
       "is_certified                   0.000000       0.000000       0.000000   \n",
       "make_model_trim_encoded    36975.757812   36810.792969   34510.246094   \n",
       "median_home_value         131100.000000  122000.000000  770800.000000   \n",
       "median_income              50997.000000   37200.000000    9954.000000   \n",
       "miles                      81749.000000    2760.000000   64256.000000   \n",
       "monthly_mileage             1668.300000     172.500000     988.600000   \n",
       "mpg                           16.700000      24.700000      17.600000   \n",
       "new_car_price_index          156.079000     175.981000     148.445000   \n",
       "population_density           101.000000    1753.000000    2562.000000   \n",
       "used_car_price_index         200.425000     199.176000     152.324000   \n",
       "\n",
       "                                7709838        2570501  \n",
       "age_months                    15.000000      77.000000  \n",
       "consumer_sentiment_index      58.600000      56.800000  \n",
       "cylinders                      6.000000       4.000000  \n",
       "doors                          4.000000       4.000000  \n",
       "engine_size                    3.500000       1.500000  \n",
       "gas_price_index                3.700250       3.685000  \n",
       "hvf_comp_1                     1.348424      -0.302905  \n",
       "hvf_comp_2                     0.941952       0.014306  \n",
       "hvf_comp_3                    -1.581622       0.057039  \n",
       "hvf_comp_4                     0.499385       0.005843  \n",
       "hvf_comp_5                     1.722374      -0.064066  \n",
       "hvf_comp_6                    -1.081151      -0.006949  \n",
       "hvf_comp_7                    -0.380051      -0.011901  \n",
       "hvf_comp_8                    -0.207051      -0.011164  \n",
       "hvf_comp_9                     0.453757      -0.054955  \n",
       "is_certified                   0.000000       0.000000  \n",
       "make_model_trim_encoded    27172.771484   16983.046875  \n",
       "median_home_value         147500.000000  178500.000000  \n",
       "median_income              82936.000000   42939.000000  \n",
       "miles                       1000.000000   23302.000000  \n",
       "monthly_mileage               66.700000     302.600000  \n",
       "mpg                           24.000000      31.050000  \n",
       "new_car_price_index          174.994000     176.805000  \n",
       "population_density          2903.000000    4083.000000  \n",
       "used_car_price_index         203.867000     193.530000  "
      ]
     },
     "execution_count": 93,
     "metadata": {},
     "output_type": "execute_result"
    }
   ],
   "source": [
    "train[num_cols].sample(5).T"
   ]
  },
  {
   "cell_type": "markdown",
   "metadata": {},
   "source": [
    "### Linear"
   ]
  },
  {
   "cell_type": "code",
   "execution_count": 94,
   "metadata": {},
   "outputs": [],
   "source": [
    "from sklearn.linear_model import LinearRegression"
   ]
  },
  {
   "cell_type": "code",
   "execution_count": 95,
   "metadata": {},
   "outputs": [],
   "source": [
    "# box-cox transform mvr_price\n",
    "#from scipy import stats\n",
    "#train[\"mvr_price_bc\"], bc_lambda = stats.boxcox(train[\"mvr_price\"])\n",
    "#train[\"mvr_price_bc\"].hist(bins=100)"
   ]
  },
  {
   "cell_type": "code",
   "execution_count": 96,
   "metadata": {},
   "outputs": [
    {
     "name": "stdout",
     "output_type": "stream",
     "text": [
      "R2:  0.493\n",
      "MAE:  7138.78\n",
      "MAPE:  77.6 %\n",
      "RMSE:  10419.73\n",
      "Percent Underpayed:  38.0 %\n",
      "Mean of Underpayment:  9284.3\n",
      "Percent Overpayed:  62.0 %\n",
      "Mean of Overpayment:  -5823.35\n",
      "Mean Error:  -81.23\n"
     ]
    }
   ],
   "source": [
    "# fit\n",
    "lr_model = LinearRegression()\n",
    "lr_model.fit(train[num_cols], train[target])\n",
    "\n",
    "# predict\n",
    "lr_preds = lr_model.predict(validate[num_cols])\n",
    "\n",
    "# results\n",
    "assess_results(validate[target], lr_preds)"
   ]
  },
  {
   "cell_type": "code",
   "execution_count": 97,
   "metadata": {},
   "outputs": [
    {
     "name": "stdout",
     "output_type": "stream",
     "text": [
      "                feature_name  coefficient\n",
      "0                 age_months   -95.272983\n",
      "1   consumer_sentiment_index    13.145175\n",
      "2                  cylinders   269.810314\n",
      "3                      doors     6.416325\n",
      "4                engine_size  1335.215312\n",
      "5            gas_price_index   520.121337\n",
      "6                 hvf_comp_1  1043.532767\n",
      "7                 hvf_comp_2  -320.007739\n",
      "8                 hvf_comp_3  -298.355132\n",
      "9                 hvf_comp_4  1009.831530\n",
      "10                hvf_comp_5  -206.620338\n",
      "11                hvf_comp_6   278.424515\n",
      "12                hvf_comp_7   319.706998\n",
      "13                hvf_comp_8   274.665515\n",
      "14                hvf_comp_9   991.381871\n",
      "15              is_certified  1001.382782\n",
      "16   make_model_trim_encoded     0.639868\n",
      "17         median_home_value     0.002984\n",
      "18             median_income    -0.003198\n",
      "19                     miles    -0.059470\n",
      "20           monthly_mileage     0.438045\n",
      "21                       mpg  -118.101851\n",
      "22       new_car_price_index    11.121915\n",
      "23        population_density    -0.090993\n",
      "24      used_car_price_index    84.869310\n"
     ]
    }
   ],
   "source": [
    "# coefficients\n",
    "coef_df = pd.DataFrame({'feature_name': train[num_cols].columns, 'coefficient': lr_model.coef_})\n",
    "print(coef_df)"
   ]
  },
  {
   "cell_type": "markdown",
   "metadata": {},
   "source": [
    "### CatBoost"
   ]
  },
  {
   "cell_type": "code",
   "execution_count": 98,
   "metadata": {},
   "outputs": [],
   "source": [
    "from catboost import CatBoostRegressor"
   ]
  },
  {
   "cell_type": "code",
   "execution_count": 99,
   "metadata": {},
   "outputs": [
    {
     "data": {
      "text/plain": [
       "['age_months',\n",
       " 'consumer_sentiment_index',\n",
       " 'cylinders',\n",
       " 'doors',\n",
       " 'engine_size',\n",
       " 'gas_price_index',\n",
       " 'hvf_comp_1',\n",
       " 'hvf_comp_2',\n",
       " 'hvf_comp_3',\n",
       " 'hvf_comp_4',\n",
       " 'hvf_comp_5',\n",
       " 'hvf_comp_6',\n",
       " 'hvf_comp_7',\n",
       " 'hvf_comp_8',\n",
       " 'hvf_comp_9',\n",
       " 'is_certified',\n",
       " 'make_model_trim_encoded',\n",
       " 'median_home_value',\n",
       " 'median_income',\n",
       " 'miles',\n",
       " 'monthly_mileage',\n",
       " 'mpg',\n",
       " 'new_car_price_index',\n",
       " 'population_density',\n",
       " 'used_car_price_index']"
      ]
     },
     "execution_count": 99,
     "metadata": {},
     "output_type": "execute_result"
    }
   ],
   "source": [
    "# select numerical columns\n",
    "selected_num_cols = num_cols\n",
    "remove_cols = []\n",
    "for remove_col in remove_cols:\n",
    "    selected_num_cols.remove(remove_col)\n",
    "selected_num_cols"
   ]
  },
  {
   "cell_type": "code",
   "execution_count": 100,
   "metadata": {},
   "outputs": [
    {
     "data": {
      "text/plain": [
       "['base_exterior_color',\n",
       " 'base_interior_color',\n",
       " 'body_type',\n",
       " 'drivetrain',\n",
       " 'engine_block',\n",
       " 'fuel_type',\n",
       " 'mvr_purchase_month',\n",
       " 'mvr_state',\n",
       " 'transmission',\n",
       " 'vehicle_type']"
      ]
     },
     "execution_count": 100,
     "metadata": {},
     "output_type": "execute_result"
    }
   ],
   "source": [
    "# select categorical columns\n",
    "selected_cat_cols = cat_cols\n",
    "remove_cols = [\"make_model_trim\",\"make\",\"model\",\"trim\"]\n",
    "for remove_col in remove_cols:\n",
    "    selected_cat_cols.remove(remove_col)\n",
    "selected_cat_cols"
   ]
  },
  {
   "cell_type": "code",
   "execution_count": 101,
   "metadata": {},
   "outputs": [
    {
     "name": "stdout",
     "output_type": "stream",
     "text": [
      "Learning rate set to 0.198125\n",
      "0:\tlearn: 12608.2239827\ttest: 14037.7794116\tbest: 14037.7794116 (0)\ttotal: 4.57s\tremaining: 1h 16m 6s\n",
      "1:\tlearn: 11046.7952275\ttest: 13530.4600712\tbest: 13530.4600712 (1)\ttotal: 8.97s\tremaining: 1h 14m 36s\n",
      "2:\tlearn: 9839.2011238\ttest: 13219.0448336\tbest: 13219.0448336 (2)\ttotal: 12.8s\tremaining: 1h 10m 55s\n",
      "3:\tlearn: 8865.6053505\ttest: 12549.1906415\tbest: 12549.1906415 (3)\ttotal: 16.8s\tremaining: 1h 9m 41s\n",
      "4:\tlearn: 8120.0940861\ttest: 12157.4533653\tbest: 12157.4533653 (4)\ttotal: 20.7s\tremaining: 1h 8m 40s\n",
      "5:\tlearn: 7558.9959500\ttest: 11753.4090080\tbest: 11753.4090080 (5)\ttotal: 25.5s\tremaining: 1h 10m 18s\n",
      "6:\tlearn: 7116.9220847\ttest: 11626.9244678\tbest: 11626.9244678 (6)\ttotal: 29.5s\tremaining: 1h 9m 38s\n",
      "7:\tlearn: 6761.3886776\ttest: 11407.2040126\tbest: 11407.2040126 (7)\ttotal: 33.5s\tremaining: 1h 9m 18s\n",
      "8:\tlearn: 6507.3801663\ttest: 11160.3255816\tbest: 11160.3255816 (8)\ttotal: 38.2s\tremaining: 1h 10m 1s\n",
      "9:\tlearn: 6264.7272931\ttest: 11019.1538176\tbest: 11019.1538176 (9)\ttotal: 42.5s\tremaining: 1h 10m 11s\n",
      "10:\tlearn: 6079.7266663\ttest: 10811.7192969\tbest: 10811.7192969 (10)\ttotal: 46.5s\tremaining: 1h 9m 42s\n",
      "11:\tlearn: 5915.4115703\ttest: 10683.0302114\tbest: 10683.0302114 (11)\ttotal: 50.3s\tremaining: 1h 9m\n",
      "12:\tlearn: 5801.1844535\ttest: 10550.4104810\tbest: 10550.4104810 (12)\ttotal: 54s\tremaining: 1h 8m 19s\n",
      "13:\tlearn: 5698.1225719\ttest: 10432.2325851\tbest: 10432.2325851 (13)\ttotal: 57.9s\tremaining: 1h 7m 58s\n",
      "14:\tlearn: 5615.0695705\ttest: 10301.2330550\tbest: 10301.2330550 (14)\ttotal: 1m 1s\tremaining: 1h 7m 28s\n",
      "15:\tlearn: 5549.3376541\ttest: 10163.4127965\tbest: 10163.4127965 (15)\ttotal: 1m 5s\tremaining: 1h 7m 1s\n",
      "16:\tlearn: 5501.0853646\ttest: 10080.9747504\tbest: 10080.9747504 (16)\ttotal: 1m 8s\tremaining: 1h 6m 25s\n",
      "17:\tlearn: 5431.2598723\ttest: 10047.8722123\tbest: 10047.8722123 (17)\ttotal: 1m 12s\tremaining: 1h 6m 16s\n",
      "18:\tlearn: 5394.4492607\ttest: 10014.2655030\tbest: 10014.2655030 (18)\ttotal: 1m 16s\tremaining: 1h 5m 48s\n",
      "19:\tlearn: 5364.3582950\ttest: 9984.1160392\tbest: 9984.1160392 (19)\ttotal: 1m 20s\tremaining: 1h 5m 46s\n",
      "20:\tlearn: 5335.7092384\ttest: 9907.0022119\tbest: 9907.0022119 (20)\ttotal: 1m 24s\tremaining: 1h 6m 1s\n",
      "21:\tlearn: 5296.4800502\ttest: 9886.1107881\tbest: 9886.1107881 (21)\ttotal: 1m 28s\tremaining: 1h 5m 48s\n",
      "22:\tlearn: 5271.4555663\ttest: 9855.8051984\tbest: 9855.8051984 (22)\ttotal: 1m 32s\tremaining: 1h 5m 43s\n",
      "23:\tlearn: 5244.3367214\ttest: 9789.7772484\tbest: 9789.7772484 (23)\ttotal: 1m 37s\tremaining: 1h 6m 4s\n",
      "24:\tlearn: 5224.6029096\ttest: 9721.9741040\tbest: 9721.9741040 (24)\ttotal: 1m 41s\tremaining: 1h 5m 43s\n",
      "25:\tlearn: 5192.4273428\ttest: 9701.1144875\tbest: 9701.1144875 (25)\ttotal: 1m 45s\tremaining: 1h 5m 42s\n",
      "26:\tlearn: 5163.8662035\ttest: 9685.4751732\tbest: 9685.4751732 (26)\ttotal: 1m 49s\tremaining: 1h 5m 30s\n",
      "27:\tlearn: 5140.6568428\ttest: 9673.1775077\tbest: 9673.1775077 (27)\ttotal: 1m 52s\tremaining: 1h 5m 15s\n",
      "28:\tlearn: 5125.7048219\ttest: 9648.0895928\tbest: 9648.0895928 (28)\ttotal: 1m 56s\tremaining: 1h 5m 3s\n",
      "29:\tlearn: 5106.2937128\ttest: 9628.2398368\tbest: 9628.2398368 (29)\ttotal: 2m\tremaining: 1h 5m 10s\n",
      "30:\tlearn: 5084.2856221\ttest: 9639.8138271\tbest: 9628.2398368 (29)\ttotal: 2m 5s\tremaining: 1h 5m 34s\n",
      "31:\tlearn: 5069.8599539\ttest: 9624.2561388\tbest: 9624.2561388 (31)\ttotal: 2m 10s\tremaining: 1h 5m 39s\n",
      "32:\tlearn: 5052.4182039\ttest: 9601.1499851\tbest: 9601.1499851 (32)\ttotal: 2m 13s\tremaining: 1h 5m 20s\n",
      "33:\tlearn: 5029.5040664\ttest: 9568.6240689\tbest: 9568.6240689 (33)\ttotal: 2m 17s\tremaining: 1h 5m 5s\n",
      "34:\tlearn: 5014.1409190\ttest: 9546.1432656\tbest: 9546.1432656 (34)\ttotal: 2m 21s\tremaining: 1h 4m 53s\n",
      "35:\tlearn: 5003.7648792\ttest: 9515.7718262\tbest: 9515.7718262 (35)\ttotal: 2m 24s\tremaining: 1h 4m 38s\n",
      "36:\tlearn: 4983.7192940\ttest: 9495.3934593\tbest: 9495.3934593 (36)\ttotal: 2m 28s\tremaining: 1h 4m 31s\n",
      "37:\tlearn: 4966.4362619\ttest: 9459.7117047\tbest: 9459.7117047 (37)\ttotal: 2m 32s\tremaining: 1h 4m 27s\n",
      "38:\tlearn: 4955.3393098\ttest: 9431.8815333\tbest: 9431.8815333 (38)\ttotal: 2m 36s\tremaining: 1h 4m 20s\n",
      "39:\tlearn: 4945.3536529\ttest: 9428.2109917\tbest: 9428.2109917 (39)\ttotal: 2m 40s\tremaining: 1h 4m 6s\n",
      "40:\tlearn: 4932.9670191\ttest: 9412.8369532\tbest: 9412.8369532 (40)\ttotal: 2m 44s\tremaining: 1h 4m\n",
      "41:\tlearn: 4916.7798607\ttest: 9403.4248899\tbest: 9403.4248899 (41)\ttotal: 2m 47s\tremaining: 1h 3m 47s\n",
      "42:\tlearn: 4899.3514441\ttest: 9387.2683904\tbest: 9387.2683904 (42)\ttotal: 2m 51s\tremaining: 1h 3m 42s\n",
      "43:\tlearn: 4890.1145430\ttest: 9376.1147580\tbest: 9376.1147580 (43)\ttotal: 2m 55s\tremaining: 1h 3m 38s\n",
      "44:\tlearn: 4879.6089161\ttest: 9358.8740654\tbest: 9358.8740654 (44)\ttotal: 3m\tremaining: 1h 3m 42s\n",
      "45:\tlearn: 4865.0190934\ttest: 9344.4064475\tbest: 9344.4064475 (45)\ttotal: 3m 3s\tremaining: 1h 3m 21s\n",
      "46:\tlearn: 4855.0178849\ttest: 9336.4833673\tbest: 9336.4833673 (46)\ttotal: 3m 7s\tremaining: 1h 3m 15s\n",
      "47:\tlearn: 4842.5063304\ttest: 9318.0072380\tbest: 9318.0072380 (47)\ttotal: 3m 10s\tremaining: 1h 3m 7s\n",
      "48:\tlearn: 4832.9586028\ttest: 9289.7257623\tbest: 9289.7257623 (48)\ttotal: 3m 15s\tremaining: 1h 3m 13s\n",
      "49:\tlearn: 4825.6531281\ttest: 9276.1427915\tbest: 9276.1427915 (49)\ttotal: 3m 19s\tremaining: 1h 3m 7s\n",
      "50:\tlearn: 4818.3714636\ttest: 9268.9200996\tbest: 9268.9200996 (50)\ttotal: 3m 23s\tremaining: 1h 3m 2s\n",
      "51:\tlearn: 4810.1514885\ttest: 9265.6974123\tbest: 9265.6974123 (51)\ttotal: 3m 27s\tremaining: 1h 2m 55s\n",
      "52:\tlearn: 4791.1926104\ttest: 9256.2930692\tbest: 9256.2930692 (52)\ttotal: 3m 31s\tremaining: 1h 2m 51s\n",
      "53:\tlearn: 4777.2235158\ttest: 9246.6856689\tbest: 9246.6856689 (53)\ttotal: 3m 35s\tremaining: 1h 2m 51s\n",
      "54:\tlearn: 4770.2466278\ttest: 9235.0108002\tbest: 9235.0108002 (54)\ttotal: 3m 39s\tremaining: 1h 2m 47s\n",
      "55:\tlearn: 4763.4852056\ttest: 9232.1817550\tbest: 9232.1817550 (55)\ttotal: 3m 43s\tremaining: 1h 2m 45s\n",
      "56:\tlearn: 4757.8563289\ttest: 9219.2865789\tbest: 9219.2865789 (56)\ttotal: 3m 47s\tremaining: 1h 2m 37s\n",
      "57:\tlearn: 4749.8915139\ttest: 9204.4603478\tbest: 9204.4603478 (57)\ttotal: 3m 50s\tremaining: 1h 2m 30s\n",
      "58:\tlearn: 4741.0987106\ttest: 9195.8233699\tbest: 9195.8233699 (58)\ttotal: 3m 54s\tremaining: 1h 2m 22s\n",
      "59:\tlearn: 4733.7557340\ttest: 9187.7064784\tbest: 9187.7064784 (59)\ttotal: 3m 58s\tremaining: 1h 2m 14s\n",
      "60:\tlearn: 4727.2974105\ttest: 9181.3906759\tbest: 9181.3906759 (60)\ttotal: 4m 2s\tremaining: 1h 2m 12s\n",
      "61:\tlearn: 4720.5029269\ttest: 9177.4316876\tbest: 9177.4316876 (61)\ttotal: 4m 6s\tremaining: 1h 2m 4s\n",
      "62:\tlearn: 4712.0950167\ttest: 9175.6962462\tbest: 9175.6962462 (62)\ttotal: 4m 9s\tremaining: 1h 1m 57s\n",
      "63:\tlearn: 4699.3359526\ttest: 9186.5124171\tbest: 9175.6962462 (62)\ttotal: 4m 14s\tremaining: 1h 1m 56s\n",
      "64:\tlearn: 4694.4114249\ttest: 9188.8947918\tbest: 9175.6962462 (62)\ttotal: 4m 18s\tremaining: 1h 1m 51s\n",
      "65:\tlearn: 4688.5358780\ttest: 9188.2695023\tbest: 9175.6962462 (62)\ttotal: 4m 22s\tremaining: 1h 1m 50s\n",
      "66:\tlearn: 4682.7283026\ttest: 9168.7627686\tbest: 9168.7627686 (66)\ttotal: 4m 25s\tremaining: 1h 1m 42s\n",
      "67:\tlearn: 4676.9767793\ttest: 9166.2049031\tbest: 9166.2049031 (67)\ttotal: 4m 29s\tremaining: 1h 1m 34s\n",
      "68:\tlearn: 4671.5789895\ttest: 9155.9422454\tbest: 9155.9422454 (68)\ttotal: 4m 33s\tremaining: 1h 1m 34s\n",
      "69:\tlearn: 4661.6482964\ttest: 9074.6177724\tbest: 9074.6177724 (69)\ttotal: 4m 37s\tremaining: 1h 1m 33s\n",
      "70:\tlearn: 4654.6739508\ttest: 9072.1407962\tbest: 9072.1407962 (70)\ttotal: 4m 42s\tremaining: 1h 1m 30s\n",
      "71:\tlearn: 4646.6326144\ttest: 9054.4951343\tbest: 9054.4951343 (71)\ttotal: 4m 45s\tremaining: 1h 1m 24s\n",
      "72:\tlearn: 4640.7299234\ttest: 9049.4149655\tbest: 9049.4149655 (72)\ttotal: 4m 49s\tremaining: 1h 1m 19s\n",
      "73:\tlearn: 4636.6198355\ttest: 9044.5189831\tbest: 9044.5189831 (73)\ttotal: 4m 53s\tremaining: 1h 1m 14s\n",
      "74:\tlearn: 4631.4318885\ttest: 9038.7457605\tbest: 9038.7457605 (74)\ttotal: 4m 57s\tremaining: 1h 1m 7s\n",
      "75:\tlearn: 4626.5319634\ttest: 9036.2119549\tbest: 9036.2119549 (75)\ttotal: 5m 1s\tremaining: 1h 1m 1s\n",
      "76:\tlearn: 4618.5009727\ttest: 9039.3677619\tbest: 9036.2119549 (75)\ttotal: 5m 5s\tremaining: 1h 56s\n",
      "77:\tlearn: 4611.5810106\ttest: 9032.7704455\tbest: 9032.7704455 (77)\ttotal: 5m 8s\tremaining: 1h 50s\n",
      "78:\tlearn: 4605.9000294\ttest: 9027.2434060\tbest: 9027.2434060 (78)\ttotal: 5m 12s\tremaining: 1h 42s\n",
      "79:\tlearn: 4600.2470422\ttest: 9012.1501896\tbest: 9012.1501896 (79)\ttotal: 5m 16s\tremaining: 1h 39s\n",
      "80:\tlearn: 4596.9606553\ttest: 9008.9251254\tbest: 9008.9251254 (80)\ttotal: 5m 20s\tremaining: 1h 38s\n"
     ]
    },
    {
     "name": "stdout",
     "output_type": "stream",
     "text": [
      "81:\tlearn: 4593.7032809\ttest: 9010.2628905\tbest: 9008.9251254 (80)\ttotal: 5m 24s\tremaining: 1h 34s\n",
      "82:\tlearn: 4591.0544799\ttest: 9009.6028110\tbest: 9008.9251254 (80)\ttotal: 5m 28s\tremaining: 1h 28s\n",
      "83:\tlearn: 4583.9402665\ttest: 9002.6383520\tbest: 9002.6383520 (83)\ttotal: 5m 32s\tremaining: 1h 25s\n",
      "84:\tlearn: 4579.3207450\ttest: 9000.5770169\tbest: 9000.5770169 (84)\ttotal: 5m 35s\tremaining: 1h 13s\n",
      "85:\tlearn: 4572.7932890\ttest: 8997.1556993\tbest: 8997.1556993 (85)\ttotal: 5m 39s\tremaining: 1h 10s\n",
      "86:\tlearn: 4570.2341311\ttest: 8986.7190592\tbest: 8986.7190592 (86)\ttotal: 5m 43s\tremaining: 1h 7s\n",
      "87:\tlearn: 4565.3193123\ttest: 8990.6631874\tbest: 8986.7190592 (86)\ttotal: 5m 47s\tremaining: 1h 2s\n",
      "88:\tlearn: 4562.6191803\ttest: 8990.5412832\tbest: 8986.7190592 (86)\ttotal: 5m 51s\tremaining: 59m 56s\n",
      "89:\tlearn: 4559.3446877\ttest: 8986.4489385\tbest: 8986.4489385 (89)\ttotal: 5m 55s\tremaining: 59m 56s\n",
      "90:\tlearn: 4555.7129030\ttest: 8984.4573041\tbest: 8984.4573041 (90)\ttotal: 5m 59s\tremaining: 59m 48s\n",
      "91:\tlearn: 4546.2984995\ttest: 8979.8597278\tbest: 8979.8597278 (91)\ttotal: 6m 3s\tremaining: 59m 44s\n",
      "92:\tlearn: 4543.0576638\ttest: 8978.4170596\tbest: 8978.4170596 (92)\ttotal: 6m 7s\tremaining: 59m 40s\n",
      "93:\tlearn: 4540.2802451\ttest: 8977.3438697\tbest: 8977.3438697 (93)\ttotal: 6m 10s\tremaining: 59m 33s\n",
      "94:\tlearn: 4535.9065550\ttest: 8973.8249988\tbest: 8973.8249988 (94)\ttotal: 6m 14s\tremaining: 59m 26s\n",
      "95:\tlearn: 4531.5722765\ttest: 8976.8306023\tbest: 8973.8249988 (94)\ttotal: 6m 18s\tremaining: 59m 20s\n",
      "96:\tlearn: 4526.1818724\ttest: 8972.3787549\tbest: 8972.3787549 (96)\ttotal: 6m 21s\tremaining: 59m 14s\n",
      "97:\tlearn: 4522.3133343\ttest: 8971.9698738\tbest: 8971.9698738 (97)\ttotal: 6m 25s\tremaining: 59m 10s\n",
      "98:\tlearn: 4517.6223843\ttest: 8973.3245941\tbest: 8971.9698738 (97)\ttotal: 6m 29s\tremaining: 59m 9s\n",
      "99:\tlearn: 4512.5795593\ttest: 8970.5832727\tbest: 8970.5832727 (99)\ttotal: 6m 33s\tremaining: 59m 5s\n",
      "100:\tlearn: 4510.1739065\ttest: 8964.8452698\tbest: 8964.8452698 (100)\ttotal: 6m 37s\tremaining: 59m\n",
      "101:\tlearn: 4505.8508335\ttest: 8960.9919467\tbest: 8960.9919467 (101)\ttotal: 6m 41s\tremaining: 58m 54s\n",
      "102:\tlearn: 4503.7005545\ttest: 8958.2612100\tbest: 8958.2612100 (102)\ttotal: 6m 45s\tremaining: 58m 48s\n",
      "103:\tlearn: 4498.0155815\ttest: 8956.0393473\tbest: 8956.0393473 (103)\ttotal: 6m 48s\tremaining: 58m 43s\n",
      "104:\tlearn: 4495.2892077\ttest: 8957.6629576\tbest: 8956.0393473 (103)\ttotal: 6m 52s\tremaining: 58m 40s\n",
      "105:\tlearn: 4491.5206886\ttest: 8954.2033510\tbest: 8954.2033510 (105)\ttotal: 6m 56s\tremaining: 58m 32s\n",
      "106:\tlearn: 4488.4372053\ttest: 8955.0068065\tbest: 8954.2033510 (105)\ttotal: 7m\tremaining: 58m 28s\n",
      "107:\tlearn: 4485.7609561\ttest: 8947.6672391\tbest: 8947.6672391 (107)\ttotal: 7m 4s\tremaining: 58m 22s\n",
      "108:\tlearn: 4483.6232525\ttest: 8942.1887557\tbest: 8942.1887557 (108)\ttotal: 7m 8s\tremaining: 58m 20s\n",
      "109:\tlearn: 4480.9222916\ttest: 8936.6204674\tbest: 8936.6204674 (109)\ttotal: 7m 11s\tremaining: 58m 14s\n",
      "110:\tlearn: 4477.9026784\ttest: 8942.1793788\tbest: 8936.6204674 (109)\ttotal: 7m 15s\tremaining: 58m 8s\n",
      "111:\tlearn: 4474.8996875\ttest: 8944.1445783\tbest: 8936.6204674 (109)\ttotal: 7m 19s\tremaining: 58m 2s\n",
      "112:\tlearn: 4473.3416690\ttest: 8941.6661077\tbest: 8936.6204674 (109)\ttotal: 7m 23s\tremaining: 58m\n",
      "113:\tlearn: 4466.9901237\ttest: 8941.1518614\tbest: 8936.6204674 (109)\ttotal: 7m 27s\tremaining: 57m 55s\n",
      "114:\tlearn: 4461.6610270\ttest: 8943.7695003\tbest: 8936.6204674 (109)\ttotal: 7m 30s\tremaining: 57m 50s\n",
      "115:\tlearn: 4458.5261113\ttest: 8943.5341224\tbest: 8936.6204674 (109)\ttotal: 7m 34s\tremaining: 57m 45s\n",
      "116:\tlearn: 4455.9336830\ttest: 8941.3105914\tbest: 8936.6204674 (109)\ttotal: 7m 38s\tremaining: 57m 40s\n",
      "117:\tlearn: 4451.8557291\ttest: 8910.5897095\tbest: 8910.5897095 (117)\ttotal: 7m 42s\tremaining: 57m 38s\n",
      "118:\tlearn: 4449.1506220\ttest: 8912.2669269\tbest: 8910.5897095 (117)\ttotal: 7m 46s\tremaining: 57m 34s\n",
      "119:\tlearn: 4446.6997679\ttest: 8905.3740148\tbest: 8905.3740148 (119)\ttotal: 7m 50s\tremaining: 57m 30s\n",
      "120:\tlearn: 4442.1892726\ttest: 8904.3711528\tbest: 8904.3711528 (120)\ttotal: 7m 54s\tremaining: 57m 26s\n",
      "121:\tlearn: 4437.0241264\ttest: 8911.4654536\tbest: 8904.3711528 (120)\ttotal: 7m 58s\tremaining: 57m 21s\n",
      "122:\tlearn: 4431.6561599\ttest: 8908.6757044\tbest: 8904.3711528 (120)\ttotal: 8m 1s\tremaining: 57m 14s\n",
      "123:\tlearn: 4428.8766550\ttest: 8911.7370722\tbest: 8904.3711528 (120)\ttotal: 8m 5s\tremaining: 57m 10s\n",
      "124:\tlearn: 4427.1401887\ttest: 8913.4849540\tbest: 8904.3711528 (120)\ttotal: 8m 9s\tremaining: 57m 7s\n",
      "125:\tlearn: 4421.8255733\ttest: 8912.0957938\tbest: 8904.3711528 (120)\ttotal: 8m 13s\tremaining: 57m 3s\n",
      "126:\tlearn: 4418.9554048\ttest: 8908.2757832\tbest: 8904.3711528 (120)\ttotal: 8m 17s\tremaining: 56m 59s\n",
      "127:\tlearn: 4416.7705433\ttest: 8904.8902602\tbest: 8904.3711528 (120)\ttotal: 8m 21s\tremaining: 56m 54s\n",
      "128:\tlearn: 4412.5403569\ttest: 8898.2488827\tbest: 8898.2488827 (128)\ttotal: 8m 25s\tremaining: 56m 50s\n",
      "129:\tlearn: 4407.0360737\ttest: 8896.0371598\tbest: 8896.0371598 (129)\ttotal: 8m 28s\tremaining: 56m 44s\n",
      "130:\tlearn: 4402.8222025\ttest: 8895.2076646\tbest: 8895.2076646 (130)\ttotal: 8m 32s\tremaining: 56m 39s\n",
      "131:\tlearn: 4400.4214481\ttest: 8892.9938588\tbest: 8892.9938588 (131)\ttotal: 8m 36s\tremaining: 56m 37s\n",
      "132:\tlearn: 4398.8477052\ttest: 8892.8277209\tbest: 8892.8277209 (132)\ttotal: 8m 40s\tremaining: 56m 32s\n",
      "133:\tlearn: 4395.9946950\ttest: 8892.6053870\tbest: 8892.6053870 (133)\ttotal: 8m 44s\tremaining: 56m 28s\n",
      "134:\tlearn: 4393.8545816\ttest: 8889.3246439\tbest: 8889.3246439 (134)\ttotal: 8m 48s\tremaining: 56m 24s\n",
      "135:\tlearn: 4391.5352370\ttest: 8885.4102892\tbest: 8885.4102892 (135)\ttotal: 8m 51s\tremaining: 56m 19s\n",
      "136:\tlearn: 4389.9112249\ttest: 8885.8546906\tbest: 8885.4102892 (135)\ttotal: 8m 55s\tremaining: 56m 15s\n",
      "137:\tlearn: 4387.9023007\ttest: 8873.3012606\tbest: 8873.3012606 (137)\ttotal: 8m 59s\tremaining: 56m 12s\n",
      "138:\tlearn: 4383.3161807\ttest: 8875.5429247\tbest: 8873.3012606 (137)\ttotal: 9m 3s\tremaining: 56m 8s\n",
      "139:\tlearn: 4381.3360210\ttest: 8876.5852380\tbest: 8873.3012606 (137)\ttotal: 9m 7s\tremaining: 56m 3s\n",
      "140:\tlearn: 4380.1123833\ttest: 8874.3316842\tbest: 8873.3012606 (137)\ttotal: 9m 11s\tremaining: 55m 59s\n",
      "141:\tlearn: 4378.2414995\ttest: 8872.0632141\tbest: 8872.0632141 (141)\ttotal: 9m 15s\tremaining: 55m 53s\n",
      "142:\tlearn: 4373.7094209\ttest: 8869.1353725\tbest: 8869.1353725 (142)\ttotal: 9m 18s\tremaining: 55m 49s\n",
      "143:\tlearn: 4370.2882085\ttest: 8869.4207837\tbest: 8869.1353725 (142)\ttotal: 9m 22s\tremaining: 55m 45s\n",
      "144:\tlearn: 4361.1352160\ttest: 8872.3462224\tbest: 8869.1353725 (142)\ttotal: 9m 26s\tremaining: 55m 39s\n",
      "145:\tlearn: 4357.2771475\ttest: 8872.3969126\tbest: 8869.1353725 (142)\ttotal: 9m 30s\tremaining: 55m 36s\n",
      "146:\tlearn: 4353.8565658\ttest: 8871.4006703\tbest: 8869.1353725 (142)\ttotal: 9m 34s\tremaining: 55m 31s\n",
      "147:\tlearn: 4350.1355282\ttest: 8899.9853248\tbest: 8869.1353725 (142)\ttotal: 9m 38s\tremaining: 55m 28s\n",
      "148:\tlearn: 4347.4076611\ttest: 8897.4910978\tbest: 8869.1353725 (142)\ttotal: 9m 41s\tremaining: 55m 23s\n",
      "149:\tlearn: 4345.0916059\ttest: 8897.9146541\tbest: 8869.1353725 (142)\ttotal: 9m 45s\tremaining: 55m 19s\n",
      "150:\tlearn: 4342.2056130\ttest: 8897.1195569\tbest: 8869.1353725 (142)\ttotal: 9m 49s\tremaining: 55m 15s\n",
      "151:\tlearn: 4341.0359473\ttest: 8896.6978465\tbest: 8869.1353725 (142)\ttotal: 9m 53s\tremaining: 55m 9s\n",
      "152:\tlearn: 4338.3978940\ttest: 8896.3594251\tbest: 8869.1353725 (142)\ttotal: 9m 56s\tremaining: 55m 4s\n",
      "153:\tlearn: 4335.1867407\ttest: 8894.7673796\tbest: 8869.1353725 (142)\ttotal: 10m\tremaining: 55m 1s\n",
      "154:\tlearn: 4333.3191308\ttest: 8890.4248136\tbest: 8869.1353725 (142)\ttotal: 10m 5s\tremaining: 54m 58s\n",
      "155:\tlearn: 4331.3838495\ttest: 8889.3825956\tbest: 8869.1353725 (142)\ttotal: 10m 9s\tremaining: 54m 55s\n",
      "156:\tlearn: 4329.4952115\ttest: 8888.6048858\tbest: 8869.1353725 (142)\ttotal: 10m 12s\tremaining: 54m 50s\n",
      "157:\tlearn: 4327.3577910\ttest: 8888.4071169\tbest: 8869.1353725 (142)\ttotal: 10m 16s\tremaining: 54m 46s\n",
      "158:\tlearn: 4320.7953862\ttest: 8888.5051880\tbest: 8869.1353725 (142)\ttotal: 10m 20s\tremaining: 54m 42s\n",
      "159:\tlearn: 4317.2970369\ttest: 8887.7294502\tbest: 8869.1353725 (142)\ttotal: 10m 24s\tremaining: 54m 39s\n",
      "160:\tlearn: 4315.7981563\ttest: 8887.5264965\tbest: 8869.1353725 (142)\ttotal: 10m 28s\tremaining: 54m 33s\n",
      "161:\tlearn: 4314.0261226\ttest: 8887.4025958\tbest: 8869.1353725 (142)\ttotal: 10m 31s\tremaining: 54m 28s\n",
      "162:\tlearn: 4311.1557056\ttest: 8884.5201994\tbest: 8869.1353725 (142)\ttotal: 10m 35s\tremaining: 54m 24s\n"
     ]
    },
    {
     "name": "stdout",
     "output_type": "stream",
     "text": [
      "163:\tlearn: 4309.1321842\ttest: 8885.6152203\tbest: 8869.1353725 (142)\ttotal: 10m 39s\tremaining: 54m 19s\n",
      "164:\tlearn: 4306.7866117\ttest: 8885.6810744\tbest: 8869.1353725 (142)\ttotal: 10m 43s\tremaining: 54m 15s\n",
      "165:\tlearn: 4302.6336253\ttest: 8882.1929927\tbest: 8869.1353725 (142)\ttotal: 10m 46s\tremaining: 54m 9s\n",
      "166:\tlearn: 4299.9895841\ttest: 8881.3042116\tbest: 8869.1353725 (142)\ttotal: 10m 50s\tremaining: 54m 4s\n",
      "167:\tlearn: 4296.4766572\ttest: 8882.2443468\tbest: 8869.1353725 (142)\ttotal: 10m 54s\tremaining: 54m\n",
      "168:\tlearn: 4295.4241069\ttest: 8882.0753652\tbest: 8869.1353725 (142)\ttotal: 10m 58s\tremaining: 53m 57s\n",
      "169:\tlearn: 4292.4608127\ttest: 8881.8736432\tbest: 8869.1353725 (142)\ttotal: 11m 2s\tremaining: 53m 54s\n",
      "170:\tlearn: 4291.2647197\ttest: 8875.5504903\tbest: 8869.1353725 (142)\ttotal: 11m 6s\tremaining: 53m 49s\n",
      "171:\tlearn: 4289.5552609\ttest: 8869.5450951\tbest: 8869.1353725 (142)\ttotal: 11m 10s\tremaining: 53m 45s\n",
      "172:\tlearn: 4288.0557117\ttest: 8869.8509437\tbest: 8869.1353725 (142)\ttotal: 11m 13s\tremaining: 53m 41s\n",
      "173:\tlearn: 4286.6066530\ttest: 8870.4464942\tbest: 8869.1353725 (142)\ttotal: 11m 17s\tremaining: 53m 37s\n",
      "174:\tlearn: 4284.7563352\ttest: 8871.4548530\tbest: 8869.1353725 (142)\ttotal: 11m 21s\tremaining: 53m 32s\n",
      "175:\tlearn: 4283.3635232\ttest: 8870.4477108\tbest: 8869.1353725 (142)\ttotal: 11m 25s\tremaining: 53m 28s\n",
      "176:\tlearn: 4281.4022865\ttest: 8870.5062778\tbest: 8869.1353725 (142)\ttotal: 11m 29s\tremaining: 53m 24s\n",
      "177:\tlearn: 4279.7370284\ttest: 8868.4797324\tbest: 8868.4797324 (177)\ttotal: 11m 32s\tremaining: 53m 19s\n",
      "178:\tlearn: 4277.3739381\ttest: 8864.7692539\tbest: 8864.7692539 (178)\ttotal: 11m 36s\tremaining: 53m 15s\n",
      "179:\tlearn: 4274.7760497\ttest: 8858.7957225\tbest: 8858.7957225 (179)\ttotal: 11m 40s\tremaining: 53m 9s\n",
      "180:\tlearn: 4272.8324087\ttest: 8865.9075920\tbest: 8858.7957225 (179)\ttotal: 11m 43s\tremaining: 53m 5s\n",
      "181:\tlearn: 4270.9576371\ttest: 8863.2405711\tbest: 8858.7957225 (179)\ttotal: 11m 47s\tremaining: 53m\n",
      "182:\tlearn: 4268.3710185\ttest: 8863.1536591\tbest: 8858.7957225 (179)\ttotal: 11m 51s\tremaining: 52m 57s\n",
      "183:\tlearn: 4266.2476750\ttest: 8863.0737737\tbest: 8858.7957225 (179)\ttotal: 11m 55s\tremaining: 52m 54s\n",
      "184:\tlearn: 4264.3581129\ttest: 8860.7201768\tbest: 8858.7957225 (179)\ttotal: 11m 59s\tremaining: 52m 50s\n",
      "185:\tlearn: 4263.2425753\ttest: 8858.9516620\tbest: 8858.7957225 (179)\ttotal: 12m 3s\tremaining: 52m 46s\n",
      "186:\tlearn: 4261.9684421\ttest: 8857.6502220\tbest: 8857.6502220 (186)\ttotal: 12m 7s\tremaining: 52m 42s\n",
      "187:\tlearn: 4261.0812294\ttest: 8857.1088860\tbest: 8857.1088860 (187)\ttotal: 12m 11s\tremaining: 52m 38s\n",
      "188:\tlearn: 4259.4218940\ttest: 8847.3114924\tbest: 8847.3114924 (188)\ttotal: 12m 15s\tremaining: 52m 34s\n",
      "189:\tlearn: 4257.0638518\ttest: 8844.9099502\tbest: 8844.9099502 (189)\ttotal: 12m 19s\tremaining: 52m 31s\n",
      "190:\tlearn: 4255.6121298\ttest: 8844.2302366\tbest: 8844.2302366 (190)\ttotal: 12m 23s\tremaining: 52m 27s\n",
      "191:\tlearn: 4254.2458109\ttest: 8844.7552756\tbest: 8844.2302366 (190)\ttotal: 12m 27s\tremaining: 52m 24s\n",
      "192:\tlearn: 4253.0689074\ttest: 8842.5712407\tbest: 8842.5712407 (192)\ttotal: 12m 30s\tremaining: 52m 19s\n",
      "193:\tlearn: 4251.6783007\ttest: 8840.5328443\tbest: 8840.5328443 (193)\ttotal: 12m 35s\tremaining: 52m 17s\n",
      "194:\tlearn: 4246.8818849\ttest: 8836.9977414\tbest: 8836.9977414 (194)\ttotal: 12m 38s\tremaining: 52m 13s\n",
      "195:\tlearn: 4245.1165027\ttest: 8836.5846654\tbest: 8836.5846654 (195)\ttotal: 12m 43s\tremaining: 52m 9s\n",
      "196:\tlearn: 4243.4975187\ttest: 8832.0846200\tbest: 8832.0846200 (196)\ttotal: 12m 46s\tremaining: 52m 5s\n",
      "197:\tlearn: 4242.4503351\ttest: 8831.7628337\tbest: 8831.7628337 (197)\ttotal: 12m 50s\tremaining: 52m 2s\n",
      "198:\tlearn: 4240.8257672\ttest: 8831.9140490\tbest: 8831.7628337 (197)\ttotal: 12m 54s\tremaining: 51m 59s\n",
      "199:\tlearn: 4239.6293858\ttest: 8829.6298820\tbest: 8829.6298820 (199)\ttotal: 12m 58s\tremaining: 51m 55s\n",
      "200:\tlearn: 4237.1654801\ttest: 8821.2740751\tbest: 8821.2740751 (200)\ttotal: 13m 2s\tremaining: 51m 51s\n",
      "201:\tlearn: 4234.8778630\ttest: 8821.8146549\tbest: 8821.2740751 (200)\ttotal: 13m 6s\tremaining: 51m 46s\n",
      "202:\tlearn: 4233.0898729\ttest: 8900.9213346\tbest: 8821.2740751 (200)\ttotal: 13m 9s\tremaining: 51m 41s\n",
      "203:\tlearn: 4231.5596754\ttest: 8902.4056760\tbest: 8821.2740751 (200)\ttotal: 13m 13s\tremaining: 51m 36s\n",
      "204:\tlearn: 4230.3583716\ttest: 8903.2623619\tbest: 8821.2740751 (200)\ttotal: 13m 17s\tremaining: 51m 31s\n",
      "205:\tlearn: 4227.1593747\ttest: 8903.1917398\tbest: 8821.2740751 (200)\ttotal: 13m 21s\tremaining: 51m 27s\n",
      "206:\tlearn: 4226.0448018\ttest: 8902.6216085\tbest: 8821.2740751 (200)\ttotal: 13m 24s\tremaining: 51m 23s\n",
      "207:\tlearn: 4225.2352170\ttest: 8902.2296196\tbest: 8821.2740751 (200)\ttotal: 13m 28s\tremaining: 51m 19s\n",
      "208:\tlearn: 4224.0496359\ttest: 8901.5970083\tbest: 8821.2740751 (200)\ttotal: 13m 32s\tremaining: 51m 15s\n",
      "209:\tlearn: 4219.4638823\ttest: 8898.5271848\tbest: 8821.2740751 (200)\ttotal: 13m 37s\tremaining: 51m 14s\n",
      "210:\tlearn: 4218.0284517\ttest: 8897.5369697\tbest: 8821.2740751 (200)\ttotal: 13m 41s\tremaining: 51m 10s\n",
      "211:\tlearn: 4216.4206066\ttest: 8897.9866054\tbest: 8821.2740751 (200)\ttotal: 13m 45s\tremaining: 51m 7s\n",
      "212:\tlearn: 4215.2059069\ttest: 8898.5710418\tbest: 8821.2740751 (200)\ttotal: 13m 48s\tremaining: 51m\n",
      "213:\tlearn: 4213.6095278\ttest: 8897.6597295\tbest: 8821.2740751 (200)\ttotal: 13m 52s\tremaining: 50m 57s\n",
      "214:\tlearn: 4212.7111088\ttest: 8896.3363756\tbest: 8821.2740751 (200)\ttotal: 13m 56s\tremaining: 50m 55s\n",
      "215:\tlearn: 4211.0214852\ttest: 8896.3996271\tbest: 8821.2740751 (200)\ttotal: 14m\tremaining: 50m 49s\n",
      "216:\tlearn: 4209.4949215\ttest: 8894.7698418\tbest: 8821.2740751 (200)\ttotal: 14m 3s\tremaining: 50m 44s\n",
      "217:\tlearn: 4208.1450134\ttest: 8894.9756891\tbest: 8821.2740751 (200)\ttotal: 14m 7s\tremaining: 50m 39s\n",
      "218:\tlearn: 4206.6612503\ttest: 8896.4517264\tbest: 8821.2740751 (200)\ttotal: 14m 11s\tremaining: 50m 35s\n",
      "219:\tlearn: 4204.2451345\ttest: 8893.5147379\tbest: 8821.2740751 (200)\ttotal: 14m 15s\tremaining: 50m 33s\n",
      "220:\tlearn: 4202.1331740\ttest: 8890.7179455\tbest: 8821.2740751 (200)\ttotal: 14m 19s\tremaining: 50m 29s\n",
      "221:\tlearn: 4200.8322795\ttest: 8890.0050261\tbest: 8821.2740751 (200)\ttotal: 14m 23s\tremaining: 50m 27s\n",
      "222:\tlearn: 4199.4919356\ttest: 8888.7254551\tbest: 8821.2740751 (200)\ttotal: 14m 27s\tremaining: 50m 22s\n",
      "223:\tlearn: 4198.3457887\ttest: 8888.5115587\tbest: 8821.2740751 (200)\ttotal: 14m 31s\tremaining: 50m 18s\n",
      "224:\tlearn: 4196.1611342\ttest: 8894.9441171\tbest: 8821.2740751 (200)\ttotal: 14m 35s\tremaining: 50m 14s\n",
      "225:\tlearn: 4195.1323866\ttest: 8893.8555154\tbest: 8821.2740751 (200)\ttotal: 14m 38s\tremaining: 50m 9s\n",
      "226:\tlearn: 4194.3392785\ttest: 8894.3185548\tbest: 8821.2740751 (200)\ttotal: 14m 42s\tremaining: 50m 5s\n",
      "227:\tlearn: 4193.1499151\ttest: 8893.4745312\tbest: 8821.2740751 (200)\ttotal: 14m 46s\tremaining: 50m 2s\n",
      "228:\tlearn: 4190.7318775\ttest: 8906.7931623\tbest: 8821.2740751 (200)\ttotal: 14m 50s\tremaining: 49m 57s\n",
      "229:\tlearn: 4189.6579480\ttest: 8903.1651881\tbest: 8821.2740751 (200)\ttotal: 14m 53s\tremaining: 49m 51s\n",
      "230:\tlearn: 4187.4544940\ttest: 8902.7323806\tbest: 8821.2740751 (200)\ttotal: 14m 57s\tremaining: 49m 48s\n",
      "231:\tlearn: 4184.7595893\ttest: 8900.7631372\tbest: 8821.2740751 (200)\ttotal: 15m 1s\tremaining: 49m 43s\n",
      "232:\tlearn: 4183.1556475\ttest: 8900.9742939\tbest: 8821.2740751 (200)\ttotal: 15m 5s\tremaining: 49m 40s\n",
      "233:\tlearn: 4182.0410050\ttest: 8899.8636804\tbest: 8821.2740751 (200)\ttotal: 15m 8s\tremaining: 49m 35s\n",
      "234:\tlearn: 4180.5413270\ttest: 8902.5219579\tbest: 8821.2740751 (200)\ttotal: 15m 13s\tremaining: 49m 32s\n",
      "235:\tlearn: 4179.3044552\ttest: 8901.6520890\tbest: 8821.2740751 (200)\ttotal: 15m 16s\tremaining: 49m 28s\n",
      "236:\tlearn: 4178.0223738\ttest: 8901.5154264\tbest: 8821.2740751 (200)\ttotal: 15m 21s\tremaining: 49m 26s\n",
      "237:\tlearn: 4177.2231897\ttest: 8901.3176016\tbest: 8821.2740751 (200)\ttotal: 15m 24s\tremaining: 49m 21s\n",
      "238:\tlearn: 4175.4121430\ttest: 8900.5760124\tbest: 8821.2740751 (200)\ttotal: 15m 28s\tremaining: 49m 17s\n",
      "239:\tlearn: 4172.9613451\ttest: 8899.1292722\tbest: 8821.2740751 (200)\ttotal: 15m 32s\tremaining: 49m 14s\n",
      "240:\tlearn: 4169.9846502\ttest: 8896.8792204\tbest: 8821.2740751 (200)\ttotal: 15m 36s\tremaining: 49m 9s\n",
      "241:\tlearn: 4168.7967696\ttest: 8896.8146945\tbest: 8821.2740751 (200)\ttotal: 15m 40s\tremaining: 49m 4s\n",
      "242:\tlearn: 4168.3707095\ttest: 8897.0671540\tbest: 8821.2740751 (200)\ttotal: 15m 43s\tremaining: 48m 59s\n"
     ]
    },
    {
     "name": "stdout",
     "output_type": "stream",
     "text": [
      "243:\tlearn: 4166.9850067\ttest: 8898.2873179\tbest: 8821.2740751 (200)\ttotal: 15m 47s\tremaining: 48m 55s\n",
      "244:\tlearn: 4164.7980310\ttest: 8875.9056779\tbest: 8821.2740751 (200)\ttotal: 15m 51s\tremaining: 48m 50s\n",
      "245:\tlearn: 4163.5943951\ttest: 8876.0256792\tbest: 8821.2740751 (200)\ttotal: 15m 55s\tremaining: 48m 47s\n",
      "246:\tlearn: 4162.2520833\ttest: 8872.3096761\tbest: 8821.2740751 (200)\ttotal: 15m 58s\tremaining: 48m 43s\n",
      "247:\tlearn: 4160.9516607\ttest: 8871.6693940\tbest: 8821.2740751 (200)\ttotal: 16m 3s\tremaining: 48m 41s\n",
      "248:\tlearn: 4158.7993803\ttest: 8870.6597873\tbest: 8821.2740751 (200)\ttotal: 16m 7s\tremaining: 48m 39s\n",
      "249:\tlearn: 4158.0579636\ttest: 8870.4208240\tbest: 8821.2740751 (200)\ttotal: 16m 11s\tremaining: 48m 34s\n",
      "250:\tlearn: 4157.0508377\ttest: 8865.6037928\tbest: 8821.2740751 (200)\ttotal: 16m 15s\tremaining: 48m 31s\n",
      "251:\tlearn: 4155.5691658\ttest: 8866.2083382\tbest: 8821.2740751 (200)\ttotal: 16m 19s\tremaining: 48m 26s\n",
      "252:\tlearn: 4154.9431708\ttest: 8866.0640256\tbest: 8821.2740751 (200)\ttotal: 16m 23s\tremaining: 48m 23s\n",
      "253:\tlearn: 4153.5494699\ttest: 8866.6653403\tbest: 8821.2740751 (200)\ttotal: 16m 27s\tremaining: 48m 19s\n",
      "254:\tlearn: 4152.5226242\ttest: 8864.3249442\tbest: 8821.2740751 (200)\ttotal: 16m 31s\tremaining: 48m 17s\n",
      "255:\tlearn: 4151.6340236\ttest: 8863.7048758\tbest: 8821.2740751 (200)\ttotal: 16m 35s\tremaining: 48m 14s\n",
      "256:\tlearn: 4151.0115701\ttest: 8863.2683151\tbest: 8821.2740751 (200)\ttotal: 16m 39s\tremaining: 48m 10s\n",
      "257:\tlearn: 4149.7590581\ttest: 8862.1343809\tbest: 8821.2740751 (200)\ttotal: 16m 43s\tremaining: 48m 6s\n",
      "258:\tlearn: 4148.5681341\ttest: 8862.1475837\tbest: 8821.2740751 (200)\ttotal: 16m 46s\tremaining: 48m\n",
      "259:\tlearn: 4147.8209882\ttest: 8861.3766102\tbest: 8821.2740751 (200)\ttotal: 16m 50s\tremaining: 47m 56s\n",
      "260:\tlearn: 4146.4873516\ttest: 8857.7504704\tbest: 8821.2740751 (200)\ttotal: 16m 54s\tremaining: 47m 52s\n",
      "261:\tlearn: 4145.7917461\ttest: 8857.0428335\tbest: 8821.2740751 (200)\ttotal: 16m 58s\tremaining: 47m 48s\n",
      "262:\tlearn: 4144.6628639\ttest: 8854.0941431\tbest: 8821.2740751 (200)\ttotal: 17m 2s\tremaining: 47m 44s\n",
      "263:\tlearn: 4143.2314024\ttest: 8854.3170326\tbest: 8821.2740751 (200)\ttotal: 17m 6s\tremaining: 47m 41s\n",
      "264:\tlearn: 4142.5617833\ttest: 8854.1511567\tbest: 8821.2740751 (200)\ttotal: 17m 9s\tremaining: 47m 36s\n",
      "265:\tlearn: 4141.2387437\ttest: 8853.2826617\tbest: 8821.2740751 (200)\ttotal: 17m 13s\tremaining: 47m 31s\n",
      "266:\tlearn: 4139.0534868\ttest: 8859.4079962\tbest: 8821.2740751 (200)\ttotal: 17m 16s\tremaining: 47m 26s\n",
      "267:\tlearn: 4137.9796073\ttest: 8859.5856738\tbest: 8821.2740751 (200)\ttotal: 17m 20s\tremaining: 47m 22s\n",
      "268:\tlearn: 4136.7760598\ttest: 8859.0465404\tbest: 8821.2740751 (200)\ttotal: 17m 24s\tremaining: 47m 17s\n",
      "269:\tlearn: 4135.8947790\ttest: 8854.7067701\tbest: 8821.2740751 (200)\ttotal: 17m 27s\tremaining: 47m 12s\n",
      "270:\tlearn: 4134.8001003\ttest: 8854.7963994\tbest: 8821.2740751 (200)\ttotal: 17m 31s\tremaining: 47m 8s\n",
      "271:\tlearn: 4133.7164487\ttest: 8855.6176435\tbest: 8821.2740751 (200)\ttotal: 17m 35s\tremaining: 47m 4s\n",
      "272:\tlearn: 4132.8031130\ttest: 8854.9340621\tbest: 8821.2740751 (200)\ttotal: 17m 39s\tremaining: 47m\n",
      "273:\tlearn: 4132.2610034\ttest: 8854.4030089\tbest: 8821.2740751 (200)\ttotal: 17m 42s\tremaining: 46m 55s\n",
      "274:\tlearn: 4130.6317025\ttest: 8854.5409979\tbest: 8821.2740751 (200)\ttotal: 17m 46s\tremaining: 46m 52s\n",
      "275:\tlearn: 4129.0166040\ttest: 8854.1367962\tbest: 8821.2740751 (200)\ttotal: 17m 50s\tremaining: 46m 49s\n",
      "276:\tlearn: 4127.5849132\ttest: 8848.8604715\tbest: 8821.2740751 (200)\ttotal: 17m 54s\tremaining: 46m 44s\n",
      "277:\tlearn: 4126.2994066\ttest: 8848.1326106\tbest: 8821.2740751 (200)\ttotal: 17m 58s\tremaining: 46m 40s\n",
      "278:\tlearn: 4125.8259905\ttest: 8847.6288461\tbest: 8821.2740751 (200)\ttotal: 18m 1s\tremaining: 46m 36s\n",
      "279:\tlearn: 4124.9246009\ttest: 8847.5771304\tbest: 8821.2740751 (200)\ttotal: 18m 5s\tremaining: 46m 31s\n",
      "280:\tlearn: 4123.9986297\ttest: 8847.0554777\tbest: 8821.2740751 (200)\ttotal: 18m 9s\tremaining: 46m 27s\n",
      "281:\tlearn: 4123.1188691\ttest: 8847.1118191\tbest: 8821.2740751 (200)\ttotal: 18m 12s\tremaining: 46m 22s\n",
      "282:\tlearn: 4122.6178379\ttest: 8845.6599589\tbest: 8821.2740751 (200)\ttotal: 18m 16s\tremaining: 46m 17s\n",
      "283:\tlearn: 4121.1516505\ttest: 8850.4022808\tbest: 8821.2740751 (200)\ttotal: 18m 20s\tremaining: 46m 13s\n",
      "284:\tlearn: 4120.4491438\ttest: 8849.9445195\tbest: 8821.2740751 (200)\ttotal: 18m 23s\tremaining: 46m 9s\n",
      "285:\tlearn: 4119.7709102\ttest: 8849.2627443\tbest: 8821.2740751 (200)\ttotal: 18m 27s\tremaining: 46m 5s\n",
      "286:\tlearn: 4117.3582325\ttest: 8847.7838656\tbest: 8821.2740751 (200)\ttotal: 18m 31s\tremaining: 46m 1s\n",
      "287:\tlearn: 4116.7587459\ttest: 8847.9076358\tbest: 8821.2740751 (200)\ttotal: 18m 35s\tremaining: 45m 57s\n",
      "288:\tlearn: 4116.0875006\ttest: 8847.9437415\tbest: 8821.2740751 (200)\ttotal: 18m 38s\tremaining: 45m 52s\n",
      "289:\tlearn: 4114.5420405\ttest: 8850.0748164\tbest: 8821.2740751 (200)\ttotal: 18m 42s\tremaining: 45m 48s\n",
      "290:\tlearn: 4112.8670062\ttest: 8849.5825262\tbest: 8821.2740751 (200)\ttotal: 18m 46s\tremaining: 45m 43s\n",
      "291:\tlearn: 4112.0740340\ttest: 8849.3197760\tbest: 8821.2740751 (200)\ttotal: 18m 50s\tremaining: 45m 40s\n",
      "292:\tlearn: 4111.2347580\ttest: 8849.7602259\tbest: 8821.2740751 (200)\ttotal: 18m 54s\tremaining: 45m 37s\n",
      "293:\tlearn: 4110.2543956\ttest: 8849.7886953\tbest: 8821.2740751 (200)\ttotal: 18m 58s\tremaining: 45m 33s\n",
      "294:\tlearn: 4109.2240691\ttest: 8849.0189554\tbest: 8821.2740751 (200)\ttotal: 19m 1s\tremaining: 45m 28s\n",
      "295:\tlearn: 4107.6067278\ttest: 8848.2286175\tbest: 8821.2740751 (200)\ttotal: 19m 5s\tremaining: 45m 23s\n",
      "296:\tlearn: 4106.9787009\ttest: 8848.9819480\tbest: 8821.2740751 (200)\ttotal: 19m 8s\tremaining: 45m 19s\n",
      "297:\tlearn: 4106.1484084\ttest: 8850.2565022\tbest: 8821.2740751 (200)\ttotal: 19m 12s\tremaining: 45m 15s\n",
      "298:\tlearn: 4105.4961724\ttest: 8845.6590594\tbest: 8821.2740751 (200)\ttotal: 19m 16s\tremaining: 45m 11s\n",
      "299:\tlearn: 4103.9273373\ttest: 8842.0556325\tbest: 8821.2740751 (200)\ttotal: 19m 20s\tremaining: 45m 8s\n",
      "300:\tlearn: 4102.5193245\ttest: 8843.2512041\tbest: 8821.2740751 (200)\ttotal: 19m 24s\tremaining: 45m 3s\n",
      "301:\tlearn: 4101.8652810\ttest: 8843.0793595\tbest: 8821.2740751 (200)\ttotal: 19m 29s\tremaining: 45m 2s\n",
      "302:\tlearn: 4099.9534426\ttest: 8842.4052832\tbest: 8821.2740751 (200)\ttotal: 19m 34s\tremaining: 45m\n",
      "303:\tlearn: 4099.1239296\ttest: 8841.6296903\tbest: 8821.2740751 (200)\ttotal: 19m 37s\tremaining: 44m 56s\n",
      "304:\tlearn: 4098.6808193\ttest: 8841.0523780\tbest: 8821.2740751 (200)\ttotal: 19m 41s\tremaining: 44m 52s\n",
      "305:\tlearn: 4097.8192372\ttest: 8841.8922297\tbest: 8821.2740751 (200)\ttotal: 19m 45s\tremaining: 44m 48s\n",
      "306:\tlearn: 4096.9500691\ttest: 8841.6490944\tbest: 8821.2740751 (200)\ttotal: 19m 49s\tremaining: 44m 45s\n",
      "307:\tlearn: 4095.9017297\ttest: 8840.7130739\tbest: 8821.2740751 (200)\ttotal: 19m 53s\tremaining: 44m 41s\n",
      "308:\tlearn: 4095.3736021\ttest: 8841.5057894\tbest: 8821.2740751 (200)\ttotal: 19m 57s\tremaining: 44m 37s\n",
      "309:\tlearn: 4094.6446236\ttest: 8841.1459953\tbest: 8821.2740751 (200)\ttotal: 20m 1s\tremaining: 44m 34s\n",
      "310:\tlearn: 4093.5672955\ttest: 8839.1387357\tbest: 8821.2740751 (200)\ttotal: 20m 5s\tremaining: 44m 31s\n",
      "311:\tlearn: 4092.7632018\ttest: 8830.2757740\tbest: 8821.2740751 (200)\ttotal: 20m 9s\tremaining: 44m 27s\n",
      "312:\tlearn: 4091.4439116\ttest: 8829.4700515\tbest: 8821.2740751 (200)\ttotal: 20m 13s\tremaining: 44m 23s\n",
      "313:\tlearn: 4090.4734018\ttest: 8828.1195541\tbest: 8821.2740751 (200)\ttotal: 20m 18s\tremaining: 44m 21s\n",
      "314:\tlearn: 4089.4296961\ttest: 8828.1692916\tbest: 8821.2740751 (200)\ttotal: 20m 21s\tremaining: 44m 17s\n",
      "315:\tlearn: 4088.3603700\ttest: 8827.7858885\tbest: 8821.2740751 (200)\ttotal: 20m 26s\tremaining: 44m 13s\n",
      "316:\tlearn: 4087.6351799\ttest: 8827.1348500\tbest: 8821.2740751 (200)\ttotal: 20m 29s\tremaining: 44m 9s\n",
      "317:\tlearn: 4087.1467771\ttest: 8827.0123947\tbest: 8821.2740751 (200)\ttotal: 20m 33s\tremaining: 44m 6s\n",
      "318:\tlearn: 4085.9126454\ttest: 8830.1704268\tbest: 8821.2740751 (200)\ttotal: 20m 37s\tremaining: 44m 1s\n",
      "319:\tlearn: 4084.6659489\ttest: 8828.9194719\tbest: 8821.2740751 (200)\ttotal: 20m 41s\tremaining: 43m 58s\n",
      "320:\tlearn: 4083.4747957\ttest: 8828.3508254\tbest: 8821.2740751 (200)\ttotal: 20m 45s\tremaining: 43m 53s\n",
      "321:\tlearn: 4082.7293867\ttest: 8828.4440489\tbest: 8821.2740751 (200)\ttotal: 20m 48s\tremaining: 43m 49s\n",
      "322:\tlearn: 4081.5950652\ttest: 8828.8472056\tbest: 8821.2740751 (200)\ttotal: 20m 52s\tremaining: 43m 45s\n"
     ]
    },
    {
     "name": "stdout",
     "output_type": "stream",
     "text": [
      "323:\tlearn: 4080.8791246\ttest: 8827.9515116\tbest: 8821.2740751 (200)\ttotal: 20m 56s\tremaining: 43m 40s\n",
      "324:\tlearn: 4079.9632067\ttest: 8826.4348598\tbest: 8821.2740751 (200)\ttotal: 20m 59s\tremaining: 43m 36s\n",
      "325:\tlearn: 4079.3205019\ttest: 8827.1142172\tbest: 8821.2740751 (200)\ttotal: 21m 3s\tremaining: 43m 31s\n",
      "326:\tlearn: 4078.2742169\ttest: 8825.3380909\tbest: 8821.2740751 (200)\ttotal: 21m 6s\tremaining: 43m 26s\n",
      "327:\tlearn: 4076.3909589\ttest: 8833.9273370\tbest: 8821.2740751 (200)\ttotal: 21m 10s\tremaining: 43m 23s\n",
      "328:\tlearn: 4075.7756585\ttest: 8833.8350617\tbest: 8821.2740751 (200)\ttotal: 21m 14s\tremaining: 43m 19s\n",
      "329:\tlearn: 4075.2085838\ttest: 8833.3787565\tbest: 8821.2740751 (200)\ttotal: 21m 18s\tremaining: 43m 16s\n",
      "330:\tlearn: 4074.0340629\ttest: 8832.2676701\tbest: 8821.2740751 (200)\ttotal: 21m 22s\tremaining: 43m 12s\n",
      "331:\tlearn: 4072.0677886\ttest: 8829.8339240\tbest: 8821.2740751 (200)\ttotal: 21m 26s\tremaining: 43m 8s\n",
      "332:\tlearn: 4070.8135319\ttest: 8828.6720241\tbest: 8821.2740751 (200)\ttotal: 21m 30s\tremaining: 43m 4s\n",
      "333:\tlearn: 4068.3219513\ttest: 8831.1631301\tbest: 8821.2740751 (200)\ttotal: 21m 33s\tremaining: 43m\n",
      "334:\tlearn: 4067.6838827\ttest: 8831.7087971\tbest: 8821.2740751 (200)\ttotal: 21m 37s\tremaining: 42m 55s\n",
      "335:\tlearn: 4067.1349019\ttest: 8832.8962110\tbest: 8821.2740751 (200)\ttotal: 21m 41s\tremaining: 42m 51s\n",
      "336:\tlearn: 4066.4106946\ttest: 8832.8377316\tbest: 8821.2740751 (200)\ttotal: 21m 45s\tremaining: 42m 47s\n",
      "337:\tlearn: 4065.6226856\ttest: 8832.1030332\tbest: 8821.2740751 (200)\ttotal: 21m 49s\tremaining: 42m 43s\n",
      "338:\tlearn: 4065.1358673\ttest: 8832.2371609\tbest: 8821.2740751 (200)\ttotal: 21m 53s\tremaining: 42m 41s\n",
      "339:\tlearn: 4064.4136159\ttest: 8832.8842247\tbest: 8821.2740751 (200)\ttotal: 21m 57s\tremaining: 42m 37s\n",
      "340:\tlearn: 4062.3910854\ttest: 8832.2114638\tbest: 8821.2740751 (200)\ttotal: 22m 1s\tremaining: 42m 34s\n",
      "341:\tlearn: 4061.6799340\ttest: 8832.0302917\tbest: 8821.2740751 (200)\ttotal: 22m 5s\tremaining: 42m 31s\n",
      "342:\tlearn: 4061.1936679\ttest: 8832.0654092\tbest: 8821.2740751 (200)\ttotal: 22m 9s\tremaining: 42m 26s\n",
      "343:\tlearn: 4060.1745620\ttest: 8828.3433382\tbest: 8821.2740751 (200)\ttotal: 22m 14s\tremaining: 42m 23s\n",
      "344:\tlearn: 4059.4409383\ttest: 8828.6857537\tbest: 8821.2740751 (200)\ttotal: 22m 19s\tremaining: 42m 23s\n",
      "345:\tlearn: 4058.9473126\ttest: 8822.3034387\tbest: 8821.2740751 (200)\ttotal: 22m 23s\tremaining: 42m 18s\n",
      "346:\tlearn: 4057.9028234\ttest: 8822.6030024\tbest: 8821.2740751 (200)\ttotal: 22m 26s\tremaining: 42m 14s\n",
      "347:\tlearn: 4056.5446312\ttest: 8818.9392005\tbest: 8818.9392005 (347)\ttotal: 22m 31s\tremaining: 42m 11s\n",
      "348:\tlearn: 4055.5395494\ttest: 8817.9246205\tbest: 8817.9246205 (348)\ttotal: 22m 35s\tremaining: 42m 8s\n",
      "349:\tlearn: 4054.7060262\ttest: 8815.6446769\tbest: 8815.6446769 (349)\ttotal: 22m 40s\tremaining: 42m 6s\n",
      "350:\tlearn: 4053.9415647\ttest: 8817.0002833\tbest: 8815.6446769 (349)\ttotal: 22m 43s\tremaining: 42m 1s\n",
      "351:\tlearn: 4053.4314984\ttest: 8816.5027636\tbest: 8815.6446769 (349)\ttotal: 22m 48s\tremaining: 41m 59s\n",
      "352:\tlearn: 4052.9132508\ttest: 8816.4863959\tbest: 8815.6446769 (349)\ttotal: 22m 52s\tremaining: 41m 56s\n",
      "353:\tlearn: 4052.4344594\ttest: 8816.2422539\tbest: 8815.6446769 (349)\ttotal: 22m 56s\tremaining: 41m 52s\n",
      "354:\tlearn: 4051.3779317\ttest: 8815.8887664\tbest: 8815.6446769 (349)\ttotal: 23m\tremaining: 41m 49s\n",
      "355:\tlearn: 4050.7094731\ttest: 8815.7272079\tbest: 8815.6446769 (349)\ttotal: 23m 5s\tremaining: 41m 45s\n",
      "356:\tlearn: 4050.2209802\ttest: 8815.5257311\tbest: 8815.5257311 (356)\ttotal: 23m 8s\tremaining: 41m 41s\n",
      "357:\tlearn: 4049.4433019\ttest: 8814.6046538\tbest: 8814.6046538 (357)\ttotal: 23m 12s\tremaining: 41m 37s\n",
      "358:\tlearn: 4049.0024257\ttest: 8813.7884640\tbest: 8813.7884640 (358)\ttotal: 23m 16s\tremaining: 41m 33s\n",
      "359:\tlearn: 4048.3115384\ttest: 8814.0175526\tbest: 8813.7884640 (358)\ttotal: 23m 20s\tremaining: 41m 30s\n",
      "360:\tlearn: 4047.8704409\ttest: 8814.1921732\tbest: 8813.7884640 (358)\ttotal: 23m 24s\tremaining: 41m 25s\n",
      "361:\tlearn: 4047.1783741\ttest: 8813.5216210\tbest: 8813.5216210 (361)\ttotal: 23m 28s\tremaining: 41m 21s\n",
      "362:\tlearn: 4046.2691497\ttest: 8812.9181274\tbest: 8812.9181274 (362)\ttotal: 23m 31s\tremaining: 41m 17s\n",
      "363:\tlearn: 4045.7501936\ttest: 8812.4855741\tbest: 8812.4855741 (363)\ttotal: 23m 35s\tremaining: 41m 13s\n",
      "364:\tlearn: 4044.8751816\ttest: 8815.3199766\tbest: 8812.4855741 (363)\ttotal: 23m 39s\tremaining: 41m 9s\n",
      "365:\tlearn: 4043.9518949\ttest: 8814.3946584\tbest: 8812.4855741 (363)\ttotal: 23m 43s\tremaining: 41m 5s\n",
      "366:\tlearn: 4043.2105976\ttest: 8813.9089350\tbest: 8812.4855741 (363)\ttotal: 23m 47s\tremaining: 41m 1s\n",
      "367:\tlearn: 4042.4183414\ttest: 8813.0928353\tbest: 8812.4855741 (363)\ttotal: 23m 50s\tremaining: 40m 57s\n",
      "368:\tlearn: 4041.7804952\ttest: 8813.1674967\tbest: 8812.4855741 (363)\ttotal: 23m 54s\tremaining: 40m 53s\n",
      "369:\tlearn: 4041.0200516\ttest: 8812.9181743\tbest: 8812.4855741 (363)\ttotal: 23m 58s\tremaining: 40m 48s\n",
      "370:\tlearn: 4040.5652550\ttest: 8812.5375096\tbest: 8812.4855741 (363)\ttotal: 24m 2s\tremaining: 40m 45s\n",
      "371:\tlearn: 4039.7614485\ttest: 8812.0626974\tbest: 8812.0626974 (371)\ttotal: 24m 6s\tremaining: 40m 41s\n",
      "372:\tlearn: 4039.1620994\ttest: 8811.9751205\tbest: 8811.9751205 (372)\ttotal: 24m 10s\tremaining: 40m 37s\n",
      "373:\tlearn: 4038.5722476\ttest: 8812.0394794\tbest: 8811.9751205 (372)\ttotal: 24m 13s\tremaining: 40m 33s\n",
      "374:\tlearn: 4038.1275681\ttest: 8811.5490376\tbest: 8811.5490376 (374)\ttotal: 24m 17s\tremaining: 40m 29s\n",
      "375:\tlearn: 4037.3383547\ttest: 8811.8837787\tbest: 8811.5490376 (374)\ttotal: 24m 21s\tremaining: 40m 25s\n",
      "376:\tlearn: 4036.6847171\ttest: 8816.3879719\tbest: 8811.5490376 (374)\ttotal: 24m 25s\tremaining: 40m 21s\n",
      "377:\tlearn: 4036.2850777\ttest: 8816.0104688\tbest: 8811.5490376 (374)\ttotal: 24m 29s\tremaining: 40m 17s\n",
      "378:\tlearn: 4035.6811887\ttest: 8815.8576746\tbest: 8811.5490376 (374)\ttotal: 24m 33s\tremaining: 40m 14s\n",
      "379:\tlearn: 4034.9726783\ttest: 8815.7766804\tbest: 8811.5490376 (374)\ttotal: 24m 37s\tremaining: 40m 10s\n",
      "380:\tlearn: 4032.4638482\ttest: 8815.4454271\tbest: 8811.5490376 (374)\ttotal: 24m 41s\tremaining: 40m 7s\n",
      "381:\tlearn: 4031.6711381\ttest: 8816.3227360\tbest: 8811.5490376 (374)\ttotal: 24m 45s\tremaining: 40m 2s\n",
      "382:\tlearn: 4030.5916088\ttest: 8816.7572983\tbest: 8811.5490376 (374)\ttotal: 24m 49s\tremaining: 39m 58s\n",
      "383:\tlearn: 4028.8887617\ttest: 8816.0929909\tbest: 8811.5490376 (374)\ttotal: 24m 52s\tremaining: 39m 54s\n",
      "384:\tlearn: 4028.2183787\ttest: 8817.4184261\tbest: 8811.5490376 (374)\ttotal: 24m 56s\tremaining: 39m 50s\n",
      "385:\tlearn: 4027.4794561\ttest: 8815.4875383\tbest: 8811.5490376 (374)\ttotal: 25m\tremaining: 39m 46s\n",
      "386:\tlearn: 4026.8503008\ttest: 8815.5880323\tbest: 8811.5490376 (374)\ttotal: 25m 4s\tremaining: 39m 42s\n",
      "387:\tlearn: 4025.7635735\ttest: 8815.6165033\tbest: 8811.5490376 (374)\ttotal: 25m 8s\tremaining: 39m 38s\n",
      "388:\tlearn: 4024.9734029\ttest: 8816.1402816\tbest: 8811.5490376 (374)\ttotal: 25m 11s\tremaining: 39m 34s\n",
      "389:\tlearn: 4024.1667274\ttest: 8815.2272906\tbest: 8811.5490376 (374)\ttotal: 25m 15s\tremaining: 39m 30s\n",
      "390:\tlearn: 4023.4586680\ttest: 8816.4239961\tbest: 8811.5490376 (374)\ttotal: 25m 19s\tremaining: 39m 26s\n",
      "391:\tlearn: 4022.8247113\ttest: 8815.6190547\tbest: 8811.5490376 (374)\ttotal: 25m 23s\tremaining: 39m 22s\n",
      "392:\tlearn: 4022.3855027\ttest: 8815.7176764\tbest: 8811.5490376 (374)\ttotal: 25m 26s\tremaining: 39m 18s\n",
      "393:\tlearn: 4021.9677895\ttest: 8814.2706430\tbest: 8811.5490376 (374)\ttotal: 25m 30s\tremaining: 39m 14s\n",
      "394:\tlearn: 4021.3584325\ttest: 8813.7937615\tbest: 8811.5490376 (374)\ttotal: 25m 34s\tremaining: 39m 10s\n",
      "395:\tlearn: 4020.3099149\ttest: 8813.4049208\tbest: 8811.5490376 (374)\ttotal: 25m 37s\tremaining: 39m 5s\n",
      "396:\tlearn: 4019.8620303\ttest: 8813.3701544\tbest: 8811.5490376 (374)\ttotal: 25m 41s\tremaining: 39m\n",
      "397:\tlearn: 4019.4353537\ttest: 8812.9489850\tbest: 8811.5490376 (374)\ttotal: 25m 44s\tremaining: 38m 56s\n",
      "398:\tlearn: 4018.8260992\ttest: 8813.0238014\tbest: 8811.5490376 (374)\ttotal: 25m 48s\tremaining: 38m 52s\n",
      "399:\tlearn: 4018.1696892\ttest: 8813.9622644\tbest: 8811.5490376 (374)\ttotal: 25m 52s\tremaining: 38m 48s\n",
      "400:\tlearn: 4017.5155409\ttest: 8813.6061012\tbest: 8811.5490376 (374)\ttotal: 25m 56s\tremaining: 38m 44s\n",
      "401:\tlearn: 4016.5019158\ttest: 8813.5020807\tbest: 8811.5490376 (374)\ttotal: 26m\tremaining: 38m 40s\n",
      "402:\tlearn: 4015.5085827\ttest: 8810.4124982\tbest: 8810.4124982 (402)\ttotal: 26m 3s\tremaining: 38m 36s\n"
     ]
    },
    {
     "name": "stdout",
     "output_type": "stream",
     "text": [
      "403:\tlearn: 4014.9600701\ttest: 8810.2364352\tbest: 8810.2364352 (403)\ttotal: 26m 7s\tremaining: 38m 32s\n",
      "404:\tlearn: 4013.5313773\ttest: 8810.3007013\tbest: 8810.2364352 (403)\ttotal: 26m 11s\tremaining: 38m 28s\n",
      "405:\tlearn: 4012.9890152\ttest: 8809.9805275\tbest: 8809.9805275 (405)\ttotal: 26m 14s\tremaining: 38m 24s\n",
      "406:\tlearn: 4012.5135256\ttest: 8809.6039535\tbest: 8809.6039535 (406)\ttotal: 26m 19s\tremaining: 38m 20s\n",
      "407:\tlearn: 4011.4528570\ttest: 8812.0675828\tbest: 8809.6039535 (406)\ttotal: 26m 22s\tremaining: 38m 16s\n",
      "408:\tlearn: 4010.5093530\ttest: 8811.2737434\tbest: 8809.6039535 (406)\ttotal: 26m 26s\tremaining: 38m 12s\n",
      "409:\tlearn: 4009.7850086\ttest: 8812.5502630\tbest: 8809.6039535 (406)\ttotal: 26m 30s\tremaining: 38m 8s\n",
      "410:\tlearn: 4009.2612199\ttest: 8810.8644183\tbest: 8809.6039535 (406)\ttotal: 26m 33s\tremaining: 38m 3s\n",
      "411:\tlearn: 4007.6021138\ttest: 8811.9131160\tbest: 8809.6039535 (406)\ttotal: 26m 37s\tremaining: 38m\n",
      "412:\tlearn: 4006.5308955\ttest: 8814.6879315\tbest: 8809.6039535 (406)\ttotal: 26m 41s\tremaining: 37m 56s\n",
      "413:\tlearn: 4005.3324806\ttest: 8814.5228416\tbest: 8809.6039535 (406)\ttotal: 26m 45s\tremaining: 37m 52s\n",
      "414:\tlearn: 4004.7619468\ttest: 8814.6220990\tbest: 8809.6039535 (406)\ttotal: 26m 49s\tremaining: 37m 48s\n",
      "415:\tlearn: 4004.2490994\ttest: 8814.7519562\tbest: 8809.6039535 (406)\ttotal: 26m 52s\tremaining: 37m 43s\n",
      "416:\tlearn: 4002.9126092\ttest: 8814.4316490\tbest: 8809.6039535 (406)\ttotal: 26m 56s\tremaining: 37m 40s\n",
      "417:\tlearn: 4002.2949149\ttest: 8814.5729408\tbest: 8809.6039535 (406)\ttotal: 27m\tremaining: 37m 36s\n",
      "418:\tlearn: 4001.7377760\ttest: 8811.2015856\tbest: 8809.6039535 (406)\ttotal: 27m 3s\tremaining: 37m 31s\n",
      "419:\tlearn: 4001.1161007\ttest: 8810.4989271\tbest: 8809.6039535 (406)\ttotal: 27m 7s\tremaining: 37m 27s\n",
      "420:\tlearn: 4000.3515273\ttest: 8803.7106731\tbest: 8803.7106731 (420)\ttotal: 27m 10s\tremaining: 37m 22s\n",
      "421:\tlearn: 3999.1937087\ttest: 8803.7300370\tbest: 8803.7106731 (420)\ttotal: 27m 14s\tremaining: 37m 18s\n",
      "422:\tlearn: 3998.5860764\ttest: 8803.3084977\tbest: 8803.3084977 (422)\ttotal: 27m 18s\tremaining: 37m 14s\n",
      "423:\tlearn: 3998.3331294\ttest: 8803.3178830\tbest: 8803.3084977 (422)\ttotal: 27m 22s\tremaining: 37m 10s\n",
      "424:\tlearn: 3997.6552886\ttest: 8803.6011037\tbest: 8803.3084977 (422)\ttotal: 27m 25s\tremaining: 37m 6s\n",
      "425:\tlearn: 3997.2257483\ttest: 8802.6396633\tbest: 8802.6396633 (425)\ttotal: 27m 29s\tremaining: 37m 2s\n",
      "426:\tlearn: 3996.4355691\ttest: 8802.9155588\tbest: 8802.6396633 (425)\ttotal: 27m 33s\tremaining: 36m 58s\n",
      "427:\tlearn: 3995.4119345\ttest: 8796.8076953\tbest: 8796.8076953 (427)\ttotal: 27m 36s\tremaining: 36m 54s\n",
      "428:\tlearn: 3994.4531826\ttest: 8797.0648974\tbest: 8796.8076953 (427)\ttotal: 27m 40s\tremaining: 36m 50s\n",
      "429:\tlearn: 3994.0041494\ttest: 8796.7774692\tbest: 8796.7774692 (429)\ttotal: 27m 44s\tremaining: 36m 46s\n",
      "430:\tlearn: 3992.9904135\ttest: 8798.2891779\tbest: 8796.7774692 (429)\ttotal: 27m 47s\tremaining: 36m 41s\n",
      "431:\tlearn: 3991.9459080\ttest: 8800.2912675\tbest: 8796.7774692 (429)\ttotal: 27m 51s\tremaining: 36m 37s\n",
      "432:\tlearn: 3991.3825692\ttest: 8801.9499496\tbest: 8796.7774692 (429)\ttotal: 27m 54s\tremaining: 36m 33s\n",
      "433:\tlearn: 3990.5607988\ttest: 8801.0253869\tbest: 8796.7774692 (429)\ttotal: 27m 58s\tremaining: 36m 29s\n",
      "434:\tlearn: 3990.0899257\ttest: 8801.0011926\tbest: 8796.7774692 (429)\ttotal: 28m 2s\tremaining: 36m 24s\n",
      "435:\tlearn: 3989.3187257\ttest: 8800.1828690\tbest: 8796.7774692 (429)\ttotal: 28m 6s\tremaining: 36m 21s\n",
      "436:\tlearn: 3988.5094391\ttest: 8800.1309181\tbest: 8796.7774692 (429)\ttotal: 28m 10s\tremaining: 36m 17s\n",
      "437:\tlearn: 3988.2031879\ttest: 8799.9512143\tbest: 8796.7774692 (429)\ttotal: 28m 13s\tremaining: 36m 13s\n",
      "438:\tlearn: 3987.6323202\ttest: 8799.4940120\tbest: 8796.7774692 (429)\ttotal: 28m 17s\tremaining: 36m 8s\n",
      "439:\tlearn: 3987.2156930\ttest: 8799.7122867\tbest: 8796.7774692 (429)\ttotal: 28m 20s\tremaining: 36m 4s\n",
      "440:\tlearn: 3986.6338839\ttest: 8803.9962743\tbest: 8796.7774692 (429)\ttotal: 28m 24s\tremaining: 36m\n",
      "441:\tlearn: 3986.1423068\ttest: 8803.5237183\tbest: 8796.7774692 (429)\ttotal: 28m 28s\tremaining: 35m 56s\n",
      "442:\tlearn: 3985.7046482\ttest: 8803.7288399\tbest: 8796.7774692 (429)\ttotal: 28m 31s\tremaining: 35m 52s\n",
      "443:\tlearn: 3985.2085242\ttest: 8803.6938524\tbest: 8796.7774692 (429)\ttotal: 28m 35s\tremaining: 35m 48s\n",
      "444:\tlearn: 3984.4282693\ttest: 8803.8452982\tbest: 8796.7774692 (429)\ttotal: 28m 39s\tremaining: 35m 44s\n",
      "445:\tlearn: 3983.5343242\ttest: 8814.6994124\tbest: 8796.7774692 (429)\ttotal: 28m 43s\tremaining: 35m 40s\n",
      "446:\tlearn: 3982.8947933\ttest: 8814.3222437\tbest: 8796.7774692 (429)\ttotal: 28m 47s\tremaining: 35m 36s\n",
      "447:\tlearn: 3982.2307377\ttest: 8814.1910379\tbest: 8796.7774692 (429)\ttotal: 28m 50s\tremaining: 35m 32s\n",
      "448:\tlearn: 3981.5930889\ttest: 8815.1624540\tbest: 8796.7774692 (429)\ttotal: 28m 54s\tremaining: 35m 28s\n",
      "449:\tlearn: 3980.8937155\ttest: 8815.4013857\tbest: 8796.7774692 (429)\ttotal: 28m 58s\tremaining: 35m 24s\n",
      "450:\tlearn: 3980.4098899\ttest: 8813.9649768\tbest: 8796.7774692 (429)\ttotal: 29m 1s\tremaining: 35m 20s\n",
      "451:\tlearn: 3979.7915772\ttest: 8813.9915399\tbest: 8796.7774692 (429)\ttotal: 29m 5s\tremaining: 35m 16s\n",
      "452:\tlearn: 3979.0680510\ttest: 8815.5978727\tbest: 8796.7774692 (429)\ttotal: 29m 9s\tremaining: 35m 12s\n",
      "453:\tlearn: 3978.4661223\ttest: 8803.4789152\tbest: 8796.7774692 (429)\ttotal: 29m 12s\tremaining: 35m 7s\n",
      "454:\tlearn: 3978.0614686\ttest: 8803.2877464\tbest: 8796.7774692 (429)\ttotal: 29m 15s\tremaining: 35m 3s\n",
      "455:\tlearn: 3977.4948176\ttest: 8801.8423298\tbest: 8796.7774692 (429)\ttotal: 29m 19s\tremaining: 34m 59s\n",
      "456:\tlearn: 3976.8866776\ttest: 8801.9429353\tbest: 8796.7774692 (429)\ttotal: 29m 23s\tremaining: 34m 54s\n",
      "457:\tlearn: 3976.1831121\ttest: 8802.5301928\tbest: 8796.7774692 (429)\ttotal: 29m 27s\tremaining: 34m 51s\n",
      "458:\tlearn: 3975.5844664\ttest: 8802.6830656\tbest: 8796.7774692 (429)\ttotal: 29m 31s\tremaining: 34m 48s\n",
      "459:\tlearn: 3975.0547365\ttest: 8802.3121570\tbest: 8796.7774692 (429)\ttotal: 29m 34s\tremaining: 34m 43s\n",
      "460:\tlearn: 3973.8319557\ttest: 8802.2297580\tbest: 8796.7774692 (429)\ttotal: 29m 38s\tremaining: 34m 39s\n",
      "461:\tlearn: 3972.3810260\ttest: 8801.1268813\tbest: 8796.7774692 (429)\ttotal: 29m 42s\tremaining: 34m 35s\n",
      "462:\tlearn: 3971.9844334\ttest: 8801.2709607\tbest: 8796.7774692 (429)\ttotal: 29m 46s\tremaining: 34m 31s\n",
      "463:\tlearn: 3970.9399048\ttest: 8801.8161890\tbest: 8796.7774692 (429)\ttotal: 29m 49s\tremaining: 34m 27s\n",
      "464:\tlearn: 3970.3007448\ttest: 8803.5554807\tbest: 8796.7774692 (429)\ttotal: 29m 53s\tremaining: 34m 23s\n",
      "465:\tlearn: 3969.8864038\ttest: 8803.4680446\tbest: 8796.7774692 (429)\ttotal: 29m 57s\tremaining: 34m 19s\n",
      "466:\tlearn: 3969.4223831\ttest: 8803.0646425\tbest: 8796.7774692 (429)\ttotal: 30m\tremaining: 34m 15s\n",
      "467:\tlearn: 3968.9109556\ttest: 8802.4603807\tbest: 8796.7774692 (429)\ttotal: 30m 4s\tremaining: 34m 11s\n",
      "468:\tlearn: 3968.6056527\ttest: 8802.1804617\tbest: 8796.7774692 (429)\ttotal: 30m 8s\tremaining: 34m 7s\n",
      "469:\tlearn: 3968.0111008\ttest: 8802.7229855\tbest: 8796.7774692 (429)\ttotal: 30m 11s\tremaining: 34m 2s\n",
      "470:\tlearn: 3967.4458680\ttest: 8801.0795099\tbest: 8796.7774692 (429)\ttotal: 30m 15s\tremaining: 33m 58s\n",
      "471:\tlearn: 3966.4879532\ttest: 8800.9303736\tbest: 8796.7774692 (429)\ttotal: 30m 19s\tremaining: 33m 54s\n",
      "472:\tlearn: 3966.1148344\ttest: 8800.9895030\tbest: 8796.7774692 (429)\ttotal: 30m 22s\tremaining: 33m 50s\n",
      "473:\tlearn: 3965.6270526\ttest: 8800.8857921\tbest: 8796.7774692 (429)\ttotal: 30m 26s\tremaining: 33m 46s\n",
      "474:\tlearn: 3965.1140273\ttest: 8801.2405943\tbest: 8796.7774692 (429)\ttotal: 30m 30s\tremaining: 33m 42s\n",
      "475:\tlearn: 3964.7347235\ttest: 8802.0328417\tbest: 8796.7774692 (429)\ttotal: 30m 33s\tremaining: 33m 38s\n",
      "476:\tlearn: 3964.1963359\ttest: 8801.9680434\tbest: 8796.7774692 (429)\ttotal: 30m 37s\tremaining: 33m 34s\n",
      "477:\tlearn: 3963.4186749\ttest: 8795.9589428\tbest: 8795.9589428 (477)\ttotal: 30m 40s\tremaining: 33m 30s\n",
      "478:\tlearn: 3963.0346109\ttest: 8795.6005014\tbest: 8795.6005014 (478)\ttotal: 30m 44s\tremaining: 33m 26s\n",
      "479:\tlearn: 3962.3054408\ttest: 8795.7441765\tbest: 8795.6005014 (478)\ttotal: 30m 48s\tremaining: 33m 22s\n",
      "480:\tlearn: 3961.9884944\ttest: 8792.8605602\tbest: 8792.8605602 (480)\ttotal: 30m 51s\tremaining: 33m 17s\n",
      "481:\tlearn: 3960.7941791\ttest: 8772.5190151\tbest: 8772.5190151 (481)\ttotal: 30m 55s\tremaining: 33m 13s\n",
      "482:\tlearn: 3960.4640513\ttest: 8772.3708242\tbest: 8772.3708242 (482)\ttotal: 30m 58s\tremaining: 33m 9s\n"
     ]
    },
    {
     "name": "stdout",
     "output_type": "stream",
     "text": [
      "483:\tlearn: 3959.7599663\ttest: 8771.9213448\tbest: 8771.9213448 (483)\ttotal: 31m 2s\tremaining: 33m 5s\n",
      "484:\tlearn: 3959.2377122\ttest: 8771.2422057\tbest: 8771.2422057 (484)\ttotal: 31m 5s\tremaining: 33m 1s\n",
      "485:\tlearn: 3958.7757842\ttest: 8770.9874158\tbest: 8770.9874158 (485)\ttotal: 31m 9s\tremaining: 32m 57s\n",
      "486:\tlearn: 3958.2182454\ttest: 8771.1700888\tbest: 8770.9874158 (485)\ttotal: 31m 13s\tremaining: 32m 53s\n",
      "487:\tlearn: 3957.6950901\ttest: 8771.1038277\tbest: 8770.9874158 (485)\ttotal: 31m 16s\tremaining: 32m 49s\n",
      "488:\tlearn: 3956.8370636\ttest: 8770.4941382\tbest: 8770.4941382 (488)\ttotal: 31m 20s\tremaining: 32m 45s\n",
      "489:\tlearn: 3956.4402841\ttest: 8770.4149961\tbest: 8770.4149961 (489)\ttotal: 31m 24s\tremaining: 32m 41s\n",
      "490:\tlearn: 3954.7082137\ttest: 8766.2475383\tbest: 8766.2475383 (490)\ttotal: 31m 28s\tremaining: 32m 37s\n",
      "491:\tlearn: 3954.1409799\ttest: 8766.7105449\tbest: 8766.2475383 (490)\ttotal: 31m 31s\tremaining: 32m 33s\n",
      "492:\tlearn: 3953.0210057\ttest: 8766.3847587\tbest: 8766.2475383 (490)\ttotal: 31m 35s\tremaining: 32m 29s\n",
      "493:\tlearn: 3952.6734398\ttest: 8765.9096146\tbest: 8765.9096146 (493)\ttotal: 31m 39s\tremaining: 32m 25s\n",
      "494:\tlearn: 3951.0375548\ttest: 8767.1903268\tbest: 8765.9096146 (493)\ttotal: 31m 42s\tremaining: 32m 21s\n",
      "495:\tlearn: 3950.4961651\ttest: 8765.7815128\tbest: 8765.7815128 (495)\ttotal: 31m 46s\tremaining: 32m 17s\n",
      "496:\tlearn: 3949.9899086\ttest: 8765.7278172\tbest: 8765.7278172 (496)\ttotal: 31m 49s\tremaining: 32m 12s\n",
      "497:\tlearn: 3949.4680714\ttest: 8765.7246552\tbest: 8765.7246552 (497)\ttotal: 31m 53s\tremaining: 32m 9s\n",
      "498:\tlearn: 3948.9493807\ttest: 8767.0233377\tbest: 8765.7246552 (497)\ttotal: 31m 57s\tremaining: 32m 5s\n",
      "499:\tlearn: 3948.0703421\ttest: 8766.9499654\tbest: 8765.7246552 (497)\ttotal: 32m\tremaining: 32m\n",
      "500:\tlearn: 3947.6488599\ttest: 8766.7373059\tbest: 8765.7246552 (497)\ttotal: 32m 4s\tremaining: 31m 56s\n",
      "501:\tlearn: 3946.9897328\ttest: 8764.7894180\tbest: 8764.7894180 (501)\ttotal: 32m 7s\tremaining: 31m 52s\n",
      "502:\tlearn: 3946.4417788\ttest: 8763.7992890\tbest: 8763.7992890 (502)\ttotal: 32m 11s\tremaining: 31m 48s\n",
      "503:\tlearn: 3946.1395817\ttest: 8764.7013412\tbest: 8763.7992890 (502)\ttotal: 32m 15s\tremaining: 31m 44s\n",
      "504:\tlearn: 3945.6559417\ttest: 8785.2539768\tbest: 8763.7992890 (502)\ttotal: 32m 18s\tremaining: 31m 40s\n",
      "505:\tlearn: 3944.8365731\ttest: 8786.1318001\tbest: 8763.7992890 (502)\ttotal: 32m 22s\tremaining: 31m 36s\n",
      "506:\tlearn: 3944.4653345\ttest: 8786.3766816\tbest: 8763.7992890 (502)\ttotal: 32m 26s\tremaining: 31m 32s\n",
      "507:\tlearn: 3944.0968424\ttest: 8785.6507132\tbest: 8763.7992890 (502)\ttotal: 32m 29s\tremaining: 31m 28s\n",
      "508:\tlearn: 3943.6139165\ttest: 8786.1263107\tbest: 8763.7992890 (502)\ttotal: 32m 33s\tremaining: 31m 24s\n",
      "509:\tlearn: 3943.1531887\ttest: 8785.8518300\tbest: 8763.7992890 (502)\ttotal: 32m 37s\tremaining: 31m 20s\n",
      "510:\tlearn: 3941.7435089\ttest: 8786.8887841\tbest: 8763.7992890 (502)\ttotal: 32m 41s\tremaining: 31m 16s\n",
      "511:\tlearn: 3941.3608522\ttest: 8787.3408736\tbest: 8763.7992890 (502)\ttotal: 32m 44s\tremaining: 31m 12s\n",
      "512:\tlearn: 3940.0567910\ttest: 8788.9597053\tbest: 8763.7992890 (502)\ttotal: 32m 48s\tremaining: 31m 9s\n",
      "513:\tlearn: 3939.6237926\ttest: 8791.2459384\tbest: 8763.7992890 (502)\ttotal: 32m 52s\tremaining: 31m 4s\n",
      "514:\tlearn: 3939.2328090\ttest: 8791.1610465\tbest: 8763.7992890 (502)\ttotal: 32m 55s\tremaining: 31m\n",
      "515:\tlearn: 3938.6076497\ttest: 8793.0222181\tbest: 8763.7992890 (502)\ttotal: 32m 59s\tremaining: 30m 56s\n",
      "516:\tlearn: 3938.2114131\ttest: 8791.1480613\tbest: 8763.7992890 (502)\ttotal: 33m 3s\tremaining: 30m 52s\n",
      "517:\tlearn: 3937.6259989\ttest: 8790.7099714\tbest: 8763.7992890 (502)\ttotal: 33m 6s\tremaining: 30m 48s\n",
      "518:\tlearn: 3936.7488403\ttest: 8790.7730344\tbest: 8763.7992890 (502)\ttotal: 33m 10s\tremaining: 30m 44s\n",
      "519:\tlearn: 3936.4164189\ttest: 8791.1003669\tbest: 8763.7992890 (502)\ttotal: 33m 14s\tremaining: 30m 41s\n",
      "520:\tlearn: 3935.8929550\ttest: 8790.9697749\tbest: 8763.7992890 (502)\ttotal: 33m 18s\tremaining: 30m 37s\n",
      "521:\tlearn: 3935.5954488\ttest: 8790.7143158\tbest: 8763.7992890 (502)\ttotal: 33m 21s\tremaining: 30m 32s\n",
      "522:\tlearn: 3935.2006578\ttest: 8792.9152125\tbest: 8763.7992890 (502)\ttotal: 33m 25s\tremaining: 30m 28s\n",
      "523:\tlearn: 3934.8776111\ttest: 8793.0063844\tbest: 8763.7992890 (502)\ttotal: 33m 28s\tremaining: 30m 24s\n",
      "524:\tlearn: 3934.2877776\ttest: 8793.0801893\tbest: 8763.7992890 (502)\ttotal: 33m 32s\tremaining: 30m 21s\n",
      "525:\tlearn: 3933.8606278\ttest: 8792.9366162\tbest: 8763.7992890 (502)\ttotal: 33m 36s\tremaining: 30m 17s\n",
      "526:\tlearn: 3933.4803424\ttest: 8793.9398854\tbest: 8763.7992890 (502)\ttotal: 33m 40s\tremaining: 30m 13s\n",
      "527:\tlearn: 3933.1029235\ttest: 8793.8796720\tbest: 8763.7992890 (502)\ttotal: 33m 44s\tremaining: 30m 9s\n",
      "528:\tlearn: 3932.7600186\ttest: 8793.1994788\tbest: 8763.7992890 (502)\ttotal: 33m 47s\tremaining: 30m 5s\n",
      "529:\tlearn: 3932.0657197\ttest: 8792.5791030\tbest: 8763.7992890 (502)\ttotal: 33m 50s\tremaining: 30m 1s\n",
      "530:\tlearn: 3931.5931108\ttest: 8794.9628148\tbest: 8763.7992890 (502)\ttotal: 33m 54s\tremaining: 29m 56s\n",
      "531:\tlearn: 3931.1569889\ttest: 8795.9083330\tbest: 8763.7992890 (502)\ttotal: 33m 58s\tremaining: 29m 52s\n",
      "532:\tlearn: 3930.4249774\ttest: 8795.6516055\tbest: 8763.7992890 (502)\ttotal: 34m 1s\tremaining: 29m 48s\n",
      "533:\tlearn: 3930.1328218\ttest: 8795.3064778\tbest: 8763.7992890 (502)\ttotal: 34m 4s\tremaining: 29m 44s\n",
      "534:\tlearn: 3929.7492543\ttest: 8795.2765471\tbest: 8763.7992890 (502)\ttotal: 34m 8s\tremaining: 29m 40s\n",
      "535:\tlearn: 3929.3343192\ttest: 8794.9814728\tbest: 8763.7992890 (502)\ttotal: 34m 12s\tremaining: 29m 36s\n",
      "536:\tlearn: 3928.7851638\ttest: 8795.3158186\tbest: 8763.7992890 (502)\ttotal: 34m 16s\tremaining: 29m 32s\n",
      "537:\tlearn: 3928.3330810\ttest: 8794.9127706\tbest: 8763.7992890 (502)\ttotal: 34m 19s\tremaining: 29m 28s\n",
      "538:\tlearn: 3927.9524511\ttest: 8795.4048083\tbest: 8763.7992890 (502)\ttotal: 34m 23s\tremaining: 29m 24s\n",
      "539:\tlearn: 3927.5723321\ttest: 8795.4392610\tbest: 8763.7992890 (502)\ttotal: 34m 27s\tremaining: 29m 20s\n",
      "540:\tlearn: 3926.7365085\ttest: 8796.2374808\tbest: 8763.7992890 (502)\ttotal: 34m 30s\tremaining: 29m 17s\n",
      "541:\tlearn: 3926.1941344\ttest: 8796.1280584\tbest: 8763.7992890 (502)\ttotal: 34m 34s\tremaining: 29m 13s\n",
      "542:\tlearn: 3925.5920559\ttest: 8798.8976173\tbest: 8763.7992890 (502)\ttotal: 34m 38s\tremaining: 29m 9s\n",
      "543:\tlearn: 3925.2280451\ttest: 8799.6103879\tbest: 8763.7992890 (502)\ttotal: 34m 42s\tremaining: 29m 5s\n",
      "544:\tlearn: 3925.0377621\ttest: 8798.7018780\tbest: 8763.7992890 (502)\ttotal: 34m 46s\tremaining: 29m 1s\n",
      "545:\tlearn: 3924.6246242\ttest: 8798.0908217\tbest: 8763.7992890 (502)\ttotal: 34m 50s\tremaining: 28m 57s\n",
      "546:\tlearn: 3924.3608593\ttest: 8797.5320761\tbest: 8763.7992890 (502)\ttotal: 34m 53s\tremaining: 28m 53s\n",
      "547:\tlearn: 3924.0560509\ttest: 8797.4916811\tbest: 8763.7992890 (502)\ttotal: 34m 57s\tremaining: 28m 50s\n",
      "548:\tlearn: 3923.7662735\ttest: 8797.3774128\tbest: 8763.7992890 (502)\ttotal: 35m 1s\tremaining: 28m 46s\n",
      "549:\tlearn: 3923.3679218\ttest: 8797.6944434\tbest: 8763.7992890 (502)\ttotal: 35m 4s\tremaining: 28m 42s\n",
      "550:\tlearn: 3923.0231378\ttest: 8797.5453878\tbest: 8763.7992890 (502)\ttotal: 35m 8s\tremaining: 28m 38s\n",
      "551:\tlearn: 3922.6487316\ttest: 8797.0217359\tbest: 8763.7992890 (502)\ttotal: 35m 12s\tremaining: 28m 34s\n",
      "552:\tlearn: 3922.1385996\ttest: 8796.6182086\tbest: 8763.7992890 (502)\ttotal: 35m 16s\tremaining: 28m 30s\n",
      "553:\tlearn: 3921.5404674\ttest: 8795.5933294\tbest: 8763.7992890 (502)\ttotal: 35m 19s\tremaining: 28m 26s\n",
      "554:\tlearn: 3921.3503000\ttest: 8795.5607326\tbest: 8763.7992890 (502)\ttotal: 35m 23s\tremaining: 28m 22s\n",
      "555:\tlearn: 3920.9686589\ttest: 8795.1421031\tbest: 8763.7992890 (502)\ttotal: 35m 26s\tremaining: 28m 18s\n",
      "556:\tlearn: 3920.7016226\ttest: 8795.1257585\tbest: 8763.7992890 (502)\ttotal: 35m 30s\tremaining: 28m 14s\n",
      "557:\tlearn: 3920.1052058\ttest: 8794.8195386\tbest: 8763.7992890 (502)\ttotal: 35m 34s\tremaining: 28m 10s\n",
      "558:\tlearn: 3919.7790051\ttest: 8794.9288335\tbest: 8763.7992890 (502)\ttotal: 35m 37s\tremaining: 28m 6s\n",
      "559:\tlearn: 3919.3227916\ttest: 8791.5070808\tbest: 8763.7992890 (502)\ttotal: 35m 40s\tremaining: 28m 2s\n",
      "560:\tlearn: 3918.7907801\ttest: 8790.7990310\tbest: 8763.7992890 (502)\ttotal: 35m 44s\tremaining: 27m 58s\n",
      "561:\tlearn: 3918.3549356\ttest: 8790.5592430\tbest: 8763.7992890 (502)\ttotal: 35m 48s\tremaining: 27m 54s\n",
      "562:\tlearn: 3918.0523133\ttest: 8789.2223685\tbest: 8763.7992890 (502)\ttotal: 35m 52s\tremaining: 27m 50s\n"
     ]
    },
    {
     "name": "stdout",
     "output_type": "stream",
     "text": [
      "563:\tlearn: 3917.1225625\ttest: 8776.3653329\tbest: 8763.7992890 (502)\ttotal: 35m 56s\tremaining: 27m 46s\n",
      "564:\tlearn: 3916.3518069\ttest: 8775.9925728\tbest: 8763.7992890 (502)\ttotal: 35m 59s\tremaining: 27m 42s\n",
      "565:\tlearn: 3916.0722527\ttest: 8775.7083846\tbest: 8763.7992890 (502)\ttotal: 36m 3s\tremaining: 27m 38s\n",
      "566:\tlearn: 3915.6100827\ttest: 8776.7239546\tbest: 8763.7992890 (502)\ttotal: 36m 7s\tremaining: 27m 35s\n",
      "567:\tlearn: 3915.1039460\ttest: 8776.4638025\tbest: 8763.7992890 (502)\ttotal: 36m 10s\tremaining: 27m 31s\n",
      "568:\tlearn: 3914.7353594\ttest: 8776.4539769\tbest: 8763.7992890 (502)\ttotal: 36m 14s\tremaining: 27m 26s\n",
      "569:\tlearn: 3914.5313464\ttest: 8776.2413392\tbest: 8763.7992890 (502)\ttotal: 36m 17s\tremaining: 27m 23s\n",
      "570:\tlearn: 3914.2394285\ttest: 8776.1216280\tbest: 8763.7992890 (502)\ttotal: 36m 21s\tremaining: 27m 19s\n",
      "571:\tlearn: 3913.9603581\ttest: 8777.0251140\tbest: 8763.7992890 (502)\ttotal: 36m 25s\tremaining: 27m 15s\n",
      "572:\tlearn: 3913.6669871\ttest: 8777.1941167\tbest: 8763.7992890 (502)\ttotal: 36m 29s\tremaining: 27m 11s\n",
      "573:\tlearn: 3913.3183111\ttest: 8776.8453760\tbest: 8763.7992890 (502)\ttotal: 36m 32s\tremaining: 27m 7s\n",
      "574:\tlearn: 3912.9088385\ttest: 8776.8662546\tbest: 8763.7992890 (502)\ttotal: 36m 36s\tremaining: 27m 3s\n",
      "575:\tlearn: 3912.3346893\ttest: 8775.9620575\tbest: 8763.7992890 (502)\ttotal: 36m 40s\tremaining: 27m\n",
      "576:\tlearn: 3912.0104070\ttest: 8775.8969045\tbest: 8763.7992890 (502)\ttotal: 36m 44s\tremaining: 26m 56s\n",
      "577:\tlearn: 3911.6385806\ttest: 8775.8388078\tbest: 8763.7992890 (502)\ttotal: 36m 48s\tremaining: 26m 52s\n",
      "578:\tlearn: 3911.2563796\ttest: 8775.3641883\tbest: 8763.7992890 (502)\ttotal: 36m 52s\tremaining: 26m 48s\n",
      "579:\tlearn: 3910.8577154\ttest: 8775.3368150\tbest: 8763.7992890 (502)\ttotal: 36m 56s\tremaining: 26m 44s\n",
      "580:\tlearn: 3910.3148836\ttest: 8774.9026576\tbest: 8763.7992890 (502)\ttotal: 36m 59s\tremaining: 26m 40s\n",
      "581:\tlearn: 3909.9521225\ttest: 8774.5485515\tbest: 8763.7992890 (502)\ttotal: 37m 3s\tremaining: 26m 36s\n",
      "582:\tlearn: 3909.4759699\ttest: 8774.6550284\tbest: 8763.7992890 (502)\ttotal: 37m 7s\tremaining: 26m 33s\n",
      "583:\tlearn: 3909.1490122\ttest: 8774.6600321\tbest: 8763.7992890 (502)\ttotal: 37m 10s\tremaining: 26m 29s\n",
      "584:\tlearn: 3908.9016034\ttest: 8774.7294012\tbest: 8763.7992890 (502)\ttotal: 37m 14s\tremaining: 26m 25s\n",
      "585:\tlearn: 3908.6867626\ttest: 8774.7212987\tbest: 8763.7992890 (502)\ttotal: 37m 18s\tremaining: 26m 21s\n",
      "586:\tlearn: 3908.3595946\ttest: 8774.5319125\tbest: 8763.7992890 (502)\ttotal: 37m 21s\tremaining: 26m 17s\n",
      "587:\tlearn: 3908.0191567\ttest: 8774.0400927\tbest: 8763.7992890 (502)\ttotal: 37m 25s\tremaining: 26m 13s\n",
      "588:\tlearn: 3907.3694903\ttest: 8773.0298230\tbest: 8763.7992890 (502)\ttotal: 37m 29s\tremaining: 26m 9s\n",
      "589:\tlearn: 3906.9023284\ttest: 8772.6582321\tbest: 8763.7992890 (502)\ttotal: 37m 33s\tremaining: 26m 5s\n",
      "590:\tlearn: 3906.3784266\ttest: 8771.9867932\tbest: 8763.7992890 (502)\ttotal: 37m 36s\tremaining: 26m 1s\n",
      "591:\tlearn: 3905.5219758\ttest: 8771.7999827\tbest: 8763.7992890 (502)\ttotal: 37m 40s\tremaining: 25m 57s\n",
      "592:\tlearn: 3905.2393572\ttest: 8771.6879735\tbest: 8763.7992890 (502)\ttotal: 37m 44s\tremaining: 25m 53s\n",
      "593:\tlearn: 3904.8650084\ttest: 8771.5984808\tbest: 8763.7992890 (502)\ttotal: 37m 48s\tremaining: 25m 50s\n",
      "594:\tlearn: 3904.5765767\ttest: 8771.2321570\tbest: 8763.7992890 (502)\ttotal: 37m 51s\tremaining: 25m 46s\n",
      "595:\tlearn: 3903.9827646\ttest: 8771.7135045\tbest: 8763.7992890 (502)\ttotal: 37m 55s\tremaining: 25m 42s\n",
      "596:\tlearn: 3903.6213974\ttest: 8772.1432861\tbest: 8763.7992890 (502)\ttotal: 37m 59s\tremaining: 25m 38s\n",
      "597:\tlearn: 3903.2806831\ttest: 8771.7755374\tbest: 8763.7992890 (502)\ttotal: 38m 2s\tremaining: 25m 34s\n",
      "598:\tlearn: 3902.9849815\ttest: 8772.1053665\tbest: 8763.7992890 (502)\ttotal: 38m 6s\tremaining: 25m 30s\n",
      "599:\tlearn: 3902.7614753\ttest: 8772.1192049\tbest: 8763.7992890 (502)\ttotal: 38m 10s\tremaining: 25m 26s\n",
      "600:\tlearn: 3902.2705334\ttest: 8773.6969639\tbest: 8763.7992890 (502)\ttotal: 38m 13s\tremaining: 25m 22s\n",
      "601:\tlearn: 3901.7219787\ttest: 8773.6704306\tbest: 8763.7992890 (502)\ttotal: 38m 17s\tremaining: 25m 19s\n",
      "602:\tlearn: 3901.5077685\ttest: 8773.6266551\tbest: 8763.7992890 (502)\ttotal: 38m 21s\tremaining: 25m 15s\n",
      "603:\tlearn: 3901.1463248\ttest: 8773.6035743\tbest: 8763.7992890 (502)\ttotal: 38m 25s\tremaining: 25m 11s\n",
      "604:\tlearn: 3900.7366375\ttest: 8773.6056266\tbest: 8763.7992890 (502)\ttotal: 38m 28s\tremaining: 25m 7s\n",
      "605:\tlearn: 3900.3216407\ttest: 8773.3309680\tbest: 8763.7992890 (502)\ttotal: 38m 32s\tremaining: 25m 3s\n",
      "606:\tlearn: 3900.0627588\ttest: 8773.0347778\tbest: 8763.7992890 (502)\ttotal: 38m 35s\tremaining: 24m 59s\n",
      "607:\tlearn: 3899.5263173\ttest: 8774.3926698\tbest: 8763.7992890 (502)\ttotal: 38m 39s\tremaining: 24m 55s\n",
      "608:\tlearn: 3898.6204114\ttest: 8774.1264021\tbest: 8763.7992890 (502)\ttotal: 38m 43s\tremaining: 24m 51s\n",
      "609:\tlearn: 3898.1862184\ttest: 8774.1427088\tbest: 8763.7992890 (502)\ttotal: 38m 46s\tremaining: 24m 47s\n",
      "610:\tlearn: 3897.7850269\ttest: 8774.2806704\tbest: 8763.7992890 (502)\ttotal: 38m 50s\tremaining: 24m 43s\n",
      "611:\tlearn: 3896.9608839\ttest: 8773.2771264\tbest: 8763.7992890 (502)\ttotal: 38m 54s\tremaining: 24m 39s\n",
      "612:\tlearn: 3896.6192662\ttest: 8771.9055582\tbest: 8763.7992890 (502)\ttotal: 38m 58s\tremaining: 24m 36s\n",
      "613:\tlearn: 3896.1996976\ttest: 8771.9157917\tbest: 8763.7992890 (502)\ttotal: 39m 2s\tremaining: 24m 32s\n",
      "614:\tlearn: 3895.8526722\ttest: 8771.2570897\tbest: 8763.7992890 (502)\ttotal: 39m 5s\tremaining: 24m 28s\n",
      "615:\tlearn: 3895.1540844\ttest: 8767.1170133\tbest: 8763.7992890 (502)\ttotal: 39m 9s\tremaining: 24m 24s\n",
      "616:\tlearn: 3894.8647862\ttest: 8767.1120244\tbest: 8763.7992890 (502)\ttotal: 39m 13s\tremaining: 24m 20s\n",
      "617:\tlearn: 3894.3223565\ttest: 8766.9556480\tbest: 8763.7992890 (502)\ttotal: 39m 17s\tremaining: 24m 16s\n",
      "618:\tlearn: 3894.0457195\ttest: 8767.0158948\tbest: 8763.7992890 (502)\ttotal: 39m 20s\tremaining: 24m 13s\n",
      "619:\tlearn: 3893.7729756\ttest: 8766.8989203\tbest: 8763.7992890 (502)\ttotal: 39m 24s\tremaining: 24m 9s\n",
      "620:\tlearn: 3893.4335897\ttest: 8766.5384270\tbest: 8763.7992890 (502)\ttotal: 39m 27s\tremaining: 24m 5s\n",
      "621:\tlearn: 3893.1745611\ttest: 8766.1609021\tbest: 8763.7992890 (502)\ttotal: 39m 31s\tremaining: 24m 1s\n",
      "622:\tlearn: 3892.8231456\ttest: 8766.3237507\tbest: 8763.7992890 (502)\ttotal: 39m 35s\tremaining: 23m 57s\n",
      "623:\tlearn: 3892.4562742\ttest: 8762.9335305\tbest: 8762.9335305 (623)\ttotal: 39m 38s\tremaining: 23m 53s\n",
      "624:\tlearn: 3891.5252403\ttest: 8762.9315525\tbest: 8762.9315525 (624)\ttotal: 39m 42s\tremaining: 23m 49s\n",
      "625:\tlearn: 3891.2528607\ttest: 8763.1451509\tbest: 8762.9315525 (624)\ttotal: 39m 46s\tremaining: 23m 45s\n",
      "626:\tlearn: 3890.9239250\ttest: 8762.2351580\tbest: 8762.2351580 (626)\ttotal: 39m 50s\tremaining: 23m 41s\n",
      "627:\tlearn: 3890.5650252\ttest: 8761.8859637\tbest: 8761.8859637 (627)\ttotal: 39m 54s\tremaining: 23m 38s\n",
      "628:\tlearn: 3889.8797905\ttest: 8762.8047441\tbest: 8761.8859637 (627)\ttotal: 39m 57s\tremaining: 23m 34s\n",
      "629:\tlearn: 3889.0484986\ttest: 8762.3928312\tbest: 8761.8859637 (627)\ttotal: 40m 1s\tremaining: 23m 30s\n",
      "630:\tlearn: 3888.8463113\ttest: 8762.4562651\tbest: 8761.8859637 (627)\ttotal: 40m 4s\tremaining: 23m 26s\n",
      "631:\tlearn: 3888.5968157\ttest: 8762.6914347\tbest: 8761.8859637 (627)\ttotal: 40m 7s\tremaining: 23m 22s\n",
      "632:\tlearn: 3888.0250884\ttest: 8763.8961873\tbest: 8761.8859637 (627)\ttotal: 40m 11s\tremaining: 23m 18s\n",
      "633:\tlearn: 3887.3895511\ttest: 8757.1510872\tbest: 8757.1510872 (633)\ttotal: 40m 15s\tremaining: 23m 14s\n",
      "634:\tlearn: 3887.2332010\ttest: 8757.0614444\tbest: 8757.0614444 (634)\ttotal: 40m 19s\tremaining: 23m 10s\n",
      "635:\tlearn: 3886.5794539\ttest: 8757.2530638\tbest: 8757.0614444 (634)\ttotal: 40m 22s\tremaining: 23m 6s\n",
      "636:\tlearn: 3886.3216285\ttest: 8756.9048038\tbest: 8756.9048038 (636)\ttotal: 40m 26s\tremaining: 23m 2s\n",
      "637:\tlearn: 3886.0139781\ttest: 8757.4344613\tbest: 8756.9048038 (636)\ttotal: 40m 30s\tremaining: 22m 59s\n",
      "638:\tlearn: 3885.6422088\ttest: 8756.3382607\tbest: 8756.3382607 (638)\ttotal: 40m 33s\tremaining: 22m 54s\n",
      "639:\tlearn: 3885.3455717\ttest: 8756.1906279\tbest: 8756.1906279 (639)\ttotal: 40m 37s\tremaining: 22m 50s\n",
      "640:\tlearn: 3884.5189483\ttest: 8756.7472754\tbest: 8756.1906279 (639)\ttotal: 40m 41s\tremaining: 22m 47s\n",
      "641:\tlearn: 3883.9022975\ttest: 8756.7431162\tbest: 8756.1906279 (639)\ttotal: 40m 44s\tremaining: 22m 43s\n",
      "642:\tlearn: 3882.5004803\ttest: 8750.9602212\tbest: 8750.9602212 (642)\ttotal: 40m 48s\tremaining: 22m 39s\n"
     ]
    },
    {
     "name": "stdout",
     "output_type": "stream",
     "text": [
      "643:\tlearn: 3882.1920279\ttest: 8750.2932757\tbest: 8750.2932757 (643)\ttotal: 40m 52s\tremaining: 22m 35s\n",
      "644:\tlearn: 3881.9706348\ttest: 8750.1640569\tbest: 8750.1640569 (644)\ttotal: 40m 55s\tremaining: 22m 31s\n",
      "645:\tlearn: 3881.4521269\ttest: 8749.6385334\tbest: 8749.6385334 (645)\ttotal: 40m 59s\tremaining: 22m 27s\n",
      "646:\tlearn: 3881.2971580\ttest: 8749.5339488\tbest: 8749.5339488 (646)\ttotal: 41m 3s\tremaining: 22m 23s\n",
      "647:\tlearn: 3880.9910868\ttest: 8749.7436223\tbest: 8749.5339488 (646)\ttotal: 41m 6s\tremaining: 22m 20s\n",
      "648:\tlearn: 3880.6677633\ttest: 8750.6592518\tbest: 8749.5339488 (646)\ttotal: 41m 10s\tremaining: 22m 16s\n",
      "649:\tlearn: 3880.5101537\ttest: 8750.5580134\tbest: 8749.5339488 (646)\ttotal: 41m 14s\tremaining: 22m 12s\n",
      "650:\tlearn: 3880.2007551\ttest: 8749.2102870\tbest: 8749.2102870 (650)\ttotal: 41m 17s\tremaining: 22m 8s\n",
      "651:\tlearn: 3879.8751254\ttest: 8748.8474403\tbest: 8748.8474403 (651)\ttotal: 41m 21s\tremaining: 22m 4s\n",
      "652:\tlearn: 3879.4091530\ttest: 8748.7227372\tbest: 8748.7227372 (652)\ttotal: 41m 26s\tremaining: 22m 1s\n",
      "653:\tlearn: 3879.0445907\ttest: 8748.4196690\tbest: 8748.4196690 (653)\ttotal: 41m 30s\tremaining: 21m 57s\n",
      "654:\tlearn: 3878.7361402\ttest: 8748.1999384\tbest: 8748.1999384 (654)\ttotal: 41m 34s\tremaining: 21m 53s\n",
      "655:\tlearn: 3878.5078352\ttest: 8748.3643529\tbest: 8748.1999384 (654)\ttotal: 41m 38s\tremaining: 21m 50s\n",
      "656:\tlearn: 3878.1731964\ttest: 8748.3124652\tbest: 8748.1999384 (654)\ttotal: 41m 42s\tremaining: 21m 46s\n",
      "657:\tlearn: 3877.5170305\ttest: 8748.3031155\tbest: 8748.1999384 (654)\ttotal: 41m 47s\tremaining: 21m 43s\n",
      "658:\tlearn: 3877.3909347\ttest: 8748.2857170\tbest: 8748.1999384 (654)\ttotal: 41m 50s\tremaining: 21m 39s\n",
      "659:\tlearn: 3876.9863063\ttest: 8747.7040759\tbest: 8747.7040759 (659)\ttotal: 41m 54s\tremaining: 21m 35s\n",
      "660:\tlearn: 3876.8727446\ttest: 8747.6297951\tbest: 8747.6297951 (660)\ttotal: 41m 58s\tremaining: 21m 31s\n",
      "661:\tlearn: 3876.5724025\ttest: 8747.5753977\tbest: 8747.5753977 (661)\ttotal: 42m 2s\tremaining: 21m 27s\n",
      "662:\tlearn: 3876.3225770\ttest: 8746.6898509\tbest: 8746.6898509 (662)\ttotal: 42m 6s\tremaining: 21m 24s\n",
      "663:\tlearn: 3876.0324988\ttest: 8746.7364462\tbest: 8746.6898509 (662)\ttotal: 42m 10s\tremaining: 21m 20s\n",
      "664:\tlearn: 3875.6668990\ttest: 8746.7889534\tbest: 8746.6898509 (662)\ttotal: 42m 14s\tremaining: 21m 16s\n",
      "665:\tlearn: 3875.3803738\ttest: 8746.9691111\tbest: 8746.6898509 (662)\ttotal: 42m 18s\tremaining: 21m 12s\n",
      "666:\tlearn: 3875.0327077\ttest: 8747.3616494\tbest: 8746.6898509 (662)\ttotal: 42m 21s\tremaining: 21m 9s\n",
      "667:\tlearn: 3874.8048718\ttest: 8747.4391425\tbest: 8746.6898509 (662)\ttotal: 42m 25s\tremaining: 21m 5s\n",
      "668:\tlearn: 3874.4192572\ttest: 8747.2662819\tbest: 8746.6898509 (662)\ttotal: 42m 29s\tremaining: 21m 1s\n",
      "669:\tlearn: 3874.2658691\ttest: 8747.0830753\tbest: 8746.6898509 (662)\ttotal: 42m 33s\tremaining: 20m 57s\n",
      "670:\tlearn: 3873.8117049\ttest: 8745.5141333\tbest: 8745.5141333 (670)\ttotal: 42m 36s\tremaining: 20m 53s\n",
      "671:\tlearn: 3873.5529651\ttest: 8745.3356393\tbest: 8745.3356393 (671)\ttotal: 42m 40s\tremaining: 20m 49s\n",
      "672:\tlearn: 3873.0141491\ttest: 8745.6145279\tbest: 8745.3356393 (671)\ttotal: 42m 44s\tremaining: 20m 45s\n",
      "673:\tlearn: 3872.6195944\ttest: 8745.7114193\tbest: 8745.3356393 (671)\ttotal: 42m 47s\tremaining: 20m 42s\n",
      "674:\tlearn: 3872.1835220\ttest: 8744.9433754\tbest: 8744.9433754 (674)\ttotal: 42m 51s\tremaining: 20m 38s\n",
      "675:\tlearn: 3871.7462551\ttest: 8743.5577887\tbest: 8743.5577887 (675)\ttotal: 42m 55s\tremaining: 20m 34s\n",
      "676:\tlearn: 3871.4610874\ttest: 8741.6349543\tbest: 8741.6349543 (676)\ttotal: 42m 58s\tremaining: 20m 30s\n",
      "677:\tlearn: 3870.9522026\ttest: 8743.4036441\tbest: 8741.6349543 (676)\ttotal: 43m 2s\tremaining: 20m 26s\n",
      "678:\tlearn: 3870.7799703\ttest: 8743.1967031\tbest: 8741.6349543 (676)\ttotal: 43m 6s\tremaining: 20m 22s\n",
      "679:\tlearn: 3870.4557109\ttest: 8743.1940897\tbest: 8741.6349543 (676)\ttotal: 43m 10s\tremaining: 20m 18s\n",
      "680:\tlearn: 3870.1340265\ttest: 8742.9988922\tbest: 8741.6349543 (676)\ttotal: 43m 13s\tremaining: 20m 14s\n",
      "681:\tlearn: 3869.8253878\ttest: 8742.3326139\tbest: 8741.6349543 (676)\ttotal: 43m 17s\tremaining: 20m 11s\n",
      "682:\tlearn: 3869.5455355\ttest: 8743.0335535\tbest: 8741.6349543 (676)\ttotal: 43m 20s\tremaining: 20m 7s\n",
      "683:\tlearn: 3868.6454655\ttest: 8743.2096464\tbest: 8741.6349543 (676)\ttotal: 43m 24s\tremaining: 20m 3s\n",
      "684:\tlearn: 3868.4186861\ttest: 8743.2792088\tbest: 8741.6349543 (676)\ttotal: 43m 28s\tremaining: 19m 59s\n",
      "685:\tlearn: 3868.0581547\ttest: 8743.0374255\tbest: 8741.6349543 (676)\ttotal: 43m 31s\tremaining: 19m 55s\n",
      "686:\tlearn: 3867.8700442\ttest: 8742.7979685\tbest: 8741.6349543 (676)\ttotal: 43m 35s\tremaining: 19m 51s\n",
      "687:\tlearn: 3867.6539555\ttest: 8742.1723147\tbest: 8741.6349543 (676)\ttotal: 43m 39s\tremaining: 19m 47s\n",
      "688:\tlearn: 3867.3424128\ttest: 8742.0655296\tbest: 8741.6349543 (676)\ttotal: 43m 43s\tremaining: 19m 44s\n",
      "689:\tlearn: 3867.0981567\ttest: 8741.6422500\tbest: 8741.6349543 (676)\ttotal: 43m 46s\tremaining: 19m 39s\n",
      "690:\tlearn: 3866.6279013\ttest: 8741.6122353\tbest: 8741.6122353 (690)\ttotal: 43m 50s\tremaining: 19m 36s\n",
      "691:\tlearn: 3866.0177119\ttest: 8741.6360955\tbest: 8741.6122353 (690)\ttotal: 43m 54s\tremaining: 19m 32s\n",
      "692:\tlearn: 3865.7234492\ttest: 8740.9448303\tbest: 8740.9448303 (692)\ttotal: 43m 57s\tremaining: 19m 28s\n",
      "693:\tlearn: 3865.5046785\ttest: 8742.0959519\tbest: 8740.9448303 (692)\ttotal: 44m 1s\tremaining: 19m 24s\n",
      "694:\tlearn: 3865.3145677\ttest: 8742.5527706\tbest: 8740.9448303 (692)\ttotal: 44m 5s\tremaining: 19m 20s\n",
      "695:\tlearn: 3865.0686294\ttest: 8741.6771126\tbest: 8740.9448303 (692)\ttotal: 44m 8s\tremaining: 19m 16s\n",
      "696:\tlearn: 3864.3830891\ttest: 8741.7611329\tbest: 8740.9448303 (692)\ttotal: 44m 12s\tremaining: 19m 13s\n",
      "697:\tlearn: 3864.0185954\ttest: 8741.1951682\tbest: 8740.9448303 (692)\ttotal: 44m 16s\tremaining: 19m 9s\n",
      "698:\tlearn: 3863.2527218\ttest: 8741.3319385\tbest: 8740.9448303 (692)\ttotal: 44m 20s\tremaining: 19m 5s\n",
      "699:\tlearn: 3862.8984745\ttest: 8741.4057420\tbest: 8740.9448303 (692)\ttotal: 44m 23s\tremaining: 19m 1s\n",
      "700:\tlearn: 3862.7067865\ttest: 8741.3510457\tbest: 8740.9448303 (692)\ttotal: 44m 27s\tremaining: 18m 57s\n",
      "701:\tlearn: 3862.3733509\ttest: 8741.0677976\tbest: 8740.9448303 (692)\ttotal: 44m 31s\tremaining: 18m 53s\n",
      "702:\tlearn: 3862.0253889\ttest: 8740.7507549\tbest: 8740.7507549 (702)\ttotal: 44m 34s\tremaining: 18m 50s\n",
      "703:\tlearn: 3861.4414838\ttest: 8740.4628701\tbest: 8740.4628701 (703)\ttotal: 44m 38s\tremaining: 18m 46s\n",
      "704:\tlearn: 3861.1835089\ttest: 8740.3147671\tbest: 8740.3147671 (704)\ttotal: 44m 42s\tremaining: 18m 42s\n",
      "705:\tlearn: 3860.7717230\ttest: 8740.1888842\tbest: 8740.1888842 (705)\ttotal: 44m 46s\tremaining: 18m 38s\n",
      "706:\tlearn: 3860.4372330\ttest: 8740.1116524\tbest: 8740.1116524 (706)\ttotal: 44m 50s\tremaining: 18m 34s\n",
      "707:\tlearn: 3860.0630882\ttest: 8740.1168891\tbest: 8740.1116524 (706)\ttotal: 44m 54s\tremaining: 18m 31s\n",
      "708:\tlearn: 3859.4975979\ttest: 8740.4006741\tbest: 8740.1116524 (706)\ttotal: 44m 57s\tremaining: 18m 27s\n",
      "709:\tlearn: 3858.9650905\ttest: 8738.6727195\tbest: 8738.6727195 (709)\ttotal: 45m 1s\tremaining: 18m 23s\n",
      "710:\tlearn: 3858.1596551\ttest: 8737.2453906\tbest: 8737.2453906 (710)\ttotal: 45m 5s\tremaining: 18m 19s\n",
      "711:\tlearn: 3857.8502069\ttest: 8737.0380311\tbest: 8737.0380311 (711)\ttotal: 45m 8s\tremaining: 18m 15s\n",
      "712:\tlearn: 3857.6776369\ttest: 8736.9331811\tbest: 8736.9331811 (712)\ttotal: 45m 12s\tremaining: 18m 11s\n",
      "713:\tlearn: 3857.4504112\ttest: 8736.6961256\tbest: 8736.6961256 (713)\ttotal: 45m 16s\tremaining: 18m 8s\n",
      "714:\tlearn: 3857.2960320\ttest: 8736.7030731\tbest: 8736.6961256 (713)\ttotal: 45m 19s\tremaining: 18m 4s\n",
      "715:\tlearn: 3856.6904999\ttest: 8737.3670176\tbest: 8736.6961256 (713)\ttotal: 45m 23s\tremaining: 18m\n",
      "716:\tlearn: 3856.4628572\ttest: 8737.4356606\tbest: 8736.6961256 (713)\ttotal: 45m 27s\tremaining: 17m 56s\n",
      "717:\tlearn: 3856.1096577\ttest: 8742.7015046\tbest: 8736.6961256 (713)\ttotal: 45m 31s\tremaining: 17m 52s\n",
      "718:\tlearn: 3855.8626133\ttest: 8743.0076952\tbest: 8736.6961256 (713)\ttotal: 45m 34s\tremaining: 17m 48s\n",
      "719:\tlearn: 3855.6280742\ttest: 8742.7547062\tbest: 8736.6961256 (713)\ttotal: 45m 38s\tremaining: 17m 44s\n",
      "720:\tlearn: 3855.2939388\ttest: 8742.3631508\tbest: 8736.6961256 (713)\ttotal: 45m 42s\tremaining: 17m 41s\n",
      "721:\tlearn: 3854.8635000\ttest: 8743.6085963\tbest: 8736.6961256 (713)\ttotal: 45m 46s\tremaining: 17m 37s\n",
      "722:\tlearn: 3854.6500987\ttest: 8743.9314050\tbest: 8736.6961256 (713)\ttotal: 45m 50s\tremaining: 17m 33s\n"
     ]
    },
    {
     "name": "stdout",
     "output_type": "stream",
     "text": [
      "723:\tlearn: 3854.4354801\ttest: 8744.1372719\tbest: 8736.6961256 (713)\ttotal: 45m 53s\tremaining: 17m 29s\n",
      "724:\tlearn: 3854.0923619\ttest: 8743.9390782\tbest: 8736.6961256 (713)\ttotal: 45m 57s\tremaining: 17m 26s\n",
      "725:\tlearn: 3853.8920687\ttest: 8744.0683989\tbest: 8736.6961256 (713)\ttotal: 46m 1s\tremaining: 17m 22s\n",
      "726:\tlearn: 3853.1096662\ttest: 8724.1459404\tbest: 8724.1459404 (726)\ttotal: 46m 5s\tremaining: 17m 18s\n",
      "727:\tlearn: 3852.7496077\ttest: 8724.3777146\tbest: 8724.1459404 (726)\ttotal: 46m 8s\tremaining: 17m 14s\n",
      "728:\tlearn: 3852.4887684\ttest: 8724.3114321\tbest: 8724.1459404 (726)\ttotal: 46m 12s\tremaining: 17m 10s\n",
      "729:\tlearn: 3852.3273428\ttest: 8724.2997776\tbest: 8724.1459404 (726)\ttotal: 46m 16s\tremaining: 17m 7s\n",
      "730:\tlearn: 3851.6781202\ttest: 8723.6223244\tbest: 8723.6223244 (730)\ttotal: 46m 20s\tremaining: 17m 3s\n",
      "731:\tlearn: 3851.0312975\ttest: 8722.9912930\tbest: 8722.9912930 (731)\ttotal: 46m 24s\tremaining: 16m 59s\n",
      "732:\tlearn: 3850.8303076\ttest: 8722.7706739\tbest: 8722.7706739 (732)\ttotal: 46m 28s\tremaining: 16m 55s\n",
      "733:\tlearn: 3850.3863903\ttest: 8722.7516729\tbest: 8722.7516729 (733)\ttotal: 46m 31s\tremaining: 16m 51s\n",
      "734:\tlearn: 3850.1057473\ttest: 8723.1904580\tbest: 8722.7516729 (733)\ttotal: 46m 35s\tremaining: 16m 48s\n",
      "735:\tlearn: 3849.5180853\ttest: 8723.3180205\tbest: 8722.7516729 (733)\ttotal: 46m 39s\tremaining: 16m 44s\n",
      "736:\tlearn: 3849.2947008\ttest: 8723.4195989\tbest: 8722.7516729 (733)\ttotal: 46m 43s\tremaining: 16m 40s\n",
      "737:\tlearn: 3848.8850831\ttest: 8723.4030968\tbest: 8722.7516729 (733)\ttotal: 46m 47s\tremaining: 16m 36s\n",
      "738:\tlearn: 3848.5443356\ttest: 8723.7333067\tbest: 8722.7516729 (733)\ttotal: 46m 51s\tremaining: 16m 32s\n",
      "739:\tlearn: 3847.9742821\ttest: 8724.4948991\tbest: 8722.7516729 (733)\ttotal: 46m 54s\tremaining: 16m 28s\n",
      "740:\tlearn: 3847.7816497\ttest: 8724.4241586\tbest: 8722.7516729 (733)\ttotal: 46m 58s\tremaining: 16m 25s\n",
      "741:\tlearn: 3847.4982173\ttest: 8724.3455381\tbest: 8722.7516729 (733)\ttotal: 47m 2s\tremaining: 16m 21s\n",
      "742:\tlearn: 3846.7827557\ttest: 8724.8878272\tbest: 8722.7516729 (733)\ttotal: 47m 6s\tremaining: 16m 17s\n",
      "743:\tlearn: 3846.1038246\ttest: 8724.1998489\tbest: 8722.7516729 (733)\ttotal: 47m 10s\tremaining: 16m 13s\n",
      "744:\tlearn: 3845.8557376\ttest: 8724.6176647\tbest: 8722.7516729 (733)\ttotal: 47m 13s\tremaining: 16m 9s\n",
      "745:\tlearn: 3845.5194514\ttest: 8724.4481579\tbest: 8722.7516729 (733)\ttotal: 47m 17s\tremaining: 16m 6s\n",
      "746:\tlearn: 3845.2191736\ttest: 8724.4723369\tbest: 8722.7516729 (733)\ttotal: 47m 21s\tremaining: 16m 2s\n",
      "747:\tlearn: 3844.7906311\ttest: 8725.0745681\tbest: 8722.7516729 (733)\ttotal: 47m 24s\tremaining: 15m 58s\n",
      "748:\tlearn: 3844.2904019\ttest: 8724.7666090\tbest: 8722.7516729 (733)\ttotal: 47m 28s\tremaining: 15m 54s\n",
      "749:\tlearn: 3843.9974222\ttest: 8724.5310307\tbest: 8722.7516729 (733)\ttotal: 47m 32s\tremaining: 15m 50s\n",
      "750:\tlearn: 3843.5891572\ttest: 8722.7964698\tbest: 8722.7516729 (733)\ttotal: 47m 35s\tremaining: 15m 46s\n",
      "751:\tlearn: 3843.3240788\ttest: 8723.2221179\tbest: 8722.7516729 (733)\ttotal: 47m 39s\tremaining: 15m 43s\n",
      "752:\tlearn: 3843.0520250\ttest: 8724.9938066\tbest: 8722.7516729 (733)\ttotal: 47m 43s\tremaining: 15m 39s\n",
      "753:\tlearn: 3842.8416685\ttest: 8724.8224030\tbest: 8722.7516729 (733)\ttotal: 47m 47s\tremaining: 15m 35s\n",
      "754:\tlearn: 3842.6317893\ttest: 8729.2386640\tbest: 8722.7516729 (733)\ttotal: 47m 51s\tremaining: 15m 31s\n",
      "755:\tlearn: 3842.3567031\ttest: 8729.5333807\tbest: 8722.7516729 (733)\ttotal: 47m 54s\tremaining: 15m 27s\n",
      "756:\tlearn: 3842.0689630\ttest: 8731.0121633\tbest: 8722.7516729 (733)\ttotal: 47m 58s\tremaining: 15m 23s\n",
      "757:\tlearn: 3841.8632007\ttest: 8730.9783197\tbest: 8722.7516729 (733)\ttotal: 48m 1s\tremaining: 15m 20s\n",
      "758:\tlearn: 3841.4393472\ttest: 8730.9578245\tbest: 8722.7516729 (733)\ttotal: 48m 5s\tremaining: 15m 16s\n",
      "759:\tlearn: 3841.1862992\ttest: 8730.9117602\tbest: 8722.7516729 (733)\ttotal: 48m 9s\tremaining: 15m 12s\n",
      "760:\tlearn: 3840.9192099\ttest: 8730.8081593\tbest: 8722.7516729 (733)\ttotal: 48m 12s\tremaining: 15m 8s\n",
      "761:\tlearn: 3840.6538504\ttest: 8730.6059724\tbest: 8722.7516729 (733)\ttotal: 48m 16s\tremaining: 15m 4s\n",
      "762:\tlearn: 3840.3891085\ttest: 8730.8428737\tbest: 8722.7516729 (733)\ttotal: 48m 20s\tremaining: 15m\n",
      "763:\tlearn: 3840.2576704\ttest: 8730.6429119\tbest: 8722.7516729 (733)\ttotal: 48m 23s\tremaining: 14m 57s\n",
      "764:\tlearn: 3840.0646393\ttest: 8730.7546969\tbest: 8722.7516729 (733)\ttotal: 48m 27s\tremaining: 14m 53s\n",
      "765:\tlearn: 3839.7657280\ttest: 8730.3654160\tbest: 8722.7516729 (733)\ttotal: 48m 31s\tremaining: 14m 49s\n",
      "766:\tlearn: 3839.7586938\ttest: 8730.3596656\tbest: 8722.7516729 (733)\ttotal: 48m 35s\tremaining: 14m 45s\n",
      "767:\tlearn: 3839.6339271\ttest: 8730.5325836\tbest: 8722.7516729 (733)\ttotal: 48m 39s\tremaining: 14m 41s\n",
      "768:\tlearn: 3839.3995549\ttest: 8731.5497780\tbest: 8722.7516729 (733)\ttotal: 48m 43s\tremaining: 14m 38s\n",
      "769:\tlearn: 3839.1927428\ttest: 8731.4206337\tbest: 8722.7516729 (733)\ttotal: 48m 46s\tremaining: 14m 34s\n",
      "770:\tlearn: 3838.9617911\ttest: 8731.5247435\tbest: 8722.7516729 (733)\ttotal: 48m 50s\tremaining: 14m 30s\n",
      "771:\tlearn: 3838.7102180\ttest: 8734.3368764\tbest: 8722.7516729 (733)\ttotal: 48m 53s\tremaining: 14m 26s\n",
      "772:\tlearn: 3838.3474425\ttest: 8734.3938412\tbest: 8722.7516729 (733)\ttotal: 48m 57s\tremaining: 14m 22s\n",
      "773:\tlearn: 3838.2236158\ttest: 8734.3527542\tbest: 8722.7516729 (733)\ttotal: 49m 1s\tremaining: 14m 18s\n",
      "774:\tlearn: 3838.1645341\ttest: 8733.8745851\tbest: 8722.7516729 (733)\ttotal: 49m 4s\tremaining: 14m 14s\n",
      "775:\tlearn: 3837.9598474\ttest: 8734.1164411\tbest: 8722.7516729 (733)\ttotal: 49m 8s\tremaining: 14m 11s\n",
      "776:\tlearn: 3837.6009228\ttest: 8733.3087069\tbest: 8722.7516729 (733)\ttotal: 49m 12s\tremaining: 14m 7s\n",
      "777:\tlearn: 3837.2982774\ttest: 8733.9800727\tbest: 8722.7516729 (733)\ttotal: 49m 15s\tremaining: 14m 3s\n",
      "778:\tlearn: 3837.1425841\ttest: 8733.6821267\tbest: 8722.7516729 (733)\ttotal: 49m 19s\tremaining: 13m 59s\n",
      "779:\tlearn: 3837.0033269\ttest: 8733.7033969\tbest: 8722.7516729 (733)\ttotal: 49m 23s\tremaining: 13m 55s\n",
      "780:\tlearn: 3836.7011384\ttest: 8733.9849707\tbest: 8722.7516729 (733)\ttotal: 49m 26s\tremaining: 13m 51s\n",
      "781:\tlearn: 3836.3454814\ttest: 8734.9462831\tbest: 8722.7516729 (733)\ttotal: 49m 30s\tremaining: 13m 48s\n",
      "782:\tlearn: 3836.0727176\ttest: 8734.9929031\tbest: 8722.7516729 (733)\ttotal: 49m 34s\tremaining: 13m 44s\n",
      "783:\tlearn: 3835.7111416\ttest: 8735.0028483\tbest: 8722.7516729 (733)\ttotal: 49m 37s\tremaining: 13m 40s\n",
      "784:\tlearn: 3835.2875198\ttest: 8729.5568264\tbest: 8722.7516729 (733)\ttotal: 49m 41s\tremaining: 13m 36s\n",
      "785:\tlearn: 3834.9917775\ttest: 8729.4771372\tbest: 8722.7516729 (733)\ttotal: 49m 45s\tremaining: 13m 32s\n",
      "786:\tlearn: 3834.4921473\ttest: 8729.5080868\tbest: 8722.7516729 (733)\ttotal: 49m 48s\tremaining: 13m 28s\n",
      "787:\tlearn: 3834.0962679\ttest: 8729.2686836\tbest: 8722.7516729 (733)\ttotal: 49m 52s\tremaining: 13m 25s\n",
      "788:\tlearn: 3833.9275313\ttest: 8728.8658496\tbest: 8722.7516729 (733)\ttotal: 49m 56s\tremaining: 13m 21s\n",
      "789:\tlearn: 3833.5006047\ttest: 8728.4823279\tbest: 8722.7516729 (733)\ttotal: 49m 59s\tremaining: 13m 17s\n",
      "790:\tlearn: 3833.0142215\ttest: 8728.3622036\tbest: 8722.7516729 (733)\ttotal: 50m 3s\tremaining: 13m 13s\n",
      "791:\tlearn: 3832.8066730\ttest: 8728.3005013\tbest: 8722.7516729 (733)\ttotal: 50m 7s\tremaining: 13m 9s\n",
      "792:\tlearn: 3832.5792471\ttest: 8728.1341938\tbest: 8722.7516729 (733)\ttotal: 50m 10s\tremaining: 13m 5s\n",
      "793:\tlearn: 3831.9452906\ttest: 8727.6236866\tbest: 8722.7516729 (733)\ttotal: 50m 14s\tremaining: 13m 2s\n",
      "794:\tlearn: 3831.6875772\ttest: 8727.1425578\tbest: 8722.7516729 (733)\ttotal: 50m 17s\tremaining: 12m 58s\n",
      "795:\tlearn: 3831.2727945\ttest: 8726.8620261\tbest: 8722.7516729 (733)\ttotal: 50m 21s\tremaining: 12m 54s\n",
      "796:\tlearn: 3830.9166445\ttest: 8729.7121890\tbest: 8722.7516729 (733)\ttotal: 50m 25s\tremaining: 12m 50s\n",
      "797:\tlearn: 3830.4332840\ttest: 8729.8974972\tbest: 8722.7516729 (733)\ttotal: 50m 29s\tremaining: 12m 46s\n",
      "798:\tlearn: 3830.4271341\ttest: 8729.8880616\tbest: 8722.7516729 (733)\ttotal: 50m 33s\tremaining: 12m 43s\n",
      "799:\tlearn: 3830.2857418\ttest: 8729.7976678\tbest: 8722.7516729 (733)\ttotal: 50m 37s\tremaining: 12m 39s\n",
      "800:\tlearn: 3830.0799821\ttest: 8729.7088979\tbest: 8722.7516729 (733)\ttotal: 50m 40s\tremaining: 12m 35s\n",
      "801:\tlearn: 3829.8335248\ttest: 8734.9059092\tbest: 8722.7516729 (733)\ttotal: 50m 44s\tremaining: 12m 31s\n",
      "802:\tlearn: 3829.4962734\ttest: 8733.9835935\tbest: 8722.7516729 (733)\ttotal: 50m 48s\tremaining: 12m 27s\n"
     ]
    },
    {
     "name": "stdout",
     "output_type": "stream",
     "text": [
      "803:\tlearn: 3829.1153236\ttest: 8716.8725566\tbest: 8716.8725566 (803)\ttotal: 50m 51s\tremaining: 12m 24s\n",
      "804:\tlearn: 3828.7268732\ttest: 8716.9736118\tbest: 8716.8725566 (803)\ttotal: 50m 55s\tremaining: 12m 20s\n",
      "805:\tlearn: 3828.5737116\ttest: 8716.9449016\tbest: 8716.8725566 (803)\ttotal: 50m 59s\tremaining: 12m 16s\n",
      "806:\tlearn: 3828.3982868\ttest: 8717.3777119\tbest: 8716.8725566 (803)\ttotal: 51m 2s\tremaining: 12m 12s\n",
      "807:\tlearn: 3828.1736398\ttest: 8716.4427858\tbest: 8716.4427858 (807)\ttotal: 51m 6s\tremaining: 12m 8s\n",
      "808:\tlearn: 3827.6241186\ttest: 8716.1639466\tbest: 8716.1639466 (808)\ttotal: 51m 10s\tremaining: 12m 4s\n",
      "809:\tlearn: 3827.2632302\ttest: 8715.3968456\tbest: 8715.3968456 (809)\ttotal: 51m 13s\tremaining: 12m 1s\n",
      "810:\tlearn: 3826.9512920\ttest: 8715.3898361\tbest: 8715.3898361 (810)\ttotal: 51m 17s\tremaining: 11m 57s\n",
      "811:\tlearn: 3826.4303468\ttest: 8716.0887496\tbest: 8715.3898361 (810)\ttotal: 51m 21s\tremaining: 11m 53s\n",
      "812:\tlearn: 3826.2290126\ttest: 8716.0884000\tbest: 8715.3898361 (810)\ttotal: 51m 25s\tremaining: 11m 49s\n",
      "813:\tlearn: 3825.9746797\ttest: 8718.0973354\tbest: 8715.3898361 (810)\ttotal: 51m 28s\tremaining: 11m 45s\n",
      "814:\tlearn: 3825.8085458\ttest: 8717.9427683\tbest: 8715.3898361 (810)\ttotal: 51m 32s\tremaining: 11m 41s\n",
      "815:\tlearn: 3825.5558258\ttest: 8718.0913448\tbest: 8715.3898361 (810)\ttotal: 51m 35s\tremaining: 11m 37s\n",
      "816:\tlearn: 3825.3752832\ttest: 8717.9516688\tbest: 8715.3898361 (810)\ttotal: 51m 39s\tremaining: 11m 34s\n",
      "817:\tlearn: 3824.9361596\ttest: 8716.6709221\tbest: 8715.3898361 (810)\ttotal: 51m 42s\tremaining: 11m 30s\n",
      "818:\tlearn: 3824.4486545\ttest: 8716.4162595\tbest: 8715.3898361 (810)\ttotal: 51m 46s\tremaining: 11m 26s\n",
      "819:\tlearn: 3824.0804338\ttest: 8716.4497505\tbest: 8715.3898361 (810)\ttotal: 51m 49s\tremaining: 11m 22s\n",
      "820:\tlearn: 3823.7412019\ttest: 8715.7225430\tbest: 8715.3898361 (810)\ttotal: 51m 53s\tremaining: 11m 18s\n",
      "821:\tlearn: 3823.3864356\ttest: 8715.1425484\tbest: 8715.1425484 (821)\ttotal: 51m 57s\tremaining: 11m 14s\n",
      "822:\tlearn: 3823.2694252\ttest: 8715.2267861\tbest: 8715.1425484 (821)\ttotal: 52m\tremaining: 11m 11s\n",
      "823:\tlearn: 3823.0869907\ttest: 8715.4455932\tbest: 8715.1425484 (821)\ttotal: 52m 4s\tremaining: 11m 7s\n",
      "824:\tlearn: 3822.8459253\ttest: 8715.2440648\tbest: 8715.1425484 (821)\ttotal: 52m 7s\tremaining: 11m 3s\n",
      "825:\tlearn: 3822.5703496\ttest: 8715.2551628\tbest: 8715.1425484 (821)\ttotal: 52m 11s\tremaining: 10m 59s\n",
      "826:\tlearn: 3822.2927317\ttest: 8715.2044378\tbest: 8715.1425484 (821)\ttotal: 52m 15s\tremaining: 10m 55s\n",
      "827:\tlearn: 3822.0796910\ttest: 8716.0221090\tbest: 8715.1425484 (821)\ttotal: 52m 18s\tremaining: 10m 52s\n",
      "828:\tlearn: 3821.8036169\ttest: 8717.6000369\tbest: 8715.1425484 (821)\ttotal: 52m 22s\tremaining: 10m 48s\n",
      "829:\tlearn: 3821.5824837\ttest: 8717.4098074\tbest: 8715.1425484 (821)\ttotal: 52m 26s\tremaining: 10m 44s\n",
      "830:\tlearn: 3821.3025052\ttest: 8718.3439453\tbest: 8715.1425484 (821)\ttotal: 52m 30s\tremaining: 10m 40s\n",
      "831:\tlearn: 3820.7346389\ttest: 8718.6342785\tbest: 8715.1425484 (821)\ttotal: 52m 34s\tremaining: 10m 36s\n",
      "832:\tlearn: 3820.3277876\ttest: 8718.7732473\tbest: 8715.1425484 (821)\ttotal: 52m 37s\tremaining: 10m 33s\n",
      "833:\tlearn: 3819.9558138\ttest: 8718.6076635\tbest: 8715.1425484 (821)\ttotal: 52m 41s\tremaining: 10m 29s\n",
      "834:\tlearn: 3819.8638895\ttest: 8718.5785059\tbest: 8715.1425484 (821)\ttotal: 52m 45s\tremaining: 10m 25s\n",
      "835:\tlearn: 3819.3778914\ttest: 8719.2305423\tbest: 8715.1425484 (821)\ttotal: 52m 49s\tremaining: 10m 21s\n",
      "836:\tlearn: 3819.0778395\ttest: 8720.6363467\tbest: 8715.1425484 (821)\ttotal: 52m 53s\tremaining: 10m 17s\n",
      "837:\tlearn: 3818.4582489\ttest: 8722.0666748\tbest: 8715.1425484 (821)\ttotal: 52m 57s\tremaining: 10m 14s\n",
      "838:\tlearn: 3818.2584119\ttest: 8722.1879083\tbest: 8715.1425484 (821)\ttotal: 53m\tremaining: 10m 10s\n",
      "839:\tlearn: 3818.0266746\ttest: 8722.0863355\tbest: 8715.1425484 (821)\ttotal: 53m 4s\tremaining: 10m 6s\n",
      "840:\tlearn: 3817.7552905\ttest: 8722.4645915\tbest: 8715.1425484 (821)\ttotal: 53m 8s\tremaining: 10m 2s\n",
      "841:\tlearn: 3817.1770867\ttest: 8722.7719495\tbest: 8715.1425484 (821)\ttotal: 53m 11s\tremaining: 9m 58s\n",
      "842:\tlearn: 3816.9581380\ttest: 8723.0266050\tbest: 8715.1425484 (821)\ttotal: 53m 15s\tremaining: 9m 55s\n",
      "843:\tlearn: 3816.5707403\ttest: 8723.2840725\tbest: 8715.1425484 (821)\ttotal: 53m 19s\tremaining: 9m 51s\n",
      "844:\tlearn: 3816.3754171\ttest: 8723.1695578\tbest: 8715.1425484 (821)\ttotal: 53m 23s\tremaining: 9m 47s\n",
      "845:\tlearn: 3816.1534748\ttest: 8723.0572822\tbest: 8715.1425484 (821)\ttotal: 53m 27s\tremaining: 9m 43s\n",
      "846:\tlearn: 3815.8590506\ttest: 8723.3843528\tbest: 8715.1425484 (821)\ttotal: 53m 30s\tremaining: 9m 39s\n",
      "847:\tlearn: 3815.4155970\ttest: 8723.0207571\tbest: 8715.1425484 (821)\ttotal: 53m 34s\tremaining: 9m 36s\n",
      "848:\tlearn: 3814.9359161\ttest: 8723.1724949\tbest: 8715.1425484 (821)\ttotal: 53m 38s\tremaining: 9m 32s\n",
      "849:\tlearn: 3814.3776957\ttest: 8721.2844142\tbest: 8715.1425484 (821)\ttotal: 53m 42s\tremaining: 9m 28s\n",
      "850:\tlearn: 3814.1516185\ttest: 8721.3696834\tbest: 8715.1425484 (821)\ttotal: 53m 46s\tremaining: 9m 24s\n",
      "851:\tlearn: 3813.8378275\ttest: 8721.3978787\tbest: 8715.1425484 (821)\ttotal: 53m 49s\tremaining: 9m 21s\n",
      "852:\tlearn: 3813.2708131\ttest: 8723.1213252\tbest: 8715.1425484 (821)\ttotal: 53m 53s\tremaining: 9m 17s\n",
      "853:\tlearn: 3813.0597730\ttest: 8723.2805771\tbest: 8715.1425484 (821)\ttotal: 53m 56s\tremaining: 9m 13s\n",
      "854:\tlearn: 3812.8877406\ttest: 8723.0881729\tbest: 8715.1425484 (821)\ttotal: 54m\tremaining: 9m 9s\n",
      "855:\tlearn: 3812.7608266\ttest: 8722.8486755\tbest: 8715.1425484 (821)\ttotal: 54m 3s\tremaining: 9m 5s\n",
      "856:\tlearn: 3812.1730384\ttest: 8721.8894079\tbest: 8715.1425484 (821)\ttotal: 54m 7s\tremaining: 9m 1s\n",
      "857:\tlearn: 3811.8611963\ttest: 8722.2871785\tbest: 8715.1425484 (821)\ttotal: 54m 11s\tremaining: 8m 58s\n",
      "858:\tlearn: 3811.3297011\ttest: 8722.6685087\tbest: 8715.1425484 (821)\ttotal: 54m 15s\tremaining: 8m 54s\n",
      "859:\tlearn: 3811.1808724\ttest: 8722.4632573\tbest: 8715.1425484 (821)\ttotal: 54m 19s\tremaining: 8m 50s\n",
      "860:\tlearn: 3811.0095306\ttest: 8722.6436957\tbest: 8715.1425484 (821)\ttotal: 54m 22s\tremaining: 8m 46s\n",
      "861:\tlearn: 3810.6390165\ttest: 8722.3425205\tbest: 8715.1425484 (821)\ttotal: 54m 26s\tremaining: 8m 42s\n",
      "862:\tlearn: 3810.4727956\ttest: 8722.2826971\tbest: 8715.1425484 (821)\ttotal: 54m 29s\tremaining: 8m 39s\n",
      "863:\tlearn: 3810.2607165\ttest: 8722.5731164\tbest: 8715.1425484 (821)\ttotal: 54m 33s\tremaining: 8m 35s\n",
      "864:\tlearn: 3810.0329726\ttest: 8722.7054146\tbest: 8715.1425484 (821)\ttotal: 54m 37s\tremaining: 8m 31s\n",
      "865:\tlearn: 3809.5073082\ttest: 8722.5538361\tbest: 8715.1425484 (821)\ttotal: 54m 41s\tremaining: 8m 27s\n",
      "866:\tlearn: 3809.2548804\ttest: 8726.1060722\tbest: 8715.1425484 (821)\ttotal: 54m 44s\tremaining: 8m 23s\n",
      "867:\tlearn: 3808.9375640\ttest: 8726.1755189\tbest: 8715.1425484 (821)\ttotal: 54m 48s\tremaining: 8m 20s\n",
      "868:\tlearn: 3808.6735353\ttest: 8726.3978749\tbest: 8715.1425484 (821)\ttotal: 54m 52s\tremaining: 8m 16s\n",
      "869:\tlearn: 3808.2656044\ttest: 8726.4046361\tbest: 8715.1425484 (821)\ttotal: 54m 55s\tremaining: 8m 12s\n",
      "870:\tlearn: 3807.8872960\ttest: 8725.9279000\tbest: 8715.1425484 (821)\ttotal: 54m 59s\tremaining: 8m 8s\n",
      "871:\tlearn: 3807.5599363\ttest: 8725.8507987\tbest: 8715.1425484 (821)\ttotal: 55m 3s\tremaining: 8m 4s\n",
      "872:\tlearn: 3807.4019311\ttest: 8725.3502839\tbest: 8715.1425484 (821)\ttotal: 55m 7s\tremaining: 8m 1s\n",
      "873:\tlearn: 3807.1611382\ttest: 8725.9945601\tbest: 8715.1425484 (821)\ttotal: 55m 11s\tremaining: 7m 57s\n",
      "874:\tlearn: 3806.3972572\ttest: 8725.4810579\tbest: 8715.1425484 (821)\ttotal: 55m 14s\tremaining: 7m 53s\n",
      "875:\tlearn: 3805.7659415\ttest: 8725.4188163\tbest: 8715.1425484 (821)\ttotal: 55m 18s\tremaining: 7m 49s\n",
      "876:\tlearn: 3805.2266233\ttest: 8725.7979084\tbest: 8715.1425484 (821)\ttotal: 55m 22s\tremaining: 7m 45s\n",
      "877:\tlearn: 3804.9471775\ttest: 8725.7712940\tbest: 8715.1425484 (821)\ttotal: 55m 26s\tremaining: 7m 42s\n",
      "878:\tlearn: 3804.6729555\ttest: 8726.0635636\tbest: 8715.1425484 (821)\ttotal: 55m 30s\tremaining: 7m 38s\n",
      "879:\tlearn: 3804.4561130\ttest: 8725.8610956\tbest: 8715.1425484 (821)\ttotal: 55m 34s\tremaining: 7m 34s\n",
      "880:\tlearn: 3803.9951376\ttest: 8725.9045551\tbest: 8715.1425484 (821)\ttotal: 55m 37s\tremaining: 7m 30s\n",
      "881:\tlearn: 3803.8087359\ttest: 8725.6907404\tbest: 8715.1425484 (821)\ttotal: 55m 41s\tremaining: 7m 27s\n",
      "882:\tlearn: 3803.5732204\ttest: 8725.6240078\tbest: 8715.1425484 (821)\ttotal: 55m 44s\tremaining: 7m 23s\n",
      "883:\tlearn: 3803.3470467\ttest: 8725.4127223\tbest: 8715.1425484 (821)\ttotal: 55m 48s\tremaining: 7m 19s\n"
     ]
    },
    {
     "name": "stdout",
     "output_type": "stream",
     "text": [
      "884:\tlearn: 3802.9462473\ttest: 8725.5839148\tbest: 8715.1425484 (821)\ttotal: 55m 52s\tremaining: 7m 15s\n",
      "885:\tlearn: 3802.8300981\ttest: 8725.4660552\tbest: 8715.1425484 (821)\ttotal: 55m 56s\tremaining: 7m 11s\n",
      "886:\tlearn: 3802.4282701\ttest: 8725.1866390\tbest: 8715.1425484 (821)\ttotal: 56m\tremaining: 7m 8s\n",
      "887:\tlearn: 3802.2238567\ttest: 8725.0105468\tbest: 8715.1425484 (821)\ttotal: 56m 4s\tremaining: 7m 4s\n",
      "888:\tlearn: 3801.8375991\ttest: 8724.5341210\tbest: 8715.1425484 (821)\ttotal: 56m 8s\tremaining: 7m\n",
      "889:\tlearn: 3801.4434787\ttest: 8724.4502829\tbest: 8715.1425484 (821)\ttotal: 56m 11s\tremaining: 6m 56s\n",
      "890:\tlearn: 3801.2511868\ttest: 8724.1490907\tbest: 8715.1425484 (821)\ttotal: 56m 15s\tremaining: 6m 52s\n",
      "891:\tlearn: 3800.9468222\ttest: 8723.7052622\tbest: 8715.1425484 (821)\ttotal: 56m 18s\tremaining: 6m 49s\n",
      "892:\tlearn: 3800.7259072\ttest: 8723.9148196\tbest: 8715.1425484 (821)\ttotal: 56m 22s\tremaining: 6m 45s\n",
      "893:\tlearn: 3800.5627999\ttest: 8723.7928165\tbest: 8715.1425484 (821)\ttotal: 56m 26s\tremaining: 6m 41s\n",
      "894:\tlearn: 3800.0948975\ttest: 8723.6770191\tbest: 8715.1425484 (821)\ttotal: 56m 30s\tremaining: 6m 37s\n",
      "895:\tlearn: 3799.8831148\ttest: 8723.8232967\tbest: 8715.1425484 (821)\ttotal: 56m 33s\tremaining: 6m 33s\n",
      "896:\tlearn: 3799.5991246\ttest: 8723.6585931\tbest: 8715.1425484 (821)\ttotal: 56m 37s\tremaining: 6m 30s\n",
      "897:\tlearn: 3799.4819530\ttest: 8723.7741836\tbest: 8715.1425484 (821)\ttotal: 56m 40s\tremaining: 6m 26s\n",
      "898:\tlearn: 3799.1736012\ttest: 8723.4680120\tbest: 8715.1425484 (821)\ttotal: 56m 44s\tremaining: 6m 22s\n",
      "899:\tlearn: 3798.9181991\ttest: 8722.8584771\tbest: 8715.1425484 (821)\ttotal: 56m 48s\tremaining: 6m 18s\n",
      "900:\tlearn: 3798.7159415\ttest: 8723.1034970\tbest: 8715.1425484 (821)\ttotal: 56m 52s\tremaining: 6m 14s\n",
      "901:\tlearn: 3798.4837573\ttest: 8723.2774836\tbest: 8715.1425484 (821)\ttotal: 56m 56s\tremaining: 6m 11s\n",
      "902:\tlearn: 3798.3415994\ttest: 8722.9521119\tbest: 8715.1425484 (821)\ttotal: 57m\tremaining: 6m 7s\n",
      "903:\tlearn: 3798.2440158\ttest: 8722.8131003\tbest: 8715.1425484 (821)\ttotal: 57m 3s\tremaining: 6m 3s\n",
      "904:\tlearn: 3797.9605815\ttest: 8726.7187226\tbest: 8715.1425484 (821)\ttotal: 57m 7s\tremaining: 5m 59s\n",
      "905:\tlearn: 3797.2852844\ttest: 8727.4333262\tbest: 8715.1425484 (821)\ttotal: 57m 11s\tremaining: 5m 56s\n",
      "906:\tlearn: 3797.1289575\ttest: 8727.3185640\tbest: 8715.1425484 (821)\ttotal: 57m 15s\tremaining: 5m 52s\n",
      "907:\tlearn: 3797.0041600\ttest: 8727.4140755\tbest: 8715.1425484 (821)\ttotal: 57m 18s\tremaining: 5m 48s\n",
      "908:\tlearn: 3796.7565092\ttest: 8727.3174052\tbest: 8715.1425484 (821)\ttotal: 57m 22s\tremaining: 5m 44s\n",
      "909:\tlearn: 3796.4745976\ttest: 8727.1149200\tbest: 8715.1425484 (821)\ttotal: 57m 26s\tremaining: 5m 40s\n",
      "910:\tlearn: 3796.2890942\ttest: 8726.9716204\tbest: 8715.1425484 (821)\ttotal: 57m 30s\tremaining: 5m 37s\n",
      "911:\tlearn: 3796.1480898\ttest: 8727.4645144\tbest: 8715.1425484 (821)\ttotal: 57m 33s\tremaining: 5m 33s\n",
      "912:\tlearn: 3795.9106378\ttest: 8727.4490089\tbest: 8715.1425484 (821)\ttotal: 57m 37s\tremaining: 5m 29s\n",
      "913:\tlearn: 3795.6954169\ttest: 8727.4553275\tbest: 8715.1425484 (821)\ttotal: 57m 41s\tremaining: 5m 25s\n",
      "914:\tlearn: 3795.5629373\ttest: 8727.4192472\tbest: 8715.1425484 (821)\ttotal: 57m 45s\tremaining: 5m 21s\n",
      "915:\tlearn: 3795.3052115\ttest: 8727.4455556\tbest: 8715.1425484 (821)\ttotal: 57m 49s\tremaining: 5m 18s\n",
      "916:\tlearn: 3795.1907896\ttest: 8727.4175065\tbest: 8715.1425484 (821)\ttotal: 57m 53s\tremaining: 5m 14s\n",
      "917:\tlearn: 3794.8841220\ttest: 8727.3609673\tbest: 8715.1425484 (821)\ttotal: 57m 56s\tremaining: 5m 10s\n",
      "918:\tlearn: 3794.6345962\ttest: 8727.2310915\tbest: 8715.1425484 (821)\ttotal: 58m\tremaining: 5m 6s\n",
      "919:\tlearn: 3794.5170071\ttest: 8727.1614576\tbest: 8715.1425484 (821)\ttotal: 58m 4s\tremaining: 5m 3s\n",
      "920:\tlearn: 3794.1878970\ttest: 8727.6629664\tbest: 8715.1425484 (821)\ttotal: 58m 8s\tremaining: 4m 59s\n",
      "921:\tlearn: 3793.9355893\ttest: 8727.0063340\tbest: 8715.1425484 (821)\ttotal: 58m 12s\tremaining: 4m 55s\n",
      "922:\tlearn: 3793.7582036\ttest: 8727.2442268\tbest: 8715.1425484 (821)\ttotal: 58m 16s\tremaining: 4m 51s\n",
      "923:\tlearn: 3793.5005207\ttest: 8731.4459703\tbest: 8715.1425484 (821)\ttotal: 58m 19s\tremaining: 4m 47s\n",
      "924:\tlearn: 3793.2957187\ttest: 8731.7112256\tbest: 8715.1425484 (821)\ttotal: 58m 23s\tremaining: 4m 44s\n",
      "925:\tlearn: 3793.0595339\ttest: 8731.6051642\tbest: 8715.1425484 (821)\ttotal: 58m 27s\tremaining: 4m 40s\n",
      "926:\tlearn: 3792.8542380\ttest: 8730.7405300\tbest: 8715.1425484 (821)\ttotal: 58m 30s\tremaining: 4m 36s\n",
      "927:\tlearn: 3792.6928859\ttest: 8729.6710251\tbest: 8715.1425484 (821)\ttotal: 58m 34s\tremaining: 4m 32s\n",
      "928:\tlearn: 3792.4092778\ttest: 8729.3820125\tbest: 8715.1425484 (821)\ttotal: 58m 38s\tremaining: 4m 28s\n",
      "929:\tlearn: 3792.2261243\ttest: 8729.5097856\tbest: 8715.1425484 (821)\ttotal: 58m 42s\tremaining: 4m 25s\n",
      "930:\tlearn: 3791.8020120\ttest: 8728.6589719\tbest: 8715.1425484 (821)\ttotal: 58m 46s\tremaining: 4m 21s\n",
      "931:\tlearn: 3791.6301050\ttest: 8728.7759284\tbest: 8715.1425484 (821)\ttotal: 58m 50s\tremaining: 4m 17s\n",
      "932:\tlearn: 3791.5136570\ttest: 8728.7905008\tbest: 8715.1425484 (821)\ttotal: 58m 54s\tremaining: 4m 13s\n",
      "933:\tlearn: 3791.3717536\ttest: 8728.7526271\tbest: 8715.1425484 (821)\ttotal: 58m 57s\tremaining: 4m 10s\n",
      "934:\tlearn: 3791.2021532\ttest: 8728.7891790\tbest: 8715.1425484 (821)\ttotal: 59m 1s\tremaining: 4m 6s\n",
      "935:\tlearn: 3790.9558825\ttest: 8728.8470854\tbest: 8715.1425484 (821)\ttotal: 59m 5s\tremaining: 4m 2s\n",
      "936:\tlearn: 3790.5868587\ttest: 8729.4265413\tbest: 8715.1425484 (821)\ttotal: 59m 9s\tremaining: 3m 58s\n",
      "937:\tlearn: 3790.2375071\ttest: 8729.3553156\tbest: 8715.1425484 (821)\ttotal: 59m 13s\tremaining: 3m 54s\n",
      "938:\tlearn: 3790.1007245\ttest: 8729.3509186\tbest: 8715.1425484 (821)\ttotal: 59m 17s\tremaining: 3m 51s\n",
      "939:\tlearn: 3789.9930059\ttest: 8729.2457997\tbest: 8715.1425484 (821)\ttotal: 59m 21s\tremaining: 3m 47s\n",
      "940:\tlearn: 3789.8328178\ttest: 8729.3334538\tbest: 8715.1425484 (821)\ttotal: 59m 24s\tremaining: 3m 43s\n",
      "941:\tlearn: 3789.5256496\ttest: 8729.3391768\tbest: 8715.1425484 (821)\ttotal: 59m 28s\tremaining: 3m 39s\n",
      "942:\tlearn: 3789.3176500\ttest: 8729.8726249\tbest: 8715.1425484 (821)\ttotal: 59m 32s\tremaining: 3m 35s\n",
      "943:\tlearn: 3789.0928274\ttest: 8730.5163149\tbest: 8715.1425484 (821)\ttotal: 59m 35s\tremaining: 3m 32s\n",
      "944:\tlearn: 3788.9140351\ttest: 8730.3612006\tbest: 8715.1425484 (821)\ttotal: 59m 39s\tremaining: 3m 28s\n",
      "945:\tlearn: 3788.7509371\ttest: 8730.2965120\tbest: 8715.1425484 (821)\ttotal: 59m 43s\tremaining: 3m 24s\n",
      "946:\tlearn: 3788.5817270\ttest: 8730.2580773\tbest: 8715.1425484 (821)\ttotal: 59m 47s\tremaining: 3m 20s\n",
      "947:\tlearn: 3787.9140798\ttest: 8730.8512759\tbest: 8715.1425484 (821)\ttotal: 59m 51s\tremaining: 3m 16s\n",
      "948:\tlearn: 3787.7397126\ttest: 8730.8623937\tbest: 8715.1425484 (821)\ttotal: 59m 54s\tremaining: 3m 13s\n",
      "949:\tlearn: 3787.3813722\ttest: 8723.5796758\tbest: 8715.1425484 (821)\ttotal: 59m 58s\tremaining: 3m 9s\n",
      "950:\tlearn: 3787.2444795\ttest: 8723.7370168\tbest: 8715.1425484 (821)\ttotal: 1h 2s\tremaining: 3m 5s\n",
      "951:\tlearn: 3786.9170878\ttest: 8723.4131197\tbest: 8715.1425484 (821)\ttotal: 1h 6s\tremaining: 3m 1s\n",
      "952:\tlearn: 3786.7862364\ttest: 8723.2550169\tbest: 8715.1425484 (821)\ttotal: 1h 10s\tremaining: 2m 58s\n",
      "953:\tlearn: 3786.6079798\ttest: 8723.1936427\tbest: 8715.1425484 (821)\ttotal: 1h 13s\tremaining: 2m 54s\n",
      "954:\tlearn: 3786.4133078\ttest: 8723.1007492\tbest: 8715.1425484 (821)\ttotal: 1h 17s\tremaining: 2m 50s\n",
      "955:\tlearn: 3786.1571004\ttest: 8725.9591667\tbest: 8715.1425484 (821)\ttotal: 1h 21s\tremaining: 2m 46s\n",
      "956:\tlearn: 3785.9732935\ttest: 8725.9973329\tbest: 8715.1425484 (821)\ttotal: 1h 24s\tremaining: 2m 42s\n",
      "957:\tlearn: 3785.7896582\ttest: 8724.7429771\tbest: 8715.1425484 (821)\ttotal: 1h 28s\tremaining: 2m 39s\n",
      "958:\tlearn: 3785.2179508\ttest: 8724.7450051\tbest: 8715.1425484 (821)\ttotal: 1h 32s\tremaining: 2m 35s\n",
      "959:\tlearn: 3784.8933500\ttest: 8723.1417342\tbest: 8715.1425484 (821)\ttotal: 1h 36s\tremaining: 2m 31s\n",
      "960:\tlearn: 3784.6812677\ttest: 8723.1816444\tbest: 8715.1425484 (821)\ttotal: 1h 41s\tremaining: 2m 27s\n",
      "961:\tlearn: 3784.4754795\ttest: 8723.5924411\tbest: 8715.1425484 (821)\ttotal: 1h 45s\tremaining: 2m 23s\n",
      "962:\tlearn: 3784.3261721\ttest: 8723.6296359\tbest: 8715.1425484 (821)\ttotal: 1h 49s\tremaining: 2m 20s\n",
      "963:\tlearn: 3784.0835066\ttest: 8723.2757744\tbest: 8715.1425484 (821)\ttotal: 1h 52s\tremaining: 2m 16s\n",
      "964:\tlearn: 3783.7945203\ttest: 8723.8781172\tbest: 8715.1425484 (821)\ttotal: 1h 56s\tremaining: 2m 12s\n"
     ]
    },
    {
     "name": "stdout",
     "output_type": "stream",
     "text": [
      "967:\tlearn: 3782.6696252\ttest: 8723.4349067\tbest: 8715.1425484 (821)\ttotal: 1h 1m 8s\tremaining: 2m 1s\n",
      "968:\tlearn: 3782.5375314\ttest: 8723.1867601\tbest: 8715.1425484 (821)\ttotal: 1h 1m 11s\tremaining: 1m 57s\n",
      "969:\tlearn: 3782.2892525\ttest: 8723.9162169\tbest: 8715.1425484 (821)\ttotal: 1h 1m 15s\tremaining: 1m 53s\n",
      "970:\tlearn: 3782.1297846\ttest: 8724.0110316\tbest: 8715.1425484 (821)\ttotal: 1h 1m 19s\tremaining: 1m 49s\n",
      "971:\tlearn: 3781.5466596\ttest: 8723.9854410\tbest: 8715.1425484 (821)\ttotal: 1h 1m 23s\tremaining: 1m 46s\n",
      "972:\tlearn: 3781.3423646\ttest: 8724.1834558\tbest: 8715.1425484 (821)\ttotal: 1h 1m 27s\tremaining: 1m 42s\n",
      "973:\tlearn: 3781.1533959\ttest: 8723.4807367\tbest: 8715.1425484 (821)\ttotal: 1h 1m 31s\tremaining: 1m 38s\n",
      "974:\tlearn: 3781.0033483\ttest: 8723.6356059\tbest: 8715.1425484 (821)\ttotal: 1h 1m 35s\tremaining: 1m 34s\n",
      "975:\tlearn: 3780.7163701\ttest: 8723.4966429\tbest: 8715.1425484 (821)\ttotal: 1h 1m 38s\tremaining: 1m 30s\n",
      "976:\tlearn: 3780.5996751\ttest: 8723.6759505\tbest: 8715.1425484 (821)\ttotal: 1h 1m 42s\tremaining: 1m 27s\n",
      "977:\tlearn: 3780.4092844\ttest: 8723.6345988\tbest: 8715.1425484 (821)\ttotal: 1h 1m 46s\tremaining: 1m 23s\n",
      "978:\tlearn: 3780.1707003\ttest: 8723.3716599\tbest: 8715.1425484 (821)\ttotal: 1h 1m 50s\tremaining: 1m 19s\n",
      "979:\tlearn: 3779.7169955\ttest: 8720.6595598\tbest: 8715.1425484 (821)\ttotal: 1h 1m 53s\tremaining: 1m 15s\n",
      "980:\tlearn: 3779.5023635\ttest: 8721.2060440\tbest: 8715.1425484 (821)\ttotal: 1h 1m 57s\tremaining: 1m 12s\n",
      "981:\tlearn: 3779.3704599\ttest: 8721.0458911\tbest: 8715.1425484 (821)\ttotal: 1h 2m 1s\tremaining: 1m 8s\n",
      "982:\tlearn: 3779.2078056\ttest: 8720.9307639\tbest: 8715.1425484 (821)\ttotal: 1h 2m 5s\tremaining: 1m 4s\n",
      "983:\tlearn: 3778.9822050\ttest: 8720.6099153\tbest: 8715.1425484 (821)\ttotal: 1h 2m 9s\tremaining: 1m\n",
      "984:\tlearn: 3778.8505879\ttest: 8720.7034557\tbest: 8715.1425484 (821)\ttotal: 1h 2m 13s\tremaining: 56.8s\n",
      "985:\tlearn: 3778.7543047\ttest: 8720.6377901\tbest: 8715.1425484 (821)\ttotal: 1h 2m 16s\tremaining: 53.1s\n",
      "986:\tlearn: 3778.5337023\ttest: 8722.6178485\tbest: 8715.1425484 (821)\ttotal: 1h 2m 20s\tremaining: 49.3s\n",
      "987:\tlearn: 3778.3573594\ttest: 8722.4935300\tbest: 8715.1425484 (821)\ttotal: 1h 2m 24s\tremaining: 45.5s\n",
      "988:\tlearn: 3778.0945616\ttest: 8722.5482216\tbest: 8715.1425484 (821)\ttotal: 1h 2m 28s\tremaining: 41.7s\n",
      "989:\tlearn: 3777.9676287\ttest: 8722.5003048\tbest: 8715.1425484 (821)\ttotal: 1h 2m 31s\tremaining: 37.9s\n",
      "990:\tlearn: 3777.8029938\ttest: 8722.4347740\tbest: 8715.1425484 (821)\ttotal: 1h 2m 35s\tremaining: 34.1s\n",
      "991:\tlearn: 3777.5282316\ttest: 8722.2657603\tbest: 8715.1425484 (821)\ttotal: 1h 2m 39s\tremaining: 30.3s\n",
      "992:\tlearn: 3777.3637198\ttest: 8722.1372783\tbest: 8715.1425484 (821)\ttotal: 1h 2m 43s\tremaining: 26.5s\n",
      "993:\tlearn: 3777.1914195\ttest: 8722.1002845\tbest: 8715.1425484 (821)\ttotal: 1h 2m 47s\tremaining: 22.7s\n",
      "994:\tlearn: 3777.0722377\ttest: 8720.6763862\tbest: 8715.1425484 (821)\ttotal: 1h 2m 51s\tremaining: 18.9s\n",
      "995:\tlearn: 3776.9012618\ttest: 8720.3971896\tbest: 8715.1425484 (821)\ttotal: 1h 2m 55s\tremaining: 15.2s\n",
      "996:\tlearn: 3776.7694140\ttest: 8720.3880356\tbest: 8715.1425484 (821)\ttotal: 1h 2m 59s\tremaining: 11.4s\n",
      "997:\tlearn: 3776.6548908\ttest: 8721.0331402\tbest: 8715.1425484 (821)\ttotal: 1h 3m 3s\tremaining: 7.58s\n",
      "998:\tlearn: 3776.3488291\ttest: 8721.3619256\tbest: 8715.1425484 (821)\ttotal: 1h 3m 7s\tremaining: 3.79s\n",
      "999:\tlearn: 3776.1159226\ttest: 8721.5423575\tbest: 8715.1425484 (821)\ttotal: 1h 3m 11s\tremaining: 0us\n",
      "\n",
      "bestTest = 8715.142548\n",
      "bestIteration = 821\n",
      "\n",
      "Shrink model to first 822 iterations.\n"
     ]
    },
    {
     "data": {
      "text/plain": [
       "<catboost.core.CatBoostRegressor at 0x2ab619cd4490>"
      ]
     },
     "execution_count": 101,
     "metadata": {},
     "output_type": "execute_result"
    }
   ],
   "source": [
    "# fit\n",
    "cb_model = CatBoostRegressor(cat_features=selected_cat_cols,verbose=True)\n",
    "cb_model.fit(train[selected_num_cols + selected_cat_cols]\n",
    "             ,train[target]\n",
    "             ,eval_set=(validate[num_cols + cat_cols], validate[target])\n",
    "            )"
   ]
  },
  {
   "cell_type": "code",
   "execution_count": 102,
   "metadata": {},
   "outputs": [],
   "source": [
    "# predict\n",
    "cb_preds = cb_model.predict(validate[selected_num_cols + selected_cat_cols])"
   ]
  },
  {
   "cell_type": "code",
   "execution_count": 103,
   "metadata": {},
   "outputs": [
    {
     "name": "stdout",
     "output_type": "stream",
     "text": [
      "R2:  0.645\n",
      "MAE:  5755.97\n",
      "MAPE:  54.8 %\n",
      "RMSE:  8715.14\n",
      "Percent Underpayed:  46.7 %\n",
      "Mean of Underpayment:  6997.33\n",
      "Percent Overpayed:  53.3 %\n",
      "Mean of Overpayment:  -4666.26\n",
      "Mean Error:  786.15\n"
     ]
    }
   ],
   "source": [
    "# results\n",
    "assess_results(validate[target], cb_preds)"
   ]
  },
  {
   "cell_type": "code",
   "execution_count": 104,
   "metadata": {},
   "outputs": [
    {
     "data": {
      "text/html": [
       "<div>\n",
       "<style scoped>\n",
       "    .dataframe tbody tr th:only-of-type {\n",
       "        vertical-align: middle;\n",
       "    }\n",
       "\n",
       "    .dataframe tbody tr th {\n",
       "        vertical-align: top;\n",
       "    }\n",
       "\n",
       "    .dataframe thead th {\n",
       "        text-align: right;\n",
       "    }\n",
       "</style>\n",
       "<table border=\"1\" class=\"dataframe\">\n",
       "  <thead>\n",
       "    <tr style=\"text-align: right;\">\n",
       "      <th></th>\n",
       "      <th>Feature Id</th>\n",
       "      <th>Importances</th>\n",
       "    </tr>\n",
       "  </thead>\n",
       "  <tbody>\n",
       "    <tr>\n",
       "      <th>0</th>\n",
       "      <td>make_model_trim_encoded</td>\n",
       "      <td>35.342548</td>\n",
       "    </tr>\n",
       "    <tr>\n",
       "      <th>1</th>\n",
       "      <td>age_months</td>\n",
       "      <td>23.988345</td>\n",
       "    </tr>\n",
       "    <tr>\n",
       "      <th>2</th>\n",
       "      <td>engine_size</td>\n",
       "      <td>6.911538</td>\n",
       "    </tr>\n",
       "    <tr>\n",
       "      <th>3</th>\n",
       "      <td>miles</td>\n",
       "      <td>6.720042</td>\n",
       "    </tr>\n",
       "    <tr>\n",
       "      <th>4</th>\n",
       "      <td>used_car_price_index</td>\n",
       "      <td>5.408560</td>\n",
       "    </tr>\n",
       "    <tr>\n",
       "      <th>5</th>\n",
       "      <td>mpg</td>\n",
       "      <td>4.484863</td>\n",
       "    </tr>\n",
       "    <tr>\n",
       "      <th>6</th>\n",
       "      <td>cylinders</td>\n",
       "      <td>3.459201</td>\n",
       "    </tr>\n",
       "    <tr>\n",
       "      <th>7</th>\n",
       "      <td>new_car_price_index</td>\n",
       "      <td>1.935433</td>\n",
       "    </tr>\n",
       "    <tr>\n",
       "      <th>8</th>\n",
       "      <td>body_type</td>\n",
       "      <td>1.919894</td>\n",
       "    </tr>\n",
       "    <tr>\n",
       "      <th>9</th>\n",
       "      <td>drivetrain</td>\n",
       "      <td>1.914544</td>\n",
       "    </tr>\n",
       "  </tbody>\n",
       "</table>\n",
       "</div>"
      ],
      "text/plain": [
       "                Feature Id  Importances\n",
       "0  make_model_trim_encoded    35.342548\n",
       "1               age_months    23.988345\n",
       "2              engine_size     6.911538\n",
       "3                    miles     6.720042\n",
       "4     used_car_price_index     5.408560\n",
       "5                      mpg     4.484863\n",
       "6                cylinders     3.459201\n",
       "7      new_car_price_index     1.935433\n",
       "8                body_type     1.919894\n",
       "9               drivetrain     1.914544"
      ]
     },
     "execution_count": 104,
     "metadata": {},
     "output_type": "execute_result"
    }
   ],
   "source": [
    "# print top ten features by importance with importance measure\n",
    "importance = cb_model.get_feature_importance(prettified=True)\n",
    "importance.head(10)"
   ]
  },
  {
   "cell_type": "markdown",
   "metadata": {},
   "source": [
    "### Handicapped CatBoost"
   ]
  },
  {
   "cell_type": "markdown",
   "metadata": {},
   "source": [
    "#### Without Target Encoding"
   ]
  },
  {
   "cell_type": "code",
   "execution_count": null,
   "metadata": {},
   "outputs": [],
   "source": [
    "# select numerical columns\n",
    "selected_num_cols = num_cols\n",
    "remove_cols = [\"make_model_trim_encoded\"]\n",
    "for remove_col in remove_cols:\n",
    "    selected_num_cols.remove(remove_col)\n",
    "selected_num_cols"
   ]
  },
  {
   "cell_type": "code",
   "execution_count": null,
   "metadata": {},
   "outputs": [],
   "source": [
    "# select categorical columns\n",
    "selected_cat_cols = cat_cols\n",
    "remove_cols = [\"make_model_trim\",\"trim\"] # leaving make and model in\n",
    "for remove_col in remove_cols:\n",
    "    selected_cat_cols.remove(remove_col)\n",
    "selected_cat_cols"
   ]
  },
  {
   "cell_type": "code",
   "execution_count": null,
   "metadata": {},
   "outputs": [],
   "source": [
    "# fit\n",
    "cb_model = CatBoostRegressor(cat_features=selected_cat_cols,verbose=False)\n",
    "cb_model.fit(train[selected_num_cols + selected_cat_cols],train[target])\n",
    "\n",
    "# predict\n",
    "cb_preds = cb_model.predict(validate[selected_num_cols + selected_cat_cols])\n",
    "\n",
    "# results\n",
    "assess_results(validate[target], cb_preds)"
   ]
  },
  {
   "cell_type": "markdown",
   "metadata": {},
   "source": [
    "#### Without External Data"
   ]
  },
  {
   "cell_type": "code",
   "execution_count": null,
   "metadata": {},
   "outputs": [],
   "source": [
    "# select numerical columns\n",
    "selected_num_cols = num_cols\n",
    "remove_cols = [\"population_density\", \"median_income\", \"median_home_value\" # local\n",
    "              ,\"used_car_price_index\", \"new_car_price_index\", \"gas_price_index\", \"consumer_sentiment_index\"] # fred\n",
    "for remove_col in remove_cols:\n",
    "    selected_num_cols.remove(remove_col)\n",
    "selected_num_cols"
   ]
  },
  {
   "cell_type": "code",
   "execution_count": null,
   "metadata": {},
   "outputs": [],
   "source": [
    "# select categorical columns\n",
    "selected_cat_cols = cat_cols\n",
    "remove_cols = [\"make_model_trim\",\"make\",\"model\",\"trim\"]\n",
    "for remove_col in remove_cols:\n",
    "    selected_cat_cols.remove(remove_col)\n",
    "selected_cat_cols"
   ]
  },
  {
   "cell_type": "code",
   "execution_count": null,
   "metadata": {},
   "outputs": [],
   "source": [
    "# fit\n",
    "cb_model = CatBoostRegressor(cat_features=selected_cat_cols,verbose=False)\n",
    "cb_model.fit(train[selected_num_cols + selected_cat_cols],train[target])\n",
    "\n",
    "# predict\n",
    "cb_preds = cb_model.predict(validate[selected_num_cols + selected_cat_cols])\n",
    "\n",
    "# results\n",
    "assess_results(validate[target], cb_preds)"
   ]
  },
  {
   "cell_type": "markdown",
   "metadata": {},
   "source": [
    "#### Without High Value Features"
   ]
  },
  {
   "cell_type": "code",
   "execution_count": null,
   "metadata": {},
   "outputs": [],
   "source": [
    "# select numerical columns\n",
    "selected_num_cols = num_cols\n",
    "remove_cols = ['hvf_comp_1', 'hvf_comp_2', 'hvf_comp_3'\n",
    "              ,'hvf_comp_4', 'hvf_comp_5', 'hvf_comp_6'\n",
    "              ,'hvf_comp_7', 'hvf_comp_8', 'hvf_comp_9'\n",
    "              ,'hvf_comp_10', 'hvf_comp_11', 'hvf_comp_12'\n",
    "              ,'hvf_comp_13', 'hvf_comp_14', 'hvf_comp_15'\n",
    "              ,'hvf_comp_16',]\n",
    "for remove_col in remove_cols:\n",
    "    selected_num_cols.remove(remove_col)\n",
    "selected_num_cols"
   ]
  },
  {
   "cell_type": "code",
   "execution_count": null,
   "metadata": {},
   "outputs": [],
   "source": [
    "# select categorical columns\n",
    "selected_cat_cols = cat_cols\n",
    "remove_cols = [\"make_model_trim\",\"make\",\"model\",\"trim\"]\n",
    "for remove_col in remove_cols:\n",
    "    selected_cat_cols.remove(remove_col)\n",
    "selected_cat_cols"
   ]
  },
  {
   "cell_type": "code",
   "execution_count": null,
   "metadata": {},
   "outputs": [],
   "source": [
    "# fit\n",
    "cb_model = CatBoostRegressor(cat_features=selected_cat_cols,verbose=False)\n",
    "cb_model.fit(train[selected_num_cols + selected_cat_cols],train[target])\n",
    "\n",
    "# predict\n",
    "cb_preds = cb_model.predict(validate[selected_num_cols + selected_cat_cols])\n",
    "\n",
    "# results\n",
    "assess_results(validate[target], cb_preds)"
   ]
  },
  {
   "cell_type": "markdown",
   "metadata": {},
   "source": [
    "### CatBoost with Tilted Loss\n",
    "Allows targetting of quantiles\n",
    "\n",
    "https://brendanhasz.github.io/2018/12/15/quantile-regression.html#quantile-regression"
   ]
  },
  {
   "cell_type": "code",
   "execution_count": null,
   "metadata": {},
   "outputs": [],
   "source": [
    "# select numerical columns\n",
    "selected_num_cols = num_cols\n",
    "remove_cols = []\n",
    "for remove_col in remove_cols:\n",
    "    selected_num_cols.remove(remove_col)\n",
    "selected_num_cols"
   ]
  },
  {
   "cell_type": "code",
   "execution_count": null,
   "metadata": {},
   "outputs": [],
   "source": [
    "# select categorical columns\n",
    "selected_cat_cols = cat_cols\n",
    "remove_cols = [\"make_model_trim\",\"make\",\"model\",\"trim\"]\n",
    "for remove_col in remove_cols:\n",
    "    selected_cat_cols.remove(remove_col)\n",
    "selected_cat_cols"
   ]
  },
  {
   "cell_type": "code",
   "execution_count": null,
   "metadata": {},
   "outputs": [],
   "source": [
    "# fit\n",
    "cb_model = CatBoostRegressor(cat_features=selected_cat_cols,verbose=False\n",
    "                            ,loss_function='Quantile:alpha=0.5')\n",
    "cb_model.fit(train[selected_num_cols + selected_cat_cols],train[target])\n",
    "\n",
    "# predict\n",
    "cb_preds = cb_model.predict(validate[selected_num_cols + selected_cat_cols])\n",
    "\n",
    "# results\n",
    "assess_results(validate[target], cb_preds)"
   ]
  },
  {
   "cell_type": "markdown",
   "metadata": {},
   "source": [
    "### CatBoost Hyperparameter Tuning and Validation Set Stopping"
   ]
  },
  {
   "cell_type": "code",
   "execution_count": null,
   "metadata": {},
   "outputs": [],
   "source": [
    "from catboost import CatBoostRegressor\n",
    "from sklearn.model_selection import GridSearchCV\n",
    "import pandas as pd\n",
    "\n",
    "# create sample data\n",
    "train = pd.DataFrame({'num_col_1': [1, 2, 3, 4, 5],\n",
    "                      'num_col_2': [10, 20, 30, 40, 50],\n",
    "                      'cat_col_1': ['a', 'b', 'c', 'a', 'b'],\n",
    "                      'cat_col_2': ['x', 'y', 'z', 'z', 'y'],\n",
    "                      'target': [100, 200, 300, 400, 500]})\n",
    "validate = pd.DataFrame({'num_col_1': [6, 7, 8, 9, 10],\n",
    "                         'num_col_2': [60, 70, 80, 90, 100],\n",
    "                         'cat_col_1': ['c', 'a', 'b', 'a', 'c'],\n",
    "                         'cat_col_2': ['y', 'z', 'x', 'y', 'z'],\n",
    "                         'target': [600, 700, 800, 900, 1000]})\n",
    "\n",
    "# define hyperparameters to search over\n",
    "params = {'learning_rate': [0.1, 0.2, 0.3],\n",
    "          'depth': [3, 5, 7],\n",
    "          'iterations': [100, 200, 300]}\n",
    "\n",
    "# define categorical columns\n",
    "cat_cols = ['cat_col_1', 'cat_col_2']\n",
    "\n",
    "# define numeric columns\n",
    "num_cols = ['num_col_1', 'num_col_2']\n",
    "\n",
    "# define target column\n",
    "target = 'target'\n",
    "\n",
    "# create a CatBoostRegressor model\n",
    "cb_model = CatBoostRegressor(cat_features=cat_cols)\n",
    "\n",
    "# perform hyperparameter optimization by grid search\n",
    "grid_search = GridSearchCV(cb_model, params, cv=3)\n",
    "grid_search.fit(train[num_cols + cat_cols], train[target])\n",
    "\n",
    "# train the model with the best hyperparameters on the full training set\n",
    "best_model = grid_search.best_estimator_\n",
    "best_model.fit(train[num_cols + cat_cols], train[target], eval_set=(validate[num_cols + cat_cols], validate[target]))\n",
    "\n",
    "# print the best hyperparameters and feature importances\n",
    "print('Best hyperparameters:', grid_search.best_params_)\n",
    "print('Feature importances:', best_model.feature_importances_)\n"
   ]
  },
  {
   "cell_type": "markdown",
   "metadata": {},
   "source": [
    "## Final Test Results"
   ]
  },
  {
   "cell_type": "code",
   "execution_count": null,
   "metadata": {},
   "outputs": [],
   "source": [
    "test"
   ]
  }
 ],
 "metadata": {
  "colab": {
   "collapsed_sections": [
    "n7UQ4jzFIDtZ",
    "pf8KzdwtIDtc"
   ],
   "machine_shape": "hm",
   "provenance": []
  },
  "gpuClass": "standard",
  "kernelspec": {
   "display_name": "Python 3 (ipykernel)",
   "language": "python",
   "name": "python3"
  },
  "language_info": {
   "codemirror_mode": {
    "name": "ipython",
    "version": 3
   },
   "file_extension": ".py",
   "mimetype": "text/x-python",
   "name": "python",
   "nbconvert_exporter": "python",
   "pygments_lexer": "ipython3",
   "version": "3.9.12"
  }
 },
 "nbformat": 4,
 "nbformat_minor": 1
}
