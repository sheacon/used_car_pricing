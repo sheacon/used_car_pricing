{
 "cells": [
  {
   "cell_type": "markdown",
   "metadata": {
    "id": "VpW_mbAyIDtT"
   },
   "source": [
    "# Modeling\n",
    "Big notebook, lots of stuff.  I'm going to try to break it up into sections."
   ]
  },
  {
   "cell_type": "markdown",
   "metadata": {
    "id": "n7UQ4jzFIDtZ"
   },
   "source": [
    "## Environment"
   ]
  },
  {
   "cell_type": "code",
   "execution_count": 1,
   "metadata": {
    "executionInfo": {
     "elapsed": 767,
     "status": "ok",
     "timestamp": 1678124119673,
     "user": {
      "displayName": "Shea Conaway",
      "userId": "06745111064212010073"
     },
     "user_tz": 360
    },
    "id": "OHzjIIGb-xxW"
   },
   "outputs": [],
   "source": [
    "import numpy as np\n",
    "import pandas as pd"
   ]
  },
  {
   "cell_type": "code",
   "execution_count": 2,
   "metadata": {},
   "outputs": [],
   "source": [
    "# show 100 rows max\n",
    "pd.options.display.max_rows = 100"
   ]
  },
  {
   "cell_type": "markdown",
   "metadata": {},
   "source": [
    "## Load Data"
   ]
  },
  {
   "cell_type": "code",
   "execution_count": 3,
   "metadata": {},
   "outputs": [],
   "source": [
    "def print_shape(df):\n",
    "    print(f\"Rows: {df.shape[0]:,} \\nColumns: {df.shape[1]:,}\")"
   ]
  },
  {
   "cell_type": "code",
   "execution_count": 4,
   "metadata": {},
   "outputs": [],
   "source": [
    "def print_rows(df):\n",
    "    print(f\"Rows: {df.shape[0]:,}\")"
   ]
  },
  {
   "cell_type": "code",
   "execution_count": 5,
   "metadata": {
    "id": "GGVLEfTl-xxW"
   },
   "outputs": [
    {
     "name": "stdout",
     "output_type": "stream",
     "text": [
      "Rows: 13,074,852 \n",
      "Columns: 42\n"
     ]
    }
   ],
   "source": [
    "data_dir = \"/data/p_dsi/capstone_projects/shea/4_merged/\"\n",
    "filename = \"merged_structured.pkl\"\n",
    "\n",
    "df = pd.read_pickle(data_dir + filename)\n",
    "print_shape(df)"
   ]
  },
  {
   "cell_type": "code",
   "execution_count": 6,
   "metadata": {},
   "outputs": [
    {
     "name": "stdout",
     "output_type": "stream",
     "text": [
      "<class 'pandas.core.frame.DataFrame'>\n",
      "Int64Index: 13074852 entries, 0 to 13074851\n",
      "Data columns (total 42 columns):\n",
      " #   Column               Dtype         \n",
      "---  ------               -----         \n",
      " 0   vin                  object        \n",
      " 1   price                float64       \n",
      " 2   miles                float64       \n",
      " 3   year                 float64       \n",
      " 4   make                 object        \n",
      " 5   model                object        \n",
      " 6   trim                 object        \n",
      " 7   vehicle_type         object        \n",
      " 8   body_type            object        \n",
      " 9   body_subtype         object        \n",
      " 10  drivetrain           object        \n",
      " 11  fuel_type            object        \n",
      " 12  engine_block         object        \n",
      " 13  engine_size          object        \n",
      " 14  transmission         object        \n",
      " 15  doors                float64       \n",
      " 16  cylinders            float64       \n",
      " 17  city_mpg             float64       \n",
      " 18  highway_mpg          float64       \n",
      " 19  base_exterior_color  object        \n",
      " 20  base_interior_color  object        \n",
      " 21  is_certified         float64       \n",
      " 22  is_transfer          float64       \n",
      " 23  scraped_at           object        \n",
      " 24  status_date          object        \n",
      " 25  first_scraped_at     object        \n",
      " 26  city                 object        \n",
      " 27  zip                  object        \n",
      " 28  latitude             float32       \n",
      " 29  longitude            float32       \n",
      " 30  dealer_type          object        \n",
      " 31  currency_indicator   object        \n",
      " 32  miles_indicator      object        \n",
      " 33  photo_links_count    int32         \n",
      " 34  hvf_standard         object        \n",
      " 35  hvf_optional         object        \n",
      " 36  mvr_purchase_date    datetime64[ns]\n",
      " 37  mvr_price            float32       \n",
      " 38  mvr_make             object        \n",
      " 39  mvr_mileage          object        \n",
      " 40  mvr_model_year       int16         \n",
      " 41  mvr_state            object        \n",
      "dtypes: datetime64[ns](1), float32(3), float64(9), int16(1), int32(1), object(27)\n",
      "memory usage: 3.9+ GB\n"
     ]
    }
   ],
   "source": [
    "df.info()"
   ]
  },
  {
   "cell_type": "markdown",
   "metadata": {},
   "source": [
    "Title registration is the source of truth for purchase date and price. Listing for everything else..."
   ]
  },
  {
   "cell_type": "markdown",
   "metadata": {},
   "source": [
    "## Business Case Exclusions"
   ]
  },
  {
   "cell_type": "markdown",
   "metadata": {},
   "source": [
    "### Consumer Cars and Trucks Only\n",
    "Exclude commerical and recreational vehicles"
   ]
  },
  {
   "cell_type": "code",
   "execution_count": 7,
   "metadata": {
    "scrolled": false
   },
   "outputs": [
    {
     "name": "stdout",
     "output_type": "stream",
     "text": [
      "135385\n",
      "Rows: 12,939,467 \n",
      "Columns: 42\n"
     ]
    }
   ],
   "source": [
    "# consumer cars and trucks\n",
    "# df[\"body_type\"].value_counts()\n",
    "\n",
    "excluded_vehtypes = [\"Cargo Van\",\"Passenger Van\",\"Chassis Cab\",\"Car Van\"\n",
    "                     ,\"Combi\",\"Cutaway\",\"Van\",\"Commercial Wagon\",\"Chassis Cowl\"]\n",
    "\n",
    "print(df[\"body_type\"].isin(excluded_vehtypes).sum())\n",
    "df = df[~df[\"body_type\"].isin(excluded_vehtypes)]\n",
    "print_shape(df)"
   ]
  },
  {
   "cell_type": "markdown",
   "metadata": {},
   "source": [
    "### Not Vintage\n",
    "Vehicles older than 20 years can qualify for an antique plate"
   ]
  },
  {
   "cell_type": "code",
   "execution_count": 8,
   "metadata": {},
   "outputs": [],
   "source": [
    "# replace missing model year in listing with model year from mvr/registration\n",
    "df.loc[df[\"year\"].isna(),\"year\"] = df.loc[df[\"year\"].isna(),\"mvr_model_year\"]\n",
    "df[\"year\"] = df[\"year\"].astype(\"int\") # convert to int"
   ]
  },
  {
   "cell_type": "code",
   "execution_count": 9,
   "metadata": {},
   "outputs": [
    {
     "name": "stdout",
     "output_type": "stream",
     "text": [
      "160\n",
      "Rows: 12,939,307\n"
     ]
    }
   ],
   "source": [
    "# drop missing purchase date\n",
    "print(df[\"mvr_purchase_date\"].isna().sum())\n",
    "df = df[~(df[\"mvr_purchase_date\"].isna())]\n",
    "print_rows(df)"
   ]
  },
  {
   "cell_type": "code",
   "execution_count": 10,
   "metadata": {},
   "outputs": [
    {
     "name": "stdout",
     "output_type": "stream",
     "text": [
      "19466\n",
      "Rows: 12,919,841\n"
     ]
    }
   ],
   "source": [
    "# drop purchase date pre-2017\n",
    "print((df[\"mvr_purchase_date\"] < pd.to_datetime('20170101', format='%Y%m%d')).sum())\n",
    "df = df[~(df[\"mvr_purchase_date\"] < pd.to_datetime('20170101', format='%Y%m%d'))]\n",
    "print_rows(df)"
   ]
  },
  {
   "cell_type": "code",
   "execution_count": 11,
   "metadata": {},
   "outputs": [],
   "source": [
    "# difference between purchase date and 01-01-model_year\n",
    "df[\"timedelta\"] = df[\"mvr_purchase_date\"] - pd.to_datetime(df['year'].astype(str) + '0101', format='%Y%m%d')"
   ]
  },
  {
   "cell_type": "code",
   "execution_count": null,
   "metadata": {},
   "outputs": [],
   "source": [
    "# compute age in months\n",
    "df[\"age_months\"] = np.round(df['timedelta'].astype('timedelta64[s]') / (30.44*24*60*60)).astype(int)\n",
    "df[\"age_months\"] = df[\"age_months\"] + 6 # model year release date factor"
   ]
  },
  {
   "cell_type": "code",
   "execution_count": 13,
   "metadata": {},
   "outputs": [
    {
     "name": "stdout",
     "output_type": "stream",
     "text": [
      "139048\n",
      "Rows: 12,780,793\n"
     ]
    }
   ],
   "source": [
    "# drop 20+ years old\n",
    "print((df[\"age_months\"] >= 240).sum())\n",
    "df = df[df[\"age_months\"] < 240]\n",
    "print_rows(df)"
   ]
  },
  {
   "cell_type": "code",
   "execution_count": null,
   "metadata": {},
   "outputs": [],
   "source": [
    "# drop problematic negative age\n",
    "print((df[\"age_months\"] < 1).sum())\n",
    "df = df[~(df[\"age_months\"] < 1)]\n",
    "print_rows(df)"
   ]
  },
  {
   "cell_type": "markdown",
   "metadata": {},
   "source": [
    "### International"
   ]
  },
  {
   "cell_type": "code",
   "execution_count": 14,
   "metadata": {},
   "outputs": [
    {
     "name": "stdout",
     "output_type": "stream",
     "text": [
      "44\n",
      "376\n"
     ]
    }
   ],
   "source": [
    "# canadians/mexicans\n",
    "print((df[\"currency_indicator\"] == \"CAD\").sum())\n",
    "df = df[~(df[\"currency_indicator\"] == \"CAD\")]\n",
    "\n",
    "print((df[\"miles_indicator\"] == \"KILOMETERS\").sum())\n",
    "df = df[~(df[\"miles_indicator\"] == \"KILOMETERS\")]\n"
   ]
  },
  {
   "cell_type": "markdown",
   "metadata": {},
   "source": [
    "## Fatally Missing Values\n",
    "Not appropriate to impute these since they're too important"
   ]
  },
  {
   "cell_type": "markdown",
   "metadata": {},
   "source": [
    "### Price"
   ]
  },
  {
   "cell_type": "code",
   "execution_count": 15,
   "metadata": {},
   "outputs": [
    {
     "name": "stdout",
     "output_type": "stream",
     "text": [
      "942729\n",
      "Rows: 11,837,644\n"
     ]
    }
   ],
   "source": [
    "# price missing\n",
    "print(df[\"mvr_price\"].isna().sum())\n",
    "df = df[~df[\"mvr_price\"].isna()]\n",
    "print_rows(df)"
   ]
  },
  {
   "cell_type": "code",
   "execution_count": 16,
   "metadata": {},
   "outputs": [
    {
     "name": "stdout",
     "output_type": "stream",
     "text": [
      "2668980\n",
      "Rows: 9,168,664\n"
     ]
    }
   ],
   "source": [
    "# price ~ 0\n",
    "print((df[\"mvr_price\"] < 10).sum())\n",
    "df = df[~(df[\"mvr_price\"] < 10)]\n",
    "print_rows(df)"
   ]
  },
  {
   "cell_type": "markdown",
   "metadata": {},
   "source": [
    "### Mileage"
   ]
  },
  {
   "cell_type": "code",
   "execution_count": 17,
   "metadata": {},
   "outputs": [],
   "source": [
    "# replace missing listing miles with registration miles\n",
    "df.loc[df[\"miles\"].isna(),\"miles\"] = pd.to_numeric(df['mvr_mileage'], errors='coerce')[df[\"miles\"].isna()]"
   ]
  },
  {
   "cell_type": "code",
   "execution_count": 18,
   "metadata": {},
   "outputs": [],
   "source": [
    "# replace 0 listing miles with registration miles\n",
    "df.loc[(df[\"miles\"] == 0),\"miles\"] = pd.to_numeric(df['mvr_mileage'], errors='coerce')[df[\"miles\"] == 0]"
   ]
  },
  {
   "cell_type": "code",
   "execution_count": 19,
   "metadata": {},
   "outputs": [
    {
     "name": "stdout",
     "output_type": "stream",
     "text": [
      "32927\n",
      "6121\n",
      "Rows: 9,129,616\n"
     ]
    }
   ],
   "source": [
    "# drop if miles\n",
    "print(df[\"miles\"].isna().sum())\n",
    "print((df[\"miles\"] == 0).sum())\n",
    "df = df[~(df[\"miles\"].isna() | (df[\"miles\"] == 0))]\n",
    "print_rows(df)"
   ]
  },
  {
   "cell_type": "markdown",
   "metadata": {},
   "source": [
    "## Suspicious Data"
   ]
  },
  {
   "cell_type": "markdown",
   "metadata": {},
   "source": [
    "### Listing Date vs Purchase Date"
   ]
  },
  {
   "cell_type": "code",
   "execution_count": 20,
   "metadata": {
    "id": "u7FPDww0-xxX",
    "outputId": "6aa4b23b-a1b8-4bef-abe0-7021a466e8d9"
   },
   "outputs": [],
   "source": [
    "# difference between the last listing and the sale date recorded on the state registration\n",
    "#df[\"list_sale_diff\"] = (df['mvr_purchase_date'] - df['status_date']).astype('timedelta64[D]')\n",
    "#print_shape(df)\n",
    "# drop na's\n",
    "#df.dropna(subset=[\"list_sale_diff\"], inplace=True)\n",
    "#print_shape(df)\n",
    "# keep records with difference less than 90 days\n",
    "#df = df[abs(df[\"list_sale_diff\"]) < 90]\n",
    "#print_shape(df)\n",
    "#(abs(df[\"list_sale_diff\"]) > 90).sum()"
   ]
  },
  {
   "cell_type": "markdown",
   "metadata": {},
   "source": [
    "### Mileage"
   ]
  },
  {
   "cell_type": "code",
   "execution_count": 21,
   "metadata": {},
   "outputs": [],
   "source": [
    "# TODO: Check high mileage against mvr mileage"
   ]
  },
  {
   "cell_type": "code",
   "execution_count": 22,
   "metadata": {},
   "outputs": [
    {
     "name": "stdout",
     "output_type": "stream",
     "text": [
      "302039\n",
      "4\n"
     ]
    }
   ],
   "source": [
    "# calculate high and low prices\n",
    "top = df[\"miles\"].quantile(0.999)\n",
    "print(round(top))\n",
    "bottom = df[\"miles\"].quantile(0.001)\n",
    "print(round(bottom))"
   ]
  },
  {
   "cell_type": "code",
   "execution_count": 23,
   "metadata": {},
   "outputs": [
    {
     "name": "stdout",
     "output_type": "stream",
     "text": [
      "617405.464999564\n"
     ]
    }
   ],
   "source": [
    "toptop = df[\"miles\"].quantile(0.9999)\n",
    "print(toptop)"
   ]
  },
  {
   "cell_type": "markdown",
   "metadata": {},
   "source": [
    "### Other Strange Values"
   ]
  },
  {
   "cell_type": "code",
   "execution_count": 24,
   "metadata": {},
   "outputs": [],
   "source": [
    "df = df[df[\"drivetrain\"].isin([\"FWD\", \"RWD\", \"4WD\"])]"
   ]
  },
  {
   "cell_type": "code",
   "execution_count": 25,
   "metadata": {},
   "outputs": [],
   "source": [
    "mapping = {\"Lpg / Natural Gas\":\"Natural Gas\"\n",
    "           ,\"Unleaded / Premium Unleaded\":\"Premium Unleaded\"\n",
    "           ,\"E85; Unleaded \":\"E85 / Unleaded\"\n",
    "           ,\"E85 / Unleaded; Premium Unleaded\":\"Premium Unleaded\"\n",
    "           ,\"Compressed Natural Gas; Unleaded\":\"Natural Gas\"\n",
    "           ,\"Unleaded; Unleaded / E85\":\"E85 / Unleaded\"\n",
    "           ,\"E85 / Unleaded; Unleaded / E85 \":\"E85 / Unleaded\"\n",
    "           ,\"Unleaded / Electric\":\"Electric / Unleaded\"\n",
    "           ,\"Compressed Natural Gas / Unleaded\":\"Natural Gas\"\n",
    "           ,\"Premium Unleaded; Unleaded\":\"Premium Unleaded\"\n",
    "           ,\"E85 / Unleaded; Unleaded / Unleaded\":\"E85 / Unleaded\"\n",
    "           ,\"Compressed Natural Gas\":\"Natural Gas\"\n",
    "           ,\"Unleaded / Unleaded\":\"Unleaded\"\n",
    "           ,\"Premium Unleaded / Unleaded\":\"Premium Unleaded\"\n",
    "           ,\"E85 / Unleaded; Unleaded\":\"E85 / Unleaded\"\n",
    "           ,\"Unleaded / E85\":\"E85 / Unleaded\"\n",
    "          }\n",
    "\n",
    "df['fuel_type'] = df['fuel_type'].map(mapping).fillna(df['fuel_type'])"
   ]
  },
  {
   "cell_type": "code",
   "execution_count": null,
   "metadata": {},
   "outputs": [],
   "source": [
    "df['zip'] = df['zip'].str[:5]"
   ]
  },
  {
   "cell_type": "markdown",
   "metadata": {},
   "source": [
    "## Make, Model, Trim\n",
    "Central to target encoding. Need at least 1000 observations of make/model/trim combo"
   ]
  },
  {
   "cell_type": "code",
   "execution_count": 26,
   "metadata": {},
   "outputs": [
    {
     "name": "stdout",
     "output_type": "stream",
     "text": [
      "3183\n",
      "Rows: 9,050,976\n"
     ]
    }
   ],
   "source": [
    "# make, model, or trim is null\n",
    "print((df[\"make\"].isna() | df[\"model\"].isna() | df[\"trim\"].isna()).sum())\n",
    "df = df[~(df[\"make\"].isna() | df[\"model\"].isna() | df[\"trim\"].isna())]\n",
    "print_rows(df)"
   ]
  },
  {
   "cell_type": "code",
   "execution_count": 27,
   "metadata": {},
   "outputs": [],
   "source": [
    "# new make/model/trim col\n",
    "df['make_model_trim'] = df['make'] + ' / ' + df['model'] + ' / ' + df['trim']"
   ]
  },
  {
   "cell_type": "code",
   "execution_count": 28,
   "metadata": {},
   "outputs": [
    {
     "name": "stdout",
     "output_type": "stream",
     "text": [
      "845579\n",
      "Rows: 8,205,397\n"
     ]
    }
   ],
   "source": [
    "# drop make/model/trim <100 obs\n",
    "print(sum(df[\"make_model_trim\"].value_counts()[df[\"make_model_trim\"].value_counts() < 1000]))\n",
    "df = df[~df['make_model_trim'].isin(list((df[\"make_model_trim\"].value_counts()[df[\"make_model_trim\"].value_counts() < 1000]).index))]\n",
    "print_rows(df)"
   ]
  },
  {
   "cell_type": "markdown",
   "metadata": {},
   "source": [
    "## Target Variable"
   ]
  },
  {
   "cell_type": "markdown",
   "metadata": {},
   "source": [
    "We're not sellin' Ferraris and Lamborghinis here. We're sellin' everyday used cars."
   ]
  },
  {
   "cell_type": "code",
   "execution_count": 29,
   "metadata": {},
   "outputs": [
    {
     "data": {
      "text/plain": [
       "count    8.205397e+06\n",
       "mean     2.134589e+05\n",
       "std      3.468528e+08\n",
       "min      1.000000e+01\n",
       "25%      1.367665e+04\n",
       "50%      2.081300e+04\n",
       "75%      3.035068e+04\n",
       "max      7.911790e+11\n",
       "Name: mvr_price, dtype: float64"
      ]
     },
     "execution_count": 29,
     "metadata": {},
     "output_type": "execute_result"
    }
   ],
   "source": [
    "df[\"mvr_price\"].describe()"
   ]
  },
  {
   "cell_type": "code",
   "execution_count": 30,
   "metadata": {},
   "outputs": [
    {
     "name": "stdout",
     "output_type": "stream",
     "text": [
      "102750\n",
      "100\n"
     ]
    }
   ],
   "source": [
    "# calculate high and low prices\n",
    "top = df[\"mvr_price\"].quantile(0.999)\n",
    "print(round(top))\n",
    "bottom = df[\"mvr_price\"].quantile(0.001)\n",
    "print(round(bottom))"
   ]
  },
  {
   "cell_type": "code",
   "execution_count": 31,
   "metadata": {},
   "outputs": [
    {
     "name": "stdout",
     "output_type": "stream",
     "text": [
      "215000.0\n"
     ]
    }
   ],
   "source": [
    "toptop = df[\"mvr_price\"].quantile(0.9999)\n",
    "print(toptop)"
   ]
  },
  {
   "cell_type": "code",
   "execution_count": 32,
   "metadata": {},
   "outputs": [],
   "source": [
    "#df[(df[\"mvr_price\"] > toptop)].sort_values(by=[\"mvr_price\"])"
   ]
  },
  {
   "cell_type": "markdown",
   "metadata": {},
   "source": [
    "Based on manual inspection, records with `mvr_price` over $300,000 become highly error-prone. Extensive data validation is beyond the scope of this project, and these records will be dumped."
   ]
  },
  {
   "cell_type": "code",
   "execution_count": 33,
   "metadata": {},
   "outputs": [],
   "source": [
    "# remove obvious data errors only\n",
    "df = df[~(df[\"mvr_price\"] > 300000)]"
   ]
  },
  {
   "cell_type": "code",
   "execution_count": 34,
   "metadata": {
    "scrolled": true
   },
   "outputs": [
    {
     "data": {
      "text/plain": [
       "<AxesSubplot:>"
      ]
     },
     "execution_count": 34,
     "metadata": {},
     "output_type": "execute_result"
    },
    {
     "data": {
      "image/png": "[encoded data removed]",
      "text/plain": [
       "<Figure size 432x288 with 1 Axes>"
      ]
     },
     "metadata": {
      "needs_background": "light"
     },
     "output_type": "display_data"
    }
   ],
   "source": [
    "# plot distribution of mvr_price\n",
    "df[\"mvr_price\"].hist(bins=100)"
   ]
  },
  {
   "cell_type": "markdown",
   "metadata": {},
   "source": [
    "## Subset Columns"
   ]
  },
  {
   "cell_type": "code",
   "execution_count": 35,
   "metadata": {},
   "outputs": [],
   "source": [
    "df = df[['mvr_price','make_model_trim','miles', 'year','age_months', 'mvr_purchase_date',\n",
    "       'vehicle_type', 'body_type', 'drivetrain', 'fuel_type',\n",
    "       'engine_block', 'engine_size', 'transmission', 'doors', 'cylinders',\n",
    "       'city_mpg', 'highway_mpg', 'base_exterior_color', 'base_interior_color',\n",
    "       'is_certified', 'zip','mvr_state',\n",
    "       'hvf_standard', 'hvf_optional','make','model','trim']]\n",
    "\n",
    "# numeric\n",
    "df[\"engine_size\"] = df[\"engine_size\"].astype(\"float\")"
   ]
  },
  {
   "cell_type": "markdown",
   "metadata": {},
   "source": [
    "## Additional Feature Engineering"
   ]
  },
  {
   "cell_type": "code",
   "execution_count": 36,
   "metadata": {},
   "outputs": [],
   "source": [
    "# purchase month\n",
    "df[\"mvr_purchase_month\"] = df[\"mvr_purchase_date\"].dt.month.astype(\"category\")"
   ]
  },
  {
   "cell_type": "code",
   "execution_count": null,
   "metadata": {},
   "outputs": [],
   "source": [
    "# monthly mileage\n",
    "df[\"monthly_mileage\"] = round(df[\"miles\"]/df[\"age_months\"],1)"
   ]
  },
  {
   "cell_type": "code",
   "execution_count": 38,
   "metadata": {},
   "outputs": [],
   "source": [
    "# epa weights city/highway 55/45\n",
    "df[\"mpg\"] = df[\"city_mpg\"] * 0.55 + df[\"highway_mpg\"] * 0.45\n",
    "df.drop(columns=[\"city_mpg\", \"highway_mpg\"], inplace=True)"
   ]
  },
  {
   "cell_type": "markdown",
   "metadata": {},
   "source": [
    "### Local Features"
   ]
  },
  {
   "cell_type": "code",
   "execution_count": 39,
   "metadata": {},
   "outputs": [],
   "source": [
    "from uszipcode import SearchEngine\n",
    "search = SearchEngine(simple_or_comprehensive=SearchEngine.SimpleOrComprehensiveArgEnum.comprehensive) "
   ]
  },
  {
   "cell_type": "code",
   "execution_count": 40,
   "metadata": {},
   "outputs": [],
   "source": [
    "def get_population_density_and_income(zipcode):\n",
    "    result = search.by_zipcode(zipcode)\n",
    "    if result:\n",
    "        return pd.Series([result.population_density\n",
    "                          ,result.median_household_income\n",
    "                          ,result.median_home_value\n",
    "                         ])\n",
    "    else:\n",
    "        return pd.Series([None, None, None])"
   ]
  },
  {
   "cell_type": "code",
   "execution_count": 41,
   "metadata": {},
   "outputs": [],
   "source": [
    "# apply get_population_density_and_income to each value in zip_list\n",
    "zip_list = pd.DataFrame(df['zip'].unique(), columns=['zip'])\n",
    "zip_list[['population_density', 'median_income', 'median_home_value']] = zip_list['zip'].apply(get_population_density_and_income)\n",
    "df = df.merge(zip_list, on='zip', how='left')"
   ]
  },
  {
   "cell_type": "markdown",
   "metadata": {},
   "source": [
    "### Economic"
   ]
  },
  {
   "cell_type": "code",
   "execution_count": 42,
   "metadata": {},
   "outputs": [],
   "source": [
    "df[\"mvr_purchase_yearmonth\"] = df[\"mvr_purchase_date\"].dt.strftime('%Y-%m')"
   ]
  },
  {
   "cell_type": "code",
   "execution_count": 43,
   "metadata": {},
   "outputs": [],
   "source": [
    "# federal reserve economic data (fred)\n",
    "from fredapi import Fred\n",
    "fred = Fred(api_key_file='private/fred_api_key.txt')"
   ]
  },
  {
   "cell_type": "markdown",
   "metadata": {},
   "source": [
    "#### Used Car Price Index"
   ]
  },
  {
   "cell_type": "code",
   "execution_count": 44,
   "metadata": {},
   "outputs": [],
   "source": [
    "# BLS: Used cars and trucks in U.S. city average\n",
    "used_car_price_index = fred.get_series('CUUR0000SETA02')\n",
    "used_car_price_index.name = \"used_car_price_index\"\n",
    "used_car_price_index.index = used_car_price_index.index + pd.DateOffset(months=1) # shift index (have to use last month's index to predict next month's price)\n",
    "used_car_price_index.index = used_car_price_index.index.strftime('%Y-%m')\n",
    "df = df.join(used_car_price_index, on=\"mvr_purchase_yearmonth\", how=\"left\")"
   ]
  },
  {
   "cell_type": "markdown",
   "metadata": {},
   "source": [
    "#### New Car Price Index"
   ]
  },
  {
   "cell_type": "code",
   "execution_count": 45,
   "metadata": {},
   "outputs": [],
   "source": [
    "# BLS: New cars and trucks in U.S. city average\n",
    "new_car_price_index = fred.get_series('CUSR0000SETA01')\n",
    "new_car_price_index.name = \"new_car_price_index\"\n",
    "new_car_price_index.index = new_car_price_index.index + pd.DateOffset(months=1) # shift index (have to use last month's index to predict next month's price)\n",
    "new_car_price_index.index = new_car_price_index.index.strftime('%Y-%m')\n",
    "df = df.join(new_car_price_index, on=\"mvr_purchase_yearmonth\", how=\"left\")"
   ]
  },
  {
   "cell_type": "markdown",
   "metadata": {},
   "source": [
    "#### Gas Prices"
   ]
  },
  {
   "cell_type": "code",
   "execution_count": 46,
   "metadata": {},
   "outputs": [],
   "source": [
    "gas_price_index = fred.get_series('GASREGW')\n",
    "gas_price_index.name = \"gas_price_index\"\n",
    "gas_price_index = gas_price_index.groupby(pd.Grouper(freq='M')).mean().resample('M').mean()\n",
    "gas_price_index.index = gas_price_index.index + pd.DateOffset(months=1) # shift index \n",
    "gas_price_index.index = gas_price_index.index.strftime('%Y-%m')\n",
    "df = df.join(gas_price_index, on=\"mvr_purchase_yearmonth\", how=\"left\")"
   ]
  },
  {
   "cell_type": "markdown",
   "metadata": {},
   "source": [
    "#### Consumer Sentiment"
   ]
  },
  {
   "cell_type": "code",
   "execution_count": 47,
   "metadata": {},
   "outputs": [],
   "source": [
    "consumer_sentiment_index = fred.get_series('UMCSENT')\n",
    "consumer_sentiment_index.name = \"consumer_sentiment_index\"\n",
    "consumer_sentiment_index.index = consumer_sentiment_index.index + pd.DateOffset(months=1) # shift index (have to use last month's index to predict next month's price)\n",
    "consumer_sentiment_index.index = consumer_sentiment_index.index.strftime('%Y-%m')\n",
    "df = df.join(consumer_sentiment_index, on=\"mvr_purchase_yearmonth\", how=\"left\")"
   ]
  },
  {
   "cell_type": "markdown",
   "metadata": {},
   "source": [
    "### \"High Value Features\" Vehicle Options"
   ]
  },
  {
   "cell_type": "code",
   "execution_count": 53,
   "metadata": {},
   "outputs": [],
   "source": [
    "def make_series(x):\n",
    "    return pd.Series(x, dtype = object)"
   ]
  },
  {
   "cell_type": "code",
   "execution_count": 54,
   "metadata": {},
   "outputs": [],
   "source": [
    "from tqdm import tqdm\n",
    "tqdm.pandas()"
   ]
  },
  {
   "cell_type": "code",
   "execution_count": 55,
   "metadata": {},
   "outputs": [],
   "source": [
    "hvf_optional = df[\"hvf_optional\"]"
   ]
  },
  {
   "cell_type": "code",
   "execution_count": 56,
   "metadata": {
    "scrolled": true
   },
   "outputs": [
    {
     "name": "stderr",
     "output_type": "stream",
     "text": [
      "100%|██████████| 8205193/8205193 [38:51<00:00, 3518.98it/s]  \n"
     ]
    },
    {
     "name": "stdout",
     "output_type": "stream",
     "text": [
      "(2948489, 77)\n"
     ]
    },
    {
     "data": {
      "text/html": [
       "<div>\n",
       "<style scoped>\n",
       "    .dataframe tbody tr th:only-of-type {\n",
       "        vertical-align: middle;\n",
       "    }\n",
       "\n",
       "    .dataframe tbody tr th {\n",
       "        vertical-align: top;\n",
       "    }\n",
       "\n",
       "    .dataframe thead th {\n",
       "        text-align: right;\n",
       "    }\n",
       "</style>\n",
       "<table border=\"1\" class=\"dataframe\">\n",
       "  <thead>\n",
       "    <tr style=\"text-align: right;\">\n",
       "      <th></th>\n",
       "      <th>3rd Row Seats</th>\n",
       "      <th>4-Wheel Steering</th>\n",
       "      <th>Adaptive Cruise Control</th>\n",
       "      <th>Android Auto</th>\n",
       "      <th>Anti Collision System</th>\n",
       "      <th>Apple CarPlay</th>\n",
       "      <th>Automatic Transmission</th>\n",
       "      <th>Autonomous Drive Functions</th>\n",
       "      <th>Aux Jack Input</th>\n",
       "      <th>Backup Camera</th>\n",
       "      <th>...</th>\n",
       "      <th>Touch Screen Audio</th>\n",
       "      <th>Trailer Assist</th>\n",
       "      <th>Trailer Tow Mirrors</th>\n",
       "      <th>Turbo Boost</th>\n",
       "      <th>USB Connection</th>\n",
       "      <th>Video Entertainment</th>\n",
       "      <th>Voice Recognision</th>\n",
       "      <th>Voice Recognition</th>\n",
       "      <th>WiFi Hotspot</th>\n",
       "      <th>Wireless Charging/Connection</th>\n",
       "    </tr>\n",
       "  </thead>\n",
       "  <tbody>\n",
       "    <tr>\n",
       "      <th>1</th>\n",
       "      <td>0</td>\n",
       "      <td>0</td>\n",
       "      <td>0</td>\n",
       "      <td>0</td>\n",
       "      <td>0</td>\n",
       "      <td>0</td>\n",
       "      <td>0</td>\n",
       "      <td>0</td>\n",
       "      <td>0</td>\n",
       "      <td>0</td>\n",
       "      <td>...</td>\n",
       "      <td>0</td>\n",
       "      <td>0</td>\n",
       "      <td>1</td>\n",
       "      <td>0</td>\n",
       "      <td>0</td>\n",
       "      <td>0</td>\n",
       "      <td>0</td>\n",
       "      <td>0</td>\n",
       "      <td>0</td>\n",
       "      <td>0</td>\n",
       "    </tr>\n",
       "    <tr>\n",
       "      <th>12</th>\n",
       "      <td>0</td>\n",
       "      <td>0</td>\n",
       "      <td>0</td>\n",
       "      <td>0</td>\n",
       "      <td>0</td>\n",
       "      <td>0</td>\n",
       "      <td>0</td>\n",
       "      <td>0</td>\n",
       "      <td>0</td>\n",
       "      <td>0</td>\n",
       "      <td>...</td>\n",
       "      <td>0</td>\n",
       "      <td>0</td>\n",
       "      <td>1</td>\n",
       "      <td>0</td>\n",
       "      <td>0</td>\n",
       "      <td>0</td>\n",
       "      <td>0</td>\n",
       "      <td>0</td>\n",
       "      <td>0</td>\n",
       "      <td>1</td>\n",
       "    </tr>\n",
       "    <tr>\n",
       "      <th>14</th>\n",
       "      <td>0</td>\n",
       "      <td>0</td>\n",
       "      <td>1</td>\n",
       "      <td>0</td>\n",
       "      <td>1</td>\n",
       "      <td>0</td>\n",
       "      <td>0</td>\n",
       "      <td>0</td>\n",
       "      <td>0</td>\n",
       "      <td>0</td>\n",
       "      <td>...</td>\n",
       "      <td>0</td>\n",
       "      <td>0</td>\n",
       "      <td>0</td>\n",
       "      <td>0</td>\n",
       "      <td>0</td>\n",
       "      <td>0</td>\n",
       "      <td>0</td>\n",
       "      <td>0</td>\n",
       "      <td>0</td>\n",
       "      <td>0</td>\n",
       "    </tr>\n",
       "    <tr>\n",
       "      <th>23</th>\n",
       "      <td>0</td>\n",
       "      <td>0</td>\n",
       "      <td>0</td>\n",
       "      <td>0</td>\n",
       "      <td>0</td>\n",
       "      <td>0</td>\n",
       "      <td>0</td>\n",
       "      <td>0</td>\n",
       "      <td>0</td>\n",
       "      <td>0</td>\n",
       "      <td>...</td>\n",
       "      <td>0</td>\n",
       "      <td>0</td>\n",
       "      <td>0</td>\n",
       "      <td>0</td>\n",
       "      <td>0</td>\n",
       "      <td>0</td>\n",
       "      <td>0</td>\n",
       "      <td>0</td>\n",
       "      <td>0</td>\n",
       "      <td>0</td>\n",
       "    </tr>\n",
       "    <tr>\n",
       "      <th>25</th>\n",
       "      <td>0</td>\n",
       "      <td>0</td>\n",
       "      <td>0</td>\n",
       "      <td>0</td>\n",
       "      <td>0</td>\n",
       "      <td>0</td>\n",
       "      <td>0</td>\n",
       "      <td>0</td>\n",
       "      <td>0</td>\n",
       "      <td>0</td>\n",
       "      <td>...</td>\n",
       "      <td>0</td>\n",
       "      <td>0</td>\n",
       "      <td>0</td>\n",
       "      <td>0</td>\n",
       "      <td>0</td>\n",
       "      <td>0</td>\n",
       "      <td>0</td>\n",
       "      <td>0</td>\n",
       "      <td>0</td>\n",
       "      <td>0</td>\n",
       "    </tr>\n",
       "  </tbody>\n",
       "</table>\n",
       "<p>5 rows × 77 columns</p>\n",
       "</div>"
      ],
      "text/plain": [
       "    3rd Row Seats  4-Wheel Steering  Adaptive Cruise Control  Android Auto  \\\n",
       "1               0                 0                        0             0   \n",
       "12              0                 0                        0             0   \n",
       "14              0                 0                        1             0   \n",
       "23              0                 0                        0             0   \n",
       "25              0                 0                        0             0   \n",
       "\n",
       "    Anti Collision System  Apple CarPlay  Automatic Transmission  \\\n",
       "1                       0              0                       0   \n",
       "12                      0              0                       0   \n",
       "14                      1              0                       0   \n",
       "23                      0              0                       0   \n",
       "25                      0              0                       0   \n",
       "\n",
       "    Autonomous Drive Functions  Aux Jack Input  Backup Camera  ...  \\\n",
       "1                            0               0              0  ...   \n",
       "12                           0               0              0  ...   \n",
       "14                           0               0              0  ...   \n",
       "23                           0               0              0  ...   \n",
       "25                           0               0              0  ...   \n",
       "\n",
       "    Touch Screen Audio  Trailer Assist  Trailer Tow Mirrors  Turbo Boost  \\\n",
       "1                    0               0                    1            0   \n",
       "12                   0               0                    1            0   \n",
       "14                   0               0                    0            0   \n",
       "23                   0               0                    0            0   \n",
       "25                   0               0                    0            0   \n",
       "\n",
       "    USB Connection  Video Entertainment  Voice Recognision  Voice Recognition  \\\n",
       "1                0                    0                  0                  0   \n",
       "12               0                    0                  0                  0   \n",
       "14               0                    0                  0                  0   \n",
       "23               0                    0                  0                  0   \n",
       "25               0                    0                  0                  0   \n",
       "\n",
       "    WiFi Hotspot  Wireless Charging/Connection  \n",
       "1              0                             0  \n",
       "12             0                             1  \n",
       "14             0                             0  \n",
       "23             0                             0  \n",
       "25             0                             0  \n",
       "\n",
       "[5 rows x 77 columns]"
      ]
     },
     "execution_count": 56,
     "metadata": {},
     "output_type": "execute_result"
    }
   ],
   "source": [
    "hvf_optional_df = pd.get_dummies(hvf_optional.progress_apply(make_series).stack()).groupby(level=0).sum()\n",
    "print(hvf_optional_df.shape)"
   ]
  },
  {
   "cell_type": "code",
   "execution_count": 189,
   "metadata": {},
   "outputs": [],
   "source": [
    "merged_df = df.join(hvf_optional_df, how=\"left\")\n",
    "hvf_cols = list(hvf_optional_df.columns)\n",
    "merged_df[hvf_cols] = merged_df[hvf_cols].fillna(0)\n",
    "print_shape(merged_df)"
   ]
  },
  {
   "cell_type": "code",
   "execution_count": 195,
   "metadata": {},
   "outputs": [],
   "source": [
    "df = merged_df"
   ]
  },
  {
   "cell_type": "code",
   "execution_count": 338,
   "metadata": {},
   "outputs": [],
   "source": [
    "working_dir = \"/data/p_dsi/capstone_projects/shea/working/\"\n",
    "df.to_pickle(working_dir + \"df.pkl\")"
   ]
  },
  {
   "cell_type": "markdown",
   "metadata": {},
   "source": [
    "## Data Split"
   ]
  },
  {
   "cell_type": "code",
   "execution_count": null,
   "metadata": {},
   "outputs": [],
   "source": [
    "working_dir = \"/data/p_dsi/capstone_projects/shea/working/\"\n",
    "df = pd.read_pickle(working_dir + \"df.pkl\")"
   ]
  },
  {
   "cell_type": "code",
   "execution_count": null,
   "metadata": {},
   "outputs": [],
   "source": [
    "from sklearn.model_selection import train_test_split, StratifiedShuffleSplit\n",
    "\n",
    "# shuffle dataframe for good measure\n",
    "df = df.sample(frac=1).reset_index(drop=True)\n",
    "\n",
    "# create StratifiedShuffleSplit object by make_model_trim column\n",
    "sss = StratifiedShuffleSplit(n_splits=1, test_size=0.3, random_state=42)\n",
    "train_index, temp_index = next(sss.split(df, df['make_model_trim']))\n",
    "\n",
    "# create StratifiedShuffleSplit object by make_model_trim column again\n",
    "df_temp = df.loc[temp_index]\n",
    "sss = StratifiedShuffleSplit(n_splits=1, test_size=0.33, random_state=42)\n",
    "val_index, test_index = next(sss.split(df_temp, df_temp['make_model_trim']))\n",
    "\n",
    "# split dataframe into train, validate, and test sets\n",
    "train = df.loc[train_index]\n",
    "validate = df.loc[temp_index[val_index]]\n",
    "test = df.loc[temp_index[test_index]]\n",
    "\n",
    "print(\"Train\")\n",
    "print_rows(train)\n",
    "print(\"\\nValidate\")\n",
    "print_rows(validate)\n",
    "print(\"\\nTest\")\n",
    "print_rows(test)\n"
   ]
  },
  {
   "cell_type": "markdown",
   "metadata": {},
   "source": [
    "## Target Encoding"
   ]
  },
  {
   "cell_type": "code",
   "execution_count": 371,
   "metadata": {},
   "outputs": [],
   "source": [
    "train[\"make_model_trim_encoded\"] = train[\"make_model_trim\"]\n",
    "validate[\"make_model_trim_encoded\"] = validate[\"make_model_trim\"]\n",
    "test[\"make_model_trim_encoded\"] = test[\"make_model_trim\"]"
   ]
  },
  {
   "cell_type": "code",
   "execution_count": 372,
   "metadata": {},
   "outputs": [
    {
     "data": {
      "text/plain": [
       "TargetEncoder(cols=['make_model_trim_encoded'])"
      ]
     },
     "execution_count": 372,
     "metadata": {},
     "output_type": "execute_result"
    }
   ],
   "source": [
    "# fit encoder\n",
    "import category_encoders as ce\n",
    "\n",
    "encoder = ce.TargetEncoder(cols=['make_model_trim_encoded'])\n",
    "encoder.fit(train, train[\"mvr_price\"])"
   ]
  },
  {
   "cell_type": "code",
   "execution_count": 373,
   "metadata": {},
   "outputs": [],
   "source": [
    "# transform\n",
    "train = encoder.transform(train)\n",
    "validate = encoder.transform(train)\n",
    "test = encoder.transform(train)"
   ]
  },
  {
   "cell_type": "markdown",
   "metadata": {},
   "source": [
    "## HVF Dimsionality Reduction"
   ]
  },
  {
   "cell_type": "code",
   "execution_count": 374,
   "metadata": {},
   "outputs": [],
   "source": [
    "hvf_cols = ['3rd Row Seats',  '4-Wheel Steering',  'Adaptive Cruise Control', 'Android Auto',\n",
    " 'Anti Collision System', 'Apple CarPlay', 'Automatic Transmission', 'Autonomous Drive Functions',\n",
    " 'Aux Jack Input', 'Backup Camera', 'Biodiesel', 'Blind Spot System', 'Bluetooth', 'Brake Assist',\n",
    " 'CVT Transmission', 'Collision/Breakdown Telematics', 'Coming Home Device',\n",
    " 'Compressed Natural Gas', 'Concierge Services', 'Convertible Roof', 'Cruise Control', 'Diesel',\n",
    " 'Directional Headlights', 'Dual Rear Wheels', 'Dynamic Steering', 'Electric', 'Fog Lights',\n",
    " 'Gasoline', 'HDMI Connection', 'Hands Free Liftgate', 'Heads Up Display', 'Heated Door Mirrors',\n",
    " 'Heated Seats', 'Heated/Cooled Seats', 'Hybrid', 'Keyless Entry/Locking', 'Keyless Start/Remote Engine Start',\n",
    " 'LPG', 'Lane Keep Assist', 'Leather Seats', 'Leatherette Seats', 'Manual Transmission', 'Massage Seats',\n",
    " 'Memory Mirrors', 'Memory Seats', 'Memory Steering Wheel Position', 'Mirrorlink', 'Navigation',\n",
    " 'Panoramic Sun/Moonroof', 'Parking Assistance', 'Parking Distance Sensors', 'Parking Radar',\n",
    " 'Parking distance system', 'Phone Integration', 'Pickup Bed Cover', 'Pickup Bed Extender', 'Pickup Bed Liner',\n",
    " 'Power Closing Doors', 'Power Closing Liftgate', 'Premium Audio', 'Premium Cup Holders', 'Premium Wheels',\n",
    " 'Rear/Multi-Zone Air Conditioning', 'Satellite Radio', 'Steering Wheel Controls', 'Sun/Moonroof',\n",
    " 'Touch Screen', 'Touch Screen Audio', 'Trailer Assist', 'Trailer Tow Mirrors', 'Turbo Boost',\n",
    " 'USB Connection', 'Video Entertainment', 'Voice Recognision', 'Voice Recognition', 'WiFi Hotspot',\n",
    "            'Wireless Charging/Connection']"
   ]
  },
  {
   "cell_type": "code",
   "execution_count": 375,
   "metadata": {},
   "outputs": [],
   "source": [
    "def reduce_hvf(df,hvf_cols,pca=None):\n",
    "    subset_df = df[hvf_cols]\n",
    "    \n",
    "    # compute pca if not provided\n",
    "    if not pca:\n",
    "        pca = PCA(n_components=16)\n",
    "        pca.fit(subset_df)\n",
    "    \n",
    "    transformed_subset = pca.transform(subset_df)\n",
    "    transformed_subset = pd.DataFrame(transformed_subset, columns=['hvf_comp_1', 'hvf_comp_2', 'hvf_comp_3'\n",
    "                                                                ,'hvf_comp_4', 'hvf_comp_5', 'hvf_comp_6'\n",
    "                                                                ,'hvf_comp_7', 'hvf_comp_8', 'hvf_comp_9'\n",
    "                                                                ,'hvf_comp_10', 'hvf_comp_11', 'hvf_comp_12'\n",
    "                                                                ,'hvf_comp_13', 'hvf_comp_14', 'hvf_comp_15'\n",
    "                                                                ,'hvf_comp_16',])\n",
    "    transformed_subset.index = df.index\n",
    "    final_df = pd.concat([df.drop(columns=hvf_cols),transformed_subset], axis=1,ignore_index=False)\n",
    "    print_shape(final_df)\n",
    "    return final_df,pca"
   ]
  },
  {
   "cell_type": "code",
   "execution_count": 376,
   "metadata": {},
   "outputs": [
    {
     "name": "stdout",
     "output_type": "stream",
     "text": [
      "Rows: 5,741,525 \n",
      "Columns: 53\n"
     ]
    }
   ],
   "source": [
    "train,pca_train = reduce_hvf(train,hvf_cols)"
   ]
  },
  {
   "cell_type": "code",
   "execution_count": 377,
   "metadata": {},
   "outputs": [
    {
     "data": {
      "image/png": "[encoded data removed]",
      "text/plain": [
       "<Figure size 432x288 with 1 Axes>"
      ]
     },
     "metadata": {
      "needs_background": "light"
     },
     "output_type": "display_data"
    }
   ],
   "source": [
    "# plot the explained variance for each component\n",
    "plt.plot(np.cumsum(pca_train.explained_variance_ratio_))\n",
    "plt.xlabel('Number of Components')\n",
    "plt.ylabel('Cumulative Explained Variance')\n",
    "plt.title('Explained Variance for Each PCA Component')\n",
    "plt.show()\n",
    "\n",
    "#loadings = pd.DataFrame(pca.components_.T, index=test_hvf.columns)\n",
    "#for component in loadings.columns:\n",
    "#    print(f'Top 5 loadings for {component}:')\n",
    "#    print(loadings[component].abs().sort_values(ascending=False)[:5])\n",
    "#    print('\\n')\n"
   ]
  },
  {
   "cell_type": "code",
   "execution_count": 378,
   "metadata": {},
   "outputs": [
    {
     "name": "stdout",
     "output_type": "stream",
     "text": [
      "Rows: 5,741,525 \n",
      "Columns: 53\n"
     ]
    }
   ],
   "source": [
    "validate,_ = reduce_hvf(validate,hvf_cols,pca_train)"
   ]
  },
  {
   "cell_type": "code",
   "execution_count": 379,
   "metadata": {},
   "outputs": [
    {
     "name": "stdout",
     "output_type": "stream",
     "text": [
      "Rows: 5,741,525 \n",
      "Columns: 53\n"
     ]
    }
   ],
   "source": [
    "test,_ = reduce_hvf(test,hvf_cols,pca_train)"
   ]
  },
  {
   "cell_type": "markdown",
   "metadata": {},
   "source": [
    "## Missing"
   ]
  },
  {
   "cell_type": "code",
   "execution_count": 380,
   "metadata": {
    "executionInfo": {
     "elapsed": 7,
     "status": "ok",
     "timestamp": 1678124067313,
     "user": {
      "displayName": "Shea Conaway",
      "userId": "06745111064212010073"
     },
     "user_tz": 360
    },
    "id": "ixQpT0D8-xxI"
   },
   "outputs": [],
   "source": [
    "# calculate percent missing for each field in df\n",
    "def percent_missing(df):\n",
    "    mis_val = df.isnull().sum()\n",
    "    mis_val_percent = 100 * df.isnull().sum() / len(df)\n",
    "    mis_val_table = pd.concat([mis_val, mis_val_percent], axis=1)\n",
    "    # Rename the columns\n",
    "    mis_val_table = mis_val_table.rename(\n",
    "        columns={0: \"Missing Values\", 1: \"% of Total Values\"}\n",
    "    )\n",
    "    # Sort the table by percentage of missing descending\n",
    "    mis_val_table = (\n",
    "        mis_val_table[mis_val_table.iloc[:, 1] != 0]\n",
    "        .sort_values(\"% of Total Values\", ascending=False)\n",
    "        .round(1)\n",
    "    )\n",
    "    # Print some summary information\n",
    "    print(f\"{mis_val_table.shape[0]} of {df.shape[1]} columns have missing values\")\n",
    "    # Return the dataframe with missing information\n",
    "    return mis_val_table\n"
   ]
  },
  {
   "cell_type": "code",
   "execution_count": 381,
   "metadata": {
    "scrolled": true
   },
   "outputs": [
    {
     "name": "stdout",
     "output_type": "stream",
     "text": [
      "18 of 53 columns have missing values\n",
      "                     Missing Values  % of Total Values\n",
      "hvf_optional                3677688               64.1\n",
      "base_interior_color         1452484               25.3\n",
      "is_certified                1254043               21.8\n",
      "hvf_standard                1146129               20.0\n",
      "base_exterior_color          523584                9.1\n",
      "engine_block                 401655                7.0\n",
      "cylinders                    401654                7.0\n",
      "engine_size                  399846                7.0\n",
      "mpg                          314513                5.5\n",
      "median_income                 61111                1.1\n",
      "population_density            61111                1.1\n",
      "median_home_value             61111                1.1\n",
      "transmission                   3071                0.1\n",
      "vehicle_type                   1050                0.0\n",
      "doors                           655                0.0\n",
      "fuel_type                       655                0.0\n",
      "body_type                       554                0.0\n",
      "zip                             183                0.0\n",
      "18 of 53 columns have missing values\n",
      "                     Missing Values  % of Total Values\n",
      "hvf_optional                3677688               64.1\n",
      "base_interior_color         1452484               25.3\n",
      "is_certified                1254043               21.8\n",
      "hvf_standard                1146129               20.0\n",
      "base_exterior_color          523584                9.1\n",
      "engine_block                 401655                7.0\n",
      "cylinders                    401654                7.0\n",
      "engine_size                  399846                7.0\n",
      "mpg                          314513                5.5\n",
      "median_income                 61111                1.1\n",
      "population_density            61111                1.1\n",
      "median_home_value             61111                1.1\n",
      "transmission                   3071                0.1\n",
      "vehicle_type                   1050                0.0\n",
      "doors                           655                0.0\n",
      "fuel_type                       655                0.0\n",
      "body_type                       554                0.0\n",
      "zip                             183                0.0\n",
      "18 of 53 columns have missing values\n",
      "                     Missing Values  % of Total Values\n",
      "hvf_optional                3677688               64.1\n",
      "base_interior_color         1452484               25.3\n",
      "is_certified                1254043               21.8\n",
      "hvf_standard                1146129               20.0\n",
      "base_exterior_color          523584                9.1\n",
      "engine_block                 401655                7.0\n",
      "cylinders                    401654                7.0\n",
      "engine_size                  399846                7.0\n",
      "mpg                          314513                5.5\n",
      "median_income                 61111                1.1\n",
      "population_density            61111                1.1\n",
      "median_home_value             61111                1.1\n",
      "transmission                   3071                0.1\n",
      "vehicle_type                   1050                0.0\n",
      "doors                           655                0.0\n",
      "fuel_type                       655                0.0\n",
      "body_type                       554                0.0\n",
      "zip                             183                0.0\n"
     ]
    }
   ],
   "source": [
    "# check for missing\n",
    "print(percent_missing(train))\n",
    "print(percent_missing(validate))\n",
    "print(percent_missing(test))"
   ]
  },
  {
   "cell_type": "markdown",
   "metadata": {},
   "source": [
    "### Simple Handling"
   ]
  },
  {
   "cell_type": "code",
   "execution_count": 382,
   "metadata": {},
   "outputs": [],
   "source": [
    "# certified\n",
    "train[\"is_certified\"].fillna(0, inplace=True)\n",
    "validate[\"is_certified\"].fillna(0, inplace=True)\n",
    "test[\"is_certified\"].fillna(0, inplace=True)"
   ]
  },
  {
   "cell_type": "code",
   "execution_count": 383,
   "metadata": {},
   "outputs": [],
   "source": [
    "# location info missing\n",
    "train = train[~train[\"zip\"].isna()]\n",
    "validate = validate[~validate[\"zip\"].isna()]\n",
    "test = test[~test[\"zip\"].isna()]"
   ]
  },
  {
   "cell_type": "markdown",
   "metadata": {},
   "source": [
    "### Impute Mode for Categoricals"
   ]
  },
  {
   "cell_type": "code",
   "execution_count": 384,
   "metadata": {},
   "outputs": [],
   "source": [
    "# categoricals\n",
    "categoricals = [\"base_interior_color\",\"base_exterior_color\",\"engine_block\"\n",
    "                ,\"transmission\",\"vehicle_type\",\"fuel_type\",\"body_type\"\n",
    "                ,\"drivetrain\"]\n",
    "group = 'make_model_trim'\n",
    "for cat in categoricals:\n",
    "    train[cat] = train.groupby(group)[cat].transform(lambda x: x.fillna(x.mode().iloc[0] if len(x.mode()) > 0 else 'Unknown'))\n",
    "    validate[cat] = validate[group].map(train.groupby(group)[cat].apply(lambda x: x.mode()[0]))\n",
    "    test[cat] = test[group].map(train.groupby(group)[cat].apply(lambda x: x.mode()[0]))"
   ]
  },
  {
   "cell_type": "markdown",
   "metadata": {},
   "source": [
    "### Impute Median for Numerics"
   ]
  },
  {
   "cell_type": "code",
   "execution_count": 385,
   "metadata": {},
   "outputs": [],
   "source": [
    "# numerics\n",
    "numerics = [\"cylinders\",\"engine_size\",\"mpg\",\"doors\"]\n",
    "groups = [\"make_model_trim\",\"engine_size\",\"cylinders\",\"body_type\"]\n",
    "for group in groups:\n",
    "    for num in numerics:\n",
    "        train[num] = train.groupby(group)[num].transform(lambda x: x.fillna(x.median()))\n",
    "        validate[num] = validate[group].map(train.groupby(group)[num].median())\n",
    "        test[num] = test[group].map(train.groupby(group)[num].median())"
   ]
  },
  {
   "cell_type": "markdown",
   "metadata": {},
   "source": [
    "### Impute Median for Zip Features"
   ]
  },
  {
   "cell_type": "code",
   "execution_count": 386,
   "metadata": {},
   "outputs": [],
   "source": [
    "from sklearn.impute import SimpleImputer\n",
    "\n",
    "# fit a median imputer on train\n",
    "imputer = SimpleImputer(strategy='median')\n",
    "imputer.fit(train[['population_density', 'median_income', 'median_home_value']])\n",
    "\n",
    "# apply the median impute\n",
    "train[['population_density', 'median_income', 'median_home_value']] = imputer.transform(train[['population_density', 'median_income', 'median_home_value']])\n",
    "validate[['population_density', 'median_income', 'median_home_value']] = imputer.transform(validate[['population_density', 'median_income', 'median_home_value']])\n",
    "test[['population_density', 'median_income', 'median_home_value']] = imputer.transform(test[['population_density', 'median_income', 'median_home_value']])\n"
   ]
  },
  {
   "cell_type": "code",
   "execution_count": 387,
   "metadata": {
    "scrolled": true
   },
   "outputs": [
    {
     "name": "stdout",
     "output_type": "stream",
     "text": [
      "2 of 53 columns have missing values\n",
      "              Missing Values  % of Total Values\n",
      "hvf_optional         3677573               64.1\n",
      "hvf_standard         1146092               20.0\n",
      "2 of 53 columns have missing values\n",
      "              Missing Values  % of Total Values\n",
      "hvf_optional         3677573               64.1\n",
      "hvf_standard         1146092               20.0\n",
      "2 of 53 columns have missing values\n",
      "              Missing Values  % of Total Values\n",
      "hvf_optional         3677573               64.1\n",
      "hvf_standard         1146092               20.0\n"
     ]
    }
   ],
   "source": [
    "# check for missing\n",
    "print(percent_missing(train))\n",
    "print(percent_missing(validate))\n",
    "print(percent_missing(test))"
   ]
  },
  {
   "cell_type": "markdown",
   "metadata": {},
   "source": [
    "## EDA"
   ]
  },
  {
   "cell_type": "code",
   "execution_count": 388,
   "metadata": {},
   "outputs": [
    {
     "data": {
      "text/plain": [
       "Index(['mvr_price', 'make_model_trim', 'miles', 'year', 'age_months',\n",
       "       'mvr_purchase_date', 'vehicle_type', 'body_type', 'drivetrain',\n",
       "       'fuel_type', 'engine_block', 'engine_size', 'transmission', 'doors',\n",
       "       'cylinders', 'base_exterior_color', 'base_interior_color',\n",
       "       'is_certified', 'zip', 'mvr_state', 'hvf_standard', 'hvf_optional',\n",
       "       'make', 'model', 'trim', 'mvr_purchase_month', 'monthly_mileage', 'mpg',\n",
       "       'population_density', 'median_income', 'median_home_value',\n",
       "       'mvr_purchase_yearmonth', 'used_car_price_index', 'new_car_price_index',\n",
       "       'gas_price_index', 'consumer_sentiment_index',\n",
       "       'make_model_trim_encoded', 'hvf_comp_1', 'hvf_comp_2', 'hvf_comp_3',\n",
       "       'hvf_comp_4', 'hvf_comp_5', 'hvf_comp_6', 'hvf_comp_7', 'hvf_comp_8',\n",
       "       'hvf_comp_9', 'hvf_comp_10', 'hvf_comp_11', 'hvf_comp_12',\n",
       "       'hvf_comp_13', 'hvf_comp_14', 'hvf_comp_15', 'hvf_comp_16'],\n",
       "      dtype='object')"
      ]
     },
     "execution_count": 388,
     "metadata": {},
     "output_type": "execute_result"
    }
   ],
   "source": [
    "train.columns"
   ]
  },
  {
   "cell_type": "code",
   "execution_count": 389,
   "metadata": {},
   "outputs": [
    {
     "data": {
      "text/plain": [
       "mvr_price                   1.000000\n",
       "make_model_trim_encoded     0.786991\n",
       "year                        0.615591\n",
       "engine_size                 0.417529\n",
       "cylinders                   0.384855\n",
       "hvf_comp_1                  0.283747\n",
       "used_car_price_index        0.172358\n",
       "new_car_price_index         0.163203\n",
       "gas_price_index             0.158832\n",
       "is_certified                0.145099\n",
       "hvf_comp_12                 0.136014\n",
       "hvf_comp_16                 0.133637\n",
       "hvf_comp_4                  0.115117\n",
       "median_income               0.090053\n",
       "median_home_value           0.085644\n",
       "hvf_comp_9                  0.073823\n",
       "monthly_mileage             0.058680\n",
       "hvf_comp_15                 0.050475\n",
       "hvf_comp_6                  0.030503\n",
       "hvf_comp_7                  0.026758\n",
       "doors                       0.011780\n",
       "hvf_comp_13                 0.010883\n",
       "hvf_comp_2                 -0.014236\n",
       "hvf_comp_8                 -0.018010\n",
       "hvf_comp_5                 -0.019134\n",
       "hvf_comp_14                -0.023955\n",
       "population_density         -0.024606\n",
       "hvf_comp_3                 -0.031865\n",
       "hvf_comp_10                -0.046993\n",
       "hvf_comp_11                -0.065203\n",
       "consumer_sentiment_index   -0.136633\n",
       "mpg                        -0.239918\n",
       "miles                      -0.484509\n",
       "age_months                 -0.563902\n",
       "Name: mvr_price, dtype: float64"
      ]
     },
     "execution_count": 389,
     "metadata": {},
     "output_type": "execute_result"
    }
   ],
   "source": [
    "# numerics correlations with target\n",
    "correlations = train.corr(method=\"pearson\", numeric_only=True)[\"mvr_price\"].sort_values(ascending=False)\n",
    "correlations"
   ]
  },
  {
   "cell_type": "code",
   "execution_count": 390,
   "metadata": {},
   "outputs": [
    {
     "data": {
      "text/plain": [
       "mvr_price         AxesSubplot(0.125,0.536818;0.133621x0.343182)\n",
       "year           AxesSubplot(0.285345,0.536818;0.133621x0.343182)\n",
       "engine_size     AxesSubplot(0.44569,0.536818;0.133621x0.343182)\n",
       "cylinders      AxesSubplot(0.606034,0.536818;0.133621x0.343182)\n",
       "doors          AxesSubplot(0.766379,0.536818;0.133621x0.343182)\n",
       "mpg                  AxesSubplot(0.125,0.125;0.133621x0.343182)\n",
       "miles             AxesSubplot(0.285345,0.125;0.133621x0.343182)\n",
       "age_months         AxesSubplot(0.44569,0.125;0.133621x0.343182)\n",
       "dtype: object"
      ]
     },
     "execution_count": 390,
     "metadata": {},
     "output_type": "execute_result"
    },
    {
     "data": {
      "image/png": "[encoded data removed]",
      "text/plain": [
       "<Figure size 432x288 with 10 Axes>"
      ]
     },
     "metadata": {
      "needs_background": "light"
     },
     "output_type": "display_data"
    }
   ],
   "source": [
    "# boxplots of numeric variables\n",
    "train[['mvr_price',\n",
    " 'year',\n",
    " 'engine_size',\n",
    " 'cylinders',\n",
    " 'doors',\n",
    " 'mpg',\n",
    " 'miles',\n",
    " 'age_months']].plot(kind='box', subplots=True, layout=(2,5), sharex=False, sharey=False)"
   ]
  },
  {
   "cell_type": "markdown",
   "metadata": {},
   "source": [
    "## Pre-Modeling EDA"
   ]
  },
  {
   "cell_type": "code",
   "execution_count": 391,
   "metadata": {
    "id": "2SaKVWtQ-xxX",
    "outputId": "0d6662bd-cb04-4c97-c485-3a64e57a0bca"
   },
   "outputs": [
    {
     "name": "stdout",
     "output_type": "stream",
     "text": [
      "Rows: 5,741,342 \n",
      "Columns: 53\n"
     ]
    },
    {
     "data": {
      "text/html": [
       "<div>\n",
       "<style scoped>\n",
       "    .dataframe tbody tr th:only-of-type {\n",
       "        vertical-align: middle;\n",
       "    }\n",
       "\n",
       "    .dataframe tbody tr th {\n",
       "        vertical-align: top;\n",
       "    }\n",
       "\n",
       "    .dataframe thead th {\n",
       "        text-align: right;\n",
       "    }\n",
       "</style>\n",
       "<table border=\"1\" class=\"dataframe\">\n",
       "  <thead>\n",
       "    <tr style=\"text-align: right;\">\n",
       "      <th></th>\n",
       "      <th>4862224</th>\n",
       "      <th>2103897</th>\n",
       "      <th>1393869</th>\n",
       "      <th>5486198</th>\n",
       "      <th>6337078</th>\n",
       "    </tr>\n",
       "  </thead>\n",
       "  <tbody>\n",
       "    <tr>\n",
       "      <th>mvr_price</th>\n",
       "      <td>13999.0</td>\n",
       "      <td>12998.0</td>\n",
       "      <td>4950.0</td>\n",
       "      <td>51500.0</td>\n",
       "      <td>12760.0</td>\n",
       "    </tr>\n",
       "    <tr>\n",
       "      <th>make_model_trim</th>\n",
       "      <td>Toyota / Camry / LE</td>\n",
       "      <td>Toyota / Yaris iA / Base</td>\n",
       "      <td>Hyundai / Accent / GS</td>\n",
       "      <td>GMC / Yukon / Denali</td>\n",
       "      <td>Ford / Focus / S</td>\n",
       "    </tr>\n",
       "    <tr>\n",
       "      <th>miles</th>\n",
       "      <td>106978.0</td>\n",
       "      <td>25000.0</td>\n",
       "      <td>97759.0</td>\n",
       "      <td>80062.0</td>\n",
       "      <td>19659.0</td>\n",
       "    </tr>\n",
       "    <tr>\n",
       "      <th>year</th>\n",
       "      <td>2016</td>\n",
       "      <td>2017</td>\n",
       "      <td>2010</td>\n",
       "      <td>2015</td>\n",
       "      <td>2016</td>\n",
       "    </tr>\n",
       "    <tr>\n",
       "      <th>age_months</th>\n",
       "      <td>60</td>\n",
       "      <td>33</td>\n",
       "      <td>118</td>\n",
       "      <td>34</td>\n",
       "      <td>38</td>\n",
       "    </tr>\n",
       "    <tr>\n",
       "      <th>mvr_purchase_date</th>\n",
       "      <td>2020-06-24 00:00:00</td>\n",
       "      <td>2019-04-15 00:00:00</td>\n",
       "      <td>2019-04-30 00:00:00</td>\n",
       "      <td>2017-04-24 00:00:00</td>\n",
       "      <td>2018-09-05 00:00:00</td>\n",
       "    </tr>\n",
       "    <tr>\n",
       "      <th>vehicle_type</th>\n",
       "      <td>Car</td>\n",
       "      <td>Car</td>\n",
       "      <td>Car</td>\n",
       "      <td>Truck</td>\n",
       "      <td>Car</td>\n",
       "    </tr>\n",
       "    <tr>\n",
       "      <th>body_type</th>\n",
       "      <td>Sedan</td>\n",
       "      <td>Sedan</td>\n",
       "      <td>Hatchback</td>\n",
       "      <td>SUV</td>\n",
       "      <td>Sedan</td>\n",
       "    </tr>\n",
       "    <tr>\n",
       "      <th>drivetrain</th>\n",
       "      <td>FWD</td>\n",
       "      <td>FWD</td>\n",
       "      <td>FWD</td>\n",
       "      <td>4WD</td>\n",
       "      <td>FWD</td>\n",
       "    </tr>\n",
       "    <tr>\n",
       "      <th>fuel_type</th>\n",
       "      <td>Unleaded</td>\n",
       "      <td>Unleaded</td>\n",
       "      <td>Unleaded</td>\n",
       "      <td>Premium Unleaded</td>\n",
       "      <td>E85 / Unleaded</td>\n",
       "    </tr>\n",
       "    <tr>\n",
       "      <th>engine_block</th>\n",
       "      <td>I</td>\n",
       "      <td>I</td>\n",
       "      <td>I</td>\n",
       "      <td>V</td>\n",
       "      <td>I</td>\n",
       "    </tr>\n",
       "    <tr>\n",
       "      <th>engine_size</th>\n",
       "      <td>2.5</td>\n",
       "      <td>1.5</td>\n",
       "      <td>1.6</td>\n",
       "      <td>6.2</td>\n",
       "      <td>2.0</td>\n",
       "    </tr>\n",
       "    <tr>\n",
       "      <th>transmission</th>\n",
       "      <td>Automatic</td>\n",
       "      <td>Automatic</td>\n",
       "      <td>Automatic</td>\n",
       "      <td>Automatic</td>\n",
       "      <td>Automatic</td>\n",
       "    </tr>\n",
       "    <tr>\n",
       "      <th>doors</th>\n",
       "      <td>4.0</td>\n",
       "      <td>4.0</td>\n",
       "      <td>3.0</td>\n",
       "      <td>5.0</td>\n",
       "      <td>4.0</td>\n",
       "    </tr>\n",
       "    <tr>\n",
       "      <th>cylinders</th>\n",
       "      <td>4.0</td>\n",
       "      <td>4.0</td>\n",
       "      <td>4.0</td>\n",
       "      <td>8.0</td>\n",
       "      <td>4.0</td>\n",
       "    </tr>\n",
       "    <tr>\n",
       "      <th>base_exterior_color</th>\n",
       "      <td>Gray</td>\n",
       "      <td>Blue</td>\n",
       "      <td>Black</td>\n",
       "      <td>Black</td>\n",
       "      <td>White</td>\n",
       "    </tr>\n",
       "    <tr>\n",
       "      <th>base_interior_color</th>\n",
       "      <td>Gray</td>\n",
       "      <td>Black</td>\n",
       "      <td>Gray</td>\n",
       "      <td>Black</td>\n",
       "      <td>Black</td>\n",
       "    </tr>\n",
       "    <tr>\n",
       "      <th>is_certified</th>\n",
       "      <td>0.0</td>\n",
       "      <td>0.0</td>\n",
       "      <td>0.0</td>\n",
       "      <td>0.0</td>\n",
       "      <td>0.0</td>\n",
       "    </tr>\n",
       "    <tr>\n",
       "      <th>zip</th>\n",
       "      <td>75237</td>\n",
       "      <td>75062</td>\n",
       "      <td>45242</td>\n",
       "      <td>77511</td>\n",
       "      <td>43537</td>\n",
       "    </tr>\n",
       "    <tr>\n",
       "      <th>mvr_state</th>\n",
       "      <td>TX</td>\n",
       "      <td>TX</td>\n",
       "      <td>OH</td>\n",
       "      <td>OH</td>\n",
       "      <td>OH</td>\n",
       "    </tr>\n",
       "    <tr>\n",
       "      <th>hvf_standard</th>\n",
       "      <td>[Keyless Entry/Locking, Brake Assist, Parking ...</td>\n",
       "      <td>None</td>\n",
       "      <td>[Automatic Transmission, Gasoline, Premium Audio]</td>\n",
       "      <td>[Rear/Multi-Zone Air Conditioning, Power Closi...</td>\n",
       "      <td>None</td>\n",
       "    </tr>\n",
       "    <tr>\n",
       "      <th>hvf_optional</th>\n",
       "      <td>None</td>\n",
       "      <td>None</td>\n",
       "      <td>None</td>\n",
       "      <td>None</td>\n",
       "      <td>None</td>\n",
       "    </tr>\n",
       "    <tr>\n",
       "      <th>make</th>\n",
       "      <td>Toyota</td>\n",
       "      <td>Toyota</td>\n",
       "      <td>Hyundai</td>\n",
       "      <td>GMC</td>\n",
       "      <td>Ford</td>\n",
       "    </tr>\n",
       "    <tr>\n",
       "      <th>model</th>\n",
       "      <td>Camry</td>\n",
       "      <td>Yaris iA</td>\n",
       "      <td>Accent</td>\n",
       "      <td>Yukon</td>\n",
       "      <td>Focus</td>\n",
       "    </tr>\n",
       "    <tr>\n",
       "      <th>trim</th>\n",
       "      <td>LE</td>\n",
       "      <td>Base</td>\n",
       "      <td>GS</td>\n",
       "      <td>Denali</td>\n",
       "      <td>S</td>\n",
       "    </tr>\n",
       "    <tr>\n",
       "      <th>mvr_purchase_month</th>\n",
       "      <td>6</td>\n",
       "      <td>4</td>\n",
       "      <td>4</td>\n",
       "      <td>4</td>\n",
       "      <td>9</td>\n",
       "    </tr>\n",
       "    <tr>\n",
       "      <th>monthly_mileage</th>\n",
       "      <td>1783.0</td>\n",
       "      <td>757.6</td>\n",
       "      <td>828.5</td>\n",
       "      <td>2354.8</td>\n",
       "      <td>517.3</td>\n",
       "    </tr>\n",
       "    <tr>\n",
       "      <th>mpg</th>\n",
       "      <td>29.5</td>\n",
       "      <td>35.6</td>\n",
       "      <td>31.05</td>\n",
       "      <td>17.7</td>\n",
       "      <td>30.5</td>\n",
       "    </tr>\n",
       "    <tr>\n",
       "      <th>population_density</th>\n",
       "      <td>2572.0</td>\n",
       "      <td>4052.0</td>\n",
       "      <td>1596.0</td>\n",
       "      <td>294.0</td>\n",
       "      <td>1484.0</td>\n",
       "    </tr>\n",
       "    <tr>\n",
       "      <th>median_income</th>\n",
       "      <td>29787.0</td>\n",
       "      <td>45872.0</td>\n",
       "      <td>76441.0</td>\n",
       "      <td>52507.0</td>\n",
       "      <td>60078.0</td>\n",
       "    </tr>\n",
       "    <tr>\n",
       "      <th>median_home_value</th>\n",
       "      <td>104500.0</td>\n",
       "      <td>121600.0</td>\n",
       "      <td>253600.0</td>\n",
       "      <td>109600.0</td>\n",
       "      <td>161000.0</td>\n",
       "    </tr>\n",
       "    <tr>\n",
       "      <th>mvr_purchase_yearmonth</th>\n",
       "      <td>2020-06</td>\n",
       "      <td>2019-04</td>\n",
       "      <td>2019-04</td>\n",
       "      <td>2017-04</td>\n",
       "      <td>2018-09</td>\n",
       "    </tr>\n",
       "    <tr>\n",
       "      <th>used_car_price_index</th>\n",
       "      <td>138.383</td>\n",
       "      <td>140.513</td>\n",
       "      <td>140.513</td>\n",
       "      <td>139.372</td>\n",
       "      <td>141.095</td>\n",
       "    </tr>\n",
       "    <tr>\n",
       "      <th>new_car_price_index</th>\n",
       "      <td>146.637</td>\n",
       "      <td>148.516</td>\n",
       "      <td>148.516</td>\n",
       "      <td>148.053</td>\n",
       "      <td>145.491</td>\n",
       "    </tr>\n",
       "    <tr>\n",
       "      <th>gas_price_index</th>\n",
       "      <td>1.8695</td>\n",
       "      <td>2.516</td>\n",
       "      <td>2.516</td>\n",
       "      <td>2.325</td>\n",
       "      <td>2.83575</td>\n",
       "    </tr>\n",
       "    <tr>\n",
       "      <th>consumer_sentiment_index</th>\n",
       "      <td>72.3</td>\n",
       "      <td>98.4</td>\n",
       "      <td>98.4</td>\n",
       "      <td>96.9</td>\n",
       "      <td>96.2</td>\n",
       "    </tr>\n",
       "    <tr>\n",
       "      <th>make_model_trim_encoded</th>\n",
       "      <td>15351.15918</td>\n",
       "      <td>13805.182617</td>\n",
       "      <td>6584.092285</td>\n",
       "      <td>43954.714844</td>\n",
       "      <td>9545.460938</td>\n",
       "    </tr>\n",
       "    <tr>\n",
       "      <th>hvf_comp_1</th>\n",
       "      <td>-0.349138</td>\n",
       "      <td>-0.349138</td>\n",
       "      <td>-0.349138</td>\n",
       "      <td>-0.349138</td>\n",
       "      <td>-0.349138</td>\n",
       "    </tr>\n",
       "    <tr>\n",
       "      <th>hvf_comp_2</th>\n",
       "      <td>0.001717</td>\n",
       "      <td>0.001717</td>\n",
       "      <td>0.001717</td>\n",
       "      <td>0.001717</td>\n",
       "      <td>0.001717</td>\n",
       "    </tr>\n",
       "    <tr>\n",
       "      <th>hvf_comp_3</th>\n",
       "      <td>0.046858</td>\n",
       "      <td>0.046858</td>\n",
       "      <td>0.046858</td>\n",
       "      <td>0.046858</td>\n",
       "      <td>0.046858</td>\n",
       "    </tr>\n",
       "    <tr>\n",
       "      <th>hvf_comp_4</th>\n",
       "      <td>-0.04</td>\n",
       "      <td>-0.04</td>\n",
       "      <td>-0.04</td>\n",
       "      <td>-0.04</td>\n",
       "      <td>-0.04</td>\n",
       "    </tr>\n",
       "    <tr>\n",
       "      <th>hvf_comp_5</th>\n",
       "      <td>-0.041621</td>\n",
       "      <td>-0.041621</td>\n",
       "      <td>-0.041621</td>\n",
       "      <td>-0.041621</td>\n",
       "      <td>-0.041621</td>\n",
       "    </tr>\n",
       "    <tr>\n",
       "      <th>hvf_comp_6</th>\n",
       "      <td>-0.019616</td>\n",
       "      <td>-0.019616</td>\n",
       "      <td>-0.019616</td>\n",
       "      <td>-0.019616</td>\n",
       "      <td>-0.019616</td>\n",
       "    </tr>\n",
       "    <tr>\n",
       "      <th>hvf_comp_7</th>\n",
       "      <td>-0.028176</td>\n",
       "      <td>-0.028176</td>\n",
       "      <td>-0.028176</td>\n",
       "      <td>-0.028176</td>\n",
       "      <td>-0.028176</td>\n",
       "    </tr>\n",
       "    <tr>\n",
       "      <th>hvf_comp_8</th>\n",
       "      <td>-0.002415</td>\n",
       "      <td>-0.002415</td>\n",
       "      <td>-0.002415</td>\n",
       "      <td>-0.002415</td>\n",
       "      <td>-0.002415</td>\n",
       "    </tr>\n",
       "    <tr>\n",
       "      <th>hvf_comp_9</th>\n",
       "      <td>-0.04025</td>\n",
       "      <td>-0.04025</td>\n",
       "      <td>-0.04025</td>\n",
       "      <td>-0.04025</td>\n",
       "      <td>-0.04025</td>\n",
       "    </tr>\n",
       "    <tr>\n",
       "      <th>hvf_comp_10</th>\n",
       "      <td>0.02431</td>\n",
       "      <td>0.02431</td>\n",
       "      <td>0.02431</td>\n",
       "      <td>0.02431</td>\n",
       "      <td>0.02431</td>\n",
       "    </tr>\n",
       "    <tr>\n",
       "      <th>hvf_comp_11</th>\n",
       "      <td>-0.00414</td>\n",
       "      <td>-0.00414</td>\n",
       "      <td>-0.00414</td>\n",
       "      <td>-0.00414</td>\n",
       "      <td>-0.00414</td>\n",
       "    </tr>\n",
       "    <tr>\n",
       "      <th>hvf_comp_12</th>\n",
       "      <td>-0.006163</td>\n",
       "      <td>-0.006163</td>\n",
       "      <td>-0.006163</td>\n",
       "      <td>-0.006163</td>\n",
       "      <td>-0.006163</td>\n",
       "    </tr>\n",
       "    <tr>\n",
       "      <th>hvf_comp_13</th>\n",
       "      <td>0.006106</td>\n",
       "      <td>0.006106</td>\n",
       "      <td>0.006106</td>\n",
       "      <td>0.006106</td>\n",
       "      <td>0.006106</td>\n",
       "    </tr>\n",
       "    <tr>\n",
       "      <th>hvf_comp_14</th>\n",
       "      <td>-0.000651</td>\n",
       "      <td>-0.000651</td>\n",
       "      <td>-0.000651</td>\n",
       "      <td>-0.000651</td>\n",
       "      <td>-0.000651</td>\n",
       "    </tr>\n",
       "    <tr>\n",
       "      <th>hvf_comp_15</th>\n",
       "      <td>-0.00367</td>\n",
       "      <td>-0.00367</td>\n",
       "      <td>-0.00367</td>\n",
       "      <td>-0.00367</td>\n",
       "      <td>-0.00367</td>\n",
       "    </tr>\n",
       "    <tr>\n",
       "      <th>hvf_comp_16</th>\n",
       "      <td>0.000256</td>\n",
       "      <td>0.000256</td>\n",
       "      <td>0.000256</td>\n",
       "      <td>0.000256</td>\n",
       "      <td>0.000256</td>\n",
       "    </tr>\n",
       "  </tbody>\n",
       "</table>\n",
       "</div>"
      ],
      "text/plain": [
       "                                                                    4862224  \\\n",
       "mvr_price                                                           13999.0   \n",
       "make_model_trim                                         Toyota / Camry / LE   \n",
       "miles                                                              106978.0   \n",
       "year                                                                   2016   \n",
       "age_months                                                               60   \n",
       "mvr_purchase_date                                       2020-06-24 00:00:00   \n",
       "vehicle_type                                                            Car   \n",
       "body_type                                                             Sedan   \n",
       "drivetrain                                                              FWD   \n",
       "fuel_type                                                          Unleaded   \n",
       "engine_block                                                              I   \n",
       "engine_size                                                             2.5   \n",
       "transmission                                                      Automatic   \n",
       "doors                                                                   4.0   \n",
       "cylinders                                                               4.0   \n",
       "base_exterior_color                                                    Gray   \n",
       "base_interior_color                                                    Gray   \n",
       "is_certified                                                            0.0   \n",
       "zip                                                                   75237   \n",
       "mvr_state                                                                TX   \n",
       "hvf_standard              [Keyless Entry/Locking, Brake Assist, Parking ...   \n",
       "hvf_optional                                                           None   \n",
       "make                                                                 Toyota   \n",
       "model                                                                 Camry   \n",
       "trim                                                                     LE   \n",
       "mvr_purchase_month                                                        6   \n",
       "monthly_mileage                                                      1783.0   \n",
       "mpg                                                                    29.5   \n",
       "population_density                                                   2572.0   \n",
       "median_income                                                       29787.0   \n",
       "median_home_value                                                  104500.0   \n",
       "mvr_purchase_yearmonth                                              2020-06   \n",
       "used_car_price_index                                                138.383   \n",
       "new_car_price_index                                                 146.637   \n",
       "gas_price_index                                                      1.8695   \n",
       "consumer_sentiment_index                                               72.3   \n",
       "make_model_trim_encoded                                         15351.15918   \n",
       "hvf_comp_1                                                        -0.349138   \n",
       "hvf_comp_2                                                         0.001717   \n",
       "hvf_comp_3                                                         0.046858   \n",
       "hvf_comp_4                                                            -0.04   \n",
       "hvf_comp_5                                                        -0.041621   \n",
       "hvf_comp_6                                                        -0.019616   \n",
       "hvf_comp_7                                                        -0.028176   \n",
       "hvf_comp_8                                                        -0.002415   \n",
       "hvf_comp_9                                                         -0.04025   \n",
       "hvf_comp_10                                                         0.02431   \n",
       "hvf_comp_11                                                        -0.00414   \n",
       "hvf_comp_12                                                       -0.006163   \n",
       "hvf_comp_13                                                        0.006106   \n",
       "hvf_comp_14                                                       -0.000651   \n",
       "hvf_comp_15                                                        -0.00367   \n",
       "hvf_comp_16                                                        0.000256   \n",
       "\n",
       "                                           2103897  \\\n",
       "mvr_price                                  12998.0   \n",
       "make_model_trim           Toyota / Yaris iA / Base   \n",
       "miles                                      25000.0   \n",
       "year                                          2017   \n",
       "age_months                                      33   \n",
       "mvr_purchase_date              2019-04-15 00:00:00   \n",
       "vehicle_type                                   Car   \n",
       "body_type                                    Sedan   \n",
       "drivetrain                                     FWD   \n",
       "fuel_type                                 Unleaded   \n",
       "engine_block                                     I   \n",
       "engine_size                                    1.5   \n",
       "transmission                             Automatic   \n",
       "doors                                          4.0   \n",
       "cylinders                                      4.0   \n",
       "base_exterior_color                           Blue   \n",
       "base_interior_color                          Black   \n",
       "is_certified                                   0.0   \n",
       "zip                                          75062   \n",
       "mvr_state                                       TX   \n",
       "hvf_standard                                  None   \n",
       "hvf_optional                                  None   \n",
       "make                                        Toyota   \n",
       "model                                     Yaris iA   \n",
       "trim                                          Base   \n",
       "mvr_purchase_month                               4   \n",
       "monthly_mileage                              757.6   \n",
       "mpg                                           35.6   \n",
       "population_density                          4052.0   \n",
       "median_income                              45872.0   \n",
       "median_home_value                         121600.0   \n",
       "mvr_purchase_yearmonth                     2019-04   \n",
       "used_car_price_index                       140.513   \n",
       "new_car_price_index                        148.516   \n",
       "gas_price_index                              2.516   \n",
       "consumer_sentiment_index                      98.4   \n",
       "make_model_trim_encoded               13805.182617   \n",
       "hvf_comp_1                               -0.349138   \n",
       "hvf_comp_2                                0.001717   \n",
       "hvf_comp_3                                0.046858   \n",
       "hvf_comp_4                                   -0.04   \n",
       "hvf_comp_5                               -0.041621   \n",
       "hvf_comp_6                               -0.019616   \n",
       "hvf_comp_7                               -0.028176   \n",
       "hvf_comp_8                               -0.002415   \n",
       "hvf_comp_9                                -0.04025   \n",
       "hvf_comp_10                                0.02431   \n",
       "hvf_comp_11                               -0.00414   \n",
       "hvf_comp_12                              -0.006163   \n",
       "hvf_comp_13                               0.006106   \n",
       "hvf_comp_14                              -0.000651   \n",
       "hvf_comp_15                               -0.00367   \n",
       "hvf_comp_16                               0.000256   \n",
       "\n",
       "                                                                    1393869  \\\n",
       "mvr_price                                                            4950.0   \n",
       "make_model_trim                                       Hyundai / Accent / GS   \n",
       "miles                                                               97759.0   \n",
       "year                                                                   2010   \n",
       "age_months                                                              118   \n",
       "mvr_purchase_date                                       2019-04-30 00:00:00   \n",
       "vehicle_type                                                            Car   \n",
       "body_type                                                         Hatchback   \n",
       "drivetrain                                                              FWD   \n",
       "fuel_type                                                          Unleaded   \n",
       "engine_block                                                              I   \n",
       "engine_size                                                             1.6   \n",
       "transmission                                                      Automatic   \n",
       "doors                                                                   3.0   \n",
       "cylinders                                                               4.0   \n",
       "base_exterior_color                                                   Black   \n",
       "base_interior_color                                                    Gray   \n",
       "is_certified                                                            0.0   \n",
       "zip                                                                   45242   \n",
       "mvr_state                                                                OH   \n",
       "hvf_standard              [Automatic Transmission, Gasoline, Premium Audio]   \n",
       "hvf_optional                                                           None   \n",
       "make                                                                Hyundai   \n",
       "model                                                                Accent   \n",
       "trim                                                                     GS   \n",
       "mvr_purchase_month                                                        4   \n",
       "monthly_mileage                                                       828.5   \n",
       "mpg                                                                   31.05   \n",
       "population_density                                                   1596.0   \n",
       "median_income                                                       76441.0   \n",
       "median_home_value                                                  253600.0   \n",
       "mvr_purchase_yearmonth                                              2019-04   \n",
       "used_car_price_index                                                140.513   \n",
       "new_car_price_index                                                 148.516   \n",
       "gas_price_index                                                       2.516   \n",
       "consumer_sentiment_index                                               98.4   \n",
       "make_model_trim_encoded                                         6584.092285   \n",
       "hvf_comp_1                                                        -0.349138   \n",
       "hvf_comp_2                                                         0.001717   \n",
       "hvf_comp_3                                                         0.046858   \n",
       "hvf_comp_4                                                            -0.04   \n",
       "hvf_comp_5                                                        -0.041621   \n",
       "hvf_comp_6                                                        -0.019616   \n",
       "hvf_comp_7                                                        -0.028176   \n",
       "hvf_comp_8                                                        -0.002415   \n",
       "hvf_comp_9                                                         -0.04025   \n",
       "hvf_comp_10                                                         0.02431   \n",
       "hvf_comp_11                                                        -0.00414   \n",
       "hvf_comp_12                                                       -0.006163   \n",
       "hvf_comp_13                                                        0.006106   \n",
       "hvf_comp_14                                                       -0.000651   \n",
       "hvf_comp_15                                                        -0.00367   \n",
       "hvf_comp_16                                                        0.000256   \n",
       "\n",
       "                                                                    5486198  \\\n",
       "mvr_price                                                           51500.0   \n",
       "make_model_trim                                        GMC / Yukon / Denali   \n",
       "miles                                                               80062.0   \n",
       "year                                                                   2015   \n",
       "age_months                                                               34   \n",
       "mvr_purchase_date                                       2017-04-24 00:00:00   \n",
       "vehicle_type                                                          Truck   \n",
       "body_type                                                               SUV   \n",
       "drivetrain                                                              4WD   \n",
       "fuel_type                                                  Premium Unleaded   \n",
       "engine_block                                                              V   \n",
       "engine_size                                                             6.2   \n",
       "transmission                                                      Automatic   \n",
       "doors                                                                   5.0   \n",
       "cylinders                                                               8.0   \n",
       "base_exterior_color                                                   Black   \n",
       "base_interior_color                                                   Black   \n",
       "is_certified                                                            0.0   \n",
       "zip                                                                   77511   \n",
       "mvr_state                                                                OH   \n",
       "hvf_standard              [Rear/Multi-Zone Air Conditioning, Power Closi...   \n",
       "hvf_optional                                                           None   \n",
       "make                                                                    GMC   \n",
       "model                                                                 Yukon   \n",
       "trim                                                                 Denali   \n",
       "mvr_purchase_month                                                        4   \n",
       "monthly_mileage                                                      2354.8   \n",
       "mpg                                                                    17.7   \n",
       "population_density                                                    294.0   \n",
       "median_income                                                       52507.0   \n",
       "median_home_value                                                  109600.0   \n",
       "mvr_purchase_yearmonth                                              2017-04   \n",
       "used_car_price_index                                                139.372   \n",
       "new_car_price_index                                                 148.053   \n",
       "gas_price_index                                                       2.325   \n",
       "consumer_sentiment_index                                               96.9   \n",
       "make_model_trim_encoded                                        43954.714844   \n",
       "hvf_comp_1                                                        -0.349138   \n",
       "hvf_comp_2                                                         0.001717   \n",
       "hvf_comp_3                                                         0.046858   \n",
       "hvf_comp_4                                                            -0.04   \n",
       "hvf_comp_5                                                        -0.041621   \n",
       "hvf_comp_6                                                        -0.019616   \n",
       "hvf_comp_7                                                        -0.028176   \n",
       "hvf_comp_8                                                        -0.002415   \n",
       "hvf_comp_9                                                         -0.04025   \n",
       "hvf_comp_10                                                         0.02431   \n",
       "hvf_comp_11                                                        -0.00414   \n",
       "hvf_comp_12                                                       -0.006163   \n",
       "hvf_comp_13                                                        0.006106   \n",
       "hvf_comp_14                                                       -0.000651   \n",
       "hvf_comp_15                                                        -0.00367   \n",
       "hvf_comp_16                                                        0.000256   \n",
       "\n",
       "                                      6337078  \n",
       "mvr_price                             12760.0  \n",
       "make_model_trim              Ford / Focus / S  \n",
       "miles                                 19659.0  \n",
       "year                                     2016  \n",
       "age_months                                 38  \n",
       "mvr_purchase_date         2018-09-05 00:00:00  \n",
       "vehicle_type                              Car  \n",
       "body_type                               Sedan  \n",
       "drivetrain                                FWD  \n",
       "fuel_type                      E85 / Unleaded  \n",
       "engine_block                                I  \n",
       "engine_size                               2.0  \n",
       "transmission                        Automatic  \n",
       "doors                                     4.0  \n",
       "cylinders                                 4.0  \n",
       "base_exterior_color                     White  \n",
       "base_interior_color                     Black  \n",
       "is_certified                              0.0  \n",
       "zip                                     43537  \n",
       "mvr_state                                  OH  \n",
       "hvf_standard                             None  \n",
       "hvf_optional                             None  \n",
       "make                                     Ford  \n",
       "model                                   Focus  \n",
       "trim                                        S  \n",
       "mvr_purchase_month                          9  \n",
       "monthly_mileage                         517.3  \n",
       "mpg                                      30.5  \n",
       "population_density                     1484.0  \n",
       "median_income                         60078.0  \n",
       "median_home_value                    161000.0  \n",
       "mvr_purchase_yearmonth                2018-09  \n",
       "used_car_price_index                  141.095  \n",
       "new_car_price_index                   145.491  \n",
       "gas_price_index                       2.83575  \n",
       "consumer_sentiment_index                 96.2  \n",
       "make_model_trim_encoded           9545.460938  \n",
       "hvf_comp_1                          -0.349138  \n",
       "hvf_comp_2                           0.001717  \n",
       "hvf_comp_3                           0.046858  \n",
       "hvf_comp_4                              -0.04  \n",
       "hvf_comp_5                          -0.041621  \n",
       "hvf_comp_6                          -0.019616  \n",
       "hvf_comp_7                          -0.028176  \n",
       "hvf_comp_8                          -0.002415  \n",
       "hvf_comp_9                           -0.04025  \n",
       "hvf_comp_10                           0.02431  \n",
       "hvf_comp_11                          -0.00414  \n",
       "hvf_comp_12                         -0.006163  \n",
       "hvf_comp_13                          0.006106  \n",
       "hvf_comp_14                         -0.000651  \n",
       "hvf_comp_15                          -0.00367  \n",
       "hvf_comp_16                          0.000256  "
      ]
     },
     "execution_count": 391,
     "metadata": {},
     "output_type": "execute_result"
    }
   ],
   "source": [
    "print_shape(train)\n",
    "train.sample(5).T\n"
   ]
  },
  {
   "cell_type": "markdown",
   "metadata": {
    "id": "K-4hMpjx-xxX"
   },
   "source": [
    "## Model"
   ]
  },
  {
   "cell_type": "code",
   "execution_count": 398,
   "metadata": {},
   "outputs": [],
   "source": [
    "from sklearn.metrics import mean_absolute_error\n",
    "from sklearn.metrics import mean_squared_error\n",
    "from sklearn.metrics import r2_score\n",
    "\n",
    "def assess_results(y_test, y_pred):\n",
    "    print(\"R2: \", round(r2_score(y_test, y_pred),3))\n",
    "    print(\"MAE: \", round(mean_absolute_error(y_test, y_pred),2))\n",
    "    print(\"MAPE: \", round(np.mean(np.abs((y_test - y_pred) / y_test)) * 100,1),\"%\")\n",
    "    print(\"RMSE: \", round(np.sqrt(mean_squared_error(y_test, y_pred)),2))\n",
    "    print(\"Percent Underpayed: \", round(len((y_test - y_pred)[(y_test - y_pred) >= 0]) / len(y_test) * 100,1),\"%\")\n",
    "    print(\"Mean of Underpayment: \", round(np.mean((y_test - y_pred)[(y_test - y_pred) > 0]),2))\n",
    "    print(\"Percent Overpayed: \", round(len((y_test - y_pred)[(y_test - y_pred) < 0]) / len(y_test) * 100,1),\"%\")\n",
    "    print(\"Mean of Overpayment: \", round(np.mean((y_test - y_pred)[(y_test - y_pred) < 0]),2))\n",
    "    print(\"Mean Error: \", round(np.mean(y_test - y_pred),2)) \n",
    "    "
   ]
  },
  {
   "cell_type": "markdown",
   "metadata": {},
   "source": [
    "### Column Inventory"
   ]
  },
  {
   "cell_type": "code",
   "execution_count": 393,
   "metadata": {
    "scrolled": true
   },
   "outputs": [
    {
     "data": {
      "text/plain": [
       "Index(['mvr_price', 'make_model_trim', 'miles', 'year', 'age_months',\n",
       "       'mvr_purchase_date', 'vehicle_type', 'body_type', 'drivetrain',\n",
       "       'fuel_type', 'engine_block', 'engine_size', 'transmission', 'doors',\n",
       "       'cylinders', 'base_exterior_color', 'base_interior_color',\n",
       "       'is_certified', 'zip', 'mvr_state', 'hvf_standard', 'hvf_optional',\n",
       "       'make', 'model', 'trim', 'mvr_purchase_month', 'monthly_mileage', 'mpg',\n",
       "       'population_density', 'median_income', 'median_home_value',\n",
       "       'mvr_purchase_yearmonth', 'used_car_price_index', 'new_car_price_index',\n",
       "       'gas_price_index', 'consumer_sentiment_index',\n",
       "       'make_model_trim_encoded', 'hvf_comp_1', 'hvf_comp_2', 'hvf_comp_3',\n",
       "       'hvf_comp_4', 'hvf_comp_5', 'hvf_comp_6', 'hvf_comp_7', 'hvf_comp_8',\n",
       "       'hvf_comp_9', 'hvf_comp_10', 'hvf_comp_11', 'hvf_comp_12',\n",
       "       'hvf_comp_13', 'hvf_comp_14', 'hvf_comp_15', 'hvf_comp_16'],\n",
       "      dtype='object')"
      ]
     },
     "execution_count": 393,
     "metadata": {},
     "output_type": "execute_result"
    }
   ],
   "source": [
    "train.columns"
   ]
  },
  {
   "cell_type": "code",
   "execution_count": 406,
   "metadata": {},
   "outputs": [
    {
     "data": {
      "text/plain": [
       "['age_months',\n",
       " 'consumer_sentiment_index',\n",
       " 'cylinders',\n",
       " 'doors',\n",
       " 'engine_size',\n",
       " 'gas_price_index',\n",
       " 'hvf_comp_1',\n",
       " 'hvf_comp_10',\n",
       " 'hvf_comp_11',\n",
       " 'hvf_comp_12',\n",
       " 'hvf_comp_13',\n",
       " 'hvf_comp_14',\n",
       " 'hvf_comp_15',\n",
       " 'hvf_comp_16',\n",
       " 'hvf_comp_2',\n",
       " 'hvf_comp_3',\n",
       " 'hvf_comp_4',\n",
       " 'hvf_comp_5',\n",
       " 'hvf_comp_6',\n",
       " 'hvf_comp_7',\n",
       " 'hvf_comp_8',\n",
       " 'hvf_comp_9',\n",
       " 'is_certified',\n",
       " 'make_model_trim_encoded',\n",
       " 'median_home_value',\n",
       " 'median_income',\n",
       " 'miles',\n",
       " 'monthly_mileage',\n",
       " 'mpg',\n",
       " 'new_car_price_index',\n",
       " 'population_density',\n",
       " 'used_car_price_index']"
      ]
     },
     "execution_count": 406,
     "metadata": {},
     "output_type": "execute_result"
    }
   ],
   "source": [
    "# numeric columns\n",
    "num_cols = list(correlations.index)\n",
    "num_cols.sort()\n",
    "num_cols.remove(\"year\")\n",
    "num_cols.remove(\"mvr_price\")\n",
    "num_cols"
   ]
  },
  {
   "cell_type": "code",
   "execution_count": 408,
   "metadata": {},
   "outputs": [
    {
     "data": {
      "text/plain": [
       "['base_exterior_color',\n",
       " 'base_interior_color',\n",
       " 'body_type',\n",
       " 'drivetrain',\n",
       " 'engine_block',\n",
       " 'fuel_type',\n",
       " 'make',\n",
       " 'make_model_trim',\n",
       " 'model',\n",
       " 'mvr_purchase_month',\n",
       " 'mvr_state',\n",
       " 'transmission',\n",
       " 'trim',\n",
       " 'vehicle_type']"
      ]
     },
     "execution_count": 408,
     "metadata": {},
     "output_type": "execute_result"
    }
   ],
   "source": [
    "cat_cols = list(train.columns)\n",
    "\n",
    "# remove num cols\n",
    "for num_col in num_cols:\n",
    "    cat_cols.remove(num_col)\n",
    "\n",
    "# remove selected other cols\n",
    "other_cols = [\"hvf_optional\",\"hvf_standard\",\"mvr_purchase_date\",\"mvr_purchase_yearmonth\",\"zip\",\"year\"]\n",
    "for other_col in other_cols:\n",
    "    cat_cols.remove(other_col)\n",
    "\n",
    "# remove target and cleanup\n",
    "cat_cols.remove(\"mvr_price\")\n",
    "cat_cols.sort()\n",
    "cat_cols"
   ]
  },
  {
   "cell_type": "code",
   "execution_count": 409,
   "metadata": {},
   "outputs": [],
   "source": [
    "target = \"mvr_price\""
   ]
  },
  {
   "cell_type": "markdown",
   "metadata": {},
   "source": [
    "### Feature Prep"
   ]
  },
  {
   "cell_type": "code",
   "execution_count": null,
   "metadata": {},
   "outputs": [],
   "source": [
    "train_backup = train.copy()\n",
    "validate_backup = validate.copy()\n",
    "test_backup = test.copy()"
   ]
  },
  {
   "cell_type": "code",
   "execution_count": 400,
   "metadata": {},
   "outputs": [
    {
     "data": {
      "text/plain": [
       "StandardScaler()"
      ]
     },
     "execution_count": 400,
     "metadata": {},
     "output_type": "execute_result"
    }
   ],
   "source": [
    "# scale numeric columns\n",
    "#from sklearn.preprocessing import StandardScaler\n",
    "#scaler = StandardScaler()\n",
    "\n",
    "# fit\n",
    "#scaler.fit(train[num_cols])\n"
   ]
  },
  {
   "cell_type": "code",
   "execution_count": 401,
   "metadata": {},
   "outputs": [],
   "source": [
    "# transform\n",
    "#train[num_cols] = scaler.transform(train[num_cols])\n",
    "#validate[num_cols] = scaler.transform(validate[num_cols])\n",
    "#test[num_cols] = scaler.transform(test[num_cols])"
   ]
  },
  {
   "cell_type": "code",
   "execution_count": 405,
   "metadata": {},
   "outputs": [
    {
     "data": {
      "text/html": [
       "<div>\n",
       "<style scoped>\n",
       "    .dataframe tbody tr th:only-of-type {\n",
       "        vertical-align: middle;\n",
       "    }\n",
       "\n",
       "    .dataframe tbody tr th {\n",
       "        vertical-align: top;\n",
       "    }\n",
       "\n",
       "    .dataframe thead th {\n",
       "        text-align: right;\n",
       "    }\n",
       "</style>\n",
       "<table border=\"1\" class=\"dataframe\">\n",
       "  <thead>\n",
       "    <tr style=\"text-align: right;\">\n",
       "      <th></th>\n",
       "      <th>4058244</th>\n",
       "      <th>3861900</th>\n",
       "      <th>1053449</th>\n",
       "      <th>1718986</th>\n",
       "      <th>7375788</th>\n",
       "    </tr>\n",
       "  </thead>\n",
       "  <tbody>\n",
       "    <tr>\n",
       "      <th>age_months</th>\n",
       "      <td>2.917823</td>\n",
       "      <td>-0.542722</td>\n",
       "      <td>0.393149</td>\n",
       "      <td>2.047246</td>\n",
       "      <td>-0.455664</td>\n",
       "    </tr>\n",
       "    <tr>\n",
       "      <th>consumer_sentiment_index</th>\n",
       "      <td>1.067961</td>\n",
       "      <td>1.162410</td>\n",
       "      <td>0.035320</td>\n",
       "      <td>-0.140985</td>\n",
       "      <td>0.268294</td>\n",
       "    </tr>\n",
       "    <tr>\n",
       "      <th>cylinders</th>\n",
       "      <td>0.338836</td>\n",
       "      <td>-0.944789</td>\n",
       "      <td>-0.944789</td>\n",
       "      <td>-0.944789</td>\n",
       "      <td>-0.944789</td>\n",
       "    </tr>\n",
       "    <tr>\n",
       "      <th>doors</th>\n",
       "      <td>0.887546</td>\n",
       "      <td>0.887546</td>\n",
       "      <td>-0.499129</td>\n",
       "      <td>-0.499129</td>\n",
       "      <td>0.887546</td>\n",
       "    </tr>\n",
       "    <tr>\n",
       "      <th>engine_size</th>\n",
       "      <td>0.143571</td>\n",
       "      <td>-0.624781</td>\n",
       "      <td>-0.554931</td>\n",
       "      <td>-0.904182</td>\n",
       "      <td>-0.624781</td>\n",
       "    </tr>\n",
       "    <tr>\n",
       "      <th>gas_price_index</th>\n",
       "      <td>-0.145318</td>\n",
       "      <td>-0.575030</td>\n",
       "      <td>-1.182787</td>\n",
       "      <td>-0.933242</td>\n",
       "      <td>0.099625</td>\n",
       "    </tr>\n",
       "    <tr>\n",
       "      <th>hvf_comp_1</th>\n",
       "      <td>-0.474449</td>\n",
       "      <td>-0.474449</td>\n",
       "      <td>-0.474449</td>\n",
       "      <td>-0.474449</td>\n",
       "      <td>-0.474449</td>\n",
       "    </tr>\n",
       "    <tr>\n",
       "      <th>hvf_comp_10</th>\n",
       "      <td>0.095566</td>\n",
       "      <td>0.095566</td>\n",
       "      <td>0.095566</td>\n",
       "      <td>0.095566</td>\n",
       "      <td>0.095566</td>\n",
       "    </tr>\n",
       "    <tr>\n",
       "      <th>hvf_comp_11</th>\n",
       "      <td>-0.017097</td>\n",
       "      <td>-0.017097</td>\n",
       "      <td>-0.017097</td>\n",
       "      <td>-0.017097</td>\n",
       "      <td>-0.017097</td>\n",
       "    </tr>\n",
       "    <tr>\n",
       "      <th>hvf_comp_12</th>\n",
       "      <td>-0.028536</td>\n",
       "      <td>-0.028536</td>\n",
       "      <td>-0.028536</td>\n",
       "      <td>-0.028536</td>\n",
       "      <td>-0.028536</td>\n",
       "    </tr>\n",
       "    <tr>\n",
       "      <th>hvf_comp_13</th>\n",
       "      <td>0.028447</td>\n",
       "      <td>0.028447</td>\n",
       "      <td>0.028447</td>\n",
       "      <td>0.028447</td>\n",
       "      <td>0.028447</td>\n",
       "    </tr>\n",
       "    <tr>\n",
       "      <th>hvf_comp_14</th>\n",
       "      <td>-0.003310</td>\n",
       "      <td>-0.003310</td>\n",
       "      <td>-0.003310</td>\n",
       "      <td>-0.003310</td>\n",
       "      <td>-0.003310</td>\n",
       "    </tr>\n",
       "    <tr>\n",
       "      <th>hvf_comp_15</th>\n",
       "      <td>-0.018975</td>\n",
       "      <td>-0.018975</td>\n",
       "      <td>-0.018975</td>\n",
       "      <td>-0.018975</td>\n",
       "      <td>-0.018975</td>\n",
       "    </tr>\n",
       "    <tr>\n",
       "      <th>hvf_comp_16</th>\n",
       "      <td>0.001380</td>\n",
       "      <td>0.001380</td>\n",
       "      <td>0.001380</td>\n",
       "      <td>0.001380</td>\n",
       "      <td>0.001380</td>\n",
       "    </tr>\n",
       "    <tr>\n",
       "      <th>hvf_comp_2</th>\n",
       "      <td>0.003524</td>\n",
       "      <td>0.003524</td>\n",
       "      <td>0.003524</td>\n",
       "      <td>0.003524</td>\n",
       "      <td>0.003524</td>\n",
       "    </tr>\n",
       "    <tr>\n",
       "      <th>hvf_comp_3</th>\n",
       "      <td>0.099971</td>\n",
       "      <td>0.099971</td>\n",
       "      <td>0.099971</td>\n",
       "      <td>0.099971</td>\n",
       "      <td>0.099971</td>\n",
       "    </tr>\n",
       "    <tr>\n",
       "      <th>hvf_comp_4</th>\n",
       "      <td>-0.101762</td>\n",
       "      <td>-0.101762</td>\n",
       "      <td>-0.101762</td>\n",
       "      <td>-0.101762</td>\n",
       "      <td>-0.101762</td>\n",
       "    </tr>\n",
       "    <tr>\n",
       "      <th>hvf_comp_5</th>\n",
       "      <td>-0.117722</td>\n",
       "      <td>-0.117722</td>\n",
       "      <td>-0.117722</td>\n",
       "      <td>-0.117722</td>\n",
       "      <td>-0.117722</td>\n",
       "    </tr>\n",
       "    <tr>\n",
       "      <th>hvf_comp_6</th>\n",
       "      <td>-0.056725</td>\n",
       "      <td>-0.056725</td>\n",
       "      <td>-0.056725</td>\n",
       "      <td>-0.056725</td>\n",
       "      <td>-0.056725</td>\n",
       "    </tr>\n",
       "    <tr>\n",
       "      <th>hvf_comp_7</th>\n",
       "      <td>-0.090543</td>\n",
       "      <td>-0.090543</td>\n",
       "      <td>-0.090543</td>\n",
       "      <td>-0.090543</td>\n",
       "      <td>-0.090543</td>\n",
       "    </tr>\n",
       "    <tr>\n",
       "      <th>hvf_comp_8</th>\n",
       "      <td>-0.008369</td>\n",
       "      <td>-0.008369</td>\n",
       "      <td>-0.008369</td>\n",
       "      <td>-0.008369</td>\n",
       "      <td>-0.008369</td>\n",
       "    </tr>\n",
       "    <tr>\n",
       "      <th>hvf_comp_9</th>\n",
       "      <td>-0.153955</td>\n",
       "      <td>-0.153955</td>\n",
       "      <td>-0.153955</td>\n",
       "      <td>-0.153955</td>\n",
       "      <td>-0.153955</td>\n",
       "    </tr>\n",
       "    <tr>\n",
       "      <th>is_certified</th>\n",
       "      <td>-0.354174</td>\n",
       "      <td>-0.354174</td>\n",
       "      <td>-0.354174</td>\n",
       "      <td>-0.354174</td>\n",
       "      <td>-0.354174</td>\n",
       "    </tr>\n",
       "    <tr>\n",
       "      <th>make_model_trim_encoded</th>\n",
       "      <td>-1.018567</td>\n",
       "      <td>-0.993527</td>\n",
       "      <td>-0.516573</td>\n",
       "      <td>-1.642147</td>\n",
       "      <td>-0.531938</td>\n",
       "    </tr>\n",
       "    <tr>\n",
       "      <th>median_home_value</th>\n",
       "      <td>-0.181313</td>\n",
       "      <td>0.164953</td>\n",
       "      <td>1.537318</td>\n",
       "      <td>-0.280575</td>\n",
       "      <td>-0.820749</td>\n",
       "    </tr>\n",
       "    <tr>\n",
       "      <th>median_income</th>\n",
       "      <td>-0.637768</td>\n",
       "      <td>0.442176</td>\n",
       "      <td>1.174608</td>\n",
       "      <td>-0.062062</td>\n",
       "      <td>-0.762130</td>\n",
       "    </tr>\n",
       "    <tr>\n",
       "      <th>miles</th>\n",
       "      <td>2.158626</td>\n",
       "      <td>-0.718771</td>\n",
       "      <td>-0.001819</td>\n",
       "      <td>0.959764</td>\n",
       "      <td>-0.076370</td>\n",
       "    </tr>\n",
       "    <tr>\n",
       "      <th>monthly_mileage</th>\n",
       "      <td>-0.147570</td>\n",
       "      <td>-0.306687</td>\n",
       "      <td>-0.232779</td>\n",
       "      <td>-0.266313</td>\n",
       "      <td>0.143004</td>\n",
       "    </tr>\n",
       "    <tr>\n",
       "      <th>mpg</th>\n",
       "      <td>-0.572321</td>\n",
       "      <td>0.346941</td>\n",
       "      <td>1.283386</td>\n",
       "      <td>0.956919</td>\n",
       "      <td>0.286803</td>\n",
       "    </tr>\n",
       "    <tr>\n",
       "      <th>new_car_price_index</th>\n",
       "      <td>-0.869173</td>\n",
       "      <td>-0.717051</td>\n",
       "      <td>-0.677162</td>\n",
       "      <td>-0.454482</td>\n",
       "      <td>-0.098023</td>\n",
       "    </tr>\n",
       "    <tr>\n",
       "      <th>population_density</th>\n",
       "      <td>-1.188737</td>\n",
       "      <td>-0.143906</td>\n",
       "      <td>-0.121339</td>\n",
       "      <td>-0.558566</td>\n",
       "      <td>-1.102419</td>\n",
       "    </tr>\n",
       "    <tr>\n",
       "      <th>used_car_price_index</th>\n",
       "      <td>-0.879135</td>\n",
       "      <td>-0.921906</td>\n",
       "      <td>-0.384421</td>\n",
       "      <td>-0.537193</td>\n",
       "      <td>1.054461</td>\n",
       "    </tr>\n",
       "    <tr>\n",
       "      <th>year</th>\n",
       "      <td>-3.488871</td>\n",
       "      <td>-0.100466</td>\n",
       "      <td>-0.361112</td>\n",
       "      <td>-1.924992</td>\n",
       "      <td>0.681474</td>\n",
       "    </tr>\n",
       "  </tbody>\n",
       "</table>\n",
       "</div>"
      ],
      "text/plain": [
       "                           4058244   3861900   1053449   1718986   7375788\n",
       "age_months                2.917823 -0.542722  0.393149  2.047246 -0.455664\n",
       "consumer_sentiment_index  1.067961  1.162410  0.035320 -0.140985  0.268294\n",
       "cylinders                 0.338836 -0.944789 -0.944789 -0.944789 -0.944789\n",
       "doors                     0.887546  0.887546 -0.499129 -0.499129  0.887546\n",
       "engine_size               0.143571 -0.624781 -0.554931 -0.904182 -0.624781\n",
       "gas_price_index          -0.145318 -0.575030 -1.182787 -0.933242  0.099625\n",
       "hvf_comp_1               -0.474449 -0.474449 -0.474449 -0.474449 -0.474449\n",
       "hvf_comp_10               0.095566  0.095566  0.095566  0.095566  0.095566\n",
       "hvf_comp_11              -0.017097 -0.017097 -0.017097 -0.017097 -0.017097\n",
       "hvf_comp_12              -0.028536 -0.028536 -0.028536 -0.028536 -0.028536\n",
       "hvf_comp_13               0.028447  0.028447  0.028447  0.028447  0.028447\n",
       "hvf_comp_14              -0.003310 -0.003310 -0.003310 -0.003310 -0.003310\n",
       "hvf_comp_15              -0.018975 -0.018975 -0.018975 -0.018975 -0.018975\n",
       "hvf_comp_16               0.001380  0.001380  0.001380  0.001380  0.001380\n",
       "hvf_comp_2                0.003524  0.003524  0.003524  0.003524  0.003524\n",
       "hvf_comp_3                0.099971  0.099971  0.099971  0.099971  0.099971\n",
       "hvf_comp_4               -0.101762 -0.101762 -0.101762 -0.101762 -0.101762\n",
       "hvf_comp_5               -0.117722 -0.117722 -0.117722 -0.117722 -0.117722\n",
       "hvf_comp_6               -0.056725 -0.056725 -0.056725 -0.056725 -0.056725\n",
       "hvf_comp_7               -0.090543 -0.090543 -0.090543 -0.090543 -0.090543\n",
       "hvf_comp_8               -0.008369 -0.008369 -0.008369 -0.008369 -0.008369\n",
       "hvf_comp_9               -0.153955 -0.153955 -0.153955 -0.153955 -0.153955\n",
       "is_certified             -0.354174 -0.354174 -0.354174 -0.354174 -0.354174\n",
       "make_model_trim_encoded  -1.018567 -0.993527 -0.516573 -1.642147 -0.531938\n",
       "median_home_value        -0.181313  0.164953  1.537318 -0.280575 -0.820749\n",
       "median_income            -0.637768  0.442176  1.174608 -0.062062 -0.762130\n",
       "miles                     2.158626 -0.718771 -0.001819  0.959764 -0.076370\n",
       "monthly_mileage          -0.147570 -0.306687 -0.232779 -0.266313  0.143004\n",
       "mpg                      -0.572321  0.346941  1.283386  0.956919  0.286803\n",
       "new_car_price_index      -0.869173 -0.717051 -0.677162 -0.454482 -0.098023\n",
       "population_density       -1.188737 -0.143906 -0.121339 -0.558566 -1.102419\n",
       "used_car_price_index     -0.879135 -0.921906 -0.384421 -0.537193  1.054461\n",
       "year                     -3.488871 -0.100466 -0.361112 -1.924992  0.681474"
      ]
     },
     "execution_count": 405,
     "metadata": {},
     "output_type": "execute_result"
    }
   ],
   "source": [
    "train[num_cols].sample(5).T"
   ]
  },
  {
   "cell_type": "markdown",
   "metadata": {},
   "source": [
    "### Linear"
   ]
  },
  {
   "cell_type": "code",
   "execution_count": 411,
   "metadata": {},
   "outputs": [],
   "source": [
    "from sklearn.linear_model import LinearRegression"
   ]
  },
  {
   "cell_type": "code",
   "execution_count": 412,
   "metadata": {},
   "outputs": [],
   "source": [
    "# box-cox transform mvr_price\n",
    "#from scipy import stats\n",
    "#train[\"mvr_price_bc\"], bc_lambda = stats.boxcox(train[\"mvr_price\"])\n",
    "#train[\"mvr_price_bc\"].hist(bins=100)"
   ]
  },
  {
   "cell_type": "code",
   "execution_count": 413,
   "metadata": {},
   "outputs": [
    {
     "name": "stdout",
     "output_type": "stream",
     "text": [
      "R2:  0.501\n",
      "MAE:  7130.78\n",
      "MAPE:  79.7 %\n",
      "RMSE:  10345.55\n",
      "Percent Underpayed:  37.9 %\n",
      "Mean of Underpayment:  9249.98\n",
      "Percent Overpayed:  62.1 %\n",
      "Mean of Overpayment:  -5835.29\n",
      "Mean Error:  -112.13\n"
     ]
    }
   ],
   "source": [
    "# fit\n",
    "lr_model = LinearRegression()\n",
    "lr_model.fit(train[num_cols], train[target])\n",
    "\n",
    "# predict\n",
    "lr_preds = lr_model.predict(validate[num_cols])\n",
    "\n",
    "# results\n",
    "assess_results(validate[target], lr_preds)"
   ]
  },
  {
   "cell_type": "code",
   "execution_count": null,
   "metadata": {},
   "outputs": [],
   "source": []
  },
  {
   "cell_type": "markdown",
   "metadata": {},
   "source": [
    "### CatBoost"
   ]
  },
  {
   "cell_type": "code",
   "execution_count": 416,
   "metadata": {},
   "outputs": [],
   "source": [
    "from catboost import CatBoostRegressor"
   ]
  },
  {
   "cell_type": "code",
   "execution_count": 422,
   "metadata": {},
   "outputs": [
    {
     "data": {
      "text/plain": [
       "['age_months',\n",
       " 'consumer_sentiment_index',\n",
       " 'cylinders',\n",
       " 'doors',\n",
       " 'engine_size',\n",
       " 'gas_price_index',\n",
       " 'hvf_comp_1',\n",
       " 'hvf_comp_10',\n",
       " 'hvf_comp_11',\n",
       " 'hvf_comp_12',\n",
       " 'hvf_comp_13',\n",
       " 'hvf_comp_14',\n",
       " 'hvf_comp_15',\n",
       " 'hvf_comp_16',\n",
       " 'hvf_comp_2',\n",
       " 'hvf_comp_3',\n",
       " 'hvf_comp_4',\n",
       " 'hvf_comp_5',\n",
       " 'hvf_comp_6',\n",
       " 'hvf_comp_7',\n",
       " 'hvf_comp_8',\n",
       " 'hvf_comp_9',\n",
       " 'is_certified',\n",
       " 'make_model_trim_encoded',\n",
       " 'median_home_value',\n",
       " 'median_income',\n",
       " 'miles',\n",
       " 'monthly_mileage',\n",
       " 'mpg',\n",
       " 'new_car_price_index',\n",
       " 'population_density',\n",
       " 'used_car_price_index']"
      ]
     },
     "execution_count": 422,
     "metadata": {},
     "output_type": "execute_result"
    }
   ],
   "source": [
    "# select numerical columns\n",
    "selected_num_cols = num_cols\n",
    "remove_cols = []\n",
    "for remove_col in remove_cols:\n",
    "    selected_num_cols.remove(remove_col)\n",
    "selected_num_cols"
   ]
  },
  {
   "cell_type": "code",
   "execution_count": 418,
   "metadata": {},
   "outputs": [
    {
     "data": {
      "text/plain": [
       "['base_exterior_color',\n",
       " 'base_interior_color',\n",
       " 'body_type',\n",
       " 'drivetrain',\n",
       " 'engine_block',\n",
       " 'fuel_type',\n",
       " 'mvr_purchase_month',\n",
       " 'mvr_state',\n",
       " 'transmission',\n",
       " 'vehicle_type']"
      ]
     },
     "execution_count": 418,
     "metadata": {},
     "output_type": "execute_result"
    }
   ],
   "source": [
    "# select categorical columns\n",
    "selected_cat_cols = cat_cols\n",
    "remove_cols = [\"make_model_trim\",\"make\",\"model\",\"trim\"]\n",
    "for remove_col in remove_cols:\n",
    "    selected_cat_cols.remove(remove_col)\n",
    "selected_cat_cols"
   ]
  },
  {
   "cell_type": "code",
   "execution_count": null,
   "metadata": {},
   "outputs": [],
   "source": [
    "# fit\n",
    "cb_model = CatBoostRegressor(cat_features=selected_cat_cols,verbose=False)\n",
    "cb_model.fit(train[selected_num_cols + selected_cat_cols],train[target])"
   ]
  },
  {
   "cell_type": "code",
   "execution_count": 424,
   "metadata": {},
   "outputs": [],
   "source": [
    "# predict\n",
    "cb_preds = cb_model.predict(validate[selected_num_cols + selected_cat_cols])"
   ]
  },
  {
   "cell_type": "code",
   "execution_count": 425,
   "metadata": {},
   "outputs": [
    {
     "name": "stdout",
     "output_type": "stream",
     "text": [
      "R2:  0.656\n",
      "MAE:  5638.98\n",
      "MAPE:  54.8 %\n",
      "RMSE:  8590.23\n",
      "Percent Underpayed:  46.0 %\n",
      "Mean of Underpayment:  6932.13\n",
      "Percent Overpayed:  54.0 %\n",
      "Mean of Overpayment:  -4537.92\n",
      "Mean Error:  736.95\n"
     ]
    }
   ],
   "source": [
    "# results\n",
    "assess_results(validate[target], cb_preds)"
   ]
  },
  {
   "cell_type": "code",
   "execution_count": 420,
   "metadata": {},
   "outputs": [
    {
     "data": {
      "text/html": [
       "<div>\n",
       "<style scoped>\n",
       "    .dataframe tbody tr th:only-of-type {\n",
       "        vertical-align: middle;\n",
       "    }\n",
       "\n",
       "    .dataframe tbody tr th {\n",
       "        vertical-align: top;\n",
       "    }\n",
       "\n",
       "    .dataframe thead th {\n",
       "        text-align: right;\n",
       "    }\n",
       "</style>\n",
       "<table border=\"1\" class=\"dataframe\">\n",
       "  <thead>\n",
       "    <tr style=\"text-align: right;\">\n",
       "      <th></th>\n",
       "      <th>Feature Id</th>\n",
       "      <th>Importances</th>\n",
       "    </tr>\n",
       "  </thead>\n",
       "  <tbody>\n",
       "    <tr>\n",
       "      <th>0</th>\n",
       "      <td>make_model_trim_encoded</td>\n",
       "      <td>34.973606</td>\n",
       "    </tr>\n",
       "    <tr>\n",
       "      <th>1</th>\n",
       "      <td>age_months</td>\n",
       "      <td>25.475866</td>\n",
       "    </tr>\n",
       "    <tr>\n",
       "      <th>2</th>\n",
       "      <td>engine_size</td>\n",
       "      <td>7.154813</td>\n",
       "    </tr>\n",
       "    <tr>\n",
       "      <th>3</th>\n",
       "      <td>miles</td>\n",
       "      <td>6.984771</td>\n",
       "    </tr>\n",
       "    <tr>\n",
       "      <th>4</th>\n",
       "      <td>used_car_price_index</td>\n",
       "      <td>4.173827</td>\n",
       "    </tr>\n",
       "    <tr>\n",
       "      <th>5</th>\n",
       "      <td>gas_price_index</td>\n",
       "      <td>3.621730</td>\n",
       "    </tr>\n",
       "    <tr>\n",
       "      <th>6</th>\n",
       "      <td>mpg</td>\n",
       "      <td>3.487675</td>\n",
       "    </tr>\n",
       "    <tr>\n",
       "      <th>7</th>\n",
       "      <td>cylinders</td>\n",
       "      <td>2.394426</td>\n",
       "    </tr>\n",
       "    <tr>\n",
       "      <th>8</th>\n",
       "      <td>body_type</td>\n",
       "      <td>2.203862</td>\n",
       "    </tr>\n",
       "    <tr>\n",
       "      <th>9</th>\n",
       "      <td>fuel_type</td>\n",
       "      <td>2.076431</td>\n",
       "    </tr>\n",
       "  </tbody>\n",
       "</table>\n",
       "</div>"
      ],
      "text/plain": [
       "                Feature Id  Importances\n",
       "0  make_model_trim_encoded    34.973606\n",
       "1               age_months    25.475866\n",
       "2              engine_size     7.154813\n",
       "3                    miles     6.984771\n",
       "4     used_car_price_index     4.173827\n",
       "5          gas_price_index     3.621730\n",
       "6                      mpg     3.487675\n",
       "7                cylinders     2.394426\n",
       "8                body_type     2.203862\n",
       "9                fuel_type     2.076431"
      ]
     },
     "execution_count": 420,
     "metadata": {},
     "output_type": "execute_result"
    }
   ],
   "source": [
    "# print top ten features by importance with importance measure\n",
    "importance = cb_model.get_feature_importance(prettified=True)\n",
    "importance.head(10)"
   ]
  },
  {
   "cell_type": "markdown",
   "metadata": {},
   "source": [
    "### Handicapped CatBoost"
   ]
  },
  {
   "cell_type": "markdown",
   "metadata": {},
   "source": [
    "#### Without Target Encoding"
   ]
  },
  {
   "cell_type": "code",
   "execution_count": null,
   "metadata": {},
   "outputs": [],
   "source": [
    "# select numerical columns\n",
    "selected_num_cols = num_cols\n",
    "remove_cols = [\"make_model_trim_encoded\"]\n",
    "for remove_col in remove_cols:\n",
    "    selected_num_cols.remove(remove_col)\n",
    "selected_num_cols"
   ]
  },
  {
   "cell_type": "code",
   "execution_count": null,
   "metadata": {},
   "outputs": [],
   "source": [
    "# select categorical columns\n",
    "selected_cat_cols = cat_cols\n",
    "remove_cols = [\"make_model_trim\",\"trim\"] # leaving make and model in\n",
    "for remove_col in remove_cols:\n",
    "    selected_cat_cols.remove(remove_col)\n",
    "selected_cat_cols"
   ]
  },
  {
   "cell_type": "code",
   "execution_count": null,
   "metadata": {},
   "outputs": [],
   "source": [
    "# fit\n",
    "cb_model = CatBoostRegressor(cat_features=selected_cat_cols,verbose=False)\n",
    "cb_model.fit(train[selected_num_cols + selected_cat_cols],train[target])\n",
    "\n",
    "# predict\n",
    "cb_preds = cb_model.predict(validate[selected_num_cols + selected_cat_cols])\n",
    "\n",
    "# results\n",
    "assess_results(validate[target], cb_preds)"
   ]
  },
  {
   "cell_type": "markdown",
   "metadata": {},
   "source": [
    "#### Without External Data"
   ]
  },
  {
   "cell_type": "code",
   "execution_count": null,
   "metadata": {},
   "outputs": [],
   "source": [
    "# select numerical columns\n",
    "selected_num_cols = num_cols\n",
    "remove_cols = [\"population_density\", \"median_income\", \"median_home_value\" # local\n",
    "              ,\"used_car_price_index\", \"new_car_price_index\", \"gas_price_index\", \"consumer_sentiment_index\"] # fred\n",
    "for remove_col in remove_cols:\n",
    "    selected_num_cols.remove(remove_col)\n",
    "selected_num_cols"
   ]
  },
  {
   "cell_type": "code",
   "execution_count": null,
   "metadata": {},
   "outputs": [],
   "source": [
    "# select categorical columns\n",
    "selected_cat_cols = cat_cols\n",
    "remove_cols = [\"make_model_trim\",\"make\",\"model\",\"trim\"]\n",
    "for remove_col in remove_cols:\n",
    "    selected_cat_cols.remove(remove_col)\n",
    "selected_cat_cols"
   ]
  },
  {
   "cell_type": "code",
   "execution_count": null,
   "metadata": {},
   "outputs": [],
   "source": [
    "# fit\n",
    "cb_model = CatBoostRegressor(cat_features=selected_cat_cols,verbose=False)\n",
    "cb_model.fit(train[selected_num_cols + selected_cat_cols],train[target])\n",
    "\n",
    "# predict\n",
    "cb_preds = cb_model.predict(validate[selected_num_cols + selected_cat_cols])\n",
    "\n",
    "# results\n",
    "assess_results(validate[target], cb_preds)"
   ]
  },
  {
   "cell_type": "markdown",
   "metadata": {},
   "source": [
    "#### Without High Value Features"
   ]
  },
  {
   "cell_type": "code",
   "execution_count": null,
   "metadata": {},
   "outputs": [],
   "source": [
    "# select numerical columns\n",
    "selected_num_cols = num_cols\n",
    "remove_cols = ['hvf_comp_1', 'hvf_comp_2', 'hvf_comp_3'\n",
    "              ,'hvf_comp_4', 'hvf_comp_5', 'hvf_comp_6'\n",
    "              ,'hvf_comp_7', 'hvf_comp_8', 'hvf_comp_9'\n",
    "              ,'hvf_comp_10', 'hvf_comp_11', 'hvf_comp_12'\n",
    "              ,'hvf_comp_13', 'hvf_comp_14', 'hvf_comp_15'\n",
    "              ,'hvf_comp_16',]\n",
    "for remove_col in remove_cols:\n",
    "    selected_num_cols.remove(remove_col)\n",
    "selected_num_cols"
   ]
  },
  {
   "cell_type": "code",
   "execution_count": null,
   "metadata": {},
   "outputs": [],
   "source": [
    "# select categorical columns\n",
    "selected_cat_cols = cat_cols\n",
    "remove_cols = [\"make_model_trim\",\"make\",\"model\",\"trim\"]\n",
    "for remove_col in remove_cols:\n",
    "    selected_cat_cols.remove(remove_col)\n",
    "selected_cat_cols"
   ]
  },
  {
   "cell_type": "code",
   "execution_count": null,
   "metadata": {},
   "outputs": [],
   "source": [
    "# fit\n",
    "cb_model = CatBoostRegressor(cat_features=selected_cat_cols,verbose=False)\n",
    "cb_model.fit(train[selected_num_cols + selected_cat_cols],train[target])\n",
    "\n",
    "# predict\n",
    "cb_preds = cb_model.predict(validate[selected_num_cols + selected_cat_cols])\n",
    "\n",
    "# results\n",
    "assess_results(validate[target], cb_preds)"
   ]
  },
  {
   "cell_type": "markdown",
   "metadata": {},
   "source": [
    "### CatBoost with Tilted Loss\n",
    "Allows targetting of quantiles\n",
    "\n",
    "https://brendanhasz.github.io/2018/12/15/quantile-regression.html#quantile-regression"
   ]
  },
  {
   "cell_type": "code",
   "execution_count": null,
   "metadata": {},
   "outputs": [],
   "source": [
    "# select numerical columns\n",
    "selected_num_cols = num_cols\n",
    "remove_cols = []\n",
    "for remove_col in remove_cols:\n",
    "    selected_num_cols.remove(remove_col)\n",
    "selected_num_cols"
   ]
  },
  {
   "cell_type": "code",
   "execution_count": null,
   "metadata": {},
   "outputs": [],
   "source": [
    "# select categorical columns\n",
    "selected_cat_cols = cat_cols\n",
    "remove_cols = [\"make_model_trim\",\"make\",\"model\",\"trim\"]\n",
    "for remove_col in remove_cols:\n",
    "    selected_cat_cols.remove(remove_col)\n",
    "selected_cat_cols"
   ]
  },
  {
   "cell_type": "code",
   "execution_count": null,
   "metadata": {},
   "outputs": [],
   "source": [
    "# fit\n",
    "cb_model = CatBoostRegressor(cat_features=selected_cat_cols,verbose=False\n",
    "                            ,loss_function='Quantile:alpha=0.5')\n",
    "cb_model.fit(train[selected_num_cols + selected_cat_cols],train[target])\n",
    "\n",
    "# predict\n",
    "cb_preds = cb_model.predict(validate[selected_num_cols + selected_cat_cols])\n",
    "\n",
    "# results\n",
    "assess_results(validate[target], cb_preds)"
   ]
  },
  {
   "cell_type": "markdown",
   "metadata": {},
   "source": [
    "### CatBoost Hyperparameter Tuning and Validation Set Stopping"
   ]
  },
  {
   "cell_type": "code",
   "execution_count": 367,
   "metadata": {},
   "outputs": [],
   "source": [
    "from catboost import CatBoostRegressor\n",
    "from sklearn.model_selection import GridSearchCV\n",
    "import pandas as pd\n",
    "\n",
    "# create sample data\n",
    "train = pd.DataFrame({'num_col_1': [1, 2, 3, 4, 5],\n",
    "                      'num_col_2': [10, 20, 30, 40, 50],\n",
    "                      'cat_col_1': ['a', 'b', 'c', 'a', 'b'],\n",
    "                      'cat_col_2': ['x', 'y', 'z', 'z', 'y'],\n",
    "                      'target': [100, 200, 300, 400, 500]})\n",
    "validate = pd.DataFrame({'num_col_1': [6, 7, 8, 9, 10],\n",
    "                         'num_col_2': [60, 70, 80, 90, 100],\n",
    "                         'cat_col_1': ['c', 'a', 'b', 'a', 'c'],\n",
    "                         'cat_col_2': ['y', 'z', 'x', 'y', 'z'],\n",
    "                         'target': [600, 700, 800, 900, 1000]})\n",
    "\n",
    "# define hyperparameters to search over\n",
    "params = {'learning_rate': [0.1, 0.2, 0.3],\n",
    "          'depth': [3, 5, 7],\n",
    "          'iterations': [100, 200, 300]}\n",
    "\n",
    "# define categorical columns\n",
    "cat_cols = ['cat_col_1', 'cat_col_2']\n",
    "\n",
    "# define numeric columns\n",
    "num_cols = ['num_col_1', 'num_col_2']\n",
    "\n",
    "# define target column\n",
    "target = 'target'\n",
    "\n",
    "# create a CatBoostRegressor model\n",
    "cb_model = CatBoostRegressor(cat_features=cat_cols)\n",
    "\n",
    "# perform hyperparameter optimization by grid search\n",
    "grid_search = GridSearchCV(cb_model, params, cv=3)\n",
    "grid_search.fit(train[num_cols + cat_cols], train[target])\n",
    "\n",
    "# train the model with the best hyperparameters on the full training set\n",
    "best_model = grid_search.best_estimator_\n",
    "best_model.fit(train[num_cols + cat_cols], train[target], eval_set=(validate[num_cols + cat_cols], validate[target]))\n",
    "\n",
    "# print the best hyperparameters and feature importances\n",
    "print('Best hyperparameters:', grid_search.best_params_)\n",
    "print('Feature importances:', best_model.feature_importances_)\n"
   ]
  },
  {
   "cell_type": "markdown",
   "metadata": {},
   "source": [
    "## Final Test Results"
   ]
  },
  {
   "cell_type": "code",
   "execution_count": null,
   "metadata": {},
   "outputs": [],
   "source": [
    "test"
   ]
  }
 ],
 "metadata": {
  "colab": {
   "collapsed_sections": [
    "n7UQ4jzFIDtZ",
    "pf8KzdwtIDtc"
   ],
   "machine_shape": "hm",
   "provenance": []
  },
  "gpuClass": "standard",
  "kernelspec": {
   "display_name": "Python 3 (ipykernel)",
   "language": "python",
   "name": "python3"
  },
  "language_info": {
   "codemirror_mode": {
    "name": "ipython",
    "version": 3
   },
   "file_extension": ".py",
   "mimetype": "text/x-python",
   "name": "python",
   "nbconvert_exporter": "python",
   "pygments_lexer": "ipython3",
   "version": "3.9.12"
  }
 },
 "nbformat": 4,
 "nbformat_minor": 1
}
