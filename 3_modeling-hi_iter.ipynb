{
 "cells": [
  {
   "cell_type": "markdown",
   "metadata": {
    "id": "VpW_mbAyIDtT"
   },
   "source": [
    "# Used Car Pricing Algorithm"
   ]
  },
  {
   "cell_type": "markdown",
   "metadata": {
    "id": "n7UQ4jzFIDtZ"
   },
   "source": [
    "## Environment"
   ]
  },
  {
   "cell_type": "code",
   "execution_count": 1,
   "metadata": {
    "executionInfo": {
     "elapsed": 767,
     "status": "ok",
     "timestamp": 1678124119673,
     "user": {
      "displayName": "Shea Conaway",
      "userId": "06745111064212010073"
     },
     "user_tz": 360
    },
    "id": "OHzjIIGb-xxW"
   },
   "outputs": [],
   "source": [
    "import numpy as np\n",
    "import pandas as pd"
   ]
  },
  {
   "cell_type": "code",
   "execution_count": 2,
   "metadata": {},
   "outputs": [],
   "source": [
    "# show 100 rows, 50 columns\n",
    "pd.options.display.max_rows = 100\n",
    "pd.set_option('display.max_columns', 100)\n",
    "pd.set_option('display.float_format', lambda x: '%.2f' % x)"
   ]
  },
  {
   "cell_type": "code",
   "execution_count": 3,
   "metadata": {},
   "outputs": [],
   "source": [
    "def print_shape(df):\n",
    "    print(f\"Rows: {df.shape[0]:,} \\nColumns: {df.shape[1]:,}\")"
   ]
  },
  {
   "cell_type": "code",
   "execution_count": 4,
   "metadata": {},
   "outputs": [],
   "source": [
    "def print_rows(df):\n",
    "    print(f\"Rows: {df.shape[0]:,}\")"
   ]
  },
  {
   "cell_type": "code",
   "execution_count": 5,
   "metadata": {},
   "outputs": [],
   "source": [
    "from sklearn.metrics import mean_absolute_error\n",
    "from sklearn.metrics import mean_squared_error\n",
    "from sklearn.metrics import r2_score\n",
    "\n",
    "def assess_results(y_test, y_pred):\n",
    "    print(\"R2: \", round(r2_score(y_test, y_pred),3))\n",
    "    print(\"MAE: \", round(mean_absolute_error(y_test, y_pred),2))\n",
    "    print(\"MAPE: \", round(np.mean(np.abs((y_test - y_pred) / y_test)) * 100,1),\"%\")\n",
    "    print(\"RMSE: \", round(np.sqrt(mean_squared_error(y_test, y_pred)),2))\n",
    "    print(\"Percent Underpayed: \", round(len((y_test - y_pred)[(y_test - y_pred) >= 0]) / len(y_test) * 100,1),\"%\")\n",
    "    print(\"Mean of Underpayment: \", round(np.mean((y_test - y_pred)[(y_test - y_pred) > 0]),2))\n",
    "    print(\"Percent Overpayed: \", round(len((y_test - y_pred)[(y_test - y_pred) < 0]) / len(y_test) * 100,1),\"%\")\n",
    "    print(\"Mean of Overpayment: \", round(np.mean((y_test - y_pred)[(y_test - y_pred) < 0]),2))\n",
    "    print(\"Mean Error: \", round(np.mean(y_test - y_pred),2)) \n",
    "    "
   ]
  },
  {
   "cell_type": "code",
   "execution_count": 6,
   "metadata": {},
   "outputs": [],
   "source": [
    "working_dir = \"/data/p_dsi/capstone_projects/shea/working/\"\n",
    "train = pd.read_pickle(working_dir + \"train.pkl\")\n",
    "validate = pd.read_pickle(working_dir + \"validate.pkl\")\n",
    "test = pd.read_pickle(working_dir + \"test.pkl\")"
   ]
  },
  {
   "cell_type": "markdown",
   "metadata": {
    "id": "K-4hMpjx-xxX"
   },
   "source": [
    "## Model"
   ]
  },
  {
   "cell_type": "markdown",
   "metadata": {},
   "source": [
    "### Column Inventory"
   ]
  },
  {
   "cell_type": "markdown",
   "metadata": {},
   "source": [
    "#### HVF"
   ]
  },
  {
   "cell_type": "code",
   "execution_count": 54,
   "metadata": {},
   "outputs": [
    {
     "data": {
      "text/plain": [
       "['hvf_opt_comp_0',\n",
       " 'hvf_opt_comp_1',\n",
       " 'hvf_opt_comp_2',\n",
       " 'hvf_opt_comp_3',\n",
       " 'hvf_opt_comp_4',\n",
       " 'hvf_opt_comp_5',\n",
       " 'hvf_opt_comp_6',\n",
       " 'hvf_opt_comp_7',\n",
       " 'hvf_opt_comp_8',\n",
       " 'hvf_all_comp_0',\n",
       " 'hvf_all_comp_1',\n",
       " 'hvf_all_comp_2',\n",
       " 'hvf_all_comp_3',\n",
       " 'hvf_all_comp_4',\n",
       " 'hvf_all_comp_5',\n",
       " 'hvf_all_comp_6',\n",
       " 'hvf_all_comp_7',\n",
       " 'hvf_all_comp_8']"
      ]
     },
     "execution_count": 54,
     "metadata": {},
     "output_type": "execute_result"
    }
   ],
   "source": [
    "# hvf columns\n",
    "hvf_cols = [col for col in train.columns if col.startswith(\"hvf_\")]\n",
    "hvf_cols.remove(\"hvf_opt_missing\")\n",
    "hvf_cols.remove(\"hvf_std_missing\")\n",
    "hvf_cols.remove(\"hvf_optional\")\n",
    "hvf_cols.remove(\"hvf_standard\")\n",
    "hvf_cols"
   ]
  },
  {
   "cell_type": "markdown",
   "metadata": {},
   "source": [
    "#### Numeric"
   ]
  },
  {
   "cell_type": "code",
   "execution_count": 55,
   "metadata": {},
   "outputs": [
    {
     "data": {
      "text/plain": [
       "['age_months',\n",
       " 'consumer_sentiment_index',\n",
       " 'cylinders',\n",
       " 'doors',\n",
       " 'engine_size',\n",
       " 'gas_price_index',\n",
       " 'hvf_opt_missing',\n",
       " 'hvf_std_missing',\n",
       " 'is_certified',\n",
       " 'make_model_encode',\n",
       " 'make_model_trim_encode',\n",
       " 'median_home_value',\n",
       " 'median_income',\n",
       " 'monthly_mileage',\n",
       " 'mpg',\n",
       " 'mvr_mileage',\n",
       " 'mvr_model_year',\n",
       " 'mvr_price_bc',\n",
       " 'new_car_price_index',\n",
       " 'population_density',\n",
       " 'used_car_price_index']"
      ]
     },
     "execution_count": 55,
     "metadata": {},
     "output_type": "execute_result"
    }
   ],
   "source": [
    "# numeric columns\n",
    "num_cols = train.select_dtypes(include=[\"number\"]).columns.tolist()\n",
    "num_cols.sort()\n",
    "num_cols.remove(\"mvr_price\")\n",
    "for hvf_col in hvf_cols:\n",
    "    num_cols.remove(hvf_col)\n",
    "num_cols"
   ]
  },
  {
   "cell_type": "code",
   "execution_count": 56,
   "metadata": {},
   "outputs": [
    {
     "data": {
      "text/plain": [
       "['base_exterior_color',\n",
       " 'base_interior_color',\n",
       " 'body_subtype',\n",
       " 'body_type',\n",
       " 'drivetrain',\n",
       " 'engine_block',\n",
       " 'fuel_type',\n",
       " 'make',\n",
       " 'model',\n",
       " 'mvr_purchase_month',\n",
       " 'mvr_state',\n",
       " 'transmission',\n",
       " 'trim',\n",
       " 'vehicle_type']"
      ]
     },
     "execution_count": 56,
     "metadata": {},
     "output_type": "execute_result"
    }
   ],
   "source": [
    "# categorical columns\n",
    "cat_cols = list(train.columns)\n",
    "\n",
    "# remove num cols\n",
    "for num_col in num_cols:\n",
    "    cat_cols.remove(num_col)\n",
    "    \n",
    "# remove hvf cols\n",
    "for hvf_col in hvf_cols:\n",
    "    cat_cols.remove(hvf_col)\n",
    "\n",
    "# remove selected other cols\n",
    "other_cols = [\"hvf_optional\",\"hvf_standard\",\"mvr_purchase_date\",\"mvr_purchase_yearmonth\",\"zip\"]\n",
    "for other_col in other_cols:\n",
    "    cat_cols.remove(other_col)\n",
    "\n",
    "# remove target and cleanup\n",
    "cat_cols.remove(\"mvr_price\")\n",
    "cat_cols.sort()\n",
    "cat_cols"
   ]
  },
  {
   "cell_type": "code",
   "execution_count": 57,
   "metadata": {},
   "outputs": [],
   "source": [
    "# target\n",
    "target = \"mvr_price\""
   ]
  },
  {
   "cell_type": "markdown",
   "metadata": {},
   "source": [
    "### Feature Prep"
   ]
  },
  {
   "cell_type": "code",
   "execution_count": 7,
   "metadata": {},
   "outputs": [
    {
     "data": {
      "text/html": [
       "<div>\n",
       "<style scoped>\n",
       "    .dataframe tbody tr th:only-of-type {\n",
       "        vertical-align: middle;\n",
       "    }\n",
       "\n",
       "    .dataframe tbody tr th {\n",
       "        vertical-align: top;\n",
       "    }\n",
       "\n",
       "    .dataframe thead th {\n",
       "        text-align: right;\n",
       "    }\n",
       "</style>\n",
       "<table border=\"1\" class=\"dataframe\">\n",
       "  <thead>\n",
       "    <tr style=\"text-align: right;\">\n",
       "      <th></th>\n",
       "      <th>5641706</th>\n",
       "      <th>746779</th>\n",
       "      <th>2789002</th>\n",
       "      <th>4146870</th>\n",
       "      <th>2645290</th>\n",
       "    </tr>\n",
       "  </thead>\n",
       "  <tbody>\n",
       "    <tr>\n",
       "      <th>age_months</th>\n",
       "      <td>31.000000</td>\n",
       "      <td>79.000000</td>\n",
       "      <td>27.000000</td>\n",
       "      <td>51.000000</td>\n",
       "      <td>42.000000</td>\n",
       "    </tr>\n",
       "    <tr>\n",
       "      <th>consumer_sentiment_index</th>\n",
       "      <td>96.800000</td>\n",
       "      <td>96.800000</td>\n",
       "      <td>96.200000</td>\n",
       "      <td>58.200000</td>\n",
       "      <td>67.400000</td>\n",
       "    </tr>\n",
       "    <tr>\n",
       "      <th>cylinders</th>\n",
       "      <td>6.000000</td>\n",
       "      <td>6.000000</td>\n",
       "      <td>6.000000</td>\n",
       "      <td>8.000000</td>\n",
       "      <td>4.000000</td>\n",
       "    </tr>\n",
       "    <tr>\n",
       "      <th>doors</th>\n",
       "      <td>5.000000</td>\n",
       "      <td>5.000000</td>\n",
       "      <td>4.000000</td>\n",
       "      <td>4.000000</td>\n",
       "      <td>4.000000</td>\n",
       "    </tr>\n",
       "    <tr>\n",
       "      <th>engine_size</th>\n",
       "      <td>3.600000</td>\n",
       "      <td>3.600000</td>\n",
       "      <td>3.600000</td>\n",
       "      <td>5.600000</td>\n",
       "      <td>2.500000</td>\n",
       "    </tr>\n",
       "    <tr>\n",
       "      <th>gas_price_index</th>\n",
       "      <td>2.597750</td>\n",
       "      <td>2.597750</td>\n",
       "      <td>2.835750</td>\n",
       "      <td>3.975000</td>\n",
       "      <td>3.394800</td>\n",
       "    </tr>\n",
       "    <tr>\n",
       "      <th>hvf_opt_missing</th>\n",
       "      <td>1.000000</td>\n",
       "      <td>1.000000</td>\n",
       "      <td>1.000000</td>\n",
       "      <td>1.000000</td>\n",
       "      <td>1.000000</td>\n",
       "    </tr>\n",
       "    <tr>\n",
       "      <th>hvf_std_missing</th>\n",
       "      <td>0.000000</td>\n",
       "      <td>0.000000</td>\n",
       "      <td>1.000000</td>\n",
       "      <td>0.000000</td>\n",
       "      <td>0.000000</td>\n",
       "    </tr>\n",
       "    <tr>\n",
       "      <th>is_certified</th>\n",
       "      <td>0.000000</td>\n",
       "      <td>0.000000</td>\n",
       "      <td>0.000000</td>\n",
       "      <td>0.000000</td>\n",
       "      <td>0.000000</td>\n",
       "    </tr>\n",
       "    <tr>\n",
       "      <th>make_model_encode</th>\n",
       "      <td>26526.765625</td>\n",
       "      <td>27208.826172</td>\n",
       "      <td>16777.140625</td>\n",
       "      <td>31075.593750</td>\n",
       "      <td>16777.140625</td>\n",
       "    </tr>\n",
       "    <tr>\n",
       "      <th>make_model_trim_encode</th>\n",
       "      <td>18634.359375</td>\n",
       "      <td>22392.660156</td>\n",
       "      <td>20061.226562</td>\n",
       "      <td>31068.636719</td>\n",
       "      <td>20061.226562</td>\n",
       "    </tr>\n",
       "    <tr>\n",
       "      <th>median_home_value</th>\n",
       "      <td>76300.000000</td>\n",
       "      <td>97300.000000</td>\n",
       "      <td>121600.000000</td>\n",
       "      <td>168800.000000</td>\n",
       "      <td>350000.000000</td>\n",
       "    </tr>\n",
       "    <tr>\n",
       "      <th>median_income</th>\n",
       "      <td>30483.000000</td>\n",
       "      <td>40136.000000</td>\n",
       "      <td>45872.000000</td>\n",
       "      <td>75921.000000</td>\n",
       "      <td>99225.000000</td>\n",
       "    </tr>\n",
       "    <tr>\n",
       "      <th>monthly_mileage</th>\n",
       "      <td>706.400000</td>\n",
       "      <td>1206.100000</td>\n",
       "      <td>1635.100000</td>\n",
       "      <td>847.100000</td>\n",
       "      <td>802.000000</td>\n",
       "    </tr>\n",
       "    <tr>\n",
       "      <th>mpg</th>\n",
       "      <td>21.150000</td>\n",
       "      <td>21.150000</td>\n",
       "      <td>25.600000</td>\n",
       "      <td>17.700000</td>\n",
       "      <td>25.150000</td>\n",
       "    </tr>\n",
       "    <tr>\n",
       "      <th>mvr_mileage</th>\n",
       "      <td>21899.000000</td>\n",
       "      <td>95280.000000</td>\n",
       "      <td>44147.000000</td>\n",
       "      <td>43204.000000</td>\n",
       "      <td>33683.000000</td>\n",
       "    </tr>\n",
       "    <tr>\n",
       "      <th>mvr_model_year</th>\n",
       "      <td>2018.000000</td>\n",
       "      <td>2014.000000</td>\n",
       "      <td>2017.000000</td>\n",
       "      <td>2019.000000</td>\n",
       "      <td>2019.000000</td>\n",
       "    </tr>\n",
       "    <tr>\n",
       "      <th>mvr_price_bc</th>\n",
       "      <td>66.830788</td>\n",
       "      <td>54.732655</td>\n",
       "      <td>59.786377</td>\n",
       "      <td>63.389210</td>\n",
       "      <td>61.065544</td>\n",
       "    </tr>\n",
       "    <tr>\n",
       "      <th>new_car_price_index</th>\n",
       "      <td>146.103000</td>\n",
       "      <td>146.103000</td>\n",
       "      <td>145.491000</td>\n",
       "      <td>173.824000</td>\n",
       "      <td>164.935000</td>\n",
       "    </tr>\n",
       "    <tr>\n",
       "      <th>population_density</th>\n",
       "      <td>561.000000</td>\n",
       "      <td>3837.000000</td>\n",
       "      <td>4052.000000</td>\n",
       "      <td>935.000000</td>\n",
       "      <td>3342.000000</td>\n",
       "    </tr>\n",
       "    <tr>\n",
       "      <th>used_car_price_index</th>\n",
       "      <td>137.407000</td>\n",
       "      <td>137.407000</td>\n",
       "      <td>141.095000</td>\n",
       "      <td>212.895000</td>\n",
       "      <td>200.209000</td>\n",
       "    </tr>\n",
       "  </tbody>\n",
       "</table>\n",
       "</div>"
      ],
      "text/plain": [
       "                               5641706       746779         2789002  \\\n",
       "age_months                   31.000000     79.000000      27.000000   \n",
       "consumer_sentiment_index     96.800000     96.800000      96.200000   \n",
       "cylinders                     6.000000      6.000000       6.000000   \n",
       "doors                         5.000000      5.000000       4.000000   \n",
       "engine_size                   3.600000      3.600000       3.600000   \n",
       "gas_price_index               2.597750      2.597750       2.835750   \n",
       "hvf_opt_missing               1.000000      1.000000       1.000000   \n",
       "hvf_std_missing               0.000000      0.000000       1.000000   \n",
       "is_certified                  0.000000      0.000000       0.000000   \n",
       "make_model_encode         26526.765625  27208.826172   16777.140625   \n",
       "make_model_trim_encode    18634.359375  22392.660156   20061.226562   \n",
       "median_home_value         76300.000000  97300.000000  121600.000000   \n",
       "median_income             30483.000000  40136.000000   45872.000000   \n",
       "monthly_mileage             706.400000   1206.100000    1635.100000   \n",
       "mpg                          21.150000     21.150000      25.600000   \n",
       "mvr_mileage               21899.000000  95280.000000   44147.000000   \n",
       "mvr_model_year             2018.000000   2014.000000    2017.000000   \n",
       "mvr_price_bc                 66.830788     54.732655      59.786377   \n",
       "new_car_price_index         146.103000    146.103000     145.491000   \n",
       "population_density          561.000000   3837.000000    4052.000000   \n",
       "used_car_price_index        137.407000    137.407000     141.095000   \n",
       "\n",
       "                                4146870        2645290  \n",
       "age_months                    51.000000      42.000000  \n",
       "consumer_sentiment_index      58.200000      67.400000  \n",
       "cylinders                      8.000000       4.000000  \n",
       "doors                          4.000000       4.000000  \n",
       "engine_size                    5.600000       2.500000  \n",
       "gas_price_index                3.975000       3.394800  \n",
       "hvf_opt_missing                1.000000       1.000000  \n",
       "hvf_std_missing                0.000000       0.000000  \n",
       "is_certified                   0.000000       0.000000  \n",
       "make_model_encode          31075.593750   16777.140625  \n",
       "make_model_trim_encode     31068.636719   20061.226562  \n",
       "median_home_value         168800.000000  350000.000000  \n",
       "median_income              75921.000000   99225.000000  \n",
       "monthly_mileage              847.100000     802.000000  \n",
       "mpg                           17.700000      25.150000  \n",
       "mvr_mileage                43204.000000   33683.000000  \n",
       "mvr_model_year              2019.000000    2019.000000  \n",
       "mvr_price_bc                  63.389210      61.065544  \n",
       "new_car_price_index          173.824000     164.935000  \n",
       "population_density           935.000000    3342.000000  \n",
       "used_car_price_index         212.895000     200.209000  "
      ]
     },
     "execution_count": 7,
     "metadata": {},
     "output_type": "execute_result"
    }
   ],
   "source": [
    "train[num_cols].sample(5).T"
   ]
  },
  {
   "cell_type": "markdown",
   "metadata": {},
   "source": [
    "### CatBoost"
   ]
  },
  {
   "cell_type": "code",
   "execution_count": 58,
   "metadata": {},
   "outputs": [],
   "source": [
    "from catboost import CatBoostRegressor"
   ]
  },
  {
   "cell_type": "code",
   "execution_count": 59,
   "metadata": {},
   "outputs": [
    {
     "data": {
      "text/plain": [
       "Index(['mvr_price', 'make', 'model', 'trim', 'mvr_model_year', 'mvr_mileage',\n",
       "       'age_months', 'vehicle_type', 'body_type', 'body_subtype', 'drivetrain',\n",
       "       'fuel_type', 'engine_block', 'engine_size', 'transmission', 'doors',\n",
       "       'cylinders', 'base_exterior_color', 'base_interior_color',\n",
       "       'is_certified', 'zip', 'mvr_state', 'hvf_standard', 'hvf_optional',\n",
       "       'mvr_purchase_date', 'make_model_encode', 'make_model_trim_encode',\n",
       "       'mvr_purchase_month', 'monthly_mileage', 'mpg', 'population_density',\n",
       "       'median_income', 'median_home_value', 'mvr_purchase_yearmonth',\n",
       "       'used_car_price_index', 'new_car_price_index', 'gas_price_index',\n",
       "       'consumer_sentiment_index', 'hvf_opt_missing', 'hvf_std_missing',\n",
       "       'hvf_opt_comp_0', 'hvf_opt_comp_1', 'hvf_opt_comp_2', 'hvf_opt_comp_3',\n",
       "       'hvf_opt_comp_4', 'hvf_opt_comp_5', 'hvf_opt_comp_6', 'hvf_opt_comp_7',\n",
       "       'hvf_opt_comp_8', 'hvf_all_comp_0', 'hvf_all_comp_1', 'hvf_all_comp_2',\n",
       "       'hvf_all_comp_3', 'hvf_all_comp_4', 'hvf_all_comp_5', 'hvf_all_comp_6',\n",
       "       'hvf_all_comp_7', 'hvf_all_comp_8', 'mvr_price_bc'],\n",
       "      dtype='object')"
      ]
     },
     "execution_count": 59,
     "metadata": {},
     "output_type": "execute_result"
    }
   ],
   "source": [
    "train.columns"
   ]
  },
  {
   "cell_type": "code",
   "execution_count": 61,
   "metadata": {},
   "outputs": [],
   "source": [
    "selected_num_cols = ['age_months',\n",
    "                     'mvr_mileage',\n",
    "                     'mvr_model_year',\n",
    "                     'doors',\n",
    "                     'cylinders',\n",
    "                     'engine_size',\n",
    "                     'mpg',\n",
    "                     'make_model_trim_encode',\n",
    "                     'hvf_opt_comp_0',\n",
    "                     'hvf_opt_comp_1',\n",
    "                     'hvf_opt_comp_2',\n",
    "                     'hvf_opt_comp_3',\n",
    "                     'hvf_opt_comp_4',\n",
    "                     'hvf_opt_comp_5',\n",
    "                     'hvf_opt_comp_6',\n",
    "                     'hvf_opt_comp_7',\n",
    "                     'hvf_opt_comp_8',\n",
    "                     'hvf_std_missing',\n",
    "                     'hvf_opt_missing',\n",
    "                    # 'gas_price_index',\n",
    "                    # 'new_car_price_index',\n",
    "                     'used_car_price_index',\n",
    "                     'consumer_sentiment_index',\n",
    "                     'median_income',\n",
    "                     'is_certified'\n",
    "                    ]\n",
    "\n",
    "selected_cat_cols = ['base_exterior_color',\n",
    "                     'base_interior_color',\n",
    "                     'body_type',\n",
    "                     'drivetrain',\n",
    "                     'engine_block',\n",
    "                     'fuel_type',\n",
    "                     'mvr_purchase_month',\n",
    "                     'mvr_state',\n",
    "                     'transmission',\n",
    "                     'vehicle_type'\n",
    "                    ]"
   ]
  },
  {
   "cell_type": "code",
   "execution_count": 32,
   "metadata": {},
   "outputs": [
    {
     "data": {
      "text/plain": [
       "<catboost.core.CatBoostRegressor at 0x2b9360642c10>"
      ]
     },
     "execution_count": 32,
     "metadata": {},
     "output_type": "execute_result"
    }
   ],
   "source": [
    "# init model\n",
    "cb_model = CatBoostRegressor(cat_features=selected_cat_cols\n",
    "                             ,verbose=False\n",
    "                             ,task_type=\"GPU\"\n",
    "                             ,devices=\"0:3\"\n",
    "                            ,per_float_feature_quantization=gf_index+':border_count=1024'\n",
    "                            )\n",
    "\n",
    "# fit\n",
    "cb_model.fit(train[selected_num_cols + selected_cat_cols]\n",
    "             ,train[target]\n",
    "             ,eval_set=(validate[selected_num_cols + selected_cat_cols], validate[target])\n",
    "            )"
   ]
  },
  {
   "cell_type": "code",
   "execution_count": 33,
   "metadata": {},
   "outputs": [],
   "source": [
    "# predict\n",
    "cb_preds = cb_model.predict(validate[selected_num_cols + selected_cat_cols])"
   ]
  },
  {
   "cell_type": "code",
   "execution_count": 34,
   "metadata": {},
   "outputs": [
    {
     "name": "stdout",
     "output_type": "stream",
     "text": [
      "R2:  0.878\n",
      "MAE:  3121.41\n",
      "MAPE:  17.8 %\n",
      "RMSE:  4514.6\n",
      "Percent Underpayed:  58.2 %\n",
      "Mean of Underpayment:  3611.44\n",
      "Percent Overpayed:  41.8 %\n",
      "Mean of Overpayment:  -2438.54\n",
      "Mean Error:  1083.83\n"
     ]
    }
   ],
   "source": [
    "# results\n",
    "assess_results(validate[target], cb_preds)"
   ]
  },
  {
   "cell_type": "code",
   "execution_count": null,
   "metadata": {},
   "outputs": [],
   "source": [
    "# print top ten features by importance with importance measure\n",
    "importance = cb_model.get_feature_importance(prettified=True)\n",
    "importance.head(15)"
   ]
  },
  {
   "cell_type": "markdown",
   "metadata": {},
   "source": [
    "### CatBoost Hyperparameter Tuning\n",
    "https://catboost.ai/en/docs/concepts/parameter-tuning\n",
    "\n",
    "https://catboost.ai/en/docs/references/training-parameters/common"
   ]
  },
  {
   "cell_type": "code",
   "execution_count": 43,
   "metadata": {},
   "outputs": [],
   "source": [
    "# golden feature\n",
    "# selected as a highly predictive feature for more splitting\n",
    "gf_index = (selected_num_cols + selected_cat_cols).index('make_model_trim_encode')\n",
    "gf_index = str(gf_index)"
   ]
  },
  {
   "cell_type": "code",
   "execution_count": 65,
   "metadata": {},
   "outputs": [
    {
     "data": {
      "text/plain": [
       "{'bagging_temperature': 1,\n",
       " 'depth': 10,\n",
       " 'iterations': 2000,\n",
       " 'learning_rate': 0.4}"
      ]
     },
     "execution_count": 65,
     "metadata": {},
     "output_type": "execute_result"
    }
   ],
   "source": [
    "hpt_params = grid_search_result['params']\n",
    "hpt_params"
   ]
  },
  {
   "cell_type": "code",
   "execution_count": 66,
   "metadata": {},
   "outputs": [
    {
     "data": {
      "text/plain": [
       "<catboost.core.CatBoostRegressor at 0x2b93623de0a0>"
      ]
     },
     "execution_count": 66,
     "metadata": {},
     "output_type": "execute_result"
    }
   ],
   "source": [
    "# train the model with the best hyperparameters on the full training set\n",
    "hpt_model = CatBoostRegressor(cat_features=selected_cat_cols\n",
    "                             ,task_type=\"GPU\"\n",
    "                             ,devices=\"0:3\"\n",
    "                             ,border_count=254\n",
    "                             ,per_float_feature_quantization=gf_index+':border_count=1024'\n",
    "                             ,verbose=False\n",
    "                              ,bagging_temperature=hpt_params[\"bagging_temperature\"]\n",
    "                              ,depth=hpt_params[\"depth\"]\n",
    "                              ,iterations=10000\n",
    "                              ,learning_rate=hpt_params[\"learning_rate\"]\n",
    "                              ,verbose=True\n",
    "                            )\n",
    "\n",
    "# fit\n",
    "hpt_model.fit(train[selected_num_cols + selected_cat_cols]\n",
    "             ,train[target]\n",
    "             ,eval_set=(validate[selected_num_cols + selected_cat_cols], validate[target])\n",
    "              ,early_stopping_rounds=100 \n",
    "            )"
   ]
  },
  {
   "cell_type": "code",
   "execution_count": 136,
   "metadata": {},
   "outputs": [
    {
     "name": "stdout",
     "output_type": "stream",
     "text": [
      "R2:  0.894\n",
      "MAE:  2837.78\n",
      "MAPE:  16.8 %\n",
      "RMSE:  4194.96\n",
      "Percent Underpayed:  55.6 %\n",
      "Mean of Underpayment:  3263.89\n",
      "Percent Overpayed:  44.4 %\n",
      "Mean of Overpayment:  -2304.39\n",
      "Mean Error:  791.06\n"
     ]
    }
   ],
   "source": [
    "# predict\n",
    "hpt_preds = hpt_model.predict(validate[selected_num_cols + selected_cat_cols])\n",
    "\n",
    "# results\n",
    "assess_results(validate[target], hpt_preds)"
   ]
  },
  {
   "cell_type": "code",
   "execution_count": null,
   "metadata": {},
   "outputs": [],
   "source": [
    "print('Feature importances:', hpt_model.feature_importances_)"
   ]
  },
  {
   "cell_type": "markdown",
   "metadata": {},
   "source": [
    "## Tilted Loss\n",
    "Allows targetting of quantiles\n",
    "\n",
    "https://brendanhasz.github.io/2018/12/15/quantile-regression.html#quantile-regression"
   ]
  },
  {
   "cell_type": "code",
   "execution_count": 75,
   "metadata": {},
   "outputs": [
    {
     "data": {
      "text/plain": [
       "<catboost.core.CatBoostRegressor at 0x2b9360e9bfd0>"
      ]
     },
     "execution_count": 75,
     "metadata": {},
     "output_type": "execute_result"
    }
   ],
   "source": [
    "# fit\n",
    "cb_model_50 = CatBoostRegressor(cat_features=selected_cat_cols,verbose=False\n",
    "                            ,loss_function='Quantile:alpha=0.5')\n",
    "cb_model_50.fit(train[selected_num_cols + selected_cat_cols],train[target])"
   ]
  },
  {
   "cell_type": "markdown",
   "metadata": {},
   "source": [
    "## Model Checkpoint"
   ]
  },
  {
   "cell_type": "code",
   "execution_count": null,
   "metadata": {},
   "outputs": [],
   "source": [
    "working_dir = \"/data/p_dsi/capstone_projects/shea/working/\"\n",
    "with open(working_dir + 'hi_iter_model.pickle', 'wb') as file:\n",
    "    pickle.dump(hpt_model, file)"
   ]
  },
  {
   "cell_type": "code",
   "execution_count": null,
   "metadata": {},
   "outputs": [],
   "source": [
    "working_dir = \"/data/p_dsi/capstone_projects/shea/working/\"\n",
    "with open(working_dir + 'hi_iter_model_50.pickle', 'wb') as file:\n",
    "    pickle.dump(cb_model_50, file)"
   ]
  },
  {
   "cell_type": "code",
   "execution_count": 9,
   "metadata": {},
   "outputs": [],
   "source": [
    "working_dir = \"/data/p_dsi/capstone_projects/shea/working/\"\n",
    "with open(working_dir + 'model.pickle', 'rb') as f:\n",
    "    model = pickle.load(f)"
   ]
  },
  {
   "cell_type": "markdown",
   "metadata": {},
   "source": [
    "## Final Test Results"
   ]
  },
  {
   "cell_type": "code",
   "execution_count": 185,
   "metadata": {},
   "outputs": [
    {
     "name": "stdout",
     "output_type": "stream",
     "text": [
      "R2:  0.881\n",
      "MAE:  3074.26\n",
      "MAPE:  18.4 %\n",
      "RMSE:  4450.25\n",
      "Percent Underpayed:  59.3 %\n",
      "Mean of Underpayment:  3543.41\n",
      "Percent Overpayed:  40.7 %\n",
      "Mean of Overpayment:  -2391.63\n",
      "Mean Error:  1125.92\n"
     ]
    }
   ],
   "source": [
    "# predict\n",
    "hpt_preds_test = hpt_model.predict(test[selected_num_cols + selected_cat_cols])\n",
    "\n",
    "# results\n",
    "assess_results(test[target], hpt_preds_test)"
   ]
  },
  {
   "cell_type": "code",
   "execution_count": null,
   "metadata": {},
   "outputs": [],
   "source": [
    "test"
   ]
  }
 ],
 "metadata": {
  "colab": {
   "collapsed_sections": [
    "n7UQ4jzFIDtZ",
    "pf8KzdwtIDtc"
   ],
   "machine_shape": "hm",
   "provenance": []
  },
  "gpuClass": "standard",
  "kernelspec": {
   "display_name": "Python 3 (ipykernel)",
   "language": "python",
   "name": "python3"
  },
  "language_info": {
   "codemirror_mode": {
    "name": "ipython",
    "version": 3
   },
   "file_extension": ".py",
   "mimetype": "text/x-python",
   "name": "python",
   "nbconvert_exporter": "python",
   "pygments_lexer": "ipython3",
   "version": "3.9.12"
  }
 },
 "nbformat": 4,
 "nbformat_minor": 1
}
