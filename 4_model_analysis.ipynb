{
 "cells": [
  {
   "cell_type": "markdown",
   "metadata": {
    "id": "VpW_mbAyIDtT"
   },
   "source": [
    "# Used Car Pricing Algorithm"
   ]
  },
  {
   "cell_type": "markdown",
   "metadata": {},
   "source": [
    "## Reload Stuff"
   ]
  },
  {
   "cell_type": "code",
   "execution_count": 8,
   "metadata": {},
   "outputs": [],
   "source": [
    "import pickle\n",
    "import pandas"
   ]
  },
  {
   "cell_type": "code",
   "execution_count": 6,
   "metadata": {},
   "outputs": [],
   "source": [
    "working_dir = \"/data/p_dsi/capstone_projects/shea/working/\"\n",
    "train = pd.read_pickle(working_dir + \"train.pkl\")\n",
    "validate = pd.read_pickle(working_dir + \"validate.pkl\")\n",
    "test = pd.read_pickle(working_dir + \"test.pkl\")"
   ]
  },
  {
   "cell_type": "code",
   "execution_count": 9,
   "metadata": {},
   "outputs": [],
   "source": [
    "working_dir = \"/data/p_dsi/capstone_projects/shea/working/\"\n",
    "with open(working_dir + 'hpt_model.pickle', 'rb') as f:\n",
    "    hpt_model = pickle.load(f)"
   ]
  },
  {
   "cell_type": "code",
   "execution_count": 10,
   "metadata": {},
   "outputs": [],
   "source": [
    "working_dir = \"/data/p_dsi/capstone_projects/shea/working/\"\n",
    "with open(working_dir + 'cb_model_30.pickle', 'rb') as f:\n",
    "    cb_model_30 = pickle.load(f)\n",
    "    \n",
    "working_dir = \"/data/p_dsi/capstone_projects/shea/working/\"\n",
    "with open(working_dir + 'cb_model_40.pickle', 'rb') as f:\n",
    "    cb_model_40 = pickle.load(f)\n",
    "    \n",
    "working_dir = \"/data/p_dsi/capstone_projects/shea/working/\"\n",
    "with open(working_dir + 'cb_model_50.pickle', 'rb') as f:\n",
    "    cb_model_50 = pickle.load(f)\n",
    "    \n",
    "working_dir = \"/data/p_dsi/capstone_projects/shea/working/\"\n",
    "with open(working_dir + 'cb_model_60.pickle', 'rb') as f:\n",
    "    cb_model_60 = pickle.load(f)\n",
    "    \n",
    "working_dir = \"/data/p_dsi/capstone_projects/shea/working/\"\n",
    "with open(working_dir + 'cb_model_70.pickle', 'rb') as f:\n",
    "    cb_model_70 = pickle.load(f)"
   ]
  },
  {
   "cell_type": "markdown",
   "metadata": {},
   "source": [
    "## Presentation Stuff"
   ]
  },
  {
   "cell_type": "code",
   "execution_count": 11,
   "metadata": {},
   "outputs": [],
   "source": [
    "from sklearn.metrics import mean_absolute_error\n",
    "from sklearn.metrics import mean_squared_error\n",
    "from sklearn.metrics import r2_score\n",
    "\n",
    "def assess_results(y_test, y_pred):\n",
    "    print(\"R2: \", round(r2_score(y_test, y_pred),3))\n",
    "    print(\"MAE: \", round(mean_absolute_error(y_test, y_pred),2))\n",
    "    print(\"MAPE: \", round(np.mean(np.abs((y_test - y_pred) / y_test)) * 100,1),\"%\")\n",
    "    print(\"RMSE: \", round(np.sqrt(mean_squared_error(y_test, y_pred)),2))\n",
    "    print(\"Percent Underpayed: \", round(len((y_test - y_pred)[(y_test - y_pred) >= 0]) / len(y_test) * 100,1),\"%\")\n",
    "    print(\"Mean of Underpayment: \", round(np.mean((y_test - y_pred)[(y_test - y_pred) > 0]),2))\n",
    "    print(\"Percent Overpayed: \", round(len((y_test - y_pred)[(y_test - y_pred) < 0]) / len(y_test) * 100,1),\"%\")\n",
    "    print(\"Mean of Overpayment: \", round(np.mean((y_test - y_pred)[(y_test - y_pred) < 0]),2))\n",
    "    print(\"Mean Error: \", round(np.mean(y_test - y_pred),2)) \n",
    "    "
   ]
  },
  {
   "cell_type": "code",
   "execution_count": 15,
   "metadata": {},
   "outputs": [],
   "source": [
    "selected_num_cols = ['age_months',\n",
    "                     'mvr_mileage',\n",
    "                     'mvr_model_year',\n",
    "                     'doors',\n",
    "                     'cylinders',\n",
    "                     'engine_size',\n",
    "                     'mpg',\n",
    "                     'make_model_trim_encode',\n",
    "                     'hvf_opt_comp_0',\n",
    "                     'hvf_opt_comp_1',\n",
    "                     'hvf_opt_comp_2',\n",
    "                     'hvf_opt_comp_3',\n",
    "                     'hvf_opt_comp_4',\n",
    "                     'hvf_opt_comp_5',\n",
    "                     'hvf_opt_comp_6',\n",
    "                     'hvf_opt_comp_7',\n",
    "                     'hvf_opt_comp_8',\n",
    "                     'hvf_std_missing',\n",
    "                     'hvf_opt_missing',\n",
    "                    # 'gas_price_index',\n",
    "                    # 'new_car_price_index',\n",
    "                     'used_car_price_index',\n",
    "                     'consumer_sentiment_index',\n",
    "                     'median_income',\n",
    "                     'is_certified'\n",
    "                    ]\n",
    "\n",
    "selected_cat_cols = ['base_exterior_color',\n",
    "                     'base_interior_color',\n",
    "                     'body_type',\n",
    "                     'drivetrain',\n",
    "                     'engine_block',\n",
    "                     'fuel_type',\n",
    "                     'mvr_purchase_month',\n",
    "                     'mvr_state',\n",
    "                     'transmission',\n",
    "                     'vehicle_type'\n",
    "                    ]\n",
    "\n",
    "target = 'mvr_price'"
   ]
  },
  {
   "cell_type": "markdown",
   "metadata": {},
   "source": [
    "### Model Stats"
   ]
  },
  {
   "cell_type": "code",
   "execution_count": 16,
   "metadata": {},
   "outputs": [
    {
     "name": "stdout",
     "output_type": "stream",
     "text": [
      "R2:  0.88\n",
      "MAE:  3074.05\n",
      "MAPE:  17.6 %\n",
      "RMSE:  4462.04\n",
      "Percent Underpayed:  59.2 %\n",
      "Mean of Underpayment:  3547.36\n",
      "Percent Overpayed:  40.8 %\n",
      "Mean of Overpayment:  -2386.01\n",
      "Mean Error:  1129.19\n"
     ]
    }
   ],
   "source": [
    "# predict\n",
    "hpt_preds = hpt_model.predict(validate[selected_num_cols + selected_cat_cols])\n",
    "\n",
    "# results\n",
    "assess_results(validate[target], hpt_preds)"
   ]
  },
  {
   "cell_type": "markdown",
   "metadata": {},
   "source": [
    "### Actual vs Predicted"
   ]
  },
  {
   "cell_type": "code",
   "execution_count": 19,
   "metadata": {},
   "outputs": [],
   "source": [
    "import matplotlib.pyplot as plt\n",
    "import numpy as np"
   ]
  },
  {
   "cell_type": "code",
   "execution_count": 168,
   "metadata": {},
   "outputs": [],
   "source": [
    "import random\n",
    "range_end = len(hpt_preds)\n",
    "sample_size = int(range_end * 0.001) # Calculate the size of the sample\n",
    "sample = random.sample(range(range_end), sample_size) # Generate the sample"
   ]
  },
  {
   "cell_type": "code",
   "execution_count": 181,
   "metadata": {},
   "outputs": [
    {
     "data": {
      "image/png": "[encoded data removed]",
      "text/plain": [
       "<Figure size 800x800 with 1 Axes>"
      ]
     },
     "metadata": {
      "needs_background": "light"
     },
     "output_type": "display_data"
    }
   ],
   "source": [
    "%matplotlib inline\n",
    "\n",
    "# predicted vs actuals\n",
    "x = validate[target].reset_index(drop=True)[sample]\n",
    "y = hpt_preds[sample]\n",
    "\n",
    "# Create figure and axis\n",
    "fig, ax = plt.subplots(figsize=(8, 8), dpi=100)\n",
    "\n",
    "# Set axis limits and aspect ratio\n",
    "ax.set_xlim(0, 100000)\n",
    "ax.set_ylim(0, 100000)\n",
    "ax.set_aspect('equal')\n",
    "\n",
    "# Plot points in black\n",
    "ax.scatter(x, y, color='black', alpha=0.25)\n",
    "\n",
    "# Plot 45 degree line in red\n",
    "ax.plot([0, 100000], [0, 100000], color='red')\n",
    "\n",
    "# Set axis labels\n",
    "ax.set_xlabel('Actuals', fontsize=30)\n",
    "ax.set_ylabel('Predicted', fontsize=30)\n",
    "\n",
    "# Format x-axis and y-axis as dollars\n",
    "import matplotlib.ticker as mtick\n",
    "fmt_dollars = mtick.StrMethodFormatter('${x:,.0f}')\n",
    "ax.xaxis.set_major_formatter(fmt_dollars)\n",
    "ax.yaxis.set_major_formatter(fmt_dollars)\n",
    "\n",
    "# Show ticks and labels only at $0, $50000, and $100000\n",
    "ax.set_xticks([0, 50000, 100000])\n",
    "ax.set_yticks([0, 50000, 100000])\n",
    "ax.set_xticklabels(['$0', '$50K', '$100K'], fontsize=14)\n",
    "ax.set_yticklabels(['', '$50K', '$100K'], fontsize=14)\n",
    "\n",
    "# Show plot\n",
    "plt.show()\n"
   ]
  },
  {
   "cell_type": "markdown",
   "metadata": {},
   "source": [
    "### Demonstrate Range"
   ]
  },
  {
   "cell_type": "code",
   "execution_count": 84,
   "metadata": {},
   "outputs": [],
   "source": [
    "# predict\n",
    "cb_30_preds = cb_model_30.predict(validate[selected_num_cols + selected_cat_cols])\n",
    "cb_40_preds = cb_model_40.predict(validate[selected_num_cols + selected_cat_cols])\n",
    "cb_50_preds = cb_model_50.predict(validate[selected_num_cols + selected_cat_cols])\n",
    "cb_60_preds = cb_model_60.predict(validate[selected_num_cols + selected_cat_cols])\n",
    "cb_70_preds = cb_model_70.predict(validate[selected_num_cols + selected_cat_cols])"
   ]
  },
  {
   "cell_type": "code",
   "execution_count": 138,
   "metadata": {},
   "outputs": [
    {
     "data": {
      "text/plain": [
       "6"
      ]
     },
     "execution_count": 138,
     "metadata": {},
     "output_type": "execute_result"
    }
   ],
   "source": [
    "price_point = 15000\n",
    "price_inc = 0.2\n",
    "vehicles = ((cb_50_preds > price_point) & (cb_50_preds < price_point + price_inc))\n",
    "sum(vehicles)"
   ]
  },
  {
   "cell_type": "code",
   "execution_count": 139,
   "metadata": {},
   "outputs": [
    {
     "data": {
      "text/plain": [
       "array([2151.92580548, 2438.04478349, 1515.28044978, 2070.81799289,\n",
       "       2109.25190992, 2835.33259933])"
      ]
     },
     "execution_count": 139,
     "metadata": {},
     "output_type": "execute_result"
    }
   ],
   "source": [
    "diffs = cb_70_preds[vehicles] - cb_30_preds[vehicles]\n",
    "diffs"
   ]
  },
  {
   "cell_type": "code",
   "execution_count": 140,
   "metadata": {},
   "outputs": [
    {
     "data": {
      "text/plain": [
       "1320.052149545154"
      ]
     },
     "execution_count": 140,
     "metadata": {},
     "output_type": "execute_result"
    }
   ],
   "source": [
    "max_diff_diff = max(diffs) - min(diffs)\n",
    "max_diff_diff"
   ]
  },
  {
   "cell_type": "code",
   "execution_count": 148,
   "metadata": {},
   "outputs": [
    {
     "data": {
      "text/html": [
       "<div>\n",
       "<style scoped>\n",
       "    .dataframe tbody tr th:only-of-type {\n",
       "        vertical-align: middle;\n",
       "    }\n",
       "\n",
       "    .dataframe tbody tr th {\n",
       "        vertical-align: top;\n",
       "    }\n",
       "\n",
       "    .dataframe thead th {\n",
       "        text-align: right;\n",
       "    }\n",
       "</style>\n",
       "<table border=\"1\" class=\"dataframe\">\n",
       "  <thead>\n",
       "    <tr style=\"text-align: right;\">\n",
       "      <th></th>\n",
       "      <th>mvr_price</th>\n",
       "      <th>make</th>\n",
       "      <th>model</th>\n",
       "      <th>trim</th>\n",
       "      <th>mvr_model_year</th>\n",
       "      <th>mvr_mileage</th>\n",
       "      <th>age_months</th>\n",
       "      <th>vehicle_type</th>\n",
       "      <th>body_type</th>\n",
       "      <th>body_subtype</th>\n",
       "      <th>drivetrain</th>\n",
       "      <th>fuel_type</th>\n",
       "      <th>engine_block</th>\n",
       "      <th>engine_size</th>\n",
       "      <th>transmission</th>\n",
       "      <th>doors</th>\n",
       "      <th>cylinders</th>\n",
       "      <th>base_exterior_color</th>\n",
       "      <th>base_interior_color</th>\n",
       "      <th>is_certified</th>\n",
       "      <th>zip</th>\n",
       "      <th>mvr_state</th>\n",
       "      <th>hvf_standard</th>\n",
       "      <th>hvf_optional</th>\n",
       "      <th>mvr_purchase_date</th>\n",
       "      <th>make_model_encode</th>\n",
       "      <th>make_model_trim_encode</th>\n",
       "      <th>mvr_purchase_month</th>\n",
       "      <th>monthly_mileage</th>\n",
       "      <th>mpg</th>\n",
       "      <th>population_density</th>\n",
       "      <th>median_income</th>\n",
       "      <th>median_home_value</th>\n",
       "      <th>mvr_purchase_yearmonth</th>\n",
       "      <th>used_car_price_index</th>\n",
       "      <th>new_car_price_index</th>\n",
       "      <th>gas_price_index</th>\n",
       "      <th>consumer_sentiment_index</th>\n",
       "      <th>hvf_opt_missing</th>\n",
       "      <th>hvf_std_missing</th>\n",
       "      <th>hvf_opt_comp_0</th>\n",
       "      <th>hvf_opt_comp_1</th>\n",
       "      <th>hvf_opt_comp_2</th>\n",
       "      <th>hvf_opt_comp_3</th>\n",
       "      <th>hvf_opt_comp_4</th>\n",
       "      <th>hvf_opt_comp_5</th>\n",
       "      <th>hvf_opt_comp_6</th>\n",
       "      <th>hvf_opt_comp_7</th>\n",
       "      <th>hvf_opt_comp_8</th>\n",
       "      <th>hvf_all_comp_0</th>\n",
       "      <th>hvf_all_comp_1</th>\n",
       "      <th>hvf_all_comp_2</th>\n",
       "      <th>hvf_all_comp_3</th>\n",
       "      <th>hvf_all_comp_4</th>\n",
       "      <th>hvf_all_comp_5</th>\n",
       "      <th>hvf_all_comp_6</th>\n",
       "      <th>hvf_all_comp_7</th>\n",
       "      <th>hvf_all_comp_8</th>\n",
       "      <th>mvr_price_bc</th>\n",
       "    </tr>\n",
       "  </thead>\n",
       "  <tbody>\n",
       "    <tr>\n",
       "      <th>571562</th>\n",
       "      <td>16695.00</td>\n",
       "      <td>Ford</td>\n",
       "      <td>Fiesta</td>\n",
       "      <td>SE</td>\n",
       "      <td>2018</td>\n",
       "      <td>3691.00</td>\n",
       "      <td>20</td>\n",
       "      <td>Car</td>\n",
       "      <td>Sedan</td>\n",
       "      <td>None</td>\n",
       "      <td>FWD</td>\n",
       "      <td>Unleaded</td>\n",
       "      <td>I</td>\n",
       "      <td>2.00</td>\n",
       "      <td>Automatic</td>\n",
       "      <td>4.00</td>\n",
       "      <td>4.00</td>\n",
       "      <td>Black</td>\n",
       "      <td>Black</td>\n",
       "      <td>0.00</td>\n",
       "      <td>78599</td>\n",
       "      <td>TX</td>\n",
       "      <td>[Keyless Entry/Locking, Brake Assist, Parking ...</td>\n",
       "      <td>None</td>\n",
       "      <td>2019-02-05</td>\n",
       "      <td>11300.62</td>\n",
       "      <td>11141.45</td>\n",
       "      <td>2</td>\n",
       "      <td>184.60</td>\n",
       "      <td>29.95</td>\n",
       "      <td>2011.00</td>\n",
       "      <td>49598.00</td>\n",
       "      <td>133800.00</td>\n",
       "      <td>2019-02</td>\n",
       "      <td>138.80</td>\n",
       "      <td>147.85</td>\n",
       "      <td>2.25</td>\n",
       "      <td>91.20</td>\n",
       "      <td>1</td>\n",
       "      <td>0</td>\n",
       "      <td>0.00</td>\n",
       "      <td>0.00</td>\n",
       "      <td>0.00</td>\n",
       "      <td>0.00</td>\n",
       "      <td>0.00</td>\n",
       "      <td>0.00</td>\n",
       "      <td>0.00</td>\n",
       "      <td>0.00</td>\n",
       "      <td>0.00</td>\n",
       "      <td>-1.80</td>\n",
       "      <td>-0.28</td>\n",
       "      <td>-0.60</td>\n",
       "      <td>-0.05</td>\n",
       "      <td>0.03</td>\n",
       "      <td>-0.51</td>\n",
       "      <td>0.48</td>\n",
       "      <td>0.48</td>\n",
       "      <td>-0.53</td>\n",
       "      <td>55.46</td>\n",
       "    </tr>\n",
       "    <tr>\n",
       "      <th>5572123</th>\n",
       "      <td>15840.00</td>\n",
       "      <td>GENERAL MOTORS</td>\n",
       "      <td>Terrain</td>\n",
       "      <td>Denali</td>\n",
       "      <td>2013</td>\n",
       "      <td>80971.00</td>\n",
       "      <td>89</td>\n",
       "      <td>Truck</td>\n",
       "      <td>SUV</td>\n",
       "      <td>None</td>\n",
       "      <td>FWD</td>\n",
       "      <td>Unleaded</td>\n",
       "      <td>I</td>\n",
       "      <td>2.50</td>\n",
       "      <td>Automatic</td>\n",
       "      <td>5.00</td>\n",
       "      <td>4.00</td>\n",
       "      <td>Black</td>\n",
       "      <td>Black</td>\n",
       "      <td>0.00</td>\n",
       "      <td>44057</td>\n",
       "      <td>OH</td>\n",
       "      <td>None</td>\n",
       "      <td>None</td>\n",
       "      <td>2019-11-11</td>\n",
       "      <td>20364.97</td>\n",
       "      <td>26150.28</td>\n",
       "      <td>11</td>\n",
       "      <td>909.80</td>\n",
       "      <td>23.60</td>\n",
       "      <td>399.00</td>\n",
       "      <td>50648.00</td>\n",
       "      <td>132000.00</td>\n",
       "      <td>2019-11</td>\n",
       "      <td>138.41</td>\n",
       "      <td>145.58</td>\n",
       "      <td>2.63</td>\n",
       "      <td>95.50</td>\n",
       "      <td>1</td>\n",
       "      <td>1</td>\n",
       "      <td>0.00</td>\n",
       "      <td>0.00</td>\n",
       "      <td>0.00</td>\n",
       "      <td>0.00</td>\n",
       "      <td>0.00</td>\n",
       "      <td>0.00</td>\n",
       "      <td>0.00</td>\n",
       "      <td>0.00</td>\n",
       "      <td>0.00</td>\n",
       "      <td>0.00</td>\n",
       "      <td>0.00</td>\n",
       "      <td>0.00</td>\n",
       "      <td>0.00</td>\n",
       "      <td>0.00</td>\n",
       "      <td>0.00</td>\n",
       "      <td>0.00</td>\n",
       "      <td>0.00</td>\n",
       "      <td>0.00</td>\n",
       "      <td>54.56</td>\n",
       "    </tr>\n",
       "    <tr>\n",
       "      <th>3303914</th>\n",
       "      <td>14595.00</td>\n",
       "      <td>Toyota</td>\n",
       "      <td>Corolla</td>\n",
       "      <td>LE</td>\n",
       "      <td>2017</td>\n",
       "      <td>27985.00</td>\n",
       "      <td>29</td>\n",
       "      <td>Car</td>\n",
       "      <td>Sedan</td>\n",
       "      <td>None</td>\n",
       "      <td>FWD</td>\n",
       "      <td>Unleaded</td>\n",
       "      <td>I</td>\n",
       "      <td>2.00</td>\n",
       "      <td>CVT</td>\n",
       "      <td>4.00</td>\n",
       "      <td>4.00</td>\n",
       "      <td>Silver</td>\n",
       "      <td>Gray</td>\n",
       "      <td>0.00</td>\n",
       "      <td>78758</td>\n",
       "      <td>TX</td>\n",
       "      <td>None</td>\n",
       "      <td>None</td>\n",
       "      <td>2018-10-25</td>\n",
       "      <td>16142.45</td>\n",
       "      <td>16203.82</td>\n",
       "      <td>10</td>\n",
       "      <td>965.00</td>\n",
       "      <td>29.95</td>\n",
       "      <td>4747.00</td>\n",
       "      <td>43537.00</td>\n",
       "      <td>146100.00</td>\n",
       "      <td>2018-10</td>\n",
       "      <td>135.13</td>\n",
       "      <td>145.43</td>\n",
       "      <td>2.84</td>\n",
       "      <td>100.10</td>\n",
       "      <td>1</td>\n",
       "      <td>1</td>\n",
       "      <td>0.00</td>\n",
       "      <td>0.00</td>\n",
       "      <td>0.00</td>\n",
       "      <td>0.00</td>\n",
       "      <td>0.00</td>\n",
       "      <td>0.00</td>\n",
       "      <td>0.00</td>\n",
       "      <td>0.00</td>\n",
       "      <td>0.00</td>\n",
       "      <td>0.00</td>\n",
       "      <td>0.00</td>\n",
       "      <td>0.00</td>\n",
       "      <td>0.00</td>\n",
       "      <td>0.00</td>\n",
       "      <td>0.00</td>\n",
       "      <td>0.00</td>\n",
       "      <td>0.00</td>\n",
       "      <td>0.00</td>\n",
       "      <td>53.19</td>\n",
       "    </tr>\n",
       "    <tr>\n",
       "      <th>5286198</th>\n",
       "      <td>15750.00</td>\n",
       "      <td>Chevrolet</td>\n",
       "      <td>Malibu Limited</td>\n",
       "      <td>1LT</td>\n",
       "      <td>2016</td>\n",
       "      <td>31048.00</td>\n",
       "      <td>45</td>\n",
       "      <td>Car</td>\n",
       "      <td>Sedan</td>\n",
       "      <td>None</td>\n",
       "      <td>FWD</td>\n",
       "      <td>Unleaded</td>\n",
       "      <td>I</td>\n",
       "      <td>2.00</td>\n",
       "      <td>Automatic</td>\n",
       "      <td>4.00</td>\n",
       "      <td>4.00</td>\n",
       "      <td>White</td>\n",
       "      <td>Black</td>\n",
       "      <td>1.00</td>\n",
       "      <td>45324</td>\n",
       "      <td>OH</td>\n",
       "      <td>[Keyless Entry/Locking, Brake Assist, Automati...</td>\n",
       "      <td>None</td>\n",
       "      <td>2019-02-20</td>\n",
       "      <td>14889.80</td>\n",
       "      <td>14889.80</td>\n",
       "      <td>2</td>\n",
       "      <td>690.00</td>\n",
       "      <td>29.95</td>\n",
       "      <td>1265.00</td>\n",
       "      <td>43020.00</td>\n",
       "      <td>115400.00</td>\n",
       "      <td>2019-02</td>\n",
       "      <td>138.80</td>\n",
       "      <td>147.85</td>\n",
       "      <td>2.25</td>\n",
       "      <td>91.20</td>\n",
       "      <td>1</td>\n",
       "      <td>0</td>\n",
       "      <td>0.00</td>\n",
       "      <td>0.00</td>\n",
       "      <td>0.00</td>\n",
       "      <td>0.00</td>\n",
       "      <td>0.00</td>\n",
       "      <td>0.00</td>\n",
       "      <td>0.00</td>\n",
       "      <td>0.00</td>\n",
       "      <td>0.00</td>\n",
       "      <td>-1.01</td>\n",
       "      <td>-0.13</td>\n",
       "      <td>0.87</td>\n",
       "      <td>0.29</td>\n",
       "      <td>0.27</td>\n",
       "      <td>-1.13</td>\n",
       "      <td>-0.58</td>\n",
       "      <td>-0.74</td>\n",
       "      <td>0.19</td>\n",
       "      <td>54.47</td>\n",
       "    </tr>\n",
       "    <tr>\n",
       "      <th>589956</th>\n",
       "      <td>20995.00</td>\n",
       "      <td>Jeep</td>\n",
       "      <td>Compass</td>\n",
       "      <td>Sport</td>\n",
       "      <td>2018</td>\n",
       "      <td>43236.00</td>\n",
       "      <td>29</td>\n",
       "      <td>Truck</td>\n",
       "      <td>SUV</td>\n",
       "      <td>None</td>\n",
       "      <td>FWD</td>\n",
       "      <td>Unleaded</td>\n",
       "      <td>I</td>\n",
       "      <td>2.50</td>\n",
       "      <td>Automatic</td>\n",
       "      <td>5.00</td>\n",
       "      <td>4.00</td>\n",
       "      <td>Black</td>\n",
       "      <td>Gray</td>\n",
       "      <td>0.00</td>\n",
       "      <td>78612</td>\n",
       "      <td>TX</td>\n",
       "      <td>[Keyless Entry/Locking, Brake Assist, Parking ...</td>\n",
       "      <td>[Automatic Transmission, Satellite Radio]</td>\n",
       "      <td>2019-11-06</td>\n",
       "      <td>19778.04</td>\n",
       "      <td>14699.39</td>\n",
       "      <td>11</td>\n",
       "      <td>1490.90</td>\n",
       "      <td>23.60</td>\n",
       "      <td>122.00</td>\n",
       "      <td>63144.00</td>\n",
       "      <td>132700.00</td>\n",
       "      <td>2019-11</td>\n",
       "      <td>138.41</td>\n",
       "      <td>145.58</td>\n",
       "      <td>2.63</td>\n",
       "      <td>95.50</td>\n",
       "      <td>0</td>\n",
       "      <td>0</td>\n",
       "      <td>-0.73</td>\n",
       "      <td>0.14</td>\n",
       "      <td>0.10</td>\n",
       "      <td>-0.18</td>\n",
       "      <td>-0.24</td>\n",
       "      <td>-0.05</td>\n",
       "      <td>0.34</td>\n",
       "      <td>-0.09</td>\n",
       "      <td>0.39</td>\n",
       "      <td>-1.09</td>\n",
       "      <td>-0.62</td>\n",
       "      <td>0.36</td>\n",
       "      <td>-0.52</td>\n",
       "      <td>-0.87</td>\n",
       "      <td>0.04</td>\n",
       "      <td>-0.17</td>\n",
       "      <td>-0.28</td>\n",
       "      <td>0.15</td>\n",
       "      <td>59.55</td>\n",
       "    </tr>\n",
       "    <tr>\n",
       "      <th>4958522</th>\n",
       "      <td>15250.00</td>\n",
       "      <td>Ford</td>\n",
       "      <td>Edge</td>\n",
       "      <td>SEL</td>\n",
       "      <td>2014</td>\n",
       "      <td>115406.00</td>\n",
       "      <td>108</td>\n",
       "      <td>Truck</td>\n",
       "      <td>SUV</td>\n",
       "      <td>None</td>\n",
       "      <td>FWD</td>\n",
       "      <td>Unleaded</td>\n",
       "      <td>V</td>\n",
       "      <td>2.50</td>\n",
       "      <td>Automatic</td>\n",
       "      <td>5.00</td>\n",
       "      <td>4.00</td>\n",
       "      <td>White</td>\n",
       "      <td>Black</td>\n",
       "      <td>0.00</td>\n",
       "      <td>44870</td>\n",
       "      <td>OH</td>\n",
       "      <td>[Brake Assist, Parking distance system, Parkin...</td>\n",
       "      <td>None</td>\n",
       "      <td>2022-05-28</td>\n",
       "      <td>20691.91</td>\n",
       "      <td>20718.91</td>\n",
       "      <td>5</td>\n",
       "      <td>1068.60</td>\n",
       "      <td>23.60</td>\n",
       "      <td>704.00</td>\n",
       "      <td>40944.00</td>\n",
       "      <td>109400.00</td>\n",
       "      <td>2022-05</td>\n",
       "      <td>206.98</td>\n",
       "      <td>169.64</td>\n",
       "      <td>4.11</td>\n",
       "      <td>65.20</td>\n",
       "      <td>1</td>\n",
       "      <td>0</td>\n",
       "      <td>0.00</td>\n",
       "      <td>0.00</td>\n",
       "      <td>0.00</td>\n",
       "      <td>0.00</td>\n",
       "      <td>0.00</td>\n",
       "      <td>0.00</td>\n",
       "      <td>0.00</td>\n",
       "      <td>0.00</td>\n",
       "      <td>0.00</td>\n",
       "      <td>-1.33</td>\n",
       "      <td>0.39</td>\n",
       "      <td>-0.06</td>\n",
       "      <td>-0.16</td>\n",
       "      <td>0.50</td>\n",
       "      <td>-0.10</td>\n",
       "      <td>-0.17</td>\n",
       "      <td>-0.37</td>\n",
       "      <td>0.52</td>\n",
       "      <td>53.92</td>\n",
       "    </tr>\n",
       "  </tbody>\n",
       "</table>\n",
       "</div>"
      ],
      "text/plain": [
       "         mvr_price            make           model    trim  mvr_model_year  \\\n",
       "571562    16695.00            Ford          Fiesta      SE            2018   \n",
       "5572123   15840.00  GENERAL MOTORS         Terrain  Denali            2013   \n",
       "3303914   14595.00          Toyota         Corolla      LE            2017   \n",
       "5286198   15750.00       Chevrolet  Malibu Limited     1LT            2016   \n",
       "589956    20995.00            Jeep         Compass   Sport            2018   \n",
       "4958522   15250.00            Ford            Edge     SEL            2014   \n",
       "\n",
       "         mvr_mileage  age_months vehicle_type body_type body_subtype  \\\n",
       "571562       3691.00          20          Car     Sedan         None   \n",
       "5572123     80971.00          89        Truck       SUV         None   \n",
       "3303914     27985.00          29          Car     Sedan         None   \n",
       "5286198     31048.00          45          Car     Sedan         None   \n",
       "589956      43236.00          29        Truck       SUV         None   \n",
       "4958522    115406.00         108        Truck       SUV         None   \n",
       "\n",
       "        drivetrain fuel_type engine_block  engine_size transmission  doors  \\\n",
       "571562         FWD  Unleaded            I         2.00    Automatic   4.00   \n",
       "5572123        FWD  Unleaded            I         2.50    Automatic   5.00   \n",
       "3303914        FWD  Unleaded            I         2.00          CVT   4.00   \n",
       "5286198        FWD  Unleaded            I         2.00    Automatic   4.00   \n",
       "589956         FWD  Unleaded            I         2.50    Automatic   5.00   \n",
       "4958522        FWD  Unleaded            V         2.50    Automatic   5.00   \n",
       "\n",
       "         cylinders base_exterior_color base_interior_color  is_certified  \\\n",
       "571562        4.00               Black               Black          0.00   \n",
       "5572123       4.00               Black               Black          0.00   \n",
       "3303914       4.00              Silver                Gray          0.00   \n",
       "5286198       4.00               White               Black          1.00   \n",
       "589956        4.00               Black                Gray          0.00   \n",
       "4958522       4.00               White               Black          0.00   \n",
       "\n",
       "           zip mvr_state                                       hvf_standard  \\\n",
       "571562   78599        TX  [Keyless Entry/Locking, Brake Assist, Parking ...   \n",
       "5572123  44057        OH                                               None   \n",
       "3303914  78758        TX                                               None   \n",
       "5286198  45324        OH  [Keyless Entry/Locking, Brake Assist, Automati...   \n",
       "589956   78612        TX  [Keyless Entry/Locking, Brake Assist, Parking ...   \n",
       "4958522  44870        OH  [Brake Assist, Parking distance system, Parkin...   \n",
       "\n",
       "                                      hvf_optional mvr_purchase_date  \\\n",
       "571562                                        None        2019-02-05   \n",
       "5572123                                       None        2019-11-11   \n",
       "3303914                                       None        2018-10-25   \n",
       "5286198                                       None        2019-02-20   \n",
       "589956   [Automatic Transmission, Satellite Radio]        2019-11-06   \n",
       "4958522                                       None        2022-05-28   \n",
       "\n",
       "         make_model_encode  make_model_trim_encode mvr_purchase_month  \\\n",
       "571562            11300.62                11141.45                  2   \n",
       "5572123           20364.97                26150.28                 11   \n",
       "3303914           16142.45                16203.82                 10   \n",
       "5286198           14889.80                14889.80                  2   \n",
       "589956            19778.04                14699.39                 11   \n",
       "4958522           20691.91                20718.91                  5   \n",
       "\n",
       "         monthly_mileage   mpg  population_density  median_income  \\\n",
       "571562            184.60 29.95             2011.00       49598.00   \n",
       "5572123           909.80 23.60              399.00       50648.00   \n",
       "3303914           965.00 29.95             4747.00       43537.00   \n",
       "5286198           690.00 29.95             1265.00       43020.00   \n",
       "589956           1490.90 23.60              122.00       63144.00   \n",
       "4958522          1068.60 23.60              704.00       40944.00   \n",
       "\n",
       "         median_home_value mvr_purchase_yearmonth  used_car_price_index  \\\n",
       "571562           133800.00                2019-02                138.80   \n",
       "5572123          132000.00                2019-11                138.41   \n",
       "3303914          146100.00                2018-10                135.13   \n",
       "5286198          115400.00                2019-02                138.80   \n",
       "589956           132700.00                2019-11                138.41   \n",
       "4958522          109400.00                2022-05                206.98   \n",
       "\n",
       "         new_car_price_index  gas_price_index  consumer_sentiment_index  \\\n",
       "571562                147.85             2.25                     91.20   \n",
       "5572123               145.58             2.63                     95.50   \n",
       "3303914               145.43             2.84                    100.10   \n",
       "5286198               147.85             2.25                     91.20   \n",
       "589956                145.58             2.63                     95.50   \n",
       "4958522               169.64             4.11                     65.20   \n",
       "\n",
       "         hvf_opt_missing  hvf_std_missing  hvf_opt_comp_0  hvf_opt_comp_1  \\\n",
       "571562                 1                0            0.00            0.00   \n",
       "5572123                1                1            0.00            0.00   \n",
       "3303914                1                1            0.00            0.00   \n",
       "5286198                1                0            0.00            0.00   \n",
       "589956                 0                0           -0.73            0.14   \n",
       "4958522                1                0            0.00            0.00   \n",
       "\n",
       "         hvf_opt_comp_2  hvf_opt_comp_3  hvf_opt_comp_4  hvf_opt_comp_5  \\\n",
       "571562             0.00            0.00            0.00            0.00   \n",
       "5572123            0.00            0.00            0.00            0.00   \n",
       "3303914            0.00            0.00            0.00            0.00   \n",
       "5286198            0.00            0.00            0.00            0.00   \n",
       "589956             0.10           -0.18           -0.24           -0.05   \n",
       "4958522            0.00            0.00            0.00            0.00   \n",
       "\n",
       "         hvf_opt_comp_6  hvf_opt_comp_7  hvf_opt_comp_8  hvf_all_comp_0  \\\n",
       "571562             0.00            0.00            0.00           -1.80   \n",
       "5572123            0.00            0.00            0.00            0.00   \n",
       "3303914            0.00            0.00            0.00            0.00   \n",
       "5286198            0.00            0.00            0.00           -1.01   \n",
       "589956             0.34           -0.09            0.39           -1.09   \n",
       "4958522            0.00            0.00            0.00           -1.33   \n",
       "\n",
       "         hvf_all_comp_1  hvf_all_comp_2  hvf_all_comp_3  hvf_all_comp_4  \\\n",
       "571562            -0.28           -0.60           -0.05            0.03   \n",
       "5572123            0.00            0.00            0.00            0.00   \n",
       "3303914            0.00            0.00            0.00            0.00   \n",
       "5286198           -0.13            0.87            0.29            0.27   \n",
       "589956            -0.62            0.36           -0.52           -0.87   \n",
       "4958522            0.39           -0.06           -0.16            0.50   \n",
       "\n",
       "         hvf_all_comp_5  hvf_all_comp_6  hvf_all_comp_7  hvf_all_comp_8  \\\n",
       "571562            -0.51            0.48            0.48           -0.53   \n",
       "5572123            0.00            0.00            0.00            0.00   \n",
       "3303914            0.00            0.00            0.00            0.00   \n",
       "5286198           -1.13           -0.58           -0.74            0.19   \n",
       "589956             0.04           -0.17           -0.28            0.15   \n",
       "4958522           -0.10           -0.17           -0.37            0.52   \n",
       "\n",
       "         mvr_price_bc  \n",
       "571562          55.46  \n",
       "5572123         54.56  \n",
       "3303914         53.19  \n",
       "5286198         54.47  \n",
       "589956          59.55  \n",
       "4958522         53.92  "
      ]
     },
     "execution_count": 148,
     "metadata": {},
     "output_type": "execute_result"
    }
   ],
   "source": [
    "validate[vehicles]"
   ]
  },
  {
   "cell_type": "markdown",
   "metadata": {},
   "source": [
    "### Underbid Percentiles"
   ]
  },
  {
   "cell_type": "code",
   "execution_count": 150,
   "metadata": {},
   "outputs": [],
   "source": [
    "actuals = validate[target]"
   ]
  },
  {
   "cell_type": "code",
   "execution_count": 156,
   "metadata": {},
   "outputs": [
    {
     "data": {
      "text/plain": [
       "0.7471274888056549"
      ]
     },
     "execution_count": 156,
     "metadata": {},
     "output_type": "execute_result"
    }
   ],
   "source": [
    "sum((actuals - cb_30_preds) > 0)/len(cb_30_preds)"
   ]
  },
  {
   "cell_type": "code",
   "execution_count": 183,
   "metadata": {},
   "outputs": [
    {
     "data": {
      "text/plain": [
       "4381.125135182624"
      ]
     },
     "execution_count": 183,
     "metadata": {},
     "output_type": "execute_result"
    }
   ],
   "source": [
    "(actuals - cb_30_preds)[((actuals - cb_30_preds) > 0)].mean()"
   ]
  },
  {
   "cell_type": "code",
   "execution_count": 157,
   "metadata": {},
   "outputs": [
    {
     "data": {
      "text/plain": [
       "0.6719024284923071"
      ]
     },
     "execution_count": 157,
     "metadata": {},
     "output_type": "execute_result"
    }
   ],
   "source": [
    "sum((actuals - cb_40_preds) > 0)/len(cb_40_preds)"
   ]
  },
  {
   "cell_type": "code",
   "execution_count": 184,
   "metadata": {},
   "outputs": [
    {
     "data": {
      "text/plain": [
       "4046.233088094139"
      ]
     },
     "execution_count": 184,
     "metadata": {},
     "output_type": "execute_result"
    }
   ],
   "source": [
    "(actuals - cb_40_preds)[((actuals - cb_40_preds) > 0)].mean()"
   ]
  },
  {
   "cell_type": "code",
   "execution_count": null,
   "metadata": {},
   "outputs": [],
   "source": []
  },
  {
   "cell_type": "markdown",
   "metadata": {},
   "source": [
    "### Options"
   ]
  },
  {
   "cell_type": "code",
   "execution_count": 142,
   "metadata": {},
   "outputs": [],
   "source": [
    "hvf_optional_df = pd.read_pickle(working_dir + \"hvf_optional_df.pkl\")"
   ]
  },
  {
   "cell_type": "code",
   "execution_count": 145,
   "metadata": {},
   "outputs": [
    {
     "data": {
      "text/plain": [
       "77"
      ]
     },
     "execution_count": 145,
     "metadata": {},
     "output_type": "execute_result"
    }
   ],
   "source": [
    "len(hvf_optional_df.columns)"
   ]
  },
  {
   "cell_type": "code",
   "execution_count": 147,
   "metadata": {},
   "outputs": [
    {
     "data": {
      "text/plain": [
       "82"
      ]
     },
     "execution_count": 147,
     "metadata": {},
     "output_type": "execute_result"
    }
   ],
   "source": [
    "hvf_all_df = pd.read_pickle(working_dir + \"hvf_all_df.pkl\")\n",
    "len(hvf_all_df.columns)"
   ]
  },
  {
   "cell_type": "code",
   "execution_count": 144,
   "metadata": {},
   "outputs": [
    {
     "data": {
      "text/plain": [
       "6359824"
      ]
     },
     "execution_count": 144,
     "metadata": {},
     "output_type": "execute_result"
    }
   ],
   "source": [
    "train.shape[0] + validate.shape[0] + test.shape[0]"
   ]
  },
  {
   "cell_type": "markdown",
   "metadata": {},
   "source": [
    "## Final Test Results"
   ]
  },
  {
   "cell_type": "code",
   "execution_count": 185,
   "metadata": {},
   "outputs": [
    {
     "name": "stdout",
     "output_type": "stream",
     "text": [
      "R2:  0.881\n",
      "MAE:  3074.26\n",
      "MAPE:  18.4 %\n",
      "RMSE:  4450.25\n",
      "Percent Underpayed:  59.3 %\n",
      "Mean of Underpayment:  3543.41\n",
      "Percent Overpayed:  40.7 %\n",
      "Mean of Overpayment:  -2391.63\n",
      "Mean Error:  1125.92\n"
     ]
    }
   ],
   "source": [
    "# predict\n",
    "hpt_preds_test = hpt_model.predict(test[selected_num_cols + selected_cat_cols])\n",
    "\n",
    "# results\n",
    "assess_results(test[target], hpt_preds_test)"
   ]
  },
  {
   "cell_type": "code",
   "execution_count": null,
   "metadata": {},
   "outputs": [],
   "source": [
    "test"
   ]
  }
 ],
 "metadata": {
  "colab": {
   "collapsed_sections": [
    "n7UQ4jzFIDtZ",
    "pf8KzdwtIDtc"
   ],
   "machine_shape": "hm",
   "provenance": []
  },
  "gpuClass": "standard",
  "kernelspec": {
   "display_name": "Python 3 (ipykernel)",
   "language": "python",
   "name": "python3"
  },
  "language_info": {
   "codemirror_mode": {
    "name": "ipython",
    "version": 3
   },
   "file_extension": ".py",
   "mimetype": "text/x-python",
   "name": "python",
   "nbconvert_exporter": "python",
   "pygments_lexer": "ipython3",
   "version": "3.9.12"
  }
 },
 "nbformat": 4,
 "nbformat_minor": 1
}
