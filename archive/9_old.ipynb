{
 "cells": [
  {
   "cell_type": "markdown",
   "metadata": {
    "id": "VpW_mbAyIDtT"
   },
   "source": [
    "# Used Car Pricing Algorithm"
   ]
  },
  {
   "cell_type": "markdown",
   "metadata": {
    "id": "n7UQ4jzFIDtZ"
   },
   "source": [
    "## Environment"
   ]
  },
  {
   "cell_type": "code",
   "execution_count": 1,
   "metadata": {
    "executionInfo": {
     "elapsed": 767,
     "status": "ok",
     "timestamp": 1678124119673,
     "user": {
      "displayName": "Shea Conaway",
      "userId": "06745111064212010073"
     },
     "user_tz": 360
    },
    "id": "OHzjIIGb-xxW"
   },
   "outputs": [],
   "source": [
    "import numpy as np\n",
    "import pandas as pd"
   ]
  },
  {
   "cell_type": "code",
   "execution_count": 2,
   "metadata": {},
   "outputs": [],
   "source": [
    "# show 100 rows, 50 columns\n",
    "pd.options.display.max_rows = 100\n",
    "pd.set_option('display.max_columns', 100)\n",
    "pd.set_option('display.float_format', lambda x: '%.2f' % x)"
   ]
  },
  {
   "cell_type": "code",
   "execution_count": 3,
   "metadata": {},
   "outputs": [],
   "source": [
    "def print_shape(df):\n",
    "    print(f\"Rows: {df.shape[0]:,} \\nColumns: {df.shape[1]:,}\")"
   ]
  },
  {
   "cell_type": "code",
   "execution_count": 4,
   "metadata": {},
   "outputs": [],
   "source": [
    "def print_rows(df):\n",
    "    print(f\"Rows: {df.shape[0]:,}\")"
   ]
  },
  {
   "cell_type": "code",
   "execution_count": 5,
   "metadata": {},
   "outputs": [],
   "source": [
    "from sklearn.metrics import mean_absolute_error\n",
    "from sklearn.metrics import mean_squared_error\n",
    "from sklearn.metrics import r2_score\n",
    "\n",
    "def assess_results(y_test, y_pred):\n",
    "    print(\"R2: \", round(r2_score(y_test, y_pred),3))\n",
    "    print(\"MAE: \", round(mean_absolute_error(y_test, y_pred),2))\n",
    "    print(\"MAPE: \", round(np.mean(np.abs((y_test - y_pred) / y_test)) * 100,1),\"%\")\n",
    "    print(\"RMSE: \", round(np.sqrt(mean_squared_error(y_test, y_pred)),2))\n",
    "    print(\"Percent Underpayed: \", round(len((y_test - y_pred)[(y_test - y_pred) >= 0]) / len(y_test) * 100,1),\"%\")\n",
    "    print(\"Mean of Underpayment: \", round(np.mean((y_test - y_pred)[(y_test - y_pred) > 0]),2))\n",
    "    print(\"Percent Overpayed: \", round(len((y_test - y_pred)[(y_test - y_pred) < 0]) / len(y_test) * 100,1),\"%\")\n",
    "    print(\"Mean of Overpayment: \", round(np.mean((y_test - y_pred)[(y_test - y_pred) < 0]),2))\n",
    "    print(\"Mean Error: \", round(np.mean(y_test - y_pred),2)) \n",
    "    "
   ]
  },
  {
   "cell_type": "markdown",
   "metadata": {},
   "source": [
    "## Load Data"
   ]
  },
  {
   "cell_type": "code",
   "execution_count": 5,
   "metadata": {
    "id": "GGVLEfTl-xxW"
   },
   "outputs": [
    {
     "name": "stdout",
     "output_type": "stream",
     "text": [
      "Rows: 12,984,106 \n",
      "Columns: 44\n",
      "CPU times: user 1min 37s, sys: 9.2 s, total: 1min 47s\n",
      "Wall time: 2min 20s\n"
     ]
    }
   ],
   "source": [
    "%%time\n",
    "\n",
    "data_dir = \"/data/p_dsi/capstone_projects/shea/4_merged/\"\n",
    "filename = \"merged_structured_new.pkl\"\n",
    "\n",
    "df = pd.read_pickle(data_dir + filename)\n",
    "print_shape(df)"
   ]
  },
  {
   "cell_type": "code",
   "execution_count": 6,
   "metadata": {},
   "outputs": [
    {
     "name": "stdout",
     "output_type": "stream",
     "text": [
      "<class 'pandas.core.frame.DataFrame'>\n",
      "Int64Index: 12984106 entries, 0 to 12984105\n",
      "Data columns (total 44 columns):\n",
      " #   Column               Dtype         \n",
      "---  ------               -----         \n",
      " 0   vin                  object        \n",
      " 1   price                float64       \n",
      " 2   miles                float64       \n",
      " 3   year                 float64       \n",
      " 4   make                 object        \n",
      " 5   model                object        \n",
      " 6   trim                 object        \n",
      " 7   vehicle_type         object        \n",
      " 8   body_type            object        \n",
      " 9   body_subtype         object        \n",
      " 10  drivetrain           object        \n",
      " 11  fuel_type            object        \n",
      " 12  engine_block         object        \n",
      " 13  engine_size          object        \n",
      " 14  transmission         object        \n",
      " 15  doors                float64       \n",
      " 16  cylinders            float64       \n",
      " 17  city_mpg             float64       \n",
      " 18  highway_mpg          float64       \n",
      " 19  base_exterior_color  object        \n",
      " 20  base_interior_color  object        \n",
      " 21  is_certified         float64       \n",
      " 22  is_transfer          float64       \n",
      " 23  scraped_at           object        \n",
      " 24  status_date          object        \n",
      " 25  first_scraped_at     object        \n",
      " 26  city                 object        \n",
      " 27  zip                  object        \n",
      " 28  latitude             float32       \n",
      " 29  longitude            float32       \n",
      " 30  dealer_type          object        \n",
      " 31  currency_indicator   object        \n",
      " 32  miles_indicator      object        \n",
      " 33  photo_links_count    int32         \n",
      " 34  hvf_standard         object        \n",
      " 35  hvf_optional         object        \n",
      " 36  mvr_purchase_date    datetime64[ns]\n",
      " 37  mvr_price            float32       \n",
      " 38  mvr_make             object        \n",
      " 39  mvr_mileage          object        \n",
      " 40  mvr_model_year       int16         \n",
      " 41  mvr_odometer_brand   object        \n",
      " 42  mvr_salvage          object        \n",
      " 43  mvr_state            object        \n",
      "dtypes: datetime64[ns](1), float32(3), float64(9), int16(1), int32(1), object(29)\n",
      "memory usage: 4.1+ GB\n"
     ]
    }
   ],
   "source": [
    "df.info()"
   ]
  },
  {
   "cell_type": "code",
   "execution_count": 7,
   "metadata": {},
   "outputs": [],
   "source": [
    "# datatype conversions\n",
    "df[\"status_date\"] = pd.to_datetime(df[\"status_date\"], unit='s')\n",
    "df[\"engine_size\"] = df[\"engine_size\"].astype(\"float\")"
   ]
  },
  {
   "cell_type": "code",
   "execution_count": 8,
   "metadata": {},
   "outputs": [],
   "source": [
    "df_original = df.copy()"
   ]
  },
  {
   "cell_type": "code",
   "execution_count": 9,
   "metadata": {},
   "outputs": [],
   "source": [
    "# start over without reloading from file\n",
    "#df = df_original.copy()"
   ]
  },
  {
   "cell_type": "markdown",
   "metadata": {},
   "source": [
    "Title registration is the source of truth for purchase date, price, and mileage. Listing for everything else..."
   ]
  },
  {
   "cell_type": "markdown",
   "metadata": {},
   "source": [
    "## Fatally Missing or Inaccurate Values\n",
    "Not appropriate to impute these since they're too important"
   ]
  },
  {
   "cell_type": "markdown",
   "metadata": {},
   "source": [
    "### Price"
   ]
  },
  {
   "cell_type": "code",
   "execution_count": 10,
   "metadata": {},
   "outputs": [
    {
     "name": "stdout",
     "output_type": "stream",
     "text": [
      "961422\n",
      "Rows: 12,022,684\n"
     ]
    }
   ],
   "source": [
    "# price missing\n",
    "print(df[\"mvr_price\"].isna().sum())\n",
    "df = df[~df[\"mvr_price\"].isna()]\n",
    "print_rows(df)"
   ]
  },
  {
   "cell_type": "code",
   "execution_count": 11,
   "metadata": {},
   "outputs": [
    {
     "name": "stdout",
     "output_type": "stream",
     "text": [
      "2515073\n",
      "Rows: 9,507,611\n"
     ]
    }
   ],
   "source": [
    "# price ~ 0\n",
    "print((df[\"mvr_price\"] < 10).sum())\n",
    "df = df[~(df[\"mvr_price\"] < 10)]\n",
    "print_rows(df)"
   ]
  },
  {
   "cell_type": "markdown",
   "metadata": {},
   "source": [
    "### Mileage"
   ]
  },
  {
   "cell_type": "code",
   "execution_count": 12,
   "metadata": {},
   "outputs": [
    {
     "name": "stdout",
     "output_type": "stream",
     "text": [
      "6124\n",
      "95429\n",
      "Rows: 9,406,058\n"
     ]
    }
   ],
   "source": [
    "# drop if miles missing\n",
    "print(df[\"mvr_mileage\"].isna().sum())\n",
    "print((df[\"mvr_mileage\"] == 0).sum())\n",
    "df = df[~(df[\"mvr_mileage\"].isna() | (df[\"mvr_mileage\"] == 0))]\n",
    "print_rows(df)"
   ]
  },
  {
   "cell_type": "code",
   "execution_count": 13,
   "metadata": {},
   "outputs": [
    {
     "name": "stdout",
     "output_type": "stream",
     "text": [
      "Actual            8706378\n",
      "Unknown            668814\n",
      "Not Actual          28691\n",
      "Exceeds Limits       2175\n",
      "Name: mvr_odometer_brand, dtype: int64\n",
      "Rows: 8,706,378\n"
     ]
    }
   ],
   "source": [
    "# keep only actual mileage\n",
    "print(df[\"mvr_odometer_brand\"].value_counts())\n",
    "df = df[df[\"mvr_odometer_brand\"] == \"Actual\"]\n",
    "print_rows(df)"
   ]
  },
  {
   "cell_type": "markdown",
   "metadata": {},
   "source": [
    "### Purchase Date"
   ]
  },
  {
   "cell_type": "code",
   "execution_count": 14,
   "metadata": {},
   "outputs": [
    {
     "name": "stdout",
     "output_type": "stream",
     "text": [
      "10\n",
      "Rows: 8,706,368\n"
     ]
    }
   ],
   "source": [
    "# drop missing purchase date\n",
    "print(df[\"mvr_purchase_date\"].isna().sum())\n",
    "df = df[~(df[\"mvr_purchase_date\"].isna())]\n",
    "print_rows(df)"
   ]
  },
  {
   "cell_type": "code",
   "execution_count": 15,
   "metadata": {},
   "outputs": [
    {
     "name": "stdout",
     "output_type": "stream",
     "text": [
      "42916\n",
      "Rows: 8,663,452\n"
     ]
    }
   ],
   "source": [
    "# drop purchase date pre-2018\n",
    "print((df[\"mvr_purchase_date\"] < pd.to_datetime('20180101', format='%Y%m%d')).sum())\n",
    "df = df[~(df[\"mvr_purchase_date\"] < pd.to_datetime('20180101', format='%Y%m%d'))]\n",
    "print_rows(df)"
   ]
  },
  {
   "cell_type": "markdown",
   "metadata": {},
   "source": [
    "## Match Verification\n",
    "Check with fuzzy matching"
   ]
  },
  {
   "cell_type": "markdown",
   "metadata": {},
   "source": [
    "### Model Year"
   ]
  },
  {
   "cell_type": "code",
   "execution_count": 16,
   "metadata": {},
   "outputs": [
    {
     "name": "stdout",
     "output_type": "stream",
     "text": [
      "21827\n",
      "Rows: 8,641,625\n"
     ]
    }
   ],
   "source": [
    "# model year\n",
    "print(sum(df[\"year\"] != df[\"mvr_model_year\"]))\n",
    "df = df[df[\"year\"] == df[\"mvr_model_year\"]]\n",
    "print_rows(df)"
   ]
  },
  {
   "cell_type": "markdown",
   "metadata": {},
   "source": [
    "### Make"
   ]
  },
  {
   "cell_type": "code",
   "execution_count": 17,
   "metadata": {},
   "outputs": [],
   "source": [
    "from fuzzywuzzy import fuzz\n",
    "\n",
    "# define a function to calculate the similarity score\n",
    "def get_similarity(row):\n",
    "    return fuzz.ratio(row['make'].lower(), row['mvr_make'].lower())"
   ]
  },
  {
   "cell_type": "code",
   "execution_count": 18,
   "metadata": {},
   "outputs": [],
   "source": [
    "# prep\n",
    "df.loc[df[\"make\"].str.strip().str.lower() == 'gmc',\"make\"] = \"GENERAL MOTORS\"\n",
    "df.loc[df[\"mvr_make\"].str.strip().str.lower() == 'gmc',\"mvr_make\"] = \"GENERAL MOTORS\"\n",
    "\n",
    "df.loc[df[\"make\"].str.strip().str.lower() == 'ram',\"make\"] = \"DODGE\"\n",
    "df.loc[df[\"mvr_make\"].str.strip().str.lower() == 'ram',\"mvr_make\"] = \"DODGE\"\n",
    "\n",
    "df.loc[df[\"make\"].str.strip().str.lower() == 'scion',\"make\"] = \"TOYOTA\"\n",
    "df.loc[df[\"mvr_make\"].str.strip().str.lower() == 'scion',\"mvr_make\"] = \"TOYOTA\"\n",
    "df.loc[df[\"mvr_make\"].str.strip().str.lower() == 'scio',\"mvr_make\"] = \"TOYOTA\"\n",
    "\n",
    "df.loc[df[\"make\"].str.strip().str.lower() == 'genesis',\"make\"] = \"HYUNDAI\"\n",
    "df.loc[df[\"mvr_make\"].str.strip().str.lower() == 'genesis',\"mvr_make\"] = \"HYUNDAI\"\n",
    "df.loc[df[\"mvr_make\"].str.strip().str.lower() == 'genes',\"mvr_make\"] = \"HYUNDAI\"\n",
    "df.loc[df[\"mvr_make\"].str.strip().str.lower() == 'gene',\"mvr_make\"] = \"HYUNDAI\"\n",
    "df.loc[df[\"mvr_make\"].str.strip().str.lower() == 'gen',\"mvr_make\"] = \"HYUNDAI\"\n",
    "df.loc[df[\"mvr_make\"].str.strip().str.lower() == 'gens',\"mvr_make\"] = \"HYUNDAI\"\n",
    "\n",
    "df.loc[df[\"mvr_make\"].str.strip().str.lower() == 'kia motors corp',\"mvr_make\"] = \"kia\""
   ]
  },
  {
   "cell_type": "code",
   "execution_count": 19,
   "metadata": {},
   "outputs": [],
   "source": [
    "make_similarity = df[[\"make\",\"mvr_make\"]].apply(get_similarity, axis=1)"
   ]
  },
  {
   "cell_type": "code",
   "execution_count": 20,
   "metadata": {},
   "outputs": [
    {
     "name": "stdout",
     "output_type": "stream",
     "text": [
      "763\n",
      "Rows: 8,640,862\n"
     ]
    }
   ],
   "source": [
    "threshold = 35\n",
    "not_match = make_similarity < threshold\n",
    "print(sum(not_match))\n",
    "df = df[~not_match]\n",
    "print_rows(df)"
   ]
  },
  {
   "cell_type": "markdown",
   "metadata": {},
   "source": [
    "### Mileage\n",
    "We're allowing for some discrepancy because of the way records were deduplicated. Prior sale listings might be matched with subsequent title registrations. Shouldn't be a problem since the listings are used for vehicle attributes that generally don't change with time (model, features, etc). Attributes that change with time are coming from the registration (age, mileage, price)."
   ]
  },
  {
   "cell_type": "code",
   "execution_count": 21,
   "metadata": {},
   "outputs": [],
   "source": [
    "df[\"mvr_mileage\"] = df[\"mvr_mileage\"].astype(float)"
   ]
  },
  {
   "cell_type": "code",
   "execution_count": 67,
   "metadata": {},
   "outputs": [
    {
     "name": "stdout",
     "output_type": "stream",
     "text": [
      "284618\n",
      "Rows: 6,635,276\n"
     ]
    }
   ],
   "source": [
    "# average annual mileage = 13k (https://www.fhwa.dot.gov/ohim/onh00/bar8.htm)\n",
    "# not allowing discrepancy to exceed twice the annual average mileage\n",
    "mileage_diff = abs(df[\"mvr_mileage\"] - df[\"miles\"])\n",
    "print(sum((mileage_diff > 2*13000) & (df[\"miles\"] != 0)))\n",
    "df = df[~((mileage_diff > 2*13000) & (df[\"miles\"] != 0))]\n",
    "print_rows(df)"
   ]
  },
  {
   "cell_type": "markdown",
   "metadata": {},
   "source": [
    "### Listing Date vs Purchase Date\n",
    "Allowing for one year difference in line with those explained for mileage."
   ]
  },
  {
   "cell_type": "code",
   "execution_count": 68,
   "metadata": {},
   "outputs": [
    {
     "name": "stdout",
     "output_type": "stream",
     "text": [
      "262031\n",
      "Rows: 6,373,245\n"
     ]
    }
   ],
   "source": [
    "list_sale_diff = abs((df['mvr_purchase_date'] - df['status_date']).astype('timedelta64[D]'))\n",
    "print(sum(list_sale_diff > 365))\n",
    "df = df[~(list_sale_diff > 365)]\n",
    "print_rows(df)"
   ]
  },
  {
   "cell_type": "markdown",
   "metadata": {},
   "source": [
    "## Business Case Exclusions"
   ]
  },
  {
   "cell_type": "markdown",
   "metadata": {},
   "source": [
    "### Consumer Cars and Trucks Only\n",
    "Exclude commerical and recreational vehicles"
   ]
  },
  {
   "cell_type": "code",
   "execution_count": 24,
   "metadata": {
    "scrolled": false
   },
   "outputs": [
    {
     "name": "stdout",
     "output_type": "stream",
     "text": [
      "89942\n",
      "Rows: 8,535,863 \n",
      "Columns: 44\n"
     ]
    }
   ],
   "source": [
    "# consumer cars and trucks\n",
    "# df[\"body_type\"].value_counts()\n",
    "\n",
    "excluded_vehtypes = [\"Cargo Van\",\"Passenger Van\",\"Chassis Cab\",\"Car Van\"\n",
    "                     ,\"Combi\",\"Cutaway\",\"Van\",\"Commercial Wagon\",\"Chassis Cowl\"]\n",
    "\n",
    "print(df[\"body_type\"].isin(excluded_vehtypes).sum())\n",
    "df = df[~df[\"body_type\"].isin(excluded_vehtypes)]\n",
    "print_shape(df)"
   ]
  },
  {
   "cell_type": "markdown",
   "metadata": {},
   "source": [
    "### Not Vintage\n",
    "Vehicles older than 20 years can qualify for an antique plate"
   ]
  },
  {
   "cell_type": "code",
   "execution_count": 25,
   "metadata": {},
   "outputs": [],
   "source": [
    "# difference between purchase date and estimated model year release\n",
    "# model year can be introduced as early as january of prior calendar year\n",
    "# generally august/sept of prior calendar year (going with june prior year)\n",
    "age_calc = df[\"mvr_purchase_date\"] - pd.to_datetime((df['year'].astype(int)-1).astype(str) + '0601', format='%Y%m%d')\n",
    "\n",
    "# compute age in months\n",
    "df[\"age_months\"] = np.round(age_calc.astype('timedelta64[s]') / (30.44*24*60*60)).astype(int)"
   ]
  },
  {
   "cell_type": "code",
   "execution_count": 26,
   "metadata": {},
   "outputs": [
    {
     "name": "stdout",
     "output_type": "stream",
     "text": [
      "37564\n",
      "Rows: 8,498,299\n"
     ]
    }
   ],
   "source": [
    "# drop 20+ years old\n",
    "print((df[\"age_months\"] >= 240).sum())\n",
    "df = df[df[\"age_months\"] < 240]\n",
    "print_rows(df)"
   ]
  },
  {
   "cell_type": "code",
   "execution_count": 27,
   "metadata": {},
   "outputs": [
    {
     "name": "stdout",
     "output_type": "stream",
     "text": [
      "1600\n",
      "Rows: 8,496,699\n"
     ]
    }
   ],
   "source": [
    "# drop problematic negative age\n",
    "print((df[\"age_months\"] < 1).sum())\n",
    "df = df[~(df[\"age_months\"] < 1)]\n",
    "print_rows(df)"
   ]
  },
  {
   "cell_type": "markdown",
   "metadata": {},
   "source": [
    "### International"
   ]
  },
  {
   "cell_type": "code",
   "execution_count": 28,
   "metadata": {},
   "outputs": [
    {
     "name": "stdout",
     "output_type": "stream",
     "text": [
      "10\n",
      "168\n",
      "Rows: 8,496,521\n"
     ]
    }
   ],
   "source": [
    "# canadians/mexicans\n",
    "print((df[\"currency_indicator\"] == \"CAD\").sum())\n",
    "df = df[~(df[\"currency_indicator\"] == \"CAD\")]\n",
    "\n",
    "print((df[\"miles_indicator\"] == \"KILOMETERS\").sum())\n",
    "df = df[~(df[\"miles_indicator\"] == \"KILOMETERS\")]\n",
    "\n",
    "print_rows(df)"
   ]
  },
  {
   "cell_type": "markdown",
   "metadata": {},
   "source": [
    "### Mileage\n",
    "- Low mileage cars aren't really \"used\"\n",
    "- Not interested in dealing extremely high mileage vehicles"
   ]
  },
  {
   "cell_type": "code",
   "execution_count": 29,
   "metadata": {},
   "outputs": [
    {
     "name": "stdout",
     "output_type": "stream",
     "text": [
      "148925.0\n",
      "424815\n",
      "861.0\n",
      "424822\n"
     ]
    }
   ],
   "source": [
    "# calculate high and low prices\n",
    "top = df[\"mvr_mileage\"].quantile(0.95)\n",
    "print(top)\n",
    "print(sum(df[\"mvr_mileage\"] > top))\n",
    "bottom = df[\"mvr_mileage\"].quantile(0.05)\n",
    "print(bottom)\n",
    "print(sum(df[\"mvr_mileage\"] < bottom))"
   ]
  },
  {
   "cell_type": "code",
   "execution_count": 30,
   "metadata": {},
   "outputs": [
    {
     "name": "stdout",
     "output_type": "stream",
     "text": [
      "Rows: 7,646,884\n"
     ]
    }
   ],
   "source": [
    "# drop\n",
    "df = df[~((df[\"mvr_mileage\"] > top) | (df[\"mvr_mileage\"] < bottom))]\n",
    "print_rows(df)"
   ]
  },
  {
   "cell_type": "markdown",
   "metadata": {},
   "source": [
    "### Drivetrain"
   ]
  },
  {
   "cell_type": "code",
   "execution_count": 31,
   "metadata": {},
   "outputs": [
    {
     "name": "stdout",
     "output_type": "stream",
     "text": [
      "28006\n",
      "Rows: 7,618,878\n"
     ]
    }
   ],
   "source": [
    "print(sum(~df[\"drivetrain\"].isin([\"FWD\", \"RWD\", \"4WD\"])))\n",
    "df = df[df[\"drivetrain\"].isin([\"FWD\", \"RWD\", \"4WD\"])]\n",
    "print_rows(df)"
   ]
  },
  {
   "cell_type": "markdown",
   "metadata": {},
   "source": [
    "### Salvage"
   ]
  },
  {
   "cell_type": "code",
   "execution_count": 88,
   "metadata": {},
   "outputs": [
    {
     "name": "stdout",
     "output_type": "stream",
     "text": [
      "13311\n",
      "Rows: 6,359,934\n"
     ]
    }
   ],
   "source": [
    "# drop salvage vehicles\n",
    "print((df[\"mvr_salvage\"] == \"Yes\").sum())\n",
    "df = df[~(df[\"mvr_salvage\"] == \"Yes\")]\n",
    "print_rows(df)"
   ]
  },
  {
   "cell_type": "markdown",
   "metadata": {},
   "source": [
    "## Make, Model, Trim\n",
    "Central to target encoding. Need at least 1000 observations of make/model/trim combo"
   ]
  },
  {
   "cell_type": "code",
   "execution_count": 32,
   "metadata": {},
   "outputs": [
    {
     "name": "stdout",
     "output_type": "stream",
     "text": [
      "1541\n",
      "Rows: 7,617,337\n"
     ]
    }
   ],
   "source": [
    "# make, model, or trim is null\n",
    "print((df[\"make\"].isna() | df[\"model\"].isna() | df[\"trim\"].isna()).sum())\n",
    "df = df[~(df[\"make\"].isna() | df[\"model\"].isna() | df[\"trim\"].isna())]\n",
    "print_rows(df)"
   ]
  },
  {
   "cell_type": "code",
   "execution_count": 33,
   "metadata": {},
   "outputs": [],
   "source": [
    "# new make/model and make/model/trim col, for target encoding later\n",
    "df['make_model_encode'] = df['make'] + ' / ' + df['model']\n",
    "df['make_model_trim_encode'] = df['make'] + ' / ' + df['model'] + ' / ' + df['trim']"
   ]
  },
  {
   "cell_type": "code",
   "execution_count": 43,
   "metadata": {},
   "outputs": [
    {
     "name": "stdout",
     "output_type": "stream",
     "text": [
      "691717\n",
      "Rows: 6,925,620\n"
     ]
    }
   ],
   "source": [
    "# drop make/model/trim <1000 obs\n",
    "print(sum(df[\"make_model_trim_encode\"].value_counts()[df[\"make_model_trim_encode\"].value_counts() < 1000]))\n",
    "df = df[~df['make_model_trim_encode'].isin(list((df[\"make_model_trim_encode\"].value_counts()[df[\"make_model_trim_encode\"].value_counts() < 1000]).index))]\n",
    "print_rows(df)"
   ]
  },
  {
   "cell_type": "code",
   "execution_count": 45,
   "metadata": {},
   "outputs": [
    {
     "data": {
      "text/plain": [
       "1066"
      ]
     },
     "execution_count": 45,
     "metadata": {},
     "output_type": "execute_result"
    }
   ],
   "source": [
    "df[\"make_model_trim_encode\"].nunique()"
   ]
  },
  {
   "cell_type": "markdown",
   "metadata": {},
   "source": [
    "## Target Variable"
   ]
  },
  {
   "cell_type": "markdown",
   "metadata": {},
   "source": [
    "We're not sellin' Ferraris and Lamborghinis here. We're sellin' everyday used cars."
   ]
  },
  {
   "cell_type": "code",
   "execution_count": 48,
   "metadata": {},
   "outputs": [
    {
     "name": "stdout",
     "output_type": "stream",
     "text": [
      "97726\n",
      "500\n"
     ]
    }
   ],
   "source": [
    "# calculate high and low prices\n",
    "top = df[\"mvr_price\"].quantile(0.999)\n",
    "print(round(top))\n",
    "bottom = df[\"mvr_price\"].quantile(0.001)\n",
    "print(round(bottom))"
   ]
  },
  {
   "cell_type": "markdown",
   "metadata": {},
   "source": [
    "Based on manual inspection, records with `mvr_price` over 300,000 become highly error-prone. Extensive data validation is beyond the scope of this project, and these records will be dumped. Further, prices above 100,000 are not under considation for most used car businesses."
   ]
  },
  {
   "cell_type": "code",
   "execution_count": 53,
   "metadata": {},
   "outputs": [
    {
     "name": "stdout",
     "output_type": "stream",
     "text": [
      "5587\n",
      "Rows: 6,919,894\n"
     ]
    }
   ],
   "source": [
    "# remove\n",
    "print(sum((df[\"mvr_price\"] > 100000)))\n",
    "df = df[~(df[\"mvr_price\"] > 100000)]\n",
    "print_rows(df)"
   ]
  },
  {
   "cell_type": "code",
   "execution_count": 69,
   "metadata": {
    "scrolled": true
   },
   "outputs": [
    {
     "data": {
      "text/plain": [
       "<AxesSubplot:>"
      ]
     },
     "execution_count": 69,
     "metadata": {},
     "output_type": "execute_result"
    },
    {
     "data": {
      "image/png": "[encoded data removed]",
      "text/plain": [
       "<Figure size 432x288 with 1 Axes>"
      ]
     },
     "metadata": {
      "needs_background": "light"
     },
     "output_type": "display_data"
    }
   ],
   "source": [
    "# plot distribution of mvr_price\n",
    "df[\"mvr_price\"].hist(bins=100)"
   ]
  },
  {
   "cell_type": "markdown",
   "metadata": {},
   "source": [
    "Based on manual inspection, records with `mvr_price` under $X become highly error-prone. Extensive data validation is beyond the scope of this project, and these records will be dumped."
   ]
  },
  {
   "cell_type": "code",
   "execution_count": 74,
   "metadata": {
    "scrolled": true
   },
   "outputs": [
    {
     "data": {
      "text/plain": [
       "4264"
      ]
     },
     "execution_count": 74,
     "metadata": {},
     "output_type": "execute_result"
    }
   ],
   "source": [
    "sum(df[\"mvr_price\"] < 1000)"
   ]
  },
  {
   "cell_type": "code",
   "execution_count": 75,
   "metadata": {},
   "outputs": [
    {
     "data": {
      "text/html": [
       "<div>\n",
       "<style scoped>\n",
       "    .dataframe tbody tr th:only-of-type {\n",
       "        vertical-align: middle;\n",
       "    }\n",
       "\n",
       "    .dataframe tbody tr th {\n",
       "        vertical-align: top;\n",
       "    }\n",
       "\n",
       "    .dataframe thead th {\n",
       "        text-align: right;\n",
       "    }\n",
       "</style>\n",
       "<table border=\"1\" class=\"dataframe\">\n",
       "  <thead>\n",
       "    <tr style=\"text-align: right;\">\n",
       "      <th></th>\n",
       "      <th>price</th>\n",
       "      <th>mvr_price</th>\n",
       "      <th>mvr_salvage</th>\n",
       "      <th>make</th>\n",
       "      <th>mvr_make</th>\n",
       "      <th>mvr_purchase_date</th>\n",
       "      <th>status_date</th>\n",
       "      <th>mvr_model_year</th>\n",
       "      <th>miles</th>\n",
       "      <th>mvr_mileage</th>\n",
       "    </tr>\n",
       "  </thead>\n",
       "  <tbody>\n",
       "    <tr>\n",
       "      <th>9811897</th>\n",
       "      <td>6900.00</td>\n",
       "      <td>100.00</td>\n",
       "      <td>No</td>\n",
       "      <td>Ford</td>\n",
       "      <td>FORD</td>\n",
       "      <td>2022-01-20</td>\n",
       "      <td>2021-04-23 03:30:32</td>\n",
       "      <td>2005</td>\n",
       "      <td>84863.00</td>\n",
       "      <td>86500.00</td>\n",
       "    </tr>\n",
       "    <tr>\n",
       "      <th>12401470</th>\n",
       "      <td>1995.00</td>\n",
       "      <td>200.00</td>\n",
       "      <td>No</td>\n",
       "      <td>Hyundai</td>\n",
       "      <td>HYUNDAI</td>\n",
       "      <td>2019-08-02</td>\n",
       "      <td>2018-12-10 16:42:42</td>\n",
       "      <td>2009</td>\n",
       "      <td>119011.00</td>\n",
       "      <td>123470.00</td>\n",
       "    </tr>\n",
       "    <tr>\n",
       "      <th>12896972</th>\n",
       "      <td>35750.00</td>\n",
       "      <td>575.00</td>\n",
       "      <td>No</td>\n",
       "      <td>Chevrolet</td>\n",
       "      <td>CHEVROLET</td>\n",
       "      <td>2018-01-31</td>\n",
       "      <td>2018-02-01 16:59:33</td>\n",
       "      <td>2004</td>\n",
       "      <td>NaN</td>\n",
       "      <td>104492.00</td>\n",
       "    </tr>\n",
       "    <tr>\n",
       "      <th>7089990</th>\n",
       "      <td>NaN</td>\n",
       "      <td>350.00</td>\n",
       "      <td>No</td>\n",
       "      <td>Buick</td>\n",
       "      <td>BUIC</td>\n",
       "      <td>2019-02-08</td>\n",
       "      <td>2018-03-03 09:52:32</td>\n",
       "      <td>2013</td>\n",
       "      <td>124869.00</td>\n",
       "      <td>136426.00</td>\n",
       "    </tr>\n",
       "    <tr>\n",
       "      <th>11228431</th>\n",
       "      <td>3899.00</td>\n",
       "      <td>500.00</td>\n",
       "      <td>No</td>\n",
       "      <td>Jeep</td>\n",
       "      <td>JEEP</td>\n",
       "      <td>2019-09-10</td>\n",
       "      <td>2019-07-16 01:19:43</td>\n",
       "      <td>2004</td>\n",
       "      <td>140382.00</td>\n",
       "      <td>143423.00</td>\n",
       "    </tr>\n",
       "    <tr>\n",
       "      <th>1704813</th>\n",
       "      <td>NaN</td>\n",
       "      <td>200.00</td>\n",
       "      <td>Unknown</td>\n",
       "      <td>Ford</td>\n",
       "      <td>FORD</td>\n",
       "      <td>2022-08-08</td>\n",
       "      <td>2021-12-18 06:00:03</td>\n",
       "      <td>2013</td>\n",
       "      <td>132866.00</td>\n",
       "      <td>140086.00</td>\n",
       "    </tr>\n",
       "    <tr>\n",
       "      <th>10517827</th>\n",
       "      <td>NaN</td>\n",
       "      <td>500.00</td>\n",
       "      <td>No</td>\n",
       "      <td>Toyota</td>\n",
       "      <td>TOYOTA MOTOR CO</td>\n",
       "      <td>2022-06-13</td>\n",
       "      <td>2022-04-28 23:22:12</td>\n",
       "      <td>2007</td>\n",
       "      <td>146041.00</td>\n",
       "      <td>146200.00</td>\n",
       "    </tr>\n",
       "    <tr>\n",
       "      <th>9607332</th>\n",
       "      <td>NaN</td>\n",
       "      <td>500.00</td>\n",
       "      <td>No</td>\n",
       "      <td>Chevrolet</td>\n",
       "      <td>CHEVROLET</td>\n",
       "      <td>2022-10-18</td>\n",
       "      <td>2021-11-08 09:29:08</td>\n",
       "      <td>2011</td>\n",
       "      <td>116900.00</td>\n",
       "      <td>116958.00</td>\n",
       "    </tr>\n",
       "    <tr>\n",
       "      <th>3793787</th>\n",
       "      <td>NaN</td>\n",
       "      <td>651.96</td>\n",
       "      <td>No</td>\n",
       "      <td>Ford</td>\n",
       "      <td>FORD</td>\n",
       "      <td>2020-05-15</td>\n",
       "      <td>2020-01-17 21:14:26</td>\n",
       "      <td>2013</td>\n",
       "      <td>53001.00</td>\n",
       "      <td>53001.00</td>\n",
       "    </tr>\n",
       "    <tr>\n",
       "      <th>8129094</th>\n",
       "      <td>9995.00</td>\n",
       "      <td>800.00</td>\n",
       "      <td>No</td>\n",
       "      <td>Chrysler</td>\n",
       "      <td>CHRY</td>\n",
       "      <td>2022-05-03</td>\n",
       "      <td>2022-04-26 11:36:09</td>\n",
       "      <td>2015</td>\n",
       "      <td>68559.00</td>\n",
       "      <td>84347.00</td>\n",
       "    </tr>\n",
       "    <tr>\n",
       "      <th>11826717</th>\n",
       "      <td>NaN</td>\n",
       "      <td>150.00</td>\n",
       "      <td>No</td>\n",
       "      <td>Mercedes-Benz</td>\n",
       "      <td>MERCEDES-BENZ</td>\n",
       "      <td>2021-01-22</td>\n",
       "      <td>2020-02-17 08:13:29</td>\n",
       "      <td>2007</td>\n",
       "      <td>102411.00</td>\n",
       "      <td>113119.00</td>\n",
       "    </tr>\n",
       "    <tr>\n",
       "      <th>7165644</th>\n",
       "      <td>12985.00</td>\n",
       "      <td>800.00</td>\n",
       "      <td>No</td>\n",
       "      <td>Jeep</td>\n",
       "      <td>JEEP</td>\n",
       "      <td>2018-11-06</td>\n",
       "      <td>2018-08-28 22:46:16</td>\n",
       "      <td>2011</td>\n",
       "      <td>135000.00</td>\n",
       "      <td>125830.00</td>\n",
       "    </tr>\n",
       "    <tr>\n",
       "      <th>12452177</th>\n",
       "      <td>NaN</td>\n",
       "      <td>785.00</td>\n",
       "      <td>No</td>\n",
       "      <td>Ford</td>\n",
       "      <td>FORD</td>\n",
       "      <td>2019-01-04</td>\n",
       "      <td>2018-09-01 14:49:50</td>\n",
       "      <td>2002</td>\n",
       "      <td>71097.00</td>\n",
       "      <td>71133.00</td>\n",
       "    </tr>\n",
       "    <tr>\n",
       "      <th>10150043</th>\n",
       "      <td>NaN</td>\n",
       "      <td>500.00</td>\n",
       "      <td>No</td>\n",
       "      <td>Kia</td>\n",
       "      <td>kia</td>\n",
       "      <td>2022-12-06</td>\n",
       "      <td>2022-10-14 12:45:06</td>\n",
       "      <td>2009</td>\n",
       "      <td>139446.00</td>\n",
       "      <td>139500.00</td>\n",
       "    </tr>\n",
       "    <tr>\n",
       "      <th>11876205</th>\n",
       "      <td>1199.00</td>\n",
       "      <td>990.00</td>\n",
       "      <td>No</td>\n",
       "      <td>Ford</td>\n",
       "      <td>FORD</td>\n",
       "      <td>2020-07-30</td>\n",
       "      <td>2020-07-30 06:22:35</td>\n",
       "      <td>2005</td>\n",
       "      <td>113063.00</td>\n",
       "      <td>114587.00</td>\n",
       "    </tr>\n",
       "    <tr>\n",
       "      <th>9872019</th>\n",
       "      <td>NaN</td>\n",
       "      <td>650.00</td>\n",
       "      <td>No</td>\n",
       "      <td>Jeep</td>\n",
       "      <td>JEEP</td>\n",
       "      <td>2021-11-19</td>\n",
       "      <td>2021-10-08 12:43:50</td>\n",
       "      <td>2010</td>\n",
       "      <td>144587.00</td>\n",
       "      <td>145545.00</td>\n",
       "    </tr>\n",
       "    <tr>\n",
       "      <th>10080741</th>\n",
       "      <td>NaN</td>\n",
       "      <td>515.00</td>\n",
       "      <td>No</td>\n",
       "      <td>Chevrolet</td>\n",
       "      <td>CHEVROLET</td>\n",
       "      <td>2022-02-12</td>\n",
       "      <td>2021-09-15 15:28:04</td>\n",
       "      <td>2004</td>\n",
       "      <td>NaN</td>\n",
       "      <td>145200.00</td>\n",
       "    </tr>\n",
       "    <tr>\n",
       "      <th>1180937</th>\n",
       "      <td>8499.00</td>\n",
       "      <td>500.00</td>\n",
       "      <td>Unknown</td>\n",
       "      <td>Ford</td>\n",
       "      <td>FORD</td>\n",
       "      <td>2018-03-20</td>\n",
       "      <td>2019-02-08 19:20:43</td>\n",
       "      <td>2011</td>\n",
       "      <td>152212.00</td>\n",
       "      <td>146508.00</td>\n",
       "    </tr>\n",
       "    <tr>\n",
       "      <th>8304831</th>\n",
       "      <td>NaN</td>\n",
       "      <td>100.00</td>\n",
       "      <td>No</td>\n",
       "      <td>Dodge</td>\n",
       "      <td>DODG</td>\n",
       "      <td>2022-11-18</td>\n",
       "      <td>2022-11-07 14:38:53</td>\n",
       "      <td>2014</td>\n",
       "      <td>NaN</td>\n",
       "      <td>130000.00</td>\n",
       "    </tr>\n",
       "    <tr>\n",
       "      <th>9952205</th>\n",
       "      <td>11995.00</td>\n",
       "      <td>800.00</td>\n",
       "      <td>No</td>\n",
       "      <td>Mazda</td>\n",
       "      <td>MAZD</td>\n",
       "      <td>2021-10-05</td>\n",
       "      <td>2021-05-10 00:43:41</td>\n",
       "      <td>2014</td>\n",
       "      <td>123495.00</td>\n",
       "      <td>133000.00</td>\n",
       "    </tr>\n",
       "    <tr>\n",
       "      <th>12208010</th>\n",
       "      <td>1500.00</td>\n",
       "      <td>900.00</td>\n",
       "      <td>No</td>\n",
       "      <td>Ford</td>\n",
       "      <td>FORD</td>\n",
       "      <td>2020-02-07</td>\n",
       "      <td>2020-02-20 00:06:56</td>\n",
       "      <td>2004</td>\n",
       "      <td>96178.00</td>\n",
       "      <td>102515.00</td>\n",
       "    </tr>\n",
       "    <tr>\n",
       "      <th>11478871</th>\n",
       "      <td>NaN</td>\n",
       "      <td>100.00</td>\n",
       "      <td>No</td>\n",
       "      <td>Nissan</td>\n",
       "      <td>NISSAN</td>\n",
       "      <td>2019-11-18</td>\n",
       "      <td>2019-10-11 16:05:09</td>\n",
       "      <td>2002</td>\n",
       "      <td>125985.00</td>\n",
       "      <td>126189.00</td>\n",
       "    </tr>\n",
       "    <tr>\n",
       "      <th>3502295</th>\n",
       "      <td>6939.00</td>\n",
       "      <td>300.00</td>\n",
       "      <td>No</td>\n",
       "      <td>Chevrolet</td>\n",
       "      <td>CHEV</td>\n",
       "      <td>2018-07-18</td>\n",
       "      <td>2017-12-15 17:42:24</td>\n",
       "      <td>2011</td>\n",
       "      <td>76556.00</td>\n",
       "      <td>76999.00</td>\n",
       "    </tr>\n",
       "    <tr>\n",
       "      <th>9375862</th>\n",
       "      <td>5995.00</td>\n",
       "      <td>800.00</td>\n",
       "      <td>No</td>\n",
       "      <td>Kia</td>\n",
       "      <td>kia</td>\n",
       "      <td>2021-07-03</td>\n",
       "      <td>2021-03-04 21:12:10</td>\n",
       "      <td>2013</td>\n",
       "      <td>133975.00</td>\n",
       "      <td>137180.00</td>\n",
       "    </tr>\n",
       "    <tr>\n",
       "      <th>541189</th>\n",
       "      <td>11881.00</td>\n",
       "      <td>400.00</td>\n",
       "      <td>Unknown</td>\n",
       "      <td>Volkswagen</td>\n",
       "      <td>VOLK</td>\n",
       "      <td>2022-01-25</td>\n",
       "      <td>2022-08-16 16:01:00</td>\n",
       "      <td>2015</td>\n",
       "      <td>125053.00</td>\n",
       "      <td>123610.00</td>\n",
       "    </tr>\n",
       "    <tr>\n",
       "      <th>10000543</th>\n",
       "      <td>13500.00</td>\n",
       "      <td>620.00</td>\n",
       "      <td>No</td>\n",
       "      <td>GENERAL MOTORS</td>\n",
       "      <td>GENERAL MOTORS</td>\n",
       "      <td>2021-01-09</td>\n",
       "      <td>2021-01-09 09:04:02</td>\n",
       "      <td>2014</td>\n",
       "      <td>74664.00</td>\n",
       "      <td>74664.00</td>\n",
       "    </tr>\n",
       "    <tr>\n",
       "      <th>11489171</th>\n",
       "      <td>6988.00</td>\n",
       "      <td>300.00</td>\n",
       "      <td>No</td>\n",
       "      <td>Ford</td>\n",
       "      <td>FORD</td>\n",
       "      <td>2020-01-10</td>\n",
       "      <td>2019-07-10 11:15:13</td>\n",
       "      <td>2007</td>\n",
       "      <td>NaN</td>\n",
       "      <td>103558.00</td>\n",
       "    </tr>\n",
       "    <tr>\n",
       "      <th>5420860</th>\n",
       "      <td>16224.00</td>\n",
       "      <td>100.00</td>\n",
       "      <td>No</td>\n",
       "      <td>Honda</td>\n",
       "      <td>HOND</td>\n",
       "      <td>2022-03-08</td>\n",
       "      <td>2021-04-02 05:08:53</td>\n",
       "      <td>2016</td>\n",
       "      <td>61310.00</td>\n",
       "      <td>61350.00</td>\n",
       "    </tr>\n",
       "    <tr>\n",
       "      <th>10972429</th>\n",
       "      <td>8988.00</td>\n",
       "      <td>250.00</td>\n",
       "      <td>No</td>\n",
       "      <td>Honda</td>\n",
       "      <td>HONDA</td>\n",
       "      <td>2019-07-14</td>\n",
       "      <td>2019-07-16 21:56:27</td>\n",
       "      <td>2007</td>\n",
       "      <td>133798.00</td>\n",
       "      <td>133830.00</td>\n",
       "    </tr>\n",
       "    <tr>\n",
       "      <th>11527929</th>\n",
       "      <td>NaN</td>\n",
       "      <td>500.00</td>\n",
       "      <td>No</td>\n",
       "      <td>Dodge</td>\n",
       "      <td>DODGE</td>\n",
       "      <td>2020-05-14</td>\n",
       "      <td>2019-06-21 01:11:43</td>\n",
       "      <td>2005</td>\n",
       "      <td>140681.00</td>\n",
       "      <td>141000.00</td>\n",
       "    </tr>\n",
       "    <tr>\n",
       "      <th>7058532</th>\n",
       "      <td>14958.00</td>\n",
       "      <td>467.00</td>\n",
       "      <td>No</td>\n",
       "      <td>Chevrolet</td>\n",
       "      <td>CHEV</td>\n",
       "      <td>2019-09-03</td>\n",
       "      <td>2018-10-15 13:55:02</td>\n",
       "      <td>2016</td>\n",
       "      <td>43917.00</td>\n",
       "      <td>43900.00</td>\n",
       "    </tr>\n",
       "    <tr>\n",
       "      <th>12108998</th>\n",
       "      <td>NaN</td>\n",
       "      <td>100.00</td>\n",
       "      <td>No</td>\n",
       "      <td>Ford</td>\n",
       "      <td>FORD</td>\n",
       "      <td>2020-09-03</td>\n",
       "      <td>2020-09-02 06:38:57</td>\n",
       "      <td>2007</td>\n",
       "      <td>133990.00</td>\n",
       "      <td>134101.00</td>\n",
       "    </tr>\n",
       "    <tr>\n",
       "      <th>9390904</th>\n",
       "      <td>6522.00</td>\n",
       "      <td>300.00</td>\n",
       "      <td>No</td>\n",
       "      <td>Kia</td>\n",
       "      <td>kia</td>\n",
       "      <td>2021-03-07</td>\n",
       "      <td>2021-01-07 08:47:33</td>\n",
       "      <td>2010</td>\n",
       "      <td>105746.00</td>\n",
       "      <td>106112.00</td>\n",
       "    </tr>\n",
       "    <tr>\n",
       "      <th>9320958</th>\n",
       "      <td>NaN</td>\n",
       "      <td>100.00</td>\n",
       "      <td>No</td>\n",
       "      <td>Dodge</td>\n",
       "      <td>DODGE</td>\n",
       "      <td>2021-10-30</td>\n",
       "      <td>2021-03-18 15:35:32</td>\n",
       "      <td>2009</td>\n",
       "      <td>124889.00</td>\n",
       "      <td>133300.00</td>\n",
       "    </tr>\n",
       "    <tr>\n",
       "      <th>11318215</th>\n",
       "      <td>NaN</td>\n",
       "      <td>600.00</td>\n",
       "      <td>No</td>\n",
       "      <td>Honda</td>\n",
       "      <td>HONDA</td>\n",
       "      <td>2019-11-04</td>\n",
       "      <td>2019-10-23 13:44:22</td>\n",
       "      <td>2003</td>\n",
       "      <td>89033.00</td>\n",
       "      <td>90000.00</td>\n",
       "    </tr>\n",
       "    <tr>\n",
       "      <th>11756392</th>\n",
       "      <td>3795.00</td>\n",
       "      <td>100.00</td>\n",
       "      <td>No</td>\n",
       "      <td>Hyundai</td>\n",
       "      <td>HYUNDAI</td>\n",
       "      <td>2021-03-05</td>\n",
       "      <td>2020-03-19 21:47:35</td>\n",
       "      <td>2007</td>\n",
       "      <td>90196.00</td>\n",
       "      <td>94751.00</td>\n",
       "    </tr>\n",
       "    <tr>\n",
       "      <th>9788241</th>\n",
       "      <td>5995.00</td>\n",
       "      <td>100.00</td>\n",
       "      <td>No</td>\n",
       "      <td>Kia</td>\n",
       "      <td>kia</td>\n",
       "      <td>2021-07-21</td>\n",
       "      <td>2021-02-26 18:45:15</td>\n",
       "      <td>2011</td>\n",
       "      <td>122292.00</td>\n",
       "      <td>123497.00</td>\n",
       "    </tr>\n",
       "    <tr>\n",
       "      <th>11772791</th>\n",
       "      <td>3999.00</td>\n",
       "      <td>800.00</td>\n",
       "      <td>No</td>\n",
       "      <td>Nissan</td>\n",
       "      <td>NISSAN</td>\n",
       "      <td>2020-09-28</td>\n",
       "      <td>2020-05-27 19:24:59</td>\n",
       "      <td>2011</td>\n",
       "      <td>147200.00</td>\n",
       "      <td>147200.00</td>\n",
       "    </tr>\n",
       "    <tr>\n",
       "      <th>9371249</th>\n",
       "      <td>NaN</td>\n",
       "      <td>600.00</td>\n",
       "      <td>No</td>\n",
       "      <td>Dodge</td>\n",
       "      <td>DODGE</td>\n",
       "      <td>2022-03-18</td>\n",
       "      <td>2021-05-18 22:57:36</td>\n",
       "      <td>2006</td>\n",
       "      <td>144489.00</td>\n",
       "      <td>145000.00</td>\n",
       "    </tr>\n",
       "    <tr>\n",
       "      <th>10561787</th>\n",
       "      <td>7992.00</td>\n",
       "      <td>100.00</td>\n",
       "      <td>No</td>\n",
       "      <td>Hyundai</td>\n",
       "      <td>HYUNDAI</td>\n",
       "      <td>2022-07-20</td>\n",
       "      <td>2022-06-16 00:42:52</td>\n",
       "      <td>2012</td>\n",
       "      <td>139942.00</td>\n",
       "      <td>140000.00</td>\n",
       "    </tr>\n",
       "    <tr>\n",
       "      <th>10853369</th>\n",
       "      <td>4800.00</td>\n",
       "      <td>900.00</td>\n",
       "      <td>No</td>\n",
       "      <td>Ford</td>\n",
       "      <td>FORD</td>\n",
       "      <td>2022-09-26</td>\n",
       "      <td>2022-11-22 08:57:46</td>\n",
       "      <td>2011</td>\n",
       "      <td>138000.00</td>\n",
       "      <td>138811.00</td>\n",
       "    </tr>\n",
       "    <tr>\n",
       "      <th>12760859</th>\n",
       "      <td>4200.00</td>\n",
       "      <td>500.00</td>\n",
       "      <td>No</td>\n",
       "      <td>Ford</td>\n",
       "      <td>FORD</td>\n",
       "      <td>2019-05-17</td>\n",
       "      <td>2018-10-23 23:07:38</td>\n",
       "      <td>2005</td>\n",
       "      <td>91119.00</td>\n",
       "      <td>99587.00</td>\n",
       "    </tr>\n",
       "    <tr>\n",
       "      <th>8467899</th>\n",
       "      <td>11995.00</td>\n",
       "      <td>300.00</td>\n",
       "      <td>No</td>\n",
       "      <td>Ford</td>\n",
       "      <td>FORD</td>\n",
       "      <td>2022-07-18</td>\n",
       "      <td>2022-06-26 15:58:37</td>\n",
       "      <td>2014</td>\n",
       "      <td>118476.00</td>\n",
       "      <td>119150.00</td>\n",
       "    </tr>\n",
       "    <tr>\n",
       "      <th>12089478</th>\n",
       "      <td>NaN</td>\n",
       "      <td>600.00</td>\n",
       "      <td>No</td>\n",
       "      <td>Nissan</td>\n",
       "      <td>NISSAN</td>\n",
       "      <td>2020-08-13</td>\n",
       "      <td>2020-04-30 00:55:53</td>\n",
       "      <td>2003</td>\n",
       "      <td>145022.00</td>\n",
       "      <td>145217.00</td>\n",
       "    </tr>\n",
       "    <tr>\n",
       "      <th>11981934</th>\n",
       "      <td>NaN</td>\n",
       "      <td>395.00</td>\n",
       "      <td>No</td>\n",
       "      <td>Ford</td>\n",
       "      <td>FORD</td>\n",
       "      <td>2021-04-24</td>\n",
       "      <td>2020-09-25 03:04:43</td>\n",
       "      <td>2005</td>\n",
       "      <td>85788.00</td>\n",
       "      <td>102343.00</td>\n",
       "    </tr>\n",
       "    <tr>\n",
       "      <th>6271855</th>\n",
       "      <td>8995.00</td>\n",
       "      <td>777.72</td>\n",
       "      <td>No</td>\n",
       "      <td>Ford</td>\n",
       "      <td>FORD</td>\n",
       "      <td>2021-04-13</td>\n",
       "      <td>2021-04-13 17:15:45</td>\n",
       "      <td>2016</td>\n",
       "      <td>48712.00</td>\n",
       "      <td>48712.00</td>\n",
       "    </tr>\n",
       "    <tr>\n",
       "      <th>3568386</th>\n",
       "      <td>NaN</td>\n",
       "      <td>250.00</td>\n",
       "      <td>No</td>\n",
       "      <td>Chevrolet</td>\n",
       "      <td>CHEV</td>\n",
       "      <td>2018-01-30</td>\n",
       "      <td>2017-10-01 13:52:00</td>\n",
       "      <td>2010</td>\n",
       "      <td>88016.00</td>\n",
       "      <td>88860.00</td>\n",
       "    </tr>\n",
       "    <tr>\n",
       "      <th>5974167</th>\n",
       "      <td>NaN</td>\n",
       "      <td>500.00</td>\n",
       "      <td>No</td>\n",
       "      <td>Hyundai</td>\n",
       "      <td>HYUN</td>\n",
       "      <td>2022-09-21</td>\n",
       "      <td>2021-11-13 20:55:12</td>\n",
       "      <td>2013</td>\n",
       "      <td>92348.00</td>\n",
       "      <td>105305.00</td>\n",
       "    </tr>\n",
       "    <tr>\n",
       "      <th>9577951</th>\n",
       "      <td>19995.00</td>\n",
       "      <td>500.00</td>\n",
       "      <td>No</td>\n",
       "      <td>Chrysler</td>\n",
       "      <td>CHRYSLER</td>\n",
       "      <td>2021-09-08</td>\n",
       "      <td>2021-01-15 13:14:55</td>\n",
       "      <td>2007</td>\n",
       "      <td>65022.00</td>\n",
       "      <td>80773.00</td>\n",
       "    </tr>\n",
       "    <tr>\n",
       "      <th>11302615</th>\n",
       "      <td>6995.00</td>\n",
       "      <td>350.00</td>\n",
       "      <td>No</td>\n",
       "      <td>Ford</td>\n",
       "      <td>FORD</td>\n",
       "      <td>2019-08-21</td>\n",
       "      <td>2019-06-23 22:29:17</td>\n",
       "      <td>2005</td>\n",
       "      <td>123880.00</td>\n",
       "      <td>125131.00</td>\n",
       "    </tr>\n",
       "    <tr>\n",
       "      <th>4661588</th>\n",
       "      <td>NaN</td>\n",
       "      <td>500.00</td>\n",
       "      <td>No</td>\n",
       "      <td>Honda</td>\n",
       "      <td>HOND</td>\n",
       "      <td>2021-04-26</td>\n",
       "      <td>2020-10-01 13:11:39</td>\n",
       "      <td>2014</td>\n",
       "      <td>112766.00</td>\n",
       "      <td>124277.00</td>\n",
       "    </tr>\n",
       "    <tr>\n",
       "      <th>11694796</th>\n",
       "      <td>NaN</td>\n",
       "      <td>400.00</td>\n",
       "      <td>No</td>\n",
       "      <td>Ford</td>\n",
       "      <td>FORD</td>\n",
       "      <td>2020-03-06</td>\n",
       "      <td>2020-02-22 12:37:07</td>\n",
       "      <td>2009</td>\n",
       "      <td>129325.00</td>\n",
       "      <td>129325.00</td>\n",
       "    </tr>\n",
       "    <tr>\n",
       "      <th>11831651</th>\n",
       "      <td>4699.00</td>\n",
       "      <td>983.00</td>\n",
       "      <td>No</td>\n",
       "      <td>Chevrolet</td>\n",
       "      <td>CHEVROLET</td>\n",
       "      <td>2021-03-03</td>\n",
       "      <td>2020-12-08 00:17:13</td>\n",
       "      <td>2009</td>\n",
       "      <td>112563.00</td>\n",
       "      <td>112599.00</td>\n",
       "    </tr>\n",
       "    <tr>\n",
       "      <th>12875397</th>\n",
       "      <td>NaN</td>\n",
       "      <td>988.00</td>\n",
       "      <td>No</td>\n",
       "      <td>Chevrolet</td>\n",
       "      <td>CHEVROLET</td>\n",
       "      <td>2019-02-12</td>\n",
       "      <td>2018-11-07 14:48:17</td>\n",
       "      <td>2005</td>\n",
       "      <td>121651.00</td>\n",
       "      <td>121767.00</td>\n",
       "    </tr>\n",
       "    <tr>\n",
       "      <th>10513709</th>\n",
       "      <td>10900.00</td>\n",
       "      <td>800.00</td>\n",
       "      <td>No</td>\n",
       "      <td>Lexus</td>\n",
       "      <td>LEXUS</td>\n",
       "      <td>2022-12-21</td>\n",
       "      <td>2022-10-26 22:02:24</td>\n",
       "      <td>2008</td>\n",
       "      <td>144531.00</td>\n",
       "      <td>147681.00</td>\n",
       "    </tr>\n",
       "    <tr>\n",
       "      <th>2089154</th>\n",
       "      <td>6255.00</td>\n",
       "      <td>550.00</td>\n",
       "      <td>Unknown</td>\n",
       "      <td>Ford</td>\n",
       "      <td>FORD</td>\n",
       "      <td>2021-06-01</td>\n",
       "      <td>2021-03-20 04:00:15</td>\n",
       "      <td>2014</td>\n",
       "      <td>107054.00</td>\n",
       "      <td>108065.00</td>\n",
       "    </tr>\n",
       "    <tr>\n",
       "      <th>10865544</th>\n",
       "      <td>NaN</td>\n",
       "      <td>200.00</td>\n",
       "      <td>No</td>\n",
       "      <td>Hyundai</td>\n",
       "      <td>HYUNDAI</td>\n",
       "      <td>2018-01-06</td>\n",
       "      <td>2017-10-09 04:50:08</td>\n",
       "      <td>2007</td>\n",
       "      <td>121218.00</td>\n",
       "      <td>121300.00</td>\n",
       "    </tr>\n",
       "    <tr>\n",
       "      <th>11510709</th>\n",
       "      <td>7132.00</td>\n",
       "      <td>10.00</td>\n",
       "      <td>No</td>\n",
       "      <td>Ford</td>\n",
       "      <td>FORD</td>\n",
       "      <td>2019-07-02</td>\n",
       "      <td>2019-02-14 00:55:08</td>\n",
       "      <td>2007</td>\n",
       "      <td>127650.00</td>\n",
       "      <td>128375.00</td>\n",
       "    </tr>\n",
       "    <tr>\n",
       "      <th>12487068</th>\n",
       "      <td>NaN</td>\n",
       "      <td>305.00</td>\n",
       "      <td>No</td>\n",
       "      <td>Dodge</td>\n",
       "      <td>DODGE</td>\n",
       "      <td>2019-01-17</td>\n",
       "      <td>2018-11-09 03:09:04</td>\n",
       "      <td>2008</td>\n",
       "      <td>131738.00</td>\n",
       "      <td>131800.00</td>\n",
       "    </tr>\n",
       "    <tr>\n",
       "      <th>11589866</th>\n",
       "      <td>4495.00</td>\n",
       "      <td>100.00</td>\n",
       "      <td>No</td>\n",
       "      <td>Chevrolet</td>\n",
       "      <td>CHEVROLET</td>\n",
       "      <td>2020-08-21</td>\n",
       "      <td>2020-07-01 01:25:45</td>\n",
       "      <td>2012</td>\n",
       "      <td>137356.00</td>\n",
       "      <td>141577.00</td>\n",
       "    </tr>\n",
       "    <tr>\n",
       "      <th>10325005</th>\n",
       "      <td>5900.00</td>\n",
       "      <td>593.46</td>\n",
       "      <td>No</td>\n",
       "      <td>Honda</td>\n",
       "      <td>HONDA</td>\n",
       "      <td>2022-11-21</td>\n",
       "      <td>2022-01-31 18:05:21</td>\n",
       "      <td>2009</td>\n",
       "      <td>81537.00</td>\n",
       "      <td>96890.00</td>\n",
       "    </tr>\n",
       "    <tr>\n",
       "      <th>11735745</th>\n",
       "      <td>32125.00</td>\n",
       "      <td>813.85</td>\n",
       "      <td>No</td>\n",
       "      <td>Honda</td>\n",
       "      <td>HONDA</td>\n",
       "      <td>2021-01-07</td>\n",
       "      <td>2020-11-04 18:41:27</td>\n",
       "      <td>2014</td>\n",
       "      <td>119244.00</td>\n",
       "      <td>119255.00</td>\n",
       "    </tr>\n",
       "    <tr>\n",
       "      <th>10629570</th>\n",
       "      <td>3500.00</td>\n",
       "      <td>600.00</td>\n",
       "      <td>No</td>\n",
       "      <td>Ford</td>\n",
       "      <td>FORD</td>\n",
       "      <td>2022-10-10</td>\n",
       "      <td>2022-08-05 04:54:27</td>\n",
       "      <td>2008</td>\n",
       "      <td>98747.00</td>\n",
       "      <td>107969.00</td>\n",
       "    </tr>\n",
       "    <tr>\n",
       "      <th>11443814</th>\n",
       "      <td>NaN</td>\n",
       "      <td>500.00</td>\n",
       "      <td>No</td>\n",
       "      <td>Chevrolet</td>\n",
       "      <td>CHEVROLET</td>\n",
       "      <td>2019-08-07</td>\n",
       "      <td>2019-03-19 14:17:18</td>\n",
       "      <td>2009</td>\n",
       "      <td>130888.00</td>\n",
       "      <td>130907.00</td>\n",
       "    </tr>\n",
       "    <tr>\n",
       "      <th>8764294</th>\n",
       "      <td>22500.00</td>\n",
       "      <td>500.00</td>\n",
       "      <td>No</td>\n",
       "      <td>Cadillac</td>\n",
       "      <td>CADI</td>\n",
       "      <td>2022-12-06</td>\n",
       "      <td>2022-06-27 23:58:58</td>\n",
       "      <td>2016</td>\n",
       "      <td>91902.00</td>\n",
       "      <td>97168.00</td>\n",
       "    </tr>\n",
       "    <tr>\n",
       "      <th>4450821</th>\n",
       "      <td>9900.00</td>\n",
       "      <td>500.00</td>\n",
       "      <td>No</td>\n",
       "      <td>GENERAL MOTORS</td>\n",
       "      <td>GENERAL MOTORS</td>\n",
       "      <td>2020-04-20</td>\n",
       "      <td>2020-05-27 15:23:54</td>\n",
       "      <td>2013</td>\n",
       "      <td>99431.00</td>\n",
       "      <td>99431.00</td>\n",
       "    </tr>\n",
       "    <tr>\n",
       "      <th>9929145</th>\n",
       "      <td>5586.00</td>\n",
       "      <td>100.00</td>\n",
       "      <td>No</td>\n",
       "      <td>Ford</td>\n",
       "      <td>FORD</td>\n",
       "      <td>2022-03-12</td>\n",
       "      <td>2021-12-20 18:42:57</td>\n",
       "      <td>2005</td>\n",
       "      <td>93014.00</td>\n",
       "      <td>93139.00</td>\n",
       "    </tr>\n",
       "    <tr>\n",
       "      <th>2694572</th>\n",
       "      <td>NaN</td>\n",
       "      <td>500.00</td>\n",
       "      <td>No</td>\n",
       "      <td>Kia</td>\n",
       "      <td>KIA</td>\n",
       "      <td>2019-11-04</td>\n",
       "      <td>2019-01-04 12:44:58</td>\n",
       "      <td>2013</td>\n",
       "      <td>NaN</td>\n",
       "      <td>118755.00</td>\n",
       "    </tr>\n",
       "    <tr>\n",
       "      <th>10374823</th>\n",
       "      <td>NaN</td>\n",
       "      <td>500.00</td>\n",
       "      <td>No</td>\n",
       "      <td>Hyundai</td>\n",
       "      <td>HYUNDAI</td>\n",
       "      <td>2022-03-28</td>\n",
       "      <td>2022-03-07 16:41:35</td>\n",
       "      <td>2010</td>\n",
       "      <td>110948.00</td>\n",
       "      <td>110948.00</td>\n",
       "    </tr>\n",
       "    <tr>\n",
       "      <th>9967446</th>\n",
       "      <td>NaN</td>\n",
       "      <td>500.00</td>\n",
       "      <td>No</td>\n",
       "      <td>Chevrolet</td>\n",
       "      <td>CHEVROLET</td>\n",
       "      <td>2021-06-16</td>\n",
       "      <td>2021-05-03 03:56:35</td>\n",
       "      <td>2008</td>\n",
       "      <td>129988.00</td>\n",
       "      <td>135000.00</td>\n",
       "    </tr>\n",
       "    <tr>\n",
       "      <th>11830776</th>\n",
       "      <td>7971.00</td>\n",
       "      <td>500.00</td>\n",
       "      <td>No</td>\n",
       "      <td>Buick</td>\n",
       "      <td>BUICK</td>\n",
       "      <td>2020-03-09</td>\n",
       "      <td>2020-02-17 21:22:08</td>\n",
       "      <td>2007</td>\n",
       "      <td>83199.00</td>\n",
       "      <td>83278.00</td>\n",
       "    </tr>\n",
       "    <tr>\n",
       "      <th>10354072</th>\n",
       "      <td>26504.00</td>\n",
       "      <td>100.00</td>\n",
       "      <td>No</td>\n",
       "      <td>Honda</td>\n",
       "      <td>HONDA</td>\n",
       "      <td>2022-09-26</td>\n",
       "      <td>2022-06-16 14:59:43</td>\n",
       "      <td>2019</td>\n",
       "      <td>55547.00</td>\n",
       "      <td>60000.00</td>\n",
       "    </tr>\n",
       "    <tr>\n",
       "      <th>11381368</th>\n",
       "      <td>NaN</td>\n",
       "      <td>495.00</td>\n",
       "      <td>No</td>\n",
       "      <td>Dodge</td>\n",
       "      <td>DODGE</td>\n",
       "      <td>2019-10-01</td>\n",
       "      <td>2019-09-26 23:46:22</td>\n",
       "      <td>2008</td>\n",
       "      <td>NaN</td>\n",
       "      <td>144746.00</td>\n",
       "    </tr>\n",
       "    <tr>\n",
       "      <th>11716937</th>\n",
       "      <td>4995.00</td>\n",
       "      <td>100.00</td>\n",
       "      <td>No</td>\n",
       "      <td>Chevrolet</td>\n",
       "      <td>CHEVROLET</td>\n",
       "      <td>2020-08-28</td>\n",
       "      <td>2020-05-22 23:17:18</td>\n",
       "      <td>2012</td>\n",
       "      <td>93440.00</td>\n",
       "      <td>98000.00</td>\n",
       "    </tr>\n",
       "    <tr>\n",
       "      <th>9370713</th>\n",
       "      <td>NaN</td>\n",
       "      <td>200.00</td>\n",
       "      <td>No</td>\n",
       "      <td>Chevrolet</td>\n",
       "      <td>CHEVROLET</td>\n",
       "      <td>2022-03-04</td>\n",
       "      <td>2021-05-10 23:19:33</td>\n",
       "      <td>2012</td>\n",
       "      <td>111464.00</td>\n",
       "      <td>111447.00</td>\n",
       "    </tr>\n",
       "    <tr>\n",
       "      <th>8237015</th>\n",
       "      <td>13990.00</td>\n",
       "      <td>500.00</td>\n",
       "      <td>No</td>\n",
       "      <td>Chevrolet</td>\n",
       "      <td>CHEVROLET</td>\n",
       "      <td>2021-09-24</td>\n",
       "      <td>2022-07-11 17:21:54</td>\n",
       "      <td>2013</td>\n",
       "      <td>69819.00</td>\n",
       "      <td>60431.00</td>\n",
       "    </tr>\n",
       "    <tr>\n",
       "      <th>9629446</th>\n",
       "      <td>5399.00</td>\n",
       "      <td>900.00</td>\n",
       "      <td>No</td>\n",
       "      <td>Hyundai</td>\n",
       "      <td>HYUNDAI</td>\n",
       "      <td>2022-01-10</td>\n",
       "      <td>2021-04-03 09:24:02</td>\n",
       "      <td>2008</td>\n",
       "      <td>101027.00</td>\n",
       "      <td>124393.00</td>\n",
       "    </tr>\n",
       "    <tr>\n",
       "      <th>12760344</th>\n",
       "      <td>3350.00</td>\n",
       "      <td>800.00</td>\n",
       "      <td>No</td>\n",
       "      <td>Nissan</td>\n",
       "      <td>NISSAN</td>\n",
       "      <td>2019-08-09</td>\n",
       "      <td>2018-10-11 07:20:51</td>\n",
       "      <td>2006</td>\n",
       "      <td>106000.00</td>\n",
       "      <td>111771.00</td>\n",
       "    </tr>\n",
       "    <tr>\n",
       "      <th>10687920</th>\n",
       "      <td>13985.00</td>\n",
       "      <td>500.00</td>\n",
       "      <td>No</td>\n",
       "      <td>Ford</td>\n",
       "      <td>FORD</td>\n",
       "      <td>2022-02-26</td>\n",
       "      <td>2022-09-08 17:57:48</td>\n",
       "      <td>2003</td>\n",
       "      <td>107181.00</td>\n",
       "      <td>105130.00</td>\n",
       "    </tr>\n",
       "    <tr>\n",
       "      <th>3153104</th>\n",
       "      <td>5999.00</td>\n",
       "      <td>500.00</td>\n",
       "      <td>No</td>\n",
       "      <td>Mazda</td>\n",
       "      <td>MAZD</td>\n",
       "      <td>2020-06-05</td>\n",
       "      <td>2019-08-25 17:39:56</td>\n",
       "      <td>2013</td>\n",
       "      <td>71556.00</td>\n",
       "      <td>72089.00</td>\n",
       "    </tr>\n",
       "    <tr>\n",
       "      <th>12755791</th>\n",
       "      <td>NaN</td>\n",
       "      <td>500.00</td>\n",
       "      <td>No</td>\n",
       "      <td>Chevrolet</td>\n",
       "      <td>CHEVROLET</td>\n",
       "      <td>2019-04-18</td>\n",
       "      <td>2018-10-05 12:59:51</td>\n",
       "      <td>2007</td>\n",
       "      <td>93308.00</td>\n",
       "      <td>94535.00</td>\n",
       "    </tr>\n",
       "    <tr>\n",
       "      <th>11722081</th>\n",
       "      <td>NaN</td>\n",
       "      <td>500.00</td>\n",
       "      <td>No</td>\n",
       "      <td>Dodge</td>\n",
       "      <td>DODGE</td>\n",
       "      <td>2020-11-06</td>\n",
       "      <td>2020-05-26 13:23:33</td>\n",
       "      <td>2006</td>\n",
       "      <td>132778.00</td>\n",
       "      <td>136976.00</td>\n",
       "    </tr>\n",
       "    <tr>\n",
       "      <th>6477284</th>\n",
       "      <td>NaN</td>\n",
       "      <td>50.00</td>\n",
       "      <td>No</td>\n",
       "      <td>Ford</td>\n",
       "      <td>FORD</td>\n",
       "      <td>2021-02-04</td>\n",
       "      <td>2021-01-19 18:49:02</td>\n",
       "      <td>2012</td>\n",
       "      <td>104175.00</td>\n",
       "      <td>104175.00</td>\n",
       "    </tr>\n",
       "    <tr>\n",
       "      <th>9647749</th>\n",
       "      <td>7500.00</td>\n",
       "      <td>100.00</td>\n",
       "      <td>No</td>\n",
       "      <td>Ford</td>\n",
       "      <td>FORD</td>\n",
       "      <td>2022-05-26</td>\n",
       "      <td>2021-07-04 13:27:28</td>\n",
       "      <td>2010</td>\n",
       "      <td>125189.00</td>\n",
       "      <td>130725.00</td>\n",
       "    </tr>\n",
       "    <tr>\n",
       "      <th>10969780</th>\n",
       "      <td>NaN</td>\n",
       "      <td>220.00</td>\n",
       "      <td>No</td>\n",
       "      <td>Mitsubishi</td>\n",
       "      <td>MITSUBISHI</td>\n",
       "      <td>2019-08-19</td>\n",
       "      <td>2019-08-21 05:35:13</td>\n",
       "      <td>2005</td>\n",
       "      <td>133015.00</td>\n",
       "      <td>133015.00</td>\n",
       "    </tr>\n",
       "    <tr>\n",
       "      <th>563741</th>\n",
       "      <td>8500.00</td>\n",
       "      <td>750.00</td>\n",
       "      <td>Unknown</td>\n",
       "      <td>Chrysler</td>\n",
       "      <td>CHRY</td>\n",
       "      <td>2022-09-16</td>\n",
       "      <td>2022-12-06 03:55:39</td>\n",
       "      <td>2014</td>\n",
       "      <td>107478.00</td>\n",
       "      <td>112175.00</td>\n",
       "    </tr>\n",
       "    <tr>\n",
       "      <th>12107574</th>\n",
       "      <td>NaN</td>\n",
       "      <td>700.00</td>\n",
       "      <td>No</td>\n",
       "      <td>Chevrolet</td>\n",
       "      <td>CHEVROLET</td>\n",
       "      <td>2020-10-06</td>\n",
       "      <td>2020-06-22 17:43:55</td>\n",
       "      <td>2008</td>\n",
       "      <td>142511.00</td>\n",
       "      <td>142520.00</td>\n",
       "    </tr>\n",
       "    <tr>\n",
       "      <th>9846971</th>\n",
       "      <td>NaN</td>\n",
       "      <td>200.00</td>\n",
       "      <td>No</td>\n",
       "      <td>Nissan</td>\n",
       "      <td>NISSAN</td>\n",
       "      <td>2021-05-26</td>\n",
       "      <td>2021-03-02 04:08:54</td>\n",
       "      <td>2008</td>\n",
       "      <td>135218.00</td>\n",
       "      <td>135281.00</td>\n",
       "    </tr>\n",
       "    <tr>\n",
       "      <th>11413770</th>\n",
       "      <td>NaN</td>\n",
       "      <td>200.00</td>\n",
       "      <td>No</td>\n",
       "      <td>Ford</td>\n",
       "      <td>FORD</td>\n",
       "      <td>2019-10-15</td>\n",
       "      <td>2019-08-31 20:23:34</td>\n",
       "      <td>2002</td>\n",
       "      <td>114282.00</td>\n",
       "      <td>114285.00</td>\n",
       "    </tr>\n",
       "    <tr>\n",
       "      <th>9514096</th>\n",
       "      <td>NaN</td>\n",
       "      <td>700.00</td>\n",
       "      <td>No</td>\n",
       "      <td>Chevrolet</td>\n",
       "      <td>CHEVROLET</td>\n",
       "      <td>2021-04-13</td>\n",
       "      <td>2021-04-15 01:05:21</td>\n",
       "      <td>2011</td>\n",
       "      <td>NaN</td>\n",
       "      <td>99394.00</td>\n",
       "    </tr>\n",
       "    <tr>\n",
       "      <th>12054693</th>\n",
       "      <td>3965.00</td>\n",
       "      <td>50.00</td>\n",
       "      <td>No</td>\n",
       "      <td>Toyota</td>\n",
       "      <td>TOYOTA MOTOR CO</td>\n",
       "      <td>2021-06-08</td>\n",
       "      <td>2020-06-27 21:24:30</td>\n",
       "      <td>2005</td>\n",
       "      <td>142906.00</td>\n",
       "      <td>144027.00</td>\n",
       "    </tr>\n",
       "    <tr>\n",
       "      <th>10866253</th>\n",
       "      <td>NaN</td>\n",
       "      <td>300.00</td>\n",
       "      <td>No</td>\n",
       "      <td>Ford</td>\n",
       "      <td>FORD</td>\n",
       "      <td>2018-01-19</td>\n",
       "      <td>2017-11-15 04:56:32</td>\n",
       "      <td>2003</td>\n",
       "      <td>120326.00</td>\n",
       "      <td>120400.00</td>\n",
       "    </tr>\n",
       "    <tr>\n",
       "      <th>12633215</th>\n",
       "      <td>NaN</td>\n",
       "      <td>500.00</td>\n",
       "      <td>No</td>\n",
       "      <td>Nissan</td>\n",
       "      <td>NISSAN</td>\n",
       "      <td>2018-12-10</td>\n",
       "      <td>2018-04-23 02:32:19</td>\n",
       "      <td>2003</td>\n",
       "      <td>0.00</td>\n",
       "      <td>141950.00</td>\n",
       "    </tr>\n",
       "    <tr>\n",
       "      <th>12386707</th>\n",
       "      <td>6000.00</td>\n",
       "      <td>500.00</td>\n",
       "      <td>No</td>\n",
       "      <td>Hyundai</td>\n",
       "      <td>HYUNDAI</td>\n",
       "      <td>2018-10-22</td>\n",
       "      <td>2018-12-04 20:51:05</td>\n",
       "      <td>2007</td>\n",
       "      <td>139483.00</td>\n",
       "      <td>143907.00</td>\n",
       "    </tr>\n",
       "    <tr>\n",
       "      <th>11126358</th>\n",
       "      <td>NaN</td>\n",
       "      <td>500.00</td>\n",
       "      <td>No</td>\n",
       "      <td>Honda</td>\n",
       "      <td>HONDA</td>\n",
       "      <td>2019-06-18</td>\n",
       "      <td>2019-05-14 19:52:21</td>\n",
       "      <td>2002</td>\n",
       "      <td>138167.00</td>\n",
       "      <td>138191.00</td>\n",
       "    </tr>\n",
       "    <tr>\n",
       "      <th>7723523</th>\n",
       "      <td>9999.00</td>\n",
       "      <td>436.60</td>\n",
       "      <td>No</td>\n",
       "      <td>Jeep</td>\n",
       "      <td>JEEP</td>\n",
       "      <td>2022-09-22</td>\n",
       "      <td>2022-09-23 22:06:38</td>\n",
       "      <td>2011</td>\n",
       "      <td>127553.00</td>\n",
       "      <td>127553.00</td>\n",
       "    </tr>\n",
       "    <tr>\n",
       "      <th>9414720</th>\n",
       "      <td>NaN</td>\n",
       "      <td>100.00</td>\n",
       "      <td>No</td>\n",
       "      <td>Ford</td>\n",
       "      <td>FORD</td>\n",
       "      <td>2020-06-10</td>\n",
       "      <td>2021-01-11 06:15:07</td>\n",
       "      <td>2010</td>\n",
       "      <td>125446.00</td>\n",
       "      <td>129322.00</td>\n",
       "    </tr>\n",
       "    <tr>\n",
       "      <th>2638782</th>\n",
       "      <td>NaN</td>\n",
       "      <td>750.00</td>\n",
       "      <td>No</td>\n",
       "      <td>Toyota</td>\n",
       "      <td>TOYT</td>\n",
       "      <td>2019-12-13</td>\n",
       "      <td>2019-11-04 18:23:34</td>\n",
       "      <td>2014</td>\n",
       "      <td>92341.00</td>\n",
       "      <td>92341.00</td>\n",
       "    </tr>\n",
       "    <tr>\n",
       "      <th>12000240</th>\n",
       "      <td>2499.00</td>\n",
       "      <td>500.00</td>\n",
       "      <td>No</td>\n",
       "      <td>Kia</td>\n",
       "      <td>kia</td>\n",
       "      <td>2020-12-06</td>\n",
       "      <td>2020-08-07 15:04:57</td>\n",
       "      <td>2005</td>\n",
       "      <td>107629.00</td>\n",
       "      <td>109426.00</td>\n",
       "    </tr>\n",
       "    <tr>\n",
       "      <th>5203937</th>\n",
       "      <td>7990.00</td>\n",
       "      <td>500.00</td>\n",
       "      <td>Yes</td>\n",
       "      <td>Honda</td>\n",
       "      <td>HOND</td>\n",
       "      <td>2021-07-12</td>\n",
       "      <td>2021-07-15 05:50:21</td>\n",
       "      <td>2012</td>\n",
       "      <td>118254.00</td>\n",
       "      <td>135285.00</td>\n",
       "    </tr>\n",
       "  </tbody>\n",
       "</table>\n",
       "</div>"
      ],
      "text/plain": [
       "            price  mvr_price mvr_salvage            make         mvr_make  \\\n",
       "9811897   6900.00     100.00          No            Ford             FORD   \n",
       "12401470  1995.00     200.00          No         Hyundai          HYUNDAI   \n",
       "12896972 35750.00     575.00          No       Chevrolet        CHEVROLET   \n",
       "7089990       NaN     350.00          No           Buick             BUIC   \n",
       "11228431  3899.00     500.00          No            Jeep             JEEP   \n",
       "1704813       NaN     200.00     Unknown            Ford             FORD   \n",
       "10517827      NaN     500.00          No          Toyota  TOYOTA MOTOR CO   \n",
       "9607332       NaN     500.00          No       Chevrolet        CHEVROLET   \n",
       "3793787       NaN     651.96          No            Ford             FORD   \n",
       "8129094   9995.00     800.00          No        Chrysler             CHRY   \n",
       "11826717      NaN     150.00          No   Mercedes-Benz    MERCEDES-BENZ   \n",
       "7165644  12985.00     800.00          No            Jeep             JEEP   \n",
       "12452177      NaN     785.00          No            Ford             FORD   \n",
       "10150043      NaN     500.00          No             Kia              kia   \n",
       "11876205  1199.00     990.00          No            Ford             FORD   \n",
       "9872019       NaN     650.00          No            Jeep             JEEP   \n",
       "10080741      NaN     515.00          No       Chevrolet        CHEVROLET   \n",
       "1180937   8499.00     500.00     Unknown            Ford             FORD   \n",
       "8304831       NaN     100.00          No           Dodge             DODG   \n",
       "9952205  11995.00     800.00          No           Mazda             MAZD   \n",
       "12208010  1500.00     900.00          No            Ford             FORD   \n",
       "11478871      NaN     100.00          No          Nissan           NISSAN   \n",
       "3502295   6939.00     300.00          No       Chevrolet             CHEV   \n",
       "9375862   5995.00     800.00          No             Kia              kia   \n",
       "541189   11881.00     400.00     Unknown      Volkswagen             VOLK   \n",
       "10000543 13500.00     620.00          No  GENERAL MOTORS  GENERAL MOTORS    \n",
       "11489171  6988.00     300.00          No            Ford             FORD   \n",
       "5420860  16224.00     100.00          No           Honda             HOND   \n",
       "10972429  8988.00     250.00          No           Honda            HONDA   \n",
       "11527929      NaN     500.00          No           Dodge            DODGE   \n",
       "7058532  14958.00     467.00          No       Chevrolet             CHEV   \n",
       "12108998      NaN     100.00          No            Ford             FORD   \n",
       "9390904   6522.00     300.00          No             Kia              kia   \n",
       "9320958       NaN     100.00          No           Dodge            DODGE   \n",
       "11318215      NaN     600.00          No           Honda            HONDA   \n",
       "11756392  3795.00     100.00          No         Hyundai          HYUNDAI   \n",
       "9788241   5995.00     100.00          No             Kia              kia   \n",
       "11772791  3999.00     800.00          No          Nissan           NISSAN   \n",
       "9371249       NaN     600.00          No           Dodge            DODGE   \n",
       "10561787  7992.00     100.00          No         Hyundai          HYUNDAI   \n",
       "10853369  4800.00     900.00          No            Ford             FORD   \n",
       "12760859  4200.00     500.00          No            Ford             FORD   \n",
       "8467899  11995.00     300.00          No            Ford             FORD   \n",
       "12089478      NaN     600.00          No          Nissan           NISSAN   \n",
       "11981934      NaN     395.00          No            Ford             FORD   \n",
       "6271855   8995.00     777.72          No            Ford             FORD   \n",
       "3568386       NaN     250.00          No       Chevrolet             CHEV   \n",
       "5974167       NaN     500.00          No         Hyundai             HYUN   \n",
       "9577951  19995.00     500.00          No        Chrysler         CHRYSLER   \n",
       "11302615  6995.00     350.00          No            Ford             FORD   \n",
       "4661588       NaN     500.00          No           Honda             HOND   \n",
       "11694796      NaN     400.00          No            Ford             FORD   \n",
       "11831651  4699.00     983.00          No       Chevrolet        CHEVROLET   \n",
       "12875397      NaN     988.00          No       Chevrolet        CHEVROLET   \n",
       "10513709 10900.00     800.00          No           Lexus            LEXUS   \n",
       "2089154   6255.00     550.00     Unknown            Ford             FORD   \n",
       "10865544      NaN     200.00          No         Hyundai          HYUNDAI   \n",
       "11510709  7132.00      10.00          No            Ford             FORD   \n",
       "12487068      NaN     305.00          No           Dodge            DODGE   \n",
       "11589866  4495.00     100.00          No       Chevrolet        CHEVROLET   \n",
       "10325005  5900.00     593.46          No           Honda            HONDA   \n",
       "11735745 32125.00     813.85          No           Honda            HONDA   \n",
       "10629570  3500.00     600.00          No            Ford             FORD   \n",
       "11443814      NaN     500.00          No       Chevrolet        CHEVROLET   \n",
       "8764294  22500.00     500.00          No        Cadillac             CADI   \n",
       "4450821   9900.00     500.00          No  GENERAL MOTORS   GENERAL MOTORS   \n",
       "9929145   5586.00     100.00          No            Ford             FORD   \n",
       "2694572       NaN     500.00          No             Kia             KIA    \n",
       "10374823      NaN     500.00          No         Hyundai          HYUNDAI   \n",
       "9967446       NaN     500.00          No       Chevrolet        CHEVROLET   \n",
       "11830776  7971.00     500.00          No           Buick            BUICK   \n",
       "10354072 26504.00     100.00          No           Honda            HONDA   \n",
       "11381368      NaN     495.00          No           Dodge            DODGE   \n",
       "11716937  4995.00     100.00          No       Chevrolet        CHEVROLET   \n",
       "9370713       NaN     200.00          No       Chevrolet        CHEVROLET   \n",
       "8237015  13990.00     500.00          No       Chevrolet        CHEVROLET   \n",
       "9629446   5399.00     900.00          No         Hyundai          HYUNDAI   \n",
       "12760344  3350.00     800.00          No          Nissan           NISSAN   \n",
       "10687920 13985.00     500.00          No            Ford             FORD   \n",
       "3153104   5999.00     500.00          No           Mazda             MAZD   \n",
       "12755791      NaN     500.00          No       Chevrolet        CHEVROLET   \n",
       "11722081      NaN     500.00          No           Dodge            DODGE   \n",
       "6477284       NaN      50.00          No            Ford             FORD   \n",
       "9647749   7500.00     100.00          No            Ford             FORD   \n",
       "10969780      NaN     220.00          No      Mitsubishi       MITSUBISHI   \n",
       "563741    8500.00     750.00     Unknown        Chrysler             CHRY   \n",
       "12107574      NaN     700.00          No       Chevrolet        CHEVROLET   \n",
       "9846971       NaN     200.00          No          Nissan           NISSAN   \n",
       "11413770      NaN     200.00          No            Ford             FORD   \n",
       "9514096       NaN     700.00          No       Chevrolet        CHEVROLET   \n",
       "12054693  3965.00      50.00          No          Toyota  TOYOTA MOTOR CO   \n",
       "10866253      NaN     300.00          No            Ford             FORD   \n",
       "12633215      NaN     500.00          No          Nissan           NISSAN   \n",
       "12386707  6000.00     500.00          No         Hyundai          HYUNDAI   \n",
       "11126358      NaN     500.00          No           Honda            HONDA   \n",
       "7723523   9999.00     436.60          No            Jeep             JEEP   \n",
       "9414720       NaN     100.00          No            Ford             FORD   \n",
       "2638782       NaN     750.00          No          Toyota             TOYT   \n",
       "12000240  2499.00     500.00          No             Kia              kia   \n",
       "5203937   7990.00     500.00         Yes           Honda             HOND   \n",
       "\n",
       "         mvr_purchase_date         status_date  mvr_model_year     miles  \\\n",
       "9811897         2022-01-20 2021-04-23 03:30:32            2005  84863.00   \n",
       "12401470        2019-08-02 2018-12-10 16:42:42            2009 119011.00   \n",
       "12896972        2018-01-31 2018-02-01 16:59:33            2004       NaN   \n",
       "7089990         2019-02-08 2018-03-03 09:52:32            2013 124869.00   \n",
       "11228431        2019-09-10 2019-07-16 01:19:43            2004 140382.00   \n",
       "1704813         2022-08-08 2021-12-18 06:00:03            2013 132866.00   \n",
       "10517827        2022-06-13 2022-04-28 23:22:12            2007 146041.00   \n",
       "9607332         2022-10-18 2021-11-08 09:29:08            2011 116900.00   \n",
       "3793787         2020-05-15 2020-01-17 21:14:26            2013  53001.00   \n",
       "8129094         2022-05-03 2022-04-26 11:36:09            2015  68559.00   \n",
       "11826717        2021-01-22 2020-02-17 08:13:29            2007 102411.00   \n",
       "7165644         2018-11-06 2018-08-28 22:46:16            2011 135000.00   \n",
       "12452177        2019-01-04 2018-09-01 14:49:50            2002  71097.00   \n",
       "10150043        2022-12-06 2022-10-14 12:45:06            2009 139446.00   \n",
       "11876205        2020-07-30 2020-07-30 06:22:35            2005 113063.00   \n",
       "9872019         2021-11-19 2021-10-08 12:43:50            2010 144587.00   \n",
       "10080741        2022-02-12 2021-09-15 15:28:04            2004       NaN   \n",
       "1180937         2018-03-20 2019-02-08 19:20:43            2011 152212.00   \n",
       "8304831         2022-11-18 2022-11-07 14:38:53            2014       NaN   \n",
       "9952205         2021-10-05 2021-05-10 00:43:41            2014 123495.00   \n",
       "12208010        2020-02-07 2020-02-20 00:06:56            2004  96178.00   \n",
       "11478871        2019-11-18 2019-10-11 16:05:09            2002 125985.00   \n",
       "3502295         2018-07-18 2017-12-15 17:42:24            2011  76556.00   \n",
       "9375862         2021-07-03 2021-03-04 21:12:10            2013 133975.00   \n",
       "541189          2022-01-25 2022-08-16 16:01:00            2015 125053.00   \n",
       "10000543        2021-01-09 2021-01-09 09:04:02            2014  74664.00   \n",
       "11489171        2020-01-10 2019-07-10 11:15:13            2007       NaN   \n",
       "5420860         2022-03-08 2021-04-02 05:08:53            2016  61310.00   \n",
       "10972429        2019-07-14 2019-07-16 21:56:27            2007 133798.00   \n",
       "11527929        2020-05-14 2019-06-21 01:11:43            2005 140681.00   \n",
       "7058532         2019-09-03 2018-10-15 13:55:02            2016  43917.00   \n",
       "12108998        2020-09-03 2020-09-02 06:38:57            2007 133990.00   \n",
       "9390904         2021-03-07 2021-01-07 08:47:33            2010 105746.00   \n",
       "9320958         2021-10-30 2021-03-18 15:35:32            2009 124889.00   \n",
       "11318215        2019-11-04 2019-10-23 13:44:22            2003  89033.00   \n",
       "11756392        2021-03-05 2020-03-19 21:47:35            2007  90196.00   \n",
       "9788241         2021-07-21 2021-02-26 18:45:15            2011 122292.00   \n",
       "11772791        2020-09-28 2020-05-27 19:24:59            2011 147200.00   \n",
       "9371249         2022-03-18 2021-05-18 22:57:36            2006 144489.00   \n",
       "10561787        2022-07-20 2022-06-16 00:42:52            2012 139942.00   \n",
       "10853369        2022-09-26 2022-11-22 08:57:46            2011 138000.00   \n",
       "12760859        2019-05-17 2018-10-23 23:07:38            2005  91119.00   \n",
       "8467899         2022-07-18 2022-06-26 15:58:37            2014 118476.00   \n",
       "12089478        2020-08-13 2020-04-30 00:55:53            2003 145022.00   \n",
       "11981934        2021-04-24 2020-09-25 03:04:43            2005  85788.00   \n",
       "6271855         2021-04-13 2021-04-13 17:15:45            2016  48712.00   \n",
       "3568386         2018-01-30 2017-10-01 13:52:00            2010  88016.00   \n",
       "5974167         2022-09-21 2021-11-13 20:55:12            2013  92348.00   \n",
       "9577951         2021-09-08 2021-01-15 13:14:55            2007  65022.00   \n",
       "11302615        2019-08-21 2019-06-23 22:29:17            2005 123880.00   \n",
       "4661588         2021-04-26 2020-10-01 13:11:39            2014 112766.00   \n",
       "11694796        2020-03-06 2020-02-22 12:37:07            2009 129325.00   \n",
       "11831651        2021-03-03 2020-12-08 00:17:13            2009 112563.00   \n",
       "12875397        2019-02-12 2018-11-07 14:48:17            2005 121651.00   \n",
       "10513709        2022-12-21 2022-10-26 22:02:24            2008 144531.00   \n",
       "2089154         2021-06-01 2021-03-20 04:00:15            2014 107054.00   \n",
       "10865544        2018-01-06 2017-10-09 04:50:08            2007 121218.00   \n",
       "11510709        2019-07-02 2019-02-14 00:55:08            2007 127650.00   \n",
       "12487068        2019-01-17 2018-11-09 03:09:04            2008 131738.00   \n",
       "11589866        2020-08-21 2020-07-01 01:25:45            2012 137356.00   \n",
       "10325005        2022-11-21 2022-01-31 18:05:21            2009  81537.00   \n",
       "11735745        2021-01-07 2020-11-04 18:41:27            2014 119244.00   \n",
       "10629570        2022-10-10 2022-08-05 04:54:27            2008  98747.00   \n",
       "11443814        2019-08-07 2019-03-19 14:17:18            2009 130888.00   \n",
       "8764294         2022-12-06 2022-06-27 23:58:58            2016  91902.00   \n",
       "4450821         2020-04-20 2020-05-27 15:23:54            2013  99431.00   \n",
       "9929145         2022-03-12 2021-12-20 18:42:57            2005  93014.00   \n",
       "2694572         2019-11-04 2019-01-04 12:44:58            2013       NaN   \n",
       "10374823        2022-03-28 2022-03-07 16:41:35            2010 110948.00   \n",
       "9967446         2021-06-16 2021-05-03 03:56:35            2008 129988.00   \n",
       "11830776        2020-03-09 2020-02-17 21:22:08            2007  83199.00   \n",
       "10354072        2022-09-26 2022-06-16 14:59:43            2019  55547.00   \n",
       "11381368        2019-10-01 2019-09-26 23:46:22            2008       NaN   \n",
       "11716937        2020-08-28 2020-05-22 23:17:18            2012  93440.00   \n",
       "9370713         2022-03-04 2021-05-10 23:19:33            2012 111464.00   \n",
       "8237015         2021-09-24 2022-07-11 17:21:54            2013  69819.00   \n",
       "9629446         2022-01-10 2021-04-03 09:24:02            2008 101027.00   \n",
       "12760344        2019-08-09 2018-10-11 07:20:51            2006 106000.00   \n",
       "10687920        2022-02-26 2022-09-08 17:57:48            2003 107181.00   \n",
       "3153104         2020-06-05 2019-08-25 17:39:56            2013  71556.00   \n",
       "12755791        2019-04-18 2018-10-05 12:59:51            2007  93308.00   \n",
       "11722081        2020-11-06 2020-05-26 13:23:33            2006 132778.00   \n",
       "6477284         2021-02-04 2021-01-19 18:49:02            2012 104175.00   \n",
       "9647749         2022-05-26 2021-07-04 13:27:28            2010 125189.00   \n",
       "10969780        2019-08-19 2019-08-21 05:35:13            2005 133015.00   \n",
       "563741          2022-09-16 2022-12-06 03:55:39            2014 107478.00   \n",
       "12107574        2020-10-06 2020-06-22 17:43:55            2008 142511.00   \n",
       "9846971         2021-05-26 2021-03-02 04:08:54            2008 135218.00   \n",
       "11413770        2019-10-15 2019-08-31 20:23:34            2002 114282.00   \n",
       "9514096         2021-04-13 2021-04-15 01:05:21            2011       NaN   \n",
       "12054693        2021-06-08 2020-06-27 21:24:30            2005 142906.00   \n",
       "10866253        2018-01-19 2017-11-15 04:56:32            2003 120326.00   \n",
       "12633215        2018-12-10 2018-04-23 02:32:19            2003      0.00   \n",
       "12386707        2018-10-22 2018-12-04 20:51:05            2007 139483.00   \n",
       "11126358        2019-06-18 2019-05-14 19:52:21            2002 138167.00   \n",
       "7723523         2022-09-22 2022-09-23 22:06:38            2011 127553.00   \n",
       "9414720         2020-06-10 2021-01-11 06:15:07            2010 125446.00   \n",
       "2638782         2019-12-13 2019-11-04 18:23:34            2014  92341.00   \n",
       "12000240        2020-12-06 2020-08-07 15:04:57            2005 107629.00   \n",
       "5203937         2021-07-12 2021-07-15 05:50:21            2012 118254.00   \n",
       "\n",
       "          mvr_mileage  \n",
       "9811897      86500.00  \n",
       "12401470    123470.00  \n",
       "12896972    104492.00  \n",
       "7089990     136426.00  \n",
       "11228431    143423.00  \n",
       "1704813     140086.00  \n",
       "10517827    146200.00  \n",
       "9607332     116958.00  \n",
       "3793787      53001.00  \n",
       "8129094      84347.00  \n",
       "11826717    113119.00  \n",
       "7165644     125830.00  \n",
       "12452177     71133.00  \n",
       "10150043    139500.00  \n",
       "11876205    114587.00  \n",
       "9872019     145545.00  \n",
       "10080741    145200.00  \n",
       "1180937     146508.00  \n",
       "8304831     130000.00  \n",
       "9952205     133000.00  \n",
       "12208010    102515.00  \n",
       "11478871    126189.00  \n",
       "3502295      76999.00  \n",
       "9375862     137180.00  \n",
       "541189      123610.00  \n",
       "10000543     74664.00  \n",
       "11489171    103558.00  \n",
       "5420860      61350.00  \n",
       "10972429    133830.00  \n",
       "11527929    141000.00  \n",
       "7058532      43900.00  \n",
       "12108998    134101.00  \n",
       "9390904     106112.00  \n",
       "9320958     133300.00  \n",
       "11318215     90000.00  \n",
       "11756392     94751.00  \n",
       "9788241     123497.00  \n",
       "11772791    147200.00  \n",
       "9371249     145000.00  \n",
       "10561787    140000.00  \n",
       "10853369    138811.00  \n",
       "12760859     99587.00  \n",
       "8467899     119150.00  \n",
       "12089478    145217.00  \n",
       "11981934    102343.00  \n",
       "6271855      48712.00  \n",
       "3568386      88860.00  \n",
       "5974167     105305.00  \n",
       "9577951      80773.00  \n",
       "11302615    125131.00  \n",
       "4661588     124277.00  \n",
       "11694796    129325.00  \n",
       "11831651    112599.00  \n",
       "12875397    121767.00  \n",
       "10513709    147681.00  \n",
       "2089154     108065.00  \n",
       "10865544    121300.00  \n",
       "11510709    128375.00  \n",
       "12487068    131800.00  \n",
       "11589866    141577.00  \n",
       "10325005     96890.00  \n",
       "11735745    119255.00  \n",
       "10629570    107969.00  \n",
       "11443814    130907.00  \n",
       "8764294      97168.00  \n",
       "4450821      99431.00  \n",
       "9929145      93139.00  \n",
       "2694572     118755.00  \n",
       "10374823    110948.00  \n",
       "9967446     135000.00  \n",
       "11830776     83278.00  \n",
       "10354072     60000.00  \n",
       "11381368    144746.00  \n",
       "11716937     98000.00  \n",
       "9370713     111447.00  \n",
       "8237015      60431.00  \n",
       "9629446     124393.00  \n",
       "12760344    111771.00  \n",
       "10687920    105130.00  \n",
       "3153104      72089.00  \n",
       "12755791     94535.00  \n",
       "11722081    136976.00  \n",
       "6477284     104175.00  \n",
       "9647749     130725.00  \n",
       "10969780    133015.00  \n",
       "563741      112175.00  \n",
       "12107574    142520.00  \n",
       "9846971     135281.00  \n",
       "11413770    114285.00  \n",
       "9514096      99394.00  \n",
       "12054693    144027.00  \n",
       "10866253    120400.00  \n",
       "12633215    141950.00  \n",
       "12386707    143907.00  \n",
       "11126358    138191.00  \n",
       "7723523     127553.00  \n",
       "9414720     129322.00  \n",
       "2638782      92341.00  \n",
       "12000240    109426.00  \n",
       "5203937     135285.00  "
      ]
     },
     "execution_count": 75,
     "metadata": {},
     "output_type": "execute_result"
    }
   ],
   "source": [
    "df.loc[df[\"mvr_price\"] < 1000,[\"price\",\"mvr_price\",\"mvr_salvage\",\"make\",\"mvr_make\",\"mvr_purchase_date\",\"status_date\",\"mvr_model_year\",\"miles\",\"mvr_mileage\"]].sort_values(by=\"mvr_price\", ascending=True).sample(100)"
   ]
  },
  {
   "cell_type": "code",
   "execution_count": null,
   "metadata": {},
   "outputs": [],
   "source": [
    "# plot distribution of mvr_price\n",
    "#df[\"mvr_price\"].hist(bins=100)"
   ]
  },
  {
   "cell_type": "markdown",
   "metadata": {},
   "source": [
    "### Investigate Price Distribution for Relevant Subtypes"
   ]
  },
  {
   "cell_type": "code",
   "execution_count": 77,
   "metadata": {},
   "outputs": [],
   "source": [
    "import matplotlib.pyplot as plt"
   ]
  },
  {
   "cell_type": "code",
   "execution_count": 79,
   "metadata": {},
   "outputs": [
    {
     "data": {
      "image/png": "[encoded data removed]",
      "text/plain": [
       "<Figure size 432x288 with 1 Axes>"
      ]
     },
     "metadata": {
      "needs_background": "light"
     },
     "output_type": "display_data"
    }
   ],
   "source": [
    "# by state\n",
    "grouped = df.groupby('mvr_state')\n",
    "for name, group in grouped:\n",
    "    plt.hist(group['mvr_price'], bins=100, alpha=0.5, label=name)\n",
    "plt.show()"
   ]
  },
  {
   "cell_type": "markdown",
   "metadata": {},
   "source": [
    "## Subset Columns"
   ]
  },
  {
   "cell_type": "code",
   "execution_count": 89,
   "metadata": {},
   "outputs": [
    {
     "data": {
      "text/plain": [
       "Index(['vin', 'price', 'miles', 'year', 'make', 'model', 'trim',\n",
       "       'vehicle_type', 'body_type', 'body_subtype', 'drivetrain', 'fuel_type',\n",
       "       'engine_block', 'engine_size', 'transmission', 'doors', 'cylinders',\n",
       "       'city_mpg', 'highway_mpg', 'base_exterior_color', 'base_interior_color',\n",
       "       'is_certified', 'is_transfer', 'scraped_at', 'status_date',\n",
       "       'first_scraped_at', 'city', 'zip', 'latitude', 'longitude',\n",
       "       'dealer_type', 'currency_indicator', 'miles_indicator',\n",
       "       'photo_links_count', 'hvf_standard', 'hvf_optional',\n",
       "       'mvr_purchase_date', 'mvr_price', 'mvr_make', 'mvr_mileage',\n",
       "       'mvr_model_year', 'mvr_odometer_brand', 'mvr_salvage', 'mvr_state',\n",
       "       'age_months', 'make_model_encode', 'make_model_trim_encode'],\n",
       "      dtype='object')"
      ]
     },
     "execution_count": 89,
     "metadata": {},
     "output_type": "execute_result"
    }
   ],
   "source": [
    "df.columns"
   ]
  },
  {
   "cell_type": "code",
   "execution_count": 92,
   "metadata": {},
   "outputs": [],
   "source": [
    "df = df[['mvr_price',\n",
    "       'make', 'model', 'trim', 'mvr_model_year','mvr_mileage','age_months',\n",
    "       'vehicle_type', 'body_type', 'body_subtype', 'drivetrain', 'fuel_type',\n",
    "       'engine_block', 'engine_size', 'transmission', 'doors', 'cylinders',\n",
    "       'city_mpg', 'highway_mpg',\n",
    "       'base_exterior_color', 'base_interior_color',\n",
    "       'is_certified',  \n",
    "       'zip','mvr_state',\n",
    "       'hvf_standard', 'hvf_optional',\n",
    "       'mvr_purchase_date',\n",
    "        'make_model_encode', 'make_model_trim_encode']]"
   ]
  },
  {
   "cell_type": "markdown",
   "metadata": {},
   "source": [
    "## Additional Feature Engineering"
   ]
  },
  {
   "cell_type": "code",
   "execution_count": null,
   "metadata": {},
   "outputs": [],
   "source": [
    "# purchase month\n",
    "df[\"mvr_purchase_month\"] = df[\"mvr_purchase_date\"].dt.month.astype(\"category\")"
   ]
  },
  {
   "cell_type": "code",
   "execution_count": null,
   "metadata": {},
   "outputs": [],
   "source": [
    "# monthly mileage\n",
    "df[\"monthly_mileage\"] = round(df[\"mvr_mileage\"]/df[\"age_months\"],1)"
   ]
  },
  {
   "cell_type": "code",
   "execution_count": null,
   "metadata": {},
   "outputs": [],
   "source": [
    "# epa weights city/highway 55/45\n",
    "df[\"mpg\"] = df[\"city_mpg\"] * 0.55 + df[\"highway_mpg\"] * 0.45\n",
    "df.drop(columns=[\"city_mpg\", \"highway_mpg\"], inplace=True)"
   ]
  },
  {
   "cell_type": "code",
   "execution_count": null,
   "metadata": {},
   "outputs": [],
   "source": [
    "# consolidate fuel types\n",
    "mapping = {\"Lpg / Natural Gas\":\"Natural Gas\"\n",
    "           ,\"Unleaded / Premium Unleaded\":\"Premium Unleaded\"\n",
    "           ,\"E85; Unleaded \":\"E85 / Unleaded\"\n",
    "           ,\"E85 / Unleaded; Premium Unleaded\":\"Premium Unleaded\"\n",
    "           ,\"Compressed Natural Gas; Unleaded\":\"Natural Gas\"\n",
    "           ,\"Unleaded; Unleaded / E85\":\"E85 / Unleaded\"\n",
    "           ,\"E85 / Unleaded; Unleaded / E85 \":\"E85 / Unleaded\"\n",
    "           ,\"Unleaded / Electric\":\"Electric / Unleaded\"\n",
    "           ,\"Compressed Natural Gas / Unleaded\":\"Natural Gas\"\n",
    "           ,\"Premium Unleaded; Unleaded\":\"Premium Unleaded\"\n",
    "           ,\"E85 / Unleaded; Unleaded / Unleaded\":\"E85 / Unleaded\"\n",
    "           ,\"Compressed Natural Gas\":\"Natural Gas\"\n",
    "           ,\"Unleaded / Unleaded\":\"Unleaded\"\n",
    "           ,\"Premium Unleaded / Unleaded\":\"Premium Unleaded\"\n",
    "           ,\"E85 / Unleaded; Unleaded\":\"E85 / Unleaded\"\n",
    "           ,\"Unleaded / E85\":\"E85 / Unleaded\"\n",
    "          }\n",
    "\n",
    "df['fuel_type'] = df['fuel_type'].map(mapping).fillna(df['fuel_type'])"
   ]
  },
  {
   "cell_type": "code",
   "execution_count": null,
   "metadata": {},
   "outputs": [],
   "source": [
    "# zip first five\n",
    "df['zip'] = df['zip'].str[:5]"
   ]
  },
  {
   "cell_type": "markdown",
   "metadata": {},
   "source": [
    "### Local Features"
   ]
  },
  {
   "cell_type": "code",
   "execution_count": 99,
   "metadata": {},
   "outputs": [],
   "source": [
    "from uszipcode import SearchEngine\n",
    "search = SearchEngine(simple_or_comprehensive=SearchEngine.SimpleOrComprehensiveArgEnum.comprehensive) "
   ]
  },
  {
   "cell_type": "code",
   "execution_count": 100,
   "metadata": {},
   "outputs": [],
   "source": [
    "def get_population_density_and_income(zipcode):\n",
    "    result = search.by_zipcode(zipcode)\n",
    "    if result:\n",
    "        return pd.Series([result.population_density\n",
    "                          ,result.median_household_income\n",
    "                          ,result.median_home_value\n",
    "                         ])\n",
    "    else:\n",
    "        return pd.Series([None, None, None])"
   ]
  },
  {
   "cell_type": "code",
   "execution_count": 101,
   "metadata": {},
   "outputs": [],
   "source": [
    "# apply get_population_density_and_income to each value in zip_list\n",
    "zip_list = pd.DataFrame(df['zip'].unique(), columns=['zip'])\n",
    "zip_list[['population_density', 'median_income', 'median_home_value']] = zip_list['zip'].apply(get_population_density_and_income)\n",
    "df = df.merge(zip_list, on='zip', how='left')"
   ]
  },
  {
   "cell_type": "markdown",
   "metadata": {},
   "source": [
    "### Economic"
   ]
  },
  {
   "cell_type": "code",
   "execution_count": 102,
   "metadata": {},
   "outputs": [],
   "source": [
    "df[\"mvr_purchase_yearmonth\"] = df[\"mvr_purchase_date\"].dt.strftime('%Y-%m')"
   ]
  },
  {
   "cell_type": "code",
   "execution_count": 103,
   "metadata": {},
   "outputs": [],
   "source": [
    "# federal reserve economic data (fred)\n",
    "from fredapi import Fred\n",
    "fred = Fred(api_key_file='private/fred_api_key.txt')"
   ]
  },
  {
   "cell_type": "markdown",
   "metadata": {},
   "source": [
    "#### Used Car Price Index"
   ]
  },
  {
   "cell_type": "code",
   "execution_count": 104,
   "metadata": {},
   "outputs": [],
   "source": [
    "# BLS: Used cars and trucks in U.S. city average\n",
    "used_car_price_index = fred.get_series('CUUR0000SETA02')\n",
    "used_car_price_index.name = \"used_car_price_index\"\n",
    "used_car_price_index.index = used_car_price_index.index + pd.DateOffset(months=1) # shift index (have to use last month's index to predict next month's price)\n",
    "used_car_price_index.index = used_car_price_index.index.strftime('%Y-%m')\n",
    "df = df.join(used_car_price_index, on=\"mvr_purchase_yearmonth\", how=\"left\")"
   ]
  },
  {
   "cell_type": "markdown",
   "metadata": {},
   "source": [
    "#### New Car Price Index"
   ]
  },
  {
   "cell_type": "code",
   "execution_count": 105,
   "metadata": {},
   "outputs": [],
   "source": [
    "# BLS: New cars and trucks in U.S. city average\n",
    "new_car_price_index = fred.get_series('CUSR0000SETA01')\n",
    "new_car_price_index.name = \"new_car_price_index\"\n",
    "new_car_price_index.index = new_car_price_index.index + pd.DateOffset(months=1) # shift index (have to use last month's index to predict next month's price)\n",
    "new_car_price_index.index = new_car_price_index.index.strftime('%Y-%m')\n",
    "df = df.join(new_car_price_index, on=\"mvr_purchase_yearmonth\", how=\"left\")"
   ]
  },
  {
   "cell_type": "markdown",
   "metadata": {},
   "source": [
    "#### Gas Prices"
   ]
  },
  {
   "cell_type": "code",
   "execution_count": 106,
   "metadata": {},
   "outputs": [],
   "source": [
    "gas_price_index = fred.get_series('GASREGW')\n",
    "gas_price_index.name = \"gas_price_index\"\n",
    "gas_price_index = gas_price_index.groupby(pd.Grouper(freq='M')).mean().resample('M').mean()\n",
    "gas_price_index.index = gas_price_index.index + pd.DateOffset(months=1) # shift index \n",
    "gas_price_index.index = gas_price_index.index.strftime('%Y-%m')\n",
    "df = df.join(gas_price_index, on=\"mvr_purchase_yearmonth\", how=\"left\")"
   ]
  },
  {
   "cell_type": "markdown",
   "metadata": {},
   "source": [
    "#### Consumer Sentiment"
   ]
  },
  {
   "cell_type": "code",
   "execution_count": 107,
   "metadata": {},
   "outputs": [],
   "source": [
    "consumer_sentiment_index = fred.get_series('UMCSENT')\n",
    "consumer_sentiment_index.name = \"consumer_sentiment_index\"\n",
    "consumer_sentiment_index.index = consumer_sentiment_index.index + pd.DateOffset(months=1) # shift index (have to use last month's index to predict next month's price)\n",
    "consumer_sentiment_index.index = consumer_sentiment_index.index.strftime('%Y-%m')\n",
    "df = df.join(consumer_sentiment_index, on=\"mvr_purchase_yearmonth\", how=\"left\")"
   ]
  },
  {
   "cell_type": "markdown",
   "metadata": {},
   "source": [
    "### \"High Value Features\" Vehicle Options\n",
    "- Optional features will be useful in combination with make/model/trim\n",
    "- Standard+Optional features will be useful in combination with make/model/trim"
   ]
  },
  {
   "cell_type": "code",
   "execution_count": 108,
   "metadata": {},
   "outputs": [],
   "source": [
    "from tqdm import tqdm\n",
    "tqdm.pandas()"
   ]
  },
  {
   "cell_type": "code",
   "execution_count": 109,
   "metadata": {},
   "outputs": [],
   "source": [
    "def make_series(x):\n",
    "    return pd.Series(x, dtype = object)"
   ]
  },
  {
   "cell_type": "markdown",
   "metadata": {},
   "source": [
    "#### Optional"
   ]
  },
  {
   "cell_type": "code",
   "execution_count": 111,
   "metadata": {
    "scrolled": true
   },
   "outputs": [
    {
     "name": "stderr",
     "output_type": "stream",
     "text": [
      "100%|██████████| 6359934/6359934 [29:54<00:00, 3544.70it/s]  \n"
     ]
    },
    {
     "name": "stdout",
     "output_type": "stream",
     "text": [
      "(2371882, 77)\n"
     ]
    }
   ],
   "source": [
    "# produce dummy vars\n",
    "hvf_optional = df[\"hvf_optional\"]\n",
    "hvf_optional_df = pd.get_dummies(hvf_optional.progress_apply(make_series).stack()).groupby(level=0).sum()\n",
    "hvf_optional_df = hvf_optional_df.fillna(0)\n",
    "hvf_optional_df = hvf_optional_df.add_prefix('hvf_opt_')\n",
    "print(hvf_optional_df.shape)"
   ]
  },
  {
   "cell_type": "markdown",
   "metadata": {},
   "source": [
    "#### Optional and Standard"
   ]
  },
  {
   "cell_type": "code",
   "execution_count": 136,
   "metadata": {},
   "outputs": [],
   "source": [
    "# function to append two lists\n",
    "def combine_hvf(row):\n",
    "    if row[\"hvf_optional\"] is None:\n",
    "        row[\"hvf_optional\"] = []\n",
    "    if row[\"hvf_standard\"] is None:\n",
    "        row[\"hvf_standard\"] = []\n",
    "    else:\n",
    "        return list(set(list(row[\"hvf_optional\"]) + list(row[\"hvf_standard\"])))"
   ]
  },
  {
   "cell_type": "code",
   "execution_count": 138,
   "metadata": {},
   "outputs": [
    {
     "name": "stderr",
     "output_type": "stream",
     "text": [
      "100%|██████████| 6359934/6359934 [03:18<00:00, 32046.86it/s]\n"
     ]
    }
   ],
   "source": [
    "# combine unique features across two lists\n",
    "hvf_all = df.progress_apply(combine_hvf, axis=1)"
   ]
  },
  {
   "cell_type": "code",
   "execution_count": 145,
   "metadata": {},
   "outputs": [
    {
     "name": "stderr",
     "output_type": "stream",
     "text": [
      "100%|██████████| 6359934/6359934 [38:07<00:00, 2780.02it/s]  \n"
     ]
    },
    {
     "name": "stdout",
     "output_type": "stream",
     "text": [
      "(2371882, 77)\n"
     ]
    }
   ],
   "source": [
    "# create dummy vars\n",
    "hvf_all_df = pd.get_dummies(hvf_all.progress_apply(make_series).stack()).groupby(level=0).sum()\n",
    "hvf_all_df = hvf_all_df.fillna(0)\n",
    "hvf_all_df = hvf_all_df.add_prefix('hvf_all_')\n",
    "print(hvf_optional_df.shape)"
   ]
  },
  {
   "cell_type": "markdown",
   "metadata": {},
   "source": [
    "#### Flag Records with No Features Data"
   ]
  },
  {
   "cell_type": "code",
   "execution_count": 151,
   "metadata": {},
   "outputs": [],
   "source": [
    "df[\"hvf_opt_missing\"] = 0\n",
    "df.loc[df[\"hvf_optional\"].isna(),\"hvf_opt_missing\"] = 1"
   ]
  },
  {
   "cell_type": "code",
   "execution_count": 152,
   "metadata": {},
   "outputs": [],
   "source": [
    "df[\"hvf_std_missing\"] = 0\n",
    "df.loc[df[\"hvf_standard\"].isna(),\"hvf_std_missing\"] = 1"
   ]
  },
  {
   "cell_type": "code",
   "execution_count": null,
   "metadata": {},
   "outputs": [],
   "source": [
    "#df = df.drop(columns=[\"hvf_optional\",\"hvf_standard\"])"
   ]
  },
  {
   "cell_type": "markdown",
   "metadata": {},
   "source": [
    "## Checkpoint"
   ]
  },
  {
   "cell_type": "code",
   "execution_count": 154,
   "metadata": {},
   "outputs": [],
   "source": [
    "working_dir = \"/data/p_dsi/capstone_projects/shea/working/\"\n",
    "df.to_pickle(working_dir + \"df.pkl\")\n",
    "hvf_all_df.to_pickle(working_dir + \"hvf_all_df.pkl\")\n",
    "hvf_optional_df.to_pickle(working_dir + \"hvf_optional_df.pkl\")"
   ]
  },
  {
   "cell_type": "code",
   "execution_count": null,
   "metadata": {},
   "outputs": [],
   "source": [
    "working_dir = \"/data/p_dsi/capstone_projects/shea/working/\"\n",
    "df = pd.read_pickle(working_dir + \"df.pkl\")\n",
    "hvf_all_df = pd.read_pickle(working_dir + \"hvf_all_df.pkl\")\n",
    "hvf_optional_df = pd.read_pickle(working_dir + \"hvf_optional_df.pkl\")"
   ]
  },
  {
   "cell_type": "markdown",
   "metadata": {},
   "source": [
    "---\n",
    "---\n",
    "---\n",
    "---\n",
    "---\n",
    "---\n",
    "---\n",
    "---\n",
    "---\n",
    "---\n",
    "---\n",
    "---"
   ]
  },
  {
   "cell_type": "markdown",
   "metadata": {},
   "source": [
    "## Restore Checkpoint"
   ]
  },
  {
   "cell_type": "code",
   "execution_count": 1,
   "metadata": {},
   "outputs": [],
   "source": [
    "# resume checkpoint\n",
    "\n",
    "import numpy as np\n",
    "import pandas as pd\n",
    "\n",
    "working_dir = \"/data/p_dsi/capstone_projects/shea/working/\"\n",
    "df = pd.read_pickle(working_dir + \"df.pkl\")\n",
    "hvf_optional_df = pd.read_pickle(working_dir + \"hvf_optional_df.pkl\")\n",
    "hvf_all_df = pd.read_pickle(working_dir + \"hvf_all_df.pkl\")\n",
    "\n",
    "def print_shape(df):\n",
    "    print(f\"Rows: {df.shape[0]:,} \\nColumns: {df.shape[1]:,}\")\n",
    "def print_rows(df):\n",
    "    print(f\"Rows: {df.shape[0]:,}\")"
   ]
  },
  {
   "cell_type": "markdown",
   "metadata": {},
   "source": [
    "## Data Split"
   ]
  },
  {
   "cell_type": "code",
   "execution_count": 2,
   "metadata": {},
   "outputs": [],
   "source": [
    "from sklearn.model_selection import train_test_split, StratifiedShuffleSplit\n",
    "\n",
    "# shuffle dataframe for good measure\n",
    "df = df.sample(frac=1, random_state=42)\n",
    "\n",
    "# create StratifiedShuffleSplit object by make_model_trim column\n",
    "sss = StratifiedShuffleSplit(n_splits=1, test_size=0.3, random_state=42)\n",
    "train_index, temp_index = next(sss.split(df, df['make_model_trim_encode']))\n",
    "\n",
    "# create StratifiedShuffleSplit object by make_model_trim column again\n",
    "df_temp = df.loc[temp_index]\n",
    "sss = StratifiedShuffleSplit(n_splits=1, test_size=0.33, random_state=42)\n",
    "val_index, test_index = next(sss.split(df_temp, df_temp['make_model_trim_encode']))\n",
    "\n",
    "# split dataframe into train, validate, and test sets\n",
    "train = df.loc[train_index]\n",
    "validate = df.loc[temp_index[val_index]]\n",
    "test = df.loc[temp_index[test_index]]\n"
   ]
  },
  {
   "cell_type": "code",
   "execution_count": 3,
   "metadata": {},
   "outputs": [
    {
     "name": "stdout",
     "output_type": "stream",
     "text": [
      "Train\n",
      "Rows: 4,451,953\n",
      "\n",
      "Validate\n",
      "Rows: 1,278,347\n",
      "\n",
      "Test\n",
      "Rows: 629,634\n"
     ]
    }
   ],
   "source": [
    "print(\"Train\")\n",
    "print_rows(train)\n",
    "print(\"\\nValidate\")\n",
    "print_rows(validate)\n",
    "print(\"\\nTest\")\n",
    "print_rows(test)"
   ]
  },
  {
   "cell_type": "markdown",
   "metadata": {},
   "source": [
    "## Windsorize Price"
   ]
  },
  {
   "cell_type": "code",
   "execution_count": 4,
   "metadata": {},
   "outputs": [],
   "source": [
    "# windsorize function\n",
    "#def windsorize(train, column, lower_percentile=0.05, upper_percentile=0.95):\n",
    "#    lower_limit = train[column].quantile(lower_percentile)\n",
    "#    upper_limit = train[column].quantile(upper_percentile)\n",
    "#    train[column] = train[column].clip(lower=lower_limit, upper=upper_limit)\n",
    "#    print(f'{lower_limit} - {upper_limit}')\n",
    "#    return lower_limit, upper_limit\n",
    "\n",
    "# calc and apply to train\n",
    "#lower_limit, upper_limit = windsorize(train, \"mvr_price\", lower_percentile=0, upper_percentile=0.99)\n",
    "\n",
    "# apply to validate, test\n",
    "#validate[\"mvr_price\"] = validate[\"mvr_price\"].clip(lower=lower_limit, upper=upper_limit)\n",
    "#test[\"mvr_price\"] = test[\"mvr_price\"].clip(lower=lower_limit, upper=upper_limit)"
   ]
  },
  {
   "cell_type": "markdown",
   "metadata": {},
   "source": [
    "## Target Encoding"
   ]
  },
  {
   "cell_type": "code",
   "execution_count": 5,
   "metadata": {},
   "outputs": [],
   "source": [
    "import category_encoders as ce"
   ]
  },
  {
   "cell_type": "code",
   "execution_count": 6,
   "metadata": {},
   "outputs": [],
   "source": [
    "# fit encoder for make/model/trim\n",
    "encoder = ce.TargetEncoder(cols=['make_model_trim_encode'])\n",
    "encoder.fit(train, train[\"mvr_price\"])\n",
    "\n",
    "# apply transformation\n",
    "train = encoder.transform(train)\n",
    "validate = encoder.transform(validate)\n",
    "test = encoder.transform(test)"
   ]
  },
  {
   "cell_type": "code",
   "execution_count": 7,
   "metadata": {},
   "outputs": [],
   "source": [
    "# fit encoder for make/model/trim\n",
    "encoder = ce.TargetEncoder(cols=['make_model_encode'])\n",
    "encoder.fit(train, train[\"mvr_price\"])\n",
    "\n",
    "# apply transformation\n",
    "train = encoder.transform(train)\n",
    "validate = encoder.transform(validate)\n",
    "test = encoder.transform(test)"
   ]
  },
  {
   "cell_type": "markdown",
   "metadata": {},
   "source": [
    "## HVF Dimsionality Reduction"
   ]
  },
  {
   "cell_type": "code",
   "execution_count": 8,
   "metadata": {},
   "outputs": [],
   "source": [
    "hvf_optional_df = hvf_optional_df.clip(upper=1)\n",
    "hvf_all_df = hvf_all_df.clip(upper=1)"
   ]
  },
  {
   "cell_type": "code",
   "execution_count": 9,
   "metadata": {},
   "outputs": [],
   "source": [
    "from sklearn.decomposition import PCA\n",
    "\n",
    "def reduce_hvf(df,pca=None,comp_prefix=\"\"):\n",
    "    \n",
    "    # compute pca if not provided\n",
    "    if not pca:\n",
    "        pca = PCA(n_components=9)\n",
    "        pca.fit(df)\n",
    "    \n",
    "    transformed_df = pca.transform(df)\n",
    "    transformed_df = pd.DataFrame(transformed_df, columns=['comp_0','comp_1', 'comp_2'\n",
    "                                                       ,'comp_3','comp_4', 'comp_5'\n",
    "                                                       ,'comp_6','comp_7', 'comp_8'\n",
    "                                                                  ])\n",
    "    transformed_df = transformed_df.add_prefix(comp_prefix)\n",
    "    \n",
    "    transformed_df.index = df.index\n",
    "    print_shape(transformed_df)\n",
    "    return transformed_df,pca"
   ]
  },
  {
   "cell_type": "code",
   "execution_count": 10,
   "metadata": {},
   "outputs": [],
   "source": [
    "train_index = train.index\n",
    "validate_index = validate.index\n",
    "test_index = test.index"
   ]
  },
  {
   "cell_type": "markdown",
   "metadata": {},
   "source": [
    "### Optional"
   ]
  },
  {
   "cell_type": "code",
   "execution_count": 11,
   "metadata": {},
   "outputs": [],
   "source": [
    "hvf_optional_train = hvf_optional_df.loc[hvf_optional_df.index.intersection(train_index),:]\n",
    "hvf_optional_validate = hvf_optional_df.loc[hvf_optional_df.index.intersection(validate_index),:]\n",
    "hvf_optional_test = hvf_optional_df.loc[hvf_optional_df.index.intersection(test_index),:]"
   ]
  },
  {
   "cell_type": "code",
   "execution_count": 12,
   "metadata": {},
   "outputs": [
    {
     "name": "stdout",
     "output_type": "stream",
     "text": [
      "Rows: 1,660,970 \n",
      "Columns: 9\n",
      "Rows: 476,238 \n",
      "Columns: 9\n",
      "Rows: 234,674 \n",
      "Columns: 9\n"
     ]
    }
   ],
   "source": [
    "hvf_optional_train,pca_train = reduce_hvf(hvf_optional_train,None,comp_prefix = \"hvf_opt_\")\n",
    "hvf_optional_validate,_ = reduce_hvf(hvf_optional_validate,pca_train,comp_prefix = \"hvf_opt_\")\n",
    "hvf_optional_test,_ = reduce_hvf(hvf_optional_test,pca_train,comp_prefix = \"hvf_opt_\")"
   ]
  },
  {
   "cell_type": "code",
   "execution_count": 13,
   "metadata": {},
   "outputs": [
    {
     "data": {
      "image/png": "[encoded data removed]",
      "text/plain": [
       "<Figure size 432x288 with 1 Axes>"
      ]
     },
     "metadata": {
      "needs_background": "light"
     },
     "output_type": "display_data"
    }
   ],
   "source": [
    "import matplotlib.pyplot as plt\n",
    "\n",
    "# plot the explained variance for each component\n",
    "plt.plot(np.cumsum(pca_train.explained_variance_ratio_))\n",
    "plt.xlabel('Number of Components')\n",
    "plt.ylabel('Cumulative Explained Variance')\n",
    "plt.title('Explained Variance for Each PCA Component')\n",
    "plt.show()\n"
   ]
  },
  {
   "cell_type": "markdown",
   "metadata": {},
   "source": [
    "### Optional and Standard"
   ]
  },
  {
   "cell_type": "code",
   "execution_count": 14,
   "metadata": {},
   "outputs": [],
   "source": [
    "hvf_all_train = hvf_all_df.loc[hvf_all_df.index.intersection(train_index),:]\n",
    "hvf_all_validate = hvf_all_df.loc[hvf_all_df.index.intersection(validate_index),:]\n",
    "hvf_all_test = hvf_all_df.loc[hvf_all_df.index.intersection(test_index),:]"
   ]
  },
  {
   "cell_type": "code",
   "execution_count": 15,
   "metadata": {},
   "outputs": [
    {
     "name": "stdout",
     "output_type": "stream",
     "text": [
      "Rows: 3,625,850 \n",
      "Columns: 9\n",
      "Rows: 1,040,234 \n",
      "Columns: 9\n",
      "Rows: 512,838 \n",
      "Columns: 9\n"
     ]
    }
   ],
   "source": [
    "hvf_all_train,pca_train = reduce_hvf(hvf_all_train,None,comp_prefix = \"hvf_all_\")\n",
    "hvf_all_validate,_ = reduce_hvf(hvf_all_validate,pca_train,comp_prefix = \"hvf_all_\")\n",
    "hvf_all_test,_ = reduce_hvf(hvf_all_test,pca_train,comp_prefix = \"hvf_all_\")"
   ]
  },
  {
   "cell_type": "markdown",
   "metadata": {},
   "source": [
    "### Merge with DF"
   ]
  },
  {
   "cell_type": "code",
   "execution_count": 16,
   "metadata": {
    "scrolled": true
   },
   "outputs": [],
   "source": [
    "train = train.merge(hvf_optional_train,how='left', left_index=True, right_index=True)\n",
    "validate = validate.merge(hvf_optional_validate,how='left', left_index=True, right_index=True)\n",
    "test = test.merge(hvf_optional_test,how='left', left_index=True, right_index=True)"
   ]
  },
  {
   "cell_type": "code",
   "execution_count": 17,
   "metadata": {},
   "outputs": [],
   "source": [
    "train = train.merge(hvf_all_train,how='left', left_index=True, right_index=True)\n",
    "validate = validate.merge(hvf_all_validate,how='left', left_index=True, right_index=True)\n",
    "test = test.merge(hvf_all_test,how='left', left_index=True, right_index=True)"
   ]
  },
  {
   "cell_type": "code",
   "execution_count": 22,
   "metadata": {},
   "outputs": [],
   "source": [
    "hvf_cols = ['hvf_opt_comp_0', 'hvf_opt_comp_1', 'hvf_opt_comp_2', 'hvf_opt_comp_3',\n",
    "       'hvf_opt_comp_4', 'hvf_opt_comp_5', 'hvf_opt_comp_6', 'hvf_opt_comp_7',\n",
    "       'hvf_opt_comp_8', 'hvf_all_comp_0', 'hvf_all_comp_1', 'hvf_all_comp_2',\n",
    "       'hvf_all_comp_3', 'hvf_all_comp_4', 'hvf_all_comp_5', 'hvf_all_comp_6',\n",
    "       'hvf_all_comp_7', 'hvf_all_comp_8']"
   ]
  },
  {
   "cell_type": "code",
   "execution_count": 27,
   "metadata": {},
   "outputs": [],
   "source": [
    "train[hvf_cols] = train[hvf_cols].fillna(0)\n",
    "validate[hvf_cols] = validate[hvf_cols].fillna(0)\n",
    "test[hvf_cols] = test[hvf_cols].fillna(0)"
   ]
  },
  {
   "cell_type": "code",
   "execution_count": 18,
   "metadata": {},
   "outputs": [
    {
     "name": "stdout",
     "output_type": "stream",
     "text": [
      "Rows: 4,451,953 \n",
      "Columns: 58\n",
      "Rows: 1,278,347 \n",
      "Columns: 58\n",
      "Rows: 629,634 \n",
      "Columns: 58\n"
     ]
    }
   ],
   "source": [
    "print_shape(train)\n",
    "print_shape(validate)\n",
    "print_shape(test)"
   ]
  },
  {
   "cell_type": "markdown",
   "metadata": {},
   "source": [
    "## Missing"
   ]
  },
  {
   "cell_type": "code",
   "execution_count": 19,
   "metadata": {
    "executionInfo": {
     "elapsed": 7,
     "status": "ok",
     "timestamp": 1678124067313,
     "user": {
      "displayName": "Shea Conaway",
      "userId": "06745111064212010073"
     },
     "user_tz": 360
    },
    "id": "ixQpT0D8-xxI"
   },
   "outputs": [],
   "source": [
    "# calculate percent missing for each field in df\n",
    "def percent_missing(df):\n",
    "    mis_val = df.isnull().sum()\n",
    "    mis_val_percent = 100 * df.isnull().sum() / len(df)\n",
    "    mis_val_table = pd.concat([mis_val, mis_val_percent], axis=1)\n",
    "    # Rename the columns\n",
    "    mis_val_table = mis_val_table.rename(\n",
    "        columns={0: \"Missing Values\", 1: \"% of Total Values\"}\n",
    "    )\n",
    "    # Sort the table by percentage of missing descending\n",
    "    mis_val_table = (\n",
    "        mis_val_table[mis_val_table.iloc[:, 1] != 0]\n",
    "        .sort_values(\"% of Total Values\", ascending=False)\n",
    "        .round(1)\n",
    "    )\n",
    "    # Print some summary information\n",
    "    print(f\"{mis_val_table.shape[0]} of {df.shape[1]} columns have missing values\")\n",
    "    # Return the dataframe with missing information\n",
    "    return mis_val_table\n"
   ]
  },
  {
   "cell_type": "code",
   "execution_count": 28,
   "metadata": {
    "scrolled": true
   },
   "outputs": [
    {
     "name": "stdout",
     "output_type": "stream",
     "text": [
      "19 of 58 columns have missing values\n",
      "                     Missing Values  % of Total Values\n",
      "body_subtype                3564345               80.1\n",
      "hvf_optional                2790983               62.7\n",
      "base_interior_color          968139               21.7\n",
      "is_certified                 923956               20.8\n",
      "hvf_standard                 826103               18.6\n",
      "base_exterior_color          338201                7.6\n",
      "engine_block                 266066                6.0\n",
      "cylinders                    266065                6.0\n",
      "engine_size                  264652                5.9\n",
      "mpg                          190857                4.3\n",
      "median_income                 32279                0.7\n",
      "population_density            32279                0.7\n",
      "median_home_value             32279                0.7\n",
      "transmission                   1203                0.0\n",
      "vehicle_type                    545                0.0\n",
      "fuel_type                       399                0.0\n",
      "doors                           398                0.0\n",
      "body_type                       326                0.0\n",
      "zip                              79                0.0\n",
      "19 of 58 columns have missing values\n",
      "                     Missing Values  % of Total Values\n",
      "body_subtype                1023725               80.1\n",
      "hvf_optional                 802109               62.7\n",
      "base_interior_color          278021               21.7\n",
      "is_certified                 265334               20.8\n",
      "hvf_standard                 238113               18.6\n",
      "base_exterior_color           97138                7.6\n",
      "engine_block                  76725                6.0\n",
      "cylinders                     76725                6.0\n",
      "engine_size                   76326                6.0\n",
      "mpg                           54865                4.3\n",
      "median_income                  9214                0.7\n",
      "population_density             9214                0.7\n",
      "median_home_value              9214                0.7\n",
      "transmission                    361                0.0\n",
      "vehicle_type                    174                0.0\n",
      "doors                           128                0.0\n",
      "fuel_type                       128                0.0\n",
      "body_type                       104                0.0\n",
      "zip                              23                0.0\n",
      "19 of 58 columns have missing values\n",
      "                     Missing Values  % of Total Values\n",
      "body_subtype                 504222               80.1\n",
      "hvf_optional                 394960               62.7\n",
      "base_interior_color          137354               21.8\n",
      "is_certified                 130354               20.7\n",
      "hvf_standard                 116796               18.5\n",
      "base_exterior_color           47878                7.6\n",
      "engine_block                  37792                6.0\n",
      "cylinders                     37792                6.0\n",
      "engine_size                   37618                6.0\n",
      "mpg                           27074                4.3\n",
      "median_income                  4375                0.7\n",
      "population_density             4375                0.7\n",
      "median_home_value              4375                0.7\n",
      "transmission                    183                0.0\n",
      "vehicle_type                     98                0.0\n",
      "doors                            67                0.0\n",
      "fuel_type                        67                0.0\n",
      "body_type                        56                0.0\n",
      "zip                               8                0.0\n"
     ]
    }
   ],
   "source": [
    "# check for missing\n",
    "print(percent_missing(train))\n",
    "print(percent_missing(validate))\n",
    "print(percent_missing(test))"
   ]
  },
  {
   "cell_type": "markdown",
   "metadata": {},
   "source": [
    "### Simple Handling"
   ]
  },
  {
   "cell_type": "code",
   "execution_count": 29,
   "metadata": {},
   "outputs": [],
   "source": [
    "# certified\n",
    "train[\"is_certified\"].fillna(0, inplace=True)\n",
    "validate[\"is_certified\"].fillna(0, inplace=True)\n",
    "test[\"is_certified\"].fillna(0, inplace=True)"
   ]
  },
  {
   "cell_type": "code",
   "execution_count": 30,
   "metadata": {},
   "outputs": [],
   "source": [
    "# location info missing\n",
    "train = train[~train[\"zip\"].isna()]\n",
    "validate = validate[~validate[\"zip\"].isna()]\n",
    "test = test[~test[\"zip\"].isna()]"
   ]
  },
  {
   "cell_type": "code",
   "execution_count": 40,
   "metadata": {},
   "outputs": [],
   "source": [
    "# body subtype missing\n",
    "train[\"is_certified\"].fillna(\"None\", inplace=True)\n",
    "validate[\"is_certified\"].fillna(\"None\", inplace=True)\n",
    "test[\"is_certified\"].fillna(\"None\", inplace=True)"
   ]
  },
  {
   "cell_type": "markdown",
   "metadata": {},
   "source": [
    "### Impute Mode for Categoricals"
   ]
  },
  {
   "cell_type": "code",
   "execution_count": 35,
   "metadata": {},
   "outputs": [],
   "source": [
    "# create for grouping\n",
    "train['make_model_trim'] = train['make'] + ' / ' + train['model'] + ' / ' + train['trim']\n",
    "validate['make_model_trim'] = validate['make'] + ' / ' + validate['model'] + ' / ' + validate['trim']\n",
    "test['make_model_trim'] = test['make'] + ' / ' + test['model'] + ' / ' + test['trim']"
   ]
  },
  {
   "cell_type": "code",
   "execution_count": 34,
   "metadata": {},
   "outputs": [],
   "source": [
    "# categoricals\n",
    "categoricals = [\"base_interior_color\",\"base_exterior_color\",\"engine_block\"\n",
    "                ,\"transmission\",\"vehicle_type\",\"fuel_type\",\"body_type\"\n",
    "                ,\"drivetrain\"]\n",
    "group = 'make_model_trim'\n",
    "for cat in categoricals:\n",
    "    train[cat] = train.groupby(group)[cat].transform(lambda x: x.fillna(x.mode().iloc[0] if len(x.mode()) > 0 else 'Unknown'))\n",
    "    validate[cat] = validate[group].map(train.groupby(group)[cat].apply(lambda x: x.mode()[0]))\n",
    "    test[cat] = test[group].map(train.groupby(group)[cat].apply(lambda x: x.mode()[0]))"
   ]
  },
  {
   "cell_type": "markdown",
   "metadata": {},
   "source": [
    "### Impute Median for Numerics"
   ]
  },
  {
   "cell_type": "code",
   "execution_count": 36,
   "metadata": {},
   "outputs": [],
   "source": [
    "# numerics\n",
    "numerics = [\"cylinders\",\"engine_size\",\"mpg\",\"doors\"]\n",
    "groups = [\"make_model_trim\",\"engine_size\",\"cylinders\",\"body_type\"]\n",
    "for group in groups:\n",
    "    for num in numerics:\n",
    "        train[num] = train.groupby(group)[num].transform(lambda x: x.fillna(x.median()))\n",
    "        validate[num] = validate[group].map(train.groupby(group)[num].median())\n",
    "        test[num] = test[group].map(train.groupby(group)[num].median())"
   ]
  },
  {
   "cell_type": "code",
   "execution_count": 37,
   "metadata": {},
   "outputs": [],
   "source": [
    "# remove grouping\n",
    "train = train.drop(columns='make_model_trim')\n",
    "validate = validate.drop(columns='make_model_trim')\n",
    "test = test.drop(columns='make_model_trim')"
   ]
  },
  {
   "cell_type": "markdown",
   "metadata": {},
   "source": [
    "### Impute Median for Zip Features"
   ]
  },
  {
   "cell_type": "code",
   "execution_count": 38,
   "metadata": {},
   "outputs": [],
   "source": [
    "from sklearn.impute import SimpleImputer\n",
    "\n",
    "# fit a median imputer on train\n",
    "imputer = SimpleImputer(strategy='median')\n",
    "imputer.fit(train[['population_density', 'median_income', 'median_home_value']])\n",
    "\n",
    "# apply the median impute\n",
    "train[['population_density', 'median_income', 'median_home_value']] = imputer.transform(train[['population_density', 'median_income', 'median_home_value']])\n",
    "validate[['population_density', 'median_income', 'median_home_value']] = imputer.transform(validate[['population_density', 'median_income', 'median_home_value']])\n",
    "test[['population_density', 'median_income', 'median_home_value']] = imputer.transform(test[['population_density', 'median_income', 'median_home_value']])\n"
   ]
  },
  {
   "cell_type": "code",
   "execution_count": 39,
   "metadata": {
    "scrolled": true
   },
   "outputs": [
    {
     "name": "stdout",
     "output_type": "stream",
     "text": [
      "3 of 58 columns have missing values\n",
      "              Missing Values  % of Total Values\n",
      "body_subtype         3564280               80.1\n",
      "hvf_optional         2790929               62.7\n",
      "hvf_standard          826079               18.6\n",
      "3 of 58 columns have missing values\n",
      "              Missing Values  % of Total Values\n",
      "body_subtype         1023707               80.1\n",
      "hvf_optional          802093               62.7\n",
      "hvf_standard          238110               18.6\n",
      "3 of 58 columns have missing values\n",
      "              Missing Values  % of Total Values\n",
      "body_subtype          504216               80.1\n",
      "hvf_optional          394953               62.7\n",
      "hvf_standard          116792               18.5\n"
     ]
    }
   ],
   "source": [
    "# check for missing\n",
    "print(percent_missing(train))\n",
    "print(percent_missing(validate))\n",
    "print(percent_missing(test))"
   ]
  },
  {
   "cell_type": "markdown",
   "metadata": {},
   "source": [
    "## EDA"
   ]
  },
  {
   "cell_type": "code",
   "execution_count": 41,
   "metadata": {},
   "outputs": [
    {
     "data": {
      "text/plain": [
       "Index(['mvr_price', 'make', 'model', 'trim', 'mvr_model_year', 'mvr_mileage',\n",
       "       'age_months', 'vehicle_type', 'body_type', 'body_subtype', 'drivetrain',\n",
       "       'fuel_type', 'engine_block', 'engine_size', 'transmission', 'doors',\n",
       "       'cylinders', 'base_exterior_color', 'base_interior_color',\n",
       "       'is_certified', 'zip', 'mvr_state', 'hvf_standard', 'hvf_optional',\n",
       "       'mvr_purchase_date', 'make_model_encode', 'make_model_trim_encode',\n",
       "       'mvr_purchase_month', 'monthly_mileage', 'mpg', 'population_density',\n",
       "       'median_income', 'median_home_value', 'mvr_purchase_yearmonth',\n",
       "       'used_car_price_index', 'new_car_price_index', 'gas_price_index',\n",
       "       'consumer_sentiment_index', 'hvf_opt_missing', 'hvf_std_missing',\n",
       "       'hvf_opt_comp_0', 'hvf_opt_comp_1', 'hvf_opt_comp_2', 'hvf_opt_comp_3',\n",
       "       'hvf_opt_comp_4', 'hvf_opt_comp_5', 'hvf_opt_comp_6', 'hvf_opt_comp_7',\n",
       "       'hvf_opt_comp_8', 'hvf_all_comp_0', 'hvf_all_comp_1', 'hvf_all_comp_2',\n",
       "       'hvf_all_comp_3', 'hvf_all_comp_4', 'hvf_all_comp_5', 'hvf_all_comp_6',\n",
       "       'hvf_all_comp_7', 'hvf_all_comp_8'],\n",
       "      dtype='object')"
      ]
     },
     "execution_count": 41,
     "metadata": {},
     "output_type": "execute_result"
    }
   ],
   "source": [
    "train.columns"
   ]
  },
  {
   "cell_type": "code",
   "execution_count": 49,
   "metadata": {},
   "outputs": [
    {
     "data": {
      "text/plain": [
       "mvr_price                   1.000000\n",
       "make_model_trim_encode      0.815970\n",
       "make_model_encode           0.723281\n",
       "mvr_model_year              0.554421\n",
       "hvf_all_comp_0              0.544098\n",
       "engine_size                 0.528696\n",
       "cylinders                   0.498184\n",
       "used_car_price_index        0.294117\n",
       "new_car_price_index         0.279147\n",
       "gas_price_index             0.255726\n",
       "hvf_all_comp_2              0.236434\n",
       "hvf_all_comp_6              0.184695\n",
       "hvf_all_comp_5              0.184531\n",
       "hvf_opt_comp_7              0.134540\n",
       "is_certified                0.124132\n",
       "hvf_opt_comp_0              0.120883\n",
       "hvf_all_comp_3              0.092443\n",
       "median_home_value           0.078317\n",
       "median_income               0.077814\n",
       "hvf_all_comp_7              0.057093\n",
       "hvf_opt_comp_5              0.042269\n",
       "hvf_opt_comp_8              0.036862\n",
       "hvf_opt_comp_4              0.011774\n",
       "hvf_all_comp_8              0.001112\n",
       "doors                      -0.005576\n",
       "hvf_opt_comp_3             -0.014476\n",
       "hvf_opt_comp_2             -0.017497\n",
       "hvf_opt_comp_6             -0.031338\n",
       "hvf_opt_comp_1             -0.034112\n",
       "population_density         -0.034293\n",
       "hvf_all_comp_4             -0.101869\n",
       "hvf_all_comp_1             -0.109049\n",
       "hvf_std_missing            -0.131763\n",
       "monthly_mileage            -0.143010\n",
       "consumer_sentiment_index   -0.253483\n",
       "hvf_opt_missing            -0.302566\n",
       "mpg                        -0.338920\n",
       "mvr_mileage                -0.417730\n",
       "age_months                 -0.444139\n",
       "Name: mvr_price, dtype: float64"
      ]
     },
     "execution_count": 49,
     "metadata": {},
     "output_type": "execute_result"
    }
   ],
   "source": [
    "# numerics correlations with target\n",
    "correlations = train.corr(method=\"pearson\", numeric_only=True)[\"mvr_price\"].sort_values(ascending=False)\n",
    "correlations"
   ]
  },
  {
   "cell_type": "code",
   "execution_count": 44,
   "metadata": {
    "scrolled": true
   },
   "outputs": [
    {
     "data": {
      "text/plain": [
       "engine_size       AxesSubplot(0.125,0.125;0.227941x0.755)\n",
       "mvr_mileage    AxesSubplot(0.398529,0.125;0.227941x0.755)\n",
       "age_months     AxesSubplot(0.672059,0.125;0.227941x0.755)\n",
       "dtype: object"
      ]
     },
     "execution_count": 44,
     "metadata": {},
     "output_type": "execute_result"
    },
    {
     "data": {
      "image/png": "[encoded data removed]",
      "text/plain": [
       "<Figure size 432x288 with 3 Axes>"
      ]
     },
     "metadata": {
      "needs_background": "light"
     },
     "output_type": "display_data"
    }
   ],
   "source": [
    "# boxplots of numeric variables\n",
    "train[[\n",
    " 'engine_size',\n",
    " 'mvr_mileage',\n",
    " 'age_months']].plot(kind='box', subplots=True, layout=(1,3), sharex=False, sharey=False)"
   ]
  },
  {
   "cell_type": "code",
   "execution_count": 55,
   "metadata": {
    "scrolled": false
   },
   "outputs": [
    {
     "data": {
      "image/png": "[encoded data removed]",
      "text/plain": [
       "<Figure size 864x648 with 2 Axes>"
      ]
     },
     "metadata": {
      "needs_background": "light"
     },
     "output_type": "display_data"
    }
   ],
   "source": [
    "import seaborn as sns\n",
    "import matplotlib.pyplot as plt\n",
    "\n",
    "corr_graph = ['mvr_price',\n",
    " 'engine_size',\n",
    " 'cylinders',\n",
    " 'used_car_price_index',\n",
    " 'new_car_price_index',\n",
    " 'gas_price_index',\n",
    " 'consumer_sentiment_index',\n",
    " 'mpg',\n",
    " 'mvr_mileage',\n",
    " 'age_months']\n",
    "\n",
    "corr_matrix = train[corr_graph].corr(numeric_only=True)\n",
    "\n",
    "mask = np.triu(np.ones_like(corr_matrix, dtype=bool))\n",
    "\n",
    "plt.figure(figsize=(12, 9))\n",
    "\n",
    "sns.heatmap(\n",
    "    corr_matrix,\n",
    "    mask=mask,        # Mask the upper triangle of the correlation matrix\n",
    "    annot=True,       # Display the correlation coefficients\n",
    "    fmt=\".2f\",        # Format the correlation coefficients to 2 decimal places\n",
    "    cmap=\"coolwarm\",  # Choose a color palette for the heatmap\n",
    "    vmin=-1,          # Set the minimum value for the color scale\n",
    "    vmax=1,           # Set the maximum value for the color scale\n",
    "    linewidths=.5,    # Add a small space between the cells for better readability\n",
    ")\n",
    "\n",
    "# Display the heatmap\n",
    "plt.show()\n"
   ]
  },
  {
   "cell_type": "markdown",
   "metadata": {},
   "source": [
    "## Pre-Modeling EDA"
   ]
  },
  {
   "cell_type": "code",
   "execution_count": 57,
   "metadata": {
    "id": "2SaKVWtQ-xxX",
    "outputId": "0d6662bd-cb04-4c97-c485-3a64e57a0bca"
   },
   "outputs": [
    {
     "name": "stdout",
     "output_type": "stream",
     "text": [
      "Rows: 4,451,874 \n",
      "Columns: 58\n"
     ]
    },
    {
     "data": {
      "text/html": [
       "<div>\n",
       "<style scoped>\n",
       "    .dataframe tbody tr th:only-of-type {\n",
       "        vertical-align: middle;\n",
       "    }\n",
       "\n",
       "    .dataframe tbody tr th {\n",
       "        vertical-align: top;\n",
       "    }\n",
       "\n",
       "    .dataframe thead th {\n",
       "        text-align: right;\n",
       "    }\n",
       "</style>\n",
       "<table border=\"1\" class=\"dataframe\">\n",
       "  <thead>\n",
       "    <tr style=\"text-align: right;\">\n",
       "      <th></th>\n",
       "      <th>5423727</th>\n",
       "      <th>5461848</th>\n",
       "      <th>4091100</th>\n",
       "      <th>3845265</th>\n",
       "      <th>1650204</th>\n",
       "    </tr>\n",
       "  </thead>\n",
       "  <tbody>\n",
       "    <tr>\n",
       "      <th>mvr_price</th>\n",
       "      <td>30250.0</td>\n",
       "      <td>21291.0</td>\n",
       "      <td>63793.0</td>\n",
       "      <td>28498.410156</td>\n",
       "      <td>14900.44043</td>\n",
       "    </tr>\n",
       "    <tr>\n",
       "      <th>make</th>\n",
       "      <td>Ford</td>\n",
       "      <td>Nissan</td>\n",
       "      <td>Ford</td>\n",
       "      <td>Mercedes-Benz</td>\n",
       "      <td>Ford</td>\n",
       "    </tr>\n",
       "    <tr>\n",
       "      <th>model</th>\n",
       "      <td>Explorer</td>\n",
       "      <td>Rogue</td>\n",
       "      <td>F-150</td>\n",
       "      <td>GLC</td>\n",
       "      <td>Mustang</td>\n",
       "    </tr>\n",
       "    <tr>\n",
       "      <th>trim</th>\n",
       "      <td>Sport</td>\n",
       "      <td>SL</td>\n",
       "      <td>XLT</td>\n",
       "      <td>GLC300</td>\n",
       "      <td>EcoBoost</td>\n",
       "    </tr>\n",
       "    <tr>\n",
       "      <th>mvr_model_year</th>\n",
       "      <td>2016</td>\n",
       "      <td>2016</td>\n",
       "      <td>2021</td>\n",
       "      <td>2016</td>\n",
       "      <td>2019</td>\n",
       "    </tr>\n",
       "    <tr>\n",
       "      <th>mvr_mileage</th>\n",
       "      <td>43045.0</td>\n",
       "      <td>28738.0</td>\n",
       "      <td>15972.0</td>\n",
       "      <td>47422.0</td>\n",
       "      <td>17681.0</td>\n",
       "    </tr>\n",
       "    <tr>\n",
       "      <th>age_months</th>\n",
       "      <td>47</td>\n",
       "      <td>44</td>\n",
       "      <td>29</td>\n",
       "      <td>81</td>\n",
       "      <td>54</td>\n",
       "    </tr>\n",
       "    <tr>\n",
       "      <th>vehicle_type</th>\n",
       "      <td>Truck</td>\n",
       "      <td>Truck</td>\n",
       "      <td>Truck</td>\n",
       "      <td>Truck</td>\n",
       "      <td>Car</td>\n",
       "    </tr>\n",
       "    <tr>\n",
       "      <th>body_type</th>\n",
       "      <td>SUV</td>\n",
       "      <td>SUV</td>\n",
       "      <td>Pickup</td>\n",
       "      <td>SUV</td>\n",
       "      <td>Coupe</td>\n",
       "    </tr>\n",
       "    <tr>\n",
       "      <th>body_subtype</th>\n",
       "      <td>None</td>\n",
       "      <td>None</td>\n",
       "      <td>Crew</td>\n",
       "      <td>None</td>\n",
       "      <td>None</td>\n",
       "    </tr>\n",
       "    <tr>\n",
       "      <th>drivetrain</th>\n",
       "      <td>4WD</td>\n",
       "      <td>4WD</td>\n",
       "      <td>4WD</td>\n",
       "      <td>RWD</td>\n",
       "      <td>RWD</td>\n",
       "    </tr>\n",
       "    <tr>\n",
       "      <th>fuel_type</th>\n",
       "      <td>Premium Unleaded</td>\n",
       "      <td>Unleaded</td>\n",
       "      <td>E85</td>\n",
       "      <td>Premium Unleaded</td>\n",
       "      <td>Unleaded</td>\n",
       "    </tr>\n",
       "    <tr>\n",
       "      <th>engine_block</th>\n",
       "      <td>V</td>\n",
       "      <td>I</td>\n",
       "      <td>V</td>\n",
       "      <td>I</td>\n",
       "      <td>I</td>\n",
       "    </tr>\n",
       "    <tr>\n",
       "      <th>engine_size</th>\n",
       "      <td>3.5</td>\n",
       "      <td>2.5</td>\n",
       "      <td>5.0</td>\n",
       "      <td>2.0</td>\n",
       "      <td>2.3</td>\n",
       "    </tr>\n",
       "    <tr>\n",
       "      <th>transmission</th>\n",
       "      <td>Automatic</td>\n",
       "      <td>CVT</td>\n",
       "      <td>Automatic</td>\n",
       "      <td>Automatic</td>\n",
       "      <td>Automatic</td>\n",
       "    </tr>\n",
       "    <tr>\n",
       "      <th>doors</th>\n",
       "      <td>5.0</td>\n",
       "      <td>5.0</td>\n",
       "      <td>4.0</td>\n",
       "      <td>5.0</td>\n",
       "      <td>2.0</td>\n",
       "    </tr>\n",
       "    <tr>\n",
       "      <th>cylinders</th>\n",
       "      <td>6.0</td>\n",
       "      <td>4.0</td>\n",
       "      <td>8.0</td>\n",
       "      <td>4.0</td>\n",
       "      <td>4.0</td>\n",
       "    </tr>\n",
       "    <tr>\n",
       "      <th>base_exterior_color</th>\n",
       "      <td>Black</td>\n",
       "      <td>White</td>\n",
       "      <td>White</td>\n",
       "      <td>White</td>\n",
       "      <td>Black</td>\n",
       "    </tr>\n",
       "    <tr>\n",
       "      <th>base_interior_color</th>\n",
       "      <td>Black</td>\n",
       "      <td>Brown</td>\n",
       "      <td>Black</td>\n",
       "      <td>Brown</td>\n",
       "      <td>Black</td>\n",
       "    </tr>\n",
       "    <tr>\n",
       "      <th>is_certified</th>\n",
       "      <td>0.0</td>\n",
       "      <td>0.0</td>\n",
       "      <td>1.0</td>\n",
       "      <td>0.0</td>\n",
       "      <td>0.0</td>\n",
       "    </tr>\n",
       "    <tr>\n",
       "      <th>zip</th>\n",
       "      <td>45249</td>\n",
       "      <td>43019</td>\n",
       "      <td>43125</td>\n",
       "      <td>78745</td>\n",
       "      <td>75701</td>\n",
       "    </tr>\n",
       "    <tr>\n",
       "      <th>mvr_state</th>\n",
       "      <td>OH</td>\n",
       "      <td>OH</td>\n",
       "      <td>TX</td>\n",
       "      <td>TX</td>\n",
       "      <td>TX</td>\n",
       "    </tr>\n",
       "    <tr>\n",
       "      <th>hvf_standard</th>\n",
       "      <td>[Keyless Entry/Locking, Keyless Start/Remote E...</td>\n",
       "      <td>[Power Closing Doors, Power Closing Liftgate, ...</td>\n",
       "      <td>[Power Closing Doors, Power Closing Liftgate, ...</td>\n",
       "      <td>[Power Closing Doors, Power Closing Liftgate, ...</td>\n",
       "      <td>[Keyless Entry/Locking, Keyless Start/Remote E...</td>\n",
       "    </tr>\n",
       "    <tr>\n",
       "      <th>hvf_optional</th>\n",
       "      <td>[Power Closing Doors, Power Closing Liftgate, ...</td>\n",
       "      <td>None</td>\n",
       "      <td>[Keyless Entry/Locking, Keyless Start/Remote E...</td>\n",
       "      <td>[Blind Spot System, Satellite Radio, Heated Se...</td>\n",
       "      <td>[Automatic Transmission]</td>\n",
       "    </tr>\n",
       "    <tr>\n",
       "      <th>mvr_purchase_date</th>\n",
       "      <td>2019-05-04 00:00:00</td>\n",
       "      <td>2019-02-11 00:00:00</td>\n",
       "      <td>2022-11-14 00:00:00</td>\n",
       "      <td>2022-02-16 00:00:00</td>\n",
       "      <td>2022-12-07 00:00:00</td>\n",
       "    </tr>\n",
       "    <tr>\n",
       "      <th>make_model_encode</th>\n",
       "      <td>26483.96875</td>\n",
       "      <td>19193.917969</td>\n",
       "      <td>31491.146484</td>\n",
       "      <td>36386.679688</td>\n",
       "      <td>25919.037109</td>\n",
       "    </tr>\n",
       "    <tr>\n",
       "      <th>make_model_trim_encode</th>\n",
       "      <td>29406.150391</td>\n",
       "      <td>21552.546875</td>\n",
       "      <td>29583.814453</td>\n",
       "      <td>36386.679688</td>\n",
       "      <td>24408.75</td>\n",
       "    </tr>\n",
       "    <tr>\n",
       "      <th>mvr_purchase_month</th>\n",
       "      <td>5</td>\n",
       "      <td>2</td>\n",
       "      <td>11</td>\n",
       "      <td>2</td>\n",
       "      <td>12</td>\n",
       "    </tr>\n",
       "    <tr>\n",
       "      <th>monthly_mileage</th>\n",
       "      <td>915.9</td>\n",
       "      <td>653.1</td>\n",
       "      <td>550.8</td>\n",
       "      <td>585.5</td>\n",
       "      <td>327.4</td>\n",
       "    </tr>\n",
       "    <tr>\n",
       "      <th>mpg</th>\n",
       "      <td>18.7</td>\n",
       "      <td>28.15</td>\n",
       "      <td>25.35</td>\n",
       "      <td>24.7</td>\n",
       "      <td>25.5</td>\n",
       "    </tr>\n",
       "    <tr>\n",
       "      <th>population_density</th>\n",
       "      <td>1983.0</td>\n",
       "      <td>82.0</td>\n",
       "      <td>387.0</td>\n",
       "      <td>4166.0</td>\n",
       "      <td>2187.0</td>\n",
       "    </tr>\n",
       "    <tr>\n",
       "      <th>median_income</th>\n",
       "      <td>77346.0</td>\n",
       "      <td>60690.0</td>\n",
       "      <td>54850.0</td>\n",
       "      <td>50672.0</td>\n",
       "      <td>42627.0</td>\n",
       "    </tr>\n",
       "    <tr>\n",
       "      <th>median_home_value</th>\n",
       "      <td>287900.0</td>\n",
       "      <td>133800.0</td>\n",
       "      <td>131100.0</td>\n",
       "      <td>170200.0</td>\n",
       "      <td>114600.0</td>\n",
       "    </tr>\n",
       "    <tr>\n",
       "      <th>mvr_purchase_yearmonth</th>\n",
       "      <td>2019-05</td>\n",
       "      <td>2019-02</td>\n",
       "      <td>2022-11</td>\n",
       "      <td>2022-02</td>\n",
       "      <td>2022-12</td>\n",
       "    </tr>\n",
       "    <tr>\n",
       "      <th>used_car_price_index</th>\n",
       "      <td>140.458</td>\n",
       "      <td>138.8</td>\n",
       "      <td>199.176</td>\n",
       "      <td>210.293</td>\n",
       "      <td>193.53</td>\n",
       "    </tr>\n",
       "    <tr>\n",
       "      <th>new_car_price_index</th>\n",
       "      <td>147.788</td>\n",
       "      <td>147.849</td>\n",
       "      <td>175.981</td>\n",
       "      <td>168.48</td>\n",
       "      <td>176.805</td>\n",
       "    </tr>\n",
       "    <tr>\n",
       "      <th>gas_price_index</th>\n",
       "      <td>2.7984</td>\n",
       "      <td>2.24775</td>\n",
       "      <td>3.8152</td>\n",
       "      <td>3.3146</td>\n",
       "      <td>3.685</td>\n",
       "    </tr>\n",
       "    <tr>\n",
       "      <th>consumer_sentiment_index</th>\n",
       "      <td>97.2</td>\n",
       "      <td>91.2</td>\n",
       "      <td>59.9</td>\n",
       "      <td>67.2</td>\n",
       "      <td>56.8</td>\n",
       "    </tr>\n",
       "    <tr>\n",
       "      <th>hvf_opt_missing</th>\n",
       "      <td>0</td>\n",
       "      <td>1</td>\n",
       "      <td>0</td>\n",
       "      <td>0</td>\n",
       "      <td>0</td>\n",
       "    </tr>\n",
       "    <tr>\n",
       "      <th>hvf_std_missing</th>\n",
       "      <td>0</td>\n",
       "      <td>0</td>\n",
       "      <td>0</td>\n",
       "      <td>0</td>\n",
       "      <td>0</td>\n",
       "    </tr>\n",
       "    <tr>\n",
       "      <th>hvf_opt_comp_0</th>\n",
       "      <td>1.263224</td>\n",
       "      <td>0.0</td>\n",
       "      <td>0.460257</td>\n",
       "      <td>0.020654</td>\n",
       "      <td>-0.673496</td>\n",
       "    </tr>\n",
       "    <tr>\n",
       "      <th>hvf_opt_comp_1</th>\n",
       "      <td>-0.535823</td>\n",
       "      <td>0.0</td>\n",
       "      <td>0.392931</td>\n",
       "      <td>-0.032255</td>\n",
       "      <td>-0.208526</td>\n",
       "    </tr>\n",
       "    <tr>\n",
       "      <th>hvf_opt_comp_2</th>\n",
       "      <td>0.67494</td>\n",
       "      <td>0.0</td>\n",
       "      <td>1.073854</td>\n",
       "      <td>0.464833</td>\n",
       "      <td>-0.080906</td>\n",
       "    </tr>\n",
       "    <tr>\n",
       "      <th>hvf_opt_comp_3</th>\n",
       "      <td>-0.16853</td>\n",
       "      <td>0.0</td>\n",
       "      <td>0.133747</td>\n",
       "      <td>-0.78804</td>\n",
       "      <td>-0.063016</td>\n",
       "    </tr>\n",
       "    <tr>\n",
       "      <th>hvf_opt_comp_4</th>\n",
       "      <td>-0.843794</td>\n",
       "      <td>0.0</td>\n",
       "      <td>0.789338</td>\n",
       "      <td>-0.022039</td>\n",
       "      <td>-0.147765</td>\n",
       "    </tr>\n",
       "    <tr>\n",
       "      <th>hvf_opt_comp_5</th>\n",
       "      <td>-0.413487</td>\n",
       "      <td>0.0</td>\n",
       "      <td>0.943514</td>\n",
       "      <td>-0.084809</td>\n",
       "      <td>-0.276288</td>\n",
       "    </tr>\n",
       "    <tr>\n",
       "      <th>hvf_opt_comp_6</th>\n",
       "      <td>-0.169213</td>\n",
       "      <td>0.0</td>\n",
       "      <td>-0.843019</td>\n",
       "      <td>0.45007</td>\n",
       "      <td>0.173277</td>\n",
       "    </tr>\n",
       "    <tr>\n",
       "      <th>hvf_opt_comp_7</th>\n",
       "      <td>-0.175238</td>\n",
       "      <td>0.0</td>\n",
       "      <td>0.189982</td>\n",
       "      <td>0.223001</td>\n",
       "      <td>-0.221012</td>\n",
       "    </tr>\n",
       "    <tr>\n",
       "      <th>hvf_opt_comp_8</th>\n",
       "      <td>0.157577</td>\n",
       "      <td>0.0</td>\n",
       "      <td>0.574947</td>\n",
       "      <td>0.236617</td>\n",
       "      <td>-0.077795</td>\n",
       "    </tr>\n",
       "    <tr>\n",
       "      <th>hvf_all_comp_0</th>\n",
       "      <td>1.780486</td>\n",
       "      <td>0.553835</td>\n",
       "      <td>1.742301</td>\n",
       "      <td>0.954143</td>\n",
       "      <td>-1.301721</td>\n",
       "    </tr>\n",
       "    <tr>\n",
       "      <th>hvf_all_comp_1</th>\n",
       "      <td>1.065341</td>\n",
       "      <td>0.424638</td>\n",
       "      <td>-0.566704</td>\n",
       "      <td>0.747284</td>\n",
       "      <td>-0.447803</td>\n",
       "    </tr>\n",
       "    <tr>\n",
       "      <th>hvf_all_comp_2</th>\n",
       "      <td>0.253907</td>\n",
       "      <td>-0.090081</td>\n",
       "      <td>0.805356</td>\n",
       "      <td>-0.144131</td>\n",
       "      <td>-0.802241</td>\n",
       "    </tr>\n",
       "    <tr>\n",
       "      <th>hvf_all_comp_3</th>\n",
       "      <td>0.67698</td>\n",
       "      <td>-0.943969</td>\n",
       "      <td>1.102372</td>\n",
       "      <td>0.212018</td>\n",
       "      <td>-0.173933</td>\n",
       "    </tr>\n",
       "    <tr>\n",
       "      <th>hvf_all_comp_4</th>\n",
       "      <td>-0.721602</td>\n",
       "      <td>-0.195906</td>\n",
       "      <td>-0.093196</td>\n",
       "      <td>0.270903</td>\n",
       "      <td>-0.116702</td>\n",
       "    </tr>\n",
       "    <tr>\n",
       "      <th>hvf_all_comp_5</th>\n",
       "      <td>-0.178631</td>\n",
       "      <td>-0.93521</td>\n",
       "      <td>0.36286</td>\n",
       "      <td>-0.938623</td>\n",
       "      <td>-0.569611</td>\n",
       "    </tr>\n",
       "    <tr>\n",
       "      <th>hvf_all_comp_6</th>\n",
       "      <td>0.141262</td>\n",
       "      <td>-0.423012</td>\n",
       "      <td>0.006471</td>\n",
       "      <td>0.853773</td>\n",
       "      <td>0.622658</td>\n",
       "    </tr>\n",
       "    <tr>\n",
       "      <th>hvf_all_comp_7</th>\n",
       "      <td>0.474507</td>\n",
       "      <td>0.349453</td>\n",
       "      <td>0.041768</td>\n",
       "      <td>0.006797</td>\n",
       "      <td>1.011408</td>\n",
       "    </tr>\n",
       "    <tr>\n",
       "      <th>hvf_all_comp_8</th>\n",
       "      <td>-0.046112</td>\n",
       "      <td>0.308641</td>\n",
       "      <td>-0.253799</td>\n",
       "      <td>0.549449</td>\n",
       "      <td>-0.070878</td>\n",
       "    </tr>\n",
       "  </tbody>\n",
       "</table>\n",
       "</div>"
      ],
      "text/plain": [
       "                                                                    5423727  \\\n",
       "mvr_price                                                           30250.0   \n",
       "make                                                                   Ford   \n",
       "model                                                              Explorer   \n",
       "trim                                                                  Sport   \n",
       "mvr_model_year                                                         2016   \n",
       "mvr_mileage                                                         43045.0   \n",
       "age_months                                                               47   \n",
       "vehicle_type                                                          Truck   \n",
       "body_type                                                               SUV   \n",
       "body_subtype                                                           None   \n",
       "drivetrain                                                              4WD   \n",
       "fuel_type                                                  Premium Unleaded   \n",
       "engine_block                                                              V   \n",
       "engine_size                                                             3.5   \n",
       "transmission                                                      Automatic   \n",
       "doors                                                                   5.0   \n",
       "cylinders                                                               6.0   \n",
       "base_exterior_color                                                   Black   \n",
       "base_interior_color                                                   Black   \n",
       "is_certified                                                            0.0   \n",
       "zip                                                                   45249   \n",
       "mvr_state                                                                OH   \n",
       "hvf_standard              [Keyless Entry/Locking, Keyless Start/Remote E...   \n",
       "hvf_optional              [Power Closing Doors, Power Closing Liftgate, ...   \n",
       "mvr_purchase_date                                       2019-05-04 00:00:00   \n",
       "make_model_encode                                               26483.96875   \n",
       "make_model_trim_encode                                         29406.150391   \n",
       "mvr_purchase_month                                                        5   \n",
       "monthly_mileage                                                       915.9   \n",
       "mpg                                                                    18.7   \n",
       "population_density                                                   1983.0   \n",
       "median_income                                                       77346.0   \n",
       "median_home_value                                                  287900.0   \n",
       "mvr_purchase_yearmonth                                              2019-05   \n",
       "used_car_price_index                                                140.458   \n",
       "new_car_price_index                                                 147.788   \n",
       "gas_price_index                                                      2.7984   \n",
       "consumer_sentiment_index                                               97.2   \n",
       "hvf_opt_missing                                                           0   \n",
       "hvf_std_missing                                                           0   \n",
       "hvf_opt_comp_0                                                     1.263224   \n",
       "hvf_opt_comp_1                                                    -0.535823   \n",
       "hvf_opt_comp_2                                                      0.67494   \n",
       "hvf_opt_comp_3                                                     -0.16853   \n",
       "hvf_opt_comp_4                                                    -0.843794   \n",
       "hvf_opt_comp_5                                                    -0.413487   \n",
       "hvf_opt_comp_6                                                    -0.169213   \n",
       "hvf_opt_comp_7                                                    -0.175238   \n",
       "hvf_opt_comp_8                                                     0.157577   \n",
       "hvf_all_comp_0                                                     1.780486   \n",
       "hvf_all_comp_1                                                     1.065341   \n",
       "hvf_all_comp_2                                                     0.253907   \n",
       "hvf_all_comp_3                                                      0.67698   \n",
       "hvf_all_comp_4                                                    -0.721602   \n",
       "hvf_all_comp_5                                                    -0.178631   \n",
       "hvf_all_comp_6                                                     0.141262   \n",
       "hvf_all_comp_7                                                     0.474507   \n",
       "hvf_all_comp_8                                                    -0.046112   \n",
       "\n",
       "                                                                    5461848  \\\n",
       "mvr_price                                                           21291.0   \n",
       "make                                                                 Nissan   \n",
       "model                                                                 Rogue   \n",
       "trim                                                                     SL   \n",
       "mvr_model_year                                                         2016   \n",
       "mvr_mileage                                                         28738.0   \n",
       "age_months                                                               44   \n",
       "vehicle_type                                                          Truck   \n",
       "body_type                                                               SUV   \n",
       "body_subtype                                                           None   \n",
       "drivetrain                                                              4WD   \n",
       "fuel_type                                                          Unleaded   \n",
       "engine_block                                                              I   \n",
       "engine_size                                                             2.5   \n",
       "transmission                                                            CVT   \n",
       "doors                                                                   5.0   \n",
       "cylinders                                                               4.0   \n",
       "base_exterior_color                                                   White   \n",
       "base_interior_color                                                   Brown   \n",
       "is_certified                                                            0.0   \n",
       "zip                                                                   43019   \n",
       "mvr_state                                                                OH   \n",
       "hvf_standard              [Power Closing Doors, Power Closing Liftgate, ...   \n",
       "hvf_optional                                                           None   \n",
       "mvr_purchase_date                                       2019-02-11 00:00:00   \n",
       "make_model_encode                                              19193.917969   \n",
       "make_model_trim_encode                                         21552.546875   \n",
       "mvr_purchase_month                                                        2   \n",
       "monthly_mileage                                                       653.1   \n",
       "mpg                                                                   28.15   \n",
       "population_density                                                     82.0   \n",
       "median_income                                                       60690.0   \n",
       "median_home_value                                                  133800.0   \n",
       "mvr_purchase_yearmonth                                              2019-02   \n",
       "used_car_price_index                                                  138.8   \n",
       "new_car_price_index                                                 147.849   \n",
       "gas_price_index                                                     2.24775   \n",
       "consumer_sentiment_index                                               91.2   \n",
       "hvf_opt_missing                                                           1   \n",
       "hvf_std_missing                                                           0   \n",
       "hvf_opt_comp_0                                                          0.0   \n",
       "hvf_opt_comp_1                                                          0.0   \n",
       "hvf_opt_comp_2                                                          0.0   \n",
       "hvf_opt_comp_3                                                          0.0   \n",
       "hvf_opt_comp_4                                                          0.0   \n",
       "hvf_opt_comp_5                                                          0.0   \n",
       "hvf_opt_comp_6                                                          0.0   \n",
       "hvf_opt_comp_7                                                          0.0   \n",
       "hvf_opt_comp_8                                                          0.0   \n",
       "hvf_all_comp_0                                                     0.553835   \n",
       "hvf_all_comp_1                                                     0.424638   \n",
       "hvf_all_comp_2                                                    -0.090081   \n",
       "hvf_all_comp_3                                                    -0.943969   \n",
       "hvf_all_comp_4                                                    -0.195906   \n",
       "hvf_all_comp_5                                                     -0.93521   \n",
       "hvf_all_comp_6                                                    -0.423012   \n",
       "hvf_all_comp_7                                                     0.349453   \n",
       "hvf_all_comp_8                                                     0.308641   \n",
       "\n",
       "                                                                    4091100  \\\n",
       "mvr_price                                                           63793.0   \n",
       "make                                                                   Ford   \n",
       "model                                                                 F-150   \n",
       "trim                                                                    XLT   \n",
       "mvr_model_year                                                         2021   \n",
       "mvr_mileage                                                         15972.0   \n",
       "age_months                                                               29   \n",
       "vehicle_type                                                          Truck   \n",
       "body_type                                                            Pickup   \n",
       "body_subtype                                                           Crew   \n",
       "drivetrain                                                              4WD   \n",
       "fuel_type                                                               E85   \n",
       "engine_block                                                              V   \n",
       "engine_size                                                             5.0   \n",
       "transmission                                                      Automatic   \n",
       "doors                                                                   4.0   \n",
       "cylinders                                                               8.0   \n",
       "base_exterior_color                                                   White   \n",
       "base_interior_color                                                   Black   \n",
       "is_certified                                                            1.0   \n",
       "zip                                                                   43125   \n",
       "mvr_state                                                                TX   \n",
       "hvf_standard              [Power Closing Doors, Power Closing Liftgate, ...   \n",
       "hvf_optional              [Keyless Entry/Locking, Keyless Start/Remote E...   \n",
       "mvr_purchase_date                                       2022-11-14 00:00:00   \n",
       "make_model_encode                                              31491.146484   \n",
       "make_model_trim_encode                                         29583.814453   \n",
       "mvr_purchase_month                                                       11   \n",
       "monthly_mileage                                                       550.8   \n",
       "mpg                                                                   25.35   \n",
       "population_density                                                    387.0   \n",
       "median_income                                                       54850.0   \n",
       "median_home_value                                                  131100.0   \n",
       "mvr_purchase_yearmonth                                              2022-11   \n",
       "used_car_price_index                                                199.176   \n",
       "new_car_price_index                                                 175.981   \n",
       "gas_price_index                                                      3.8152   \n",
       "consumer_sentiment_index                                               59.9   \n",
       "hvf_opt_missing                                                           0   \n",
       "hvf_std_missing                                                           0   \n",
       "hvf_opt_comp_0                                                     0.460257   \n",
       "hvf_opt_comp_1                                                     0.392931   \n",
       "hvf_opt_comp_2                                                     1.073854   \n",
       "hvf_opt_comp_3                                                     0.133747   \n",
       "hvf_opt_comp_4                                                     0.789338   \n",
       "hvf_opt_comp_5                                                     0.943514   \n",
       "hvf_opt_comp_6                                                    -0.843019   \n",
       "hvf_opt_comp_7                                                     0.189982   \n",
       "hvf_opt_comp_8                                                     0.574947   \n",
       "hvf_all_comp_0                                                     1.742301   \n",
       "hvf_all_comp_1                                                    -0.566704   \n",
       "hvf_all_comp_2                                                     0.805356   \n",
       "hvf_all_comp_3                                                     1.102372   \n",
       "hvf_all_comp_4                                                    -0.093196   \n",
       "hvf_all_comp_5                                                      0.36286   \n",
       "hvf_all_comp_6                                                     0.006471   \n",
       "hvf_all_comp_7                                                     0.041768   \n",
       "hvf_all_comp_8                                                    -0.253799   \n",
       "\n",
       "                                                                    3845265  \\\n",
       "mvr_price                                                      28498.410156   \n",
       "make                                                          Mercedes-Benz   \n",
       "model                                                                   GLC   \n",
       "trim                                                                 GLC300   \n",
       "mvr_model_year                                                         2016   \n",
       "mvr_mileage                                                         47422.0   \n",
       "age_months                                                               81   \n",
       "vehicle_type                                                          Truck   \n",
       "body_type                                                               SUV   \n",
       "body_subtype                                                           None   \n",
       "drivetrain                                                              RWD   \n",
       "fuel_type                                                  Premium Unleaded   \n",
       "engine_block                                                              I   \n",
       "engine_size                                                             2.0   \n",
       "transmission                                                      Automatic   \n",
       "doors                                                                   5.0   \n",
       "cylinders                                                               4.0   \n",
       "base_exterior_color                                                   White   \n",
       "base_interior_color                                                   Brown   \n",
       "is_certified                                                            0.0   \n",
       "zip                                                                   78745   \n",
       "mvr_state                                                                TX   \n",
       "hvf_standard              [Power Closing Doors, Power Closing Liftgate, ...   \n",
       "hvf_optional              [Blind Spot System, Satellite Radio, Heated Se...   \n",
       "mvr_purchase_date                                       2022-02-16 00:00:00   \n",
       "make_model_encode                                              36386.679688   \n",
       "make_model_trim_encode                                         36386.679688   \n",
       "mvr_purchase_month                                                        2   \n",
       "monthly_mileage                                                       585.5   \n",
       "mpg                                                                    24.7   \n",
       "population_density                                                   4166.0   \n",
       "median_income                                                       50672.0   \n",
       "median_home_value                                                  170200.0   \n",
       "mvr_purchase_yearmonth                                              2022-02   \n",
       "used_car_price_index                                                210.293   \n",
       "new_car_price_index                                                  168.48   \n",
       "gas_price_index                                                      3.3146   \n",
       "consumer_sentiment_index                                               67.2   \n",
       "hvf_opt_missing                                                           0   \n",
       "hvf_std_missing                                                           0   \n",
       "hvf_opt_comp_0                                                     0.020654   \n",
       "hvf_opt_comp_1                                                    -0.032255   \n",
       "hvf_opt_comp_2                                                     0.464833   \n",
       "hvf_opt_comp_3                                                     -0.78804   \n",
       "hvf_opt_comp_4                                                    -0.022039   \n",
       "hvf_opt_comp_5                                                    -0.084809   \n",
       "hvf_opt_comp_6                                                      0.45007   \n",
       "hvf_opt_comp_7                                                     0.223001   \n",
       "hvf_opt_comp_8                                                     0.236617   \n",
       "hvf_all_comp_0                                                     0.954143   \n",
       "hvf_all_comp_1                                                     0.747284   \n",
       "hvf_all_comp_2                                                    -0.144131   \n",
       "hvf_all_comp_3                                                     0.212018   \n",
       "hvf_all_comp_4                                                     0.270903   \n",
       "hvf_all_comp_5                                                    -0.938623   \n",
       "hvf_all_comp_6                                                     0.853773   \n",
       "hvf_all_comp_7                                                     0.006797   \n",
       "hvf_all_comp_8                                                     0.549449   \n",
       "\n",
       "                                                                    1650204  \n",
       "mvr_price                                                       14900.44043  \n",
       "make                                                                   Ford  \n",
       "model                                                               Mustang  \n",
       "trim                                                               EcoBoost  \n",
       "mvr_model_year                                                         2019  \n",
       "mvr_mileage                                                         17681.0  \n",
       "age_months                                                               54  \n",
       "vehicle_type                                                            Car  \n",
       "body_type                                                             Coupe  \n",
       "body_subtype                                                           None  \n",
       "drivetrain                                                              RWD  \n",
       "fuel_type                                                          Unleaded  \n",
       "engine_block                                                              I  \n",
       "engine_size                                                             2.3  \n",
       "transmission                                                      Automatic  \n",
       "doors                                                                   2.0  \n",
       "cylinders                                                               4.0  \n",
       "base_exterior_color                                                   Black  \n",
       "base_interior_color                                                   Black  \n",
       "is_certified                                                            0.0  \n",
       "zip                                                                   75701  \n",
       "mvr_state                                                                TX  \n",
       "hvf_standard              [Keyless Entry/Locking, Keyless Start/Remote E...  \n",
       "hvf_optional                                       [Automatic Transmission]  \n",
       "mvr_purchase_date                                       2022-12-07 00:00:00  \n",
       "make_model_encode                                              25919.037109  \n",
       "make_model_trim_encode                                             24408.75  \n",
       "mvr_purchase_month                                                       12  \n",
       "monthly_mileage                                                       327.4  \n",
       "mpg                                                                    25.5  \n",
       "population_density                                                   2187.0  \n",
       "median_income                                                       42627.0  \n",
       "median_home_value                                                  114600.0  \n",
       "mvr_purchase_yearmonth                                              2022-12  \n",
       "used_car_price_index                                                 193.53  \n",
       "new_car_price_index                                                 176.805  \n",
       "gas_price_index                                                       3.685  \n",
       "consumer_sentiment_index                                               56.8  \n",
       "hvf_opt_missing                                                           0  \n",
       "hvf_std_missing                                                           0  \n",
       "hvf_opt_comp_0                                                    -0.673496  \n",
       "hvf_opt_comp_1                                                    -0.208526  \n",
       "hvf_opt_comp_2                                                    -0.080906  \n",
       "hvf_opt_comp_3                                                    -0.063016  \n",
       "hvf_opt_comp_4                                                    -0.147765  \n",
       "hvf_opt_comp_5                                                    -0.276288  \n",
       "hvf_opt_comp_6                                                     0.173277  \n",
       "hvf_opt_comp_7                                                    -0.221012  \n",
       "hvf_opt_comp_8                                                    -0.077795  \n",
       "hvf_all_comp_0                                                    -1.301721  \n",
       "hvf_all_comp_1                                                    -0.447803  \n",
       "hvf_all_comp_2                                                    -0.802241  \n",
       "hvf_all_comp_3                                                    -0.173933  \n",
       "hvf_all_comp_4                                                    -0.116702  \n",
       "hvf_all_comp_5                                                    -0.569611  \n",
       "hvf_all_comp_6                                                     0.622658  \n",
       "hvf_all_comp_7                                                     1.011408  \n",
       "hvf_all_comp_8                                                    -0.070878  "
      ]
     },
     "execution_count": 57,
     "metadata": {},
     "output_type": "execute_result"
    }
   ],
   "source": [
    "print_shape(train)\n",
    "train.sample(5).T\n"
   ]
  },
  {
   "cell_type": "markdown",
   "metadata": {},
   "source": [
    "## Checkpoint"
   ]
  },
  {
   "cell_type": "code",
   "execution_count": null,
   "metadata": {},
   "outputs": [],
   "source": [
    "working_dir = \"/data/p_dsi/capstone_projects/shea/working/\"\n",
    "train.to_pickle(working_dir + \"train.pkl\")\n",
    "validate.to_pickle(working_dir + \"validate.pkl\")\n",
    "test.to_pickle(working_dir + \"test.pkl\")"
   ]
  },
  {
   "cell_type": "code",
   "execution_count": 1,
   "metadata": {
    "executionInfo": {
     "elapsed": 767,
     "status": "ok",
     "timestamp": 1678124119673,
     "user": {
      "displayName": "Shea Conaway",
      "userId": "06745111064212010073"
     },
     "user_tz": 360
    },
    "id": "OHzjIIGb-xxW"
   },
   "outputs": [],
   "source": [
    "import numpy as np\n",
    "import pandas as pd"
   ]
  },
  {
   "cell_type": "code",
   "execution_count": 6,
   "metadata": {},
   "outputs": [],
   "source": [
    "working_dir = \"/data/p_dsi/capstone_projects/shea/working/\"\n",
    "train = pd.read_pickle(working_dir + \"train.pkl\")\n",
    "validate = pd.read_pickle(working_dir + \"validate.pkl\")\n",
    "test = pd.read_pickle(working_dir + \"test.pkl\")"
   ]
  },
  {
   "cell_type": "markdown",
   "metadata": {
    "id": "K-4hMpjx-xxX"
   },
   "source": [
    "## Model"
   ]
  },
  {
   "cell_type": "markdown",
   "metadata": {},
   "source": [
    "### Column Inventory"
   ]
  },
  {
   "cell_type": "markdown",
   "metadata": {},
   "source": [
    "#### HVF"
   ]
  },
  {
   "cell_type": "code",
   "execution_count": 54,
   "metadata": {},
   "outputs": [
    {
     "data": {
      "text/plain": [
       "['hvf_opt_comp_0',\n",
       " 'hvf_opt_comp_1',\n",
       " 'hvf_opt_comp_2',\n",
       " 'hvf_opt_comp_3',\n",
       " 'hvf_opt_comp_4',\n",
       " 'hvf_opt_comp_5',\n",
       " 'hvf_opt_comp_6',\n",
       " 'hvf_opt_comp_7',\n",
       " 'hvf_opt_comp_8',\n",
       " 'hvf_all_comp_0',\n",
       " 'hvf_all_comp_1',\n",
       " 'hvf_all_comp_2',\n",
       " 'hvf_all_comp_3',\n",
       " 'hvf_all_comp_4',\n",
       " 'hvf_all_comp_5',\n",
       " 'hvf_all_comp_6',\n",
       " 'hvf_all_comp_7',\n",
       " 'hvf_all_comp_8']"
      ]
     },
     "execution_count": 54,
     "metadata": {},
     "output_type": "execute_result"
    }
   ],
   "source": [
    "# hvf columns\n",
    "hvf_cols = [col for col in train.columns if col.startswith(\"hvf_\")]\n",
    "hvf_cols.remove(\"hvf_opt_missing\")\n",
    "hvf_cols.remove(\"hvf_std_missing\")\n",
    "hvf_cols.remove(\"hvf_optional\")\n",
    "hvf_cols.remove(\"hvf_standard\")\n",
    "hvf_cols"
   ]
  },
  {
   "cell_type": "markdown",
   "metadata": {},
   "source": [
    "#### Numeric"
   ]
  },
  {
   "cell_type": "code",
   "execution_count": 55,
   "metadata": {},
   "outputs": [
    {
     "data": {
      "text/plain": [
       "['age_months',\n",
       " 'consumer_sentiment_index',\n",
       " 'cylinders',\n",
       " 'doors',\n",
       " 'engine_size',\n",
       " 'gas_price_index',\n",
       " 'hvf_opt_missing',\n",
       " 'hvf_std_missing',\n",
       " 'is_certified',\n",
       " 'make_model_encode',\n",
       " 'make_model_trim_encode',\n",
       " 'median_home_value',\n",
       " 'median_income',\n",
       " 'monthly_mileage',\n",
       " 'mpg',\n",
       " 'mvr_mileage',\n",
       " 'mvr_model_year',\n",
       " 'mvr_price_bc',\n",
       " 'new_car_price_index',\n",
       " 'population_density',\n",
       " 'used_car_price_index']"
      ]
     },
     "execution_count": 55,
     "metadata": {},
     "output_type": "execute_result"
    }
   ],
   "source": [
    "# numeric columns\n",
    "num_cols = train.select_dtypes(include=[\"number\"]).columns.tolist()\n",
    "num_cols.sort()\n",
    "num_cols.remove(\"mvr_price\")\n",
    "for hvf_col in hvf_cols:\n",
    "    num_cols.remove(hvf_col)\n",
    "num_cols"
   ]
  },
  {
   "cell_type": "code",
   "execution_count": 56,
   "metadata": {},
   "outputs": [
    {
     "data": {
      "text/plain": [
       "['base_exterior_color',\n",
       " 'base_interior_color',\n",
       " 'body_subtype',\n",
       " 'body_type',\n",
       " 'drivetrain',\n",
       " 'engine_block',\n",
       " 'fuel_type',\n",
       " 'make',\n",
       " 'model',\n",
       " 'mvr_purchase_month',\n",
       " 'mvr_state',\n",
       " 'transmission',\n",
       " 'trim',\n",
       " 'vehicle_type']"
      ]
     },
     "execution_count": 56,
     "metadata": {},
     "output_type": "execute_result"
    }
   ],
   "source": [
    "# categorical columns\n",
    "cat_cols = list(train.columns)\n",
    "\n",
    "# remove num cols\n",
    "for num_col in num_cols:\n",
    "    cat_cols.remove(num_col)\n",
    "    \n",
    "# remove hvf cols\n",
    "for hvf_col in hvf_cols:\n",
    "    cat_cols.remove(hvf_col)\n",
    "\n",
    "# remove selected other cols\n",
    "other_cols = [\"hvf_optional\",\"hvf_standard\",\"mvr_purchase_date\",\"mvr_purchase_yearmonth\",\"zip\"]\n",
    "for other_col in other_cols:\n",
    "    cat_cols.remove(other_col)\n",
    "\n",
    "# remove target and cleanup\n",
    "cat_cols.remove(\"mvr_price\")\n",
    "cat_cols.sort()\n",
    "cat_cols"
   ]
  },
  {
   "cell_type": "code",
   "execution_count": 57,
   "metadata": {},
   "outputs": [],
   "source": [
    "# target\n",
    "target = \"mvr_price\""
   ]
  },
  {
   "cell_type": "markdown",
   "metadata": {},
   "source": [
    "### Feature Prep"
   ]
  },
  {
   "cell_type": "code",
   "execution_count": 7,
   "metadata": {},
   "outputs": [
    {
     "data": {
      "text/html": [
       "<div>\n",
       "<style scoped>\n",
       "    .dataframe tbody tr th:only-of-type {\n",
       "        vertical-align: middle;\n",
       "    }\n",
       "\n",
       "    .dataframe tbody tr th {\n",
       "        vertical-align: top;\n",
       "    }\n",
       "\n",
       "    .dataframe thead th {\n",
       "        text-align: right;\n",
       "    }\n",
       "</style>\n",
       "<table border=\"1\" class=\"dataframe\">\n",
       "  <thead>\n",
       "    <tr style=\"text-align: right;\">\n",
       "      <th></th>\n",
       "      <th>5641706</th>\n",
       "      <th>746779</th>\n",
       "      <th>2789002</th>\n",
       "      <th>4146870</th>\n",
       "      <th>2645290</th>\n",
       "    </tr>\n",
       "  </thead>\n",
       "  <tbody>\n",
       "    <tr>\n",
       "      <th>age_months</th>\n",
       "      <td>31.000000</td>\n",
       "      <td>79.000000</td>\n",
       "      <td>27.000000</td>\n",
       "      <td>51.000000</td>\n",
       "      <td>42.000000</td>\n",
       "    </tr>\n",
       "    <tr>\n",
       "      <th>consumer_sentiment_index</th>\n",
       "      <td>96.800000</td>\n",
       "      <td>96.800000</td>\n",
       "      <td>96.200000</td>\n",
       "      <td>58.200000</td>\n",
       "      <td>67.400000</td>\n",
       "    </tr>\n",
       "    <tr>\n",
       "      <th>cylinders</th>\n",
       "      <td>6.000000</td>\n",
       "      <td>6.000000</td>\n",
       "      <td>6.000000</td>\n",
       "      <td>8.000000</td>\n",
       "      <td>4.000000</td>\n",
       "    </tr>\n",
       "    <tr>\n",
       "      <th>doors</th>\n",
       "      <td>5.000000</td>\n",
       "      <td>5.000000</td>\n",
       "      <td>4.000000</td>\n",
       "      <td>4.000000</td>\n",
       "      <td>4.000000</td>\n",
       "    </tr>\n",
       "    <tr>\n",
       "      <th>engine_size</th>\n",
       "      <td>3.600000</td>\n",
       "      <td>3.600000</td>\n",
       "      <td>3.600000</td>\n",
       "      <td>5.600000</td>\n",
       "      <td>2.500000</td>\n",
       "    </tr>\n",
       "    <tr>\n",
       "      <th>gas_price_index</th>\n",
       "      <td>2.597750</td>\n",
       "      <td>2.597750</td>\n",
       "      <td>2.835750</td>\n",
       "      <td>3.975000</td>\n",
       "      <td>3.394800</td>\n",
       "    </tr>\n",
       "    <tr>\n",
       "      <th>hvf_opt_missing</th>\n",
       "      <td>1.000000</td>\n",
       "      <td>1.000000</td>\n",
       "      <td>1.000000</td>\n",
       "      <td>1.000000</td>\n",
       "      <td>1.000000</td>\n",
       "    </tr>\n",
       "    <tr>\n",
       "      <th>hvf_std_missing</th>\n",
       "      <td>0.000000</td>\n",
       "      <td>0.000000</td>\n",
       "      <td>1.000000</td>\n",
       "      <td>0.000000</td>\n",
       "      <td>0.000000</td>\n",
       "    </tr>\n",
       "    <tr>\n",
       "      <th>is_certified</th>\n",
       "      <td>0.000000</td>\n",
       "      <td>0.000000</td>\n",
       "      <td>0.000000</td>\n",
       "      <td>0.000000</td>\n",
       "      <td>0.000000</td>\n",
       "    </tr>\n",
       "    <tr>\n",
       "      <th>make_model_encode</th>\n",
       "      <td>26526.765625</td>\n",
       "      <td>27208.826172</td>\n",
       "      <td>16777.140625</td>\n",
       "      <td>31075.593750</td>\n",
       "      <td>16777.140625</td>\n",
       "    </tr>\n",
       "    <tr>\n",
       "      <th>make_model_trim_encode</th>\n",
       "      <td>18634.359375</td>\n",
       "      <td>22392.660156</td>\n",
       "      <td>20061.226562</td>\n",
       "      <td>31068.636719</td>\n",
       "      <td>20061.226562</td>\n",
       "    </tr>\n",
       "    <tr>\n",
       "      <th>median_home_value</th>\n",
       "      <td>76300.000000</td>\n",
       "      <td>97300.000000</td>\n",
       "      <td>121600.000000</td>\n",
       "      <td>168800.000000</td>\n",
       "      <td>350000.000000</td>\n",
       "    </tr>\n",
       "    <tr>\n",
       "      <th>median_income</th>\n",
       "      <td>30483.000000</td>\n",
       "      <td>40136.000000</td>\n",
       "      <td>45872.000000</td>\n",
       "      <td>75921.000000</td>\n",
       "      <td>99225.000000</td>\n",
       "    </tr>\n",
       "    <tr>\n",
       "      <th>monthly_mileage</th>\n",
       "      <td>706.400000</td>\n",
       "      <td>1206.100000</td>\n",
       "      <td>1635.100000</td>\n",
       "      <td>847.100000</td>\n",
       "      <td>802.000000</td>\n",
       "    </tr>\n",
       "    <tr>\n",
       "      <th>mpg</th>\n",
       "      <td>21.150000</td>\n",
       "      <td>21.150000</td>\n",
       "      <td>25.600000</td>\n",
       "      <td>17.700000</td>\n",
       "      <td>25.150000</td>\n",
       "    </tr>\n",
       "    <tr>\n",
       "      <th>mvr_mileage</th>\n",
       "      <td>21899.000000</td>\n",
       "      <td>95280.000000</td>\n",
       "      <td>44147.000000</td>\n",
       "      <td>43204.000000</td>\n",
       "      <td>33683.000000</td>\n",
       "    </tr>\n",
       "    <tr>\n",
       "      <th>mvr_model_year</th>\n",
       "      <td>2018.000000</td>\n",
       "      <td>2014.000000</td>\n",
       "      <td>2017.000000</td>\n",
       "      <td>2019.000000</td>\n",
       "      <td>2019.000000</td>\n",
       "    </tr>\n",
       "    <tr>\n",
       "      <th>mvr_price_bc</th>\n",
       "      <td>66.830788</td>\n",
       "      <td>54.732655</td>\n",
       "      <td>59.786377</td>\n",
       "      <td>63.389210</td>\n",
       "      <td>61.065544</td>\n",
       "    </tr>\n",
       "    <tr>\n",
       "      <th>new_car_price_index</th>\n",
       "      <td>146.103000</td>\n",
       "      <td>146.103000</td>\n",
       "      <td>145.491000</td>\n",
       "      <td>173.824000</td>\n",
       "      <td>164.935000</td>\n",
       "    </tr>\n",
       "    <tr>\n",
       "      <th>population_density</th>\n",
       "      <td>561.000000</td>\n",
       "      <td>3837.000000</td>\n",
       "      <td>4052.000000</td>\n",
       "      <td>935.000000</td>\n",
       "      <td>3342.000000</td>\n",
       "    </tr>\n",
       "    <tr>\n",
       "      <th>used_car_price_index</th>\n",
       "      <td>137.407000</td>\n",
       "      <td>137.407000</td>\n",
       "      <td>141.095000</td>\n",
       "      <td>212.895000</td>\n",
       "      <td>200.209000</td>\n",
       "    </tr>\n",
       "  </tbody>\n",
       "</table>\n",
       "</div>"
      ],
      "text/plain": [
       "                               5641706       746779         2789002  \\\n",
       "age_months                   31.000000     79.000000      27.000000   \n",
       "consumer_sentiment_index     96.800000     96.800000      96.200000   \n",
       "cylinders                     6.000000      6.000000       6.000000   \n",
       "doors                         5.000000      5.000000       4.000000   \n",
       "engine_size                   3.600000      3.600000       3.600000   \n",
       "gas_price_index               2.597750      2.597750       2.835750   \n",
       "hvf_opt_missing               1.000000      1.000000       1.000000   \n",
       "hvf_std_missing               0.000000      0.000000       1.000000   \n",
       "is_certified                  0.000000      0.000000       0.000000   \n",
       "make_model_encode         26526.765625  27208.826172   16777.140625   \n",
       "make_model_trim_encode    18634.359375  22392.660156   20061.226562   \n",
       "median_home_value         76300.000000  97300.000000  121600.000000   \n",
       "median_income             30483.000000  40136.000000   45872.000000   \n",
       "monthly_mileage             706.400000   1206.100000    1635.100000   \n",
       "mpg                          21.150000     21.150000      25.600000   \n",
       "mvr_mileage               21899.000000  95280.000000   44147.000000   \n",
       "mvr_model_year             2018.000000   2014.000000    2017.000000   \n",
       "mvr_price_bc                 66.830788     54.732655      59.786377   \n",
       "new_car_price_index         146.103000    146.103000     145.491000   \n",
       "population_density          561.000000   3837.000000    4052.000000   \n",
       "used_car_price_index        137.407000    137.407000     141.095000   \n",
       "\n",
       "                                4146870        2645290  \n",
       "age_months                    51.000000      42.000000  \n",
       "consumer_sentiment_index      58.200000      67.400000  \n",
       "cylinders                      8.000000       4.000000  \n",
       "doors                          4.000000       4.000000  \n",
       "engine_size                    5.600000       2.500000  \n",
       "gas_price_index                3.975000       3.394800  \n",
       "hvf_opt_missing                1.000000       1.000000  \n",
       "hvf_std_missing                0.000000       0.000000  \n",
       "is_certified                   0.000000       0.000000  \n",
       "make_model_encode          31075.593750   16777.140625  \n",
       "make_model_trim_encode     31068.636719   20061.226562  \n",
       "median_home_value         168800.000000  350000.000000  \n",
       "median_income              75921.000000   99225.000000  \n",
       "monthly_mileage              847.100000     802.000000  \n",
       "mpg                           17.700000      25.150000  \n",
       "mvr_mileage                43204.000000   33683.000000  \n",
       "mvr_model_year              2019.000000    2019.000000  \n",
       "mvr_price_bc                  63.389210      61.065544  \n",
       "new_car_price_index          173.824000     164.935000  \n",
       "population_density           935.000000    3342.000000  \n",
       "used_car_price_index         212.895000     200.209000  "
      ]
     },
     "execution_count": 7,
     "metadata": {},
     "output_type": "execute_result"
    }
   ],
   "source": [
    "train[num_cols].sample(5).T"
   ]
  },
  {
   "cell_type": "markdown",
   "metadata": {},
   "source": [
    "### Linear"
   ]
  },
  {
   "cell_type": "code",
   "execution_count": 13,
   "metadata": {},
   "outputs": [],
   "source": [
    "from sklearn.linear_model import LinearRegression"
   ]
  },
  {
   "cell_type": "code",
   "execution_count": null,
   "metadata": {},
   "outputs": [],
   "source": [
    "# box-cox transform mvr_price\n",
    "from scipy.stats import boxcox\n",
    "from scipy.special import inv_boxcox\n",
    "\n",
    "shift = 0\n",
    "\n",
    "# calculate on the training set\n",
    "train[\"mvr_price_bc\"], lambda_bc = boxcox(train[\"mvr_price\"] + shift)\n",
    "\n",
    "# apply validation and test sets\n",
    "validate[\"mvr_price_bc\"] = boxcox(validate[\"mvr_price\"] + shift, lambda_bc)\n",
    "test[\"mvr_price_bc\"] = boxcox(test[\"mvr_price\"] + shift, lambda_bc)"
   ]
  },
  {
   "cell_type": "code",
   "execution_count": 15,
   "metadata": {
    "scrolled": true
   },
   "outputs": [
    {
     "data": {
      "text/plain": [
       "<AxesSubplot:>"
      ]
     },
     "execution_count": 15,
     "metadata": {},
     "output_type": "execute_result"
    },
    {
     "data": {
      "image/png": "[encoded data removed]",
      "text/plain": [
       "<Figure size 432x288 with 1 Axes>"
      ]
     },
     "metadata": {
      "needs_background": "light"
     },
     "output_type": "display_data"
    }
   ],
   "source": [
    "train[\"mvr_price\"].hist(bins=100)"
   ]
  },
  {
   "cell_type": "code",
   "execution_count": 16,
   "metadata": {},
   "outputs": [
    {
     "data": {
      "text/plain": [
       "<AxesSubplot:>"
      ]
     },
     "execution_count": 16,
     "metadata": {},
     "output_type": "execute_result"
    },
    {
     "data": {
      "image/png": "[encoded data removed]",
      "text/plain": [
       "<Figure size 432x288 with 1 Axes>"
      ]
     },
     "metadata": {
      "needs_background": "light"
     },
     "output_type": "display_data"
    }
   ],
   "source": [
    "train[\"mvr_price_bc\"].hist(bins=100)"
   ]
  },
  {
   "cell_type": "code",
   "execution_count": 17,
   "metadata": {},
   "outputs": [],
   "source": [
    "# scale numeric columns\n",
    "#from sklearn.preprocessing import StandardScaler\n",
    "#scaler = StandardScaler()\n",
    "\n",
    "# fit\n",
    "#scaler.fit(train[num_cols])\n",
    "\n",
    "# transform\n",
    "#train[num_cols] = scaler.transform(train[num_cols])\n",
    "#validate[num_cols] = scaler.transform(validate[num_cols])\n",
    "#test[num_cols] = scaler.transform(test[num_cols])\n"
   ]
  },
  {
   "cell_type": "code",
   "execution_count": 18,
   "metadata": {},
   "outputs": [
    {
     "data": {
      "text/plain": [
       "['mvr_price_bc',\n",
       " 'mvr_price',\n",
       " 'make_model_trim_encode',\n",
       " 'make_model_encode',\n",
       " 'mvr_model_year',\n",
       " 'hvf_all_comp_0',\n",
       " 'age_months',\n",
       " 'engine_size',\n",
       " 'cylinders',\n",
       " 'mvr_mileage',\n",
       " 'mpg',\n",
       " 'hvf_opt_missing',\n",
       " 'used_car_price_index',\n",
       " 'new_car_price_index',\n",
       " 'gas_price_index',\n",
       " 'consumer_sentiment_index',\n",
       " 'hvf_all_comp_2']"
      ]
     },
     "execution_count": 18,
     "metadata": {},
     "output_type": "execute_result"
    }
   ],
   "source": [
    "# correlation coefficients\n",
    "corr_coef = train.corr(numeric_only=True)[\"mvr_price_bc\"].abs().sort_values(ascending=False)\n",
    "cor_picks = corr_coef[corr_coef > 0.2].index.tolist()\n",
    "cor_picks"
   ]
  },
  {
   "cell_type": "code",
   "execution_count": 19,
   "metadata": {},
   "outputs": [],
   "source": [
    "selected_num_cols = ['age_months',\n",
    "                     'consumer_sentiment_index',\n",
    "                     'cylinders',\n",
    "                     'engine_size',\n",
    "                     'gas_price_index',\n",
    "                     \n",
    "                     #'make_model_trim_encode',\n",
    "                     #'hvf_opt_comp_0',\n",
    "                     #'hvf_opt_comp_1',\n",
    "                     #'hvf_opt_comp_2',\n",
    "                     #'hvf_std_missing',\n",
    "                     \n",
    "                     'make_model_encode',\n",
    "                     'hvf_all_comp_0',\n",
    "                     'hvf_all_comp_1',\n",
    "                     'hvf_all_comp_2',\n",
    "                     'hvf_opt_missing',\n",
    "                     \n",
    "                     'mpg',\n",
    "                     'mvr_mileage',\n",
    "                     'mvr_model_year',\n",
    "                     'new_car_price_index',\n",
    "                     'used_car_price_index',\n",
    "                     'median_income']"
   ]
  },
  {
   "cell_type": "code",
   "execution_count": 20,
   "metadata": {
    "scrolled": true
   },
   "outputs": [
    {
     "name": "stdout",
     "output_type": "stream",
     "text": [
      "R2:  0.842\n",
      "MAE:  3511.4\n",
      "MAPE:  19.6 %\n",
      "RMSE:  5121.91\n",
      "Percent Underpayed:  53.2 %\n",
      "Mean of Underpayment:  3986.23\n",
      "Percent Overpayed:  46.8 %\n",
      "Mean of Overpayment:  -2972.08\n",
      "Mean Error:  728.35\n"
     ]
    }
   ],
   "source": [
    "# fit\n",
    "lr_model = LinearRegression()\n",
    "lr_model.fit(train[selected_num_cols], train[\"mvr_price_bc\"])\n",
    "\n",
    "# predict\n",
    "lr_preds = lr_model.predict(validate[selected_num_cols])\n",
    "lr_preds_s = pd.Series(lr_preds)\n",
    "\n",
    "# results\n",
    "assess_results(validate.reset_index(drop=True).loc[(pd.Series(lr_preds) > 0.1),\"mvr_price\"]\n",
    "               , inv_boxcox(lr_preds_s[lr_preds_s > 0.1], lambda_bc))\n",
    "\n"
   ]
  },
  {
   "cell_type": "markdown",
   "metadata": {},
   "source": [
    "### CatBoost"
   ]
  },
  {
   "cell_type": "code",
   "execution_count": 58,
   "metadata": {},
   "outputs": [],
   "source": [
    "from catboost import CatBoostRegressor"
   ]
  },
  {
   "cell_type": "code",
   "execution_count": 59,
   "metadata": {},
   "outputs": [
    {
     "data": {
      "text/plain": [
       "Index(['mvr_price', 'make', 'model', 'trim', 'mvr_model_year', 'mvr_mileage',\n",
       "       'age_months', 'vehicle_type', 'body_type', 'body_subtype', 'drivetrain',\n",
       "       'fuel_type', 'engine_block', 'engine_size', 'transmission', 'doors',\n",
       "       'cylinders', 'base_exterior_color', 'base_interior_color',\n",
       "       'is_certified', 'zip', 'mvr_state', 'hvf_standard', 'hvf_optional',\n",
       "       'mvr_purchase_date', 'make_model_encode', 'make_model_trim_encode',\n",
       "       'mvr_purchase_month', 'monthly_mileage', 'mpg', 'population_density',\n",
       "       'median_income', 'median_home_value', 'mvr_purchase_yearmonth',\n",
       "       'used_car_price_index', 'new_car_price_index', 'gas_price_index',\n",
       "       'consumer_sentiment_index', 'hvf_opt_missing', 'hvf_std_missing',\n",
       "       'hvf_opt_comp_0', 'hvf_opt_comp_1', 'hvf_opt_comp_2', 'hvf_opt_comp_3',\n",
       "       'hvf_opt_comp_4', 'hvf_opt_comp_5', 'hvf_opt_comp_6', 'hvf_opt_comp_7',\n",
       "       'hvf_opt_comp_8', 'hvf_all_comp_0', 'hvf_all_comp_1', 'hvf_all_comp_2',\n",
       "       'hvf_all_comp_3', 'hvf_all_comp_4', 'hvf_all_comp_5', 'hvf_all_comp_6',\n",
       "       'hvf_all_comp_7', 'hvf_all_comp_8', 'mvr_price_bc'],\n",
       "      dtype='object')"
      ]
     },
     "execution_count": 59,
     "metadata": {},
     "output_type": "execute_result"
    }
   ],
   "source": [
    "train.columns"
   ]
  },
  {
   "cell_type": "code",
   "execution_count": 61,
   "metadata": {},
   "outputs": [],
   "source": [
    "selected_num_cols = ['age_months',\n",
    "                     'mvr_mileage',\n",
    "                     'mvr_model_year',\n",
    "                     'doors',\n",
    "                     'cylinders',\n",
    "                     'engine_size',\n",
    "                     'mpg',\n",
    "                     'make_model_trim_encode',\n",
    "                     'hvf_opt_comp_0',\n",
    "                     'hvf_opt_comp_1',\n",
    "                     'hvf_opt_comp_2',\n",
    "                     'hvf_opt_comp_3',\n",
    "                     'hvf_opt_comp_4',\n",
    "                     'hvf_opt_comp_5',\n",
    "                     'hvf_opt_comp_6',\n",
    "                     'hvf_opt_comp_7',\n",
    "                     'hvf_opt_comp_8',\n",
    "                     'hvf_std_missing',\n",
    "                     'hvf_opt_missing',\n",
    "                    # 'gas_price_index',\n",
    "                    # 'new_car_price_index',\n",
    "                     'used_car_price_index',\n",
    "                     'consumer_sentiment_index',\n",
    "                     'median_income',\n",
    "                     'is_certified'\n",
    "                    ]\n",
    "\n",
    "selected_cat_cols = ['base_exterior_color',\n",
    "                     'base_interior_color',\n",
    "                     'body_type',\n",
    "                     'drivetrain',\n",
    "                     'engine_block',\n",
    "                     'fuel_type',\n",
    "                     'mvr_purchase_month',\n",
    "                     'mvr_state',\n",
    "                     'transmission',\n",
    "                     'vehicle_type'\n",
    "                    ]"
   ]
  },
  {
   "cell_type": "code",
   "execution_count": 32,
   "metadata": {},
   "outputs": [
    {
     "data": {
      "text/plain": [
       "<catboost.core.CatBoostRegressor at 0x2b9360642c10>"
      ]
     },
     "execution_count": 32,
     "metadata": {},
     "output_type": "execute_result"
    }
   ],
   "source": [
    "# init model\n",
    "cb_model = CatBoostRegressor(cat_features=selected_cat_cols\n",
    "                             ,verbose=False\n",
    "                             ,task_type=\"GPU\"\n",
    "                             ,devices=\"0:3\"\n",
    "                            ,per_float_feature_quantization=gf_index+':border_count=1024'\n",
    "                            )\n",
    "\n",
    "# fit\n",
    "cb_model.fit(train[selected_num_cols + selected_cat_cols]\n",
    "             ,train[target]\n",
    "             ,eval_set=(validate[selected_num_cols + selected_cat_cols], validate[target])\n",
    "            )"
   ]
  },
  {
   "cell_type": "code",
   "execution_count": 33,
   "metadata": {},
   "outputs": [],
   "source": [
    "# predict\n",
    "cb_preds = cb_model.predict(validate[selected_num_cols + selected_cat_cols])"
   ]
  },
  {
   "cell_type": "code",
   "execution_count": 34,
   "metadata": {},
   "outputs": [
    {
     "name": "stdout",
     "output_type": "stream",
     "text": [
      "R2:  0.878\n",
      "MAE:  3121.41\n",
      "MAPE:  17.8 %\n",
      "RMSE:  4514.6\n",
      "Percent Underpayed:  58.2 %\n",
      "Mean of Underpayment:  3611.44\n",
      "Percent Overpayed:  41.8 %\n",
      "Mean of Overpayment:  -2438.54\n",
      "Mean Error:  1083.83\n"
     ]
    }
   ],
   "source": [
    "# results\n",
    "assess_results(validate[target], cb_preds)"
   ]
  },
  {
   "cell_type": "code",
   "execution_count": null,
   "metadata": {},
   "outputs": [],
   "source": [
    "# print top ten features by importance with importance measure\n",
    "importance = cb_model.get_feature_importance(prettified=True)\n",
    "importance.head(15)"
   ]
  },
  {
   "cell_type": "markdown",
   "metadata": {},
   "source": [
    "### CatBoost Hyperparameter Tuning\n",
    "https://catboost.ai/en/docs/concepts/parameter-tuning\n",
    "\n",
    "https://catboost.ai/en/docs/references/training-parameters/common"
   ]
  },
  {
   "cell_type": "code",
   "execution_count": 43,
   "metadata": {},
   "outputs": [],
   "source": [
    "# golden feature\n",
    "# selected as a highly predictive feature for more splitting\n",
    "gf_index = (selected_num_cols + selected_cat_cols).index('make_model_trim_encode')\n",
    "gf_index = str(gf_index)"
   ]
  },
  {
   "cell_type": "code",
   "execution_count": null,
   "metadata": {
    "scrolled": true
   },
   "outputs": [],
   "source": [
    "# define hyperparameters to search over\n",
    "param_grid = {\n",
    "            'learning_rate': [0.1, 0.2, 0.3, 0.4]\n",
    "            ,'iterations': [1000,1500,2000] # number of trees\n",
    "            ,'depth': [2,6,10] # tree depth\n",
    "            #,'l2_leaf_reg': [1, 3] # L2 regularization coefficient of the cost function\n",
    "            #,'random_strength': [1, 3, 5] # amount of randomness to use for scoring splits\n",
    "            ,'bagging_temperature' : [0,1,8] # bagging aggressiveness [0,inf)\n",
    "            #,'border_count': [128,254] # number of splits for numerical features\n",
    "            }\n",
    "\n",
    "# init model\n",
    "cb_model = CatBoostRegressor(cat_features=selected_cat_cols\n",
    "                             ,task_type=\"GPU\"\n",
    "                             ,devices=\"0:3\"\n",
    "                             ,iterations=1\n",
    "                             ,border_count=254\n",
    "                             ,per_float_feature_quantization=gf_index+':border_count=1024'\n",
    "                             ,verbose=False\n",
    "                            )\n",
    "\n",
    "grid_search_result = cb_model.grid_search(param_grid\n",
    "                                       ,X=train[selected_num_cols + selected_cat_cols]\n",
    "                                       ,y=train[target]\n",
    "                                       ,cv=3\n",
    "                                       ,verbose=False,\n",
    "                                       #,plot=True\n",
    "                                         )\n",
    "\n"
   ]
  },
  {
   "cell_type": "code",
   "execution_count": null,
   "metadata": {
    "scrolled": true
   },
   "outputs": [],
   "source": [
    "grid_search_result['params']"
   ]
  },
  {
   "cell_type": "code",
   "execution_count": 62,
   "metadata": {},
   "outputs": [],
   "source": [
    "import pickle"
   ]
  },
  {
   "cell_type": "code",
   "execution_count": null,
   "metadata": {},
   "outputs": [],
   "source": [
    "# save\n",
    "working_dir = \"/data/p_dsi/capstone_projects/shea/working/\"\n",
    "with open(working_dir + 'grid_search_result.pickle', 'wb') as file:\n",
    "    pickle.dump(grid_search_result, file)"
   ]
  },
  {
   "cell_type": "code",
   "execution_count": 63,
   "metadata": {},
   "outputs": [],
   "source": [
    "# load\n",
    "working_dir = \"/data/p_dsi/capstone_projects/shea/working/\"\n",
    "with open(working_dir + 'grid_search_result.pickle', 'rb') as file:\n",
    "    grid_search_result = pickle.load(file)"
   ]
  },
  {
   "cell_type": "code",
   "execution_count": 65,
   "metadata": {},
   "outputs": [
    {
     "data": {
      "text/plain": [
       "{'bagging_temperature': 1,\n",
       " 'depth': 10,\n",
       " 'iterations': 2000,\n",
       " 'learning_rate': 0.4}"
      ]
     },
     "execution_count": 65,
     "metadata": {},
     "output_type": "execute_result"
    }
   ],
   "source": [
    "hpt_params = grid_search_result['params']\n",
    "hpt_params"
   ]
  },
  {
   "cell_type": "code",
   "execution_count": 66,
   "metadata": {},
   "outputs": [
    {
     "data": {
      "text/plain": [
       "<catboost.core.CatBoostRegressor at 0x2b93623de0a0>"
      ]
     },
     "execution_count": 66,
     "metadata": {},
     "output_type": "execute_result"
    }
   ],
   "source": [
    "# train the model with the best hyperparameters on the full training set\n",
    "hpt_model = CatBoostRegressor(cat_features=selected_cat_cols\n",
    "                             ,task_type=\"GPU\"\n",
    "                             ,devices=\"0:3\"\n",
    "                             ,border_count=254\n",
    "                             ,per_float_feature_quantization=gf_index+':border_count=1024'\n",
    "                             ,verbose=False\n",
    "                              ,bagging_temperature=hpt_params[\"bagging_temperature\"]\n",
    "                              ,depth=hpt_params[\"depth\"]\n",
    "                              ,iterations=hpt_params[\"iterations\"]\n",
    "                              ,learning_rate=hpt_params[\"learning_rate\"]\n",
    "                            )\n",
    "\n",
    "# fit\n",
    "hpt_model.fit(train[selected_num_cols + selected_cat_cols]\n",
    "             ,train[target]\n",
    "             ,eval_set=(validate[selected_num_cols + selected_cat_cols], validate[target])\n",
    "            )"
   ]
  },
  {
   "cell_type": "code",
   "execution_count": 136,
   "metadata": {},
   "outputs": [
    {
     "name": "stdout",
     "output_type": "stream",
     "text": [
      "R2:  0.894\n",
      "MAE:  2837.78\n",
      "MAPE:  16.8 %\n",
      "RMSE:  4194.96\n",
      "Percent Underpayed:  55.6 %\n",
      "Mean of Underpayment:  3263.89\n",
      "Percent Overpayed:  44.4 %\n",
      "Mean of Overpayment:  -2304.39\n",
      "Mean Error:  791.06\n"
     ]
    }
   ],
   "source": [
    "# predict\n",
    "hpt_preds = hpt_model.predict(validate[selected_num_cols + selected_cat_cols])\n",
    "\n",
    "# results\n",
    "assess_results(validate[target], hpt_preds)"
   ]
  },
  {
   "cell_type": "code",
   "execution_count": null,
   "metadata": {},
   "outputs": [],
   "source": [
    "print('Feature importances:', hpt_model.feature_importances_)"
   ]
  },
  {
   "cell_type": "markdown",
   "metadata": {},
   "source": [
    "### Handicapped CatBoost"
   ]
  },
  {
   "cell_type": "markdown",
   "metadata": {},
   "source": [
    "#### Without Target Encoding"
   ]
  },
  {
   "cell_type": "code",
   "execution_count": 68,
   "metadata": {},
   "outputs": [],
   "source": [
    "selected_num_cols = ['age_months',\n",
    "                     'mvr_mileage',\n",
    "                     'mvr_model_year',\n",
    "                     'doors',\n",
    "                     'cylinders',\n",
    "                     'engine_size',\n",
    "                     'mpg',\n",
    "                     #'make_model_trim_encode',\n",
    "                     'hvf_opt_comp_0',\n",
    "                     'hvf_opt_comp_1',\n",
    "                     'hvf_opt_comp_2',\n",
    "                     'hvf_opt_comp_3',\n",
    "                     'hvf_opt_comp_4',\n",
    "                     'hvf_opt_comp_5',\n",
    "                     'hvf_opt_comp_6',\n",
    "                     'hvf_opt_comp_7',\n",
    "                     'hvf_opt_comp_8',\n",
    "                     'hvf_std_missing',\n",
    "                     'hvf_opt_missing',\n",
    "                    # 'gas_price_index',\n",
    "                    # 'new_car_price_index',\n",
    "                     'used_car_price_index',\n",
    "                     'consumer_sentiment_index',\n",
    "                     'median_income',\n",
    "                     'is_certified'\n",
    "                    ]\n",
    "\n",
    "selected_cat_cols = ['base_exterior_color',\n",
    "                     'base_interior_color',\n",
    "                     'body_type',\n",
    "                     'drivetrain',\n",
    "                     'engine_block',\n",
    "                     'fuel_type',\n",
    "                     'mvr_purchase_month',\n",
    "                     'mvr_state',\n",
    "                     'transmission',\n",
    "                     'vehicle_type'\n",
    "                    ]"
   ]
  },
  {
   "cell_type": "code",
   "execution_count": 69,
   "metadata": {},
   "outputs": [
    {
     "name": "stdout",
     "output_type": "stream",
     "text": [
      "R2:  0.69\n",
      "MAE:  4748.74\n",
      "MAPE:  23.2 %\n",
      "RMSE:  7185.18\n",
      "Percent Underpayed:  61.1 %\n",
      "Mean of Underpayment:  5832.73\n",
      "Percent Overpayed:  38.9 %\n",
      "Mean of Overpayment:  -3048.32\n",
      "Mean Error:  2375.27\n"
     ]
    }
   ],
   "source": [
    "# fit\n",
    "cb_model = CatBoostRegressor(cat_features=selected_cat_cols,verbose=False)\n",
    "cb_model.fit(train[selected_num_cols + selected_cat_cols],train[target])\n",
    "\n",
    "# predict\n",
    "cb_preds = cb_model.predict(validate[selected_num_cols + selected_cat_cols])\n",
    "\n",
    "# results\n",
    "assess_results(validate[target], cb_preds)"
   ]
  },
  {
   "cell_type": "markdown",
   "metadata": {},
   "source": [
    "#### Without External Data"
   ]
  },
  {
   "cell_type": "code",
   "execution_count": 70,
   "metadata": {},
   "outputs": [],
   "source": [
    "selected_num_cols = ['age_months',\n",
    "                     'mvr_mileage',\n",
    "                     'mvr_model_year',\n",
    "                     'doors',\n",
    "                     'cylinders',\n",
    "                     'engine_size',\n",
    "                     'mpg',\n",
    "                     'make_model_trim_encode',\n",
    "                     'hvf_opt_comp_0',\n",
    "                     'hvf_opt_comp_1',\n",
    "                     'hvf_opt_comp_2',\n",
    "                     'hvf_opt_comp_3',\n",
    "                     'hvf_opt_comp_4',\n",
    "                     'hvf_opt_comp_5',\n",
    "                     'hvf_opt_comp_6',\n",
    "                     'hvf_opt_comp_7',\n",
    "                     'hvf_opt_comp_8',\n",
    "                     'hvf_std_missing',\n",
    "                     'hvf_opt_missing',\n",
    "                    # 'gas_price_index',\n",
    "                    # 'new_car_price_index',\n",
    "                    # 'used_car_price_index',\n",
    "                    # 'consumer_sentiment_index',\n",
    "                    # 'median_income',\n",
    "                     'is_certified'\n",
    "                    ]\n",
    "\n",
    "selected_cat_cols = ['base_exterior_color',\n",
    "                     'base_interior_color',\n",
    "                     'body_type',\n",
    "                     'drivetrain',\n",
    "                     'engine_block',\n",
    "                     'fuel_type',\n",
    "                     'mvr_purchase_month',\n",
    "                     'mvr_state',\n",
    "                     'transmission',\n",
    "                     'vehicle_type'\n",
    "                    ]"
   ]
  },
  {
   "cell_type": "code",
   "execution_count": 71,
   "metadata": {},
   "outputs": [
    {
     "name": "stdout",
     "output_type": "stream",
     "text": [
      "R2:  0.871\n",
      "MAE:  3207.83\n",
      "MAPE:  18.1 %\n",
      "RMSE:  4638.71\n",
      "Percent Underpayed:  58.7 %\n",
      "Mean of Underpayment:  3713.27\n",
      "Percent Overpayed:  41.3 %\n",
      "Mean of Overpayment:  -2488.53\n",
      "Mean Error:  1153.86\n"
     ]
    }
   ],
   "source": [
    "# fit\n",
    "cb_model = CatBoostRegressor(cat_features=selected_cat_cols,verbose=False)\n",
    "cb_model.fit(train[selected_num_cols + selected_cat_cols],train[target])\n",
    "\n",
    "# predict\n",
    "cb_preds = cb_model.predict(validate[selected_num_cols + selected_cat_cols])\n",
    "\n",
    "# results\n",
    "assess_results(validate[target], cb_preds)"
   ]
  },
  {
   "cell_type": "markdown",
   "metadata": {},
   "source": [
    "#### Without High Value Features"
   ]
  },
  {
   "cell_type": "code",
   "execution_count": 72,
   "metadata": {},
   "outputs": [],
   "source": [
    "selected_num_cols = ['age_months',\n",
    "                     'mvr_mileage',\n",
    "                     'mvr_model_year',\n",
    "                     'doors',\n",
    "                     'cylinders',\n",
    "                     'engine_size',\n",
    "                     'mpg',\n",
    "                     'make_model_trim_encode',\n",
    "                    # 'hvf_opt_comp_0',\n",
    "                    # 'hvf_opt_comp_1',\n",
    "                    # 'hvf_opt_comp_2',\n",
    "                    # 'hvf_opt_comp_3',\n",
    "                    # 'hvf_opt_comp_4',\n",
    "                    # 'hvf_opt_comp_5',\n",
    "                    # 'hvf_opt_comp_6',\n",
    "                    # 'hvf_opt_comp_7',\n",
    "                    # 'hvf_opt_comp_8',\n",
    "                    # 'hvf_std_missing',\n",
    "                    # 'hvf_opt_missing',\n",
    "                    # 'gas_price_index',\n",
    "                    # 'new_car_price_index',\n",
    "                     'used_car_price_index',\n",
    "                     'consumer_sentiment_index',\n",
    "                     'median_income',\n",
    "                     'is_certified'\n",
    "                    ]\n",
    "\n",
    "selected_cat_cols = ['base_exterior_color',\n",
    "                     'base_interior_color',\n",
    "                     'body_type',\n",
    "                     'drivetrain',\n",
    "                     'engine_block',\n",
    "                     'fuel_type',\n",
    "                     'mvr_purchase_month',\n",
    "                     'mvr_state',\n",
    "                     'transmission',\n",
    "                     'vehicle_type'\n",
    "                    ]"
   ]
  },
  {
   "cell_type": "code",
   "execution_count": 73,
   "metadata": {},
   "outputs": [
    {
     "name": "stdout",
     "output_type": "stream",
     "text": [
      "R2:  0.876\n",
      "MAE:  3115.54\n",
      "MAPE:  17.7 %\n",
      "RMSE:  4544.21\n",
      "Percent Underpayed:  59.7 %\n",
      "Mean of Underpayment:  3604.02\n",
      "Percent Overpayed:  40.3 %\n",
      "Mean of Overpayment:  -2392.96\n",
      "Mean Error:  1185.17\n"
     ]
    }
   ],
   "source": [
    "# fit\n",
    "cb_model = CatBoostRegressor(cat_features=selected_cat_cols,verbose=False)\n",
    "cb_model.fit(train[selected_num_cols + selected_cat_cols],train[target])\n",
    "\n",
    "# predict\n",
    "cb_preds = cb_model.predict(validate[selected_num_cols + selected_cat_cols])\n",
    "\n",
    "# results\n",
    "assess_results(validate[target], cb_preds)"
   ]
  },
  {
   "cell_type": "markdown",
   "metadata": {},
   "source": [
    "## Tilted Loss\n",
    "Allows targetting of quantiles\n",
    "\n",
    "https://brendanhasz.github.io/2018/12/15/quantile-regression.html#quantile-regression"
   ]
  },
  {
   "cell_type": "code",
   "execution_count": 74,
   "metadata": {},
   "outputs": [],
   "source": [
    "selected_num_cols = ['age_months',\n",
    "                     'mvr_mileage',\n",
    "                     'mvr_model_year',\n",
    "                     'doors',\n",
    "                     'cylinders',\n",
    "                     'engine_size',\n",
    "                     'mpg',\n",
    "                     'make_model_trim_encode',\n",
    "                     'hvf_opt_comp_0',\n",
    "                     'hvf_opt_comp_1',\n",
    "                     'hvf_opt_comp_2',\n",
    "                     'hvf_opt_comp_3',\n",
    "                     'hvf_opt_comp_4',\n",
    "                     'hvf_opt_comp_5',\n",
    "                     'hvf_opt_comp_6',\n",
    "                     'hvf_opt_comp_7',\n",
    "                     'hvf_opt_comp_8',\n",
    "                     'hvf_std_missing',\n",
    "                     'hvf_opt_missing',\n",
    "                    # 'gas_price_index',\n",
    "                    # 'new_car_price_index',\n",
    "                     'used_car_price_index',\n",
    "                     'consumer_sentiment_index',\n",
    "                     'median_income',\n",
    "                     'is_certified'\n",
    "                    ]\n",
    "\n",
    "selected_cat_cols = ['base_exterior_color',\n",
    "                     'base_interior_color',\n",
    "                     'body_type',\n",
    "                     'drivetrain',\n",
    "                     'engine_block',\n",
    "                     'fuel_type',\n",
    "                     'mvr_purchase_month',\n",
    "                     'mvr_state',\n",
    "                     'transmission',\n",
    "                     'vehicle_type'\n",
    "                    ]"
   ]
  },
  {
   "cell_type": "code",
   "execution_count": 75,
   "metadata": {},
   "outputs": [
    {
     "data": {
      "text/plain": [
       "<catboost.core.CatBoostRegressor at 0x2b9360e9bfd0>"
      ]
     },
     "execution_count": 75,
     "metadata": {},
     "output_type": "execute_result"
    }
   ],
   "source": [
    "# fit\n",
    "cb_model_50 = CatBoostRegressor(cat_features=selected_cat_cols,verbose=False\n",
    "                            ,loss_function='Quantile:alpha=0.5')\n",
    "cb_model_50.fit(train[selected_num_cols + selected_cat_cols],train[target])"
   ]
  },
  {
   "cell_type": "code",
   "execution_count": null,
   "metadata": {},
   "outputs": [],
   "source": [
    "# fit\n",
    "cb_model_30 = CatBoostRegressor(cat_features=selected_cat_cols,verbose=False\n",
    "                            ,loss_function='Quantile:alpha=0.3')\n",
    "cb_model_30.fit(train[selected_num_cols + selected_cat_cols],train[target])"
   ]
  },
  {
   "cell_type": "code",
   "execution_count": null,
   "metadata": {},
   "outputs": [],
   "source": [
    "# fit\n",
    "cb_model_40 = CatBoostRegressor(cat_features=selected_cat_cols,verbose=False\n",
    "                            ,loss_function='Quantile:alpha=0.4')\n",
    "cb_model_40.fit(train[selected_num_cols + selected_cat_cols],train[target])"
   ]
  },
  {
   "cell_type": "code",
   "execution_count": null,
   "metadata": {},
   "outputs": [],
   "source": [
    "# fit\n",
    "cb_model_60 = CatBoostRegressor(cat_features=selected_cat_cols,verbose=False\n",
    "                            ,loss_function='Quantile:alpha=0.6')\n",
    "cb_model_60.fit(train[selected_num_cols + selected_cat_cols],train[target])"
   ]
  },
  {
   "cell_type": "code",
   "execution_count": null,
   "metadata": {},
   "outputs": [],
   "source": [
    "# fit\n",
    "cb_model_70 = CatBoostRegressor(cat_features=selected_cat_cols,verbose=False\n",
    "                            ,loss_function='Quantile:alpha=0.7')\n",
    "cb_model_70.fit(train[selected_num_cols + selected_cat_cols],train[target])"
   ]
  },
  {
   "cell_type": "markdown",
   "metadata": {},
   "source": [
    "## Save Models"
   ]
  },
  {
   "cell_type": "code",
   "execution_count": null,
   "metadata": {},
   "outputs": [],
   "source": [
    "working_dir = \"/data/p_dsi/capstone_projects/shea/working/\"\n",
    "with open(working_dir + 'hpt_model.pickle', 'wb') as file:\n",
    "    pickle.dump(hpt_model, file)"
   ]
  },
  {
   "cell_type": "code",
   "execution_count": null,
   "metadata": {},
   "outputs": [],
   "source": [
    "working_dir = \"/data/p_dsi/capstone_projects/shea/working/\"\n",
    "with open(working_dir + 'cb_model_30.pickle', 'wb') as file:\n",
    "    pickle.dump(cb_model_30, file)"
   ]
  },
  {
   "cell_type": "code",
   "execution_count": null,
   "metadata": {},
   "outputs": [],
   "source": [
    "working_dir = \"/data/p_dsi/capstone_projects/shea/working/\"\n",
    "with open(working_dir + 'cb_model_40.pickle', 'wb') as file:\n",
    "    pickle.dump(cb_model_40, file)"
   ]
  },
  {
   "cell_type": "code",
   "execution_count": null,
   "metadata": {},
   "outputs": [],
   "source": [
    "working_dir = \"/data/p_dsi/capstone_projects/shea/working/\"\n",
    "with open(working_dir + 'cb_model_50.pickle', 'wb') as file:\n",
    "    pickle.dump(cb_model_50, file)"
   ]
  },
  {
   "cell_type": "code",
   "execution_count": null,
   "metadata": {},
   "outputs": [],
   "source": [
    "working_dir = \"/data/p_dsi/capstone_projects/shea/working/\"\n",
    "with open(working_dir + 'cb_model_60.pickle', 'wb') as file:\n",
    "    pickle.dump(cb_model_60, file)"
   ]
  },
  {
   "cell_type": "code",
   "execution_count": null,
   "metadata": {},
   "outputs": [],
   "source": [
    "working_dir = \"/data/p_dsi/capstone_projects/shea/working/\"\n",
    "with open(working_dir + 'cb_model_70.pickle', 'wb') as file:\n",
    "    pickle.dump(cb_model_70, file)"
   ]
  },
  {
   "cell_type": "markdown",
   "metadata": {},
   "source": [
    "## Reload Stuff"
   ]
  },
  {
   "cell_type": "code",
   "execution_count": 8,
   "metadata": {},
   "outputs": [],
   "source": [
    "import pickle\n",
    "import pandas"
   ]
  },
  {
   "cell_type": "code",
   "execution_count": 6,
   "metadata": {},
   "outputs": [],
   "source": [
    "working_dir = \"/data/p_dsi/capstone_projects/shea/working/\"\n",
    "train = pd.read_pickle(working_dir + \"train.pkl\")\n",
    "validate = pd.read_pickle(working_dir + \"validate.pkl\")\n",
    "test = pd.read_pickle(working_dir + \"test.pkl\")"
   ]
  },
  {
   "cell_type": "code",
   "execution_count": 9,
   "metadata": {},
   "outputs": [],
   "source": [
    "working_dir = \"/data/p_dsi/capstone_projects/shea/working/\"\n",
    "with open(working_dir + 'hpt_model.pickle', 'rb') as f:\n",
    "    hpt_model = pickle.load(f)"
   ]
  },
  {
   "cell_type": "code",
   "execution_count": 10,
   "metadata": {},
   "outputs": [],
   "source": [
    "working_dir = \"/data/p_dsi/capstone_projects/shea/working/\"\n",
    "with open(working_dir + 'cb_model_30.pickle', 'rb') as f:\n",
    "    cb_model_30 = pickle.load(f)\n",
    "    \n",
    "working_dir = \"/data/p_dsi/capstone_projects/shea/working/\"\n",
    "with open(working_dir + 'cb_model_40.pickle', 'rb') as f:\n",
    "    cb_model_40 = pickle.load(f)\n",
    "    \n",
    "working_dir = \"/data/p_dsi/capstone_projects/shea/working/\"\n",
    "with open(working_dir + 'cb_model_50.pickle', 'rb') as f:\n",
    "    cb_model_50 = pickle.load(f)\n",
    "    \n",
    "working_dir = \"/data/p_dsi/capstone_projects/shea/working/\"\n",
    "with open(working_dir + 'cb_model_60.pickle', 'rb') as f:\n",
    "    cb_model_60 = pickle.load(f)\n",
    "    \n",
    "working_dir = \"/data/p_dsi/capstone_projects/shea/working/\"\n",
    "with open(working_dir + 'cb_model_70.pickle', 'rb') as f:\n",
    "    cb_model_70 = pickle.load(f)"
   ]
  },
  {
   "cell_type": "markdown",
   "metadata": {},
   "source": [
    "## Presentation Stuff"
   ]
  },
  {
   "cell_type": "code",
   "execution_count": 11,
   "metadata": {},
   "outputs": [],
   "source": [
    "from sklearn.metrics import mean_absolute_error\n",
    "from sklearn.metrics import mean_squared_error\n",
    "from sklearn.metrics import r2_score\n",
    "\n",
    "def assess_results(y_test, y_pred):\n",
    "    print(\"R2: \", round(r2_score(y_test, y_pred),3))\n",
    "    print(\"MAE: \", round(mean_absolute_error(y_test, y_pred),2))\n",
    "    print(\"MAPE: \", round(np.mean(np.abs((y_test - y_pred) / y_test)) * 100,1),\"%\")\n",
    "    print(\"RMSE: \", round(np.sqrt(mean_squared_error(y_test, y_pred)),2))\n",
    "    print(\"Percent Underpayed: \", round(len((y_test - y_pred)[(y_test - y_pred) >= 0]) / len(y_test) * 100,1),\"%\")\n",
    "    print(\"Mean of Underpayment: \", round(np.mean((y_test - y_pred)[(y_test - y_pred) > 0]),2))\n",
    "    print(\"Percent Overpayed: \", round(len((y_test - y_pred)[(y_test - y_pred) < 0]) / len(y_test) * 100,1),\"%\")\n",
    "    print(\"Mean of Overpayment: \", round(np.mean((y_test - y_pred)[(y_test - y_pred) < 0]),2))\n",
    "    print(\"Mean Error: \", round(np.mean(y_test - y_pred),2)) \n",
    "    "
   ]
  },
  {
   "cell_type": "code",
   "execution_count": 15,
   "metadata": {},
   "outputs": [],
   "source": [
    "selected_num_cols = ['age_months',\n",
    "                     'mvr_mileage',\n",
    "                     'mvr_model_year',\n",
    "                     'doors',\n",
    "                     'cylinders',\n",
    "                     'engine_size',\n",
    "                     'mpg',\n",
    "                     'make_model_trim_encode',\n",
    "                     'hvf_opt_comp_0',\n",
    "                     'hvf_opt_comp_1',\n",
    "                     'hvf_opt_comp_2',\n",
    "                     'hvf_opt_comp_3',\n",
    "                     'hvf_opt_comp_4',\n",
    "                     'hvf_opt_comp_5',\n",
    "                     'hvf_opt_comp_6',\n",
    "                     'hvf_opt_comp_7',\n",
    "                     'hvf_opt_comp_8',\n",
    "                     'hvf_std_missing',\n",
    "                     'hvf_opt_missing',\n",
    "                    # 'gas_price_index',\n",
    "                    # 'new_car_price_index',\n",
    "                     'used_car_price_index',\n",
    "                     'consumer_sentiment_index',\n",
    "                     'median_income',\n",
    "                     'is_certified'\n",
    "                    ]\n",
    "\n",
    "selected_cat_cols = ['base_exterior_color',\n",
    "                     'base_interior_color',\n",
    "                     'body_type',\n",
    "                     'drivetrain',\n",
    "                     'engine_block',\n",
    "                     'fuel_type',\n",
    "                     'mvr_purchase_month',\n",
    "                     'mvr_state',\n",
    "                     'transmission',\n",
    "                     'vehicle_type'\n",
    "                    ]\n",
    "\n",
    "target = 'mvr_price'"
   ]
  },
  {
   "cell_type": "markdown",
   "metadata": {},
   "source": [
    "### Model Stats"
   ]
  },
  {
   "cell_type": "code",
   "execution_count": 16,
   "metadata": {},
   "outputs": [
    {
     "name": "stdout",
     "output_type": "stream",
     "text": [
      "R2:  0.88\n",
      "MAE:  3074.05\n",
      "MAPE:  17.6 %\n",
      "RMSE:  4462.04\n",
      "Percent Underpayed:  59.2 %\n",
      "Mean of Underpayment:  3547.36\n",
      "Percent Overpayed:  40.8 %\n",
      "Mean of Overpayment:  -2386.01\n",
      "Mean Error:  1129.19\n"
     ]
    }
   ],
   "source": [
    "# predict\n",
    "hpt_preds = hpt_model.predict(validate[selected_num_cols + selected_cat_cols])\n",
    "\n",
    "# results\n",
    "assess_results(validate[target], hpt_preds)"
   ]
  },
  {
   "cell_type": "markdown",
   "metadata": {},
   "source": [
    "### Actual vs Predicted"
   ]
  },
  {
   "cell_type": "code",
   "execution_count": 19,
   "metadata": {},
   "outputs": [],
   "source": [
    "import matplotlib.pyplot as plt\n",
    "import numpy as np"
   ]
  },
  {
   "cell_type": "code",
   "execution_count": 168,
   "metadata": {},
   "outputs": [],
   "source": [
    "import random\n",
    "range_end = len(hpt_preds)\n",
    "sample_size = int(range_end * 0.001) # Calculate the size of the sample\n",
    "sample = random.sample(range(range_end), sample_size) # Generate the sample"
   ]
  },
  {
   "cell_type": "code",
   "execution_count": 181,
   "metadata": {},
   "outputs": [
    {
     "data": {
      "image/png": "[encoded data removed]",
      "text/plain": [
       "<Figure size 800x800 with 1 Axes>"
      ]
     },
     "metadata": {
      "needs_background": "light"
     },
     "output_type": "display_data"
    }
   ],
   "source": [
    "%matplotlib inline\n",
    "\n",
    "# predicted vs actuals\n",
    "x = validate[target].reset_index(drop=True)[sample]\n",
    "y = hpt_preds[sample]\n",
    "\n",
    "# Create figure and axis\n",
    "fig, ax = plt.subplots(figsize=(8, 8), dpi=100)\n",
    "\n",
    "# Set axis limits and aspect ratio\n",
    "ax.set_xlim(0, 100000)\n",
    "ax.set_ylim(0, 100000)\n",
    "ax.set_aspect('equal')\n",
    "\n",
    "# Plot points in black\n",
    "ax.scatter(x, y, color='black', alpha=0.25)\n",
    "\n",
    "# Plot 45 degree line in red\n",
    "ax.plot([0, 100000], [0, 100000], color='red')\n",
    "\n",
    "# Set axis labels\n",
    "ax.set_xlabel('Actuals', fontsize=30)\n",
    "ax.set_ylabel('Predicted', fontsize=30)\n",
    "\n",
    "# Format x-axis and y-axis as dollars\n",
    "import matplotlib.ticker as mtick\n",
    "fmt_dollars = mtick.StrMethodFormatter('${x:,.0f}')\n",
    "ax.xaxis.set_major_formatter(fmt_dollars)\n",
    "ax.yaxis.set_major_formatter(fmt_dollars)\n",
    "\n",
    "# Show ticks and labels only at $0, $50000, and $100000\n",
    "ax.set_xticks([0, 50000, 100000])\n",
    "ax.set_yticks([0, 50000, 100000])\n",
    "ax.set_xticklabels(['$0', '$50K', '$100K'], fontsize=14)\n",
    "ax.set_yticklabels(['', '$50K', '$100K'], fontsize=14)\n",
    "\n",
    "# Show plot\n",
    "plt.show()\n"
   ]
  },
  {
   "cell_type": "markdown",
   "metadata": {},
   "source": [
    "### Demonstrate Range"
   ]
  },
  {
   "cell_type": "code",
   "execution_count": 84,
   "metadata": {},
   "outputs": [],
   "source": [
    "# predict\n",
    "cb_30_preds = cb_model_30.predict(validate[selected_num_cols + selected_cat_cols])\n",
    "cb_40_preds = cb_model_40.predict(validate[selected_num_cols + selected_cat_cols])\n",
    "cb_50_preds = cb_model_50.predict(validate[selected_num_cols + selected_cat_cols])\n",
    "cb_60_preds = cb_model_60.predict(validate[selected_num_cols + selected_cat_cols])\n",
    "cb_70_preds = cb_model_70.predict(validate[selected_num_cols + selected_cat_cols])"
   ]
  },
  {
   "cell_type": "code",
   "execution_count": 138,
   "metadata": {},
   "outputs": [
    {
     "data": {
      "text/plain": [
       "6"
      ]
     },
     "execution_count": 138,
     "metadata": {},
     "output_type": "execute_result"
    }
   ],
   "source": [
    "price_point = 15000\n",
    "price_inc = 0.2\n",
    "vehicles = ((cb_50_preds > price_point) & (cb_50_preds < price_point + price_inc))\n",
    "sum(vehicles)"
   ]
  },
  {
   "cell_type": "code",
   "execution_count": 139,
   "metadata": {},
   "outputs": [
    {
     "data": {
      "text/plain": [
       "array([2151.92580548, 2438.04478349, 1515.28044978, 2070.81799289,\n",
       "       2109.25190992, 2835.33259933])"
      ]
     },
     "execution_count": 139,
     "metadata": {},
     "output_type": "execute_result"
    }
   ],
   "source": [
    "diffs = cb_70_preds[vehicles] - cb_30_preds[vehicles]\n",
    "diffs"
   ]
  },
  {
   "cell_type": "code",
   "execution_count": 140,
   "metadata": {},
   "outputs": [
    {
     "data": {
      "text/plain": [
       "1320.052149545154"
      ]
     },
     "execution_count": 140,
     "metadata": {},
     "output_type": "execute_result"
    }
   ],
   "source": [
    "max_diff_diff = max(diffs) - min(diffs)\n",
    "max_diff_diff"
   ]
  },
  {
   "cell_type": "code",
   "execution_count": 148,
   "metadata": {},
   "outputs": [
    {
     "data": {
      "text/html": [
       "<div>\n",
       "<style scoped>\n",
       "    .dataframe tbody tr th:only-of-type {\n",
       "        vertical-align: middle;\n",
       "    }\n",
       "\n",
       "    .dataframe tbody tr th {\n",
       "        vertical-align: top;\n",
       "    }\n",
       "\n",
       "    .dataframe thead th {\n",
       "        text-align: right;\n",
       "    }\n",
       "</style>\n",
       "<table border=\"1\" class=\"dataframe\">\n",
       "  <thead>\n",
       "    <tr style=\"text-align: right;\">\n",
       "      <th></th>\n",
       "      <th>mvr_price</th>\n",
       "      <th>make</th>\n",
       "      <th>model</th>\n",
       "      <th>trim</th>\n",
       "      <th>mvr_model_year</th>\n",
       "      <th>mvr_mileage</th>\n",
       "      <th>age_months</th>\n",
       "      <th>vehicle_type</th>\n",
       "      <th>body_type</th>\n",
       "      <th>body_subtype</th>\n",
       "      <th>drivetrain</th>\n",
       "      <th>fuel_type</th>\n",
       "      <th>engine_block</th>\n",
       "      <th>engine_size</th>\n",
       "      <th>transmission</th>\n",
       "      <th>doors</th>\n",
       "      <th>cylinders</th>\n",
       "      <th>base_exterior_color</th>\n",
       "      <th>base_interior_color</th>\n",
       "      <th>is_certified</th>\n",
       "      <th>zip</th>\n",
       "      <th>mvr_state</th>\n",
       "      <th>hvf_standard</th>\n",
       "      <th>hvf_optional</th>\n",
       "      <th>mvr_purchase_date</th>\n",
       "      <th>make_model_encode</th>\n",
       "      <th>make_model_trim_encode</th>\n",
       "      <th>mvr_purchase_month</th>\n",
       "      <th>monthly_mileage</th>\n",
       "      <th>mpg</th>\n",
       "      <th>population_density</th>\n",
       "      <th>median_income</th>\n",
       "      <th>median_home_value</th>\n",
       "      <th>mvr_purchase_yearmonth</th>\n",
       "      <th>used_car_price_index</th>\n",
       "      <th>new_car_price_index</th>\n",
       "      <th>gas_price_index</th>\n",
       "      <th>consumer_sentiment_index</th>\n",
       "      <th>hvf_opt_missing</th>\n",
       "      <th>hvf_std_missing</th>\n",
       "      <th>hvf_opt_comp_0</th>\n",
       "      <th>hvf_opt_comp_1</th>\n",
       "      <th>hvf_opt_comp_2</th>\n",
       "      <th>hvf_opt_comp_3</th>\n",
       "      <th>hvf_opt_comp_4</th>\n",
       "      <th>hvf_opt_comp_5</th>\n",
       "      <th>hvf_opt_comp_6</th>\n",
       "      <th>hvf_opt_comp_7</th>\n",
       "      <th>hvf_opt_comp_8</th>\n",
       "      <th>hvf_all_comp_0</th>\n",
       "      <th>hvf_all_comp_1</th>\n",
       "      <th>hvf_all_comp_2</th>\n",
       "      <th>hvf_all_comp_3</th>\n",
       "      <th>hvf_all_comp_4</th>\n",
       "      <th>hvf_all_comp_5</th>\n",
       "      <th>hvf_all_comp_6</th>\n",
       "      <th>hvf_all_comp_7</th>\n",
       "      <th>hvf_all_comp_8</th>\n",
       "      <th>mvr_price_bc</th>\n",
       "    </tr>\n",
       "  </thead>\n",
       "  <tbody>\n",
       "    <tr>\n",
       "      <th>571562</th>\n",
       "      <td>16695.00</td>\n",
       "      <td>Ford</td>\n",
       "      <td>Fiesta</td>\n",
       "      <td>SE</td>\n",
       "      <td>2018</td>\n",
       "      <td>3691.00</td>\n",
       "      <td>20</td>\n",
       "      <td>Car</td>\n",
       "      <td>Sedan</td>\n",
       "      <td>None</td>\n",
       "      <td>FWD</td>\n",
       "      <td>Unleaded</td>\n",
       "      <td>I</td>\n",
       "      <td>2.00</td>\n",
       "      <td>Automatic</td>\n",
       "      <td>4.00</td>\n",
       "      <td>4.00</td>\n",
       "      <td>Black</td>\n",
       "      <td>Black</td>\n",
       "      <td>0.00</td>\n",
       "      <td>78599</td>\n",
       "      <td>TX</td>\n",
       "      <td>[Keyless Entry/Locking, Brake Assist, Parking ...</td>\n",
       "      <td>None</td>\n",
       "      <td>2019-02-05</td>\n",
       "      <td>11300.62</td>\n",
       "      <td>11141.45</td>\n",
       "      <td>2</td>\n",
       "      <td>184.60</td>\n",
       "      <td>29.95</td>\n",
       "      <td>2011.00</td>\n",
       "      <td>49598.00</td>\n",
       "      <td>133800.00</td>\n",
       "      <td>2019-02</td>\n",
       "      <td>138.80</td>\n",
       "      <td>147.85</td>\n",
       "      <td>2.25</td>\n",
       "      <td>91.20</td>\n",
       "      <td>1</td>\n",
       "      <td>0</td>\n",
       "      <td>0.00</td>\n",
       "      <td>0.00</td>\n",
       "      <td>0.00</td>\n",
       "      <td>0.00</td>\n",
       "      <td>0.00</td>\n",
       "      <td>0.00</td>\n",
       "      <td>0.00</td>\n",
       "      <td>0.00</td>\n",
       "      <td>0.00</td>\n",
       "      <td>-1.80</td>\n",
       "      <td>-0.28</td>\n",
       "      <td>-0.60</td>\n",
       "      <td>-0.05</td>\n",
       "      <td>0.03</td>\n",
       "      <td>-0.51</td>\n",
       "      <td>0.48</td>\n",
       "      <td>0.48</td>\n",
       "      <td>-0.53</td>\n",
       "      <td>55.46</td>\n",
       "    </tr>\n",
       "    <tr>\n",
       "      <th>5572123</th>\n",
       "      <td>15840.00</td>\n",
       "      <td>GENERAL MOTORS</td>\n",
       "      <td>Terrain</td>\n",
       "      <td>Denali</td>\n",
       "      <td>2013</td>\n",
       "      <td>80971.00</td>\n",
       "      <td>89</td>\n",
       "      <td>Truck</td>\n",
       "      <td>SUV</td>\n",
       "      <td>None</td>\n",
       "      <td>FWD</td>\n",
       "      <td>Unleaded</td>\n",
       "      <td>I</td>\n",
       "      <td>2.50</td>\n",
       "      <td>Automatic</td>\n",
       "      <td>5.00</td>\n",
       "      <td>4.00</td>\n",
       "      <td>Black</td>\n",
       "      <td>Black</td>\n",
       "      <td>0.00</td>\n",
       "      <td>44057</td>\n",
       "      <td>OH</td>\n",
       "      <td>None</td>\n",
       "      <td>None</td>\n",
       "      <td>2019-11-11</td>\n",
       "      <td>20364.97</td>\n",
       "      <td>26150.28</td>\n",
       "      <td>11</td>\n",
       "      <td>909.80</td>\n",
       "      <td>23.60</td>\n",
       "      <td>399.00</td>\n",
       "      <td>50648.00</td>\n",
       "      <td>132000.00</td>\n",
       "      <td>2019-11</td>\n",
       "      <td>138.41</td>\n",
       "      <td>145.58</td>\n",
       "      <td>2.63</td>\n",
       "      <td>95.50</td>\n",
       "      <td>1</td>\n",
       "      <td>1</td>\n",
       "      <td>0.00</td>\n",
       "      <td>0.00</td>\n",
       "      <td>0.00</td>\n",
       "      <td>0.00</td>\n",
       "      <td>0.00</td>\n",
       "      <td>0.00</td>\n",
       "      <td>0.00</td>\n",
       "      <td>0.00</td>\n",
       "      <td>0.00</td>\n",
       "      <td>0.00</td>\n",
       "      <td>0.00</td>\n",
       "      <td>0.00</td>\n",
       "      <td>0.00</td>\n",
       "      <td>0.00</td>\n",
       "      <td>0.00</td>\n",
       "      <td>0.00</td>\n",
       "      <td>0.00</td>\n",
       "      <td>0.00</td>\n",
       "      <td>54.56</td>\n",
       "    </tr>\n",
       "    <tr>\n",
       "      <th>3303914</th>\n",
       "      <td>14595.00</td>\n",
       "      <td>Toyota</td>\n",
       "      <td>Corolla</td>\n",
       "      <td>LE</td>\n",
       "      <td>2017</td>\n",
       "      <td>27985.00</td>\n",
       "      <td>29</td>\n",
       "      <td>Car</td>\n",
       "      <td>Sedan</td>\n",
       "      <td>None</td>\n",
       "      <td>FWD</td>\n",
       "      <td>Unleaded</td>\n",
       "      <td>I</td>\n",
       "      <td>2.00</td>\n",
       "      <td>CVT</td>\n",
       "      <td>4.00</td>\n",
       "      <td>4.00</td>\n",
       "      <td>Silver</td>\n",
       "      <td>Gray</td>\n",
       "      <td>0.00</td>\n",
       "      <td>78758</td>\n",
       "      <td>TX</td>\n",
       "      <td>None</td>\n",
       "      <td>None</td>\n",
       "      <td>2018-10-25</td>\n",
       "      <td>16142.45</td>\n",
       "      <td>16203.82</td>\n",
       "      <td>10</td>\n",
       "      <td>965.00</td>\n",
       "      <td>29.95</td>\n",
       "      <td>4747.00</td>\n",
       "      <td>43537.00</td>\n",
       "      <td>146100.00</td>\n",
       "      <td>2018-10</td>\n",
       "      <td>135.13</td>\n",
       "      <td>145.43</td>\n",
       "      <td>2.84</td>\n",
       "      <td>100.10</td>\n",
       "      <td>1</td>\n",
       "      <td>1</td>\n",
       "      <td>0.00</td>\n",
       "      <td>0.00</td>\n",
       "      <td>0.00</td>\n",
       "      <td>0.00</td>\n",
       "      <td>0.00</td>\n",
       "      <td>0.00</td>\n",
       "      <td>0.00</td>\n",
       "      <td>0.00</td>\n",
       "      <td>0.00</td>\n",
       "      <td>0.00</td>\n",
       "      <td>0.00</td>\n",
       "      <td>0.00</td>\n",
       "      <td>0.00</td>\n",
       "      <td>0.00</td>\n",
       "      <td>0.00</td>\n",
       "      <td>0.00</td>\n",
       "      <td>0.00</td>\n",
       "      <td>0.00</td>\n",
       "      <td>53.19</td>\n",
       "    </tr>\n",
       "    <tr>\n",
       "      <th>5286198</th>\n",
       "      <td>15750.00</td>\n",
       "      <td>Chevrolet</td>\n",
       "      <td>Malibu Limited</td>\n",
       "      <td>1LT</td>\n",
       "      <td>2016</td>\n",
       "      <td>31048.00</td>\n",
       "      <td>45</td>\n",
       "      <td>Car</td>\n",
       "      <td>Sedan</td>\n",
       "      <td>None</td>\n",
       "      <td>FWD</td>\n",
       "      <td>Unleaded</td>\n",
       "      <td>I</td>\n",
       "      <td>2.00</td>\n",
       "      <td>Automatic</td>\n",
       "      <td>4.00</td>\n",
       "      <td>4.00</td>\n",
       "      <td>White</td>\n",
       "      <td>Black</td>\n",
       "      <td>1.00</td>\n",
       "      <td>45324</td>\n",
       "      <td>OH</td>\n",
       "      <td>[Keyless Entry/Locking, Brake Assist, Automati...</td>\n",
       "      <td>None</td>\n",
       "      <td>2019-02-20</td>\n",
       "      <td>14889.80</td>\n",
       "      <td>14889.80</td>\n",
       "      <td>2</td>\n",
       "      <td>690.00</td>\n",
       "      <td>29.95</td>\n",
       "      <td>1265.00</td>\n",
       "      <td>43020.00</td>\n",
       "      <td>115400.00</td>\n",
       "      <td>2019-02</td>\n",
       "      <td>138.80</td>\n",
       "      <td>147.85</td>\n",
       "      <td>2.25</td>\n",
       "      <td>91.20</td>\n",
       "      <td>1</td>\n",
       "      <td>0</td>\n",
       "      <td>0.00</td>\n",
       "      <td>0.00</td>\n",
       "      <td>0.00</td>\n",
       "      <td>0.00</td>\n",
       "      <td>0.00</td>\n",
       "      <td>0.00</td>\n",
       "      <td>0.00</td>\n",
       "      <td>0.00</td>\n",
       "      <td>0.00</td>\n",
       "      <td>-1.01</td>\n",
       "      <td>-0.13</td>\n",
       "      <td>0.87</td>\n",
       "      <td>0.29</td>\n",
       "      <td>0.27</td>\n",
       "      <td>-1.13</td>\n",
       "      <td>-0.58</td>\n",
       "      <td>-0.74</td>\n",
       "      <td>0.19</td>\n",
       "      <td>54.47</td>\n",
       "    </tr>\n",
       "    <tr>\n",
       "      <th>589956</th>\n",
       "      <td>20995.00</td>\n",
       "      <td>Jeep</td>\n",
       "      <td>Compass</td>\n",
       "      <td>Sport</td>\n",
       "      <td>2018</td>\n",
       "      <td>43236.00</td>\n",
       "      <td>29</td>\n",
       "      <td>Truck</td>\n",
       "      <td>SUV</td>\n",
       "      <td>None</td>\n",
       "      <td>FWD</td>\n",
       "      <td>Unleaded</td>\n",
       "      <td>I</td>\n",
       "      <td>2.50</td>\n",
       "      <td>Automatic</td>\n",
       "      <td>5.00</td>\n",
       "      <td>4.00</td>\n",
       "      <td>Black</td>\n",
       "      <td>Gray</td>\n",
       "      <td>0.00</td>\n",
       "      <td>78612</td>\n",
       "      <td>TX</td>\n",
       "      <td>[Keyless Entry/Locking, Brake Assist, Parking ...</td>\n",
       "      <td>[Automatic Transmission, Satellite Radio]</td>\n",
       "      <td>2019-11-06</td>\n",
       "      <td>19778.04</td>\n",
       "      <td>14699.39</td>\n",
       "      <td>11</td>\n",
       "      <td>1490.90</td>\n",
       "      <td>23.60</td>\n",
       "      <td>122.00</td>\n",
       "      <td>63144.00</td>\n",
       "      <td>132700.00</td>\n",
       "      <td>2019-11</td>\n",
       "      <td>138.41</td>\n",
       "      <td>145.58</td>\n",
       "      <td>2.63</td>\n",
       "      <td>95.50</td>\n",
       "      <td>0</td>\n",
       "      <td>0</td>\n",
       "      <td>-0.73</td>\n",
       "      <td>0.14</td>\n",
       "      <td>0.10</td>\n",
       "      <td>-0.18</td>\n",
       "      <td>-0.24</td>\n",
       "      <td>-0.05</td>\n",
       "      <td>0.34</td>\n",
       "      <td>-0.09</td>\n",
       "      <td>0.39</td>\n",
       "      <td>-1.09</td>\n",
       "      <td>-0.62</td>\n",
       "      <td>0.36</td>\n",
       "      <td>-0.52</td>\n",
       "      <td>-0.87</td>\n",
       "      <td>0.04</td>\n",
       "      <td>-0.17</td>\n",
       "      <td>-0.28</td>\n",
       "      <td>0.15</td>\n",
       "      <td>59.55</td>\n",
       "    </tr>\n",
       "    <tr>\n",
       "      <th>4958522</th>\n",
       "      <td>15250.00</td>\n",
       "      <td>Ford</td>\n",
       "      <td>Edge</td>\n",
       "      <td>SEL</td>\n",
       "      <td>2014</td>\n",
       "      <td>115406.00</td>\n",
       "      <td>108</td>\n",
       "      <td>Truck</td>\n",
       "      <td>SUV</td>\n",
       "      <td>None</td>\n",
       "      <td>FWD</td>\n",
       "      <td>Unleaded</td>\n",
       "      <td>V</td>\n",
       "      <td>2.50</td>\n",
       "      <td>Automatic</td>\n",
       "      <td>5.00</td>\n",
       "      <td>4.00</td>\n",
       "      <td>White</td>\n",
       "      <td>Black</td>\n",
       "      <td>0.00</td>\n",
       "      <td>44870</td>\n",
       "      <td>OH</td>\n",
       "      <td>[Brake Assist, Parking distance system, Parkin...</td>\n",
       "      <td>None</td>\n",
       "      <td>2022-05-28</td>\n",
       "      <td>20691.91</td>\n",
       "      <td>20718.91</td>\n",
       "      <td>5</td>\n",
       "      <td>1068.60</td>\n",
       "      <td>23.60</td>\n",
       "      <td>704.00</td>\n",
       "      <td>40944.00</td>\n",
       "      <td>109400.00</td>\n",
       "      <td>2022-05</td>\n",
       "      <td>206.98</td>\n",
       "      <td>169.64</td>\n",
       "      <td>4.11</td>\n",
       "      <td>65.20</td>\n",
       "      <td>1</td>\n",
       "      <td>0</td>\n",
       "      <td>0.00</td>\n",
       "      <td>0.00</td>\n",
       "      <td>0.00</td>\n",
       "      <td>0.00</td>\n",
       "      <td>0.00</td>\n",
       "      <td>0.00</td>\n",
       "      <td>0.00</td>\n",
       "      <td>0.00</td>\n",
       "      <td>0.00</td>\n",
       "      <td>-1.33</td>\n",
       "      <td>0.39</td>\n",
       "      <td>-0.06</td>\n",
       "      <td>-0.16</td>\n",
       "      <td>0.50</td>\n",
       "      <td>-0.10</td>\n",
       "      <td>-0.17</td>\n",
       "      <td>-0.37</td>\n",
       "      <td>0.52</td>\n",
       "      <td>53.92</td>\n",
       "    </tr>\n",
       "  </tbody>\n",
       "</table>\n",
       "</div>"
      ],
      "text/plain": [
       "         mvr_price            make           model    trim  mvr_model_year  \\\n",
       "571562    16695.00            Ford          Fiesta      SE            2018   \n",
       "5572123   15840.00  GENERAL MOTORS         Terrain  Denali            2013   \n",
       "3303914   14595.00          Toyota         Corolla      LE            2017   \n",
       "5286198   15750.00       Chevrolet  Malibu Limited     1LT            2016   \n",
       "589956    20995.00            Jeep         Compass   Sport            2018   \n",
       "4958522   15250.00            Ford            Edge     SEL            2014   \n",
       "\n",
       "         mvr_mileage  age_months vehicle_type body_type body_subtype  \\\n",
       "571562       3691.00          20          Car     Sedan         None   \n",
       "5572123     80971.00          89        Truck       SUV         None   \n",
       "3303914     27985.00          29          Car     Sedan         None   \n",
       "5286198     31048.00          45          Car     Sedan         None   \n",
       "589956      43236.00          29        Truck       SUV         None   \n",
       "4958522    115406.00         108        Truck       SUV         None   \n",
       "\n",
       "        drivetrain fuel_type engine_block  engine_size transmission  doors  \\\n",
       "571562         FWD  Unleaded            I         2.00    Automatic   4.00   \n",
       "5572123        FWD  Unleaded            I         2.50    Automatic   5.00   \n",
       "3303914        FWD  Unleaded            I         2.00          CVT   4.00   \n",
       "5286198        FWD  Unleaded            I         2.00    Automatic   4.00   \n",
       "589956         FWD  Unleaded            I         2.50    Automatic   5.00   \n",
       "4958522        FWD  Unleaded            V         2.50    Automatic   5.00   \n",
       "\n",
       "         cylinders base_exterior_color base_interior_color  is_certified  \\\n",
       "571562        4.00               Black               Black          0.00   \n",
       "5572123       4.00               Black               Black          0.00   \n",
       "3303914       4.00              Silver                Gray          0.00   \n",
       "5286198       4.00               White               Black          1.00   \n",
       "589956        4.00               Black                Gray          0.00   \n",
       "4958522       4.00               White               Black          0.00   \n",
       "\n",
       "           zip mvr_state                                       hvf_standard  \\\n",
       "571562   78599        TX  [Keyless Entry/Locking, Brake Assist, Parking ...   \n",
       "5572123  44057        OH                                               None   \n",
       "3303914  78758        TX                                               None   \n",
       "5286198  45324        OH  [Keyless Entry/Locking, Brake Assist, Automati...   \n",
       "589956   78612        TX  [Keyless Entry/Locking, Brake Assist, Parking ...   \n",
       "4958522  44870        OH  [Brake Assist, Parking distance system, Parkin...   \n",
       "\n",
       "                                      hvf_optional mvr_purchase_date  \\\n",
       "571562                                        None        2019-02-05   \n",
       "5572123                                       None        2019-11-11   \n",
       "3303914                                       None        2018-10-25   \n",
       "5286198                                       None        2019-02-20   \n",
       "589956   [Automatic Transmission, Satellite Radio]        2019-11-06   \n",
       "4958522                                       None        2022-05-28   \n",
       "\n",
       "         make_model_encode  make_model_trim_encode mvr_purchase_month  \\\n",
       "571562            11300.62                11141.45                  2   \n",
       "5572123           20364.97                26150.28                 11   \n",
       "3303914           16142.45                16203.82                 10   \n",
       "5286198           14889.80                14889.80                  2   \n",
       "589956            19778.04                14699.39                 11   \n",
       "4958522           20691.91                20718.91                  5   \n",
       "\n",
       "         monthly_mileage   mpg  population_density  median_income  \\\n",
       "571562            184.60 29.95             2011.00       49598.00   \n",
       "5572123           909.80 23.60              399.00       50648.00   \n",
       "3303914           965.00 29.95             4747.00       43537.00   \n",
       "5286198           690.00 29.95             1265.00       43020.00   \n",
       "589956           1490.90 23.60              122.00       63144.00   \n",
       "4958522          1068.60 23.60              704.00       40944.00   \n",
       "\n",
       "         median_home_value mvr_purchase_yearmonth  used_car_price_index  \\\n",
       "571562           133800.00                2019-02                138.80   \n",
       "5572123          132000.00                2019-11                138.41   \n",
       "3303914          146100.00                2018-10                135.13   \n",
       "5286198          115400.00                2019-02                138.80   \n",
       "589956           132700.00                2019-11                138.41   \n",
       "4958522          109400.00                2022-05                206.98   \n",
       "\n",
       "         new_car_price_index  gas_price_index  consumer_sentiment_index  \\\n",
       "571562                147.85             2.25                     91.20   \n",
       "5572123               145.58             2.63                     95.50   \n",
       "3303914               145.43             2.84                    100.10   \n",
       "5286198               147.85             2.25                     91.20   \n",
       "589956                145.58             2.63                     95.50   \n",
       "4958522               169.64             4.11                     65.20   \n",
       "\n",
       "         hvf_opt_missing  hvf_std_missing  hvf_opt_comp_0  hvf_opt_comp_1  \\\n",
       "571562                 1                0            0.00            0.00   \n",
       "5572123                1                1            0.00            0.00   \n",
       "3303914                1                1            0.00            0.00   \n",
       "5286198                1                0            0.00            0.00   \n",
       "589956                 0                0           -0.73            0.14   \n",
       "4958522                1                0            0.00            0.00   \n",
       "\n",
       "         hvf_opt_comp_2  hvf_opt_comp_3  hvf_opt_comp_4  hvf_opt_comp_5  \\\n",
       "571562             0.00            0.00            0.00            0.00   \n",
       "5572123            0.00            0.00            0.00            0.00   \n",
       "3303914            0.00            0.00            0.00            0.00   \n",
       "5286198            0.00            0.00            0.00            0.00   \n",
       "589956             0.10           -0.18           -0.24           -0.05   \n",
       "4958522            0.00            0.00            0.00            0.00   \n",
       "\n",
       "         hvf_opt_comp_6  hvf_opt_comp_7  hvf_opt_comp_8  hvf_all_comp_0  \\\n",
       "571562             0.00            0.00            0.00           -1.80   \n",
       "5572123            0.00            0.00            0.00            0.00   \n",
       "3303914            0.00            0.00            0.00            0.00   \n",
       "5286198            0.00            0.00            0.00           -1.01   \n",
       "589956             0.34           -0.09            0.39           -1.09   \n",
       "4958522            0.00            0.00            0.00           -1.33   \n",
       "\n",
       "         hvf_all_comp_1  hvf_all_comp_2  hvf_all_comp_3  hvf_all_comp_4  \\\n",
       "571562            -0.28           -0.60           -0.05            0.03   \n",
       "5572123            0.00            0.00            0.00            0.00   \n",
       "3303914            0.00            0.00            0.00            0.00   \n",
       "5286198           -0.13            0.87            0.29            0.27   \n",
       "589956            -0.62            0.36           -0.52           -0.87   \n",
       "4958522            0.39           -0.06           -0.16            0.50   \n",
       "\n",
       "         hvf_all_comp_5  hvf_all_comp_6  hvf_all_comp_7  hvf_all_comp_8  \\\n",
       "571562            -0.51            0.48            0.48           -0.53   \n",
       "5572123            0.00            0.00            0.00            0.00   \n",
       "3303914            0.00            0.00            0.00            0.00   \n",
       "5286198           -1.13           -0.58           -0.74            0.19   \n",
       "589956             0.04           -0.17           -0.28            0.15   \n",
       "4958522           -0.10           -0.17           -0.37            0.52   \n",
       "\n",
       "         mvr_price_bc  \n",
       "571562          55.46  \n",
       "5572123         54.56  \n",
       "3303914         53.19  \n",
       "5286198         54.47  \n",
       "589956          59.55  \n",
       "4958522         53.92  "
      ]
     },
     "execution_count": 148,
     "metadata": {},
     "output_type": "execute_result"
    }
   ],
   "source": [
    "validate[vehicles]"
   ]
  },
  {
   "cell_type": "markdown",
   "metadata": {},
   "source": [
    "### Underbid Percentiles"
   ]
  },
  {
   "cell_type": "code",
   "execution_count": 150,
   "metadata": {},
   "outputs": [],
   "source": [
    "actuals = validate[target]"
   ]
  },
  {
   "cell_type": "code",
   "execution_count": 156,
   "metadata": {},
   "outputs": [
    {
     "data": {
      "text/plain": [
       "0.7471274888056549"
      ]
     },
     "execution_count": 156,
     "metadata": {},
     "output_type": "execute_result"
    }
   ],
   "source": [
    "sum((actuals - cb_30_preds) > 0)/len(cb_30_preds)"
   ]
  },
  {
   "cell_type": "code",
   "execution_count": 183,
   "metadata": {},
   "outputs": [
    {
     "data": {
      "text/plain": [
       "4381.125135182624"
      ]
     },
     "execution_count": 183,
     "metadata": {},
     "output_type": "execute_result"
    }
   ],
   "source": [
    "(actuals - cb_30_preds)[((actuals - cb_30_preds) > 0)].mean()"
   ]
  },
  {
   "cell_type": "code",
   "execution_count": 157,
   "metadata": {},
   "outputs": [
    {
     "data": {
      "text/plain": [
       "0.6719024284923071"
      ]
     },
     "execution_count": 157,
     "metadata": {},
     "output_type": "execute_result"
    }
   ],
   "source": [
    "sum((actuals - cb_40_preds) > 0)/len(cb_40_preds)"
   ]
  },
  {
   "cell_type": "code",
   "execution_count": 184,
   "metadata": {},
   "outputs": [
    {
     "data": {
      "text/plain": [
       "4046.233088094139"
      ]
     },
     "execution_count": 184,
     "metadata": {},
     "output_type": "execute_result"
    }
   ],
   "source": [
    "(actuals - cb_40_preds)[((actuals - cb_40_preds) > 0)].mean()"
   ]
  },
  {
   "cell_type": "code",
   "execution_count": null,
   "metadata": {},
   "outputs": [],
   "source": []
  },
  {
   "cell_type": "markdown",
   "metadata": {},
   "source": [
    "### Options"
   ]
  },
  {
   "cell_type": "code",
   "execution_count": 142,
   "metadata": {},
   "outputs": [],
   "source": [
    "hvf_optional_df = pd.read_pickle(working_dir + \"hvf_optional_df.pkl\")"
   ]
  },
  {
   "cell_type": "code",
   "execution_count": 145,
   "metadata": {},
   "outputs": [
    {
     "data": {
      "text/plain": [
       "77"
      ]
     },
     "execution_count": 145,
     "metadata": {},
     "output_type": "execute_result"
    }
   ],
   "source": [
    "len(hvf_optional_df.columns)"
   ]
  },
  {
   "cell_type": "code",
   "execution_count": 147,
   "metadata": {},
   "outputs": [
    {
     "data": {
      "text/plain": [
       "82"
      ]
     },
     "execution_count": 147,
     "metadata": {},
     "output_type": "execute_result"
    }
   ],
   "source": [
    "hvf_all_df = pd.read_pickle(working_dir + \"hvf_all_df.pkl\")\n",
    "len(hvf_all_df.columns)"
   ]
  },
  {
   "cell_type": "code",
   "execution_count": 144,
   "metadata": {},
   "outputs": [
    {
     "data": {
      "text/plain": [
       "6359824"
      ]
     },
     "execution_count": 144,
     "metadata": {},
     "output_type": "execute_result"
    }
   ],
   "source": [
    "train.shape[0] + validate.shape[0] + test.shape[0]"
   ]
  },
  {
   "cell_type": "markdown",
   "metadata": {},
   "source": [
    "## Final Test Results"
   ]
  },
  {
   "cell_type": "code",
   "execution_count": 185,
   "metadata": {},
   "outputs": [
    {
     "name": "stdout",
     "output_type": "stream",
     "text": [
      "R2:  0.881\n",
      "MAE:  3074.26\n",
      "MAPE:  18.4 %\n",
      "RMSE:  4450.25\n",
      "Percent Underpayed:  59.3 %\n",
      "Mean of Underpayment:  3543.41\n",
      "Percent Overpayed:  40.7 %\n",
      "Mean of Overpayment:  -2391.63\n",
      "Mean Error:  1125.92\n"
     ]
    }
   ],
   "source": [
    "# predict\n",
    "hpt_preds_test = hpt_model.predict(test[selected_num_cols + selected_cat_cols])\n",
    "\n",
    "# results\n",
    "assess_results(test[target], hpt_preds_test)"
   ]
  },
  {
   "cell_type": "code",
   "execution_count": null,
   "metadata": {},
   "outputs": [],
   "source": [
    "test"
   ]
  }
 ],
 "metadata": {
  "colab": {
   "collapsed_sections": [
    "n7UQ4jzFIDtZ",
    "pf8KzdwtIDtc"
   ],
   "machine_shape": "hm",
   "provenance": []
  },
  "gpuClass": "standard",
  "kernelspec": {
   "display_name": "Python 3 (ipykernel)",
   "language": "python",
   "name": "python3"
  },
  "language_info": {
   "codemirror_mode": {
    "name": "ipython",
    "version": 3
   },
   "file_extension": ".py",
   "mimetype": "text/x-python",
   "name": "python",
   "nbconvert_exporter": "python",
   "pygments_lexer": "ipython3",
   "version": "3.9.12"
  }
 },
 "nbformat": 4,
 "nbformat_minor": 1
}
