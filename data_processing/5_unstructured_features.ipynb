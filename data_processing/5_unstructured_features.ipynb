{
 "cells": [
  {
   "cell_type": "code",
   "execution_count": 13,
   "id": "6c2899fb",
   "metadata": {},
   "outputs": [],
   "source": [
    "import pandas as pd\n",
    "from glob import glob"
   ]
  },
  {
   "cell_type": "code",
   "execution_count": 17,
   "id": "685e3c60",
   "metadata": {},
   "outputs": [],
   "source": [
    "def print_shape(df):\n",
    "    print(f\"Rows: {df.shape[0]:,} \\nColumns: {df.shape[1]:,}\")"
   ]
  },
  {
   "cell_type": "code",
   "execution_count": 3,
   "id": "abc3b820",
   "metadata": {},
   "outputs": [],
   "source": [
    "input_dir = \"/data/p_dsi/capstone_projects/shea/4_merged/\"\n",
    "merged_structured = pd.read_pickle(input_dir + \"merged_structured.pkl\")"
   ]
  },
  {
   "cell_type": "code",
   "execution_count": 11,
   "id": "ea2cc68f",
   "metadata": {},
   "outputs": [],
   "source": [
    "merged_structured = merged_structured[[\"vin\",\"status_date\"]]"
   ]
  },
  {
   "cell_type": "code",
   "execution_count": 14,
   "id": "fb456bd1",
   "metadata": {},
   "outputs": [],
   "source": [
    "# unstructured files\n",
    "listings_dir = \"/data/p_dsi/capstone_projects/shea/3_final/\"\n",
    "file_pattern = \"*_dataset_unstructured.pkl\"\n",
    "unstructured_files = glob(listings_dir + file_pattern)"
   ]
  },
  {
   "cell_type": "code",
   "execution_count": 18,
   "id": "8e92883e",
   "metadata": {},
   "outputs": [
    {
     "name": "stdout",
     "output_type": "stream",
     "text": [
      "Rows: 18,333,814 \n",
      "Columns: 4\n"
     ]
    }
   ],
   "source": [
    "# read in unstructured files\n",
    "dataframes = []\n",
    "for file in unstructured_files:\n",
    "    df = pd.read_pickle(file)\n",
    "    dataframes.append(df)\n",
    "\n",
    "unstructured = pd.concat(dataframes)\n",
    "print_shape(unstructured)"
   ]
  },
  {
   "cell_type": "code",
   "execution_count": 28,
   "id": "59d226ee",
   "metadata": {},
   "outputs": [
    {
     "name": "stdout",
     "output_type": "stream",
     "text": [
      "Rows: 13,082,606 \n",
      "Columns: 4\n"
     ]
    }
   ],
   "source": [
    "# merge to subset unstructured data to registrations match found with structured dataset\n",
    "df = merged_structured.merge(unstructured, on=['vin','status_date'], how='inner')\n",
    "print_shape(df)"
   ]
  },
  {
   "cell_type": "code",
   "execution_count": 30,
   "id": "2bdc8485",
   "metadata": {
    "scrolled": true
   },
   "outputs": [
    {
     "data": {
      "text/html": [
       "<div>\n",
       "<style scoped>\n",
       "    .dataframe tbody tr th:only-of-type {\n",
       "        vertical-align: middle;\n",
       "    }\n",
       "\n",
       "    .dataframe tbody tr th {\n",
       "        vertical-align: top;\n",
       "    }\n",
       "\n",
       "    .dataframe thead th {\n",
       "        text-align: right;\n",
       "    }\n",
       "</style>\n",
       "<table border=\"1\" class=\"dataframe\">\n",
       "  <thead>\n",
       "    <tr style=\"text-align: right;\">\n",
       "      <th></th>\n",
       "      <th>vin</th>\n",
       "      <th>status_date</th>\n",
       "      <th>seller_comments</th>\n",
       "      <th>listed_options</th>\n",
       "    </tr>\n",
       "  </thead>\n",
       "  <tbody>\n",
       "    <tr>\n",
       "      <th>11064465</th>\n",
       "      <td>5FRYD4H48FB029261</td>\n",
       "      <td>1551125412</td>\n",
       "      <td>** LOW MILES ** ALL WHEEL DRIVE - NAVIGATION -...</td>\n",
       "      <td>[Length - 193.6 in (4917 mm), Blind Spot Senso...</td>\n",
       "    </tr>\n",
       "    <tr>\n",
       "      <th>12861805</th>\n",
       "      <td>1FDWE3FS0GDC42288</td>\n",
       "      <td>1538258806</td>\n",
       "      <td>None</td>\n",
       "      <td>[Wheels: 16\" x 7\" Steel Painted Gray, Fixed Fr...</td>\n",
       "    </tr>\n",
       "    <tr>\n",
       "      <th>4360894</th>\n",
       "      <td>KNDPBCAC6G7876592</td>\n",
       "      <td>1588289097</td>\n",
       "      <td>Vehicle Description MILITARY WELCOME!!! FIRST ...</td>\n",
       "      <td>[Air Conditioning, Cargo Area Tiedowns, Telema...</td>\n",
       "    </tr>\n",
       "    <tr>\n",
       "      <th>12325339</th>\n",
       "      <td>3FA6P0HR6ER264443</td>\n",
       "      <td>1598476610</td>\n",
       "      <td>Recent Arrival! 2014 Ford Fusion SE EcoBoost 1...</td>\n",
       "      <td>[Cruise controls on steering wheel, Manufactur...</td>\n",
       "    </tr>\n",
       "    <tr>\n",
       "      <th>1008822</th>\n",
       "      <td>5FNYF3H97BB016125</td>\n",
       "      <td>1554442593</td>\n",
       "      <td>None</td>\n",
       "      <td>[Fog lights, 5-speed automatic transmission w/...</td>\n",
       "    </tr>\n",
       "  </tbody>\n",
       "</table>\n",
       "</div>"
      ],
      "text/plain": [
       "                        vin status_date  \\\n",
       "11064465  5FRYD4H48FB029261  1551125412   \n",
       "12861805  1FDWE3FS0GDC42288  1538258806   \n",
       "4360894   KNDPBCAC6G7876592  1588289097   \n",
       "12325339  3FA6P0HR6ER264443  1598476610   \n",
       "1008822   5FNYF3H97BB016125  1554442593   \n",
       "\n",
       "                                            seller_comments  \\\n",
       "11064465  ** LOW MILES ** ALL WHEEL DRIVE - NAVIGATION -...   \n",
       "12861805                                               None   \n",
       "4360894   Vehicle Description MILITARY WELCOME!!! FIRST ...   \n",
       "12325339  Recent Arrival! 2014 Ford Fusion SE EcoBoost 1...   \n",
       "1008822                                                None   \n",
       "\n",
       "                                             listed_options  \n",
       "11064465  [Length - 193.6 in (4917 mm), Blind Spot Senso...  \n",
       "12861805  [Wheels: 16\" x 7\" Steel Painted Gray, Fixed Fr...  \n",
       "4360894   [Air Conditioning, Cargo Area Tiedowns, Telema...  \n",
       "12325339  [Cruise controls on steering wheel, Manufactur...  \n",
       "1008822   [Fog lights, 5-speed automatic transmission w/...  "
      ]
     },
     "execution_count": 30,
     "metadata": {},
     "output_type": "execute_result"
    }
   ],
   "source": [
    "df.sample(5)"
   ]
  },
  {
   "cell_type": "code",
   "execution_count": 35,
   "id": "a73eae38",
   "metadata": {},
   "outputs": [
    {
     "data": {
      "text/plain": [
       "vin                0.000000\n",
       "status_date        0.000000\n",
       "seller_comments    0.315622\n",
       "listed_options     0.124288\n",
       "dtype: float64"
      ]
     },
     "execution_count": 35,
     "metadata": {},
     "output_type": "execute_result"
    }
   ],
   "source": [
    "df.isna().sum()/df.shape[0]"
   ]
  },
  {
   "cell_type": "code",
   "execution_count": 32,
   "id": "851e2395",
   "metadata": {},
   "outputs": [],
   "source": [
    "# write to pickle\n",
    "output_dir = \"/data/p_dsi/capstone_projects/shea/4_merged/\"\n",
    "df.to_pickle(output_dir + \"merged_unstructured.pkl\")"
   ]
  },
  {
   "cell_type": "code",
   "execution_count": null,
   "id": "d676e114",
   "metadata": {},
   "outputs": [],
   "source": []
  }
 ],
 "metadata": {
  "kernelspec": {
   "display_name": "Python 3",
   "language": "python",
   "name": "python3"
  },
  "language_info": {
   "codemirror_mode": {
    "name": "ipython",
    "version": 3
   },
   "file_extension": ".py",
   "mimetype": "text/x-python",
   "name": "python",
   "nbconvert_exporter": "python",
   "pygments_lexer": "ipython3",
   "version": "3.8.8"
  }
 },
 "nbformat": 4,
 "nbformat_minor": 5
}
