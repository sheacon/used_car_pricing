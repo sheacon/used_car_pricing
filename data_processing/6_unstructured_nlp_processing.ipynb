{
 "cells": [
  {
   "cell_type": "code",
   "execution_count": 1,
   "id": "24f8f56a",
   "metadata": {},
   "outputs": [],
   "source": [
    "import pandas as pd\n",
    "import nltk\n",
    "import re\n",
    "from nltk.corpus import stopwords\n",
    "from nltk.stem import WordNetLemmatizer\n",
    "from nltk.tokenize import word_tokenize\n",
    "import pickle"
   ]
  },
  {
   "cell_type": "code",
   "execution_count": 2,
   "id": "02b75e5a",
   "metadata": {},
   "outputs": [
    {
     "name": "stderr",
     "output_type": "stream",
     "text": [
      "[nltk_data] Downloading package stopwords to\n",
      "[nltk_data]     /home/conawws1/nltk_data...\n",
      "[nltk_data]   Unzipping corpora/stopwords.zip.\n",
      "[nltk_data] Downloading package punkt to /home/conawws1/nltk_data...\n",
      "[nltk_data]   Unzipping tokenizers/punkt.zip.\n",
      "[nltk_data] Downloading package wordnet to /home/conawws1/nltk_data...\n",
      "[nltk_data] Downloading package averaged_perceptron_tagger to\n",
      "[nltk_data]     /home/conawws1/nltk_data...\n",
      "[nltk_data]   Unzipping taggers/averaged_perceptron_tagger.zip.\n"
     ]
    },
    {
     "data": {
      "text/plain": [
       "True"
      ]
     },
     "execution_count": 2,
     "metadata": {},
     "output_type": "execute_result"
    }
   ],
   "source": [
    "nltk.download('stopwords')\n",
    "nltk.download('punkt')\n",
    "nltk.download('wordnet')\n",
    "nltk.download('averaged_perceptron_tagger')\n"
   ]
  },
  {
   "cell_type": "code",
   "execution_count": 3,
   "id": "760b987a",
   "metadata": {},
   "outputs": [
    {
     "name": "stdout",
     "output_type": "stream",
     "text": [
      "<class 'pandas.core.frame.DataFrame'>\n",
      "Int64Index: 13082606 entries, 0 to 13082605\n",
      "Data columns (total 4 columns):\n",
      " #   Column           Dtype \n",
      "---  ------           ----- \n",
      " 0   vin              object\n",
      " 1   status_date      object\n",
      " 2   seller_comments  object\n",
      " 3   listed_options   object\n",
      "dtypes: object(4)\n",
      "memory usage: 499.1+ MB\n"
     ]
    }
   ],
   "source": [
    "input_dir = \"/data/p_dsi/capstone_projects/shea/4_merged/\"\n",
    "df = pd.read_pickle(input_dir + \"merged_unstructured.pkl\")\n",
    "df.info()"
   ]
  },
  {
   "cell_type": "code",
   "execution_count": 6,
   "id": "f9d69c66",
   "metadata": {},
   "outputs": [],
   "source": [
    "df.fillna(\"\", inplace=True)"
   ]
  },
  {
   "cell_type": "code",
   "execution_count": 7,
   "id": "fccebe31",
   "metadata": {},
   "outputs": [],
   "source": [
    "df[\"listed_options\"] = df[\"listed_options\"].apply(lambda x: \" \".join(x))"
   ]
  },
  {
   "cell_type": "code",
   "execution_count": 10,
   "id": "e871580a",
   "metadata": {},
   "outputs": [],
   "source": [
    "from nltk.corpus import wordnet\n",
    "\n",
    "def get_wordnet_pos(treebank_tag):\n",
    "    if treebank_tag.startswith('J'):\n",
    "        return wordnet.ADJ\n",
    "    elif treebank_tag.startswith('V'):\n",
    "        return wordnet.VERB\n",
    "    elif treebank_tag.startswith('N'):\n",
    "        return wordnet.NOUN\n",
    "    elif treebank_tag.startswith('R'):\n",
    "        return wordnet.ADV\n",
    "    else:\n",
    "        return wordnet.NOUN\n"
   ]
  },
  {
   "cell_type": "code",
   "execution_count": 11,
   "id": "c83c6b14",
   "metadata": {},
   "outputs": [],
   "source": [
    "def preprocess_text(text):\n",
    "    # lowercase\n",
    "    text = text.lower()\n",
    "\n",
    "    # remove special characters and punctuation\n",
    "    text = re.sub(r'[^a-zA-Z\\s]', ' ', text)\n",
    "\n",
    "    # tokenize\n",
    "    tokens = word_tokenize(text)\n",
    "\n",
    "    # remove stopwords\n",
    "    stop_words = set(stopwords.words('english'))\n",
    "    tokens = [word for word in tokens if word not in stop_words]\n",
    "\n",
    "    # lemmatize\n",
    "    lemmatizer = WordNetLemmatizer()\n",
    "    tagged = nltk.pos_tag(tokens)\n",
    "    tokens = [lemmatizer.lemmatize(word, get_wordnet_pos(tag)) for word, tag in tagged]\n",
    "\n",
    "    # rejoin string\n",
    "    preprocessed_text = ' '.join(tokens)\n",
    "\n",
    "    return preprocessed_text\n"
   ]
  },
  {
   "cell_type": "markdown",
   "id": "26bb6b14",
   "metadata": {},
   "source": [
    "## Needs Multi-Processing and Progress Reporting Implementation"
   ]
  },
  {
   "cell_type": "code",
   "execution_count": null,
   "id": "e46b60a4",
   "metadata": {},
   "outputs": [],
   "source": [
    "# apply preprocessing to 'seller_comments'\n",
    "seller_comments = df['seller_comments'].apply(preprocess_text)\n"
   ]
  },
  {
   "cell_type": "code",
   "execution_count": null,
   "id": "f38ecf09",
   "metadata": {},
   "outputs": [],
   "source": [
    "# save to pickle\n",
    "filename = input_dir + \"seller_comments_processed.pkl\"\n",
    "with open(filename, \"wb\") as file:\n",
    "    pickle.dump(seller_comments, file)\n",
    "    "
   ]
  },
  {
   "cell_type": "code",
   "execution_count": null,
   "id": "b11b676b",
   "metadata": {},
   "outputs": [],
   "source": [
    "# apply preprocessing to 'listed_options'\n",
    "listed_options = df['listed_options'].apply(preprocess_text)\n"
   ]
  },
  {
   "cell_type": "code",
   "execution_count": null,
   "id": "1a3e1d24",
   "metadata": {},
   "outputs": [],
   "source": [
    "# save to pickle\n",
    "filename = input_dir + \"listed_options_processed.pkl\"\n",
    "with open(filename, \"wb\") as file:\n",
    "    pickle.dump(listed_options, file)\n",
    "    "
   ]
  },
  {
   "cell_type": "code",
   "execution_count": null,
   "id": "6b8aa947",
   "metadata": {},
   "outputs": [],
   "source": []
  }
 ],
 "metadata": {
  "kernelspec": {
   "display_name": "Python 3",
   "language": "python",
   "name": "python3"
  },
  "language_info": {
   "codemirror_mode": {
    "name": "ipython",
    "version": 3
   },
   "file_extension": ".py",
   "mimetype": "text/x-python",
   "name": "python",
   "nbconvert_exporter": "python",
   "pygments_lexer": "ipython3",
   "version": "3.8.8"
  }
 },
 "nbformat": 4,
 "nbformat_minor": 5
}
