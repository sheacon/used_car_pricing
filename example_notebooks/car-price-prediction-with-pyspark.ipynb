{
 "cells": [
  {
   "cell_type": "markdown",
   "id": "acf3aa84",
   "metadata": {
    "execution": {
     "iopub.execute_input": "2022-08-12T08:54:44.261057Z",
     "iopub.status.busy": "2022-08-12T08:54:44.260397Z",
     "iopub.status.idle": "2022-08-12T08:54:44.271621Z",
     "shell.execute_reply": "2022-08-12T08:54:44.269711Z",
     "shell.execute_reply.started": "2022-08-12T08:54:44.261010Z"
    },
    "papermill": {
     "duration": 0.010948,
     "end_time": "2022-08-12T11:26:08.211647",
     "exception": false,
     "start_time": "2022-08-12T11:26:08.200699",
     "status": "completed"
    },
    "tags": []
   },
   "source": [
    "# Car Price Prediction with PySpark\n",
    "## data-info: Used cars in United States for sale\n",
    "## data-source: https://www.kaggle.com/datasets/austinreese/craigslist-carstrucks-data "
   ]
  },
  {
   "cell_type": "markdown",
   "id": "2fca0a2d",
   "metadata": {
    "papermill": {
     "duration": 0.009892,
     "end_time": "2022-08-12T11:26:08.234328",
     "exception": false,
     "start_time": "2022-08-12T11:26:08.224436",
     "status": "completed"
    },
    "tags": []
   },
   "source": [
    "# 1. Installation"
   ]
  },
  {
   "cell_type": "code",
   "execution_count": 1,
   "id": "490e8323",
   "metadata": {
    "_cell_guid": "b1076dfc-b9ad-4769-8c92-a6c4dae69d19",
    "_uuid": "8f2839f25d086af736a60e9eeb907d3b93b6e0e5",
    "execution": {
     "iopub.execute_input": "2022-08-12T11:26:08.258107Z",
     "iopub.status.busy": "2022-08-12T11:26:08.257502Z",
     "iopub.status.idle": "2022-08-12T11:26:57.092225Z",
     "shell.execute_reply": "2022-08-12T11:26:57.089955Z"
    },
    "papermill": {
     "duration": 48.850858,
     "end_time": "2022-08-12T11:26:57.096096",
     "exception": false,
     "start_time": "2022-08-12T11:26:08.245238",
     "status": "completed"
    },
    "tags": []
   },
   "outputs": [
    {
     "name": "stdout",
     "output_type": "stream",
     "text": [
      "Collecting pyspark\r\n",
      "  Downloading pyspark-3.3.0.tar.gz (281.3 MB)\r\n",
      "\u001b[2K     \u001b[90m━━━━━━━━━━━━━━━━━━━━━━━━━━━━━━━━━━━━━━━\u001b[0m \u001b[32m281.3/281.3 MB\u001b[0m \u001b[31m3.8 MB/s\u001b[0m eta \u001b[36m0:00:00\u001b[0m\r\n",
      "\u001b[?25h  Preparing metadata (setup.py) ... \u001b[?25l-\b \bdone\r\n",
      "\u001b[?25hRequirement already satisfied: py4j==0.10.9.5 in /opt/conda/lib/python3.7/site-packages (from pyspark) (0.10.9.5)\r\n",
      "Building wheels for collected packages: pyspark\r\n",
      "  Building wheel for pyspark (setup.py) ... \u001b[?25l-\b \b\\\b \b|\b \b/\b \b-\b \b\\\b \b|\b \b/\b \b-\b \b\\\b \b|\b \b/\b \b-\b \b\\\b \b|\b \b/\b \b-\b \b\\\b \b|\b \b/\b \b-\b \b\\\b \b|\b \b/\b \b-\b \b\\\b \b|\b \b/\b \b-\b \b\\\b \b|\b \b/\b \b-\b \b\\\b \b|\b \b/\b \b-\b \b\\\b \b|\b \b/\b \b-\b \b\\\b \b|\b \b/\b \b-\b \b\\\b \b|\b \b/\b \b-\b \b\\\b \b|\b \b/\b \b-\b \b\\\b \b|\b \b/\b \b-\b \b\\\b \b|\b \b/\b \b-\b \b\\\b \b|\b \b/\b \bdone\r\n",
      "\u001b[?25h  Created wheel for pyspark: filename=pyspark-3.3.0-py2.py3-none-any.whl size=281764026 sha256=ba85c0bf23732c6ed21af71406d5b311abaaff7991c763dc6ba26f773ef92e84\r\n",
      "  Stored in directory: /root/.cache/pip/wheels/7a/8e/1b/f73a52650d2e5f337708d9f6a1750d451a7349a867f928b885\r\n",
      "Successfully built pyspark\r\n",
      "Installing collected packages: pyspark\r\n",
      "Successfully installed pyspark-3.3.0\r\n",
      "\u001b[33mWARNING: Running pip as the 'root' user can result in broken permissions and conflicting behaviour with the system package manager. It is recommended to use a virtual environment instead: https://pip.pypa.io/warnings/venv\u001b[0m\u001b[33m\r\n",
      "\u001b[0m"
     ]
    }
   ],
   "source": [
    "!pip install pyspark"
   ]
  },
  {
   "cell_type": "markdown",
   "id": "174e5948",
   "metadata": {
    "papermill": {
     "duration": 0.019072,
     "end_time": "2022-08-12T11:26:57.136235",
     "exception": false,
     "start_time": "2022-08-12T11:26:57.117163",
     "status": "completed"
    },
    "tags": []
   },
   "source": [
    "# 2. Import Necessary Modules"
   ]
  },
  {
   "cell_type": "code",
   "execution_count": 2,
   "id": "d5ca8f7a",
   "metadata": {
    "execution": {
     "iopub.execute_input": "2022-08-12T11:26:57.177673Z",
     "iopub.status.busy": "2022-08-12T11:26:57.177159Z",
     "iopub.status.idle": "2022-08-12T11:26:58.524730Z",
     "shell.execute_reply": "2022-08-12T11:26:58.523555Z"
    },
    "papermill": {
     "duration": 1.372181,
     "end_time": "2022-08-12T11:26:58.527491",
     "exception": false,
     "start_time": "2022-08-12T11:26:57.155310",
     "status": "completed"
    },
    "tags": []
   },
   "outputs": [],
   "source": [
    "import json\n",
    "\n",
    "import matplotlib.pyplot as plt\n",
    "import seaborn as sns\n",
    "\n",
    "import pyspark\n",
    "\n",
    "from pyspark.sql import SparkSession\n",
    "from pyspark.sql import types\n",
    "from pyspark.sql import functions as F\n",
    "\n",
    "from pyspark.ml.feature import Imputer, VectorAssembler, StringIndexer\n",
    "from pyspark.ml.regression import RandomForestRegressor\n",
    "from pyspark.ml.evaluation import RegressionEvaluator\n",
    "from pyspark.ml.tuning import CrossValidator, ParamGridBuilder"
   ]
  },
  {
   "cell_type": "markdown",
   "id": "47ed684f",
   "metadata": {
    "papermill": {
     "duration": 0.019104,
     "end_time": "2022-08-12T11:26:58.566284",
     "exception": false,
     "start_time": "2022-08-12T11:26:58.547180",
     "status": "completed"
    },
    "tags": []
   },
   "source": [
    "# 3. Create a Spark Session"
   ]
  },
  {
   "cell_type": "code",
   "execution_count": 3,
   "id": "73e23e2b",
   "metadata": {
    "execution": {
     "iopub.execute_input": "2022-08-12T11:26:58.606670Z",
     "iopub.status.busy": "2022-08-12T11:26:58.605758Z",
     "iopub.status.idle": "2022-08-12T11:27:03.998968Z",
     "shell.execute_reply": "2022-08-12T11:27:03.997893Z"
    },
    "papermill": {
     "duration": 5.416796,
     "end_time": "2022-08-12T11:27:04.002152",
     "exception": false,
     "start_time": "2022-08-12T11:26:58.585356",
     "status": "completed"
    },
    "tags": []
   },
   "outputs": [
    {
     "name": "stderr",
     "output_type": "stream",
     "text": [
      "Setting default log level to \"WARN\".\n",
      "To adjust logging level use sc.setLogLevel(newLevel). For SparkR, use setLogLevel(newLevel).\n"
     ]
    },
    {
     "name": "stdout",
     "output_type": "stream",
     "text": [
      "22/08/12 11:27:01 WARN NativeCodeLoader: Unable to load native-hadoop library for your platform... using builtin-java classes where applicable\n"
     ]
    }
   ],
   "source": [
    "spark = SparkSession.builder.appName('Tutorial').getOrCreate()"
   ]
  },
  {
   "cell_type": "markdown",
   "id": "0afb7b17",
   "metadata": {
    "papermill": {
     "duration": 0.019402,
     "end_time": "2022-08-12T11:27:04.041494",
     "exception": false,
     "start_time": "2022-08-12T11:27:04.022092",
     "status": "completed"
    },
    "tags": []
   },
   "source": [
    "# 4. Let's read the file"
   ]
  },
  {
   "cell_type": "code",
   "execution_count": 4,
   "id": "00a91b1c",
   "metadata": {
    "execution": {
     "iopub.execute_input": "2022-08-12T11:27:04.082900Z",
     "iopub.status.busy": "2022-08-12T11:27:04.082512Z",
     "iopub.status.idle": "2022-08-12T11:27:38.170392Z",
     "shell.execute_reply": "2022-08-12T11:27:38.169483Z"
    },
    "papermill": {
     "duration": 34.112244,
     "end_time": "2022-08-12T11:27:38.173403",
     "exception": false,
     "start_time": "2022-08-12T11:27:04.061159",
     "status": "completed"
    },
    "tags": []
   },
   "outputs": [
    {
     "name": "stderr",
     "output_type": "stream",
     "text": [
      "                                                                                \r"
     ]
    }
   ],
   "source": [
    "file_path = '../input/craigslist-carstrucks-data/vehicles.csv'\n",
    "\n",
    "df_cars = spark.read.options(header=True, inferSchema=True, delimiter=',', multiLine=True).csv(file_path)"
   ]
  },
  {
   "cell_type": "markdown",
   "id": "45f47690",
   "metadata": {
    "papermill": {
     "duration": 0.019971,
     "end_time": "2022-08-12T11:27:38.213555",
     "exception": false,
     "start_time": "2022-08-12T11:27:38.193584",
     "status": "completed"
    },
    "tags": []
   },
   "source": [
    "# 5. Let's print the schema"
   ]
  },
  {
   "cell_type": "code",
   "execution_count": 5,
   "id": "4a189062",
   "metadata": {
    "execution": {
     "iopub.execute_input": "2022-08-12T11:27:38.256090Z",
     "iopub.status.busy": "2022-08-12T11:27:38.255691Z",
     "iopub.status.idle": "2022-08-12T11:27:38.296362Z",
     "shell.execute_reply": "2022-08-12T11:27:38.294397Z"
    },
    "papermill": {
     "duration": 0.067015,
     "end_time": "2022-08-12T11:27:38.301399",
     "exception": false,
     "start_time": "2022-08-12T11:27:38.234384",
     "status": "completed"
    },
    "tags": []
   },
   "outputs": [
    {
     "name": "stdout",
     "output_type": "stream",
     "text": [
      "root\n",
      " |-- id: long (nullable = true)\n",
      " |-- url: string (nullable = true)\n",
      " |-- region: string (nullable = true)\n",
      " |-- region_url: string (nullable = true)\n",
      " |-- price: long (nullable = true)\n",
      " |-- year: integer (nullable = true)\n",
      " |-- manufacturer: string (nullable = true)\n",
      " |-- model: string (nullable = true)\n",
      " |-- condition: string (nullable = true)\n",
      " |-- cylinders: string (nullable = true)\n",
      " |-- fuel: string (nullable = true)\n",
      " |-- odometer: integer (nullable = true)\n",
      " |-- title_status: string (nullable = true)\n",
      " |-- transmission: string (nullable = true)\n",
      " |-- VIN: string (nullable = true)\n",
      " |-- drive: string (nullable = true)\n",
      " |-- size: string (nullable = true)\n",
      " |-- type: string (nullable = true)\n",
      " |-- paint_color: string (nullable = true)\n",
      " |-- image_url: string (nullable = true)\n",
      " |-- description: string (nullable = true)\n",
      " |-- county: string (nullable = true)\n",
      " |-- state: string (nullable = true)\n",
      " |-- lat: string (nullable = true)\n",
      " |-- long: string (nullable = true)\n",
      " |-- posting_date: string (nullable = true)\n",
      "\n"
     ]
    }
   ],
   "source": [
    "df_cars.printSchema()"
   ]
  },
  {
   "cell_type": "markdown",
   "id": "5071df4c",
   "metadata": {
    "papermill": {
     "duration": 0.01934,
     "end_time": "2022-08-12T11:27:38.341867",
     "exception": false,
     "start_time": "2022-08-12T11:27:38.322527",
     "status": "completed"
    },
    "tags": []
   },
   "source": [
    "# 6. Data Cleaning\n",
    "\n",
    "* \"url\", \"region_url\", \"image_url\", \"description\" columns are unnecessary. let's drop them\n",
    "* It seems pyspark interpreted \"lat\" and \"long\" columns as string\n",
    "* We should clean these columns from alphabetic characters\n",
    "* And we should check the numeric range of \"lat\" and \"long\" columns\n",
    "* Some categorical columns have own null indicators like \"other\", set them null"
   ]
  },
  {
   "cell_type": "code",
   "execution_count": 6,
   "id": "11f00afd",
   "metadata": {
    "execution": {
     "iopub.execute_input": "2022-08-12T11:27:38.382652Z",
     "iopub.status.busy": "2022-08-12T11:27:38.382230Z",
     "iopub.status.idle": "2022-08-12T11:27:38.437767Z",
     "shell.execute_reply": "2022-08-12T11:27:38.436657Z"
    },
    "papermill": {
     "duration": 0.078842,
     "end_time": "2022-08-12T11:27:38.440274",
     "exception": false,
     "start_time": "2022-08-12T11:27:38.361432",
     "status": "completed"
    },
    "tags": []
   },
   "outputs": [],
   "source": [
    "# these columns are useless to us, drop them\n",
    "\n",
    "drop_cols = ['url', 'region_url', 'image_url', 'description']\n",
    "\n",
    "df_cars = df_cars.drop(*drop_cols)"
   ]
  },
  {
   "cell_type": "code",
   "execution_count": 7,
   "id": "6265c95e",
   "metadata": {
    "execution": {
     "iopub.execute_input": "2022-08-12T11:27:38.481966Z",
     "iopub.status.busy": "2022-08-12T11:27:38.481255Z",
     "iopub.status.idle": "2022-08-12T11:27:38.579865Z",
     "shell.execute_reply": "2022-08-12T11:27:38.578948Z"
    },
    "papermill": {
     "duration": 0.122578,
     "end_time": "2022-08-12T11:27:38.582586",
     "exception": false,
     "start_time": "2022-08-12T11:27:38.460008",
     "status": "completed"
    },
    "tags": []
   },
   "outputs": [],
   "source": [
    "# both null values and null indicators(other) exist, set the indicator to null (to prevent confusion)\n",
    "\n",
    "df_cars = df_cars.replace('other', None, subset=['cylinders'])"
   ]
  },
  {
   "cell_type": "code",
   "execution_count": 8,
   "id": "d4f4b338",
   "metadata": {
    "execution": {
     "iopub.execute_input": "2022-08-12T11:27:38.624148Z",
     "iopub.status.busy": "2022-08-12T11:27:38.623736Z",
     "iopub.status.idle": "2022-08-12T11:27:38.670848Z",
     "shell.execute_reply": "2022-08-12T11:27:38.669603Z"
    },
    "papermill": {
     "duration": 0.071305,
     "end_time": "2022-08-12T11:27:38.673859",
     "exception": false,
     "start_time": "2022-08-12T11:27:38.602554",
     "status": "completed"
    },
    "tags": []
   },
   "outputs": [],
   "source": [
    "# both null values and null indicators(missing) exist, set the indicator to null (to prevent confusion)\n",
    "\n",
    "df_cars = df_cars.replace('missing', None, subset=['title_status'])"
   ]
  },
  {
   "cell_type": "code",
   "execution_count": 9,
   "id": "9f844fb6",
   "metadata": {
    "execution": {
     "iopub.execute_input": "2022-08-12T11:27:38.715527Z",
     "iopub.status.busy": "2022-08-12T11:27:38.715144Z",
     "iopub.status.idle": "2022-08-12T11:27:38.996875Z",
     "shell.execute_reply": "2022-08-12T11:27:38.994180Z"
    },
    "papermill": {
     "duration": 0.306961,
     "end_time": "2022-08-12T11:27:39.001000",
     "exception": false,
     "start_time": "2022-08-12T11:27:38.694039",
     "status": "completed"
    },
    "tags": []
   },
   "outputs": [],
   "source": [
    "# Latitude should be between (-90, 90), otherwise set null\n",
    "\n",
    "df_cars = df_cars.withColumn('lat', F.when(F.col('lat').rlike('^-?\\d+\\.?\\d+$'), F.col('lat')))\n",
    "df_cars = df_cars.withColumn('lat', F.col('lat').cast(types.FloatType()))\n",
    "df_cars = df_cars.withColumn('lat', F.when((-90 <= F.col('lat')) & (F.col('lat') <= 90), F.col('lat')))"
   ]
  },
  {
   "cell_type": "code",
   "execution_count": 10,
   "id": "28e28d0a",
   "metadata": {
    "execution": {
     "iopub.execute_input": "2022-08-12T11:27:39.061335Z",
     "iopub.status.busy": "2022-08-12T11:27:39.060892Z",
     "iopub.status.idle": "2022-08-12T11:27:39.174298Z",
     "shell.execute_reply": "2022-08-12T11:27:39.173256Z"
    },
    "papermill": {
     "duration": 0.14531,
     "end_time": "2022-08-12T11:27:39.176991",
     "exception": false,
     "start_time": "2022-08-12T11:27:39.031681",
     "status": "completed"
    },
    "tags": []
   },
   "outputs": [],
   "source": [
    "# Longitude should be between (-180, 180), otherwise set null\n",
    "\n",
    "df_cars = df_cars.withColumn('long', F.when(F.col('long').rlike('^-?\\d+\\.?\\d+$'), F.col('long')))\n",
    "df_cars = df_cars.withColumn('long', F.col('long').cast(types.FloatType()))\n",
    "df_cars = df_cars.withColumn('long', F.when((-180 <= F.col('long')) & (F.col('long') <= 180), F.col('long')))"
   ]
  },
  {
   "cell_type": "code",
   "execution_count": 11,
   "id": "42c61937",
   "metadata": {
    "execution": {
     "iopub.execute_input": "2022-08-12T11:27:39.218924Z",
     "iopub.status.busy": "2022-08-12T11:27:39.218528Z",
     "iopub.status.idle": "2022-08-12T11:27:39.294427Z",
     "shell.execute_reply": "2022-08-12T11:27:39.293449Z"
    },
    "papermill": {
     "duration": 0.100926,
     "end_time": "2022-08-12T11:27:39.297975",
     "exception": false,
     "start_time": "2022-08-12T11:27:39.197049",
     "status": "completed"
    },
    "tags": []
   },
   "outputs": [],
   "source": [
    "# Posting date should be in format yyyy-MM-dd HH:mm:ss.SSSS\n",
    "\n",
    "df_cars = df_cars.withColumn('posting_date', F.when(F.col('posting_date').rlike('^\\d{4}-\\d{2}-\\d{2}T\\d{2}:\\d{2}:\\d{2}-\\d{4}$'), F.col('posting_date')))\n",
    "df_cars = df_cars.withColumn('posting_date', F.col('posting_date').cast(types.TimestampType()))"
   ]
  },
  {
   "cell_type": "markdown",
   "id": "e0d7f93e",
   "metadata": {
    "papermill": {
     "duration": 0.030767,
     "end_time": "2022-08-12T11:27:39.360409",
     "exception": false,
     "start_time": "2022-08-12T11:27:39.329642",
     "status": "completed"
    },
    "tags": []
   },
   "source": [
    "# 7. Descriptive Statistics\n",
    "## Hint: If data is too big you can sample it before the descriptive stat calculations"
   ]
  },
  {
   "cell_type": "code",
   "execution_count": 12,
   "id": "a1fb50fd",
   "metadata": {
    "execution": {
     "iopub.execute_input": "2022-08-12T11:27:39.404919Z",
     "iopub.status.busy": "2022-08-12T11:27:39.404360Z",
     "iopub.status.idle": "2022-08-12T11:27:53.554571Z",
     "shell.execute_reply": "2022-08-12T11:27:53.552844Z"
    },
    "papermill": {
     "duration": 14.176189,
     "end_time": "2022-08-12T11:27:53.558635",
     "exception": false,
     "start_time": "2022-08-12T11:27:39.382446",
     "status": "completed"
    },
    "tags": []
   },
   "outputs": [
    {
     "name": "stderr",
     "output_type": "stream",
     "text": [
      "[Stage 2:>                                                          (0 + 1) / 1]\r"
     ]
    },
    {
     "name": "stdout",
     "output_type": "stream",
     "text": [
      "+-------+-------------------+------------------+------------------+-----------------+------------------+\n",
      "|summary|              price|              year|          odometer|              lat|              long|\n",
      "+-------+-------------------+------------------+------------------+-----------------+------------------+\n",
      "|  count|             426582|            425377|            422182|           365481|            367830|\n",
      "|   mean|  75240.00097753773|2011.2356544900172|  98019.2444514451|38.27485954294108|-92.92308876290198|\n",
      "| stddev|1.218653645968038E7|   9.4529441236719|213407.41232087038|5.757416442913367| 20.91019012781645|\n",
      "|    min|                  0|              1900|                 0|       -84.122246|        -159.82773|\n",
      "|    25%|               5900|              2008|             37675|          34.4329|           -106.62|\n",
      "|    50%|              13950|              2013|             85519|          39.0278|        -87.322266|\n",
      "|    75%|              26455|              2017|            133538|        42.201077|         -80.32242|\n",
      "|    max|         3736928711|              2022|          10000000|        82.390816|          173.8855|\n",
      "+-------+-------------------+------------------+------------------+-----------------+------------------+\n",
      "\n"
     ]
    },
    {
     "name": "stderr",
     "output_type": "stream",
     "text": [
      "                                                                                \r"
     ]
    }
   ],
   "source": [
    "df_cars.select('price', 'year', 'odometer', 'lat', 'long').summary().show()"
   ]
  },
  {
   "cell_type": "markdown",
   "id": "909a2b6a",
   "metadata": {
    "papermill": {
     "duration": 0.022452,
     "end_time": "2022-08-12T11:27:53.617138",
     "exception": false,
     "start_time": "2022-08-12T11:27:53.594686",
     "status": "completed"
    },
    "tags": []
   },
   "source": [
    "# 8. Data Wrangling\n",
    "* \"price\" and \"odometer\" columns have right skewed distribution (mean is bigger than median)\n",
    "* \"price\" and \"odometer\" columns have too big numbers and too much standard deviation, we can take the log of them\n",
    "* \"posting_date\" column can be split to \"posting_year\", \"posting_month\""
   ]
  },
  {
   "cell_type": "code",
   "execution_count": 13,
   "id": "54f77295",
   "metadata": {
    "execution": {
     "iopub.execute_input": "2022-08-12T11:27:53.661140Z",
     "iopub.status.busy": "2022-08-12T11:27:53.660589Z",
     "iopub.status.idle": "2022-08-12T11:27:53.730477Z",
     "shell.execute_reply": "2022-08-12T11:27:53.729567Z"
    },
    "papermill": {
     "duration": 0.095705,
     "end_time": "2022-08-12T11:27:53.733709",
     "exception": false,
     "start_time": "2022-08-12T11:27:53.638004",
     "status": "completed"
    },
    "tags": []
   },
   "outputs": [],
   "source": [
    "# both columns starts with 0, log(0) is undefined so we should put +1\n",
    "\n",
    "df_cars = df_cars.withColumn('price', F.log10(F.col('price') + 1))\n",
    "df_cars = df_cars.withColumn('odometer', F.log10(F.col('odometer') + 1))"
   ]
  },
  {
   "cell_type": "code",
   "execution_count": 14,
   "id": "94339dfd",
   "metadata": {
    "execution": {
     "iopub.execute_input": "2022-08-12T11:27:53.787911Z",
     "iopub.status.busy": "2022-08-12T11:27:53.787517Z",
     "iopub.status.idle": "2022-08-12T11:27:53.868058Z",
     "shell.execute_reply": "2022-08-12T11:27:53.866604Z"
    },
    "papermill": {
     "duration": 0.106566,
     "end_time": "2022-08-12T11:27:53.872264",
     "exception": false,
     "start_time": "2022-08-12T11:27:53.765698",
     "status": "completed"
    },
    "tags": []
   },
   "outputs": [],
   "source": [
    "# date column to year and month columns\n",
    "\n",
    "df_cars = df_cars.withColumn('posting_year', F.year(F.col('posting_date')))\n",
    "df_cars = df_cars.withColumn('posting_month', F.month(F.col('posting_date')))\n",
    "\n",
    "df_cars = df_cars.drop('posting_date')"
   ]
  },
  {
   "cell_type": "code",
   "execution_count": 15,
   "id": "7ed59050",
   "metadata": {
    "execution": {
     "iopub.execute_input": "2022-08-12T11:27:53.924691Z",
     "iopub.status.busy": "2022-08-12T11:27:53.923495Z",
     "iopub.status.idle": "2022-08-12T11:28:04.931567Z",
     "shell.execute_reply": "2022-08-12T11:28:04.930166Z"
    },
    "papermill": {
     "duration": 11.033317,
     "end_time": "2022-08-12T11:28:04.935078",
     "exception": false,
     "start_time": "2022-08-12T11:27:53.901761",
     "status": "completed"
    },
    "tags": []
   },
   "outputs": [
    {
     "name": "stderr",
     "output_type": "stream",
     "text": [
      "[Stage 5:>                                                          (0 + 1) / 1]\r"
     ]
    },
    {
     "name": "stdout",
     "output_type": "stream",
     "text": [
      "+-------+------------------+------------------+------------------+-----------------+------------------+\n",
      "|summary|             price|              year|          odometer|              lat|              long|\n",
      "+-------+------------------+------------------+------------------+-----------------+------------------+\n",
      "|  count|            426582|            425377|            422182|           365481|            367830|\n",
      "|   mean|3.7736931253525903|2011.2356544900172| 4.745384684351896|38.27485954294108|-92.92308876290198|\n",
      "| stddev|1.2051273580604176|   9.4529441236719|0.7163314827973487|5.757416442913367| 20.91019012781645|\n",
      "|    min|               0.0|              1900|               0.0|       -84.122246|        -159.82773|\n",
      "|    25%|3.7709256146389993|              2008| 4.576064788225377|          34.4329|           -106.62|\n",
      "|    50%| 4.144605338714745|              2013| 4.932067692200722|          39.0278|        -87.322266|\n",
      "|    75%| 4.422524181905646|              2017|5.1256081197175325|        42.201077|         -80.32242|\n",
      "|    max| 9.572514813054259|              2022| 7.000000043429446|        82.390816|          173.8855|\n",
      "+-------+------------------+------------------+------------------+-----------------+------------------+\n",
      "\n"
     ]
    },
    {
     "name": "stderr",
     "output_type": "stream",
     "text": [
      "                                                                                \r"
     ]
    }
   ],
   "source": [
    "df_cars.select('price', 'year', 'odometer', 'lat', 'long').summary().show()"
   ]
  },
  {
   "cell_type": "markdown",
   "id": "099fe6cc",
   "metadata": {
    "execution": {
     "iopub.execute_input": "2022-08-11T15:51:43.569904Z",
     "iopub.status.busy": "2022-08-11T15:51:43.569429Z",
     "iopub.status.idle": "2022-08-11T15:51:43.577226Z",
     "shell.execute_reply": "2022-08-11T15:51:43.576000Z",
     "shell.execute_reply.started": "2022-08-11T15:51:43.569865Z"
    },
    "papermill": {
     "duration": 0.033042,
     "end_time": "2022-08-12T11:28:05.001227",
     "exception": false,
     "start_time": "2022-08-12T11:28:04.968185",
     "status": "completed"
    },
    "tags": []
   },
   "source": [
    "# 9. Data Visualization"
   ]
  },
  {
   "cell_type": "code",
   "execution_count": 16,
   "id": "7a4a6680",
   "metadata": {
    "execution": {
     "iopub.execute_input": "2022-08-12T11:28:05.066533Z",
     "iopub.status.busy": "2022-08-12T11:28:05.066038Z",
     "iopub.status.idle": "2022-08-12T11:28:05.143367Z",
     "shell.execute_reply": "2022-08-12T11:28:05.141762Z"
    },
    "papermill": {
     "duration": 0.114165,
     "end_time": "2022-08-12T11:28:05.146802",
     "exception": false,
     "start_time": "2022-08-12T11:28:05.032637",
     "status": "completed"
    },
    "tags": []
   },
   "outputs": [
    {
     "name": "stdout",
     "output_type": "stream",
     "text": [
      "22/08/12 11:28:05 WARN package: Truncated the string representation of a plan since it was too large. This behavior can be adjusted by setting 'spark.sql.debug.maxToStringFields'.\n"
     ]
    }
   ],
   "source": [
    "df_cars.createOrReplaceTempView('cardata')"
   ]
  },
  {
   "cell_type": "markdown",
   "id": "2c727556",
   "metadata": {
    "papermill": {
     "duration": 0.034733,
     "end_time": "2022-08-12T11:28:05.216253",
     "exception": false,
     "start_time": "2022-08-12T11:28:05.181520",
     "status": "completed"
    },
    "tags": []
   },
   "source": [
    "## 9.1. Histogram"
   ]
  },
  {
   "cell_type": "code",
   "execution_count": 17,
   "id": "b224c550",
   "metadata": {
    "execution": {
     "iopub.execute_input": "2022-08-12T11:28:05.287466Z",
     "iopub.status.busy": "2022-08-12T11:28:05.286943Z",
     "iopub.status.idle": "2022-08-12T11:28:15.800864Z",
     "shell.execute_reply": "2022-08-12T11:28:15.799907Z"
    },
    "papermill": {
     "duration": 10.55323,
     "end_time": "2022-08-12T11:28:15.803877",
     "exception": false,
     "start_time": "2022-08-12T11:28:05.250647",
     "status": "completed"
    },
    "tags": []
   },
   "outputs": [
    {
     "name": "stderr",
     "output_type": "stream",
     "text": [
      "                                                                                \r"
     ]
    }
   ],
   "source": [
    "df_result = spark.sql('SELECT manufacturer, price FROM cardata WHERE manufacturer IN (\"chevrolet\", \"ford\", \"toyota\")')\n",
    "df_result = df_result.toPandas()"
   ]
  },
  {
   "cell_type": "code",
   "execution_count": 18,
   "id": "31ecb3c5",
   "metadata": {
    "execution": {
     "iopub.execute_input": "2022-08-12T11:28:15.848530Z",
     "iopub.status.busy": "2022-08-12T11:28:15.847777Z",
     "iopub.status.idle": "2022-08-12T11:28:16.694114Z",
     "shell.execute_reply": "2022-08-12T11:28:16.693283Z"
    },
    "papermill": {
     "duration": 0.870638,
     "end_time": "2022-08-12T11:28:16.696263",
     "exception": false,
     "start_time": "2022-08-12T11:28:15.825625",
     "status": "completed"
    },
    "tags": []
   },
   "outputs": [
    {
     "data": {
      "image/png": "[encoded data removed]",
      "text/plain": [
       "<Figure size 576x288 with 1 Axes>"
      ]
     },
     "metadata": {
      "needs_background": "light"
     },
     "output_type": "display_data"
    }
   ],
   "source": [
    "fig, ax = plt.subplots(1, 1, figsize=(8, 4))\n",
    "\n",
    "_ = sns.histplot(data=df_result, x='price', hue='manufacturer', binwidth=0.2, ax=ax)\n",
    "\n",
    "plt.show()"
   ]
  },
  {
   "cell_type": "markdown",
   "id": "88d0cc21",
   "metadata": {
    "papermill": {
     "duration": 0.022225,
     "end_time": "2022-08-12T11:28:16.740670",
     "exception": false,
     "start_time": "2022-08-12T11:28:16.718445",
     "status": "completed"
    },
    "tags": []
   },
   "source": [
    "## 9.2. Scatter Plot"
   ]
  },
  {
   "cell_type": "code",
   "execution_count": 19,
   "id": "83e00f84",
   "metadata": {
    "execution": {
     "iopub.execute_input": "2022-08-12T11:28:16.786554Z",
     "iopub.status.busy": "2022-08-12T11:28:16.785673Z",
     "iopub.status.idle": "2022-08-12T11:28:28.334920Z",
     "shell.execute_reply": "2022-08-12T11:28:28.333747Z"
    },
    "papermill": {
     "duration": 11.575091,
     "end_time": "2022-08-12T11:28:28.337776",
     "exception": false,
     "start_time": "2022-08-12T11:28:16.762685",
     "status": "completed"
    },
    "tags": []
   },
   "outputs": [
    {
     "name": "stderr",
     "output_type": "stream",
     "text": [
      "                                                                                \r"
     ]
    }
   ],
   "source": [
    "df_result = spark.sql('SELECT condition, odometer, price FROM cardata')\n",
    "df_result = df_result.toPandas()"
   ]
  },
  {
   "cell_type": "code",
   "execution_count": 20,
   "id": "e44f21e5",
   "metadata": {
    "execution": {
     "iopub.execute_input": "2022-08-12T11:28:28.383820Z",
     "iopub.status.busy": "2022-08-12T11:28:28.382961Z",
     "iopub.status.idle": "2022-08-12T11:28:38.474172Z",
     "shell.execute_reply": "2022-08-12T11:28:38.472957Z"
    },
    "papermill": {
     "duration": 10.117435,
     "end_time": "2022-08-12T11:28:38.477201",
     "exception": false,
     "start_time": "2022-08-12T11:28:28.359766",
     "status": "completed"
    },
    "tags": []
   },
   "outputs": [
    {
     "data": {
      "image/png": "[encoded data removed]",
      "text/plain": [
       "<Figure size 432x432 with 1 Axes>"
      ]
     },
     "metadata": {
      "needs_background": "light"
     },
     "output_type": "display_data"
    }
   ],
   "source": [
    "fig, ax = plt.subplots(1, 1, figsize=(6, 6))\n",
    "\n",
    "_ = sns.scatterplot(data=df_result, x='odometer', y='price', hue='condition', ax=ax, s=1)\n",
    "\n",
    "plt.show()"
   ]
  },
  {
   "cell_type": "markdown",
   "id": "0d5240eb",
   "metadata": {
    "papermill": {
     "duration": 0.023144,
     "end_time": "2022-08-12T11:28:38.524171",
     "exception": false,
     "start_time": "2022-08-12T11:28:38.501027",
     "status": "completed"
    },
    "tags": []
   },
   "source": [
    "## 9.3. Pie Chart"
   ]
  },
  {
   "cell_type": "code",
   "execution_count": 21,
   "id": "693b7cf9",
   "metadata": {
    "execution": {
     "iopub.execute_input": "2022-08-12T11:28:38.573282Z",
     "iopub.status.busy": "2022-08-12T11:28:38.572523Z",
     "iopub.status.idle": "2022-08-12T11:28:48.699828Z",
     "shell.execute_reply": "2022-08-12T11:28:48.698461Z"
    },
    "papermill": {
     "duration": 10.15465,
     "end_time": "2022-08-12T11:28:48.702372",
     "exception": false,
     "start_time": "2022-08-12T11:28:38.547722",
     "status": "completed"
    },
    "tags": []
   },
   "outputs": [
    {
     "name": "stderr",
     "output_type": "stream",
     "text": [
      "                                                                                \r"
     ]
    }
   ],
   "source": [
    "df_result = spark.sql('SELECT condition FROM cardata')\n",
    "df_result = df_result.toPandas()"
   ]
  },
  {
   "cell_type": "code",
   "execution_count": 22,
   "id": "aa78b0dd",
   "metadata": {
    "execution": {
     "iopub.execute_input": "2022-08-12T11:28:48.751584Z",
     "iopub.status.busy": "2022-08-12T11:28:48.750884Z",
     "iopub.status.idle": "2022-08-12T11:28:48.894664Z",
     "shell.execute_reply": "2022-08-12T11:28:48.893439Z"
    },
    "papermill": {
     "duration": 0.172936,
     "end_time": "2022-08-12T11:28:48.898879",
     "exception": false,
     "start_time": "2022-08-12T11:28:48.725943",
     "status": "completed"
    },
    "tags": []
   },
   "outputs": [
    {
     "data": {
      "image/png": "[encoded data removed]",
      "text/plain": [
       "<Figure size 432x432 with 1 Axes>"
      ]
     },
     "metadata": {},
     "output_type": "display_data"
    }
   ],
   "source": [
    "fig, ax = plt.subplots(1, 1, figsize=(6, 6))\n",
    "\n",
    "data = df_result['condition'].value_counts().nlargest(4)\n",
    "colors = sns.color_palette('pastel')\n",
    "\n",
    "plt.pie(data.values, labels=data.index, colors=colors, autopct='%.0f%%')\n",
    "plt.show()"
   ]
  },
  {
   "cell_type": "markdown",
   "id": "f96b0335",
   "metadata": {
    "papermill": {
     "duration": 0.027063,
     "end_time": "2022-08-12T11:28:48.987284",
     "exception": false,
     "start_time": "2022-08-12T11:28:48.960221",
     "status": "completed"
    },
    "tags": []
   },
   "source": [
    "# 10. Category Dropping\n",
    "## * Some columns have too much categories, let's drop infrequent ones"
   ]
  },
  {
   "cell_type": "code",
   "execution_count": 23,
   "id": "fa4bfc33",
   "metadata": {
    "execution": {
     "iopub.execute_input": "2022-08-12T11:28:49.037295Z",
     "iopub.status.busy": "2022-08-12T11:28:49.036148Z",
     "iopub.status.idle": "2022-08-12T11:28:49.042978Z",
     "shell.execute_reply": "2022-08-12T11:28:49.041567Z"
    },
    "papermill": {
     "duration": 0.0344,
     "end_time": "2022-08-12T11:28:49.045268",
     "exception": false,
     "start_time": "2022-08-12T11:28:49.010868",
     "status": "completed"
    },
    "tags": []
   },
   "outputs": [],
   "source": [
    "num_cols = ['year', 'odometer', 'lat', 'long', 'posting_year', 'posting_month']\n",
    "\n",
    "cat_cols = ['region', 'manufacturer', 'model', 'condition', \\\n",
    "            'cylinders', 'fuel', 'title_status', 'transmission',\\\n",
    "           'VIN', 'drive', 'size', 'type', 'paint_color', 'county', 'state']"
   ]
  },
  {
   "cell_type": "code",
   "execution_count": 24,
   "id": "a87a0ca3",
   "metadata": {
    "execution": {
     "iopub.execute_input": "2022-08-12T11:28:49.095110Z",
     "iopub.status.busy": "2022-08-12T11:28:49.093926Z",
     "iopub.status.idle": "2022-08-12T11:30:56.786868Z",
     "shell.execute_reply": "2022-08-12T11:30:56.785391Z"
    },
    "papermill": {
     "duration": 127.721492,
     "end_time": "2022-08-12T11:30:56.790456",
     "exception": false,
     "start_time": "2022-08-12T11:28:49.068964",
     "status": "completed"
    },
    "tags": []
   },
   "outputs": [
    {
     "name": "stderr",
     "output_type": "stream",
     "text": [
      "                                                                                \r"
     ]
    }
   ],
   "source": [
    "n = 32\n",
    "\n",
    "for col in cat_cols:\n",
    "    most_freq = df_cars.groupBy(col).count().orderBy('count', ascending=False).take(n - 1)\n",
    "    most_freq = spark.createDataFrame(most_freq).toPandas()\n",
    "    most_freq = most_freq[col].tolist()\n",
    "\n",
    "    df_cars = df_cars.withColumn(col, F.when(F.col(col).isin(most_freq), F.col(col)))"
   ]
  },
  {
   "cell_type": "markdown",
   "id": "30a668c2",
   "metadata": {
    "papermill": {
     "duration": 0.025242,
     "end_time": "2022-08-12T11:30:56.843113",
     "exception": false,
     "start_time": "2022-08-12T11:30:56.817871",
     "status": "completed"
    },
    "tags": []
   },
   "source": [
    "# 11. Imputation"
   ]
  },
  {
   "cell_type": "markdown",
   "id": "b5555518",
   "metadata": {
    "papermill": {
     "duration": 0.026727,
     "end_time": "2022-08-12T11:30:56.896500",
     "exception": false,
     "start_time": "2022-08-12T11:30:56.869773",
     "status": "completed"
    },
    "tags": []
   },
   "source": [
    "## 11.1. On Numeric Columns"
   ]
  },
  {
   "cell_type": "code",
   "execution_count": 25,
   "id": "c17b3561",
   "metadata": {
    "execution": {
     "iopub.execute_input": "2022-08-12T11:30:56.953295Z",
     "iopub.status.busy": "2022-08-12T11:30:56.952503Z",
     "iopub.status.idle": "2022-08-12T11:31:08.014984Z",
     "shell.execute_reply": "2022-08-12T11:31:08.013705Z"
    },
    "papermill": {
     "duration": 11.094556,
     "end_time": "2022-08-12T11:31:08.019191",
     "exception": false,
     "start_time": "2022-08-12T11:30:56.924635",
     "status": "completed"
    },
    "tags": []
   },
   "outputs": [
    {
     "name": "stderr",
     "output_type": "stream",
     "text": [
      "                                                                                \r"
     ]
    }
   ],
   "source": [
    "imputer = Imputer(inputCols=num_cols, outputCols=num_cols, strategy='mean')\n",
    "model = imputer.fit(df_cars)\n",
    "df_cars = model.transform(df_cars)"
   ]
  },
  {
   "cell_type": "markdown",
   "id": "908d7a19",
   "metadata": {
    "execution": {
     "iopub.execute_input": "2022-08-11T18:12:25.201610Z",
     "iopub.status.busy": "2022-08-11T18:12:25.200331Z",
     "iopub.status.idle": "2022-08-11T18:12:25.384072Z",
     "shell.execute_reply": "2022-08-11T18:12:25.382699Z",
     "shell.execute_reply.started": "2022-08-11T18:12:25.201544Z"
    },
    "papermill": {
     "duration": 0.040964,
     "end_time": "2022-08-12T11:31:08.100897",
     "exception": false,
     "start_time": "2022-08-12T11:31:08.059933",
     "status": "completed"
    },
    "tags": []
   },
   "source": [
    "## 11.2. On Categorical Columns"
   ]
  },
  {
   "cell_type": "code",
   "execution_count": 26,
   "id": "9588c57d",
   "metadata": {
    "execution": {
     "iopub.execute_input": "2022-08-12T11:31:08.182627Z",
     "iopub.status.busy": "2022-08-12T11:31:08.182142Z",
     "iopub.status.idle": "2022-08-12T11:31:08.219807Z",
     "shell.execute_reply": "2022-08-12T11:31:08.218610Z"
    },
    "papermill": {
     "duration": 0.081872,
     "end_time": "2022-08-12T11:31:08.223546",
     "exception": false,
     "start_time": "2022-08-12T11:31:08.141674",
     "status": "completed"
    },
    "tags": []
   },
   "outputs": [],
   "source": [
    "df_cars = df_cars.fillna('unknown', subset=cat_cols)"
   ]
  },
  {
   "cell_type": "markdown",
   "id": "23ae17d7",
   "metadata": {
    "papermill": {
     "duration": 0.043741,
     "end_time": "2022-08-12T11:31:08.310889",
     "exception": false,
     "start_time": "2022-08-12T11:31:08.267148",
     "status": "completed"
    },
    "tags": []
   },
   "source": [
    "# 12. Categorical Column Encoding"
   ]
  },
  {
   "cell_type": "code",
   "execution_count": 27,
   "id": "9df1469f",
   "metadata": {
    "execution": {
     "iopub.execute_input": "2022-08-12T11:31:08.383293Z",
     "iopub.status.busy": "2022-08-12T11:31:08.382908Z",
     "iopub.status.idle": "2022-08-12T11:33:12.743874Z",
     "shell.execute_reply": "2022-08-12T11:33:12.742225Z"
    },
    "papermill": {
     "duration": 124.391697,
     "end_time": "2022-08-12T11:33:12.746638",
     "exception": false,
     "start_time": "2022-08-12T11:31:08.354941",
     "status": "completed"
    },
    "tags": []
   },
   "outputs": [
    {
     "name": "stderr",
     "output_type": "stream",
     "text": [
      "                                                                                \r"
     ]
    }
   ],
   "source": [
    "for col in cat_cols:\n",
    "    indexer = StringIndexer(inputCol=col, outputCol=col+'_idx')\n",
    "    df_cars = indexer.fit(df_cars).transform(df_cars)\n",
    "    \n",
    "df_cars = df_cars.drop(*cat_cols)"
   ]
  },
  {
   "cell_type": "markdown",
   "id": "4e1ce37a",
   "metadata": {
    "papermill": {
     "duration": 0.040292,
     "end_time": "2022-08-12T11:33:12.816175",
     "exception": false,
     "start_time": "2022-08-12T11:33:12.775883",
     "status": "completed"
    },
    "tags": []
   },
   "source": [
    "# 13. Training"
   ]
  },
  {
   "cell_type": "code",
   "execution_count": 28,
   "id": "30a3ed2f",
   "metadata": {
    "execution": {
     "iopub.execute_input": "2022-08-12T11:33:12.900204Z",
     "iopub.status.busy": "2022-08-12T11:33:12.899797Z",
     "iopub.status.idle": "2022-08-12T11:33:13.002376Z",
     "shell.execute_reply": "2022-08-12T11:33:13.001515Z"
    },
    "papermill": {
     "duration": 0.147513,
     "end_time": "2022-08-12T11:33:13.005116",
     "exception": false,
     "start_time": "2022-08-12T11:33:12.857603",
     "status": "completed"
    },
    "tags": []
   },
   "outputs": [],
   "source": [
    "cols = df_cars.columns\n",
    "cols.remove('id')\n",
    "cols.remove('price')\n",
    "\n",
    "assembler = VectorAssembler(inputCols=cols, outputCol='features')\n",
    "\n",
    "df_cars = assembler.transform(df_cars)"
   ]
  },
  {
   "cell_type": "code",
   "execution_count": 29,
   "id": "75320723",
   "metadata": {
    "execution": {
     "iopub.execute_input": "2022-08-12T11:33:13.062287Z",
     "iopub.status.busy": "2022-08-12T11:33:13.061860Z",
     "iopub.status.idle": "2022-08-12T11:33:13.111909Z",
     "shell.execute_reply": "2022-08-12T11:33:13.110764Z"
    },
    "papermill": {
     "duration": 0.081799,
     "end_time": "2022-08-12T11:33:13.114740",
     "exception": false,
     "start_time": "2022-08-12T11:33:13.032941",
     "status": "completed"
    },
    "tags": []
   },
   "outputs": [],
   "source": [
    "df_data = df_cars.select(F.col('features'), F.col('price').alias('label'))\n",
    "df_train, df_test = df_data.randomSplit([0.8, 0.2])"
   ]
  },
  {
   "cell_type": "code",
   "execution_count": 30,
   "id": "2a50833b",
   "metadata": {
    "execution": {
     "iopub.execute_input": "2022-08-12T11:33:13.172249Z",
     "iopub.status.busy": "2022-08-12T11:33:13.171865Z",
     "iopub.status.idle": "2022-08-12T11:33:13.209032Z",
     "shell.execute_reply": "2022-08-12T11:33:13.208112Z"
    },
    "papermill": {
     "duration": 0.068856,
     "end_time": "2022-08-12T11:33:13.211510",
     "exception": false,
     "start_time": "2022-08-12T11:33:13.142654",
     "status": "completed"
    },
    "tags": []
   },
   "outputs": [],
   "source": [
    "classifier = RandomForestRegressor(featuresCol='features', labelCol='label')\n",
    "evaluator = RegressionEvaluator()\n",
    "grid = ParamGridBuilder().build()"
   ]
  },
  {
   "cell_type": "code",
   "execution_count": 31,
   "id": "a3b0de82",
   "metadata": {
    "execution": {
     "iopub.execute_input": "2022-08-12T11:33:13.268779Z",
     "iopub.status.busy": "2022-08-12T11:33:13.268267Z",
     "iopub.status.idle": "2022-08-12T11:39:01.550311Z",
     "shell.execute_reply": "2022-08-12T11:39:01.549049Z"
    },
    "papermill": {
     "duration": 348.313538,
     "end_time": "2022-08-12T11:39:01.552872",
     "exception": false,
     "start_time": "2022-08-12T11:33:13.239334",
     "status": "completed"
    },
    "tags": []
   },
   "outputs": [
    {
     "name": "stderr",
     "output_type": "stream",
     "text": [
      "WARNING: An illegal reflective access operation has occurred\n",
      "WARNING: Illegal reflective access by org.apache.spark.util.SizeEstimator$ (file:/opt/conda/lib/python3.7/site-packages/pyspark/jars/spark-core_2.12-3.3.0.jar) to field java.nio.charset.Charset.name\n",
      "WARNING: Please consider reporting this to the maintainers of org.apache.spark.util.SizeEstimator$\n",
      "WARNING: Use --illegal-access=warn to enable warnings of further illegal reflective access operations\n",
      "WARNING: All illegal access operations will be denied in a future release\n",
      "                                                                                \r"
     ]
    }
   ],
   "source": [
    "cv = CrossValidator(estimator=classifier, evaluator=evaluator, estimatorParamMaps=grid, numFolds=5)\n",
    "\n",
    "cv_model = cv.fit(df_train)"
   ]
  },
  {
   "cell_type": "markdown",
   "id": "631b7540",
   "metadata": {
    "papermill": {
     "duration": 0.033256,
     "end_time": "2022-08-12T11:39:01.620798",
     "exception": false,
     "start_time": "2022-08-12T11:39:01.587542",
     "status": "completed"
    },
    "tags": []
   },
   "source": [
    "# 14. Evaluation"
   ]
  },
  {
   "cell_type": "code",
   "execution_count": 32,
   "id": "513c233a",
   "metadata": {
    "execution": {
     "iopub.execute_input": "2022-08-12T11:39:01.689474Z",
     "iopub.status.busy": "2022-08-12T11:39:01.689028Z",
     "iopub.status.idle": "2022-08-12T11:39:01.697089Z",
     "shell.execute_reply": "2022-08-12T11:39:01.695859Z"
    },
    "papermill": {
     "duration": 0.045382,
     "end_time": "2022-08-12T11:39:01.699586",
     "exception": false,
     "start_time": "2022-08-12T11:39:01.654204",
     "status": "completed"
    },
    "tags": []
   },
   "outputs": [
    {
     "data": {
      "text/plain": [
       "[1.1031136827866834]"
      ]
     },
     "execution_count": 32,
     "metadata": {},
     "output_type": "execute_result"
    }
   ],
   "source": [
    "cv_model.avgMetrics"
   ]
  },
  {
   "cell_type": "code",
   "execution_count": 33,
   "id": "227c9bf8",
   "metadata": {
    "execution": {
     "iopub.execute_input": "2022-08-12T11:39:01.771156Z",
     "iopub.status.busy": "2022-08-12T11:39:01.770381Z",
     "iopub.status.idle": "2022-08-12T11:39:01.880614Z",
     "shell.execute_reply": "2022-08-12T11:39:01.879343Z"
    },
    "papermill": {
     "duration": 0.150006,
     "end_time": "2022-08-12T11:39:01.883677",
     "exception": false,
     "start_time": "2022-08-12T11:39:01.733671",
     "status": "completed"
    },
    "tags": []
   },
   "outputs": [],
   "source": [
    "df_test = cv_model.bestModel.transform(df_test)"
   ]
  },
  {
   "cell_type": "code",
   "execution_count": 34,
   "id": "0b38d1e6",
   "metadata": {
    "execution": {
     "iopub.execute_input": "2022-08-12T11:39:01.953158Z",
     "iopub.status.busy": "2022-08-12T11:39:01.952776Z",
     "iopub.status.idle": "2022-08-12T11:39:18.987128Z",
     "shell.execute_reply": "2022-08-12T11:39:18.985938Z"
    },
    "papermill": {
     "duration": 17.072578,
     "end_time": "2022-08-12T11:39:18.990411",
     "exception": false,
     "start_time": "2022-08-12T11:39:01.917833",
     "status": "completed"
    },
    "tags": []
   },
   "outputs": [
    {
     "name": "stderr",
     "output_type": "stream",
     "text": [
      "[Stage 210:>                                                        (0 + 1) / 1]\r"
     ]
    },
    {
     "name": "stdout",
     "output_type": "stream",
     "text": [
      "+--------------------+------------------+------------------+\n",
      "|            features|             label|        prediction|\n",
      "+--------------------+------------------+------------------+\n",
      "|(21,[0,1,2,3,4,5]...|3.6986224297020978|3.7348331053965125|\n",
      "|(21,[0,1,2,3,4,5]...| 4.204147125212848|3.7348331053965125|\n",
      "|(21,[0,1,2,3,4,5]...| 4.201424437579911|3.7348331053965125|\n",
      "|(21,[0,1,2,3,4,5]...| 3.826139617935915|3.7348331053965125|\n",
      "|(21,[0,1,2,3,4,5]...|4.2767144946302915|3.7348331053965125|\n",
      "+--------------------+------------------+------------------+\n",
      "only showing top 5 rows\n",
      "\n"
     ]
    },
    {
     "name": "stderr",
     "output_type": "stream",
     "text": [
      "                                                                                \r"
     ]
    }
   ],
   "source": [
    "df_test.show(5)"
   ]
  },
  {
   "cell_type": "code",
   "execution_count": 35,
   "id": "9fec87f1",
   "metadata": {
    "execution": {
     "iopub.execute_input": "2022-08-12T11:39:19.060360Z",
     "iopub.status.busy": "2022-08-12T11:39:19.059966Z",
     "iopub.status.idle": "2022-08-12T11:39:36.528518Z",
     "shell.execute_reply": "2022-08-12T11:39:36.527560Z"
    },
    "papermill": {
     "duration": 17.506104,
     "end_time": "2022-08-12T11:39:36.530810",
     "exception": false,
     "start_time": "2022-08-12T11:39:19.024706",
     "status": "completed"
    },
    "tags": []
   },
   "outputs": [
    {
     "name": "stderr",
     "output_type": "stream",
     "text": [
      "                                                                                \r"
     ]
    },
    {
     "data": {
      "text/plain": [
       "1.1114902579919188"
      ]
     },
     "execution_count": 35,
     "metadata": {},
     "output_type": "execute_result"
    }
   ],
   "source": [
    "RegressionEvaluator(predictionCol='prediction', labelCol='label').evaluate(df_test)"
   ]
  },
  {
   "cell_type": "markdown",
   "id": "fb006c7d",
   "metadata": {
    "papermill": {
     "duration": 0.03386,
     "end_time": "2022-08-12T11:39:36.598759",
     "exception": false,
     "start_time": "2022-08-12T11:39:36.564899",
     "status": "completed"
    },
    "tags": []
   },
   "source": [
    "# 15. Single Sample Prediction"
   ]
  },
  {
   "cell_type": "code",
   "execution_count": 36,
   "id": "545b71ca",
   "metadata": {
    "execution": {
     "iopub.execute_input": "2022-08-12T11:39:36.668332Z",
     "iopub.status.busy": "2022-08-12T11:39:36.667670Z",
     "iopub.status.idle": "2022-08-12T11:40:08.977205Z",
     "shell.execute_reply": "2022-08-12T11:40:08.975782Z"
    },
    "papermill": {
     "duration": 32.38226,
     "end_time": "2022-08-12T11:40:09.014972",
     "exception": false,
     "start_time": "2022-08-12T11:39:36.632712",
     "status": "completed"
    },
    "tags": []
   },
   "outputs": [
    {
     "name": "stderr",
     "output_type": "stream",
     "text": [
      "[Stage 213:>                                                        (0 + 1) / 1]\r"
     ]
    },
    {
     "name": "stdout",
     "output_type": "stream",
     "text": [
      "prediction: 3.7348331053965125, ground truth: 3.6986224297020978\n"
     ]
    },
    {
     "name": "stderr",
     "output_type": "stream",
     "text": [
      "                                                                                \r"
     ]
    }
   ],
   "source": [
    "X_test, y_test = df_test.head().features, df_test.head().label\n",
    "y_pred = cv_model.bestModel.predict(X_test)\n",
    "\n",
    "print(f'prediction: {y_pred}, ground truth: {y_test}')"
   ]
  },
  {
   "cell_type": "code",
   "execution_count": null,
   "id": "a094bff8",
   "metadata": {
    "papermill": {
     "duration": 0.033956,
     "end_time": "2022-08-12T11:40:09.084153",
     "exception": false,
     "start_time": "2022-08-12T11:40:09.050197",
     "status": "completed"
    },
    "tags": []
   },
   "outputs": [],
   "source": []
  }
 ],
 "metadata": {
  "kernelspec": {
   "display_name": "Python 3",
   "language": "python",
   "name": "python3"
  },
  "language_info": {
   "codemirror_mode": {
    "name": "ipython",
    "version": 3
   },
   "file_extension": ".py",
   "mimetype": "text/x-python",
   "name": "python",
   "nbconvert_exporter": "python",
   "pygments_lexer": "ipython3",
   "version": "3.7.12"
  },
  "papermill": {
   "default_parameters": {},
   "duration": 852.581446,
   "end_time": "2022-08-12T11:40:11.743376",
   "environment_variables": {},
   "exception": null,
   "input_path": "__notebook__.ipynb",
   "output_path": "__notebook__.ipynb",
   "parameters": {},
   "start_time": "2022-08-12T11:25:59.161930",
   "version": "2.3.4"
  }
 },
 "nbformat": 4,
 "nbformat_minor": 5
}
