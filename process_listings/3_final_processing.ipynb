{
 "cells": [
  {
   "cell_type": "markdown",
   "id": "11597533",
   "metadata": {},
   "source": [
    "# Final Processing"
   ]
  },
  {
   "cell_type": "markdown",
   "id": "e02f974d",
   "metadata": {},
   "source": [
    "ACCRE session info\n",
    "- 8 cores\n",
    "- 240GB memory\n",
    "- Anaconda3/2021.05\n",
    "- any arch"
   ]
  },
  {
   "cell_type": "markdown",
   "id": "f63e379b",
   "metadata": {},
   "source": [
    "## Environment and Data"
   ]
  },
  {
   "cell_type": "code",
   "execution_count": null,
   "id": "e8300d02",
   "metadata": {},
   "outputs": [],
   "source": [
    "import pandas as pd\n",
    "import pyarrow\n"
   ]
  },
  {
   "cell_type": "code",
   "execution_count": null,
   "id": "3a2d8e71",
   "metadata": {},
   "outputs": [],
   "source": [
    "# read parquets\n",
    "input_dir = \"/data/p_dsi/capstone_projects/shea/2_deduped\"\n",
    "df = pd.read_parquet(input_dir)\n",
    "print(df.shape)\n"
   ]
  },
  {
   "cell_type": "markdown",
   "id": "2393868e",
   "metadata": {},
   "source": [
    "## Duplicate Handling"
   ]
  },
  {
   "cell_type": "code",
   "execution_count": null,
   "id": "67863a99",
   "metadata": {},
   "outputs": [],
   "source": [
    "# unique vin count\n",
    "df[\"vin\"].nunique()\n"
   ]
  },
  {
   "cell_type": "code",
   "execution_count": null,
   "id": "2f519719",
   "metadata": {},
   "outputs": [],
   "source": []
  },
  {
   "cell_type": "code",
   "execution_count": null,
   "id": "29ccf935",
   "metadata": {},
   "outputs": [],
   "source": []
  },
  {
   "cell_type": "markdown",
   "id": "5e75d25f",
   "metadata": {},
   "source": [
    "## Variable Transformations"
   ]
  },
  {
   "cell_type": "code",
   "execution_count": null,
   "id": "8b01aa27",
   "metadata": {},
   "outputs": [],
   "source": [
    "# replace listed_options [\"None\"] with None\n",
    "df.loc[df[\"listed_options\"].apply(lambda x: x[0]) == \"None\",\"listed_options\"] = None\n"
   ]
  },
  {
   "cell_type": "code",
   "execution_count": null,
   "id": "136de994",
   "metadata": {},
   "outputs": [],
   "source": [
    "# unnest hvf_options\n"
   ]
  },
  {
   "cell_type": "code",
   "execution_count": null,
   "id": "657277d5",
   "metadata": {},
   "outputs": [],
   "source": [
    "# replace hvf_standard and hvf_options [] with None\n",
    "df.loc[df[\"hvf_standard\"].str.len() == 0,\"hvf_standard\"] = None\n",
    "df.loc[df[\"hvf_optional\"].str.len() == 0,\"hvf_standard\"] = None"
   ]
  },
  {
   "cell_type": "markdown",
   "id": "9e40ef50",
   "metadata": {},
   "source": [
    "## Write Out"
   ]
  },
  {
   "cell_type": "code",
   "execution_count": null,
   "id": "5a1ae118",
   "metadata": {},
   "outputs": [],
   "source": [
    "# split away unstructured features\n",
    "unstructured_cols = [\"seller_comments\",\"listed_options\"]\n",
    "structured_cols = df.columns.remove(unstructured_cols)\n"
   ]
  },
  {
   "cell_type": "code",
   "execution_count": null,
   "id": "7d7e3ad3",
   "metadata": {},
   "outputs": [],
   "source": [
    "# save separately\n",
    "df[unstructured_cols].to_parquet()\n",
    "df[structured_cols].to_parquet()\n"
   ]
  }
 ],
 "metadata": {
  "kernelspec": {
   "display_name": "Python 3",
   "language": "python",
   "name": "python3"
  },
  "language_info": {
   "codemirror_mode": {
    "name": "ipython",
    "version": 3
   },
   "file_extension": ".py",
   "mimetype": "text/x-python",
   "name": "python",
   "nbconvert_exporter": "python",
   "pygments_lexer": "ipython3",
   "version": "3.8.8"
  }
 },
 "nbformat": 4,
 "nbformat_minor": 5
}
