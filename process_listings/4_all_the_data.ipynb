{
 "cells": [
  {
   "cell_type": "code",
   "execution_count": 1,
   "id": "7c730600",
   "metadata": {},
   "outputs": [],
   "source": [
    "import pandas as pd\n",
    "import pyarrow\n",
    "import fastparquet as fp\n",
    "from glob import glob"
   ]
  },
  {
   "cell_type": "code",
   "execution_count": 2,
   "id": "723af6bd",
   "metadata": {},
   "outputs": [],
   "source": [
    "def print_shape(df):\n",
    "    print(f\"Rows: {df.shape[0]:,} \\nColumns: {df.shape[1]:,}\")"
   ]
  },
  {
   "cell_type": "code",
   "execution_count": 3,
   "id": "3514251b",
   "metadata": {},
   "outputs": [],
   "source": [
    "def keep_latest(df, dedupe_by_cols, sort_by_cols):\n",
    "    \"\"\"Keep last record for each unique combination of dupe_cols, ordering by sort_cols\"\"\"\n",
    "    df = df.sort_values(sort_by_cols).drop_duplicates(dedupe_by_cols, keep=\"last\")\n",
    "    return df"
   ]
  },
  {
   "cell_type": "markdown",
   "id": "38568043",
   "metadata": {},
   "source": [
    "## Listings"
   ]
  },
  {
   "cell_type": "code",
   "execution_count": 4,
   "id": "2f07015a",
   "metadata": {},
   "outputs": [],
   "source": [
    "# listing files\n",
    "listings_dir = \"/data/p_dsi/capstone_projects/shea/3_final/\"\n",
    "file_pattern = \"*_dataset_structured.pkl\""
   ]
  },
  {
   "cell_type": "code",
   "execution_count": 5,
   "id": "76cda089",
   "metadata": {},
   "outputs": [],
   "source": [
    "listings_files = glob(listings_dir + file_pattern)"
   ]
  },
  {
   "cell_type": "code",
   "execution_count": 6,
   "id": "3d94a462",
   "metadata": {},
   "outputs": [
    {
     "name": "stdout",
     "output_type": "stream",
     "text": [
      "Rows: 18,333,814 \n",
      "Columns: 36\n"
     ]
    }
   ],
   "source": [
    "# read in listings\n",
    "dataframes = []\n",
    "for file in listings_files:\n",
    "    df = pd.read_pickle(file)\n",
    "    dataframes.append(df)\n",
    "\n",
    "listings = pd.concat(dataframes)\n",
    "print_shape(listings)"
   ]
  },
  {
   "cell_type": "code",
   "execution_count": 7,
   "id": "adbfc297",
   "metadata": {},
   "outputs": [
    {
     "data": {
      "text/plain": [
       "Index(['vin', 'price', 'miles', 'year', 'make', 'model', 'trim',\n",
       "       'vehicle_type', 'body_type', 'body_subtype', 'drivetrain', 'fuel_type',\n",
       "       'engine_block', 'engine_size', 'transmission', 'doors', 'cylinders',\n",
       "       'city_mpg', 'highway_mpg', 'base_exterior_color', 'base_interior_color',\n",
       "       'is_certified', 'is_transfer', 'scraped_at', 'status_date',\n",
       "       'first_scraped_at', 'city', 'zip', 'latitude', 'longitude',\n",
       "       'dealer_type', 'currency_indicator', 'miles_indicator',\n",
       "       'photo_links_count', 'hvf_standard', 'hvf_optional'],\n",
       "      dtype='object')"
      ]
     },
     "execution_count": 7,
     "metadata": {},
     "output_type": "execute_result"
    }
   ],
   "source": [
    "listings.columns"
   ]
  },
  {
   "cell_type": "markdown",
   "id": "13063466",
   "metadata": {},
   "source": [
    "## Registrations"
   ]
  },
  {
   "cell_type": "code",
   "execution_count": 8,
   "id": "6ba8aa7f",
   "metadata": {},
   "outputs": [],
   "source": [
    "# registrations path\n",
    "registration_dir = \"/data/p_dsi/capstone_projects/shea/registrations/\""
   ]
  },
  {
   "cell_type": "markdown",
   "id": "bcb930b8",
   "metadata": {},
   "source": [
    "### Texas"
   ]
  },
  {
   "cell_type": "code",
   "execution_count": 9,
   "id": "06447c20",
   "metadata": {},
   "outputs": [
    {
     "name": "stdout",
     "output_type": "stream",
     "text": [
      "Rows: 22,726,694 \n",
      "Columns: 7\n"
     ]
    },
    {
     "data": {
      "text/plain": [
       "vin                          object\n",
       "mvr_purchase_date    datetime64[ns]\n",
       "mvr_price                   float32\n",
       "mvr_make                   category\n",
       "mvr_mileage                  object\n",
       "mvr_model_year                int16\n",
       "mvr_state                    object\n",
       "dtype: object"
      ]
     },
     "execution_count": 9,
     "metadata": {},
     "output_type": "execute_result"
    }
   ],
   "source": [
    "# texas\n",
    "tx_file = registration_dir + \"tx_mvr_out.parquet\"\n",
    "\n",
    "registrations_tx = fp.ParquetFile(tx_file).to_pandas(\n",
    "    columns=[\"VIN\", \"SALE_DATE\", \"SALES_PRICE\",\"MAKE\",\"ODOMETER_READING\",\"VEHYEAR\"]\n",
    ")\n",
    "\n",
    "# rename columns\n",
    "registrations_tx = registrations_tx.rename(columns={'VIN':'vin'\n",
    "                                                    ,'SALE_DATE':'mvr_purchase_date'\n",
    "                                                    ,'SALES_PRICE':'mvr_price'\n",
    "                                                    ,'MAKE':'mvr_make'\n",
    "                                                    ,'ODOMETER_READING':'mvr_mileage'\n",
    "                                                    ,'VEHYEAR':'mvr_model_year'\n",
    "                                                   })\n",
    "\n",
    "# convert to date type\n",
    "registrations_tx['mvr_purchase_date'] = pd.to_datetime(registrations_tx['mvr_purchase_date'],format=\"\\'%Y-%m-%d\\'\")\n",
    "\n",
    "\n",
    "# dedupe vin by date\n",
    "registrations_tx = keep_latest(registrations_tx, [\"vin\"], [\"mvr_purchase_date\"])\n",
    "\n",
    "# add state\n",
    "registrations_tx[\"mvr_state\"] = \"TX\"\n",
    "\n",
    "# final\n",
    "print_shape(registrations_tx)\n",
    "registrations_tx.dtypes"
   ]
  },
  {
   "cell_type": "markdown",
   "id": "d783b139",
   "metadata": {},
   "source": [
    "### Ohio"
   ]
  },
  {
   "cell_type": "code",
   "execution_count": 10,
   "id": "7f76aab0",
   "metadata": {},
   "outputs": [
    {
     "name": "stdout",
     "output_type": "stream",
     "text": [
      "Rows: 13,422,774 \n",
      "Columns: 7\n"
     ]
    },
    {
     "data": {
      "text/plain": [
       "vin                          object\n",
       "mvr_purchase_date    datetime64[ns]\n",
       "mvr_price                   float32\n",
       "mvr_make                   category\n",
       "mvr_mileage                 float32\n",
       "mvr_model_year                int16\n",
       "mvr_state                    object\n",
       "dtype: object"
      ]
     },
     "execution_count": 10,
     "metadata": {},
     "output_type": "execute_result"
    }
   ],
   "source": [
    "# ohio\n",
    "oh_file = registration_dir + \"oh_mvr_out.parquet\"\n",
    "\n",
    "registrations_oh = fp.ParquetFile(oh_file).to_pandas(\n",
    "    columns=['VIN','PurchaseDate','PurchasePrice','Make','Mileage','Year']\n",
    ")\n",
    "\n",
    "# rename columns\n",
    "registrations_oh = registrations_oh.rename(columns={'VIN':'vin'\n",
    "                                                    ,'PurchaseDate':'mvr_purchase_date'\n",
    "                                                    ,'PurchasePrice':'mvr_price'\n",
    "                                                    ,'Make':'mvr_make'\n",
    "                                                    ,'Mileage':'mvr_mileage'\n",
    "                                                    ,'Year':'mvr_model_year'\n",
    "                                                   })\n",
    "\n",
    "# convert to date type\n",
    "registrations_oh['mvr_purchase_date'] = pd.to_datetime(registrations_oh['mvr_purchase_date'],format=\"%Y-%m-%d\")\n",
    "\n",
    "# dedupe vin by date\n",
    "registrations_oh = keep_latest(registrations_oh, [\"vin\"], [\"mvr_purchase_date\"])\n",
    "\n",
    "# add state\n",
    "registrations_oh[\"mvr_state\"] = \"OH\"\n",
    "\n",
    "# final\n",
    "print_shape(registrations_oh)\n",
    "registrations_oh.dtypes"
   ]
  },
  {
   "cell_type": "markdown",
   "id": "5c41a423",
   "metadata": {},
   "source": [
    "### Tennessee"
   ]
  },
  {
   "cell_type": "code",
   "execution_count": 11,
   "id": "1b63113e",
   "metadata": {
    "scrolled": true
   },
   "outputs": [
    {
     "name": "stdout",
     "output_type": "stream",
     "text": [
      "Rows: 7,558,173 \n",
      "Columns: 7\n"
     ]
    },
    {
     "data": {
      "text/plain": [
       "vin                          object\n",
       "mvr_purchase_date    datetime64[ns]\n",
       "mvr_price                   float32\n",
       "mvr_make                     object\n",
       "mvr_mileage                   Int32\n",
       "mvr_model_year                int16\n",
       "mvr_state                    object\n",
       "dtype: object"
      ]
     },
     "execution_count": 11,
     "metadata": {},
     "output_type": "execute_result"
    }
   ],
   "source": [
    "tn_file = registration_dir + \"tn_mvr.parquet\"\n",
    "\n",
    "registrations_tn = fp.ParquetFile(tn_file).to_pandas(\n",
    "    columns=['vin','purchase_date','price','make','mileage','model_year']\n",
    ")\n",
    "\n",
    "# rename columns\n",
    "registrations_tn = registrations_tn.rename(columns={'vin':'vin'\n",
    "                                                    ,'purchase_date':'mvr_purchase_date'\n",
    "                                                    ,'price':'mvr_price'\n",
    "                                                    ,'make':'mvr_make'\n",
    "                                                    ,'mileage':'mvr_mileage'\n",
    "                                                    ,'model_year':'mvr_model_year'\n",
    "                                                   })\n",
    "\n",
    "# convert to date type\n",
    "registrations_tn['mvr_purchase_date'] = pd.to_datetime(registrations_tn['mvr_purchase_date'],format=\"%Y-%m-%d\", errors=\"coerce\")\n",
    "registrations_tn['mvr_model_year'] = registrations_tn['mvr_model_year'].astype('int16')\n",
    "\n",
    "# dedupe vin by date\n",
    "registrations_tn = keep_latest(registrations_tn, [\"vin\"], [\"mvr_purchase_date\"])\n",
    "\n",
    "# add state\n",
    "registrations_tn[\"mvr_state\"] = \"TN\"\n",
    "\n",
    "# final\n",
    "print_shape(registrations_tn)\n",
    "registrations_tn.dtypes"
   ]
  },
  {
   "cell_type": "markdown",
   "id": "cbb3fc0d",
   "metadata": {},
   "source": [
    "### Stack"
   ]
  },
  {
   "cell_type": "code",
   "execution_count": 12,
   "id": "5fcf2b51",
   "metadata": {},
   "outputs": [
    {
     "name": "stdout",
     "output_type": "stream",
     "text": [
      "Rows: 43,707,641 \n",
      "Columns: 7\n"
     ]
    },
    {
     "data": {
      "text/plain": [
       "vin                          object\n",
       "mvr_purchase_date    datetime64[ns]\n",
       "mvr_price                   float32\n",
       "mvr_make                     object\n",
       "mvr_mileage                  object\n",
       "mvr_model_year                int16\n",
       "mvr_state                    object\n",
       "dtype: object"
      ]
     },
     "execution_count": 12,
     "metadata": {},
     "output_type": "execute_result"
    }
   ],
   "source": [
    "# stack all registrations\n",
    "registrations = pd.concat([registrations_tx, registrations_oh, registrations_tn])\n",
    "print_shape(registrations)\n",
    "registrations.dtypes"
   ]
  },
  {
   "cell_type": "markdown",
   "id": "82a6e5df",
   "metadata": {},
   "source": [
    "## Merge"
   ]
  },
  {
   "cell_type": "code",
   "execution_count": 13,
   "id": "2b37cd37",
   "metadata": {},
   "outputs": [
    {
     "name": "stdout",
     "output_type": "stream",
     "text": [
      "Rows: 18,333,814 \n",
      "Columns: 36\n"
     ]
    }
   ],
   "source": [
    "print_shape(listings)"
   ]
  },
  {
   "cell_type": "code",
   "execution_count": 14,
   "id": "a45fb219",
   "metadata": {},
   "outputs": [
    {
     "name": "stdout",
     "output_type": "stream",
     "text": [
      "Rows: 43,707,641 \n",
      "Columns: 7\n"
     ]
    }
   ],
   "source": [
    "print_shape(registrations)"
   ]
  },
  {
   "cell_type": "code",
   "execution_count": 15,
   "id": "f0bf3542",
   "metadata": {},
   "outputs": [
    {
     "data": {
      "text/plain": [
       "Index(['vin', 'price', 'miles', 'year', 'make', 'model', 'trim',\n",
       "       'vehicle_type', 'body_type', 'body_subtype', 'drivetrain', 'fuel_type',\n",
       "       'engine_block', 'engine_size', 'transmission', 'doors', 'cylinders',\n",
       "       'city_mpg', 'highway_mpg', 'base_exterior_color', 'base_interior_color',\n",
       "       'is_certified', 'is_transfer', 'scraped_at', 'status_date',\n",
       "       'first_scraped_at', 'city', 'zip', 'latitude', 'longitude',\n",
       "       'dealer_type', 'currency_indicator', 'miles_indicator',\n",
       "       'photo_links_count', 'hvf_standard', 'hvf_optional'],\n",
       "      dtype='object')"
      ]
     },
     "execution_count": 15,
     "metadata": {},
     "output_type": "execute_result"
    }
   ],
   "source": [
    "listings.columns"
   ]
  },
  {
   "cell_type": "code",
   "execution_count": 16,
   "id": "43a3ffc3",
   "metadata": {},
   "outputs": [
    {
     "data": {
      "text/plain": [
       "Index(['vin', 'mvr_purchase_date', 'mvr_price', 'mvr_make', 'mvr_mileage',\n",
       "       'mvr_model_year', 'mvr_state'],\n",
       "      dtype='object')"
      ]
     },
     "execution_count": 16,
     "metadata": {},
     "output_type": "execute_result"
    }
   ],
   "source": [
    "registrations.columns"
   ]
  },
  {
   "cell_type": "code",
   "execution_count": 17,
   "id": "7168c0d0",
   "metadata": {},
   "outputs": [
    {
     "name": "stdout",
     "output_type": "stream",
     "text": [
      "Rows: 13,074,852 \n",
      "Columns: 42\n"
     ]
    }
   ],
   "source": [
    "# merge with listings\n",
    "df = listings.merge(registrations, on='vin', how='inner')\n",
    "print_shape(df)"
   ]
  },
  {
   "cell_type": "code",
   "execution_count": 18,
   "id": "a0f5d8c1",
   "metadata": {},
   "outputs": [
    {
     "data": {
      "text/plain": [
       "0.71"
      ]
     },
     "execution_count": 18,
     "metadata": {},
     "output_type": "execute_result"
    }
   ],
   "source": [
    "# listings match rate\n",
    "round(df.shape[0]/listings.shape[0],2)"
   ]
  },
  {
   "cell_type": "code",
   "execution_count": 19,
   "id": "4418a2cc",
   "metadata": {},
   "outputs": [
    {
     "data": {
      "text/plain": [
       "0.3"
      ]
     },
     "execution_count": 19,
     "metadata": {},
     "output_type": "execute_result"
    }
   ],
   "source": [
    "# registrations match rate\n",
    "round(df.shape[0]/registrations.shape[0],2)"
   ]
  },
  {
   "cell_type": "code",
   "execution_count": 22,
   "id": "7e0b730a",
   "metadata": {},
   "outputs": [
    {
     "data": {
      "text/plain": [
       "vin                            object\n",
       "price                         float64\n",
       "miles                         float64\n",
       "year                          float64\n",
       "make                           object\n",
       "model                          object\n",
       "trim                           object\n",
       "vehicle_type                   object\n",
       "body_type                      object\n",
       "body_subtype                   object\n",
       "drivetrain                     object\n",
       "fuel_type                      object\n",
       "engine_block                   object\n",
       "engine_size                    object\n",
       "transmission                   object\n",
       "doors                         float64\n",
       "cylinders                     float64\n",
       "city_mpg                      float64\n",
       "highway_mpg                   float64\n",
       "base_exterior_color            object\n",
       "base_interior_color            object\n",
       "is_certified                  float64\n",
       "is_transfer                   float64\n",
       "scraped_at                     object\n",
       "status_date                    object\n",
       "first_scraped_at               object\n",
       "city                           object\n",
       "zip                            object\n",
       "latitude                      float32\n",
       "longitude                     float32\n",
       "dealer_type                    object\n",
       "currency_indicator             object\n",
       "miles_indicator                object\n",
       "photo_links_count               int32\n",
       "hvf_standard                   object\n",
       "hvf_optional                   object\n",
       "mvr_purchase_date      datetime64[ns]\n",
       "mvr_price                     float32\n",
       "mvr_make                       object\n",
       "mvr_mileage                    object\n",
       "mvr_model_year                  int16\n",
       "mvr_state                      object\n",
       "dtype: object"
      ]
     },
     "execution_count": 22,
     "metadata": {},
     "output_type": "execute_result"
    }
   ],
   "source": [
    "df.dtypes"
   ]
  },
  {
   "cell_type": "code",
   "execution_count": 23,
   "id": "cfc8143d",
   "metadata": {},
   "outputs": [],
   "source": [
    "# write to pickle\n",
    "output_dir = \"/data/p_dsi/capstone_projects/shea/4_merged/\"\n",
    "df.to_pickle(output_dir + \"merged_structured.pkl\")"
   ]
  },
  {
   "cell_type": "code",
   "execution_count": null,
   "id": "bac3e152",
   "metadata": {},
   "outputs": [],
   "source": []
  }
 ],
 "metadata": {
  "kernelspec": {
   "display_name": "Python 3",
   "language": "python",
   "name": "python3"
  },
  "language_info": {
   "codemirror_mode": {
    "name": "ipython",
    "version": 3
   },
   "file_extension": ".py",
   "mimetype": "text/x-python",
   "name": "python",
   "nbconvert_exporter": "python",
   "pygments_lexer": "ipython3",
   "version": "3.8.8"
  }
 },
 "nbformat": 4,
 "nbformat_minor": 5
}
