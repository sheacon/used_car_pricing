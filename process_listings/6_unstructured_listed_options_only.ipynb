{
 "cells": [
  {
   "cell_type": "code",
   "execution_count": 1,
   "id": "662e4fd6",
   "metadata": {},
   "outputs": [
    {
     "name": "stdout",
     "output_type": "stream",
     "text": [
      "              total        used        free      shared  buff/cache   available\r\n",
      "Mem:           251G         13G         86G        1.3G        151G        228G\r\n",
      "Swap:          4.0G        1.6G        2.4G\r\n"
     ]
    }
   ],
   "source": [
    "!free -h"
   ]
  },
  {
   "cell_type": "code",
   "execution_count": 4,
   "id": "24f8f56a",
   "metadata": {},
   "outputs": [],
   "source": [
    "import pandas as pd\n",
    "import pickle"
   ]
  },
  {
   "cell_type": "code",
   "execution_count": 5,
   "id": "ca99e94a",
   "metadata": {},
   "outputs": [],
   "source": [
    "input_dir = \"/data/p_dsi/capstone_projects/shea/4_merged/\""
   ]
  },
  {
   "cell_type": "code",
   "execution_count": 6,
   "id": "760b987a",
   "metadata": {},
   "outputs": [
    {
     "name": "stdout",
     "output_type": "stream",
     "text": [
      "<class 'pandas.core.frame.DataFrame'>\n",
      "Int64Index: 13082606 entries, 0 to 13082605\n",
      "Data columns (total 4 columns):\n",
      " #   Column           Dtype \n",
      "---  ------           ----- \n",
      " 0   vin              object\n",
      " 1   status_date      object\n",
      " 2   seller_comments  object\n",
      " 3   listed_options   object\n",
      "dtypes: object(4)\n",
      "memory usage: 499.1+ MB\n"
     ]
    }
   ],
   "source": [
    "df = pd.read_pickle(input_dir + \"merged_unstructured.pkl\")\n",
    "df.info()"
   ]
  },
  {
   "cell_type": "code",
   "execution_count": 7,
   "id": "9144a46e",
   "metadata": {},
   "outputs": [
    {
     "data": {
      "text/plain": [
       "(11456594, 3)"
      ]
     },
     "execution_count": 7,
     "metadata": {},
     "output_type": "execute_result"
    }
   ],
   "source": [
    "df.drop(\"seller_comments\", axis=1, inplace=True)\n",
    "df = df.dropna().reset_index(drop=True)\n",
    "df.shape"
   ]
  },
  {
   "cell_type": "code",
   "execution_count": 8,
   "id": "fccebe31",
   "metadata": {},
   "outputs": [],
   "source": [
    "df[\"listed_options\"] = df[\"listed_options\"].apply(lambda x: \" \".join(x))"
   ]
  },
  {
   "cell_type": "code",
   "execution_count": 9,
   "id": "fce2af3c",
   "metadata": {},
   "outputs": [],
   "source": [
    "df.to_pickle(input_dir + \"merged_unstructured_listed_options_only.pkl\")"
   ]
  },
  {
   "cell_type": "code",
   "execution_count": null,
   "id": "60555e48",
   "metadata": {},
   "outputs": [],
   "source": []
  },
  {
   "cell_type": "code",
   "execution_count": null,
   "id": "19295e92",
   "metadata": {},
   "outputs": [],
   "source": []
  },
  {
   "cell_type": "code",
   "execution_count": null,
   "id": "c83c6b14",
   "metadata": {},
   "outputs": [],
   "source": []
  }
 ],
 "metadata": {
  "kernelspec": {
   "display_name": "Python 3",
   "language": "python",
   "name": "python3"
  },
  "language_info": {
   "codemirror_mode": {
    "name": "ipython",
    "version": 3
   },
   "file_extension": ".py",
   "mimetype": "text/x-python",
   "name": "python",
   "nbconvert_exporter": "python",
   "pygments_lexer": "ipython3",
   "version": "3.8.8"
  }
 },
 "nbformat": 4,
 "nbformat_minor": 5
}
